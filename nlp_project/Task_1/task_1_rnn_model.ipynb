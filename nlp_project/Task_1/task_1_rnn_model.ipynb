{
 "cells": [
  {
   "cell_type": "markdown",
   "id": "b095f4ef",
   "metadata": {},
   "source": [
    "# Import Necessary Library"
   ]
  },
  {
   "cell_type": "code",
   "execution_count": 1,
   "id": "559c0d62",
   "metadata": {},
   "outputs": [
    {
     "name": "stdout",
     "output_type": "stream",
     "text": [
      "Requirement already satisfied: nlp_utils in /home/sysadm/anaconda3/lib/python3.11/site-packages (0.6.2)\n",
      "Requirement already satisfied: nltk in /home/sysadm/anaconda3/lib/python3.11/site-packages (from nlp_utils) (3.7)\n",
      "Requirement already satisfied: numpy in /home/sysadm/anaconda3/lib/python3.11/site-packages (from nlp_utils) (1.24.3)\n",
      "Requirement already satisfied: micro-toolkit in /home/sysadm/anaconda3/lib/python3.11/site-packages (from nlp_utils) (0.9.0)\n",
      "Requirement already satisfied: click in /home/sysadm/anaconda3/lib/python3.11/site-packages (from nltk->nlp_utils) (8.0.4)\n",
      "Requirement already satisfied: joblib in /home/sysadm/anaconda3/lib/python3.11/site-packages (from nltk->nlp_utils) (1.2.0)\n",
      "Requirement already satisfied: regex>=2021.8.3 in /home/sysadm/anaconda3/lib/python3.11/site-packages (from nltk->nlp_utils) (2022.7.9)\n",
      "Requirement already satisfied: tqdm in /home/sysadm/anaconda3/lib/python3.11/site-packages (from nltk->nlp_utils) (4.65.0)\n",
      "Requirement already satisfied: langid in /home/sysadm/anaconda3/lib/python3.11/site-packages (1.1.6)\n",
      "Requirement already satisfied: numpy in /home/sysadm/anaconda3/lib/python3.11/site-packages (from langid) (1.24.3)\n",
      "Requirement already satisfied: stop-words in /home/sysadm/anaconda3/lib/python3.11/site-packages (2018.7.23)\n",
      "Requirement already satisfied: stop-words in /home/sysadm/anaconda3/lib/python3.11/site-packages (2018.7.23)\n",
      "Requirement already satisfied: indic-transliteration in /home/sysadm/anaconda3/lib/python3.11/site-packages (2.3.52)\n",
      "Requirement already satisfied: backports.functools-lru-cache in /home/sysadm/anaconda3/lib/python3.11/site-packages (from indic-transliteration) (1.6.4)\n",
      "Requirement already satisfied: regex in /home/sysadm/anaconda3/lib/python3.11/site-packages (from indic-transliteration) (2022.7.9)\n",
      "Requirement already satisfied: typer in /home/sysadm/anaconda3/lib/python3.11/site-packages (from indic-transliteration) (0.9.0)\n",
      "Requirement already satisfied: toml in /home/sysadm/anaconda3/lib/python3.11/site-packages (from indic-transliteration) (0.10.2)\n",
      "Requirement already satisfied: roman in /home/sysadm/anaconda3/lib/python3.11/site-packages (from indic-transliteration) (4.1)\n",
      "Requirement already satisfied: click<9.0.0,>=7.1.1 in /home/sysadm/anaconda3/lib/python3.11/site-packages (from typer->indic-transliteration) (8.0.4)\n",
      "Requirement already satisfied: typing-extensions>=3.7.4.3 in /home/sysadm/anaconda3/lib/python3.11/site-packages (from typer->indic-transliteration) (4.6.3)\n"
     ]
    }
   ],
   "source": [
    "import json\n",
    "import nltk\n",
    "\n",
    "!pip install nlp_utils\n",
    "import pandas as pd\n",
    "import numpy as np\n",
    "import torch\n",
    "import pickle\n",
    "import tqdm\n",
    "import random\n",
    "\n",
    "from collections import Counter\n",
    "\n",
    "import string\n",
    "string.punctuation\n",
    "!pip install langid\n",
    "from nltk.tokenize import word_tokenize\n",
    "from nltk.corpus import stopwords\n",
    "import string\n",
    "#nltk.download('punkt')\n",
    "#nltk.download('stopwords')\n",
    "\n",
    "!pip install stop-words\n",
    "!pip install stop-words\n",
    "\n",
    "from stop_words import get_stop_words\n",
    "\n",
    "#!pip install googletrans==4.0.0-rc1\n",
    "!pip install indic-transliteration\n",
    "from indic_transliteration import sanscript\n",
    "\n",
    "# Define the source and target scripts\n",
    "source_script = sanscript.DEVANAGARI\n",
    "target_script = sanscript.ITRANS\n",
    "\n",
    "import pandas as pd\n",
    "from sklearn.feature_extraction.text import CountVectorizer\n",
    "from sklearn.model_selection import train_test_split\n",
    "from sklearn.metrics import classification_report, confusion_matrix\n",
    "import matplotlib.pyplot as plt"
   ]
  },
  {
   "cell_type": "code",
   "execution_count": 2,
   "id": "30399147",
   "metadata": {},
   "outputs": [],
   "source": [
    "from sklearn.metrics import confusion_matrix\n",
    "from sklearn.metrics import accuracy_score\n",
    "\n",
    "import matplotlib.pyplot as plt\n",
    "from sklearn.neighbors import KNeighborsClassifier\n",
    "from sklearn.metrics import confusion_matrix\n",
    "\n",
    "import numpy as np\n",
    "import pandas as pd\n",
    "import matplotlib.pyplot as plt\n",
    "from sklearn.svm import SVC\n",
    "\n",
    "from sklearn.utils import resample\n",
    "\n",
    "from sklearn.linear_model import LogisticRegression\n",
    "from sklearn.model_selection import train_test_split\n",
    "from sklearn.metrics import confusion_matrix, accuracy_score\n",
    "\n",
    "from sklearn.naive_bayes import MultinomialNB"
   ]
  },
  {
   "cell_type": "markdown",
   "id": "1c74ef58",
   "metadata": {},
   "source": [
    "# Open the JSON file"
   ]
  },
  {
   "cell_type": "code",
   "execution_count": 3,
   "id": "712d7cf1",
   "metadata": {},
   "outputs": [],
   "source": [
    "# Open and parse the Training JSON file\n",
    "with open('.//MaSaC_train_erc.json', 'r') as json_file:\n",
    "    train_data = json.load(json_file)"
   ]
  },
  {
   "cell_type": "code",
   "execution_count": 4,
   "id": "2a538a99",
   "metadata": {},
   "outputs": [
    {
     "data": {
      "text/plain": [
       "{'episode': 'roseshantstobeadopted.wmv',\n",
       " 'speakers': ['maya',\n",
       "  'indu',\n",
       "  'rosesh',\n",
       "  'indu',\n",
       "  'maya',\n",
       "  'indu',\n",
       "  'rosesh',\n",
       "  'indu',\n",
       "  'sahil',\n",
       "  'rosesh',\n",
       "  'maya',\n",
       "  'indu',\n",
       "  'sahil',\n",
       "  'monish',\n",
       "  'maya',\n",
       "  'indu',\n",
       "  'maya',\n",
       "  'indu',\n",
       "  'indu',\n",
       "  'maya',\n",
       "  'rosesh',\n",
       "  'maya'],\n",
       " 'utterances': ['kya kya bhar ke rakha hai indravadan ne is ghar mein indravadan please tum sari bekar ki chijen bahar kyon nahin fekte?',\n",
       "  'ok, chalo rosesh chalo bahar',\n",
       "  'momma! hath chhodiye dad!',\n",
       "  'dekho maya ya na bol raha hai! fir tum hi kahogi faltu chijen jama karte ho fekte nahin ho, chalo',\n",
       "  'indravadan, tum kitne salo se ye joke maar rahe ho. koi hota hai aaj tak?',\n",
       "  'kaikai pe joke maroge to manthra thodi na hasegi',\n",
       "  'very funny',\n",
       "  'maya, monisha aur sahil aa rahe hain, dekhna yahi jo un per istemal karta hun aur dekhna vah kitna haste hain',\n",
       "  'hi guys',\n",
       "  'hi',\n",
       "  'hi darling. achcha indravadan, please ya kachra bahar fenko!',\n",
       "  'ok maya, chalo rosesh tumhen bahar fenk au',\n",
       "  'mom! diwali ka lunch hamare ghar pe',\n",
       "  'aur mein khana fresh banane wali hun',\n",
       "  'i rest my case indravadan. hase donon, huh? achcha ab to please kachra bahar fenk do',\n",
       "  'ok maya, chalo monisha tumhe bahar fenk aau',\n",
       "  'ha ha ha, indravadan you are so funny',\n",
       "  'haila, sahil! tumhare diwali lunch per hai na maiya ko keede, makode aur mukhiya khilana',\n",
       "  'kyunki jab maine wahi joke rosesh pe mara to bilkul nahin hasi lekin vahi joke jab maine monisha per mara to dekho kaise has rahi hai!',\n",
       "  'acha now cut it out huh indravadan. rosesh sweety tumhi nikalo na sara kachra bahar',\n",
       "  'ok chaliye dad, mein aapko bahar fenk kar aata hun!',\n",
       "  'haha, you asked for that one. sahil darling tumhi madad kar do please meri. mera ghar to ekadam monisha ka ghar ban gaya hai!'],\n",
       " 'emotions': ['disgust',\n",
       "  'contempt',\n",
       "  'anger',\n",
       "  'neutral',\n",
       "  'neutral',\n",
       "  'contempt',\n",
       "  'contempt',\n",
       "  'neutral',\n",
       "  'joy',\n",
       "  'joy',\n",
       "  'neutral',\n",
       "  'neutral',\n",
       "  'joy',\n",
       "  'joy',\n",
       "  'neutral',\n",
       "  'neutral',\n",
       "  'joy',\n",
       "  'neutral',\n",
       "  'contempt',\n",
       "  'neutral',\n",
       "  'joy',\n",
       "  'contempt']}"
      ]
     },
     "execution_count": 4,
     "metadata": {},
     "output_type": "execute_result"
    }
   ],
   "source": [
    "train_data[0]"
   ]
  },
  {
   "cell_type": "code",
   "execution_count": 5,
   "id": "12b9c0bb",
   "metadata": {},
   "outputs": [],
   "source": [
    "# Open and parse the validation JSON file\n",
    "with open('.//MaSaC_val_erc.json', 'r') as json_file:\n",
    "    validation_data = json.load(json_file)"
   ]
  },
  {
   "cell_type": "code",
   "execution_count": 6,
   "id": "f5897476",
   "metadata": {},
   "outputs": [
    {
     "data": {
      "text/plain": [
       "{'episode': 'roseshantstobeadopted.wmv',\n",
       " 'speakers': ['good rosesh',\n",
       "  'bad rosesh',\n",
       "  'good rosesh',\n",
       "  'bad rosesh',\n",
       "  'good rosesh',\n",
       "  'bad rosesh',\n",
       "  'good rosesh',\n",
       "  'bad rosesh',\n",
       "  'good rosesh',\n",
       "  'rosesh',\n",
       "  'rosesh',\n",
       "  'maya',\n",
       "  'rosesh'],\n",
       " 'utterances': ['ye kya kar raha hai rosesh? bharat tera desh! bhartiya insan hai saccha. kisi ka khat padhna nahin hai achcha.',\n",
       "  'hahaha khat padh le rosesh baby or padhne de hamen bhi. kitna achcha lagta hai balon mein gel, ding dong bell.',\n",
       "  'kavita acchi hai lekin khayal achcha nahin hai, villain rosesh. momma ne kaha hai kisi aur ka khat padhna galat baat hai',\n",
       "  'galat hai, par momma ne tumse kaha tha ki do bar brush karna aur tumne sirf ek bar kiya tha kya vah galat nahin tha?',\n",
       "  'galat tha per',\n",
       "  'momma ne tumse jab green chatni mangi thi aur tumne red pass ki thi kya vah galat nahin tha?',\n",
       "  'wo to galat tha',\n",
       "  'pichhle sal momma ki nayi hair style ostrich jesi thi aur tumne unhen apsara kaha tha kya vah galat nahin tha?',\n",
       "  'han tha tha tha!',\n",
       "  'please please please, tum log jara sophisticated argument karo na varna momma kahenge ki meri antaratma bahut middle class hai. tum log decide kar lo tab tak main yah lifafa khol ke padh leta hun.',\n",
       "  '\"my darling husband indravadan\" yah to momma ki handwriting hai...',\n",
       "  'darling i know ki ham do hamare do is so middle class. isiliye to humne teesra bachcha plan kiya tha haina? lekin present circumstances ko dekh ke i am not so sure. is topic pe main tumse baat nahin kar sakti isiliye khat likh rahi hun, but kya hamen sachmuch mein yah teesra baccha. i am so confused indravadan',\n",
       "  'momma...'],\n",
       " 'emotions': ['neutral',\n",
       "  'neutral',\n",
       "  'neutral',\n",
       "  'contempt',\n",
       "  'neutral',\n",
       "  'contempt',\n",
       "  'neutral',\n",
       "  'contempt',\n",
       "  'neutral',\n",
       "  'neutral',\n",
       "  'neutral',\n",
       "  'sadness',\n",
       "  'sadness']}"
      ]
     },
     "execution_count": 6,
     "metadata": {},
     "output_type": "execute_result"
    }
   ],
   "source": [
    "validation_data[0]"
   ]
  },
  {
   "cell_type": "markdown",
   "id": "9f2543ef",
   "metadata": {},
   "source": [
    "# Total number of episode in Training Data"
   ]
  },
  {
   "cell_type": "code",
   "execution_count": 7,
   "id": "eabf6688",
   "metadata": {},
   "outputs": [
    {
     "name": "stdout",
     "output_type": "stream",
     "text": [
      "Total episode topics: 343\n"
     ]
    }
   ],
   "source": [
    "# Create a list to store  episode names\n",
    "total_episodes_1 = []\n",
    "\n",
    "for conversation in train_data:\n",
    "    episode = conversation[\"episode\"]\n",
    "\n",
    "    # Add the episode name to the set of unique episodes\n",
    "    total_episodes_1.append(episode)\n",
    "\n",
    "\n",
    "# Print the total number of  conversation topics or episodes\n",
    "print(\"Total episode topics:\", len(total_episodes_1))"
   ]
  },
  {
   "cell_type": "raw",
   "id": "64f1adc5-1c05-440c-b1dd-066836d14134",
   "metadata": {},
   "source": [
    "# To view all episode name"
   ]
  },
  {
   "cell_type": "raw",
   "id": "56bfa949-3a04-4152-8125-f78a02c13439",
   "metadata": {},
   "source": [
    "total_episodes_1"
   ]
  },
  {
   "cell_type": "markdown",
   "id": "42fc6dd7",
   "metadata": {},
   "source": [
    "# Distinct Episode name in Training coversation"
   ]
  },
  {
   "cell_type": "code",
   "execution_count": 8,
   "id": "1c77de94",
   "metadata": {},
   "outputs": [
    {
     "name": "stdout",
     "output_type": "stream",
     "text": [
      "Unique episode names: {'roseshantstobeadopted.wmv', 'husbandsdonotcheat.avi', 'mayadoubtsindravardhan.wmv', 'dushyant', 'doggy', 'popatlal', 'newcar', 'baldev', 'monishaadaptstohighsociety', 'roseshpoetrypublication.wmv', 'monishacomplainsofsahil.wmv', 'scrabblecompetition.avi', 'mayaleavesindravardhan(1) (1).wmv', 'kavi.wmv', 'african', 'mayaonacleaningdrive.wmv', 'playatcharityfunction', 'sahilmarriesmonisha.wmv', 'finale.avi', 'mayabetmonisha.wmv', 'mayanighmare', 'monishasuicideattempt.wmv', 'radhabaileaves', 'jugalkishore.wmv', 'mayamonishabday.avi', 'lease2.wmv', 'roseshnayadon.wmv', 'lease1.wmv', 'prankonindravadhan', 'neelimaverma.wmv', 'cricket.wmv', 'khilawal.wmv', 'prefinale', 'patang', 'bachelor.wmv', 'monishasspeechonmaya.wmv', 'video1.wmv', 'mayaleavesindravardhan.wmv', 'sharman.wmw', 'roseshmarriesrita.wmw', 'indravadanmissing.avi', 'soniyaprediction.avi', 'bachlorparty', 'yamraj.wmv', 'sahillovestory.wmv', 'jaspal.wmv', 'introductiontothesarabhaifamily.avi', 'roseshaccident', 'election'}\n",
      "Total unique episodes: 49\n"
     ]
    }
   ],
   "source": [
    "# Convert the list of episode names to a set to get unique episodes\n",
    "unique_episodes_1 = set(total_episodes_1)\n",
    "\n",
    "# Print the unique episode names\n",
    "print(\"Unique episode names:\", unique_episodes_1)\n",
    "\n",
    "# Print the total number of unique episodes\n",
    "print(\"Total unique episodes:\", len(unique_episodes_1))"
   ]
  },
  {
   "cell_type": "raw",
   "id": "688c26ff",
   "metadata": {},
   "source": [
    "To find how many times each episode name occurs in conversation"
   ]
  },
  {
   "cell_type": "code",
   "execution_count": 9,
   "id": "a735c727",
   "metadata": {},
   "outputs": [
    {
     "name": "stdout",
     "output_type": "stream",
     "text": [
      "roseshantstobeadopted.wmv occurs 5 times\n",
      "video1.wmv occurs 8 times\n",
      "yamraj.wmv occurs 7 times\n",
      "finale.avi occurs 13 times\n",
      "indravadanmissing.avi occurs 7 times\n",
      "sharman.wmw occurs 6 times\n",
      "soniyaprediction.avi occurs 7 times\n",
      "bachelor.wmv occurs 7 times\n",
      "cricket.wmv occurs 8 times\n",
      "husbandsdonotcheat.avi occurs 11 times\n",
      "introductiontothesarabhaifamily.avi occurs 6 times\n",
      "jugalkishore.wmv occurs 8 times\n",
      "kavi.wmv occurs 4 times\n",
      "lease1.wmv occurs 8 times\n",
      "lease2.wmv occurs 7 times\n",
      "mayaleavesindravardhan(1) (1).wmv occurs 6 times\n",
      "mayadoubtsindravardhan.wmv occurs 6 times\n",
      "jaspal.wmv occurs 5 times\n",
      "khilawal.wmv occurs 4 times\n",
      "mayabetmonisha.wmv occurs 10 times\n",
      "mayaleavesindravardhan.wmv occurs 6 times\n",
      "mayamonishabday.avi occurs 6 times\n",
      "mayanighmare occurs 5 times\n",
      "mayaonacleaningdrive.wmv occurs 9 times\n",
      "monishaadaptstohighsociety occurs 6 times\n",
      "roseshnayadon.wmv occurs 5 times\n",
      "roseshmarriesrita.wmw occurs 6 times\n",
      "roseshpoetrypublication.wmv occurs 6 times\n",
      "sahillovestory.wmv occurs 5 times\n",
      "sahilmarriesmonisha.wmv occurs 8 times\n",
      "scrabblecompetition.avi occurs 4 times\n",
      "baldev occurs 8 times\n",
      "dushyant occurs 9 times\n",
      "election occurs 15 times\n",
      "playatcharityfunction occurs 6 times\n",
      "prankonindravadhan occurs 10 times\n",
      "roseshaccident occurs 5 times\n",
      "african occurs 6 times\n",
      "bachlorparty occurs 7 times\n",
      "doggy occurs 11 times\n",
      "monishacomplainsofsahil.wmv occurs 7 times\n",
      "monishasspeechonmaya.wmv occurs 7 times\n",
      "monishasuicideattempt.wmv occurs 4 times\n",
      "neelimaverma.wmv occurs 6 times\n",
      "newcar occurs 8 times\n",
      "patang occurs 6 times\n",
      "popatlal occurs 5 times\n",
      "prefinale occurs 8 times\n",
      "radhabaileaves occurs 6 times\n"
     ]
    }
   ],
   "source": [
    "total_episodes_1\n",
    "\n",
    "episode_counts = {}\n",
    "\n",
    "for episode_title in total_episodes_1:\n",
    "    episode_counts[episode_title] = episode_counts.get(episode_title, 0) + 1\n",
    "\n",
    "for title, count in episode_counts.items():\n",
    "    print(f\"{title} occurs {count} times\")"
   ]
  },
  {
   "cell_type": "raw",
   "id": "7448d71b",
   "metadata": {},
   "source": [
    "Convert all utterance of each episode into a single DataFrame"
   ]
  },
  {
   "cell_type": "code",
   "execution_count": 10,
   "id": "d8fbab51",
   "metadata": {},
   "outputs": [
    {
     "data": {
      "text/html": [
       "<div>\n",
       "<style scoped>\n",
       "    .dataframe tbody tr th:only-of-type {\n",
       "        vertical-align: middle;\n",
       "    }\n",
       "\n",
       "    .dataframe tbody tr th {\n",
       "        vertical-align: top;\n",
       "    }\n",
       "\n",
       "    .dataframe thead th {\n",
       "        text-align: right;\n",
       "    }\n",
       "</style>\n",
       "<table border=\"1\" class=\"dataframe\">\n",
       "  <thead>\n",
       "    <tr style=\"text-align: right;\">\n",
       "      <th></th>\n",
       "      <th>Episode</th>\n",
       "      <th>Speakers</th>\n",
       "      <th>Utterances</th>\n",
       "      <th>Emotions</th>\n",
       "    </tr>\n",
       "  </thead>\n",
       "  <tbody>\n",
       "    <tr>\n",
       "      <th>0</th>\n",
       "      <td>roseshantstobeadopted.wmv</td>\n",
       "      <td>maya</td>\n",
       "      <td>kya kya bhar ke rakha hai indravadan ne is gha...</td>\n",
       "      <td>disgust</td>\n",
       "    </tr>\n",
       "    <tr>\n",
       "      <th>1</th>\n",
       "      <td>roseshantstobeadopted.wmv</td>\n",
       "      <td>indu</td>\n",
       "      <td>ok, chalo rosesh chalo bahar</td>\n",
       "      <td>contempt</td>\n",
       "    </tr>\n",
       "    <tr>\n",
       "      <th>2</th>\n",
       "      <td>roseshantstobeadopted.wmv</td>\n",
       "      <td>rosesh</td>\n",
       "      <td>momma! hath chhodiye dad!</td>\n",
       "      <td>anger</td>\n",
       "    </tr>\n",
       "    <tr>\n",
       "      <th>3</th>\n",
       "      <td>roseshantstobeadopted.wmv</td>\n",
       "      <td>indu</td>\n",
       "      <td>dekho maya ya na bol raha hai! fir tum hi kaho...</td>\n",
       "      <td>neutral</td>\n",
       "    </tr>\n",
       "    <tr>\n",
       "      <th>4</th>\n",
       "      <td>roseshantstobeadopted.wmv</td>\n",
       "      <td>maya</td>\n",
       "      <td>indravadan, tum kitne salo se ye joke maar rah...</td>\n",
       "      <td>neutral</td>\n",
       "    </tr>\n",
       "  </tbody>\n",
       "</table>\n",
       "</div>"
      ],
      "text/plain": [
       "                     Episode Speakers  \\\n",
       "0  roseshantstobeadopted.wmv     maya   \n",
       "1  roseshantstobeadopted.wmv     indu   \n",
       "2  roseshantstobeadopted.wmv   rosesh   \n",
       "3  roseshantstobeadopted.wmv     indu   \n",
       "4  roseshantstobeadopted.wmv     maya   \n",
       "\n",
       "                                          Utterances  Emotions  \n",
       "0  kya kya bhar ke rakha hai indravadan ne is gha...   disgust  \n",
       "1                       ok, chalo rosesh chalo bahar  contempt  \n",
       "2                          momma! hath chhodiye dad!     anger  \n",
       "3  dekho maya ya na bol raha hai! fir tum hi kaho...   neutral  \n",
       "4  indravadan, tum kitne salo se ye joke maar rah...   neutral  "
      ]
     },
     "execution_count": 10,
     "metadata": {},
     "output_type": "execute_result"
    }
   ],
   "source": [
    "import pandas as pd\n",
    "\n",
    "\n",
    "# Create an empty list to store the data for each conversation\n",
    "conversation_data = []\n",
    "\n",
    "# Iterate through the JSON data and construct a DataFrame for each conversation\n",
    "for conversation in train_data:\n",
    "    episode = conversation[\"episode\"]\n",
    "    speakers = conversation[\"speakers\"]\n",
    "    utterances = conversation[\"utterances\"]\n",
    "    emotions = conversation[\"emotions\"]\n",
    "\n",
    "    # Create a DataFrame for the current conversation\n",
    "    df = pd.DataFrame({\n",
    "        \"Episode\": [episode] * len(speakers),\n",
    "        \"Speakers\": speakers,\n",
    "        \"Utterances\": utterances,\n",
    "        \"Emotions\": emotions\n",
    "    })\n",
    "\n",
    "    # Append the DataFrame to the list\n",
    "    conversation_data.append(df)\n",
    "\n",
    "# Concatenate all conversation DataFrames into one DataFrame\n",
    "train_df = pd.concat(conversation_data, ignore_index=True)\n",
    "train_df.head(5)"
   ]
  },
  {
   "cell_type": "code",
   "execution_count": 11,
   "id": "7fa211b3",
   "metadata": {},
   "outputs": [],
   "source": [
    "#validation_data"
   ]
  },
  {
   "cell_type": "code",
   "execution_count": 12,
   "id": "181ba314",
   "metadata": {},
   "outputs": [
    {
     "data": {
      "text/html": [
       "<div>\n",
       "<style scoped>\n",
       "    .dataframe tbody tr th:only-of-type {\n",
       "        vertical-align: middle;\n",
       "    }\n",
       "\n",
       "    .dataframe tbody tr th {\n",
       "        vertical-align: top;\n",
       "    }\n",
       "\n",
       "    .dataframe thead th {\n",
       "        text-align: right;\n",
       "    }\n",
       "</style>\n",
       "<table border=\"1\" class=\"dataframe\">\n",
       "  <thead>\n",
       "    <tr style=\"text-align: right;\">\n",
       "      <th></th>\n",
       "      <th>Episode</th>\n",
       "      <th>Speakers</th>\n",
       "      <th>Utterances</th>\n",
       "      <th>Emotions</th>\n",
       "    </tr>\n",
       "  </thead>\n",
       "  <tbody>\n",
       "    <tr>\n",
       "      <th>0</th>\n",
       "      <td>roseshantstobeadopted.wmv</td>\n",
       "      <td>good rosesh</td>\n",
       "      <td>ye kya kar raha hai rosesh? bharat tera desh! ...</td>\n",
       "      <td>neutral</td>\n",
       "    </tr>\n",
       "    <tr>\n",
       "      <th>1</th>\n",
       "      <td>roseshantstobeadopted.wmv</td>\n",
       "      <td>bad rosesh</td>\n",
       "      <td>hahaha khat padh le rosesh baby or padhne de h...</td>\n",
       "      <td>neutral</td>\n",
       "    </tr>\n",
       "    <tr>\n",
       "      <th>2</th>\n",
       "      <td>roseshantstobeadopted.wmv</td>\n",
       "      <td>good rosesh</td>\n",
       "      <td>kavita acchi hai lekin khayal achcha nahin hai...</td>\n",
       "      <td>neutral</td>\n",
       "    </tr>\n",
       "    <tr>\n",
       "      <th>3</th>\n",
       "      <td>roseshantstobeadopted.wmv</td>\n",
       "      <td>bad rosesh</td>\n",
       "      <td>galat hai, par momma ne tumse kaha tha ki do b...</td>\n",
       "      <td>contempt</td>\n",
       "    </tr>\n",
       "    <tr>\n",
       "      <th>4</th>\n",
       "      <td>roseshantstobeadopted.wmv</td>\n",
       "      <td>good rosesh</td>\n",
       "      <td>galat tha per</td>\n",
       "      <td>neutral</td>\n",
       "    </tr>\n",
       "  </tbody>\n",
       "</table>\n",
       "</div>"
      ],
      "text/plain": [
       "                     Episode     Speakers  \\\n",
       "0  roseshantstobeadopted.wmv  good rosesh   \n",
       "1  roseshantstobeadopted.wmv   bad rosesh   \n",
       "2  roseshantstobeadopted.wmv  good rosesh   \n",
       "3  roseshantstobeadopted.wmv   bad rosesh   \n",
       "4  roseshantstobeadopted.wmv  good rosesh   \n",
       "\n",
       "                                          Utterances  Emotions  \n",
       "0  ye kya kar raha hai rosesh? bharat tera desh! ...   neutral  \n",
       "1  hahaha khat padh le rosesh baby or padhne de h...   neutral  \n",
       "2  kavita acchi hai lekin khayal achcha nahin hai...   neutral  \n",
       "3  galat hai, par momma ne tumse kaha tha ki do b...  contempt  \n",
       "4                                      galat tha per   neutral  "
      ]
     },
     "execution_count": 12,
     "metadata": {},
     "output_type": "execute_result"
    }
   ],
   "source": [
    "import pandas as pd\n",
    "\n",
    "\n",
    "# Create an empty list to store the data for each conversation\n",
    "conversation_data = []\n",
    "\n",
    "# Iterate through the JSON data and construct a DataFrame for each conversation\n",
    "for conversation in validation_data:\n",
    "    episode = conversation[\"episode\"]\n",
    "    speakers = conversation[\"speakers\"]\n",
    "    utterances = conversation[\"utterances\"]\n",
    "    emotions = conversation[\"emotions\"]\n",
    "\n",
    "    # Create a DataFrame for the current conversation\n",
    "    df = pd.DataFrame({\n",
    "        \"Episode\": [episode] * len(speakers),\n",
    "        \"Speakers\": speakers,\n",
    "        \"Utterances\": utterances,\n",
    "        \"Emotions\": emotions\n",
    "    })\n",
    "\n",
    "    # Append the DataFrame to the list\n",
    "    conversation_data.append(df)\n",
    "\n",
    "# Concatenate all conversation DataFrames into one DataFrame\n",
    "val_df = pd.concat(conversation_data, ignore_index=True)\n",
    "val_df.head(5)"
   ]
  },
  {
   "cell_type": "raw",
   "id": "9af75358",
   "metadata": {},
   "source": [
    " distinct emotions exist in whole training conversation"
   ]
  },
  {
   "cell_type": "code",
   "execution_count": 13,
   "id": "9a496a5e",
   "metadata": {},
   "outputs": [
    {
     "name": "stdout",
     "output_type": "stream",
     "text": [
      "Distinct Emotions:\n",
      "disgust\n",
      "contempt\n",
      "anger\n",
      "neutral\n",
      "joy\n",
      "sadness\n",
      "fear\n",
      "surprise\n"
     ]
    }
   ],
   "source": [
    "# Find distinct emotions\n",
    "distinct_emotions = train_df['Emotions'].unique()\n",
    "\n",
    "# Print distinct emotions\n",
    "print(\"Distinct Emotions:\")\n",
    "for emotion in distinct_emotions:\n",
    "    print(emotion)"
   ]
  },
  {
   "cell_type": "code",
   "execution_count": 14,
   "id": "d1aadf67",
   "metadata": {},
   "outputs": [
    {
     "name": "stdout",
     "output_type": "stream",
     "text": [
      "Distinct Emotions:\n",
      "neutral\n",
      "contempt\n",
      "sadness\n",
      "fear\n",
      "joy\n",
      "surprise\n",
      "anger\n",
      "disgust\n"
     ]
    }
   ],
   "source": [
    "# Find distinct emotions\n",
    "distinct_emotions = val_df['Emotions'].unique()\n",
    "\n",
    "# Print distinct emotions\n",
    "print(\"Distinct Emotions:\")\n",
    "for emotion in distinct_emotions:\n",
    "    print(emotion)"
   ]
  },
  {
   "cell_type": "raw",
   "id": "345bc1e3",
   "metadata": {},
   "source": [
    "Visualise the emotion status count in training conversation"
   ]
  },
  {
   "cell_type": "code",
   "execution_count": 15,
   "id": "3987d419",
   "metadata": {},
   "outputs": [
    {
     "data": {
      "image/png": "[encoded data removed]",
      "text/plain": [
       "<Figure size 800x500 with 1 Axes>"
      ]
     },
     "metadata": {},
     "output_type": "display_data"
    }
   ],
   "source": [
    "# Count the occurrences of each emotion\n",
    "emotion_counts = train_df['Emotions'].value_counts()\n",
    "\n",
    "# Create a bar plot\n",
    "plt.figure(figsize=(8, 5))\n",
    "emotion_counts.plot(kind='bar', color='skyblue')\n",
    "plt.title('Emotion Occurrences')\n",
    "plt.xlabel('Emotion')\n",
    "plt.ylabel('Count')\n",
    "plt.xticks(rotation=45)\n",
    "plt.tight_layout()\n",
    "plt.grid()\n",
    "# Show the plot\n",
    "plt.show()"
   ]
  },
  {
   "cell_type": "raw",
   "id": "c8a3cbfb",
   "metadata": {},
   "source": [
    "Define the Hindi Stopwords"
   ]
  },
  {
   "cell_type": "code",
   "execution_count": 16,
   "id": "edefb044",
   "metadata": {},
   "outputs": [],
   "source": [
    "hindi_stopwords = get_stop_words('hi')  # 'hi' is the ISO 639-1 code for Hindi\n",
    "hindi_stopwords\n",
    "\n",
    "# Transliterate Hindi to Roman script (English characters)\n",
    "transliterated_text = [sanscript.transliterate(word, source_script, target_script) for word in hindi_stopwords]\n",
    "\n",
    "# Convert transliterated words to lowercase\n",
    "lowercase_transliterated_text = [word.lower() for word in transliterated_text]\n"
   ]
  },
  {
   "cell_type": "markdown",
   "id": "ab00e00c",
   "metadata": {},
   "source": [
    "# combined list of stopwords for both English and Hindi"
   ]
  },
  {
   "cell_type": "code",
   "execution_count": 17,
   "id": "92f9ed72",
   "metadata": {
    "scrolled": true
   },
   "outputs": [],
   "source": [
    "english_stopwords = set(stopwords.words('english'))\n",
    "stop_words = set(english_stopwords)  # English stopwords\n",
    "\n",
    "# Add Hindi stopwords to the set\n",
    "hindi_stop_words = set(lowercase_transliterated_text)  # Add your Hindi stopwords here\n",
    "\n",
    "stop_words.update(hindi_stop_words)\n",
    "#stop_words"
   ]
  },
  {
   "cell_type": "markdown",
   "id": "6147fc29",
   "metadata": {},
   "source": [
    "# Preprocessing code for each utterance"
   ]
  },
  {
   "cell_type": "code",
   "execution_count": 18,
   "id": "dba132e8",
   "metadata": {},
   "outputs": [],
   "source": [
    "import re\n",
    "\n",
    "def remove_numeric_sequences_and_ordinals(text):\n",
    "    # Remove numbers\n",
    "    text = re.sub(r'\\d+', '', text)\n",
    "\n",
    "    # Remove ordinal numbers\n",
    "    text = re.sub(r'\\b\\d+(st|nd|rd|th)\\b', '', text)\n",
    "\n",
    "    return text"
   ]
  },
  {
   "cell_type": "code",
   "execution_count": 19,
   "id": "f5c261b6",
   "metadata": {},
   "outputs": [],
   "source": [
    "def remove_puntuations(txt):\n",
    "    punct = set(string.punctuation)\n",
    "    txt = \" \".join(txt.split(\".\"))\n",
    "    txt = \" \".join(txt.split(\"!\"))\n",
    "    txt = \" \".join(txt.split(\"?\"))\n",
    "    txt = \" \".join(txt.split(\":\"))\n",
    "    txt = \" \".join(txt.split(\";\"))\n",
    "    \n",
    "    txt = \"\".join(ch for ch in txt if ch not in punct)\n",
    "    return txt"
   ]
  },
  {
   "cell_type": "code",
   "execution_count": 20,
   "id": "cacafb19",
   "metadata": {},
   "outputs": [],
   "source": [
    "# Function clean text\n",
    "def preprocess_text(text):\n",
    "    # Convert text to lowercase\n",
    "    text = text.lower()\n",
    "    \n",
    "    #remove numeric and ordinals \n",
    "    text = remove_numeric_sequences_and_ordinals(text)\n",
    "\n",
    "    # Remove punctuation\n",
    "    text = remove_puntuations(text)\n",
    "\n",
    "    # Remove extra white spaces\n",
    "    text = ' '.join(text.split())\n",
    "\n",
    "    # Remove stopwords\n",
    "    total_stop_words = stop_words\n",
    "    text = ' '.join([word for word in text.split() if word not in total_stop_words])\n",
    "\n",
    "    return text"
   ]
  },
  {
   "cell_type": "code",
   "execution_count": 21,
   "id": "eade6644",
   "metadata": {},
   "outputs": [
    {
     "data": {
      "text/plain": [
       "'kya kya bhar rakha indravadan gha'"
      ]
     },
     "execution_count": 21,
     "metadata": {},
     "output_type": "execute_result"
    }
   ],
   "source": [
    "preprocess_text('kya kya bhar ke rakha hai indravadan ne is gha...')"
   ]
  },
  {
   "cell_type": "raw",
   "id": "9f7c3efa",
   "metadata": {},
   "source": [
    "Apply preprocessing to the 'Utterances' column"
   ]
  },
  {
   "cell_type": "code",
   "execution_count": 22,
   "id": "f767c010",
   "metadata": {},
   "outputs": [
    {
     "data": {
      "text/html": [
       "<div>\n",
       "<style scoped>\n",
       "    .dataframe tbody tr th:only-of-type {\n",
       "        vertical-align: middle;\n",
       "    }\n",
       "\n",
       "    .dataframe tbody tr th {\n",
       "        vertical-align: top;\n",
       "    }\n",
       "\n",
       "    .dataframe thead th {\n",
       "        text-align: right;\n",
       "    }\n",
       "</style>\n",
       "<table border=\"1\" class=\"dataframe\">\n",
       "  <thead>\n",
       "    <tr style=\"text-align: right;\">\n",
       "      <th></th>\n",
       "      <th>Episode</th>\n",
       "      <th>Speakers</th>\n",
       "      <th>Utterances</th>\n",
       "      <th>Emotions</th>\n",
       "      <th>Clean_text</th>\n",
       "    </tr>\n",
       "  </thead>\n",
       "  <tbody>\n",
       "    <tr>\n",
       "      <th>0</th>\n",
       "      <td>roseshantstobeadopted.wmv</td>\n",
       "      <td>maya</td>\n",
       "      <td>kya kya bhar ke rakha hai indravadan ne is gha...</td>\n",
       "      <td>disgust</td>\n",
       "      <td>kya kya bhar rakha indravadan ghar mein indrav...</td>\n",
       "    </tr>\n",
       "    <tr>\n",
       "      <th>1</th>\n",
       "      <td>roseshantstobeadopted.wmv</td>\n",
       "      <td>indu</td>\n",
       "      <td>ok, chalo rosesh chalo bahar</td>\n",
       "      <td>contempt</td>\n",
       "      <td>ok chalo rosesh chalo bahar</td>\n",
       "    </tr>\n",
       "    <tr>\n",
       "      <th>2</th>\n",
       "      <td>roseshantstobeadopted.wmv</td>\n",
       "      <td>rosesh</td>\n",
       "      <td>momma! hath chhodiye dad!</td>\n",
       "      <td>anger</td>\n",
       "      <td>momma hath chhodiye dad</td>\n",
       "    </tr>\n",
       "    <tr>\n",
       "      <th>3</th>\n",
       "      <td>roseshantstobeadopted.wmv</td>\n",
       "      <td>indu</td>\n",
       "      <td>dekho maya ya na bol raha hai! fir tum hi kaho...</td>\n",
       "      <td>neutral</td>\n",
       "      <td>dekho maya bol fir tum kahogi faltu chijen jam...</td>\n",
       "    </tr>\n",
       "    <tr>\n",
       "      <th>4</th>\n",
       "      <td>roseshantstobeadopted.wmv</td>\n",
       "      <td>maya</td>\n",
       "      <td>indravadan, tum kitne salo se ye joke maar rah...</td>\n",
       "      <td>neutral</td>\n",
       "      <td>indravadan tum kitne salo joke maar aaj tak</td>\n",
       "    </tr>\n",
       "    <tr>\n",
       "      <th>...</th>\n",
       "      <td>...</td>\n",
       "      <td>...</td>\n",
       "      <td>...</td>\n",
       "      <td>...</td>\n",
       "      <td>...</td>\n",
       "    </tr>\n",
       "    <tr>\n",
       "      <th>8501</th>\n",
       "      <td>radhabaileaves</td>\n",
       "      <td>rosesh</td>\n",
       "      <td>lekin what about my ghadi? 17000 ki ghadi hai ...</td>\n",
       "      <td>sadness</td>\n",
       "      <td>lekin ghadi ghadi momma recurring alarm baje a...</td>\n",
       "    </tr>\n",
       "    <tr>\n",
       "      <th>8502</th>\n",
       "      <td>radhabaileaves</td>\n",
       "      <td>sita or geeta</td>\n",
       "      <td>nhi nhi mujhe yahan pe kaamich nhi karna hai, ...</td>\n",
       "      <td>anger</td>\n",
       "      <td>nhi nhi mujhe yahan kaamich nhi karna jaa rhi hun</td>\n",
       "    </tr>\n",
       "    <tr>\n",
       "      <th>8503</th>\n",
       "      <td>radhabaileaves</td>\n",
       "      <td>maya</td>\n",
       "      <td>ahan!</td>\n",
       "      <td>joy</td>\n",
       "      <td>ahan</td>\n",
       "    </tr>\n",
       "    <tr>\n",
       "      <th>8504</th>\n",
       "      <td>radhabaileaves</td>\n",
       "      <td>sita or geeta</td>\n",
       "      <td>goodbye!</td>\n",
       "      <td>fear</td>\n",
       "      <td>goodbye</td>\n",
       "    </tr>\n",
       "    <tr>\n",
       "      <th>8505</th>\n",
       "      <td>radhabaileaves</td>\n",
       "      <td>maya</td>\n",
       "      <td>no goodbye! nikalo! nikalo! chorro hath chorro...</td>\n",
       "      <td>disgust</td>\n",
       "      <td>goodbye nikalo nikalo chorro hath chorro badby...</td>\n",
       "    </tr>\n",
       "  </tbody>\n",
       "</table>\n",
       "<p>8506 rows × 5 columns</p>\n",
       "</div>"
      ],
      "text/plain": [
       "                        Episode       Speakers  \\\n",
       "0     roseshantstobeadopted.wmv           maya   \n",
       "1     roseshantstobeadopted.wmv           indu   \n",
       "2     roseshantstobeadopted.wmv         rosesh   \n",
       "3     roseshantstobeadopted.wmv           indu   \n",
       "4     roseshantstobeadopted.wmv           maya   \n",
       "...                         ...            ...   \n",
       "8501             radhabaileaves         rosesh   \n",
       "8502             radhabaileaves  sita or geeta   \n",
       "8503             radhabaileaves           maya   \n",
       "8504             radhabaileaves  sita or geeta   \n",
       "8505             radhabaileaves           maya   \n",
       "\n",
       "                                             Utterances  Emotions  \\\n",
       "0     kya kya bhar ke rakha hai indravadan ne is gha...   disgust   \n",
       "1                          ok, chalo rosesh chalo bahar  contempt   \n",
       "2                             momma! hath chhodiye dad!     anger   \n",
       "3     dekho maya ya na bol raha hai! fir tum hi kaho...   neutral   \n",
       "4     indravadan, tum kitne salo se ye joke maar rah...   neutral   \n",
       "...                                                 ...       ...   \n",
       "8501  lekin what about my ghadi? 17000 ki ghadi hai ...   sadness   \n",
       "8502  nhi nhi mujhe yahan pe kaamich nhi karna hai, ...     anger   \n",
       "8503                                              ahan!       joy   \n",
       "8504                                           goodbye!      fear   \n",
       "8505  no goodbye! nikalo! nikalo! chorro hath chorro...   disgust   \n",
       "\n",
       "                                             Clean_text  \n",
       "0     kya kya bhar rakha indravadan ghar mein indrav...  \n",
       "1                           ok chalo rosesh chalo bahar  \n",
       "2                               momma hath chhodiye dad  \n",
       "3     dekho maya bol fir tum kahogi faltu chijen jam...  \n",
       "4           indravadan tum kitne salo joke maar aaj tak  \n",
       "...                                                 ...  \n",
       "8501  lekin ghadi ghadi momma recurring alarm baje a...  \n",
       "8502  nhi nhi mujhe yahan kaamich nhi karna jaa rhi hun  \n",
       "8503                                               ahan  \n",
       "8504                                            goodbye  \n",
       "8505  goodbye nikalo nikalo chorro hath chorro badby...  \n",
       "\n",
       "[8506 rows x 5 columns]"
      ]
     },
     "execution_count": 22,
     "metadata": {},
     "output_type": "execute_result"
    }
   ],
   "source": [
    "# Apply preprocessing to the 'Utterances' column\n",
    "train_df['Clean_text'] = train_df['Utterances'].apply(preprocess_text)\n",
    "\n",
    "# Print the first few rows of the modified DataFrame\n",
    "train_df"
   ]
  },
  {
   "cell_type": "code",
   "execution_count": 23,
   "id": "c23cebcb",
   "metadata": {},
   "outputs": [
    {
     "data": {
      "text/html": [
       "<div>\n",
       "<style scoped>\n",
       "    .dataframe tbody tr th:only-of-type {\n",
       "        vertical-align: middle;\n",
       "    }\n",
       "\n",
       "    .dataframe tbody tr th {\n",
       "        vertical-align: top;\n",
       "    }\n",
       "\n",
       "    .dataframe thead th {\n",
       "        text-align: right;\n",
       "    }\n",
       "</style>\n",
       "<table border=\"1\" class=\"dataframe\">\n",
       "  <thead>\n",
       "    <tr style=\"text-align: right;\">\n",
       "      <th></th>\n",
       "      <th>Episode</th>\n",
       "      <th>Speakers</th>\n",
       "      <th>Utterances</th>\n",
       "      <th>Emotions</th>\n",
       "      <th>Clean_text</th>\n",
       "    </tr>\n",
       "  </thead>\n",
       "  <tbody>\n",
       "    <tr>\n",
       "      <th>0</th>\n",
       "      <td>roseshantstobeadopted.wmv</td>\n",
       "      <td>good rosesh</td>\n",
       "      <td>ye kya kar raha hai rosesh? bharat tera desh! ...</td>\n",
       "      <td>neutral</td>\n",
       "      <td>kya kar rosesh bharat tera desh bhartiya insan...</td>\n",
       "    </tr>\n",
       "    <tr>\n",
       "      <th>1</th>\n",
       "      <td>roseshantstobeadopted.wmv</td>\n",
       "      <td>bad rosesh</td>\n",
       "      <td>hahaha khat padh le rosesh baby or padhne de h...</td>\n",
       "      <td>neutral</td>\n",
       "      <td>hahaha khat padh le rosesh baby padhne de hame...</td>\n",
       "    </tr>\n",
       "    <tr>\n",
       "      <th>2</th>\n",
       "      <td>roseshantstobeadopted.wmv</td>\n",
       "      <td>good rosesh</td>\n",
       "      <td>kavita acchi hai lekin khayal achcha nahin hai...</td>\n",
       "      <td>neutral</td>\n",
       "      <td>kavita acchi lekin khayal achcha nahin villain...</td>\n",
       "    </tr>\n",
       "    <tr>\n",
       "      <th>3</th>\n",
       "      <td>roseshantstobeadopted.wmv</td>\n",
       "      <td>bad rosesh</td>\n",
       "      <td>galat hai, par momma ne tumse kaha tha ki do b...</td>\n",
       "      <td>contempt</td>\n",
       "      <td>galat par momma tumse bar brush karna aur tumn...</td>\n",
       "    </tr>\n",
       "    <tr>\n",
       "      <th>4</th>\n",
       "      <td>roseshantstobeadopted.wmv</td>\n",
       "      <td>good rosesh</td>\n",
       "      <td>galat tha per</td>\n",
       "      <td>neutral</td>\n",
       "      <td>galat per</td>\n",
       "    </tr>\n",
       "    <tr>\n",
       "      <th>...</th>\n",
       "      <td>...</td>\n",
       "      <td>...</td>\n",
       "      <td>...</td>\n",
       "      <td>...</td>\n",
       "      <td>...</td>\n",
       "    </tr>\n",
       "    <tr>\n",
       "      <th>1349</th>\n",
       "      <td>prefinale</td>\n",
       "      <td>monish</td>\n",
       "      <td>sahil sahil sahil. sirf 4 din bache hai or sar...</td>\n",
       "      <td>fear</td>\n",
       "      <td>sahil sahil sahil sirf din bache sari ladkiyan...</td>\n",
       "    </tr>\n",
       "    <tr>\n",
       "      <th>1350</th>\n",
       "      <td>prefinale</td>\n",
       "      <td>sahil</td>\n",
       "      <td>haan lekin mom unn charo me se kisi ek ko fina...</td>\n",
       "      <td>neutral</td>\n",
       "      <td>haan lekin mom unn charo ek finalise kar lengi</td>\n",
       "    </tr>\n",
       "    <tr>\n",
       "      <th>1351</th>\n",
       "      <td>prefinale</td>\n",
       "      <td>monish</td>\n",
       "      <td>mummy ji ko to unme se koi pasand nhi hai</td>\n",
       "      <td>sadness</td>\n",
       "      <td>mummy ji unme pasand nhi</td>\n",
       "    </tr>\n",
       "    <tr>\n",
       "      <th>1352</th>\n",
       "      <td>prefinale</td>\n",
       "      <td>sahil</td>\n",
       "      <td>rosesh ko?</td>\n",
       "      <td>neutral</td>\n",
       "      <td>rosesh</td>\n",
       "    </tr>\n",
       "    <tr>\n",
       "      <th>1353</th>\n",
       "      <td>prefinale</td>\n",
       "      <td>monish</td>\n",
       "      <td>unhe to charo pasand hai. wese sahil, waqt bee...</td>\n",
       "      <td>fear</td>\n",
       "      <td>unhe charo pasand wese sahil waqt beeta jaa rh...</td>\n",
       "    </tr>\n",
       "  </tbody>\n",
       "</table>\n",
       "<p>1354 rows × 5 columns</p>\n",
       "</div>"
      ],
      "text/plain": [
       "                        Episode     Speakers  \\\n",
       "0     roseshantstobeadopted.wmv  good rosesh   \n",
       "1     roseshantstobeadopted.wmv   bad rosesh   \n",
       "2     roseshantstobeadopted.wmv  good rosesh   \n",
       "3     roseshantstobeadopted.wmv   bad rosesh   \n",
       "4     roseshantstobeadopted.wmv  good rosesh   \n",
       "...                         ...          ...   \n",
       "1349                  prefinale       monish   \n",
       "1350                  prefinale        sahil   \n",
       "1351                  prefinale       monish   \n",
       "1352                  prefinale        sahil   \n",
       "1353                  prefinale       monish   \n",
       "\n",
       "                                             Utterances  Emotions  \\\n",
       "0     ye kya kar raha hai rosesh? bharat tera desh! ...   neutral   \n",
       "1     hahaha khat padh le rosesh baby or padhne de h...   neutral   \n",
       "2     kavita acchi hai lekin khayal achcha nahin hai...   neutral   \n",
       "3     galat hai, par momma ne tumse kaha tha ki do b...  contempt   \n",
       "4                                         galat tha per   neutral   \n",
       "...                                                 ...       ...   \n",
       "1349  sahil sahil sahil. sirf 4 din bache hai or sar...      fear   \n",
       "1350  haan lekin mom unn charo me se kisi ek ko fina...   neutral   \n",
       "1351          mummy ji ko to unme se koi pasand nhi hai   sadness   \n",
       "1352                                         rosesh ko?   neutral   \n",
       "1353  unhe to charo pasand hai. wese sahil, waqt bee...      fear   \n",
       "\n",
       "                                             Clean_text  \n",
       "0     kya kar rosesh bharat tera desh bhartiya insan...  \n",
       "1     hahaha khat padh le rosesh baby padhne de hame...  \n",
       "2     kavita acchi lekin khayal achcha nahin villain...  \n",
       "3     galat par momma tumse bar brush karna aur tumn...  \n",
       "4                                             galat per  \n",
       "...                                                 ...  \n",
       "1349  sahil sahil sahil sirf din bache sari ladkiyan...  \n",
       "1350     haan lekin mom unn charo ek finalise kar lengi  \n",
       "1351                           mummy ji unme pasand nhi  \n",
       "1352                                             rosesh  \n",
       "1353  unhe charo pasand wese sahil waqt beeta jaa rh...  \n",
       "\n",
       "[1354 rows x 5 columns]"
      ]
     },
     "execution_count": 23,
     "metadata": {},
     "output_type": "execute_result"
    }
   ],
   "source": [
    "# Apply preprocessing to the 'Utterances' column\n",
    "val_df['Clean_text'] = val_df['Utterances'].apply(preprocess_text)\n",
    "\n",
    "# Print the first few rows of the modified DataFrame\n",
    "val_df"
   ]
  },
  {
   "cell_type": "code",
   "execution_count": 24,
   "id": "5e32e468",
   "metadata": {},
   "outputs": [
    {
     "data": {
      "text/html": [
       "<div>\n",
       "<style scoped>\n",
       "    .dataframe tbody tr th:only-of-type {\n",
       "        vertical-align: middle;\n",
       "    }\n",
       "\n",
       "    .dataframe tbody tr th {\n",
       "        vertical-align: top;\n",
       "    }\n",
       "\n",
       "    .dataframe thead th {\n",
       "        text-align: right;\n",
       "    }\n",
       "</style>\n",
       "<table border=\"1\" class=\"dataframe\">\n",
       "  <thead>\n",
       "    <tr style=\"text-align: right;\">\n",
       "      <th></th>\n",
       "      <th>Emotions</th>\n",
       "      <th>Clean_text</th>\n",
       "    </tr>\n",
       "  </thead>\n",
       "  <tbody>\n",
       "    <tr>\n",
       "      <th>0</th>\n",
       "      <td>disgust</td>\n",
       "      <td>kya kya bhar rakha indravadan ghar mein indrav...</td>\n",
       "    </tr>\n",
       "    <tr>\n",
       "      <th>1</th>\n",
       "      <td>contempt</td>\n",
       "      <td>ok chalo rosesh chalo bahar</td>\n",
       "    </tr>\n",
       "    <tr>\n",
       "      <th>2</th>\n",
       "      <td>anger</td>\n",
       "      <td>momma hath chhodiye dad</td>\n",
       "    </tr>\n",
       "    <tr>\n",
       "      <th>3</th>\n",
       "      <td>neutral</td>\n",
       "      <td>dekho maya bol fir tum kahogi faltu chijen jam...</td>\n",
       "    </tr>\n",
       "    <tr>\n",
       "      <th>4</th>\n",
       "      <td>neutral</td>\n",
       "      <td>indravadan tum kitne salo joke maar aaj tak</td>\n",
       "    </tr>\n",
       "    <tr>\n",
       "      <th>...</th>\n",
       "      <td>...</td>\n",
       "      <td>...</td>\n",
       "    </tr>\n",
       "    <tr>\n",
       "      <th>8501</th>\n",
       "      <td>sadness</td>\n",
       "      <td>lekin ghadi ghadi momma recurring alarm baje a...</td>\n",
       "    </tr>\n",
       "    <tr>\n",
       "      <th>8502</th>\n",
       "      <td>anger</td>\n",
       "      <td>nhi nhi mujhe yahan kaamich nhi karna jaa rhi hun</td>\n",
       "    </tr>\n",
       "    <tr>\n",
       "      <th>8503</th>\n",
       "      <td>joy</td>\n",
       "      <td>ahan</td>\n",
       "    </tr>\n",
       "    <tr>\n",
       "      <th>8504</th>\n",
       "      <td>fear</td>\n",
       "      <td>goodbye</td>\n",
       "    </tr>\n",
       "    <tr>\n",
       "      <th>8505</th>\n",
       "      <td>disgust</td>\n",
       "      <td>goodbye nikalo nikalo chorro hath chorro badby...</td>\n",
       "    </tr>\n",
       "  </tbody>\n",
       "</table>\n",
       "<p>8506 rows × 2 columns</p>\n",
       "</div>"
      ],
      "text/plain": [
       "      Emotions                                         Clean_text\n",
       "0      disgust  kya kya bhar rakha indravadan ghar mein indrav...\n",
       "1     contempt                        ok chalo rosesh chalo bahar\n",
       "2        anger                            momma hath chhodiye dad\n",
       "3      neutral  dekho maya bol fir tum kahogi faltu chijen jam...\n",
       "4      neutral        indravadan tum kitne salo joke maar aaj tak\n",
       "...        ...                                                ...\n",
       "8501   sadness  lekin ghadi ghadi momma recurring alarm baje a...\n",
       "8502     anger  nhi nhi mujhe yahan kaamich nhi karna jaa rhi hun\n",
       "8503       joy                                               ahan\n",
       "8504      fear                                            goodbye\n",
       "8505   disgust  goodbye nikalo nikalo chorro hath chorro badby...\n",
       "\n",
       "[8506 rows x 2 columns]"
      ]
     },
     "execution_count": 24,
     "metadata": {},
     "output_type": "execute_result"
    }
   ],
   "source": [
    "train = train_df[[\"Emotions\",\"Clean_text\"]]\n",
    "train"
   ]
  },
  {
   "cell_type": "raw",
   "id": "e5a8f099",
   "metadata": {},
   "source": [
    " maximum length length of the utterence"
   ]
  },
  {
   "cell_type": "code",
   "execution_count": 25,
   "id": "7d1ede44",
   "metadata": {},
   "outputs": [
    {
     "name": "stdout",
     "output_type": "stream",
     "text": [
      "The maximum number of words in an utterance is: 94\n"
     ]
    }
   ],
   "source": [
    "# Assuming train is the DataFrame containing the 'Clean_text' column\n",
    "max_words = train['Clean_text'].apply(lambda x: len(x.split())).max()\n",
    "print(f\"The maximum number of words in an utterance is: {max_words}\")"
   ]
  },
  {
   "cell_type": "code",
   "execution_count": 26,
   "id": "fc1d94d6",
   "metadata": {},
   "outputs": [
    {
     "name": "stdout",
     "output_type": "stream",
     "text": [
      "The index number of the row with the maximum number of words: 2315\n"
     ]
    }
   ],
   "source": [
    "# Assuming 'train' is the DataFrame containing the 'Clean_text' column\n",
    "max_words_index = train['Clean_text'].apply(lambda x: len(x.split())).idxmax()\n",
    "print(f\"The index number of the row with the maximum number of words: {max_words_index}\")"
   ]
  },
  {
   "cell_type": "code",
   "execution_count": 27,
   "id": "4bdea282",
   "metadata": {},
   "outputs": [
    {
     "data": {
      "text/plain": [
       "'khar khar khar khar chale cinema reel cinema parde par aaya sushil sushil acting uske muscles kartein hain cehera hain blank mara kabootar dailogue bole lagta hain bigda hain padooshi scooter sushil heroine sandhya kapde jitne taklu saar par hoon baal aage suniyega sandhya acche dete hain chipkaali expression sandhya acche deti hain chipkali expression lekin phirbhi sandhya banega best actress iss saal sushil muscles milega award kyuki uske papa hain jury par samjhe picture deenge start critics kyuki wo hain producers chaamche phir main jaa kar dekhte hoon kyu kyu main dard hain'"
      ]
     },
     "execution_count": 27,
     "metadata": {},
     "output_type": "execute_result"
    }
   ],
   "source": [
    "train[\"Clean_text\"][2315]"
   ]
  },
  {
   "cell_type": "code",
   "execution_count": 28,
   "id": "31e56134",
   "metadata": {},
   "outputs": [],
   "source": [
    "validation = val_df[[\"Emotions\",\"Clean_text\"]]"
   ]
  },
  {
   "cell_type": "raw",
   "id": "a05bea65",
   "metadata": {},
   "source": [
    "Number of unique words in training data"
   ]
  },
  {
   "cell_type": "code",
   "execution_count": 29,
   "id": "8f1d8767",
   "metadata": {},
   "outputs": [
    {
     "data": {
      "text/plain": [
       "10669"
      ]
     },
     "execution_count": 29,
     "metadata": {},
     "output_type": "execute_result"
    }
   ],
   "source": [
    "import pandas as pd\n",
    "\n",
    "# Assuming 'df' is your DataFrame containing the 'clean_text' column\n",
    "unique_words = set(' '.join(train['Clean_text']).split())\n",
    "sorted_unique_words = sorted(unique_words)\n",
    "len(sorted_unique_words)"
   ]
  },
  {
   "cell_type": "code",
   "execution_count": 30,
   "id": "ccafa0c5",
   "metadata": {},
   "outputs": [
    {
     "data": {
      "text/plain": [
       "['aa',\n",
       " 'aaa',\n",
       " 'aaaa',\n",
       " 'aaaaa',\n",
       " 'aaaaaa',\n",
       " 'aaaaaannneeee',\n",
       " 'aaaaah',\n",
       " 'aaah',\n",
       " 'aaahaaahaaa',\n",
       " 'aaahh']"
      ]
     },
     "execution_count": 30,
     "metadata": {},
     "output_type": "execute_result"
    }
   ],
   "source": [
    "sorted_unique_words[0:10]"
   ]
  },
  {
   "cell_type": "raw",
   "id": "a3c1f755-f653-43ab-87da-a0f3ad542c59",
   "metadata": {},
   "source": [
    "'aaj'  in sorted_unique_words"
   ]
  },
  {
   "cell_type": "raw",
   "id": "085321fa-1d05-4ba5-861f-3f299b2796e1",
   "metadata": {},
   "source": [
    "word_indices = {}\n",
    "\n",
    "# Iterate through each unique word\n",
    "for word in sorted_unique_words[0:10]:\n",
    "    indices = []\n",
    "    for idx, utterance in enumerate(train['Clean_text']):\n",
    "        if word in utterance.split():\n",
    "            indices.append(idx)\n",
    "    word_indices[word] = indices\n",
    "\n",
    "#\n",
    "word = 'aa'\n",
    "indices = word_indices.get(word, [])\n",
    "print(f\"The word '{word}' appears in utterances with indices: {indices}\")"
   ]
  },
  {
   "cell_type": "raw",
   "id": "ab907b8b-f006-4e13-82cb-b05e2295a93d",
   "metadata": {},
   "source": [
    "train_df[\"Utterances\"][7]"
   ]
  },
  {
   "cell_type": "raw",
   "id": "2b4deed4-233e-4b91-b062-8db299a661fe",
   "metadata": {},
   "source": [
    "train[\"Clean_text\"][7]"
   ]
  },
  {
   "cell_type": "code",
   "execution_count": 31,
   "id": "cfdc344e-3ecd-488a-97f0-6523b5f38bfb",
   "metadata": {
    "scrolled": true
   },
   "outputs": [],
   "source": [
    "word_to_index = {word: index for index, word in enumerate(sorted_unique_words)}\n",
    "#word_to_index"
   ]
  },
  {
   "cell_type": "markdown",
   "id": "f17901c2-a730-40fe-a93d-34a168e5f84d",
   "metadata": {},
   "source": [
    "# Add one words for unknown words"
   ]
  },
  {
   "cell_type": "code",
   "execution_count": 32,
   "id": "e7ec55b5",
   "metadata": {},
   "outputs": [],
   "source": [
    "word_to_index['unknown_word'] = len(word_to_index)\n",
    "sorted_unique_words.append('unknown_word')"
   ]
  },
  {
   "cell_type": "code",
   "execution_count": 33,
   "id": "4eb08ef8",
   "metadata": {},
   "outputs": [
    {
     "data": {
      "text/plain": [
       "'unknown_word'"
      ]
     },
     "execution_count": 33,
     "metadata": {},
     "output_type": "execute_result"
    }
   ],
   "source": [
    "sorted_unique_words[-1]"
   ]
  },
  {
   "cell_type": "markdown",
   "id": "41885cbb-91c6-48e8-8e2f-ab8796324876",
   "metadata": {},
   "source": [
    "# Vectorize the text"
   ]
  },
  {
   "cell_type": "code",
   "execution_count": 34,
   "id": "064286ca",
   "metadata": {},
   "outputs": [],
   "source": [
    "import numpy as np\n",
    "\n",
    "# Function to vectorize the text\n",
    "def vectorize_text(text, unique_words_list):\n",
    "    word_to_index = {word: index for index, word in enumerate(unique_words_list)}\n",
    "    total_length = len(unique_words_list)\n",
    "    sentence_vector = np.zeros(total_length)\n",
    "    \n",
    "    words = text.split()\n",
    "    for word in words:\n",
    "        if word in word_to_index:\n",
    "            word_vector = np.zeros(total_length)\n",
    "            word_vector[word_to_index[word]] = 1\n",
    "            sentence_vector += word_vector \n",
    "        else:\n",
    "            word_vector = np.zeros(total_length)\n",
    "            word_vector[-1] = 1\n",
    "            sentence_vector += word_vector\n",
    "\n",
    "    # Normalize the sentence vector by dividing by the total length of the sentence\n",
    "    if len(words) > 0:\n",
    "        sentence_vector /= len(words)\n",
    "    \n",
    "    return sentence_vector\n",
    "\n",
    "# Creating a dictionary to store the vectors\n",
    "vectors_dict = {}\n",
    "\n",
    "for index, row in train.iterrows():\n",
    "    vectors_dict[index] = vectorize_text(row['Clean_text'], sorted_unique_words)\n",
    "\n",
    "# Printing the vector for each row\n",
    "#for index, vector in vectors_dict.items():\n",
    "    #print(f\"Vector for utterance {index}: {vector}\")"
   ]
  },
  {
   "cell_type": "raw",
   "id": "c68d928e-0499-40fc-b274-2ed91455d058",
   "metadata": {},
   "source": [
    "\n",
    "# Function to vectorize the text\n",
    "def vectorize_text(text, unique_words_list):\n",
    "    word_to_index = {word: index for index, word in enumerate(unique_words_list)}\n",
    "    vector = np.zeros(len(unique_words_list))  \n",
    "    words = text.split()\n",
    "    for word in words:\n",
    "        if word in word_to_index:\n",
    "            vector[word_to_index[word]] += 1\n",
    "        else:\n",
    "            vector[-1] += 1  # Increment for unknown words\n",
    "    return vector\n",
    "\n",
    "# Creating a dictionary to store the vectors\n",
    "vectors_dict = {}\n",
    "\n",
    "for index, row in train.iterrows():\n",
    "    vectors_dict[index] = vectorize_text(row['Clean_text'], sorted_unique_words)\n",
    "\n",
    "# Printing the vector for each row\n",
    "#for index, vector in vectors_dict.items():\n",
    "    \n",
    "    #print(f\"Vector for utterance {index}: {vector}\")"
   ]
  },
  {
   "cell_type": "code",
   "execution_count": null,
   "id": "87eaba13",
   "metadata": {},
   "outputs": [],
   "source": []
  },
  {
   "cell_type": "code",
   "execution_count": 35,
   "id": "e97ff37e",
   "metadata": {
    "scrolled": true
   },
   "outputs": [
    {
     "data": {
      "text/plain": [
       "0.9999999999999999"
      ]
     },
     "execution_count": 35,
     "metadata": {},
     "output_type": "execute_result"
    }
   ],
   "source": [
    "np.sum(vectors_dict[0])"
   ]
  },
  {
   "cell_type": "raw",
   "id": "c5a0844f",
   "metadata": {},
   "source": [
    "vectorize form of validation set"
   ]
  },
  {
   "cell_type": "raw",
   "id": "d8ef4d2f",
   "metadata": {},
   "source": [
    "# Creating a dictionary to store the vectors\n",
    "vectors_dict1 = {}\n",
    "\n",
    "for index, row in validation.iterrows():\n",
    "    vectors_dict1[index] = vectorize_text(row['Clean_text'], sorted_unique_words)"
   ]
  },
  {
   "cell_type": "raw",
   "id": "13624684",
   "metadata": {},
   "source": [
    "# Use sklearn packages"
   ]
  },
  {
   "cell_type": "raw",
   "id": "dd0cb3b8",
   "metadata": {},
   "source": [
    "X_train = np.array(list(vectors_dict.values()))\n",
    "X_train"
   ]
  },
  {
   "cell_type": "raw",
   "id": "9f841adb",
   "metadata": {},
   "source": [
    "X_validation = np.array(list(vectors_dict1.values()))\n",
    "X_validation"
   ]
  },
  {
   "cell_type": "raw",
   "id": "807197b1",
   "metadata": {},
   "source": [
    "y_train = train['Emotions']\n",
    "y_train"
   ]
  },
  {
   "cell_type": "raw",
   "id": "a588725d",
   "metadata": {},
   "source": [
    "y_validation = validation[\"Emotions\"]\n",
    "y_validation"
   ]
  },
  {
   "cell_type": "markdown",
   "id": "4ef8206f",
   "metadata": {},
   "source": [
    "# Fit the RNN model"
   ]
  },
  {
   "cell_type": "code",
   "execution_count": 41,
   "id": "375c07a3",
   "metadata": {},
   "outputs": [
    {
     "name": "stderr",
     "output_type": "stream",
     "text": [
      "2023-11-09 19:36:20.480484: I tensorflow/tsl/cuda/cudart_stub.cc:28] Could not find cuda drivers on your machine, GPU will not be used.\n",
      "2023-11-09 19:36:21.702137: E tensorflow/compiler/xla/stream_executor/cuda/cuda_dnn.cc:9342] Unable to register cuDNN factory: Attempting to register factory for plugin cuDNN when one has already been registered\n",
      "2023-11-09 19:36:21.702180: E tensorflow/compiler/xla/stream_executor/cuda/cuda_fft.cc:609] Unable to register cuFFT factory: Attempting to register factory for plugin cuFFT when one has already been registered\n",
      "2023-11-09 19:36:21.706498: E tensorflow/compiler/xla/stream_executor/cuda/cuda_blas.cc:1518] Unable to register cuBLAS factory: Attempting to register factory for plugin cuBLAS when one has already been registered\n",
      "2023-11-09 19:36:22.335867: I tensorflow/tsl/cuda/cudart_stub.cc:28] Could not find cuda drivers on your machine, GPU will not be used.\n",
      "2023-11-09 19:36:22.340400: I tensorflow/core/platform/cpu_feature_guard.cc:182] This TensorFlow binary is optimized to use available CPU instructions in performance-critical operations.\n",
      "To enable the following instructions: AVX2 FMA, in other operations, rebuild TensorFlow with the appropriate compiler flags.\n",
      "2023-11-09 19:36:26.480226: W tensorflow/compiler/tf2tensorrt/utils/py_utils.cc:38] TF-TRT Warning: Could not find TensorRT\n"
     ]
    }
   ],
   "source": [
    "import torch\n",
    "from torch.utils.data import TensorDataset, DataLoader, RandomSampler, SequentialSampler\n",
    "import torch.nn.functional as F\n",
    "from transformers import BertTokenizer, BertConfig,AdamW, BertForSequenceClassification,get_linear_schedule_with_warmup\n",
    "\n",
    "\n",
    "import pandas as pd\n",
    "import numpy as np\n",
    "import seaborn as sns\n",
    "import matplotlib.pyplot as plt\n",
    "\n",
    "from sklearn.model_selection import train_test_split\n",
    "from sklearn.metrics import confusion_matrix,classification_report\n",
    "# Import and evaluate each test batch using Matthew's correlation coefficient\n",
    "from sklearn.metrics import accuracy_score,matthews_corrcoef\n",
    "\n",
    "from tqdm import tqdm, trange,tnrange,tqdm_notebook\n",
    "import random\n",
    "import os\n",
    "import io\n",
    "#% matplotlib inline"
   ]
  },
  {
   "cell_type": "code",
   "execution_count": 43,
   "id": "a996e3f8",
   "metadata": {},
   "outputs": [
    {
     "data": {
      "text/html": [
       "<div>\n",
       "<style scoped>\n",
       "    .dataframe tbody tr th:only-of-type {\n",
       "        vertical-align: middle;\n",
       "    }\n",
       "\n",
       "    .dataframe tbody tr th {\n",
       "        vertical-align: top;\n",
       "    }\n",
       "\n",
       "    .dataframe thead th {\n",
       "        text-align: right;\n",
       "    }\n",
       "</style>\n",
       "<table border=\"1\" class=\"dataframe\">\n",
       "  <thead>\n",
       "    <tr style=\"text-align: right;\">\n",
       "      <th></th>\n",
       "      <th>Episode</th>\n",
       "      <th>Speakers</th>\n",
       "      <th>Utterances</th>\n",
       "      <th>Emotions</th>\n",
       "      <th>Clean_text</th>\n",
       "    </tr>\n",
       "  </thead>\n",
       "  <tbody>\n",
       "    <tr>\n",
       "      <th>0</th>\n",
       "      <td>roseshantstobeadopted.wmv</td>\n",
       "      <td>maya</td>\n",
       "      <td>kya kya bhar ke rakha hai indravadan ne is gha...</td>\n",
       "      <td>disgust</td>\n",
       "      <td>kya kya bhar rakha indravadan ghar mein indrav...</td>\n",
       "    </tr>\n",
       "    <tr>\n",
       "      <th>1</th>\n",
       "      <td>roseshantstobeadopted.wmv</td>\n",
       "      <td>indu</td>\n",
       "      <td>ok, chalo rosesh chalo bahar</td>\n",
       "      <td>contempt</td>\n",
       "      <td>ok chalo rosesh chalo bahar</td>\n",
       "    </tr>\n",
       "  </tbody>\n",
       "</table>\n",
       "</div>"
      ],
      "text/plain": [
       "                     Episode Speakers  \\\n",
       "0  roseshantstobeadopted.wmv     maya   \n",
       "1  roseshantstobeadopted.wmv     indu   \n",
       "\n",
       "                                          Utterances  Emotions  \\\n",
       "0  kya kya bhar ke rakha hai indravadan ne is gha...   disgust   \n",
       "1                       ok, chalo rosesh chalo bahar  contempt   \n",
       "\n",
       "                                          Clean_text  \n",
       "0  kya kya bhar rakha indravadan ghar mein indrav...  \n",
       "1                        ok chalo rosesh chalo bahar  "
      ]
     },
     "execution_count": 43,
     "metadata": {},
     "output_type": "execute_result"
    }
   ],
   "source": [
    "df = train_df\n",
    "df.head(2)"
   ]
  },
  {
   "cell_type": "code",
   "execution_count": 45,
   "id": "be3e2a9c",
   "metadata": {},
   "outputs": [
    {
     "data": {
      "text/html": [
       "<div>\n",
       "<style scoped>\n",
       "    .dataframe tbody tr th:only-of-type {\n",
       "        vertical-align: middle;\n",
       "    }\n",
       "\n",
       "    .dataframe tbody tr th {\n",
       "        vertical-align: top;\n",
       "    }\n",
       "\n",
       "    .dataframe thead th {\n",
       "        text-align: right;\n",
       "    }\n",
       "</style>\n",
       "<table border=\"1\" class=\"dataframe\">\n",
       "  <thead>\n",
       "    <tr style=\"text-align: right;\">\n",
       "      <th></th>\n",
       "      <th>Episode</th>\n",
       "      <th>Speakers</th>\n",
       "      <th>Utterances</th>\n",
       "      <th>Emotions</th>\n",
       "      <th>Clean_text</th>\n",
       "    </tr>\n",
       "  </thead>\n",
       "  <tbody>\n",
       "    <tr>\n",
       "      <th>0</th>\n",
       "      <td>roseshantstobeadopted.wmv</td>\n",
       "      <td>good rosesh</td>\n",
       "      <td>ye kya kar raha hai rosesh? bharat tera desh! ...</td>\n",
       "      <td>neutral</td>\n",
       "      <td>kya kar rosesh bharat tera desh bhartiya insan...</td>\n",
       "    </tr>\n",
       "    <tr>\n",
       "      <th>1</th>\n",
       "      <td>roseshantstobeadopted.wmv</td>\n",
       "      <td>bad rosesh</td>\n",
       "      <td>hahaha khat padh le rosesh baby or padhne de h...</td>\n",
       "      <td>neutral</td>\n",
       "      <td>hahaha khat padh le rosesh baby padhne de hame...</td>\n",
       "    </tr>\n",
       "  </tbody>\n",
       "</table>\n",
       "</div>"
      ],
      "text/plain": [
       "                     Episode     Speakers  \\\n",
       "0  roseshantstobeadopted.wmv  good rosesh   \n",
       "1  roseshantstobeadopted.wmv   bad rosesh   \n",
       "\n",
       "                                          Utterances Emotions  \\\n",
       "0  ye kya kar raha hai rosesh? bharat tera desh! ...  neutral   \n",
       "1  hahaha khat padh le rosesh baby or padhne de h...  neutral   \n",
       "\n",
       "                                          Clean_text  \n",
       "0  kya kar rosesh bharat tera desh bhartiya insan...  \n",
       "1  hahaha khat padh le rosesh baby padhne de hame...  "
      ]
     },
     "execution_count": 45,
     "metadata": {},
     "output_type": "execute_result"
    }
   ],
   "source": [
    "df1 = val_df\n",
    "df1.head(2)"
   ]
  },
  {
   "cell_type": "code",
   "execution_count": 46,
   "id": "5ab239b7",
   "metadata": {},
   "outputs": [],
   "source": [
    "from sklearn.preprocessing import LabelEncoder\n",
    "labelencoder = LabelEncoder()\n",
    "df['label_enc'] = labelencoder.fit_transform(df['Emotions'])"
   ]
  },
  {
   "cell_type": "code",
   "execution_count": 47,
   "id": "afe4d9b4",
   "metadata": {},
   "outputs": [],
   "source": [
    "from sklearn.preprocessing import LabelEncoder\n",
    "labelencoder = LabelEncoder()\n",
    "df1['label_enc'] = labelencoder.fit_transform(df1['Emotions'])"
   ]
  },
  {
   "cell_type": "code",
   "execution_count": 48,
   "id": "d1f8bf36",
   "metadata": {},
   "outputs": [
    {
     "data": {
      "text/html": [
       "<div>\n",
       "<style scoped>\n",
       "    .dataframe tbody tr th:only-of-type {\n",
       "        vertical-align: middle;\n",
       "    }\n",
       "\n",
       "    .dataframe tbody tr th {\n",
       "        vertical-align: top;\n",
       "    }\n",
       "\n",
       "    .dataframe thead th {\n",
       "        text-align: right;\n",
       "    }\n",
       "</style>\n",
       "<table border=\"1\" class=\"dataframe\">\n",
       "  <thead>\n",
       "    <tr style=\"text-align: right;\">\n",
       "      <th></th>\n",
       "      <th>Episode</th>\n",
       "      <th>Speakers</th>\n",
       "      <th>Utterances</th>\n",
       "      <th>Emotions</th>\n",
       "      <th>Clean_text</th>\n",
       "      <th>label_enc</th>\n",
       "    </tr>\n",
       "  </thead>\n",
       "  <tbody>\n",
       "    <tr>\n",
       "      <th>0</th>\n",
       "      <td>roseshantstobeadopted.wmv</td>\n",
       "      <td>maya</td>\n",
       "      <td>kya kya bhar ke rakha hai indravadan ne is gha...</td>\n",
       "      <td>disgust</td>\n",
       "      <td>kya kya bhar rakha indravadan ghar mein indrav...</td>\n",
       "      <td>2</td>\n",
       "    </tr>\n",
       "  </tbody>\n",
       "</table>\n",
       "</div>"
      ],
      "text/plain": [
       "                     Episode Speakers  \\\n",
       "0  roseshantstobeadopted.wmv     maya   \n",
       "\n",
       "                                          Utterances Emotions  \\\n",
       "0  kya kya bhar ke rakha hai indravadan ne is gha...  disgust   \n",
       "\n",
       "                                          Clean_text  label_enc  \n",
       "0  kya kya bhar rakha indravadan ghar mein indrav...          2  "
      ]
     },
     "execution_count": 48,
     "metadata": {},
     "output_type": "execute_result"
    }
   ],
   "source": [
    "df.head(1)"
   ]
  },
  {
   "cell_type": "code",
   "execution_count": 49,
   "id": "8899341a",
   "metadata": {},
   "outputs": [
    {
     "data": {
      "text/html": [
       "<div>\n",
       "<style scoped>\n",
       "    .dataframe tbody tr th:only-of-type {\n",
       "        vertical-align: middle;\n",
       "    }\n",
       "\n",
       "    .dataframe tbody tr th {\n",
       "        vertical-align: top;\n",
       "    }\n",
       "\n",
       "    .dataframe thead th {\n",
       "        text-align: right;\n",
       "    }\n",
       "</style>\n",
       "<table border=\"1\" class=\"dataframe\">\n",
       "  <thead>\n",
       "    <tr style=\"text-align: right;\">\n",
       "      <th></th>\n",
       "      <th>Episode</th>\n",
       "      <th>Speakers</th>\n",
       "      <th>Utterances</th>\n",
       "      <th>Emotions</th>\n",
       "      <th>Clean_text</th>\n",
       "      <th>label_enc</th>\n",
       "    </tr>\n",
       "  </thead>\n",
       "  <tbody>\n",
       "    <tr>\n",
       "      <th>0</th>\n",
       "      <td>roseshantstobeadopted.wmv</td>\n",
       "      <td>good rosesh</td>\n",
       "      <td>ye kya kar raha hai rosesh? bharat tera desh! ...</td>\n",
       "      <td>neutral</td>\n",
       "      <td>kya kar rosesh bharat tera desh bhartiya insan...</td>\n",
       "      <td>5</td>\n",
       "    </tr>\n",
       "  </tbody>\n",
       "</table>\n",
       "</div>"
      ],
      "text/plain": [
       "                     Episode     Speakers  \\\n",
       "0  roseshantstobeadopted.wmv  good rosesh   \n",
       "\n",
       "                                          Utterances Emotions  \\\n",
       "0  ye kya kar raha hai rosesh? bharat tera desh! ...  neutral   \n",
       "\n",
       "                                          Clean_text  label_enc  \n",
       "0  kya kar rosesh bharat tera desh bhartiya insan...          5  "
      ]
     },
     "execution_count": 49,
     "metadata": {},
     "output_type": "execute_result"
    }
   ],
   "source": [
    "df1.head(1)"
   ]
  },
  {
   "cell_type": "code",
   "execution_count": 63,
   "id": "aba09713",
   "metadata": {},
   "outputs": [
    {
     "name": "stderr",
     "output_type": "stream",
     "text": [
      "/tmp/ipykernel_37531/59600658.py:1: SettingWithCopyWarning: \n",
      "A value is trying to be set on a copy of a slice from a DataFrame\n",
      "\n",
      "See the caveats in the documentation: https://pandas.pydata.org/pandas-docs/stable/user_guide/indexing.html#returning-a-view-versus-a-copy\n",
      "  df.rename(columns={'Emotions':'label_desc'},inplace=True)\n",
      "/tmp/ipykernel_37531/59600658.py:2: SettingWithCopyWarning: \n",
      "A value is trying to be set on a copy of a slice from a DataFrame\n",
      "\n",
      "See the caveats in the documentation: https://pandas.pydata.org/pandas-docs/stable/user_guide/indexing.html#returning-a-view-versus-a-copy\n",
      "  df.rename(columns={'label_enc':'label'},inplace=True)\n"
     ]
    }
   ],
   "source": [
    "df.rename(columns={'Emotions':'label_desc'},inplace=True)\n",
    "df.rename(columns={'label_enc':'label'},inplace=True)"
   ]
  },
  {
   "cell_type": "code",
   "execution_count": 64,
   "id": "16ce098a",
   "metadata": {},
   "outputs": [
    {
     "name": "stderr",
     "output_type": "stream",
     "text": [
      "/tmp/ipykernel_37531/1265586525.py:1: SettingWithCopyWarning: \n",
      "A value is trying to be set on a copy of a slice from a DataFrame\n",
      "\n",
      "See the caveats in the documentation: https://pandas.pydata.org/pandas-docs/stable/user_guide/indexing.html#returning-a-view-versus-a-copy\n",
      "  df1.rename(columns={'Emotions':'label_desc'},inplace=True)\n",
      "/tmp/ipykernel_37531/1265586525.py:2: SettingWithCopyWarning: \n",
      "A value is trying to be set on a copy of a slice from a DataFrame\n",
      "\n",
      "See the caveats in the documentation: https://pandas.pydata.org/pandas-docs/stable/user_guide/indexing.html#returning-a-view-versus-a-copy\n",
      "  df1.rename(columns={'label_enc':'label'},inplace=True)\n"
     ]
    }
   ],
   "source": [
    "df1.rename(columns={'Emotions':'label_desc'},inplace=True)\n",
    "df1.rename(columns={'label_enc':'label'},inplace=True)"
   ]
  },
  {
   "cell_type": "code",
   "execution_count": 65,
   "id": "867d11aa",
   "metadata": {},
   "outputs": [
    {
     "data": {
      "text/html": [
       "<div>\n",
       "<style scoped>\n",
       "    .dataframe tbody tr th:only-of-type {\n",
       "        vertical-align: middle;\n",
       "    }\n",
       "\n",
       "    .dataframe tbody tr th {\n",
       "        vertical-align: top;\n",
       "    }\n",
       "\n",
       "    .dataframe thead th {\n",
       "        text-align: right;\n",
       "    }\n",
       "</style>\n",
       "<table border=\"1\" class=\"dataframe\">\n",
       "  <thead>\n",
       "    <tr style=\"text-align: right;\">\n",
       "      <th></th>\n",
       "      <th>Clean_text</th>\n",
       "      <th>label</th>\n",
       "    </tr>\n",
       "  </thead>\n",
       "  <tbody>\n",
       "    <tr>\n",
       "      <th>0</th>\n",
       "      <td>kya kya bhar rakha indravadan ghar mein indrav...</td>\n",
       "      <td>2</td>\n",
       "    </tr>\n",
       "  </tbody>\n",
       "</table>\n",
       "</div>"
      ],
      "text/plain": [
       "                                          Clean_text  label\n",
       "0  kya kya bhar rakha indravadan ghar mein indrav...      2"
      ]
     },
     "execution_count": 65,
     "metadata": {},
     "output_type": "execute_result"
    }
   ],
   "source": [
    "df.head(1)"
   ]
  },
  {
   "cell_type": "code",
   "execution_count": 66,
   "id": "b7debf0b",
   "metadata": {},
   "outputs": [
    {
     "data": {
      "text/html": [
       "<div>\n",
       "<style scoped>\n",
       "    .dataframe tbody tr th:only-of-type {\n",
       "        vertical-align: middle;\n",
       "    }\n",
       "\n",
       "    .dataframe tbody tr th {\n",
       "        vertical-align: top;\n",
       "    }\n",
       "\n",
       "    .dataframe thead th {\n",
       "        text-align: right;\n",
       "    }\n",
       "</style>\n",
       "<table border=\"1\" class=\"dataframe\">\n",
       "  <thead>\n",
       "    <tr style=\"text-align: right;\">\n",
       "      <th></th>\n",
       "      <th>Clean_text</th>\n",
       "      <th>label</th>\n",
       "    </tr>\n",
       "  </thead>\n",
       "  <tbody>\n",
       "    <tr>\n",
       "      <th>0</th>\n",
       "      <td>kya kar rosesh bharat tera desh bhartiya insan...</td>\n",
       "      <td>5</td>\n",
       "    </tr>\n",
       "  </tbody>\n",
       "</table>\n",
       "</div>"
      ],
      "text/plain": [
       "                                          Clean_text  label\n",
       "0  kya kar rosesh bharat tera desh bhartiya insan...      5"
      ]
     },
     "execution_count": 66,
     "metadata": {},
     "output_type": "execute_result"
    }
   ],
   "source": [
    "df1.head(1)"
   ]
  },
  {
   "cell_type": "code",
   "execution_count": 67,
   "id": "05f3b373",
   "metadata": {},
   "outputs": [],
   "source": [
    "df = df[[\"Clean_text\",\"label\"]]"
   ]
  },
  {
   "cell_type": "code",
   "execution_count": 68,
   "id": "25e08977",
   "metadata": {},
   "outputs": [
    {
     "data": {
      "text/html": [
       "<div>\n",
       "<style scoped>\n",
       "    .dataframe tbody tr th:only-of-type {\n",
       "        vertical-align: middle;\n",
       "    }\n",
       "\n",
       "    .dataframe tbody tr th {\n",
       "        vertical-align: top;\n",
       "    }\n",
       "\n",
       "    .dataframe thead th {\n",
       "        text-align: right;\n",
       "    }\n",
       "</style>\n",
       "<table border=\"1\" class=\"dataframe\">\n",
       "  <thead>\n",
       "    <tr style=\"text-align: right;\">\n",
       "      <th></th>\n",
       "      <th>Clean_text</th>\n",
       "      <th>label</th>\n",
       "    </tr>\n",
       "  </thead>\n",
       "  <tbody>\n",
       "    <tr>\n",
       "      <th>0</th>\n",
       "      <td>kya kya bhar rakha indravadan ghar mein indrav...</td>\n",
       "      <td>2</td>\n",
       "    </tr>\n",
       "  </tbody>\n",
       "</table>\n",
       "</div>"
      ],
      "text/plain": [
       "                                          Clean_text  label\n",
       "0  kya kya bhar rakha indravadan ghar mein indrav...      2"
      ]
     },
     "execution_count": 68,
     "metadata": {},
     "output_type": "execute_result"
    }
   ],
   "source": [
    "df.head(1)"
   ]
  },
  {
   "cell_type": "code",
   "execution_count": 69,
   "id": "9c4c5f05",
   "metadata": {},
   "outputs": [],
   "source": [
    "df1 = df1[[\"Clean_text\",\"label\"]]"
   ]
  },
  {
   "cell_type": "code",
   "execution_count": 70,
   "id": "c15d2970",
   "metadata": {},
   "outputs": [
    {
     "data": {
      "text/html": [
       "<div>\n",
       "<style scoped>\n",
       "    .dataframe tbody tr th:only-of-type {\n",
       "        vertical-align: middle;\n",
       "    }\n",
       "\n",
       "    .dataframe tbody tr th {\n",
       "        vertical-align: top;\n",
       "    }\n",
       "\n",
       "    .dataframe thead th {\n",
       "        text-align: right;\n",
       "    }\n",
       "</style>\n",
       "<table border=\"1\" class=\"dataframe\">\n",
       "  <thead>\n",
       "    <tr style=\"text-align: right;\">\n",
       "      <th></th>\n",
       "      <th>Clean_text</th>\n",
       "      <th>label</th>\n",
       "    </tr>\n",
       "  </thead>\n",
       "  <tbody>\n",
       "    <tr>\n",
       "      <th>0</th>\n",
       "      <td>kya kar rosesh bharat tera desh bhartiya insan...</td>\n",
       "      <td>5</td>\n",
       "    </tr>\n",
       "  </tbody>\n",
       "</table>\n",
       "</div>"
      ],
      "text/plain": [
       "                                          Clean_text  label\n",
       "0  kya kar rosesh bharat tera desh bhartiya insan...      5"
      ]
     },
     "execution_count": 70,
     "metadata": {},
     "output_type": "execute_result"
    }
   ],
   "source": [
    "df1.head(1)"
   ]
  },
  {
   "cell_type": "code",
   "execution_count": 71,
   "id": "fc4bbf38",
   "metadata": {},
   "outputs": [],
   "source": [
    "X_train = df[\"Clean_text\"]\n",
    "y_train = df[\"label\"]"
   ]
  },
  {
   "cell_type": "code",
   "execution_count": 72,
   "id": "1bdd8144",
   "metadata": {},
   "outputs": [
    {
     "data": {
      "text/plain": [
       "0       kya kya bhar rakha indravadan ghar mein indrav...\n",
       "1                             ok chalo rosesh chalo bahar\n",
       "2                                 momma hath chhodiye dad\n",
       "3       dekho maya bol fir tum kahogi faltu chijen jam...\n",
       "4             indravadan tum kitne salo joke maar aaj tak\n",
       "                              ...                        \n",
       "8501    lekin ghadi ghadi momma recurring alarm baje a...\n",
       "8502    nhi nhi mujhe yahan kaamich nhi karna jaa rhi hun\n",
       "8503                                                 ahan\n",
       "8504                                              goodbye\n",
       "8505    goodbye nikalo nikalo chorro hath chorro badby...\n",
       "Name: Clean_text, Length: 8506, dtype: object"
      ]
     },
     "execution_count": 72,
     "metadata": {},
     "output_type": "execute_result"
    }
   ],
   "source": [
    "X_train"
   ]
  },
  {
   "cell_type": "code",
   "execution_count": 73,
   "id": "a7824f7a",
   "metadata": {},
   "outputs": [],
   "source": [
    "X_val = df1[\"Clean_text\"]\n",
    "y_val = df1[\"label\"]"
   ]
  },
  {
   "cell_type": "code",
   "execution_count": 74,
   "id": "5183f967",
   "metadata": {
    "scrolled": true
   },
   "outputs": [
    {
     "name": "stdout",
     "output_type": "stream",
     "text": [
      "Shape of X_train: (8506,)\n",
      "Shape of X_val: (1354,)\n"
     ]
    }
   ],
   "source": [
    "# Printing the shapes of the datasets\n",
    "print(\"Shape of X_train:\", X_train.shape)\n",
    "print(\"Shape of X_val:\", X_val.shape)"
   ]
  },
  {
   "cell_type": "code",
   "execution_count": 75,
   "id": "caa8e331",
   "metadata": {},
   "outputs": [],
   "source": [
    "#y_train"
   ]
  },
  {
   "cell_type": "code",
   "execution_count": 76,
   "id": "c1b4ff8b",
   "metadata": {
    "scrolled": false
   },
   "outputs": [],
   "source": [
    "#X_train"
   ]
  },
  {
   "cell_type": "code",
   "execution_count": 77,
   "id": "265ba2f3",
   "metadata": {},
   "outputs": [
    {
     "name": "stdout",
     "output_type": "stream",
     "text": [
      "Train DataFrame:\n",
      "                                                text  emotion\n",
      "0  kya kya bhar rakha indravadan ghar mein indrav...        2\n",
      "\n",
      "Validation DataFrame:\n",
      "                                                text  emotion\n",
      "0  kya kar rosesh bharat tera desh bhartiya insan...        5\n"
     ]
    }
   ],
   "source": [
    "# Create DataFrames for train, validation, and test sets\n",
    "train_df = pd.DataFrame({'text': X_train, 'emotion': y_train})\n",
    "val_df = pd.DataFrame({'text': X_val, 'emotion': y_val})\n",
    "\n",
    "# Print the DataFrames\n",
    "print(\"Train DataFrame:\")\n",
    "print(train_df.head(1))  # Adjust the number of rows as needed\n",
    "\n",
    "print(\"\\nValidation DataFrame:\")\n",
    "print(val_df.head(1))  # Adjust the number of rows as needed\n"
   ]
  },
  {
   "cell_type": "code",
   "execution_count": 78,
   "id": "8e9108cb",
   "metadata": {},
   "outputs": [
    {
     "name": "stdout",
     "output_type": "stream",
     "text": [
      "Unique vocabulary:\n",
      "['aa' 'aaa' 'aaaa' ... 'zyada' 'zyatti' 'zyattiyan']\n"
     ]
    }
   ],
   "source": [
    "from sklearn.feature_extraction.text import CountVectorizer\n",
    "\n",
    "# Assuming 'text' is the column containing the text data\n",
    "text1_data = train_df['text'].tolist()\n",
    "\n",
    "# Creating an instance of CountVectorizer\n",
    "vectorizer = CountVectorizer()\n",
    "\n",
    "# Fitting the vectorizer on the text data\n",
    "vectorizer.fit(text1_data)\n",
    "\n",
    "# Getting the unique vocabulary\n",
    "unique_vocab = vectorizer.get_feature_names_out()\n",
    "\n",
    "# Printing the unique vocabulary\n",
    "print(\"Unique vocabulary:\")\n",
    "print(unique_vocab)\n"
   ]
  },
  {
   "cell_type": "code",
   "execution_count": 80,
   "id": "b45199dd",
   "metadata": {},
   "outputs": [
    {
     "data": {
      "text/plain": [
       "'kya kya bhar rakha indravadan ghar mein indravadan please tum sari bekar chijen bahar kyon nahin fekte'"
      ]
     },
     "execution_count": 80,
     "metadata": {},
     "output_type": "execute_result"
    }
   ],
   "source": [
    "text1_data[0]"
   ]
  },
  {
   "cell_type": "code",
   "execution_count": 81,
   "id": "5a6674a6",
   "metadata": {},
   "outputs": [
    {
     "data": {
      "text/plain": [
       "10533"
      ]
     },
     "execution_count": 81,
     "metadata": {},
     "output_type": "execute_result"
    }
   ],
   "source": [
    "len(unique_vocab)"
   ]
  },
  {
   "cell_type": "code",
   "execution_count": 82,
   "id": "745212a9",
   "metadata": {},
   "outputs": [],
   "source": [
    "def separate_features_and_labels(dataset):\n",
    "    \"\"\"\n",
    "    Function: Separates features and labels\n",
    "    \n",
    "    Arguments: dataset\n",
    "    \n",
    "    Returns: Tuple of features and labels in NumPy format\n",
    "    \"\"\"\n",
    "    features = dataset[\"text\"].to_numpy()\n",
    "    labels = dataset[\"emotion\"].to_numpy()\n",
    "    \n",
    "    return (features, labels)"
   ]
  },
  {
   "cell_type": "code",
   "execution_count": 83,
   "id": "c38c5599",
   "metadata": {},
   "outputs": [],
   "source": [
    "(train_features, train_labels) = separate_features_and_labels(train_df)\n",
    "(validation_features, validation_labels) = separate_features_and_labels(val_df)\n"
   ]
  },
  {
   "cell_type": "code",
   "execution_count": 84,
   "id": "caa93ad3",
   "metadata": {},
   "outputs": [
    {
     "data": {
      "text/plain": [
       "array(['kya kya bhar rakha indravadan ghar mein indravadan please tum sari bekar chijen bahar kyon nahin fekte',\n",
       "       'ok chalo rosesh chalo bahar', 'momma hath chhodiye dad', ...,\n",
       "       'ahan', 'goodbye',\n",
       "       'goodbye nikalo nikalo chorro hath chorro badbye bad bai bad bai look'],\n",
       "      dtype=object)"
      ]
     },
     "execution_count": 84,
     "metadata": {},
     "output_type": "execute_result"
    }
   ],
   "source": [
    "train_features"
   ]
  },
  {
   "cell_type": "code",
   "execution_count": 85,
   "id": "43961496",
   "metadata": {},
   "outputs": [],
   "source": [
    "#A brief check confirms that labels are stored as an array in separate variables.\n"
   ]
  },
  {
   "cell_type": "code",
   "execution_count": 86,
   "id": "f1273f5f",
   "metadata": {},
   "outputs": [
    {
     "data": {
      "text/plain": [
       "array([2, 1, 0, ..., 4, 3, 2])"
      ]
     },
     "execution_count": 86,
     "metadata": {},
     "output_type": "execute_result"
    }
   ],
   "source": [
    "train_labels"
   ]
  },
  {
   "cell_type": "code",
   "execution_count": null,
   "id": "60c17b4a",
   "metadata": {},
   "outputs": [],
   "source": []
  },
  {
   "cell_type": "code",
   "execution_count": 87,
   "id": "535b5dd9",
   "metadata": {},
   "outputs": [],
   "source": [
    "from tensorflow.keras.preprocessing.text import Tokenizer\n",
    "import matplotlib.pyplot as plt"
   ]
  },
  {
   "cell_type": "code",
   "execution_count": 89,
   "id": "b6df3a87",
   "metadata": {},
   "outputs": [
    {
     "data": {
      "text/html": [
       "<div>\n",
       "<style scoped>\n",
       "    .dataframe tbody tr th:only-of-type {\n",
       "        vertical-align: middle;\n",
       "    }\n",
       "\n",
       "    .dataframe tbody tr th {\n",
       "        vertical-align: top;\n",
       "    }\n",
       "\n",
       "    .dataframe thead th {\n",
       "        text-align: right;\n",
       "    }\n",
       "</style>\n",
       "<table border=\"1\" class=\"dataframe\">\n",
       "  <thead>\n",
       "    <tr style=\"text-align: right;\">\n",
       "      <th></th>\n",
       "      <th>text</th>\n",
       "      <th>emotion</th>\n",
       "    </tr>\n",
       "  </thead>\n",
       "  <tbody>\n",
       "    <tr>\n",
       "      <th>0</th>\n",
       "      <td>kya kya bhar rakha indravadan ghar mein indrav...</td>\n",
       "      <td>2</td>\n",
       "    </tr>\n",
       "  </tbody>\n",
       "</table>\n",
       "</div>"
      ],
      "text/plain": [
       "                                                text  emotion\n",
       "0  kya kya bhar rakha indravadan ghar mein indrav...        2"
      ]
     },
     "execution_count": 89,
     "metadata": {},
     "output_type": "execute_result"
    }
   ],
   "source": [
    "train_df.head(1)"
   ]
  },
  {
   "cell_type": "code",
   "execution_count": 175,
   "id": "19eea398",
   "metadata": {},
   "outputs": [
    {
     "name": "stdout",
     "output_type": "stream",
     "text": [
      "kya kya bhar rakha indravadan ghar mein indravadan please tum sari bekar chijen bahar kyon nahin fekte\n"
     ]
    }
   ],
   "source": [
    "# Convert the DataFrame column to a list\n",
    "text_list = train_df['text'].tolist()\n",
    "\n",
    "# Display the list\n",
    "print(text_list[0])\n"
   ]
  },
  {
   "cell_type": "code",
   "execution_count": 100,
   "id": "6e3466ea",
   "metadata": {},
   "outputs": [
    {
     "data": {
      "image/png": "[encoded data removed]",
      "text/plain": [
       "<Figure size 640x480 with 1 Axes>"
      ]
     },
     "metadata": {},
     "output_type": "display_data"
    },
    {
     "name": "stdout",
     "output_type": "stream",
     "text": [
      "Chosen MAX_LENGTH: 15\n"
     ]
    }
   ],
   "source": [
    "# Tokenize the text data\n",
    "tokenizer = Tokenizer()\n",
    "tokenizer.fit_on_texts(text_list)\n",
    "sequences = tokenizer.texts_to_sequences(text_list)\n",
    "\n",
    "# Calculate the lengths of the sequences\n",
    "sequence_lengths = [len(seq) for seq in sequences]\n",
    "\n",
    "# Plot a histogram of the sequence lengths\n",
    "plt.hist(sequence_lengths, bins=30, alpha=0.7, color='b')\n",
    "plt.title('Sequence Length Distribution')\n",
    "plt.xlabel('Sequence Length')\n",
    "plt.ylabel('Frequency')\n",
    "plt.show()\n",
    "\n",
    "# Choose an appropriate MAX_LENGTH based on the distribution\n",
    "max_length = 15  # Adjust this value based on the histogram and your requirements\n",
    "print(f\"Chosen MAX_LENGTH: {max_length}\")"
   ]
  },
  {
   "cell_type": "code",
   "execution_count": 239,
   "id": "830063b7",
   "metadata": {},
   "outputs": [],
   "source": [
    "VOCABULARY_SIZE = 10533\n",
    "EMBEDDING_DIM = 32\n",
    "MAX_LENGTH = 94\n",
    "PADDING_TYPE = \"post\"\n",
    "TRUNC_TYPE = \"post\""
   ]
  },
  {
   "cell_type": "raw",
   "id": "95f6c35b",
   "metadata": {},
   "source": [
    "Text pre-processing stage tokenizes words and makes each row the same length. The first step is initializing the Tokenizer. It is instruncted to use as many words as defined in the VOCABULARY_SIZE variable above."
   ]
  },
  {
   "cell_type": "code",
   "execution_count": 240,
   "id": "8921ee81",
   "metadata": {},
   "outputs": [],
   "source": [
    "from tensorflow.keras.preprocessing.text import Tokenizer\n"
   ]
  },
  {
   "cell_type": "code",
   "execution_count": 241,
   "id": "c22d694b",
   "metadata": {},
   "outputs": [],
   "source": [
    "tokenizer = Tokenizer(num_words = VOCABULARY_SIZE)"
   ]
  },
  {
   "cell_type": "code",
   "execution_count": 242,
   "id": "f06ebcda",
   "metadata": {
    "scrolled": false
   },
   "outputs": [
    {
     "name": "stdout",
     "output_type": "stream",
     "text": [
      "Vocabulary:\n",
      "['aa' 'aaa' 'aaaa' ... 'zyada' 'zyatti' 'zyattiyan']\n",
      "\n",
      "Array:\n",
      "[[0 0 0 ... 0 0 0]\n",
      " [0 0 0 ... 0 0 0]\n",
      " [0 0 0 ... 0 0 0]\n",
      " ...\n",
      " [0 0 0 ... 0 0 0]\n",
      " [0 0 0 ... 0 0 0]\n",
      " [0 0 0 ... 0 0 0]]\n"
     ]
    }
   ],
   "source": [
    "from sklearn.feature_extraction.text import CountVectorizer\n",
    "\n",
    "# Sample text data\n",
    "text_data =  train_df['text']\n",
    "\n",
    "# Initialize the CountVectorizer\n",
    "vectorizer = CountVectorizer()\n",
    "#unique_word = vectorizer.get_feature_names_out()\n",
    "#unique_word\n",
    "# Fit and transform the text data\n",
    "X = vectorizer.fit_transform(text_data)\n",
    "\n",
    "# Convert to an array\n",
    "X_array = X.toarray()\n",
    "\n",
    "# Print the vocabulary and the array\n",
    "print(\"Vocabulary:\")\n",
    "print(vectorizer.get_feature_names_out())\n",
    "print(\"\\nArray:\")\n",
    "print(X_array)"
   ]
  },
  {
   "cell_type": "code",
   "execution_count": 243,
   "id": "7e57335c",
   "metadata": {},
   "outputs": [
    {
     "data": {
      "text/plain": [
       "array([[0, 0, 0, ..., 0, 0, 0],\n",
       "       [0, 0, 0, ..., 0, 0, 0],\n",
       "       [0, 0, 0, ..., 0, 0, 0],\n",
       "       ...,\n",
       "       [0, 0, 0, ..., 0, 0, 0],\n",
       "       [0, 0, 0, ..., 0, 0, 0],\n",
       "       [0, 0, 0, ..., 0, 0, 0]])"
      ]
     },
     "execution_count": 243,
     "metadata": {},
     "output_type": "execute_result"
    }
   ],
   "source": [
    "from sklearn.feature_extraction.text import CountVectorizer\n",
    "\n",
    "# Assuming train_features is defined as the list of text data\n",
    "vectorizer = CountVectorizer()\n",
    "X_train = vectorizer.fit_transform(train_features)\n",
    "\n",
    "# X_train is now the matrix of token counts for the train_features\n",
    "X_array"
   ]
  },
  {
   "cell_type": "code",
   "execution_count": 244,
   "id": "2740d71f",
   "metadata": {},
   "outputs": [],
   "source": [
    "# Get the vocabulary\n",
    "vocabulary = vectorizer.get_feature_names_out()\n",
    "\n",
    "# Access the vectors for each word in the vocabulary\n",
    "for word in vocabulary:\n",
    "    word_index = vectorizer.vocabulary_.get(word)\n",
    "    word_vector = X_train[:, word_index].toarray()\n",
    "    #print(f\"Word: {word}, Vector: {word_vector}\")"
   ]
  },
  {
   "cell_type": "code",
   "execution_count": 245,
   "id": "53d2493c",
   "metadata": {},
   "outputs": [
    {
     "data": {
      "text/plain": [
       "<8506x10533 sparse matrix of type '<class 'numpy.int64'>'\n",
       "\twith 63117 stored elements in Compressed Sparse Row format>"
      ]
     },
     "execution_count": 245,
     "metadata": {},
     "output_type": "execute_result"
    }
   ],
   "source": [
    "X_train"
   ]
  },
  {
   "cell_type": "code",
   "execution_count": 246,
   "id": "5ffc9b37",
   "metadata": {},
   "outputs": [
    {
     "data": {
      "text/plain": [
       "array(['aa', 'aaa', 'aaaa', ..., 'zyada', 'zyatti', 'zyattiyan'],\n",
       "      dtype=object)"
      ]
     },
     "execution_count": 246,
     "metadata": {},
     "output_type": "execute_result"
    }
   ],
   "source": [
    "unique_vocab"
   ]
  },
  {
   "cell_type": "code",
   "execution_count": 247,
   "id": "d5095c92",
   "metadata": {},
   "outputs": [],
   "source": [
    "# Example of creating a word_index dictionary\n",
    "word_index = {}\n",
    "index = 1  # Start indexing from 1 to avoid conflicts with 0 as padding\n",
    "\n",
    "# Assuming unique_words is a list of unique words\n",
    "unique_words =unique_vocab # Replace with your list of unique words\n",
    "\n",
    "for word in unique_words:\n",
    "    word_index[word] = index\n",
    "    index += 1\n"
   ]
  },
  {
   "cell_type": "code",
   "execution_count": 248,
   "id": "7f23d953",
   "metadata": {},
   "outputs": [],
   "source": [
    "#word_index"
   ]
  },
  {
   "cell_type": "code",
   "execution_count": 249,
   "id": "d6f1a66c",
   "metadata": {},
   "outputs": [],
   "source": [
    "from tensorflow.keras.preprocessing.sequence import pad_sequences\n",
    "\n",
    "# Assuming you have 'train_sequences', 'MAX_LENGTH', 'PADDING_TYPE', and 'TRUNC_TYPE' defined\n",
    "# Adjust the values as needed\n",
    "\n",
    "# Padding the sequences\n",
    "train_padded = pad_sequences(X_array, maxlen=MAX_LENGTH, padding=PADDING_TYPE, truncating=TRUNC_TYPE)\n"
   ]
  },
  {
   "cell_type": "code",
   "execution_count": 250,
   "id": "575bed7e",
   "metadata": {},
   "outputs": [
    {
     "data": {
      "text/plain": [
       "array([0, 0, 0, 0, 0, 0, 0, 0, 0, 0, 0, 0, 0, 0, 0, 0, 0, 0, 0, 0, 0, 0,\n",
       "       0, 0, 0, 0, 0, 0, 0, 0, 0, 0, 0, 0, 0, 0, 0, 0, 0, 0, 0, 0, 0, 0,\n",
       "       0, 0, 0, 0, 0, 0, 0, 0, 0, 0, 0, 0, 0, 0, 0, 0, 0, 0, 0, 0, 0, 0,\n",
       "       0, 0, 0, 0, 0, 0, 0, 0, 0, 0, 0, 0, 0, 0, 0, 0, 0, 0, 0, 0, 0, 0,\n",
       "       0, 0, 0, 0, 0, 0], dtype=int32)"
      ]
     },
     "execution_count": 250,
     "metadata": {},
     "output_type": "execute_result"
    }
   ],
   "source": [
    "train_padded[150]"
   ]
  },
  {
   "cell_type": "code",
   "execution_count": 251,
   "id": "d70a71a9",
   "metadata": {},
   "outputs": [],
   "source": [
    "reverse_word_index = dict([(value, key) for (key, value) in word_index.items()])\n"
   ]
  },
  {
   "cell_type": "code",
   "execution_count": 252,
   "id": "7bc6beb8",
   "metadata": {},
   "outputs": [],
   "source": [
    "#reverse_word_index"
   ]
  },
  {
   "cell_type": "code",
   "execution_count": 253,
   "id": "f293de3a",
   "metadata": {},
   "outputs": [],
   "source": [
    "def decode_sentence(text):\n",
    "    \"\"\"\n",
    "    Function: Reverse tokenization\n",
    "    \n",
    "    Arguments: List of tokens\n",
    "    \n",
    "    Returns: A list of strings\n",
    "    \"\"\"\n",
    "    return \" \".join([reverse_word_index.get(i, \"?\") for i in text])"
   ]
  },
  {
   "cell_type": "code",
   "execution_count": 254,
   "id": "4088915f",
   "metadata": {},
   "outputs": [
    {
     "name": "stdout",
     "output_type": "stream",
     "text": [
      "? ? ? ? ? ? ? ? ? ? ? ? ? ? ? ? ? ? ? ? ? ? ? ? ? ? ? ? ? ? ? ? ? ? ? ? ? ? ? ? ? ? ? ? ? ? ? ? ? ? ? ? ? ? ? ? ? ? ? ? ? ? ? ? ? ? ? ? ? ? ? ? ? ? ? ? ? ? ? ? ? ? ? ? ? ? ? ? ? ? ? ? ? ?\n",
      "ayy dekho dekho\n"
     ]
    }
   ],
   "source": [
    "print(decode_sentence(train_padded[150]))\n",
    "print(train_features[150])"
   ]
  },
  {
   "cell_type": "code",
   "execution_count": 256,
   "id": "17653bd2",
   "metadata": {},
   "outputs": [],
   "source": [
    "validation_sequences = tokenizer.texts_to_sequences(validation_features)"
   ]
  },
  {
   "cell_type": "code",
   "execution_count": 257,
   "id": "3906450b",
   "metadata": {},
   "outputs": [],
   "source": [
    "validation_padded = pad_sequences(validation_sequences, maxlen = MAX_LENGTH, padding = PADDING_TYPE, truncating = TRUNC_TYPE)"
   ]
  },
  {
   "cell_type": "markdown",
   "id": "a340edac",
   "metadata": {},
   "source": [
    "# Building and training a Neural Network¶\n"
   ]
  },
  {
   "cell_type": "code",
   "execution_count": 258,
   "id": "be145f56",
   "metadata": {},
   "outputs": [],
   "source": [
    "OUTPUT_SHAPE = len(set(train_labels))"
   ]
  },
  {
   "cell_type": "code",
   "execution_count": 259,
   "id": "afdd7cd5",
   "metadata": {},
   "outputs": [
    {
     "data": {
      "text/plain": [
       "8"
      ]
     },
     "execution_count": 259,
     "metadata": {},
     "output_type": "execute_result"
    }
   ],
   "source": [
    "OUTPUT_SHAPE"
   ]
  },
  {
   "cell_type": "raw",
   "id": "a43e00a0",
   "metadata": {},
   "source": [
    "To avoid clutter from existing models and layers (when model is being fune-tuned several times), especially when memory is limited, clear_session() resets all prior state generated by Keras."
   ]
  },
  {
   "cell_type": "code",
   "execution_count": 260,
   "id": "e1b78e6e",
   "metadata": {},
   "outputs": [],
   "source": [
    "import tensorflow as tf"
   ]
  },
  {
   "cell_type": "code",
   "execution_count": 261,
   "id": "8cdded8b",
   "metadata": {},
   "outputs": [],
   "source": [
    "tf.keras.backend.clear_session()"
   ]
  },
  {
   "cell_type": "code",
   "execution_count": 262,
   "id": "853d5531",
   "metadata": {},
   "outputs": [],
   "source": [
    "from tensorflow.keras.models import Sequential\n",
    "from tensorflow.keras.layers import Embedding, Dropout, Conv1D, MaxPooling1D, LSTM, Dense\n"
   ]
  },
  {
   "cell_type": "code",
   "execution_count": 263,
   "id": "d50ca341",
   "metadata": {},
   "outputs": [],
   "source": [
    "from tensorflow.keras.models import Sequential\n",
    "from tensorflow.keras.layers import Embedding, Dropout, Conv1D, MaxPooling1D, LSTM, Dense\n",
    "\n",
    "# Ensure that VOCABULARY_SIZE, EMBEDDING_DIM, MAX_LENGTH, and OUTPUT_SHAPE are defined\n",
    "\n",
    "model = Sequential([\n",
    "        Embedding(VOCABULARY_SIZE, EMBEDDING_DIM, input_length=MAX_LENGTH),\n",
    "        Dropout(0.2),\n",
    "        Conv1D(filters=128, kernel_size=3, activation=\"relu\"),\n",
    "        MaxPooling1D(pool_size=2),  # Adjust pool_size according to the input dimensions\n",
    "        Conv1D(filters=128, kernel_size=3, activation=\"relu\"),\n",
    "        MaxPooling1D(pool_size=2),  # Adjust pool_size according to the input dimensions\n",
    "        LSTM(128),\n",
    "        Dense(128, activation=\"relu\"),\n",
    "        Dropout(0.2),\n",
    "        Dense(64, activation=\"relu\"),\n",
    "        Dense(OUTPUT_SHAPE, activation=\"softmax\")\n",
    "])\n",
    "\n",
    "# Compile and fit the model as needed\n"
   ]
  },
  {
   "cell_type": "code",
   "execution_count": 264,
   "id": "f198ae74",
   "metadata": {
    "scrolled": true
   },
   "outputs": [
    {
     "name": "stdout",
     "output_type": "stream",
     "text": [
      "Model: \"sequential\"\n",
      "_________________________________________________________________\n",
      " Layer (type)                Output Shape              Param #   \n",
      "=================================================================\n",
      " embedding (Embedding)       (None, 94, 32)            337056    \n",
      "                                                                 \n",
      " dropout (Dropout)           (None, 94, 32)            0         \n",
      "                                                                 \n",
      " conv1d (Conv1D)             (None, 92, 128)           12416     \n",
      "                                                                 \n",
      " max_pooling1d (MaxPooling1  (None, 46, 128)           0         \n",
      " D)                                                              \n",
      "                                                                 \n",
      " conv1d_1 (Conv1D)           (None, 44, 128)           49280     \n",
      "                                                                 \n",
      " max_pooling1d_1 (MaxPoolin  (None, 22, 128)           0         \n",
      " g1D)                                                            \n",
      "                                                                 \n",
      " lstm (LSTM)                 (None, 128)               131584    \n",
      "                                                                 \n",
      " dense (Dense)               (None, 128)               16512     \n",
      "                                                                 \n",
      " dropout_1 (Dropout)         (None, 128)               0         \n",
      "                                                                 \n",
      " dense_1 (Dense)             (None, 64)                8256      \n",
      "                                                                 \n",
      " dense_2 (Dense)             (None, 8)                 520       \n",
      "                                                                 \n",
      "=================================================================\n",
      "Total params: 555624 (2.12 MB)\n",
      "Trainable params: 555624 (2.12 MB)\n",
      "Non-trainable params: 0 (0.00 Byte)\n",
      "_________________________________________________________________\n"
     ]
    }
   ],
   "source": [
    "model.summary()"
   ]
  },
  {
   "cell_type": "code",
   "execution_count": 265,
   "id": "e895bb82",
   "metadata": {
    "scrolled": true
   },
   "outputs": [
    {
     "data": {
      "image/png": "[encoded data removed]",
      "text/plain": [
       "<Figure size 640x480 with 1 Axes>"
      ]
     },
     "metadata": {},
     "output_type": "display_data"
    }
   ],
   "source": [
    "plt.hist(model.layers[2].get_weights()[0].ravel(), color = \"coral\")\n",
    "plt.xlabel(\"weights of Conv1D layer\")\n",
    "plt.ylabel(\"count\")\n",
    "plt.title(\"Distribution of weights in Conv1D before training\")\n",
    "plt.show()\n"
   ]
  },
  {
   "cell_type": "code",
   "execution_count": 266,
   "id": "f51cb9a0",
   "metadata": {},
   "outputs": [],
   "source": [
    "OPTIMIZER = tf.keras.optimizers.Adam(learning_rate = 0.0001)\n"
   ]
  },
  {
   "cell_type": "raw",
   "id": "beb78489",
   "metadata": {},
   "source": [
    "sparse_categorical_crossentropy is the appropriate function for multiclass classification tasks, where the labels are not one-hot encoded. Model performance is evaluated against its accuracy."
   ]
  },
  {
   "cell_type": "code",
   "execution_count": 267,
   "id": "1f7bdf1c",
   "metadata": {},
   "outputs": [],
   "source": [
    "model.compile(loss = \"sparse_categorical_crossentropy\",\n",
    "              optimizer = OPTIMIZER,\n",
    "              metrics = [\"accuracy\"])"
   ]
  },
  {
   "cell_type": "code",
   "execution_count": 268,
   "id": "bd864d69",
   "metadata": {
    "scrolled": true
   },
   "outputs": [
    {
     "name": "stdout",
     "output_type": "stream",
     "text": [
      "Epoch 1/150\n",
      "133/133 [==============================] - 6s 34ms/step - loss: 1.7953 - accuracy: 0.4531 - val_loss: 1.6611 - val_accuracy: 0.4675\n",
      "Epoch 2/150\n",
      "133/133 [==============================] - 4s 32ms/step - loss: 1.6498 - accuracy: 0.4596 - val_loss: 1.6573 - val_accuracy: 0.4675\n",
      "Epoch 3/150\n",
      "133/133 [==============================] - 4s 31ms/step - loss: 1.6491 - accuracy: 0.4596 - val_loss: 1.6517 - val_accuracy: 0.4675\n",
      "Epoch 4/150\n",
      "133/133 [==============================] - 4s 31ms/step - loss: 1.6475 - accuracy: 0.4596 - val_loss: 1.6552 - val_accuracy: 0.4675\n",
      "Epoch 5/150\n",
      "133/133 [==============================] - 4s 31ms/step - loss: 1.6479 - accuracy: 0.4596 - val_loss: 1.6465 - val_accuracy: 0.4675\n",
      "Epoch 6/150\n",
      "133/133 [==============================] - 4s 31ms/step - loss: 1.6460 - accuracy: 0.4596 - val_loss: 1.6530 - val_accuracy: 0.4675\n",
      "Epoch 7/150\n",
      "133/133 [==============================] - 4s 31ms/step - loss: 1.6444 - accuracy: 0.4596 - val_loss: 1.6601 - val_accuracy: 0.4675\n",
      "Epoch 8/150\n",
      "133/133 [==============================] - 4s 31ms/step - loss: 1.6467 - accuracy: 0.4596 - val_loss: 1.6580 - val_accuracy: 0.4675\n",
      "Epoch 9/150\n",
      "133/133 [==============================] - 4s 32ms/step - loss: 1.6426 - accuracy: 0.4596 - val_loss: 1.6460 - val_accuracy: 0.4675\n",
      "Epoch 10/150\n",
      "133/133 [==============================] - 4s 32ms/step - loss: 1.6459 - accuracy: 0.4596 - val_loss: 1.6449 - val_accuracy: 0.4675\n",
      "Epoch 11/150\n",
      "133/133 [==============================] - 4s 31ms/step - loss: 1.6426 - accuracy: 0.4596 - val_loss: 1.6501 - val_accuracy: 0.4675\n",
      "Epoch 12/150\n",
      "133/133 [==============================] - 4s 31ms/step - loss: 1.6433 - accuracy: 0.4596 - val_loss: 1.6496 - val_accuracy: 0.4675\n",
      "Epoch 13/150\n",
      "133/133 [==============================] - 4s 31ms/step - loss: 1.6448 - accuracy: 0.4596 - val_loss: 1.6622 - val_accuracy: 0.4675\n",
      "Epoch 14/150\n",
      "133/133 [==============================] - 4s 31ms/step - loss: 1.6429 - accuracy: 0.4596 - val_loss: 1.6485 - val_accuracy: 0.4675\n",
      "Epoch 15/150\n",
      "133/133 [==============================] - 4s 31ms/step - loss: 1.6424 - accuracy: 0.4596 - val_loss: 1.6456 - val_accuracy: 0.4675\n",
      "Epoch 16/150\n",
      "133/133 [==============================] - 4s 31ms/step - loss: 1.6439 - accuracy: 0.4596 - val_loss: 1.6580 - val_accuracy: 0.4675\n",
      "Epoch 17/150\n",
      "133/133 [==============================] - 4s 31ms/step - loss: 1.6408 - accuracy: 0.4596 - val_loss: 1.6502 - val_accuracy: 0.4675\n",
      "Epoch 18/150\n",
      "133/133 [==============================] - 4s 31ms/step - loss: 1.6428 - accuracy: 0.4596 - val_loss: 1.6508 - val_accuracy: 0.4675\n",
      "Epoch 19/150\n",
      "133/133 [==============================] - 4s 31ms/step - loss: 1.6411 - accuracy: 0.4596 - val_loss: 1.6483 - val_accuracy: 0.4675\n",
      "Epoch 20/150\n",
      "133/133 [==============================] - 4s 31ms/step - loss: 1.6420 - accuracy: 0.4596 - val_loss: 1.6521 - val_accuracy: 0.4675\n",
      "Epoch 21/150\n",
      "133/133 [==============================] - 4s 31ms/step - loss: 1.6406 - accuracy: 0.4596 - val_loss: 1.6467 - val_accuracy: 0.4675\n",
      "Epoch 22/150\n",
      "133/133 [==============================] - 4s 31ms/step - loss: 1.6404 - accuracy: 0.4596 - val_loss: 1.6470 - val_accuracy: 0.4675\n",
      "Epoch 23/150\n",
      "133/133 [==============================] - 4s 31ms/step - loss: 1.6410 - accuracy: 0.4596 - val_loss: 1.6499 - val_accuracy: 0.4675\n",
      "Epoch 24/150\n",
      "133/133 [==============================] - 4s 31ms/step - loss: 1.6415 - accuracy: 0.4596 - val_loss: 1.6504 - val_accuracy: 0.4675\n",
      "Epoch 25/150\n",
      "133/133 [==============================] - 4s 31ms/step - loss: 1.6408 - accuracy: 0.4596 - val_loss: 1.6530 - val_accuracy: 0.4675\n",
      "Epoch 26/150\n",
      "133/133 [==============================] - 4s 31ms/step - loss: 1.6400 - accuracy: 0.4596 - val_loss: 1.6466 - val_accuracy: 0.4675\n",
      "Epoch 27/150\n",
      "133/133 [==============================] - 4s 31ms/step - loss: 1.6409 - accuracy: 0.4596 - val_loss: 1.6542 - val_accuracy: 0.4675\n",
      "Epoch 28/150\n",
      "133/133 [==============================] - 4s 31ms/step - loss: 1.6411 - accuracy: 0.4596 - val_loss: 1.6548 - val_accuracy: 0.4675\n",
      "Epoch 29/150\n",
      "133/133 [==============================] - 4s 31ms/step - loss: 1.6411 - accuracy: 0.4596 - val_loss: 1.6546 - val_accuracy: 0.4675\n",
      "Epoch 30/150\n",
      "133/133 [==============================] - 4s 31ms/step - loss: 1.6409 - accuracy: 0.4596 - val_loss: 1.6489 - val_accuracy: 0.4675\n",
      "Epoch 31/150\n",
      "133/133 [==============================] - 4s 31ms/step - loss: 1.6402 - accuracy: 0.4596 - val_loss: 1.6528 - val_accuracy: 0.4675\n",
      "Epoch 32/150\n",
      "133/133 [==============================] - 4s 31ms/step - loss: 1.6414 - accuracy: 0.4596 - val_loss: 1.6487 - val_accuracy: 0.4675\n",
      "Epoch 33/150\n",
      "133/133 [==============================] - 4s 31ms/step - loss: 1.6401 - accuracy: 0.4596 - val_loss: 1.6487 - val_accuracy: 0.4675\n",
      "Epoch 34/150\n",
      "133/133 [==============================] - 4s 31ms/step - loss: 1.6401 - accuracy: 0.4596 - val_loss: 1.6526 - val_accuracy: 0.4675\n",
      "Epoch 35/150\n",
      "133/133 [==============================] - 4s 31ms/step - loss: 1.6391 - accuracy: 0.4596 - val_loss: 1.6531 - val_accuracy: 0.4675\n",
      "Epoch 36/150\n",
      "133/133 [==============================] - 4s 32ms/step - loss: 1.6382 - accuracy: 0.4596 - val_loss: 1.6494 - val_accuracy: 0.4675\n",
      "Epoch 37/150\n",
      "133/133 [==============================] - 4s 31ms/step - loss: 1.6404 - accuracy: 0.4596 - val_loss: 1.6480 - val_accuracy: 0.4675\n",
      "Epoch 38/150\n",
      "133/133 [==============================] - 4s 31ms/step - loss: 1.6390 - accuracy: 0.4596 - val_loss: 1.6556 - val_accuracy: 0.4675\n",
      "Epoch 39/150\n",
      "133/133 [==============================] - 4s 32ms/step - loss: 1.6399 - accuracy: 0.4596 - val_loss: 1.6488 - val_accuracy: 0.4675\n",
      "Epoch 40/150\n",
      "133/133 [==============================] - 4s 31ms/step - loss: 1.6390 - accuracy: 0.4596 - val_loss: 1.6558 - val_accuracy: 0.4675\n",
      "Epoch 41/150\n",
      "133/133 [==============================] - 4s 31ms/step - loss: 1.6398 - accuracy: 0.4596 - val_loss: 1.6467 - val_accuracy: 0.4675\n",
      "Epoch 42/150\n",
      "133/133 [==============================] - 4s 31ms/step - loss: 1.6394 - accuracy: 0.4596 - val_loss: 1.6498 - val_accuracy: 0.4675\n",
      "Epoch 43/150\n",
      "133/133 [==============================] - 4s 31ms/step - loss: 1.6389 - accuracy: 0.4596 - val_loss: 1.6457 - val_accuracy: 0.4675\n",
      "Epoch 44/150\n",
      "133/133 [==============================] - 4s 32ms/step - loss: 1.6391 - accuracy: 0.4596 - val_loss: 1.6477 - val_accuracy: 0.4675\n",
      "Epoch 45/150\n",
      "133/133 [==============================] - 4s 31ms/step - loss: 1.6381 - accuracy: 0.4596 - val_loss: 1.6505 - val_accuracy: 0.4675\n",
      "Epoch 46/150\n",
      "133/133 [==============================] - 4s 31ms/step - loss: 1.6393 - accuracy: 0.4596 - val_loss: 1.6507 - val_accuracy: 0.4675\n",
      "Epoch 47/150\n",
      "133/133 [==============================] - 4s 31ms/step - loss: 1.6392 - accuracy: 0.4596 - val_loss: 1.6479 - val_accuracy: 0.4675\n",
      "Epoch 48/150\n",
      "133/133 [==============================] - 4s 31ms/step - loss: 1.6387 - accuracy: 0.4596 - val_loss: 1.6570 - val_accuracy: 0.4675\n",
      "Epoch 49/150\n",
      "133/133 [==============================] - 4s 31ms/step - loss: 1.6387 - accuracy: 0.4596 - val_loss: 1.6499 - val_accuracy: 0.4675\n",
      "Epoch 50/150\n",
      "133/133 [==============================] - 4s 31ms/step - loss: 1.6386 - accuracy: 0.4596 - val_loss: 1.6501 - val_accuracy: 0.4675\n",
      "Epoch 51/150\n",
      "133/133 [==============================] - 4s 31ms/step - loss: 1.6380 - accuracy: 0.4596 - val_loss: 1.6502 - val_accuracy: 0.4675\n",
      "Epoch 52/150\n",
      "133/133 [==============================] - 4s 31ms/step - loss: 1.6383 - accuracy: 0.4596 - val_loss: 1.6471 - val_accuracy: 0.4675\n",
      "Epoch 53/150\n",
      "133/133 [==============================] - 4s 31ms/step - loss: 1.6364 - accuracy: 0.4596 - val_loss: 1.6488 - val_accuracy: 0.4675\n",
      "Epoch 54/150\n",
      "133/133 [==============================] - 4s 31ms/step - loss: 1.6381 - accuracy: 0.4596 - val_loss: 1.6464 - val_accuracy: 0.4675\n",
      "Epoch 55/150\n",
      "133/133 [==============================] - 4s 31ms/step - loss: 1.6376 - accuracy: 0.4596 - val_loss: 1.6488 - val_accuracy: 0.4675\n",
      "Epoch 56/150\n",
      "133/133 [==============================] - 4s 31ms/step - loss: 1.6357 - accuracy: 0.4596 - val_loss: 1.6475 - val_accuracy: 0.4675\n",
      "Epoch 57/150\n",
      "133/133 [==============================] - 4s 31ms/step - loss: 1.6369 - accuracy: 0.4596 - val_loss: 1.6501 - val_accuracy: 0.4675\n",
      "Epoch 58/150\n",
      "133/133 [==============================] - 4s 31ms/step - loss: 1.6353 - accuracy: 0.4596 - val_loss: 1.6453 - val_accuracy: 0.4675\n",
      "Epoch 59/150\n",
      "133/133 [==============================] - 4s 31ms/step - loss: 1.6373 - accuracy: 0.4596 - val_loss: 1.6471 - val_accuracy: 0.4675\n",
      "Epoch 60/150\n",
      "133/133 [==============================] - 4s 31ms/step - loss: 1.6369 - accuracy: 0.4596 - val_loss: 1.6472 - val_accuracy: 0.4675\n",
      "Epoch 61/150\n",
      "133/133 [==============================] - 4s 31ms/step - loss: 1.6361 - accuracy: 0.4596 - val_loss: 1.6476 - val_accuracy: 0.4675\n",
      "Epoch 62/150\n",
      "133/133 [==============================] - 4s 31ms/step - loss: 1.6354 - accuracy: 0.4596 - val_loss: 1.6458 - val_accuracy: 0.4675\n",
      "Epoch 63/150\n",
      "133/133 [==============================] - 4s 31ms/step - loss: 1.6356 - accuracy: 0.4596 - val_loss: 1.6523 - val_accuracy: 0.4675\n",
      "Epoch 64/150\n",
      "133/133 [==============================] - 4s 31ms/step - loss: 1.6365 - accuracy: 0.4596 - val_loss: 1.6488 - val_accuracy: 0.4675\n",
      "Epoch 65/150\n",
      "133/133 [==============================] - 4s 31ms/step - loss: 1.6365 - accuracy: 0.4596 - val_loss: 1.6498 - val_accuracy: 0.4675\n",
      "Epoch 66/150\n",
      "133/133 [==============================] - 4s 31ms/step - loss: 1.6369 - accuracy: 0.4596 - val_loss: 1.6481 - val_accuracy: 0.4675\n",
      "Epoch 67/150\n",
      "133/133 [==============================] - 4s 31ms/step - loss: 1.6362 - accuracy: 0.4596 - val_loss: 1.6469 - val_accuracy: 0.4675\n",
      "Epoch 68/150\n",
      "133/133 [==============================] - 4s 31ms/step - loss: 1.6365 - accuracy: 0.4596 - val_loss: 1.6479 - val_accuracy: 0.4675\n",
      "Epoch 69/150\n",
      "133/133 [==============================] - 4s 31ms/step - loss: 1.6355 - accuracy: 0.4597 - val_loss: 1.6469 - val_accuracy: 0.4675\n",
      "Epoch 70/150\n",
      "133/133 [==============================] - 4s 31ms/step - loss: 1.6370 - accuracy: 0.4596 - val_loss: 1.6469 - val_accuracy: 0.4675\n",
      "Epoch 71/150\n",
      "133/133 [==============================] - 4s 31ms/step - loss: 1.6359 - accuracy: 0.4596 - val_loss: 1.6502 - val_accuracy: 0.4675\n",
      "Epoch 72/150\n",
      "133/133 [==============================] - 4s 31ms/step - loss: 1.6362 - accuracy: 0.4597 - val_loss: 1.6476 - val_accuracy: 0.4675\n",
      "Epoch 73/150\n",
      "133/133 [==============================] - 4s 31ms/step - loss: 1.6344 - accuracy: 0.4599 - val_loss: 1.6506 - val_accuracy: 0.4675\n",
      "Epoch 74/150\n",
      "133/133 [==============================] - 4s 31ms/step - loss: 1.6358 - accuracy: 0.4597 - val_loss: 1.6488 - val_accuracy: 0.4675\n",
      "Epoch 75/150\n",
      "133/133 [==============================] - 4s 31ms/step - loss: 1.6353 - accuracy: 0.4599 - val_loss: 1.6492 - val_accuracy: 0.4675\n",
      "Epoch 76/150\n",
      "133/133 [==============================] - 4s 31ms/step - loss: 1.6339 - accuracy: 0.4598 - val_loss: 1.6486 - val_accuracy: 0.4675\n",
      "Epoch 77/150\n",
      "133/133 [==============================] - 4s 31ms/step - loss: 1.6345 - accuracy: 0.4607 - val_loss: 1.6498 - val_accuracy: 0.4675\n",
      "Epoch 78/150\n",
      "133/133 [==============================] - 4s 31ms/step - loss: 1.6349 - accuracy: 0.4604 - val_loss: 1.6511 - val_accuracy: 0.4675\n",
      "Epoch 79/150\n",
      "133/133 [==============================] - 4s 31ms/step - loss: 1.6346 - accuracy: 0.4601 - val_loss: 1.6484 - val_accuracy: 0.4675\n",
      "Epoch 80/150\n",
      "133/133 [==============================] - 4s 31ms/step - loss: 1.6355 - accuracy: 0.4604 - val_loss: 1.6473 - val_accuracy: 0.4675\n",
      "Epoch 81/150\n",
      "133/133 [==============================] - 4s 31ms/step - loss: 1.6340 - accuracy: 0.4597 - val_loss: 1.6473 - val_accuracy: 0.4675\n",
      "Epoch 82/150\n",
      "133/133 [==============================] - 4s 31ms/step - loss: 1.6348 - accuracy: 0.4606 - val_loss: 1.6504 - val_accuracy: 0.4675\n",
      "Epoch 83/150\n",
      "133/133 [==============================] - 4s 31ms/step - loss: 1.6336 - accuracy: 0.4600 - val_loss: 1.6482 - val_accuracy: 0.4675\n",
      "Epoch 84/150\n",
      "133/133 [==============================] - 4s 31ms/step - loss: 1.6340 - accuracy: 0.4611 - val_loss: 1.6474 - val_accuracy: 0.4675\n",
      "Epoch 85/150\n",
      "133/133 [==============================] - 4s 31ms/step - loss: 1.6337 - accuracy: 0.4605 - val_loss: 1.6520 - val_accuracy: 0.4675\n",
      "Epoch 86/150\n",
      "133/133 [==============================] - 4s 31ms/step - loss: 1.6344 - accuracy: 0.4599 - val_loss: 1.6473 - val_accuracy: 0.4675\n",
      "Epoch 87/150\n",
      "133/133 [==============================] - 4s 31ms/step - loss: 1.6345 - accuracy: 0.4599 - val_loss: 1.6473 - val_accuracy: 0.4675\n",
      "Epoch 88/150\n",
      "133/133 [==============================] - 4s 31ms/step - loss: 1.6340 - accuracy: 0.4606 - val_loss: 1.6479 - val_accuracy: 0.4675\n",
      "Epoch 89/150\n",
      "133/133 [==============================] - 4s 31ms/step - loss: 1.6310 - accuracy: 0.4610 - val_loss: 1.6491 - val_accuracy: 0.4675\n",
      "Epoch 90/150\n",
      "133/133 [==============================] - 4s 31ms/step - loss: 1.6335 - accuracy: 0.4605 - val_loss: 1.6461 - val_accuracy: 0.4675\n",
      "Epoch 91/150\n",
      "133/133 [==============================] - 4s 31ms/step - loss: 1.6338 - accuracy: 0.4607 - val_loss: 1.6480 - val_accuracy: 0.4675\n",
      "Epoch 92/150\n",
      "133/133 [==============================] - 4s 31ms/step - loss: 1.6329 - accuracy: 0.4607 - val_loss: 1.6489 - val_accuracy: 0.4675\n",
      "Epoch 93/150\n",
      "133/133 [==============================] - 4s 31ms/step - loss: 1.6333 - accuracy: 0.4607 - val_loss: 1.6490 - val_accuracy: 0.4675\n",
      "Epoch 94/150\n",
      "133/133 [==============================] - 4s 31ms/step - loss: 1.6316 - accuracy: 0.4607 - val_loss: 1.6460 - val_accuracy: 0.4675\n",
      "Epoch 95/150\n",
      "133/133 [==============================] - 4s 31ms/step - loss: 1.6316 - accuracy: 0.4607 - val_loss: 1.6475 - val_accuracy: 0.4675\n",
      "Epoch 96/150\n",
      "133/133 [==============================] - 4s 32ms/step - loss: 1.6339 - accuracy: 0.4606 - val_loss: 1.6476 - val_accuracy: 0.4675\n",
      "Epoch 97/150\n",
      "133/133 [==============================] - 4s 32ms/step - loss: 1.6323 - accuracy: 0.4607 - val_loss: 1.6472 - val_accuracy: 0.4675\n",
      "Epoch 98/150\n",
      "133/133 [==============================] - 4s 31ms/step - loss: 1.6342 - accuracy: 0.4611 - val_loss: 1.6479 - val_accuracy: 0.4675\n",
      "Epoch 99/150\n",
      "133/133 [==============================] - 4s 31ms/step - loss: 1.6322 - accuracy: 0.4604 - val_loss: 1.6480 - val_accuracy: 0.4675\n",
      "Epoch 100/150\n",
      "133/133 [==============================] - 4s 31ms/step - loss: 1.6321 - accuracy: 0.4611 - val_loss: 1.6486 - val_accuracy: 0.4675\n",
      "Epoch 101/150\n",
      "133/133 [==============================] - 4s 31ms/step - loss: 1.6326 - accuracy: 0.4614 - val_loss: 1.6519 - val_accuracy: 0.4675\n",
      "Epoch 102/150\n",
      "133/133 [==============================] - 4s 31ms/step - loss: 1.6319 - accuracy: 0.4607 - val_loss: 1.6473 - val_accuracy: 0.4675\n",
      "Epoch 103/150\n",
      "133/133 [==============================] - 4s 31ms/step - loss: 1.6328 - accuracy: 0.4610 - val_loss: 1.6492 - val_accuracy: 0.4675\n",
      "Epoch 104/150\n",
      "133/133 [==============================] - 4s 31ms/step - loss: 1.6302 - accuracy: 0.4606 - val_loss: 1.6484 - val_accuracy: 0.4675\n",
      "Epoch 105/150\n",
      "133/133 [==============================] - 4s 31ms/step - loss: 1.6320 - accuracy: 0.4612 - val_loss: 1.6525 - val_accuracy: 0.4675\n",
      "Epoch 106/150\n",
      "133/133 [==============================] - 4s 31ms/step - loss: 1.6323 - accuracy: 0.4606 - val_loss: 1.6480 - val_accuracy: 0.4675\n",
      "Epoch 107/150\n",
      "133/133 [==============================] - 4s 31ms/step - loss: 1.6324 - accuracy: 0.4609 - val_loss: 1.6487 - val_accuracy: 0.4675\n",
      "Epoch 108/150\n",
      "133/133 [==============================] - 4s 31ms/step - loss: 1.6316 - accuracy: 0.4617 - val_loss: 1.6518 - val_accuracy: 0.4675\n",
      "Epoch 109/150\n",
      "133/133 [==============================] - 4s 32ms/step - loss: 1.6309 - accuracy: 0.4609 - val_loss: 1.6485 - val_accuracy: 0.4675\n",
      "Epoch 110/150\n",
      "133/133 [==============================] - 4s 31ms/step - loss: 1.6315 - accuracy: 0.4609 - val_loss: 1.6489 - val_accuracy: 0.4675\n",
      "Epoch 111/150\n",
      "133/133 [==============================] - 4s 31ms/step - loss: 1.6309 - accuracy: 0.4613 - val_loss: 1.6471 - val_accuracy: 0.4675\n",
      "Epoch 112/150\n",
      "133/133 [==============================] - 4s 31ms/step - loss: 1.6312 - accuracy: 0.4609 - val_loss: 1.6464 - val_accuracy: 0.4675\n",
      "Epoch 113/150\n",
      "133/133 [==============================] - 4s 31ms/step - loss: 1.6305 - accuracy: 0.4610 - val_loss: 1.6501 - val_accuracy: 0.4675\n",
      "Epoch 114/150\n",
      "133/133 [==============================] - 4s 31ms/step - loss: 1.6318 - accuracy: 0.4612 - val_loss: 1.6477 - val_accuracy: 0.4675\n",
      "Epoch 115/150\n",
      "133/133 [==============================] - 4s 31ms/step - loss: 1.6319 - accuracy: 0.4610 - val_loss: 1.6489 - val_accuracy: 0.4675\n",
      "Epoch 116/150\n",
      "133/133 [==============================] - 4s 31ms/step - loss: 1.6320 - accuracy: 0.4611 - val_loss: 1.6517 - val_accuracy: 0.4675\n",
      "Epoch 117/150\n",
      "133/133 [==============================] - 4s 31ms/step - loss: 1.6303 - accuracy: 0.4614 - val_loss: 1.6471 - val_accuracy: 0.4675\n",
      "Epoch 118/150\n",
      "133/133 [==============================] - 4s 31ms/step - loss: 1.6299 - accuracy: 0.4613 - val_loss: 1.6509 - val_accuracy: 0.4675\n",
      "Epoch 119/150\n",
      "133/133 [==============================] - 4s 31ms/step - loss: 1.6299 - accuracy: 0.4612 - val_loss: 1.6493 - val_accuracy: 0.4675\n",
      "Epoch 120/150\n",
      "133/133 [==============================] - 4s 31ms/step - loss: 1.6318 - accuracy: 0.4605 - val_loss: 1.6464 - val_accuracy: 0.4675\n",
      "Epoch 121/150\n",
      "133/133 [==============================] - 4s 31ms/step - loss: 1.6299 - accuracy: 0.4610 - val_loss: 1.6479 - val_accuracy: 0.4675\n",
      "Epoch 122/150\n",
      "133/133 [==============================] - 4s 31ms/step - loss: 1.6297 - accuracy: 0.4614 - val_loss: 1.6476 - val_accuracy: 0.4675\n",
      "Epoch 123/150\n",
      "133/133 [==============================] - 4s 31ms/step - loss: 1.6300 - accuracy: 0.4616 - val_loss: 1.6474 - val_accuracy: 0.4675\n",
      "Epoch 124/150\n",
      "133/133 [==============================] - 4s 31ms/step - loss: 1.6301 - accuracy: 0.4612 - val_loss: 1.6476 - val_accuracy: 0.4675\n",
      "Epoch 125/150\n",
      "133/133 [==============================] - 4s 31ms/step - loss: 1.6300 - accuracy: 0.4614 - val_loss: 1.6473 - val_accuracy: 0.4675\n",
      "Epoch 126/150\n",
      "133/133 [==============================] - 4s 31ms/step - loss: 1.6297 - accuracy: 0.4618 - val_loss: 1.6488 - val_accuracy: 0.4675\n",
      "Epoch 127/150\n",
      "133/133 [==============================] - 4s 31ms/step - loss: 1.6283 - accuracy: 0.4616 - val_loss: 1.6476 - val_accuracy: 0.4675\n",
      "Epoch 128/150\n",
      "133/133 [==============================] - 4s 31ms/step - loss: 1.6288 - accuracy: 0.4611 - val_loss: 1.6486 - val_accuracy: 0.4675\n",
      "Epoch 129/150\n",
      "133/133 [==============================] - 4s 31ms/step - loss: 1.6303 - accuracy: 0.4614 - val_loss: 1.6476 - val_accuracy: 0.4675\n",
      "Epoch 130/150\n",
      "133/133 [==============================] - 4s 31ms/step - loss: 1.6292 - accuracy: 0.4616 - val_loss: 1.6475 - val_accuracy: 0.4675\n",
      "Epoch 131/150\n",
      "133/133 [==============================] - 4s 31ms/step - loss: 1.6278 - accuracy: 0.4612 - val_loss: 1.6469 - val_accuracy: 0.4675\n",
      "Epoch 132/150\n",
      "133/133 [==============================] - 4s 31ms/step - loss: 1.6275 - accuracy: 0.4613 - val_loss: 1.6480 - val_accuracy: 0.4675\n",
      "Epoch 133/150\n",
      "133/133 [==============================] - 4s 31ms/step - loss: 1.6285 - accuracy: 0.4616 - val_loss: 1.6475 - val_accuracy: 0.4675\n",
      "Epoch 134/150\n",
      "133/133 [==============================] - 4s 31ms/step - loss: 1.6289 - accuracy: 0.4617 - val_loss: 1.6472 - val_accuracy: 0.4675\n",
      "Epoch 135/150\n",
      "133/133 [==============================] - 4s 31ms/step - loss: 1.6279 - accuracy: 0.4617 - val_loss: 1.6460 - val_accuracy: 0.4675\n",
      "Epoch 136/150\n",
      "133/133 [==============================] - 4s 31ms/step - loss: 1.6283 - accuracy: 0.4616 - val_loss: 1.6493 - val_accuracy: 0.4675\n",
      "Epoch 137/150\n",
      "133/133 [==============================] - 4s 31ms/step - loss: 1.6281 - accuracy: 0.4618 - val_loss: 1.6504 - val_accuracy: 0.4675\n",
      "Epoch 138/150\n",
      "133/133 [==============================] - 4s 31ms/step - loss: 1.6285 - accuracy: 0.4617 - val_loss: 1.6478 - val_accuracy: 0.4675\n",
      "Epoch 139/150\n",
      "133/133 [==============================] - 4s 31ms/step - loss: 1.6276 - accuracy: 0.4614 - val_loss: 1.6480 - val_accuracy: 0.4675\n",
      "Epoch 140/150\n",
      "133/133 [==============================] - 4s 31ms/step - loss: 1.6270 - accuracy: 0.4616 - val_loss: 1.6462 - val_accuracy: 0.4675\n",
      "Epoch 141/150\n",
      "133/133 [==============================] - 4s 31ms/step - loss: 1.6290 - accuracy: 0.4618 - val_loss: 1.6464 - val_accuracy: 0.4675\n",
      "Epoch 142/150\n",
      "133/133 [==============================] - 4s 31ms/step - loss: 1.6269 - accuracy: 0.4618 - val_loss: 1.6470 - val_accuracy: 0.4675\n",
      "Epoch 143/150\n",
      "133/133 [==============================] - 4s 31ms/step - loss: 1.6279 - accuracy: 0.4612 - val_loss: 1.6469 - val_accuracy: 0.4675\n",
      "Epoch 144/150\n",
      "133/133 [==============================] - 4s 31ms/step - loss: 1.6279 - accuracy: 0.4619 - val_loss: 1.6483 - val_accuracy: 0.4675\n",
      "Epoch 145/150\n",
      "133/133 [==============================] - 4s 32ms/step - loss: 1.6277 - accuracy: 0.4614 - val_loss: 1.6464 - val_accuracy: 0.4675\n",
      "Epoch 146/150\n",
      "133/133 [==============================] - 4s 31ms/step - loss: 1.6277 - accuracy: 0.4613 - val_loss: 1.6483 - val_accuracy: 0.4675\n",
      "Epoch 147/150\n",
      "133/133 [==============================] - 4s 31ms/step - loss: 1.6275 - accuracy: 0.4619 - val_loss: 1.6469 - val_accuracy: 0.4675\n",
      "Epoch 148/150\n",
      "133/133 [==============================] - 4s 31ms/step - loss: 1.6270 - accuracy: 0.4620 - val_loss: 1.6496 - val_accuracy: 0.4675\n",
      "Epoch 149/150\n",
      "133/133 [==============================] - 4s 31ms/step - loss: 1.6261 - accuracy: 0.4619 - val_loss: 1.6501 - val_accuracy: 0.4675\n",
      "Epoch 150/150\n",
      "133/133 [==============================] - 4s 31ms/step - loss: 1.6268 - accuracy: 0.4618 - val_loss: 1.6500 - val_accuracy: 0.4675\n"
     ]
    }
   ],
   "source": [
    "history = model.fit(train_padded, train_labels,\n",
    "                    epochs = 150,\n",
    "                    validation_data = (validation_padded, validation_labels),\n",
    "                    batch_size = 64)"
   ]
  },
  {
   "cell_type": "code",
   "execution_count": null,
   "id": "6fc66f7f",
   "metadata": {},
   "outputs": [],
   "source": []
  },
  {
   "cell_type": "code",
   "execution_count": 269,
   "id": "0d13fb74",
   "metadata": {},
   "outputs": [],
   "source": [
    "def plot_graphs(history, string):\n",
    "    \"\"\"\n",
    "    Function: Displays changes in monitored loss and metrics during model training\n",
    "    \n",
    "    Arguments: monitoring logs\n",
    "    \n",
    "    Returns: A line graph with changes of loss and metrics over time\n",
    "    \"\"\"\n",
    "    plt.plot(history.history[string])\n",
    "    plt.plot(history.history['val_'+string])\n",
    "    plt.xlabel(\"Epochs\")\n",
    "    plt.ylabel(string)\n",
    "    plt.legend([string, 'val_'+string])\n",
    "    plt.show()"
   ]
  },
  {
   "cell_type": "code",
   "execution_count": 270,
   "id": "9fc9f6cf",
   "metadata": {},
   "outputs": [
    {
     "data": {
      "image/png": "[encoded data removed]",
      "text/plain": [
       "<Figure size 640x480 with 1 Axes>"
      ]
     },
     "metadata": {},
     "output_type": "display_data"
    },
    {
     "data": {
      "image/png": "[encoded data removed]",
      "text/plain": [
       "<Figure size 640x480 with 1 Axes>"
      ]
     },
     "metadata": {},
     "output_type": "display_data"
    }
   ],
   "source": [
    "plot_graphs(history, \"loss\")\n",
    "plot_graphs(history, \"accuracy\")"
   ]
  },
  {
   "cell_type": "code",
   "execution_count": 271,
   "id": "9cd4ee7f",
   "metadata": {},
   "outputs": [
    {
     "data": {
      "image/png": "[encoded data removed]",
      "text/plain": [
       "<Figure size 640x480 with 1 Axes>"
      ]
     },
     "metadata": {},
     "output_type": "display_data"
    }
   ],
   "source": [
    "plt.hist(model.layers[2].get_weights()[0].ravel(), color = \"coral\")\n",
    "plt.xlabel(\"weights of Conv1D layer\")\n",
    "plt.ylabel(\"count\")\n",
    "plt.title(\"Distribution of weights in Conv1D after training\")\n",
    "plt.show()"
   ]
  },
  {
   "cell_type": "code",
   "execution_count": 272,
   "id": "fea5b00f",
   "metadata": {},
   "outputs": [
    {
     "data": {
      "image/png": "[encoded data removed]",
      "text/plain": [
       "<Figure size 640x480 with 1 Axes>"
      ]
     },
     "metadata": {},
     "output_type": "display_data"
    }
   ],
   "source": [
    "plt.hist(model.layers[2].get_weights()[1].ravel(), color = \"royalblue\")\n",
    "plt.xlabel(\"bias of Conv1D layer\")\n",
    "plt.ylabel(\"count\")\n",
    "plt.title(\"Distribution of bias in Conv1D after training\")\n",
    "plt.show()"
   ]
  },
  {
   "cell_type": "code",
   "execution_count": 273,
   "id": "00088206",
   "metadata": {},
   "outputs": [
    {
     "name": "stdout",
     "output_type": "stream",
     "text": [
      "43/43 [==============================] - 0s 7ms/step - loss: 1.6500 - accuracy: 0.4675\n"
     ]
    }
   ],
   "source": [
    "loss, accuracy = model.evaluate(validation_padded, validation_labels)"
   ]
  },
  {
   "cell_type": "code",
   "execution_count": 274,
   "id": "9895c792",
   "metadata": {},
   "outputs": [
    {
     "name": "stdout",
     "output_type": "stream",
     "text": [
      "Model accuracy is 46.7503696680069%\n"
     ]
    }
   ],
   "source": [
    "print(f\"Model accuracy is {accuracy * 100}%\")"
   ]
  },
  {
   "cell_type": "code",
   "execution_count": 275,
   "id": "9b05b217",
   "metadata": {},
   "outputs": [
    {
     "name": "stdout",
     "output_type": "stream",
     "text": [
      "43/43 [==============================] - 1s 8ms/step\n"
     ]
    }
   ],
   "source": [
    "predicted_proba = np.argmax(model.predict(validation_padded), axis =-1)"
   ]
  },
  {
   "cell_type": "code",
   "execution_count": 276,
   "id": "574a36cd",
   "metadata": {},
   "outputs": [
    {
     "data": {
      "text/plain": [
       "array([5, 5, 5, ..., 5, 5, 5])"
      ]
     },
     "execution_count": 276,
     "metadata": {},
     "output_type": "execute_result"
    }
   ],
   "source": [
    "predicted_proba"
   ]
  },
  {
   "cell_type": "code",
   "execution_count": 277,
   "id": "2f909f8e",
   "metadata": {},
   "outputs": [
    {
     "data": {
      "text/plain": [
       "array([5, 5, 5, ..., 6, 5, 3])"
      ]
     },
     "execution_count": 277,
     "metadata": {},
     "output_type": "execute_result"
    }
   ],
   "source": [
    "validation_labels"
   ]
  },
  {
   "cell_type": "code",
   "execution_count": 278,
   "id": "e3d6badf",
   "metadata": {},
   "outputs": [],
   "source": [
    "confusion_matrix = tf.math.confusion_matrix(validation_labels, predicted_proba).numpy()"
   ]
  },
  {
   "cell_type": "code",
   "execution_count": 279,
   "id": "e7fabc4a",
   "metadata": {
    "scrolled": true
   },
   "outputs": [
    {
     "data": {
      "image/png": "[encoded data removed]",
      "text/plain": [
       "<Figure size 600x500 with 2 Axes>"
      ]
     },
     "metadata": {},
     "output_type": "display_data"
    }
   ],
   "source": [
    "figure = plt.figure(figsize = (6, 5))\n",
    "sns.heatmap(confusion_matrix, annot = True, fmt = \".0f\", cmap = plt.cm.Blues)\n",
    "plt.tight_layout()\n",
    "plt.ylabel(\"Actual class\")\n",
    "plt.xlabel(\"Predicted class\")\n",
    "plt.title(\"Confusion Matrix of classified emotions\")\n",
    "plt.show()"
   ]
  },
  {
   "cell_type": "code",
   "execution_count": null,
   "id": "4261c919",
   "metadata": {},
   "outputs": [],
   "source": []
  },
  {
   "cell_type": "code",
   "execution_count": null,
   "id": "4cb77473",
   "metadata": {},
   "outputs": [],
   "source": []
  },
  {
   "cell_type": "code",
   "execution_count": null,
   "id": "59b76bc7",
   "metadata": {},
   "outputs": [],
   "source": []
  },
  {
   "cell_type": "code",
   "execution_count": null,
   "id": "4ee34385",
   "metadata": {},
   "outputs": [],
   "source": []
  },
  {
   "cell_type": "code",
   "execution_count": null,
   "id": "5329efdd-e7c3-4eaa-8296-38fef2a10a5a",
   "metadata": {},
   "outputs": [],
   "source": []
  },
  {
   "cell_type": "code",
   "execution_count": null,
   "id": "854d6118-9cc2-4bf6-8240-f88d1ba1e24d",
   "metadata": {},
   "outputs": [],
   "source": []
  },
  {
   "cell_type": "code",
   "execution_count": null,
   "id": "d1b5618b-b49e-440b-b36e-4a997f059e49",
   "metadata": {},
   "outputs": [],
   "source": []
  },
  {
   "cell_type": "code",
   "execution_count": null,
   "id": "700c9e64-7294-4dc9-a597-691d287631a0",
   "metadata": {},
   "outputs": [],
   "source": []
  }
 ],
 "metadata": {
  "kernelspec": {
   "display_name": "Python 3 (ipykernel)",
   "language": "python",
   "name": "python3"
  },
  "language_info": {
   "codemirror_mode": {
    "name": "ipython",
    "version": 3
   },
   "file_extension": ".py",
   "mimetype": "text/x-python",
   "name": "python",
   "nbconvert_exporter": "python",
   "pygments_lexer": "ipython3",
   "version": "3.11.3"
  }
 },
 "nbformat": 4,
 "nbformat_minor": 5
}
