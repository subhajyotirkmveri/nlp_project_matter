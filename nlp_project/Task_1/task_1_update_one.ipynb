{
 "cells": [
  {
   "cell_type": "markdown",
   "id": "b095f4ef",
   "metadata": {},
   "source": [
    "# Import Necessary Library"
   ]
  },
  {
   "cell_type": "code",
   "execution_count": 2,
   "id": "559c0d62",
   "metadata": {},
   "outputs": [
    {
     "name": "stdout",
     "output_type": "stream",
     "text": [
      "Defaulting to user installation because normal site-packages is not writeable\n",
      "Requirement already satisfied: nlp_utils in /home/sysadm/.local/lib/python3.10/site-packages (0.6.2)\n",
      "Requirement already satisfied: nltk in /home/sysadm/.local/lib/python3.10/site-packages (from nlp_utils) (3.8.1)\n",
      "Requirement already satisfied: micro-toolkit in /home/sysadm/.local/lib/python3.10/site-packages (from nlp_utils) (0.9.0)\n",
      "Requirement already satisfied: numpy in /home/sysadm/.local/lib/python3.10/site-packages (from nlp_utils) (1.24.3)\n",
      "Requirement already satisfied: regex>=2021.8.3 in /home/sysadm/.local/lib/python3.10/site-packages (from nltk->nlp_utils) (2023.8.8)\n",
      "Requirement already satisfied: joblib in /home/sysadm/.local/lib/python3.10/site-packages (from nltk->nlp_utils) (1.3.2)\n",
      "Requirement already satisfied: click in /usr/lib/python3/dist-packages (from nltk->nlp_utils) (8.0.3)\n",
      "Requirement already satisfied: tqdm in /home/sysadm/.local/lib/python3.10/site-packages (from nltk->nlp_utils) (4.66.1)\n",
      "Defaulting to user installation because normal site-packages is not writeable\n",
      "Requirement already satisfied: langid in /home/sysadm/.local/lib/python3.10/site-packages (1.1.6)\n",
      "Requirement already satisfied: numpy in /home/sysadm/.local/lib/python3.10/site-packages (from langid) (1.24.3)\n"
     ]
    },
    {
     "name": "stderr",
     "output_type": "stream",
     "text": [
      "[nltk_data] Downloading package stopwords to /home/sysadm/nltk_data...\n",
      "[nltk_data]   Package stopwords is already up-to-date!\n"
     ]
    },
    {
     "name": "stdout",
     "output_type": "stream",
     "text": [
      "Defaulting to user installation because normal site-packages is not writeable\n",
      "Requirement already satisfied: stop-words in /home/sysadm/.local/lib/python3.10/site-packages (2018.7.23)\n",
      "Defaulting to user installation because normal site-packages is not writeable\n",
      "Requirement already satisfied: stop-words in /home/sysadm/.local/lib/python3.10/site-packages (2018.7.23)\n",
      "Defaulting to user installation because normal site-packages is not writeable\n",
      "Requirement already satisfied: indic-transliteration in /home/sysadm/.local/lib/python3.10/site-packages (2.3.52)\n",
      "Requirement already satisfied: typer in /home/sysadm/.local/lib/python3.10/site-packages (from indic-transliteration) (0.9.0)\n",
      "Requirement already satisfied: backports.functools-lru-cache in /home/sysadm/.local/lib/python3.10/site-packages (from indic-transliteration) (1.6.6)\n",
      "Requirement already satisfied: regex in /home/sysadm/.local/lib/python3.10/site-packages (from indic-transliteration) (2023.8.8)\n",
      "Requirement already satisfied: roman in /home/sysadm/.local/lib/python3.10/site-packages (from indic-transliteration) (4.1)\n",
      "Requirement already satisfied: toml in /home/sysadm/.local/lib/python3.10/site-packages (from indic-transliteration) (0.10.2)\n",
      "Requirement already satisfied: typing-extensions>=3.7.4.3 in /home/sysadm/.local/lib/python3.10/site-packages (from typer->indic-transliteration) (4.5.0)\n",
      "Requirement already satisfied: click<9.0.0,>=7.1.1 in /usr/lib/python3/dist-packages (from typer->indic-transliteration) (8.0.3)\n"
     ]
    }
   ],
   "source": [
    "import json\n",
    "import nltk\n",
    "\n",
    "!pip install nlp_utils\n",
    "import pandas as pd\n",
    "import numpy as np\n",
    "import torch\n",
    "import pickle\n",
    "import tqdm\n",
    "import random\n",
    "\n",
    "from collections import Counter\n",
    "\n",
    "import string\n",
    "string.punctuation\n",
    "!pip install langid\n",
    "from nltk.tokenize import word_tokenize\n",
    "from nltk.corpus import stopwords\n",
    "import string\n",
    "#nltk.download('punkt')\n",
    "nltk.download('stopwords')\n",
    "\n",
    "!pip install stop-words\n",
    "!pip install stop-words\n",
    "\n",
    "from stop_words import get_stop_words\n",
    "#!pip install googletrans==4.0.0-rc1\n",
    "!pip install indic-transliteration\n",
    "from indic_transliteration import sanscript\n",
    "\n",
    "# Define the source and target scripts\n",
    "source_script = sanscript.DEVANAGARI\n",
    "target_script = sanscript.ITRANS\n",
    "\n",
    "import pandas as pd\n",
    "from sklearn.feature_extraction.text import CountVectorizer\n",
    "from sklearn.model_selection import train_test_split\n",
    "from sklearn.metrics import classification_report, confusion_matrix\n",
    "import matplotlib.pyplot as plt\n"
   ]
  },
  {
   "cell_type": "code",
   "execution_count": 3,
   "id": "30399147",
   "metadata": {},
   "outputs": [],
   "source": [
    "from sklearn.metrics import confusion_matrix\n",
    "from sklearn.metrics import accuracy_score\n",
    "\n",
    "import matplotlib.pyplot as plt\n",
    "from sklearn.neighbors import KNeighborsClassifier\n",
    "from sklearn.metrics import confusion_matrix\n",
    "\n",
    "import numpy as np\n",
    "import pandas as pd\n",
    "import matplotlib.pyplot as plt\n",
    "from sklearn.svm import SVC\n",
    "\n",
    "from sklearn.utils import resample\n",
    "\n",
    "from sklearn.linear_model import LogisticRegression\n",
    "from sklearn.model_selection import train_test_split\n",
    "from sklearn.metrics import confusion_matrix, accuracy_score\n",
    "\n",
    "from sklearn.naive_bayes import MultinomialNB"
   ]
  },
  {
   "cell_type": "markdown",
   "id": "1c74ef58",
   "metadata": {},
   "source": [
    "# Open the JSON file"
   ]
  },
  {
   "cell_type": "code",
   "execution_count": 4,
   "id": "712d7cf1",
   "metadata": {},
   "outputs": [],
   "source": [
    "# Open and parse the Training JSON file\n",
    "with open('.//MaSaC_train_erc.json', 'r') as json_file:\n",
    "    train_data = json.load(json_file)"
   ]
  },
  {
   "cell_type": "code",
   "execution_count": 5,
   "id": "2a538a99",
   "metadata": {},
   "outputs": [
    {
     "data": {
      "text/plain": [
       "{'episode': 'roseshantstobeadopted.wmv',\n",
       " 'speakers': ['maya',\n",
       "  'indu',\n",
       "  'rosesh',\n",
       "  'indu',\n",
       "  'maya',\n",
       "  'indu',\n",
       "  'rosesh',\n",
       "  'indu',\n",
       "  'sahil',\n",
       "  'rosesh',\n",
       "  'maya',\n",
       "  'indu',\n",
       "  'sahil',\n",
       "  'monish',\n",
       "  'maya',\n",
       "  'indu',\n",
       "  'maya',\n",
       "  'indu',\n",
       "  'indu',\n",
       "  'maya',\n",
       "  'rosesh',\n",
       "  'maya'],\n",
       " 'utterances': ['kya kya bhar ke rakha hai indravadan ne is ghar mein indravadan please tum sari bekar ki chijen bahar kyon nahin fekte?',\n",
       "  'ok, chalo rosesh chalo bahar',\n",
       "  'momma! hath chhodiye dad!',\n",
       "  'dekho maya ya na bol raha hai! fir tum hi kahogi faltu chijen jama karte ho fekte nahin ho, chalo',\n",
       "  'indravadan, tum kitne salo se ye joke maar rahe ho. koi hota hai aaj tak?',\n",
       "  'kaikai pe joke maroge to manthra thodi na hasegi',\n",
       "  'very funny',\n",
       "  'maya, monisha aur sahil aa rahe hain, dekhna yahi jo un per istemal karta hun aur dekhna vah kitna haste hain',\n",
       "  'hi guys',\n",
       "  'hi',\n",
       "  'hi darling. achcha indravadan, please ya kachra bahar fenko!',\n",
       "  'ok maya, chalo rosesh tumhen bahar fenk au',\n",
       "  'mom! diwali ka lunch hamare ghar pe',\n",
       "  'aur mein khana fresh banane wali hun',\n",
       "  'i rest my case indravadan. hase donon, huh? achcha ab to please kachra bahar fenk do',\n",
       "  'ok maya, chalo monisha tumhe bahar fenk aau',\n",
       "  'ha ha ha, indravadan you are so funny',\n",
       "  'haila, sahil! tumhare diwali lunch per hai na maiya ko keede, makode aur mukhiya khilana',\n",
       "  'kyunki jab maine wahi joke rosesh pe mara to bilkul nahin hasi lekin vahi joke jab maine monisha per mara to dekho kaise has rahi hai!',\n",
       "  'acha now cut it out huh indravadan. rosesh sweety tumhi nikalo na sara kachra bahar',\n",
       "  'ok chaliye dad, mein aapko bahar fenk kar aata hun!',\n",
       "  'haha, you asked for that one. sahil darling tumhi madad kar do please meri. mera ghar to ekadam monisha ka ghar ban gaya hai!'],\n",
       " 'emotions': ['disgust',\n",
       "  'contempt',\n",
       "  'anger',\n",
       "  'neutral',\n",
       "  'neutral',\n",
       "  'contempt',\n",
       "  'contempt',\n",
       "  'neutral',\n",
       "  'joy',\n",
       "  'joy',\n",
       "  'neutral',\n",
       "  'neutral',\n",
       "  'joy',\n",
       "  'joy',\n",
       "  'neutral',\n",
       "  'neutral',\n",
       "  'joy',\n",
       "  'neutral',\n",
       "  'contempt',\n",
       "  'neutral',\n",
       "  'joy',\n",
       "  'contempt']}"
      ]
     },
     "execution_count": 5,
     "metadata": {},
     "output_type": "execute_result"
    }
   ],
   "source": [
    "train_data[0]"
   ]
  },
  {
   "cell_type": "code",
   "execution_count": null,
   "id": "f9f599fc",
   "metadata": {},
   "outputs": [],
   "source": []
  },
  {
   "cell_type": "code",
   "execution_count": 6,
   "id": "12b9c0bb",
   "metadata": {},
   "outputs": [],
   "source": [
    "# Open and parse the validation JSON file\n",
    "with open('.//MaSaC_val_erc.json', 'r') as json_file:\n",
    "    validation_data = json.load(json_file)"
   ]
  },
  {
   "cell_type": "code",
   "execution_count": 7,
   "id": "f5897476",
   "metadata": {},
   "outputs": [
    {
     "data": {
      "text/plain": [
       "{'episode': 'roseshantstobeadopted.wmv',\n",
       " 'speakers': ['good rosesh',\n",
       "  'bad rosesh',\n",
       "  'good rosesh',\n",
       "  'bad rosesh',\n",
       "  'good rosesh',\n",
       "  'bad rosesh',\n",
       "  'good rosesh',\n",
       "  'bad rosesh',\n",
       "  'good rosesh',\n",
       "  'rosesh',\n",
       "  'rosesh',\n",
       "  'maya',\n",
       "  'rosesh'],\n",
       " 'utterances': ['ye kya kar raha hai rosesh? bharat tera desh! bhartiya insan hai saccha. kisi ka khat padhna nahin hai achcha.',\n",
       "  'hahaha khat padh le rosesh baby or padhne de hamen bhi. kitna achcha lagta hai balon mein gel, ding dong bell.',\n",
       "  'kavita acchi hai lekin khayal achcha nahin hai, villain rosesh. momma ne kaha hai kisi aur ka khat padhna galat baat hai',\n",
       "  'galat hai, par momma ne tumse kaha tha ki do bar brush karna aur tumne sirf ek bar kiya tha kya vah galat nahin tha?',\n",
       "  'galat tha per',\n",
       "  'momma ne tumse jab green chatni mangi thi aur tumne red pass ki thi kya vah galat nahin tha?',\n",
       "  'wo to galat tha',\n",
       "  'pichhle sal momma ki nayi hair style ostrich jesi thi aur tumne unhen apsara kaha tha kya vah galat nahin tha?',\n",
       "  'han tha tha tha!',\n",
       "  'please please please, tum log jara sophisticated argument karo na varna momma kahenge ki meri antaratma bahut middle class hai. tum log decide kar lo tab tak main yah lifafa khol ke padh leta hun.',\n",
       "  '\"my darling husband indravadan\" yah to momma ki handwriting hai...',\n",
       "  'darling i know ki ham do hamare do is so middle class. isiliye to humne teesra bachcha plan kiya tha haina? lekin present circumstances ko dekh ke i am not so sure. is topic pe main tumse baat nahin kar sakti isiliye khat likh rahi hun, but kya hamen sachmuch mein yah teesra baccha. i am so confused indravadan',\n",
       "  'momma...'],\n",
       " 'emotions': ['neutral',\n",
       "  'neutral',\n",
       "  'neutral',\n",
       "  'contempt',\n",
       "  'neutral',\n",
       "  'contempt',\n",
       "  'neutral',\n",
       "  'contempt',\n",
       "  'neutral',\n",
       "  'neutral',\n",
       "  'neutral',\n",
       "  'sadness',\n",
       "  'sadness']}"
      ]
     },
     "execution_count": 7,
     "metadata": {},
     "output_type": "execute_result"
    }
   ],
   "source": [
    "validation_data[0]"
   ]
  },
  {
   "cell_type": "code",
   "execution_count": null,
   "id": "d89c29ee",
   "metadata": {},
   "outputs": [],
   "source": []
  },
  {
   "cell_type": "markdown",
   "id": "9f2543ef",
   "metadata": {},
   "source": [
    "# Total number of episode in Training Data"
   ]
  },
  {
   "cell_type": "code",
   "execution_count": 8,
   "id": "eabf6688",
   "metadata": {},
   "outputs": [
    {
     "name": "stdout",
     "output_type": "stream",
     "text": [
      "Total episode topics: 343\n"
     ]
    }
   ],
   "source": [
    "# Create a list to store  episode names\n",
    "total_episodes_1 = []\n",
    "\n",
    "for conversation in train_data:\n",
    "    episode = conversation[\"episode\"]\n",
    "\n",
    "    # Add the episode name to the set of unique episodes\n",
    "    total_episodes_1.append(episode)\n",
    "\n",
    "\n",
    "# Print the total number of  conversation topics or episodes\n",
    "print(\"Total episode topics:\", len(total_episodes_1))"
   ]
  },
  {
   "cell_type": "code",
   "execution_count": null,
   "id": "42de1ae3",
   "metadata": {},
   "outputs": [],
   "source": []
  },
  {
   "cell_type": "raw",
   "id": "64f1adc5-1c05-440c-b1dd-066836d14134",
   "metadata": {},
   "source": [
    "# To view all episode name"
   ]
  },
  {
   "cell_type": "raw",
   "id": "56bfa949-3a04-4152-8125-f78a02c13439",
   "metadata": {},
   "source": [
    "total_episodes_1"
   ]
  },
  {
   "cell_type": "markdown",
   "id": "42fc6dd7",
   "metadata": {},
   "source": [
    "# Distinct Episode name in Training coversation"
   ]
  },
  {
   "cell_type": "code",
   "execution_count": 10,
   "id": "1c77de94",
   "metadata": {},
   "outputs": [
    {
     "name": "stdout",
     "output_type": "stream",
     "text": [
      "Unique episode names: {'bachelor.wmv', 'khilawal.wmv', 'yamraj.wmv', 'video1.wmv', 'mayabetmonisha.wmv', 'roseshaccident', 'lease1.wmv', 'monishaadaptstohighsociety', 'newcar', 'prankonindravadhan', 'scrabblecompetition.avi', 'roseshmarriesrita.wmw', 'mayaleavesindravardhan(1) (1).wmv', 'dushyant', 'sahilmarriesmonisha.wmv', 'popatlal', 'soniyaprediction.avi', 'neelimaverma.wmv', 'indravadanmissing.avi', 'radhabaileaves', 'patang', 'husbandsdonotcheat.avi', 'election', 'introductiontothesarabhaifamily.avi', 'lease2.wmv', 'jaspal.wmv', 'roseshnayadon.wmv', 'jugalkishore.wmv', 'playatcharityfunction', 'doggy', 'mayanighmare', 'monishasspeechonmaya.wmv', 'cricket.wmv', 'roseshpoetrypublication.wmv', 'prefinale', 'mayaleavesindravardhan.wmv', 'mayadoubtsindravardhan.wmv', 'african', 'roseshantstobeadopted.wmv', 'baldev', 'bachlorparty', 'mayamonishabday.avi', 'monishacomplainsofsahil.wmv', 'finale.avi', 'sharman.wmw', 'monishasuicideattempt.wmv', 'sahillovestory.wmv', 'kavi.wmv', 'mayaonacleaningdrive.wmv'}\n",
      "Total unique episodes: 49\n"
     ]
    }
   ],
   "source": [
    "# Convert the list of episode names to a set to get unique episodes\n",
    "unique_episodes_1 = set(total_episodes_1)\n",
    "\n",
    "# Print the unique episode names\n",
    "print(\"Unique episode names:\", unique_episodes_1)\n",
    "\n",
    "# Print the total number of unique episodes\n",
    "print(\"Total unique episodes:\", len(unique_episodes_1))"
   ]
  },
  {
   "cell_type": "raw",
   "id": "688c26ff",
   "metadata": {},
   "source": [
    "To find how many times each episode name occurs in conversation"
   ]
  },
  {
   "cell_type": "code",
   "execution_count": 11,
   "id": "a735c727",
   "metadata": {},
   "outputs": [
    {
     "name": "stdout",
     "output_type": "stream",
     "text": [
      "roseshantstobeadopted.wmv occurs 5 times\n",
      "video1.wmv occurs 8 times\n",
      "yamraj.wmv occurs 7 times\n",
      "finale.avi occurs 13 times\n",
      "indravadanmissing.avi occurs 7 times\n",
      "sharman.wmw occurs 6 times\n",
      "soniyaprediction.avi occurs 7 times\n",
      "bachelor.wmv occurs 7 times\n",
      "cricket.wmv occurs 8 times\n",
      "husbandsdonotcheat.avi occurs 11 times\n",
      "introductiontothesarabhaifamily.avi occurs 6 times\n",
      "jugalkishore.wmv occurs 8 times\n",
      "kavi.wmv occurs 4 times\n",
      "lease1.wmv occurs 8 times\n",
      "lease2.wmv occurs 7 times\n",
      "mayaleavesindravardhan(1) (1).wmv occurs 6 times\n",
      "mayadoubtsindravardhan.wmv occurs 6 times\n",
      "jaspal.wmv occurs 5 times\n",
      "khilawal.wmv occurs 4 times\n",
      "mayabetmonisha.wmv occurs 10 times\n",
      "mayaleavesindravardhan.wmv occurs 6 times\n",
      "mayamonishabday.avi occurs 6 times\n",
      "mayanighmare occurs 5 times\n",
      "mayaonacleaningdrive.wmv occurs 9 times\n",
      "monishaadaptstohighsociety occurs 6 times\n",
      "roseshnayadon.wmv occurs 5 times\n",
      "roseshmarriesrita.wmw occurs 6 times\n",
      "roseshpoetrypublication.wmv occurs 6 times\n",
      "sahillovestory.wmv occurs 5 times\n",
      "sahilmarriesmonisha.wmv occurs 8 times\n",
      "scrabblecompetition.avi occurs 4 times\n",
      "baldev occurs 8 times\n",
      "dushyant occurs 9 times\n",
      "election occurs 15 times\n",
      "playatcharityfunction occurs 6 times\n",
      "prankonindravadhan occurs 10 times\n",
      "roseshaccident occurs 5 times\n",
      "african occurs 6 times\n",
      "bachlorparty occurs 7 times\n",
      "doggy occurs 11 times\n",
      "monishacomplainsofsahil.wmv occurs 7 times\n",
      "monishasspeechonmaya.wmv occurs 7 times\n",
      "monishasuicideattempt.wmv occurs 4 times\n",
      "neelimaverma.wmv occurs 6 times\n",
      "newcar occurs 8 times\n",
      "patang occurs 6 times\n",
      "popatlal occurs 5 times\n",
      "prefinale occurs 8 times\n",
      "radhabaileaves occurs 6 times\n"
     ]
    }
   ],
   "source": [
    "total_episodes_1\n",
    "\n",
    "episode_counts = {}\n",
    "\n",
    "for episode_title in total_episodes_1:\n",
    "    episode_counts[episode_title] = episode_counts.get(episode_title, 0) + 1\n",
    "\n",
    "for title, count in episode_counts.items():\n",
    "    print(f\"{title} occurs {count} times\")"
   ]
  },
  {
   "cell_type": "raw",
   "id": "7448d71b",
   "metadata": {},
   "source": [
    "Convert all utterance of each episode into a single DataFrame"
   ]
  },
  {
   "cell_type": "code",
   "execution_count": 12,
   "id": "d8fbab51",
   "metadata": {},
   "outputs": [
    {
     "data": {
      "text/html": [
       "<div>\n",
       "<style scoped>\n",
       "    .dataframe tbody tr th:only-of-type {\n",
       "        vertical-align: middle;\n",
       "    }\n",
       "\n",
       "    .dataframe tbody tr th {\n",
       "        vertical-align: top;\n",
       "    }\n",
       "\n",
       "    .dataframe thead th {\n",
       "        text-align: right;\n",
       "    }\n",
       "</style>\n",
       "<table border=\"1\" class=\"dataframe\">\n",
       "  <thead>\n",
       "    <tr style=\"text-align: right;\">\n",
       "      <th></th>\n",
       "      <th>Episode</th>\n",
       "      <th>Speakers</th>\n",
       "      <th>Utterances</th>\n",
       "      <th>Emotions</th>\n",
       "    </tr>\n",
       "  </thead>\n",
       "  <tbody>\n",
       "    <tr>\n",
       "      <th>0</th>\n",
       "      <td>roseshantstobeadopted.wmv</td>\n",
       "      <td>maya</td>\n",
       "      <td>kya kya bhar ke rakha hai indravadan ne is gha...</td>\n",
       "      <td>disgust</td>\n",
       "    </tr>\n",
       "    <tr>\n",
       "      <th>1</th>\n",
       "      <td>roseshantstobeadopted.wmv</td>\n",
       "      <td>indu</td>\n",
       "      <td>ok, chalo rosesh chalo bahar</td>\n",
       "      <td>contempt</td>\n",
       "    </tr>\n",
       "    <tr>\n",
       "      <th>2</th>\n",
       "      <td>roseshantstobeadopted.wmv</td>\n",
       "      <td>rosesh</td>\n",
       "      <td>momma! hath chhodiye dad!</td>\n",
       "      <td>anger</td>\n",
       "    </tr>\n",
       "    <tr>\n",
       "      <th>3</th>\n",
       "      <td>roseshantstobeadopted.wmv</td>\n",
       "      <td>indu</td>\n",
       "      <td>dekho maya ya na bol raha hai! fir tum hi kaho...</td>\n",
       "      <td>neutral</td>\n",
       "    </tr>\n",
       "    <tr>\n",
       "      <th>4</th>\n",
       "      <td>roseshantstobeadopted.wmv</td>\n",
       "      <td>maya</td>\n",
       "      <td>indravadan, tum kitne salo se ye joke maar rah...</td>\n",
       "      <td>neutral</td>\n",
       "    </tr>\n",
       "  </tbody>\n",
       "</table>\n",
       "</div>"
      ],
      "text/plain": [
       "                     Episode Speakers  \\\n",
       "0  roseshantstobeadopted.wmv     maya   \n",
       "1  roseshantstobeadopted.wmv     indu   \n",
       "2  roseshantstobeadopted.wmv   rosesh   \n",
       "3  roseshantstobeadopted.wmv     indu   \n",
       "4  roseshantstobeadopted.wmv     maya   \n",
       "\n",
       "                                          Utterances  Emotions  \n",
       "0  kya kya bhar ke rakha hai indravadan ne is gha...   disgust  \n",
       "1                       ok, chalo rosesh chalo bahar  contempt  \n",
       "2                          momma! hath chhodiye dad!     anger  \n",
       "3  dekho maya ya na bol raha hai! fir tum hi kaho...   neutral  \n",
       "4  indravadan, tum kitne salo se ye joke maar rah...   neutral  "
      ]
     },
     "execution_count": 12,
     "metadata": {},
     "output_type": "execute_result"
    }
   ],
   "source": [
    "import pandas as pd\n",
    "\n",
    "\n",
    "# Create an empty list to store the data for each conversation\n",
    "conversation_data = []\n",
    "\n",
    "# Iterate through the JSON data and construct a DataFrame for each conversation\n",
    "for conversation in train_data:\n",
    "    episode = conversation[\"episode\"]\n",
    "    speakers = conversation[\"speakers\"]\n",
    "    utterances = conversation[\"utterances\"]\n",
    "    emotions = conversation[\"emotions\"]\n",
    "\n",
    "    # Create a DataFrame for the current conversation\n",
    "    df = pd.DataFrame({\n",
    "        \"Episode\": [episode] * len(speakers),\n",
    "        \"Speakers\": speakers,\n",
    "        \"Utterances\": utterances,\n",
    "        \"Emotions\": emotions\n",
    "    })\n",
    "\n",
    "    # Append the DataFrame to the list\n",
    "    conversation_data.append(df)\n",
    "\n",
    "# Concatenate all conversation DataFrames into one DataFrame\n",
    "train_df = pd.concat(conversation_data, ignore_index=True)\n",
    "train_df.head(5)"
   ]
  },
  {
   "cell_type": "code",
   "execution_count": 13,
   "id": "7fa211b3",
   "metadata": {},
   "outputs": [],
   "source": [
    "#validation_data"
   ]
  },
  {
   "cell_type": "code",
   "execution_count": 14,
   "id": "181ba314",
   "metadata": {},
   "outputs": [
    {
     "data": {
      "text/html": [
       "<div>\n",
       "<style scoped>\n",
       "    .dataframe tbody tr th:only-of-type {\n",
       "        vertical-align: middle;\n",
       "    }\n",
       "\n",
       "    .dataframe tbody tr th {\n",
       "        vertical-align: top;\n",
       "    }\n",
       "\n",
       "    .dataframe thead th {\n",
       "        text-align: right;\n",
       "    }\n",
       "</style>\n",
       "<table border=\"1\" class=\"dataframe\">\n",
       "  <thead>\n",
       "    <tr style=\"text-align: right;\">\n",
       "      <th></th>\n",
       "      <th>Episode</th>\n",
       "      <th>Speakers</th>\n",
       "      <th>Utterances</th>\n",
       "      <th>Emotions</th>\n",
       "    </tr>\n",
       "  </thead>\n",
       "  <tbody>\n",
       "    <tr>\n",
       "      <th>0</th>\n",
       "      <td>roseshantstobeadopted.wmv</td>\n",
       "      <td>good rosesh</td>\n",
       "      <td>ye kya kar raha hai rosesh? bharat tera desh! ...</td>\n",
       "      <td>neutral</td>\n",
       "    </tr>\n",
       "    <tr>\n",
       "      <th>1</th>\n",
       "      <td>roseshantstobeadopted.wmv</td>\n",
       "      <td>bad rosesh</td>\n",
       "      <td>hahaha khat padh le rosesh baby or padhne de h...</td>\n",
       "      <td>neutral</td>\n",
       "    </tr>\n",
       "    <tr>\n",
       "      <th>2</th>\n",
       "      <td>roseshantstobeadopted.wmv</td>\n",
       "      <td>good rosesh</td>\n",
       "      <td>kavita acchi hai lekin khayal achcha nahin hai...</td>\n",
       "      <td>neutral</td>\n",
       "    </tr>\n",
       "    <tr>\n",
       "      <th>3</th>\n",
       "      <td>roseshantstobeadopted.wmv</td>\n",
       "      <td>bad rosesh</td>\n",
       "      <td>galat hai, par momma ne tumse kaha tha ki do b...</td>\n",
       "      <td>contempt</td>\n",
       "    </tr>\n",
       "    <tr>\n",
       "      <th>4</th>\n",
       "      <td>roseshantstobeadopted.wmv</td>\n",
       "      <td>good rosesh</td>\n",
       "      <td>galat tha per</td>\n",
       "      <td>neutral</td>\n",
       "    </tr>\n",
       "  </tbody>\n",
       "</table>\n",
       "</div>"
      ],
      "text/plain": [
       "                     Episode     Speakers  \\\n",
       "0  roseshantstobeadopted.wmv  good rosesh   \n",
       "1  roseshantstobeadopted.wmv   bad rosesh   \n",
       "2  roseshantstobeadopted.wmv  good rosesh   \n",
       "3  roseshantstobeadopted.wmv   bad rosesh   \n",
       "4  roseshantstobeadopted.wmv  good rosesh   \n",
       "\n",
       "                                          Utterances  Emotions  \n",
       "0  ye kya kar raha hai rosesh? bharat tera desh! ...   neutral  \n",
       "1  hahaha khat padh le rosesh baby or padhne de h...   neutral  \n",
       "2  kavita acchi hai lekin khayal achcha nahin hai...   neutral  \n",
       "3  galat hai, par momma ne tumse kaha tha ki do b...  contempt  \n",
       "4                                      galat tha per   neutral  "
      ]
     },
     "execution_count": 14,
     "metadata": {},
     "output_type": "execute_result"
    }
   ],
   "source": [
    "import pandas as pd\n",
    "\n",
    "\n",
    "# Create an empty list to store the data for each conversation\n",
    "conversation_data = []\n",
    "\n",
    "# Iterate through the JSON data and construct a DataFrame for each conversation\n",
    "for conversation in validation_data:\n",
    "    episode = conversation[\"episode\"]\n",
    "    speakers = conversation[\"speakers\"]\n",
    "    utterances = conversation[\"utterances\"]\n",
    "    emotions = conversation[\"emotions\"]\n",
    "\n",
    "    # Create a DataFrame for the current conversation\n",
    "    df = pd.DataFrame({\n",
    "        \"Episode\": [episode] * len(speakers),\n",
    "        \"Speakers\": speakers,\n",
    "        \"Utterances\": utterances,\n",
    "        \"Emotions\": emotions\n",
    "    })\n",
    "\n",
    "    # Append the DataFrame to the list\n",
    "    conversation_data.append(df)\n",
    "\n",
    "# Concatenate all conversation DataFrames into one DataFrame\n",
    "val_df = pd.concat(conversation_data, ignore_index=True)\n",
    "val_df.head(5)"
   ]
  },
  {
   "cell_type": "raw",
   "id": "9af75358",
   "metadata": {},
   "source": [
    " distinct emotions exist in whole training conversation"
   ]
  },
  {
   "cell_type": "code",
   "execution_count": 15,
   "id": "9a496a5e",
   "metadata": {},
   "outputs": [
    {
     "name": "stdout",
     "output_type": "stream",
     "text": [
      "Distinct Emotions:\n",
      "disgust\n",
      "contempt\n",
      "anger\n",
      "neutral\n",
      "joy\n",
      "sadness\n",
      "fear\n",
      "surprise\n"
     ]
    }
   ],
   "source": [
    "# Find distinct emotions\n",
    "distinct_emotions = train_df['Emotions'].unique()\n",
    "\n",
    "# Print distinct emotions\n",
    "print(\"Distinct Emotions:\")\n",
    "for emotion in distinct_emotions:\n",
    "    print(emotion)"
   ]
  },
  {
   "cell_type": "code",
   "execution_count": 16,
   "id": "d1aadf67",
   "metadata": {},
   "outputs": [
    {
     "name": "stdout",
     "output_type": "stream",
     "text": [
      "Distinct Emotions:\n",
      "neutral\n",
      "contempt\n",
      "sadness\n",
      "fear\n",
      "joy\n",
      "surprise\n",
      "anger\n",
      "disgust\n"
     ]
    }
   ],
   "source": [
    "# Find distinct emotions\n",
    "distinct_emotions = val_df['Emotions'].unique()\n",
    "\n",
    "# Print distinct emotions\n",
    "print(\"Distinct Emotions:\")\n",
    "for emotion in distinct_emotions:\n",
    "    print(emotion)"
   ]
  },
  {
   "cell_type": "raw",
   "id": "345bc1e3",
   "metadata": {},
   "source": [
    "Visualise the emotion status count in training conversation"
   ]
  },
  {
   "cell_type": "code",
   "execution_count": 17,
   "id": "3987d419",
   "metadata": {},
   "outputs": [
    {
     "data": {
      "image/png": "[encoded data removed]",
      "text/plain": [
       "<Figure size 800x500 with 1 Axes>"
      ]
     },
     "metadata": {},
     "output_type": "display_data"
    }
   ],
   "source": [
    "# Count the occurrences of each emotion\n",
    "emotion_counts = train_df['Emotions'].value_counts()\n",
    "\n",
    "# Create a bar plot\n",
    "plt.figure(figsize=(8, 5))\n",
    "emotion_counts.plot(kind='bar', color='skyblue')\n",
    "plt.title('Emotion Occurrences')\n",
    "plt.xlabel('Emotion')\n",
    "plt.ylabel('Count')\n",
    "plt.xticks(rotation=45)\n",
    "plt.tight_layout()\n",
    "plt.grid()\n",
    "# Show the plot\n",
    "plt.show()"
   ]
  },
  {
   "cell_type": "code",
   "execution_count": null,
   "id": "8c8a61a2",
   "metadata": {},
   "outputs": [],
   "source": []
  },
  {
   "cell_type": "raw",
   "id": "c8a3cbfb",
   "metadata": {},
   "source": [
    "Define the Hindi Stopwords"
   ]
  },
  {
   "cell_type": "code",
   "execution_count": 18,
   "id": "edefb044",
   "metadata": {},
   "outputs": [],
   "source": [
    "hindi_stopwords = get_stop_words('hi')  # 'hi' is the ISO 639-1 code for Hindi\n",
    "hindi_stopwords\n",
    "\n",
    "# Transliterate Hindi to Roman script (English characters)\n",
    "transliterated_text = [sanscript.transliterate(word, source_script, target_script) for word in hindi_stopwords]\n",
    "\n",
    "# Convert transliterated words to lowercase\n",
    "lowercase_transliterated_text = [word.lower() for word in transliterated_text]\n"
   ]
  },
  {
   "cell_type": "markdown",
   "id": "ab00e00c",
   "metadata": {},
   "source": [
    "# combined list of stopwords for both English and Hindi"
   ]
  },
  {
   "cell_type": "code",
   "execution_count": 19,
   "id": "92f9ed72",
   "metadata": {},
   "outputs": [
    {
     "data": {
      "text/plain": [
       "{'a',\n",
       " 'abhi',\n",
       " 'about',\n",
       " 'above',\n",
       " 'adi',\n",
       " 'after',\n",
       " 'again',\n",
       " 'against',\n",
       " 'ain',\n",
       " 'aise',\n",
       " 'all',\n",
       " 'am',\n",
       " 'amdara',\n",
       " 'an',\n",
       " 'and',\n",
       " 'any',\n",
       " 'apa',\n",
       " 'apana',\n",
       " 'apane',\n",
       " 'apani',\n",
       " 'are',\n",
       " 'aren',\n",
       " \"aren't\",\n",
       " 'as',\n",
       " 'at',\n",
       " 'ata',\n",
       " 'aura',\n",
       " 'bada',\n",
       " 'bahi',\n",
       " 'bahuta',\n",
       " 'bala',\n",
       " 'bani',\n",
       " 'be',\n",
       " 'because',\n",
       " 'been',\n",
       " 'before',\n",
       " 'being',\n",
       " 'below',\n",
       " 'between',\n",
       " 'bhi',\n",
       " 'bhitara',\n",
       " 'bilakula',\n",
       " 'both',\n",
       " 'but',\n",
       " 'by',\n",
       " 'can',\n",
       " 'couldn',\n",
       " \"couldn't\",\n",
       " 'd',\n",
       " 'dabara',\n",
       " 'did',\n",
       " 'didn',\n",
       " \"didn't\",\n",
       " 'diya',\n",
       " 'do',\n",
       " 'does',\n",
       " 'doesn',\n",
       " \"doesn't\",\n",
       " 'doing',\n",
       " 'don',\n",
       " \"don't\",\n",
       " 'down',\n",
       " 'during',\n",
       " 'dusara',\n",
       " 'dusare',\n",
       " 'dvara',\n",
       " 'each',\n",
       " 'eka',\n",
       " 'esa',\n",
       " 'evam',\n",
       " 'few',\n",
       " 'for',\n",
       " 'from',\n",
       " 'further',\n",
       " 'gaya',\n",
       " 'ghara',\n",
       " 'had',\n",
       " 'hadn',\n",
       " \"hadn't\",\n",
       " 'hai',\n",
       " 'haim',\n",
       " 'has',\n",
       " 'hasn',\n",
       " \"hasn't\",\n",
       " 'have',\n",
       " 'haven',\n",
       " \"haven't\",\n",
       " 'having',\n",
       " 'he',\n",
       " 'her',\n",
       " 'here',\n",
       " 'hers',\n",
       " 'herself',\n",
       " 'hi',\n",
       " 'him',\n",
       " 'himself',\n",
       " 'his',\n",
       " 'ho',\n",
       " 'hona',\n",
       " 'hone',\n",
       " 'hota',\n",
       " 'hote',\n",
       " 'hoti',\n",
       " 'how',\n",
       " 'hua',\n",
       " 'hue',\n",
       " 'hui',\n",
       " 'i',\n",
       " 'if',\n",
       " 'in',\n",
       " 'ina',\n",
       " 'inaka',\n",
       " 'inhem',\n",
       " 'inhim',\n",
       " 'inhom',\n",
       " 'into',\n",
       " 'is',\n",
       " 'isa',\n",
       " 'isaka',\n",
       " 'isake',\n",
       " 'isaki',\n",
       " 'isamem',\n",
       " 'ise',\n",
       " 'isi',\n",
       " 'isn',\n",
       " \"isn't\",\n",
       " 'it',\n",
       " \"it's\",\n",
       " 'its',\n",
       " 'itself',\n",
       " 'ityadi',\n",
       " 'ja',\n",
       " 'jaba',\n",
       " 'jaha.n',\n",
       " 'jaisa',\n",
       " 'jaise',\n",
       " 'jidhara',\n",
       " 'jina',\n",
       " 'jinhem',\n",
       " 'jinhom',\n",
       " 'jisa',\n",
       " 'jise',\n",
       " 'jitana',\n",
       " 'jo',\n",
       " 'just',\n",
       " 'ka',\n",
       " 'kafi',\n",
       " 'kaha',\n",
       " 'kahate',\n",
       " 'kai',\n",
       " 'kara',\n",
       " 'karana',\n",
       " 'karane',\n",
       " 'karata',\n",
       " 'karate',\n",
       " 'karem',\n",
       " 'kauna',\n",
       " 'kaunasa',\n",
       " 'ke',\n",
       " 'ki',\n",
       " 'kinhem',\n",
       " 'kinhom',\n",
       " 'kira',\n",
       " 'kisa',\n",
       " 'kise',\n",
       " 'kisi',\n",
       " 'kitana',\n",
       " 'kiya',\n",
       " 'ko',\n",
       " 'koi',\n",
       " 'kucha',\n",
       " 'kula',\n",
       " 'lekina',\n",
       " 'lie',\n",
       " 'liye',\n",
       " 'll',\n",
       " 'm',\n",
       " 'ma',\n",
       " 'magara',\n",
       " 'mano',\n",
       " 'me',\n",
       " 'mem',\n",
       " 'mightn',\n",
       " \"mightn't\",\n",
       " 'more',\n",
       " 'most',\n",
       " 'mustn',\n",
       " \"mustn't\",\n",
       " 'my',\n",
       " 'myself',\n",
       " 'na',\n",
       " 'nahim',\n",
       " 'nake',\n",
       " 'ne',\n",
       " 'needn',\n",
       " \"needn't\",\n",
       " 'niche',\n",
       " 'nihayata',\n",
       " 'no',\n",
       " 'nor',\n",
       " 'not',\n",
       " 'now',\n",
       " 'o',\n",
       " 'of',\n",
       " 'off',\n",
       " 'on',\n",
       " 'once',\n",
       " 'only',\n",
       " 'or',\n",
       " 'other',\n",
       " 'our',\n",
       " 'ours',\n",
       " 'ourselves',\n",
       " 'out',\n",
       " 'over',\n",
       " 'own',\n",
       " 'pahale',\n",
       " 'para',\n",
       " 'pe',\n",
       " 'phira',\n",
       " 'pura',\n",
       " 'raha',\n",
       " 'rahe',\n",
       " 'rakhem',\n",
       " 're',\n",
       " 'rvasa',\n",
       " 's',\n",
       " 'sabase',\n",
       " 'sabha',\n",
       " 'sabhi',\n",
       " 'sabuta',\n",
       " 'sakata',\n",
       " 'sakate',\n",
       " 'same',\n",
       " 'samga',\n",
       " 'sara',\n",
       " 'satha',\n",
       " 'se',\n",
       " 'shan',\n",
       " \"shan't\",\n",
       " 'she',\n",
       " \"she's\",\n",
       " 'should',\n",
       " \"should've\",\n",
       " 'shouldn',\n",
       " \"shouldn't\",\n",
       " 'so',\n",
       " 'some',\n",
       " 'such',\n",
       " 't',\n",
       " 'taba',\n",
       " 'taka',\n",
       " 'taraha',\n",
       " 'tha',\n",
       " 'than',\n",
       " 'that',\n",
       " \"that'll\",\n",
       " 'the',\n",
       " 'their',\n",
       " 'theirs',\n",
       " 'them',\n",
       " 'themselves',\n",
       " 'then',\n",
       " 'there',\n",
       " 'these',\n",
       " 'they',\n",
       " 'thi',\n",
       " 'this',\n",
       " 'those',\n",
       " 'through',\n",
       " 'tina',\n",
       " 'tinhem',\n",
       " 'tinhom',\n",
       " 'tisa',\n",
       " 'tise',\n",
       " 'to',\n",
       " 'too',\n",
       " 'una',\n",
       " 'unaka',\n",
       " 'unake',\n",
       " 'unaki',\n",
       " 'unako',\n",
       " 'under',\n",
       " 'unhem',\n",
       " 'unhim',\n",
       " 'unhom',\n",
       " 'until',\n",
       " 'up',\n",
       " 'usa',\n",
       " 'usake',\n",
       " 'use',\n",
       " 'usi',\n",
       " 'va',\n",
       " 'vagairaha',\n",
       " 'vaha',\n",
       " 'vaha.n',\n",
       " 'vahim',\n",
       " 'vale',\n",
       " 'varga',\n",
       " 've',\n",
       " 'very',\n",
       " 'vuha',\n",
       " 'was',\n",
       " 'wasn',\n",
       " \"wasn't\",\n",
       " 'we',\n",
       " 'were',\n",
       " 'weren',\n",
       " \"weren't\",\n",
       " 'what',\n",
       " 'when',\n",
       " 'where',\n",
       " 'which',\n",
       " 'while',\n",
       " 'who',\n",
       " 'whom',\n",
       " 'why',\n",
       " 'will',\n",
       " 'with',\n",
       " 'won',\n",
       " \"won't\",\n",
       " 'wouldn',\n",
       " \"wouldn't\",\n",
       " 'y',\n",
       " 'ya',\n",
       " 'yadi',\n",
       " 'yaha',\n",
       " 'yaha.n',\n",
       " 'yahi',\n",
       " 'ye',\n",
       " 'yiha',\n",
       " 'you',\n",
       " \"you'd\",\n",
       " \"you'll\",\n",
       " \"you're\",\n",
       " \"you've\",\n",
       " 'your',\n",
       " 'yours',\n",
       " 'yourself',\n",
       " 'yourselves'}"
      ]
     },
     "execution_count": 19,
     "metadata": {},
     "output_type": "execute_result"
    }
   ],
   "source": [
    "english_stopwords = set(stopwords.words('english'))\n",
    "stop_words = set(english_stopwords)  # English stopwords\n",
    "\n",
    "# Add Hindi stopwords to the set\n",
    "hindi_stop_words = set(lowercase_transliterated_text)  # Add your Hindi stopwords here\n",
    "\n",
    "stop_words.update(hindi_stop_words)\n",
    "stop_words"
   ]
  },
  {
   "cell_type": "code",
   "execution_count": null,
   "id": "66f6fcbb",
   "metadata": {},
   "outputs": [],
   "source": []
  },
  {
   "cell_type": "markdown",
   "id": "6147fc29",
   "metadata": {},
   "source": [
    "# Preprocessing code for each utterance"
   ]
  },
  {
   "cell_type": "code",
   "execution_count": 20,
   "id": "dba132e8",
   "metadata": {},
   "outputs": [],
   "source": [
    "import re\n",
    "\n",
    "def remove_numeric_sequences_and_ordinals(text):\n",
    "    # Remove numbers\n",
    "    text = re.sub(r'\\d+', '', text)\n",
    "\n",
    "    # Remove ordinal numbers\n",
    "    text = re.sub(r'\\b\\d+(st|nd|rd|th)\\b', '', text)\n",
    "\n",
    "    return text"
   ]
  },
  {
   "cell_type": "code",
   "execution_count": 21,
   "id": "f5c261b6",
   "metadata": {},
   "outputs": [],
   "source": [
    "def remove_puntuations(txt):\n",
    "    punct = set(string.punctuation)\n",
    "    txt = \" \".join(txt.split(\".\"))\n",
    "    txt = \" \".join(txt.split(\"!\"))\n",
    "    txt = \" \".join(txt.split(\"?\"))\n",
    "    txt = \" \".join(txt.split(\":\"))\n",
    "    txt = \" \".join(txt.split(\";\"))\n",
    "    \n",
    "    txt = \"\".join(ch for ch in txt if ch not in punct)\n",
    "    return txt"
   ]
  },
  {
   "cell_type": "code",
   "execution_count": 22,
   "id": "cacafb19",
   "metadata": {},
   "outputs": [],
   "source": [
    "# Function clean text\n",
    "def preprocess_text(text):\n",
    "    # Convert text to lowercase\n",
    "    text = text.lower()\n",
    "    \n",
    "    #remove numeric and ordinals \n",
    "    text = remove_numeric_sequences_and_ordinals(text)\n",
    "\n",
    "    # Remove punctuation\n",
    "    text = remove_puntuations(text)\n",
    "\n",
    "    # Remove extra white spaces\n",
    "    text = ' '.join(text.split())\n",
    "\n",
    "    # Remove stopwords\n",
    "    total_stop_words = stop_words\n",
    "    text = ' '.join([word for word in text.split() if word not in total_stop_words])\n",
    "\n",
    "    return text"
   ]
  },
  {
   "cell_type": "code",
   "execution_count": null,
   "id": "c68abb81",
   "metadata": {},
   "outputs": [],
   "source": []
  },
  {
   "cell_type": "code",
   "execution_count": 23,
   "id": "eade6644",
   "metadata": {},
   "outputs": [
    {
     "data": {
      "text/plain": [
       "'kya kya bhar rakha indravadan gha'"
      ]
     },
     "execution_count": 23,
     "metadata": {},
     "output_type": "execute_result"
    }
   ],
   "source": [
    "preprocess_text('kya kya bhar ke rakha hai indravadan ne is gha...\t')"
   ]
  },
  {
   "cell_type": "raw",
   "id": "9f7c3efa",
   "metadata": {},
   "source": [
    "Apply preprocessing to the 'Utterances' column\n"
   ]
  },
  {
   "cell_type": "code",
   "execution_count": 24,
   "id": "f767c010",
   "metadata": {},
   "outputs": [
    {
     "data": {
      "text/html": [
       "<div>\n",
       "<style scoped>\n",
       "    .dataframe tbody tr th:only-of-type {\n",
       "        vertical-align: middle;\n",
       "    }\n",
       "\n",
       "    .dataframe tbody tr th {\n",
       "        vertical-align: top;\n",
       "    }\n",
       "\n",
       "    .dataframe thead th {\n",
       "        text-align: right;\n",
       "    }\n",
       "</style>\n",
       "<table border=\"1\" class=\"dataframe\">\n",
       "  <thead>\n",
       "    <tr style=\"text-align: right;\">\n",
       "      <th></th>\n",
       "      <th>Episode</th>\n",
       "      <th>Speakers</th>\n",
       "      <th>Utterances</th>\n",
       "      <th>Emotions</th>\n",
       "      <th>Clean_text</th>\n",
       "    </tr>\n",
       "  </thead>\n",
       "  <tbody>\n",
       "    <tr>\n",
       "      <th>0</th>\n",
       "      <td>roseshantstobeadopted.wmv</td>\n",
       "      <td>maya</td>\n",
       "      <td>kya kya bhar ke rakha hai indravadan ne is gha...</td>\n",
       "      <td>disgust</td>\n",
       "      <td>kya kya bhar rakha indravadan ghar mein indrav...</td>\n",
       "    </tr>\n",
       "    <tr>\n",
       "      <th>1</th>\n",
       "      <td>roseshantstobeadopted.wmv</td>\n",
       "      <td>indu</td>\n",
       "      <td>ok, chalo rosesh chalo bahar</td>\n",
       "      <td>contempt</td>\n",
       "      <td>ok chalo rosesh chalo bahar</td>\n",
       "    </tr>\n",
       "    <tr>\n",
       "      <th>2</th>\n",
       "      <td>roseshantstobeadopted.wmv</td>\n",
       "      <td>rosesh</td>\n",
       "      <td>momma! hath chhodiye dad!</td>\n",
       "      <td>anger</td>\n",
       "      <td>momma hath chhodiye dad</td>\n",
       "    </tr>\n",
       "    <tr>\n",
       "      <th>3</th>\n",
       "      <td>roseshantstobeadopted.wmv</td>\n",
       "      <td>indu</td>\n",
       "      <td>dekho maya ya na bol raha hai! fir tum hi kaho...</td>\n",
       "      <td>neutral</td>\n",
       "      <td>dekho maya bol fir tum kahogi faltu chijen jam...</td>\n",
       "    </tr>\n",
       "    <tr>\n",
       "      <th>4</th>\n",
       "      <td>roseshantstobeadopted.wmv</td>\n",
       "      <td>maya</td>\n",
       "      <td>indravadan, tum kitne salo se ye joke maar rah...</td>\n",
       "      <td>neutral</td>\n",
       "      <td>indravadan tum kitne salo joke maar aaj tak</td>\n",
       "    </tr>\n",
       "    <tr>\n",
       "      <th>...</th>\n",
       "      <td>...</td>\n",
       "      <td>...</td>\n",
       "      <td>...</td>\n",
       "      <td>...</td>\n",
       "      <td>...</td>\n",
       "    </tr>\n",
       "    <tr>\n",
       "      <th>8501</th>\n",
       "      <td>radhabaileaves</td>\n",
       "      <td>rosesh</td>\n",
       "      <td>lekin what about my ghadi? 17000 ki ghadi hai ...</td>\n",
       "      <td>sadness</td>\n",
       "      <td>lekin ghadi ghadi momma recurring alarm baje a...</td>\n",
       "    </tr>\n",
       "    <tr>\n",
       "      <th>8502</th>\n",
       "      <td>radhabaileaves</td>\n",
       "      <td>sita or geeta</td>\n",
       "      <td>nhi nhi mujhe yahan pe kaamich nhi karna hai, ...</td>\n",
       "      <td>anger</td>\n",
       "      <td>nhi nhi mujhe yahan kaamich nhi karna jaa rhi hun</td>\n",
       "    </tr>\n",
       "    <tr>\n",
       "      <th>8503</th>\n",
       "      <td>radhabaileaves</td>\n",
       "      <td>maya</td>\n",
       "      <td>ahan!</td>\n",
       "      <td>joy</td>\n",
       "      <td>ahan</td>\n",
       "    </tr>\n",
       "    <tr>\n",
       "      <th>8504</th>\n",
       "      <td>radhabaileaves</td>\n",
       "      <td>sita or geeta</td>\n",
       "      <td>goodbye!</td>\n",
       "      <td>fear</td>\n",
       "      <td>goodbye</td>\n",
       "    </tr>\n",
       "    <tr>\n",
       "      <th>8505</th>\n",
       "      <td>radhabaileaves</td>\n",
       "      <td>maya</td>\n",
       "      <td>no goodbye! nikalo! nikalo! chorro hath chorro...</td>\n",
       "      <td>disgust</td>\n",
       "      <td>goodbye nikalo nikalo chorro hath chorro badby...</td>\n",
       "    </tr>\n",
       "  </tbody>\n",
       "</table>\n",
       "<p>8506 rows × 5 columns</p>\n",
       "</div>"
      ],
      "text/plain": [
       "                        Episode       Speakers  \\\n",
       "0     roseshantstobeadopted.wmv           maya   \n",
       "1     roseshantstobeadopted.wmv           indu   \n",
       "2     roseshantstobeadopted.wmv         rosesh   \n",
       "3     roseshantstobeadopted.wmv           indu   \n",
       "4     roseshantstobeadopted.wmv           maya   \n",
       "...                         ...            ...   \n",
       "8501             radhabaileaves         rosesh   \n",
       "8502             radhabaileaves  sita or geeta   \n",
       "8503             radhabaileaves           maya   \n",
       "8504             radhabaileaves  sita or geeta   \n",
       "8505             radhabaileaves           maya   \n",
       "\n",
       "                                             Utterances  Emotions  \\\n",
       "0     kya kya bhar ke rakha hai indravadan ne is gha...   disgust   \n",
       "1                          ok, chalo rosesh chalo bahar  contempt   \n",
       "2                             momma! hath chhodiye dad!     anger   \n",
       "3     dekho maya ya na bol raha hai! fir tum hi kaho...   neutral   \n",
       "4     indravadan, tum kitne salo se ye joke maar rah...   neutral   \n",
       "...                                                 ...       ...   \n",
       "8501  lekin what about my ghadi? 17000 ki ghadi hai ...   sadness   \n",
       "8502  nhi nhi mujhe yahan pe kaamich nhi karna hai, ...     anger   \n",
       "8503                                              ahan!       joy   \n",
       "8504                                           goodbye!      fear   \n",
       "8505  no goodbye! nikalo! nikalo! chorro hath chorro...   disgust   \n",
       "\n",
       "                                             Clean_text  \n",
       "0     kya kya bhar rakha indravadan ghar mein indrav...  \n",
       "1                           ok chalo rosesh chalo bahar  \n",
       "2                               momma hath chhodiye dad  \n",
       "3     dekho maya bol fir tum kahogi faltu chijen jam...  \n",
       "4           indravadan tum kitne salo joke maar aaj tak  \n",
       "...                                                 ...  \n",
       "8501  lekin ghadi ghadi momma recurring alarm baje a...  \n",
       "8502  nhi nhi mujhe yahan kaamich nhi karna jaa rhi hun  \n",
       "8503                                               ahan  \n",
       "8504                                            goodbye  \n",
       "8505  goodbye nikalo nikalo chorro hath chorro badby...  \n",
       "\n",
       "[8506 rows x 5 columns]"
      ]
     },
     "execution_count": 24,
     "metadata": {},
     "output_type": "execute_result"
    }
   ],
   "source": [
    "# Apply preprocessing to the 'Utterances' column\n",
    "train_df['Clean_text'] = train_df['Utterances'].apply(preprocess_text)\n",
    "\n",
    "# Print the first few rows of the modified DataFrame\n",
    "train_df"
   ]
  },
  {
   "cell_type": "code",
   "execution_count": 25,
   "id": "c23cebcb",
   "metadata": {},
   "outputs": [
    {
     "data": {
      "text/html": [
       "<div>\n",
       "<style scoped>\n",
       "    .dataframe tbody tr th:only-of-type {\n",
       "        vertical-align: middle;\n",
       "    }\n",
       "\n",
       "    .dataframe tbody tr th {\n",
       "        vertical-align: top;\n",
       "    }\n",
       "\n",
       "    .dataframe thead th {\n",
       "        text-align: right;\n",
       "    }\n",
       "</style>\n",
       "<table border=\"1\" class=\"dataframe\">\n",
       "  <thead>\n",
       "    <tr style=\"text-align: right;\">\n",
       "      <th></th>\n",
       "      <th>Episode</th>\n",
       "      <th>Speakers</th>\n",
       "      <th>Utterances</th>\n",
       "      <th>Emotions</th>\n",
       "      <th>Clean_text</th>\n",
       "    </tr>\n",
       "  </thead>\n",
       "  <tbody>\n",
       "    <tr>\n",
       "      <th>0</th>\n",
       "      <td>roseshantstobeadopted.wmv</td>\n",
       "      <td>good rosesh</td>\n",
       "      <td>ye kya kar raha hai rosesh? bharat tera desh! ...</td>\n",
       "      <td>neutral</td>\n",
       "      <td>kya kar rosesh bharat tera desh bhartiya insan...</td>\n",
       "    </tr>\n",
       "    <tr>\n",
       "      <th>1</th>\n",
       "      <td>roseshantstobeadopted.wmv</td>\n",
       "      <td>bad rosesh</td>\n",
       "      <td>hahaha khat padh le rosesh baby or padhne de h...</td>\n",
       "      <td>neutral</td>\n",
       "      <td>hahaha khat padh le rosesh baby padhne de hame...</td>\n",
       "    </tr>\n",
       "    <tr>\n",
       "      <th>2</th>\n",
       "      <td>roseshantstobeadopted.wmv</td>\n",
       "      <td>good rosesh</td>\n",
       "      <td>kavita acchi hai lekin khayal achcha nahin hai...</td>\n",
       "      <td>neutral</td>\n",
       "      <td>kavita acchi lekin khayal achcha nahin villain...</td>\n",
       "    </tr>\n",
       "    <tr>\n",
       "      <th>3</th>\n",
       "      <td>roseshantstobeadopted.wmv</td>\n",
       "      <td>bad rosesh</td>\n",
       "      <td>galat hai, par momma ne tumse kaha tha ki do b...</td>\n",
       "      <td>contempt</td>\n",
       "      <td>galat par momma tumse bar brush karna aur tumn...</td>\n",
       "    </tr>\n",
       "    <tr>\n",
       "      <th>4</th>\n",
       "      <td>roseshantstobeadopted.wmv</td>\n",
       "      <td>good rosesh</td>\n",
       "      <td>galat tha per</td>\n",
       "      <td>neutral</td>\n",
       "      <td>galat per</td>\n",
       "    </tr>\n",
       "    <tr>\n",
       "      <th>...</th>\n",
       "      <td>...</td>\n",
       "      <td>...</td>\n",
       "      <td>...</td>\n",
       "      <td>...</td>\n",
       "      <td>...</td>\n",
       "    </tr>\n",
       "    <tr>\n",
       "      <th>1349</th>\n",
       "      <td>prefinale</td>\n",
       "      <td>monish</td>\n",
       "      <td>sahil sahil sahil. sirf 4 din bache hai or sar...</td>\n",
       "      <td>fear</td>\n",
       "      <td>sahil sahil sahil sirf din bache sari ladkiyan...</td>\n",
       "    </tr>\n",
       "    <tr>\n",
       "      <th>1350</th>\n",
       "      <td>prefinale</td>\n",
       "      <td>sahil</td>\n",
       "      <td>haan lekin mom unn charo me se kisi ek ko fina...</td>\n",
       "      <td>neutral</td>\n",
       "      <td>haan lekin mom unn charo ek finalise kar lengi</td>\n",
       "    </tr>\n",
       "    <tr>\n",
       "      <th>1351</th>\n",
       "      <td>prefinale</td>\n",
       "      <td>monish</td>\n",
       "      <td>mummy ji ko to unme se koi pasand nhi hai</td>\n",
       "      <td>sadness</td>\n",
       "      <td>mummy ji unme pasand nhi</td>\n",
       "    </tr>\n",
       "    <tr>\n",
       "      <th>1352</th>\n",
       "      <td>prefinale</td>\n",
       "      <td>sahil</td>\n",
       "      <td>rosesh ko?</td>\n",
       "      <td>neutral</td>\n",
       "      <td>rosesh</td>\n",
       "    </tr>\n",
       "    <tr>\n",
       "      <th>1353</th>\n",
       "      <td>prefinale</td>\n",
       "      <td>monish</td>\n",
       "      <td>unhe to charo pasand hai. wese sahil, waqt bee...</td>\n",
       "      <td>fear</td>\n",
       "      <td>unhe charo pasand wese sahil waqt beeta jaa rh...</td>\n",
       "    </tr>\n",
       "  </tbody>\n",
       "</table>\n",
       "<p>1354 rows × 5 columns</p>\n",
       "</div>"
      ],
      "text/plain": [
       "                        Episode     Speakers  \\\n",
       "0     roseshantstobeadopted.wmv  good rosesh   \n",
       "1     roseshantstobeadopted.wmv   bad rosesh   \n",
       "2     roseshantstobeadopted.wmv  good rosesh   \n",
       "3     roseshantstobeadopted.wmv   bad rosesh   \n",
       "4     roseshantstobeadopted.wmv  good rosesh   \n",
       "...                         ...          ...   \n",
       "1349                  prefinale       monish   \n",
       "1350                  prefinale        sahil   \n",
       "1351                  prefinale       monish   \n",
       "1352                  prefinale        sahil   \n",
       "1353                  prefinale       monish   \n",
       "\n",
       "                                             Utterances  Emotions  \\\n",
       "0     ye kya kar raha hai rosesh? bharat tera desh! ...   neutral   \n",
       "1     hahaha khat padh le rosesh baby or padhne de h...   neutral   \n",
       "2     kavita acchi hai lekin khayal achcha nahin hai...   neutral   \n",
       "3     galat hai, par momma ne tumse kaha tha ki do b...  contempt   \n",
       "4                                         galat tha per   neutral   \n",
       "...                                                 ...       ...   \n",
       "1349  sahil sahil sahil. sirf 4 din bache hai or sar...      fear   \n",
       "1350  haan lekin mom unn charo me se kisi ek ko fina...   neutral   \n",
       "1351          mummy ji ko to unme se koi pasand nhi hai   sadness   \n",
       "1352                                         rosesh ko?   neutral   \n",
       "1353  unhe to charo pasand hai. wese sahil, waqt bee...      fear   \n",
       "\n",
       "                                             Clean_text  \n",
       "0     kya kar rosesh bharat tera desh bhartiya insan...  \n",
       "1     hahaha khat padh le rosesh baby padhne de hame...  \n",
       "2     kavita acchi lekin khayal achcha nahin villain...  \n",
       "3     galat par momma tumse bar brush karna aur tumn...  \n",
       "4                                             galat per  \n",
       "...                                                 ...  \n",
       "1349  sahil sahil sahil sirf din bache sari ladkiyan...  \n",
       "1350     haan lekin mom unn charo ek finalise kar lengi  \n",
       "1351                           mummy ji unme pasand nhi  \n",
       "1352                                             rosesh  \n",
       "1353  unhe charo pasand wese sahil waqt beeta jaa rh...  \n",
       "\n",
       "[1354 rows x 5 columns]"
      ]
     },
     "execution_count": 25,
     "metadata": {},
     "output_type": "execute_result"
    }
   ],
   "source": [
    "# Apply preprocessing to the 'Utterances' column\n",
    "val_df['Clean_text'] = val_df['Utterances'].apply(preprocess_text)\n",
    "\n",
    "# Print the first few rows of the modified DataFrame\n",
    "val_df"
   ]
  },
  {
   "cell_type": "code",
   "execution_count": null,
   "id": "1aafb1f1",
   "metadata": {},
   "outputs": [],
   "source": []
  },
  {
   "cell_type": "code",
   "execution_count": 26,
   "id": "5e32e468",
   "metadata": {},
   "outputs": [
    {
     "data": {
      "text/html": [
       "<div>\n",
       "<style scoped>\n",
       "    .dataframe tbody tr th:only-of-type {\n",
       "        vertical-align: middle;\n",
       "    }\n",
       "\n",
       "    .dataframe tbody tr th {\n",
       "        vertical-align: top;\n",
       "    }\n",
       "\n",
       "    .dataframe thead th {\n",
       "        text-align: right;\n",
       "    }\n",
       "</style>\n",
       "<table border=\"1\" class=\"dataframe\">\n",
       "  <thead>\n",
       "    <tr style=\"text-align: right;\">\n",
       "      <th></th>\n",
       "      <th>Emotions</th>\n",
       "      <th>Clean_text</th>\n",
       "    </tr>\n",
       "  </thead>\n",
       "  <tbody>\n",
       "    <tr>\n",
       "      <th>0</th>\n",
       "      <td>disgust</td>\n",
       "      <td>kya kya bhar rakha indravadan ghar mein indrav...</td>\n",
       "    </tr>\n",
       "    <tr>\n",
       "      <th>1</th>\n",
       "      <td>contempt</td>\n",
       "      <td>ok chalo rosesh chalo bahar</td>\n",
       "    </tr>\n",
       "    <tr>\n",
       "      <th>2</th>\n",
       "      <td>anger</td>\n",
       "      <td>momma hath chhodiye dad</td>\n",
       "    </tr>\n",
       "    <tr>\n",
       "      <th>3</th>\n",
       "      <td>neutral</td>\n",
       "      <td>dekho maya bol fir tum kahogi faltu chijen jam...</td>\n",
       "    </tr>\n",
       "    <tr>\n",
       "      <th>4</th>\n",
       "      <td>neutral</td>\n",
       "      <td>indravadan tum kitne salo joke maar aaj tak</td>\n",
       "    </tr>\n",
       "    <tr>\n",
       "      <th>...</th>\n",
       "      <td>...</td>\n",
       "      <td>...</td>\n",
       "    </tr>\n",
       "    <tr>\n",
       "      <th>8501</th>\n",
       "      <td>sadness</td>\n",
       "      <td>lekin ghadi ghadi momma recurring alarm baje a...</td>\n",
       "    </tr>\n",
       "    <tr>\n",
       "      <th>8502</th>\n",
       "      <td>anger</td>\n",
       "      <td>nhi nhi mujhe yahan kaamich nhi karna jaa rhi hun</td>\n",
       "    </tr>\n",
       "    <tr>\n",
       "      <th>8503</th>\n",
       "      <td>joy</td>\n",
       "      <td>ahan</td>\n",
       "    </tr>\n",
       "    <tr>\n",
       "      <th>8504</th>\n",
       "      <td>fear</td>\n",
       "      <td>goodbye</td>\n",
       "    </tr>\n",
       "    <tr>\n",
       "      <th>8505</th>\n",
       "      <td>disgust</td>\n",
       "      <td>goodbye nikalo nikalo chorro hath chorro badby...</td>\n",
       "    </tr>\n",
       "  </tbody>\n",
       "</table>\n",
       "<p>8506 rows × 2 columns</p>\n",
       "</div>"
      ],
      "text/plain": [
       "      Emotions                                         Clean_text\n",
       "0      disgust  kya kya bhar rakha indravadan ghar mein indrav...\n",
       "1     contempt                        ok chalo rosesh chalo bahar\n",
       "2        anger                            momma hath chhodiye dad\n",
       "3      neutral  dekho maya bol fir tum kahogi faltu chijen jam...\n",
       "4      neutral        indravadan tum kitne salo joke maar aaj tak\n",
       "...        ...                                                ...\n",
       "8501   sadness  lekin ghadi ghadi momma recurring alarm baje a...\n",
       "8502     anger  nhi nhi mujhe yahan kaamich nhi karna jaa rhi hun\n",
       "8503       joy                                               ahan\n",
       "8504      fear                                            goodbye\n",
       "8505   disgust  goodbye nikalo nikalo chorro hath chorro badby...\n",
       "\n",
       "[8506 rows x 2 columns]"
      ]
     },
     "execution_count": 26,
     "metadata": {},
     "output_type": "execute_result"
    }
   ],
   "source": [
    "train = train_df[[\"Emotions\",\"Clean_text\"]]\n",
    "train"
   ]
  },
  {
   "cell_type": "raw",
   "id": "e5a8f099",
   "metadata": {},
   "source": [
    " maximum length length of the utterence"
   ]
  },
  {
   "cell_type": "code",
   "execution_count": 27,
   "id": "7d1ede44",
   "metadata": {},
   "outputs": [
    {
     "name": "stdout",
     "output_type": "stream",
     "text": [
      "The maximum number of words in an utterance is: 94\n"
     ]
    }
   ],
   "source": [
    "# Assuming train is the DataFrame containing the 'Clean_text' column\n",
    "max_words = train['Clean_text'].apply(lambda x: len(x.split())).max()\n",
    "print(f\"The maximum number of words in an utterance is: {max_words}\")"
   ]
  },
  {
   "cell_type": "code",
   "execution_count": null,
   "id": "d2437abb",
   "metadata": {},
   "outputs": [],
   "source": []
  },
  {
   "cell_type": "code",
   "execution_count": 28,
   "id": "fc1d94d6",
   "metadata": {},
   "outputs": [
    {
     "name": "stdout",
     "output_type": "stream",
     "text": [
      "The index number of the row with the maximum number of words: 2315\n"
     ]
    }
   ],
   "source": [
    "# Assuming 'train' is the DataFrame containing the 'Clean_text' column\n",
    "max_words_index = train['Clean_text'].apply(lambda x: len(x.split())).idxmax()\n",
    "print(f\"The index number of the row with the maximum number of words: {max_words_index}\")"
   ]
  },
  {
   "cell_type": "code",
   "execution_count": 29,
   "id": "4bdea282",
   "metadata": {},
   "outputs": [
    {
     "data": {
      "text/plain": [
       "'khar khar khar khar chale cinema reel cinema parde par aaya sushil sushil acting uske muscles kartein hain cehera hain blank mara kabootar dailogue bole lagta hain bigda hain padooshi scooter sushil heroine sandhya kapde jitne taklu saar par hoon baal aage suniyega sandhya acche dete hain chipkaali expression sandhya acche deti hain chipkali expression lekin phirbhi sandhya banega best actress iss saal sushil muscles milega award kyuki uske papa hain jury par samjhe picture deenge start critics kyuki wo hain producers chaamche phir main jaa kar dekhte hoon kyu kyu main dard hain'"
      ]
     },
     "execution_count": 29,
     "metadata": {},
     "output_type": "execute_result"
    }
   ],
   "source": [
    "train[\"Clean_text\"][2315]"
   ]
  },
  {
   "cell_type": "code",
   "execution_count": null,
   "id": "fffa3f57",
   "metadata": {},
   "outputs": [],
   "source": []
  },
  {
   "cell_type": "code",
   "execution_count": 30,
   "id": "31e56134",
   "metadata": {},
   "outputs": [],
   "source": [
    "validation = val_df[[\"Emotions\",\"Clean_text\"]]"
   ]
  },
  {
   "cell_type": "raw",
   "id": "a05bea65",
   "metadata": {},
   "source": [
    "Number of unique words in trainingdata"
   ]
  },
  {
   "cell_type": "code",
   "execution_count": 31,
   "id": "8f1d8767",
   "metadata": {},
   "outputs": [
    {
     "data": {
      "text/plain": [
       "10669"
      ]
     },
     "execution_count": 31,
     "metadata": {},
     "output_type": "execute_result"
    }
   ],
   "source": [
    "import pandas as pd\n",
    "\n",
    "# Assuming 'df' is your DataFrame containing the 'clean_text' column\n",
    "unique_words = set(' '.join(train['Clean_text']).split())\n",
    "sorted_unique_words = sorted(unique_words)\n",
    "len(sorted_unique_words)"
   ]
  },
  {
   "cell_type": "code",
   "execution_count": 32,
   "id": "ccafa0c5",
   "metadata": {},
   "outputs": [
    {
     "data": {
      "text/plain": [
       "['aa',\n",
       " 'aaa',\n",
       " 'aaaa',\n",
       " 'aaaaa',\n",
       " 'aaaaaa',\n",
       " 'aaaaaannneeee',\n",
       " 'aaaaah',\n",
       " 'aaah',\n",
       " 'aaahaaahaaa',\n",
       " 'aaahh']"
      ]
     },
     "execution_count": 32,
     "metadata": {},
     "output_type": "execute_result"
    }
   ],
   "source": [
    "sorted_unique_words[0:10]"
   ]
  },
  {
   "cell_type": "code",
   "execution_count": null,
   "id": "0cb53016",
   "metadata": {},
   "outputs": [],
   "source": []
  },
  {
   "cell_type": "code",
   "execution_count": null,
   "id": "912b0a1b",
   "metadata": {},
   "outputs": [],
   "source": []
  },
  {
   "cell_type": "raw",
   "id": "a4858ca5-71f3-4c06-91a8-74a33685fbb1",
   "metadata": {},
   "source": [
    "word_to_index = {word: index for index, word in enumerate(sorted_unique_words)}\n",
    "word_to_index"
   ]
  },
  {
   "cell_type": "code",
   "execution_count": null,
   "id": "226a7194",
   "metadata": {},
   "outputs": [],
   "source": []
  },
  {
   "cell_type": "markdown",
   "id": "f17901c2-a730-40fe-a93d-34a168e5f84d",
   "metadata": {},
   "source": [
    "# Add one words for unknown words"
   ]
  },
  {
   "cell_type": "code",
   "execution_count": 34,
   "id": "e7ec55b5",
   "metadata": {},
   "outputs": [],
   "source": [
    "word_to_index['unknown_word'] = len(word_to_index)\n",
    "sorted_unique_words.append('unknown_word')"
   ]
  },
  {
   "cell_type": "code",
   "execution_count": 35,
   "id": "4eb08ef8",
   "metadata": {},
   "outputs": [
    {
     "data": {
      "text/plain": [
       "'unknown_word'"
      ]
     },
     "execution_count": 35,
     "metadata": {},
     "output_type": "execute_result"
    }
   ],
   "source": [
    "sorted_unique_words[-1]"
   ]
  },
  {
   "cell_type": "code",
   "execution_count": null,
   "id": "0150f773",
   "metadata": {},
   "outputs": [],
   "source": []
  },
  {
   "cell_type": "code",
   "execution_count": 36,
   "id": "064286ca",
   "metadata": {},
   "outputs": [],
   "source": [
    "import numpy as np\n",
    "\n",
    "# Function to vectorize the text\n",
    "def vectorize_text(text, unique_words_list):\n",
    "    word_to_index = {word: index for index, word in enumerate(unique_words_list)}\n",
    "    total_length = len(unique_words_list)\n",
    "    sentence_vector = np.zeros(total_length)\n",
    "    \n",
    "    words = text.split()\n",
    "    for word in words:\n",
    "        if word in word_to_index:\n",
    "            word_vector = np.zeros(total_length)\n",
    "            word_vector[word_to_index[word]] = 1\n",
    "            sentence_vector += word_vector \n",
    "        else:\n",
    "            word_vector = np.zeros(total_length)\n",
    "            word_vector[-1] = 1\n",
    "            sentence_vector += word_vector\n",
    "\n",
    "    # Normalize the sentence vector by dividing by the total length of the sentence\n",
    "    if len(words) > 0:\n",
    "        sentence_vector /= len(words)\n",
    "    \n",
    "    return sentence_vector\n",
    "\n",
    "# Creating a dictionary to store the vectors\n",
    "vectors_dict = {}\n",
    "\n",
    "for index, row in train.iterrows():\n",
    "    vectors_dict[index] = vectorize_text(row['Clean_text'], sorted_unique_words)\n",
    "\n",
    "# Printing the vector for each row\n",
    "#for index, vector in vectors_dict.items():\n",
    "    #print(f\"Vector for utterance {index}: {vector}\")"
   ]
  },
  {
   "cell_type": "raw",
   "id": "c68d928e-0499-40fc-b274-2ed91455d058",
   "metadata": {},
   "source": [
    "\n",
    "# Function to vectorize the text\n",
    "def vectorize_text(text, unique_words_list):\n",
    "    word_to_index = {word: index for index, word in enumerate(unique_words_list)}\n",
    "    vector = np.zeros(len(unique_words_list))  \n",
    "    words = text.split()\n",
    "    for word in words:\n",
    "        if word in word_to_index:\n",
    "            vector[word_to_index[word]] += 1\n",
    "        else:\n",
    "            vector[-1] += 1  # Increment for unknown words\n",
    "    return vector\n",
    "\n",
    "# Creating a dictionary to store the vectors\n",
    "vectors_dict = {}\n",
    "\n",
    "for index, row in train.iterrows():\n",
    "    vectors_dict[index] = vectorize_text(row['Clean_text'], sorted_unique_words)\n",
    "\n",
    "# Printing the vector for each row\n",
    "#for index, vector in vectors_dict.items():\n",
    "    \n",
    "    #print(f\"Vector for utterance {index}: {vector}\")"
   ]
  },
  {
   "cell_type": "code",
   "execution_count": 37,
   "id": "e97ff37e",
   "metadata": {},
   "outputs": [
    {
     "data": {
      "text/plain": [
       "0.9999999999999999"
      ]
     },
     "execution_count": 37,
     "metadata": {},
     "output_type": "execute_result"
    }
   ],
   "source": [
    "np.sum(vectors_dict[0])"
   ]
  },
  {
   "cell_type": "raw",
   "id": "c5a0844f",
   "metadata": {},
   "source": [
    "vectorize form of validation set"
   ]
  },
  {
   "cell_type": "code",
   "execution_count": 38,
   "id": "659e4912",
   "metadata": {},
   "outputs": [],
   "source": [
    "# Creating a dictionary to store the vectors\n",
    "vectors_dict1 = {}\n",
    "\n",
    "for index, row in validation.iterrows():\n",
    "    vectors_dict1[index] = vectorize_text(row['Clean_text'], sorted_unique_words)"
   ]
  },
  {
   "cell_type": "code",
   "execution_count": null,
   "id": "509431ad",
   "metadata": {},
   "outputs": [],
   "source": []
  },
  {
   "cell_type": "raw",
   "id": "13624684",
   "metadata": {},
   "source": [
    "# Use sklearn packages"
   ]
  },
  {
   "cell_type": "code",
   "execution_count": 39,
   "id": "fab748bc",
   "metadata": {},
   "outputs": [
    {
     "data": {
      "text/plain": [
       "array([[0., 0., 0., ..., 0., 0., 0.],\n",
       "       [0., 0., 0., ..., 0., 0., 0.],\n",
       "       [0., 0., 0., ..., 0., 0., 0.],\n",
       "       ...,\n",
       "       [0., 0., 0., ..., 0., 0., 0.],\n",
       "       [0., 0., 0., ..., 0., 0., 0.],\n",
       "       [0., 0., 0., ..., 0., 0., 0.]])"
      ]
     },
     "execution_count": 39,
     "metadata": {},
     "output_type": "execute_result"
    }
   ],
   "source": [
    "X_train = np.array(list(vectors_dict.values()))\n",
    "X_train"
   ]
  },
  {
   "cell_type": "code",
   "execution_count": 40,
   "id": "ad4029c0",
   "metadata": {},
   "outputs": [
    {
     "data": {
      "text/plain": [
       "array([[0.        , 0.        , 0.        , ..., 0.        , 0.        ,\n",
       "        0.15384615],\n",
       "       [0.        , 0.        , 0.        , ..., 0.        , 0.        ,\n",
       "        0.22222222],\n",
       "       [0.        , 0.        , 0.        , ..., 0.        , 0.        ,\n",
       "        0.        ],\n",
       "       ...,\n",
       "       [0.        , 0.        , 0.        , ..., 0.        , 0.        ,\n",
       "        0.        ],\n",
       "       [0.        , 0.        , 0.        , ..., 0.        , 0.        ,\n",
       "        0.        ],\n",
       "       [0.        , 0.        , 0.        , ..., 0.        , 0.        ,\n",
       "        0.08695652]])"
      ]
     },
     "execution_count": 40,
     "metadata": {},
     "output_type": "execute_result"
    }
   ],
   "source": [
    "X_validation = np.array(list(vectors_dict1.values()))\n",
    "X_validation"
   ]
  },
  {
   "cell_type": "code",
   "execution_count": 41,
   "id": "911f0e47",
   "metadata": {},
   "outputs": [
    {
     "data": {
      "text/plain": [
       "0        disgust\n",
       "1       contempt\n",
       "2          anger\n",
       "3        neutral\n",
       "4        neutral\n",
       "          ...   \n",
       "8501     sadness\n",
       "8502       anger\n",
       "8503         joy\n",
       "8504        fear\n",
       "8505     disgust\n",
       "Name: Emotions, Length: 8506, dtype: object"
      ]
     },
     "execution_count": 41,
     "metadata": {},
     "output_type": "execute_result"
    }
   ],
   "source": [
    "y_train = train['Emotions']\n",
    "y_train"
   ]
  },
  {
   "cell_type": "code",
   "execution_count": 42,
   "id": "f8ddf6a7",
   "metadata": {},
   "outputs": [
    {
     "data": {
      "text/plain": [
       "0        neutral\n",
       "1        neutral\n",
       "2        neutral\n",
       "3       contempt\n",
       "4        neutral\n",
       "          ...   \n",
       "1349        fear\n",
       "1350     neutral\n",
       "1351     sadness\n",
       "1352     neutral\n",
       "1353        fear\n",
       "Name: Emotions, Length: 1354, dtype: object"
      ]
     },
     "execution_count": 42,
     "metadata": {},
     "output_type": "execute_result"
    }
   ],
   "source": [
    "y_validation = validation[\"Emotions\"]\n",
    "y_validation"
   ]
  },
  {
   "cell_type": "code",
   "execution_count": null,
   "id": "dbdeda69",
   "metadata": {},
   "outputs": [],
   "source": []
  },
  {
   "cell_type": "markdown",
   "id": "af1b8401",
   "metadata": {},
   "source": [
    "# Fit the KNN model"
   ]
  },
  {
   "cell_type": "code",
   "execution_count": 43,
   "id": "85d9dc7b",
   "metadata": {},
   "outputs": [
    {
     "data": {
      "image/png": "[encoded data removed]",
      "text/plain": [
       "<Figure size 1000x600 with 1 Axes>"
      ]
     },
     "metadata": {},
     "output_type": "display_data"
    }
   ],
   "source": [
    "# Define different values of k\n",
    "k_values = [1, 3, 5, 7, 9, 11,13]\n",
    "accuracies = []\n",
    "conf_matrices = []\n",
    "\n",
    "for k in k_values:\n",
    "    # Fitting the model\n",
    "    knn_model = KNeighborsClassifier(n_neighbors=k)\n",
    "    knn_model.fit(X_train, y_train)\n",
    "\n",
    "    # Predicting on the validation set\n",
    "    y_pred_knn = knn_model.predict(X_validation)\n",
    "\n",
    "    # Calculate the accuracy\n",
    "    accuracy_knn = accuracy_score(y_validation, y_pred_knn)\n",
    "    accuracies.append(accuracy_knn)\n",
    "\n",
    "    # Calculate the confusion matrix\n",
    "    conf_matrix = confusion_matrix(y_validation, y_pred_knn)\n",
    "    conf_matrices.append(conf_matrix)\n",
    "\n",
    "# Plotting the accuracies\n",
    "plt.figure(figsize=(10, 6))\n",
    "plt.plot(k_values, accuracies, marker='o')\n",
    "plt.title('Accuracy vs. K Value in KNN')\n",
    "plt.xlabel('K Value')\n",
    "plt.ylabel('Accuracy')\n",
    "plt.xticks(k_values)\n",
    "plt.show()"
   ]
  },
  {
   "cell_type": "raw",
   "id": "e7f6fe7e",
   "metadata": {},
   "source": [
    "#Dataframe for K value and accuracy"
   ]
  },
  {
   "cell_type": "code",
   "execution_count": 44,
   "id": "5f18c58d",
   "metadata": {},
   "outputs": [
    {
     "name": "stdout",
     "output_type": "stream",
     "text": [
      "Accuracy for k=1: 0.2621861152141802\n",
      "Accuracy for k=3: 0.16248153618906944\n",
      "Accuracy for k=5: 0.16912850812407682\n",
      "Accuracy for k=7: 0.17725258493353027\n",
      "Accuracy for k=9: 0.17503692762186115\n",
      "Accuracy for k=11: 0.17503692762186115\n",
      "Accuracy for k=13: 0.1706056129985229\n",
      "   K Value  Accuracy\n",
      "0        1  0.262186\n",
      "1        3  0.162482\n",
      "2        5  0.169129\n",
      "3        7  0.177253\n",
      "4        9  0.175037\n",
      "5       11  0.175037\n",
      "6       13  0.170606\n"
     ]
    }
   ],
   "source": [
    "import pandas as pd\n",
    "\n",
    "# Printing accuracies for different k values\n",
    "for i, k in enumerate(k_values):\n",
    "    print(f\"Accuracy for k={k}: {accuracies[i]}\")\n",
    "\n",
    "# Creating a DataFrame for k values and accuracies\n",
    "data = {'K Value': k_values, 'Accuracy': accuracies}\n",
    "df_knn = pd.DataFrame(data)\n",
    "print(df_knn)"
   ]
  },
  {
   "cell_type": "code",
   "execution_count": 45,
   "id": "e615c94a",
   "metadata": {},
   "outputs": [],
   "source": [
    "# Confusion matrix"
   ]
  },
  {
   "cell_type": "code",
   "execution_count": 46,
   "id": "01e507ba",
   "metadata": {},
   "outputs": [
    {
     "name": "stdout",
     "output_type": "stream",
     "text": [
      "Confusion Matrix for k = 1:\n",
      "[[  9   3   1   6  69  27   2   1]\n",
      " [  4   5   1   1  53   7   3   0]\n",
      " [  4   1   2   0  11   2   0   1]\n",
      " [  4   5   0   3  41  28   3   4]\n",
      " [  6  11   0   9 149  45   5   3]\n",
      " [ 24  18   1  38 341 166  29  16]\n",
      " [  1   6   1  13  71  21  11   2]\n",
      " [  2   2   2   2  32  12   4  10]]\n",
      "Confusion Matrix for k = 3:\n",
      "[[ 10   2   0   4  10  22   1  69]\n",
      " [  4   4   0   2   7   5   1  51]\n",
      " [  3   3   1   1   1   3   0   9]\n",
      " [  9   3   0   7   9  19   1  40]\n",
      " [  9  12   0  16  27  30   2 132]\n",
      " [ 45  28   2  31  71 138   6 312]\n",
      " [  4  11   2  16   7  19   3  64]\n",
      " [  5   2   1   2   9  17   0  30]]\n",
      "Confusion Matrix for k = 5:\n",
      "[[  6   0   0   3   6  22   1  80]\n",
      " [  1   0   0   2   8   8   0  55]\n",
      " [  2   2   1   1   2   2   0  11]\n",
      " [  3   2   0   5   5  24   1  48]\n",
      " [  4   8   0   5  30  39   2 140]\n",
      " [ 34   7   1  15  54 151   5 366]\n",
      " [  1   4   0  15  10  18   3  75]\n",
      " [  3   2   0   0   5  23   0  33]]\n",
      "Confusion Matrix for k = 7:\n",
      "[[  4   1   0   1   8  22   2  80]\n",
      " [  1   2   0   2   4   8   0  57]\n",
      " [  2   4   1   1   2   1   0  10]\n",
      " [  2   3   0   6  12  23   0  42]\n",
      " [  4  10   0   5  31  38   1 139]\n",
      " [ 23   8   0  10  76 158   6 352]\n",
      " [  2   1   0  11   7  21   3  81]\n",
      " [  1   1   0   0  10  18   1  35]]\n",
      "Confusion Matrix for k = 9:\n",
      "[[  2   0   0   3  14  21   2  76]\n",
      " [  1   1   0   2   7   7   0  56]\n",
      " [  3   2   0   1   2   2   0  11]\n",
      " [  4   4   0   5  13  20   0  42]\n",
      " [  2   7   0   5  34  41   2 137]\n",
      " [ 14   4   0   8 100 160   5 342]\n",
      " [  2   0   0  13  25  15   2  69]\n",
      " [  1   0   0   0  13  18   1  33]]\n",
      "Confusion Matrix for k = 11:\n",
      "[[  1   0   0   1   6  22   4  84]\n",
      " [  1   1   0   2   4   6   0  60]\n",
      " [  0   1   0   0   2   4   0  14]\n",
      " [  2   3   0   5   4  19   3  52]\n",
      " [  0   4   0   1  26  40   0 157]\n",
      " [  8   1   0   7  40 166   3 408]\n",
      " [  0   1   0   8  11  17   1  88]\n",
      " [  1   0   0   1   5  21   1  37]]\n",
      "Confusion Matrix for k = 13:\n",
      "[[  1   0   0   1   6  24   0  86]\n",
      " [  1   1   0   2   4   4   0  62]\n",
      " [  0   0   0   0   3   4   0  14]\n",
      " [  1   1   0   3   6  22   1  54]\n",
      " [  0   2   0   2  30  39   1 154]\n",
      " [  6   1   0   5  42 162   3 414]\n",
      " [  0   0   0   5  11  17   1  92]\n",
      " [  0   0   0   1  10  21   1  33]]\n"
     ]
    }
   ],
   "source": [
    "# Plotting the confusion matrices\n",
    "for i, conf_matrix in enumerate(conf_matrices):\n",
    "    print(f\"Confusion Matrix for k = {k_values[i]}:\")\n",
    "    print(conf_matrix)"
   ]
  },
  {
   "cell_type": "code",
   "execution_count": null,
   "id": "e4d775fe",
   "metadata": {},
   "outputs": [],
   "source": []
  },
  {
   "cell_type": "raw",
   "id": "eff62ad4",
   "metadata": {},
   "source": [
    "Fit SVM model"
   ]
  },
  {
   "cell_type": "code",
   "execution_count": 47,
   "id": "52038d36",
   "metadata": {},
   "outputs": [],
   "source": [
    "#rbf kernal method"
   ]
  },
  {
   "cell_type": "code",
   "execution_count": 48,
   "id": "7e29eee2",
   "metadata": {},
   "outputs": [
    {
     "name": "stdout",
     "output_type": "stream",
     "text": [
      "Confusion Matrix for SVM:\n",
      "[[ 40  24   0   6  13  22  10   3]\n",
      " [ 12  34   0   4   7   8   7   2]\n",
      " [  1   8   2   1   1   7   1   0]\n",
      " [ 16   7   0  18  10  17  15   5]\n",
      " [ 19  31   1  11  84  46  26  10]\n",
      " [ 67 107   5  46 116 195  61  36]\n",
      " [ 17  22   0  10  12  17  42   6]\n",
      " [  5  11   0   2   1  26   3  18]]\n"
     ]
    }
   ],
   "source": [
    "# Creating an SVM model\n",
    "svm_model = SVC(kernel='rbf', class_weight='balanced')  # Use 'balanced' class weight for imbalanced datasets\n",
    "svm_model.fit(X_train, y_train)\n",
    "\n",
    "# Making predictions\n",
    "y_pred_svm = svm_model.predict(X_validation)\n",
    "\n",
    "# Calculating the confusion matrix\n",
    "conf_matrix_svm = confusion_matrix(y_validation, y_pred_svm)\n",
    "print(\"Confusion Matrix for SVM:\")\n",
    "print(conf_matrix_svm)"
   ]
  },
  {
   "cell_type": "code",
   "execution_count": null,
   "id": "63cf6b93",
   "metadata": {},
   "outputs": [],
   "source": []
  },
  {
   "cell_type": "code",
   "execution_count": 49,
   "id": "1ced9665",
   "metadata": {},
   "outputs": [
    {
     "name": "stdout",
     "output_type": "stream",
     "text": [
      "Accuracy of the SVM model: 0.31979320531757754\n"
     ]
    }
   ],
   "source": [
    "from sklearn.metrics import accuracy_score\n",
    "\n",
    "accuracy_svm = accuracy_score(y_validation, y_pred_svm)\n",
    "print(f\"Accuracy of the SVM model: {accuracy_svm}\")"
   ]
  },
  {
   "cell_type": "code",
   "execution_count": null,
   "id": "1c8410b6",
   "metadata": {},
   "outputs": [],
   "source": []
  },
  {
   "cell_type": "raw",
   "id": "c66d9e9a",
   "metadata": {},
   "source": [
    "linear kernal"
   ]
  },
  {
   "cell_type": "code",
   "execution_count": 50,
   "id": "18013b32",
   "metadata": {},
   "outputs": [
    {
     "name": "stdout",
     "output_type": "stream",
     "text": [
      "Confusion Matrix for Linear SVM:\n",
      "[[ 43  28   3   4   7  15  16   2]\n",
      " [ 23  30   1   2   3   9   4   2]\n",
      " [  5   9   5   1   0   0   1   0]\n",
      " [ 24  17   1  15   2  12  14   3]\n",
      " [ 25  66   3  13  53  31  30   7]\n",
      " [116 180  13  46  58 108  78  34]\n",
      " [ 22  31   1  13   5  14  37   3]\n",
      " [  5  23   1   2   5   7   6  17]]\n",
      "Accuracy of the Linear SVM model: 0.2274741506646972\n"
     ]
    }
   ],
   "source": [
    "# Creating a linear SVM model\n",
    "linear_svm_model = SVC(kernel='linear', class_weight='balanced')  # Use 'balanced' class weight for imbalanced datasets\n",
    "linear_svm_model.fit(X_train, y_train)\n",
    "\n",
    "# Making predictions\n",
    "y_pred_linear_svm = linear_svm_model.predict(X_validation)\n",
    "\n",
    "# Calculating the confusion matrix\n",
    "conf_matrix_linear_svm = confusion_matrix(y_validation, y_pred_linear_svm)\n",
    "print(\"Confusion Matrix for Linear SVM:\")\n",
    "print(conf_matrix_linear_svm)\n",
    "\n",
    "# Calculating the accuracy\n",
    "accuracy_linear_svm = accuracy_score(y_validation, y_pred_linear_svm)\n",
    "print(f\"Accuracy of the Linear SVM model: {accuracy_linear_svm}\")"
   ]
  },
  {
   "cell_type": "code",
   "execution_count": null,
   "id": "10b4cc4d",
   "metadata": {},
   "outputs": [],
   "source": []
  },
  {
   "cell_type": "raw",
   "id": "16b22a0b",
   "metadata": {},
   "source": [
    "polynomial kernal"
   ]
  },
  {
   "cell_type": "code",
   "execution_count": 51,
   "id": "671f0bfd",
   "metadata": {},
   "outputs": [
    {
     "name": "stdout",
     "output_type": "stream",
     "text": [
      "Confusion Matrix for Polynomial SVM (Degree 3):\n",
      "[[  6 100   0   2   2   6   0   2]\n",
      " [  3  68   0   0   1   0   1   1]\n",
      " [  3  16   1   0   0   0   1   0]\n",
      " [  3  71   0   3   0   7   2   2]\n",
      " [  5 178   1   3  17  13   4   7]\n",
      " [ 19 507   6   8  16  44   8  25]\n",
      " [  3 105   0   4   1   2   8   3]\n",
      " [  4  45   0   0   1   3   0  13]]\n",
      "Accuracy of the Polynomial SVM (Degree 3) model: 0.11816838995568685\n"
     ]
    }
   ],
   "source": [
    "# Creating a polynomial SVM model with a third-degree polynomial kernel\n",
    "poly_svm_model = SVC(kernel='poly', degree=3, class_weight='balanced')  # Use 'balanced' class weight for imbalanced datasets\n",
    "poly_svm_model.fit(X_train, y_train)\n",
    "\n",
    "# Making predictions\n",
    "y_pred_poly_svm = poly_svm_model.predict(X_validation)\n",
    "\n",
    "# Calculating the confusion matrix\n",
    "conf_matrix_poly_svm = confusion_matrix(y_validation, y_pred_poly_svm)\n",
    "print(\"Confusion Matrix for Polynomial SVM (Degree 3):\")\n",
    "print(conf_matrix_poly_svm)\n",
    "\n",
    "# Calculating the accuracy\n",
    "accuracy_poly_svm = accuracy_score(y_validation, y_pred_poly_svm)\n",
    "print(f\"Accuracy of the Polynomial SVM (Degree 3) model: {accuracy_poly_svm}\")"
   ]
  },
  {
   "cell_type": "code",
   "execution_count": null,
   "id": "2b03dbf6",
   "metadata": {},
   "outputs": [],
   "source": []
  },
  {
   "cell_type": "raw",
   "id": "ce055d74",
   "metadata": {},
   "source": [
    "intersection kernal"
   ]
  },
  {
   "cell_type": "code",
   "execution_count": 52,
   "id": "8e364692",
   "metadata": {},
   "outputs": [
    {
     "name": "stdout",
     "output_type": "stream",
     "text": [
      "Confusion Matrix for SVM with Intersection Kernel:\n",
      "[[ 27   7   9  12  19  20  12  12]\n",
      " [  9  15   9   9   4  17   4   7]\n",
      " [  2   4   7   2   2   2   2   0]\n",
      " [ 10   9   5  14   7   8  27   8]\n",
      " [ 15  28  15  19  70  22  34  25]\n",
      " [ 67  87  44  71 130  85  73  76]\n",
      " [  8  13  11  20  12  16  35  11]\n",
      " [  3   7   2   4  20   3   4  23]]\n",
      "Accuracy of the SVM with Intersection Kernel model: 0.2038404726735598\n"
     ]
    }
   ],
   "source": [
    "# Creating an SVM model with an intersection kernel\n",
    "intersection_svm_model = SVC(kernel='sigmoid', class_weight='balanced')  # Use 'balanced' class weight for imbalanced datasets\n",
    "intersection_svm_model.fit(X_train, y_train)\n",
    "\n",
    "# Making predictions\n",
    "y_pred_intersection_svm = intersection_svm_model.predict(X_validation)\n",
    "\n",
    "# Calculating the confusion matrix\n",
    "conf_matrix_intersection_svm = confusion_matrix(y_validation, y_pred_intersection_svm)\n",
    "print(\"Confusion Matrix for SVM with Intersection Kernel:\")\n",
    "print(conf_matrix_intersection_svm)\n",
    "\n",
    "# Calculating the accuracy\n",
    "accuracy_intersection_svm = accuracy_score(y_validation, y_pred_intersection_svm)\n",
    "print(f\"Accuracy of the SVM with Intersection Kernel model: {accuracy_intersection_svm}\")"
   ]
  },
  {
   "cell_type": "code",
   "execution_count": null,
   "id": "2e865c01",
   "metadata": {},
   "outputs": [],
   "source": []
  },
  {
   "cell_type": "raw",
   "id": "f7dc724f",
   "metadata": {},
   "source": [
    "Logistic regression"
   ]
  },
  {
   "cell_type": "code",
   "execution_count": 53,
   "id": "aaf43140",
   "metadata": {},
   "outputs": [
    {
     "name": "stdout",
     "output_type": "stream",
     "text": [
      "Confusion Matrix for Logistic Regression:\n",
      "[[ 30  15   7  10  18  14  21   3]\n",
      " [ 13  18   5   8   7  10   9   4]\n",
      " [  4   6   5   1   3   0   2   0]\n",
      " [ 12   6   3  25   8   7  21   6]\n",
      " [ 12  26   9  24  86  21  36  14]\n",
      " [ 69  85  27  72 137  99  96  48]\n",
      " [ 13  10   8  16  14  10  48   7]\n",
      " [  5   5   1   3  19   4   6  23]]\n",
      "Accuracy of the Logistic Regression model: 0.2466765140324963\n"
     ]
    }
   ],
   "source": [
    "# Creating a logistic regression model\n",
    "logistic_model = LogisticRegression(class_weight='balanced', max_iter=1000)\n",
    "\n",
    "# Fitting the model\n",
    "logistic_model.fit(X_train, y_train)\n",
    "\n",
    "# Making predictions\n",
    "y_pred_logistic = logistic_model.predict(X_validation)\n",
    "\n",
    "# Calculating the confusion matrix\n",
    "conf_matrix_logistic = confusion_matrix(y_validation, y_pred_logistic)\n",
    "print(\"Confusion Matrix for Logistic Regression:\")\n",
    "print(conf_matrix_logistic)\n",
    "\n",
    "# Calculating the accuracy\n",
    "accuracy_logistic = accuracy_score(y_validation, y_pred_logistic)\n",
    "print(f\"Accuracy of the Logistic Regression model: {accuracy_logistic}\")"
   ]
  },
  {
   "cell_type": "markdown",
   "id": "cea952e0",
   "metadata": {},
   "source": [
    "# Naive-bayes"
   ]
  },
  {
   "cell_type": "code",
   "execution_count": 54,
   "id": "695b38d1",
   "metadata": {},
   "outputs": [
    {
     "name": "stdout",
     "output_type": "stream",
     "text": [
      "Confusion Matrix for Naive Bayes:\n",
      "[[  0   0   0   0   0 118   0   0]\n",
      " [  0   0   0   0   2  72   0   0]\n",
      " [  0   0   0   0   0  21   0   0]\n",
      " [  0   0   0   0   0  88   0   0]\n",
      " [  0   0   0   0   5 223   0   0]\n",
      " [  0   0   0   0   0 633   0   0]\n",
      " [  0   0   0   0   0 126   0   0]\n",
      " [  0   0   0   0   0  66   0   0]]\n",
      "Accuracy of the Naive Bayes model: 0.4711964549483013\n"
     ]
    }
   ],
   "source": [
    "# Creating a Naive Bayes model\n",
    "naive_bayes_model = MultinomialNB()\n",
    "\n",
    "# Fitting the model\n",
    "naive_bayes_model.fit(X_train, y_train)\n",
    "\n",
    "# Making predictions\n",
    "y_pred_naive_bayes = naive_bayes_model.predict(X_validation)\n",
    "\n",
    "# Calculating the confusion matrix\n",
    "conf_matrix_naive_bayes = confusion_matrix(y_validation, y_pred_naive_bayes)\n",
    "print(\"Confusion Matrix for Naive Bayes:\")\n",
    "print(conf_matrix_naive_bayes)\n",
    "\n",
    "# Calculating the accuracy\n",
    "accuracy_naive_bayes = accuracy_score(y_validation, y_pred_naive_bayes)\n",
    "print(f\"Accuracy of the Naive Bayes model: {accuracy_naive_bayes}\")"
   ]
  },
  {
   "cell_type": "code",
   "execution_count": null,
   "id": "938f1194",
   "metadata": {},
   "outputs": [],
   "source": []
  },
  {
   "cell_type": "markdown",
   "id": "71039bba",
   "metadata": {},
   "source": [
    "# Random forest"
   ]
  },
  {
   "cell_type": "code",
   "execution_count": 59,
   "id": "7ee7947f-d343-408d-91de-4a33868c0c68",
   "metadata": {},
   "outputs": [],
   "source": [
    "\n",
    "from sklearn.ensemble import RandomForestClassifier\n",
    "from sklearn.metrics import accuracy_score"
   ]
  },
  {
   "cell_type": "code",
   "execution_count": 60,
   "id": "9c5efc63",
   "metadata": {},
   "outputs": [
    {
     "name": "stdout",
     "output_type": "stream",
     "text": [
      "Accuracy: 0.47636632200886264\n"
     ]
    }
   ],
   "source": [
    "# Create a Random Forest classi\n",
    "rf_classifier = RandomForestClassifier(n_estimators=100, random_state=42)\n",
    "\n",
    "# Train the classifier\n",
    "rf_classifier.fit(X_train, y_train)\n",
    "\n",
    "# Make predictions on the test set\n",
    "y_pred = rf_classifier.predict(X_validation)\n",
    "\n",
    "# Calculate accuracy\n",
    "accuracy = accuracy_score(y_validation, y_pred)\n",
    "print(f\"Accuracy: {accuracy}\")"
   ]
  },
  {
   "cell_type": "code",
   "execution_count": 61,
   "id": "bebcdd03",
   "metadata": {},
   "outputs": [
    {
     "name": "stdout",
     "output_type": "stream",
     "text": [
      "Confusion Matrix for Random Forest:\n",
      "[[  6   0   0   1   3 108   0   0]\n",
      " [  2   1   0   0   4  65   1   1]\n",
      " [  2   1   2   0   0  15   1   0]\n",
      " [  1   1   0   3   1  80   1   1]\n",
      " [  1   1   0   2  48 171   2   3]\n",
      " [  9   2   0   5  37 567   3  10]\n",
      " [  1   1   0   2   3 110   7   2]\n",
      " [  0   0   0   2   1  52   0  11]]\n"
     ]
    }
   ],
   "source": [
    "# Calculating the confusion matrix\n",
    "conf_matrix_forest = confusion_matrix(y_validation, y_pred)\n",
    "print(\"Confusion Matrix for Random Forest:\")\n",
    "print(conf_matrix_forest)"
   ]
  },
  {
   "cell_type": "code",
   "execution_count": null,
   "id": "7625f51e",
   "metadata": {},
   "outputs": [],
   "source": []
  },
  {
   "cell_type": "code",
   "execution_count": null,
   "id": "375c07a3",
   "metadata": {},
   "outputs": [],
   "source": []
  },
  {
   "cell_type": "code",
   "execution_count": null,
   "id": "89e85436",
   "metadata": {},
   "outputs": [],
   "source": []
  }
 ],
 "metadata": {
  "kernelspec": {
   "display_name": "Python 3 (ipykernel)",
   "language": "python",
   "name": "python3"
  },
  "language_info": {
   "codemirror_mode": {
    "name": "ipython",
    "version": 3
   },
   "file_extension": ".py",
   "mimetype": "text/x-python",
   "name": "python",
   "nbconvert_exporter": "python",
   "pygments_lexer": "ipython3",
   "version": "3.10.12"
  }
 },
 "nbformat": 4,
 "nbformat_minor": 5
}
