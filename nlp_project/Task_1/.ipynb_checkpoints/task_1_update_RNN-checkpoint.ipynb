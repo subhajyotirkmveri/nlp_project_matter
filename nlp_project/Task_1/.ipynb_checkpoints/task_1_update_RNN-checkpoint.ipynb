{
 "cells": [
  {
   "cell_type": "markdown",
   "id": "b095f4ef",
   "metadata": {},
   "source": [
    "# Import Necessary Library"
   ]
  },
  {
   "cell_type": "code",
   "execution_count": 1,
   "id": "559c0d62",
   "metadata": {},
   "outputs": [
    {
     "name": "stdout",
     "output_type": "stream",
     "text": [
      "Requirement already satisfied: nlp_utils in /home/sysadm/anaconda3/lib/python3.11/site-packages (0.6.2)\n",
      "Requirement already satisfied: nltk in /home/sysadm/anaconda3/lib/python3.11/site-packages (from nlp_utils) (3.8.1)\n",
      "Requirement already satisfied: numpy in /home/sysadm/anaconda3/lib/python3.11/site-packages (from nlp_utils) (1.24.3)\n",
      "Requirement already satisfied: micro-toolkit in /home/sysadm/anaconda3/lib/python3.11/site-packages (from nlp_utils) (0.9.0)\n",
      "Requirement already satisfied: click in /home/sysadm/anaconda3/lib/python3.11/site-packages (from nltk->nlp_utils) (8.0.4)\n",
      "Requirement already satisfied: joblib in /home/sysadm/anaconda3/lib/python3.11/site-packages (from nltk->nlp_utils) (1.2.0)\n",
      "Requirement already satisfied: regex>=2021.8.3 in /home/sysadm/anaconda3/lib/python3.11/site-packages (from nltk->nlp_utils) (2022.7.9)\n",
      "Requirement already satisfied: tqdm in /home/sysadm/anaconda3/lib/python3.11/site-packages (from nltk->nlp_utils) (4.65.0)\n",
      "Requirement already satisfied: langid in /home/sysadm/anaconda3/lib/python3.11/site-packages (1.1.6)\n",
      "Requirement already satisfied: numpy in /home/sysadm/anaconda3/lib/python3.11/site-packages (from langid) (1.24.3)\n",
      "Requirement already satisfied: stop-words in /home/sysadm/anaconda3/lib/python3.11/site-packages (2018.7.23)\n",
      "Requirement already satisfied: stop-words in /home/sysadm/anaconda3/lib/python3.11/site-packages (2018.7.23)\n",
      "Requirement already satisfied: indic-transliteration in /home/sysadm/anaconda3/lib/python3.11/site-packages (2.3.52)\n",
      "Requirement already satisfied: backports.functools-lru-cache in /home/sysadm/anaconda3/lib/python3.11/site-packages (from indic-transliteration) (1.6.4)\n",
      "Requirement already satisfied: regex in /home/sysadm/anaconda3/lib/python3.11/site-packages (from indic-transliteration) (2022.7.9)\n",
      "Requirement already satisfied: typer in /home/sysadm/anaconda3/lib/python3.11/site-packages (from indic-transliteration) (0.9.0)\n",
      "Requirement already satisfied: toml in /home/sysadm/anaconda3/lib/python3.11/site-packages (from indic-transliteration) (0.10.2)\n",
      "Requirement already satisfied: roman in /home/sysadm/anaconda3/lib/python3.11/site-packages (from indic-transliteration) (4.1)\n",
      "Requirement already satisfied: click<9.0.0,>=7.1.1 in /home/sysadm/anaconda3/lib/python3.11/site-packages (from typer->indic-transliteration) (8.0.4)\n",
      "Requirement already satisfied: typing-extensions>=3.7.4.3 in /home/sysadm/anaconda3/lib/python3.11/site-packages (from typer->indic-transliteration) (4.5.0)\n"
     ]
    }
   ],
   "source": [
    "import json\n",
    "import nltk\n",
    "\n",
    "!pip install nlp_utils\n",
    "import pandas as pd\n",
    "import numpy as np\n",
    "import torch\n",
    "import pickle\n",
    "import tqdm\n",
    "import random\n",
    "\n",
    "from collections import Counter\n",
    "\n",
    "import string\n",
    "string.punctuation\n",
    "!pip install langid\n",
    "from nltk.tokenize import word_tokenize\n",
    "from nltk.corpus import stopwords\n",
    "import string\n",
    "#nltk.download('punkt')\n",
    "#nltk.download('stopwords')\n",
    "\n",
    "!pip install stop-words\n",
    "!pip install stop-words\n",
    "\n",
    "from stop_words import get_stop_words\n",
    "\n",
    "#!pip install googletrans==4.0.0-rc1\n",
    "!pip install indic-transliteration\n",
    "from indic_transliteration import sanscript\n",
    "\n",
    "# Define the source and target scripts\n",
    "source_script = sanscript.DEVANAGARI\n",
    "target_script = sanscript.ITRANS\n",
    "\n",
    "import pandas as pd\n",
    "from sklearn.feature_extraction.text import CountVectorizer\n",
    "from sklearn.model_selection import train_test_split\n",
    "from sklearn.metrics import classification_report, confusion_matrix\n",
    "import matplotlib.pyplot as plt"
   ]
  },
  {
   "cell_type": "code",
   "execution_count": 2,
   "id": "30399147",
   "metadata": {},
   "outputs": [],
   "source": [
    "from sklearn.metrics import confusion_matrix\n",
    "from sklearn.metrics import accuracy_score\n",
    "\n",
    "import matplotlib.pyplot as plt\n",
    "from sklearn.neighbors import KNeighborsClassifier\n",
    "from sklearn.metrics import confusion_matrix\n",
    "\n",
    "import numpy as np\n",
    "import pandas as pd\n",
    "import matplotlib.pyplot as plt\n",
    "from sklearn.svm import SVC\n",
    "\n",
    "from sklearn.utils import resample\n",
    "\n",
    "from sklearn.linear_model import LogisticRegression\n",
    "from sklearn.model_selection import train_test_split\n",
    "from sklearn.metrics import confusion_matrix, accuracy_score\n",
    "\n",
    "from sklearn.naive_bayes import MultinomialNB"
   ]
  },
  {
   "cell_type": "markdown",
   "id": "1c74ef58",
   "metadata": {},
   "source": [
    "# Open the JSON file"
   ]
  },
  {
   "cell_type": "code",
   "execution_count": 3,
   "id": "712d7cf1",
   "metadata": {},
   "outputs": [],
   "source": [
    "# Open and parse the Training JSON file\n",
    "with open('.//MaSaC_train_erc.json', 'r') as json_file:\n",
    "    train_data = json.load(json_file)"
   ]
  },
  {
   "cell_type": "code",
   "execution_count": 4,
   "id": "2a538a99",
   "metadata": {},
   "outputs": [
    {
     "data": {
      "text/plain": [
       "{'episode': 'roseshantstobeadopted.wmv',\n",
       " 'speakers': ['maya',\n",
       "  'indu',\n",
       "  'rosesh',\n",
       "  'indu',\n",
       "  'maya',\n",
       "  'indu',\n",
       "  'rosesh',\n",
       "  'indu',\n",
       "  'sahil',\n",
       "  'rosesh',\n",
       "  'maya',\n",
       "  'indu',\n",
       "  'sahil',\n",
       "  'monish',\n",
       "  'maya',\n",
       "  'indu',\n",
       "  'maya',\n",
       "  'indu',\n",
       "  'indu',\n",
       "  'maya',\n",
       "  'rosesh',\n",
       "  'maya'],\n",
       " 'utterances': ['kya kya bhar ke rakha hai indravadan ne is ghar mein indravadan please tum sari bekar ki chijen bahar kyon nahin fekte?',\n",
       "  'ok, chalo rosesh chalo bahar',\n",
       "  'momma! hath chhodiye dad!',\n",
       "  'dekho maya ya na bol raha hai! fir tum hi kahogi faltu chijen jama karte ho fekte nahin ho, chalo',\n",
       "  'indravadan, tum kitne salo se ye joke maar rahe ho. koi hota hai aaj tak?',\n",
       "  'kaikai pe joke maroge to manthra thodi na hasegi',\n",
       "  'very funny',\n",
       "  'maya, monisha aur sahil aa rahe hain, dekhna yahi jo un per istemal karta hun aur dekhna vah kitna haste hain',\n",
       "  'hi guys',\n",
       "  'hi',\n",
       "  'hi darling. achcha indravadan, please ya kachra bahar fenko!',\n",
       "  'ok maya, chalo rosesh tumhen bahar fenk au',\n",
       "  'mom! diwali ka lunch hamare ghar pe',\n",
       "  'aur mein khana fresh banane wali hun',\n",
       "  'i rest my case indravadan. hase donon, huh? achcha ab to please kachra bahar fenk do',\n",
       "  'ok maya, chalo monisha tumhe bahar fenk aau',\n",
       "  'ha ha ha, indravadan you are so funny',\n",
       "  'haila, sahil! tumhare diwali lunch per hai na maiya ko keede, makode aur mukhiya khilana',\n",
       "  'kyunki jab maine wahi joke rosesh pe mara to bilkul nahin hasi lekin vahi joke jab maine monisha per mara to dekho kaise has rahi hai!',\n",
       "  'acha now cut it out huh indravadan. rosesh sweety tumhi nikalo na sara kachra bahar',\n",
       "  'ok chaliye dad, mein aapko bahar fenk kar aata hun!',\n",
       "  'haha, you asked for that one. sahil darling tumhi madad kar do please meri. mera ghar to ekadam monisha ka ghar ban gaya hai!'],\n",
       " 'emotions': ['disgust',\n",
       "  'contempt',\n",
       "  'anger',\n",
       "  'neutral',\n",
       "  'neutral',\n",
       "  'contempt',\n",
       "  'contempt',\n",
       "  'neutral',\n",
       "  'joy',\n",
       "  'joy',\n",
       "  'neutral',\n",
       "  'neutral',\n",
       "  'joy',\n",
       "  'joy',\n",
       "  'neutral',\n",
       "  'neutral',\n",
       "  'joy',\n",
       "  'neutral',\n",
       "  'contempt',\n",
       "  'neutral',\n",
       "  'joy',\n",
       "  'contempt']}"
      ]
     },
     "execution_count": 4,
     "metadata": {},
     "output_type": "execute_result"
    }
   ],
   "source": [
    "train_data[0]"
   ]
  },
  {
   "cell_type": "code",
   "execution_count": 5,
   "id": "12b9c0bb",
   "metadata": {},
   "outputs": [],
   "source": [
    "# Open and parse the validation JSON file\n",
    "with open('.//MaSaC_val_erc.json', 'r') as json_file:\n",
    "    validation_data = json.load(json_file)"
   ]
  },
  {
   "cell_type": "code",
   "execution_count": 6,
   "id": "f5897476",
   "metadata": {},
   "outputs": [
    {
     "data": {
      "text/plain": [
       "{'episode': 'roseshantstobeadopted.wmv',\n",
       " 'speakers': ['good rosesh',\n",
       "  'bad rosesh',\n",
       "  'good rosesh',\n",
       "  'bad rosesh',\n",
       "  'good rosesh',\n",
       "  'bad rosesh',\n",
       "  'good rosesh',\n",
       "  'bad rosesh',\n",
       "  'good rosesh',\n",
       "  'rosesh',\n",
       "  'rosesh',\n",
       "  'maya',\n",
       "  'rosesh'],\n",
       " 'utterances': ['ye kya kar raha hai rosesh? bharat tera desh! bhartiya insan hai saccha. kisi ka khat padhna nahin hai achcha.',\n",
       "  'hahaha khat padh le rosesh baby or padhne de hamen bhi. kitna achcha lagta hai balon mein gel, ding dong bell.',\n",
       "  'kavita acchi hai lekin khayal achcha nahin hai, villain rosesh. momma ne kaha hai kisi aur ka khat padhna galat baat hai',\n",
       "  'galat hai, par momma ne tumse kaha tha ki do bar brush karna aur tumne sirf ek bar kiya tha kya vah galat nahin tha?',\n",
       "  'galat tha per',\n",
       "  'momma ne tumse jab green chatni mangi thi aur tumne red pass ki thi kya vah galat nahin tha?',\n",
       "  'wo to galat tha',\n",
       "  'pichhle sal momma ki nayi hair style ostrich jesi thi aur tumne unhen apsara kaha tha kya vah galat nahin tha?',\n",
       "  'han tha tha tha!',\n",
       "  'please please please, tum log jara sophisticated argument karo na varna momma kahenge ki meri antaratma bahut middle class hai. tum log decide kar lo tab tak main yah lifafa khol ke padh leta hun.',\n",
       "  '\"my darling husband indravadan\" yah to momma ki handwriting hai...',\n",
       "  'darling i know ki ham do hamare do is so middle class. isiliye to humne teesra bachcha plan kiya tha haina? lekin present circumstances ko dekh ke i am not so sure. is topic pe main tumse baat nahin kar sakti isiliye khat likh rahi hun, but kya hamen sachmuch mein yah teesra baccha. i am so confused indravadan',\n",
       "  'momma...'],\n",
       " 'emotions': ['neutral',\n",
       "  'neutral',\n",
       "  'neutral',\n",
       "  'contempt',\n",
       "  'neutral',\n",
       "  'contempt',\n",
       "  'neutral',\n",
       "  'contempt',\n",
       "  'neutral',\n",
       "  'neutral',\n",
       "  'neutral',\n",
       "  'sadness',\n",
       "  'sadness']}"
      ]
     },
     "execution_count": 6,
     "metadata": {},
     "output_type": "execute_result"
    }
   ],
   "source": [
    "validation_data[0]"
   ]
  },
  {
   "cell_type": "markdown",
   "id": "9f2543ef",
   "metadata": {},
   "source": [
    "# Total number of episode in Training Data"
   ]
  },
  {
   "cell_type": "code",
   "execution_count": 7,
   "id": "eabf6688",
   "metadata": {},
   "outputs": [
    {
     "name": "stdout",
     "output_type": "stream",
     "text": [
      "Total episode topics: 343\n"
     ]
    }
   ],
   "source": [
    "# Create a list to store  episode names\n",
    "total_episodes_1 = []\n",
    "\n",
    "for conversation in train_data:\n",
    "    episode = conversation[\"episode\"]\n",
    "\n",
    "    # Add the episode name to the set of unique episodes\n",
    "    total_episodes_1.append(episode)\n",
    "\n",
    "\n",
    "# Print the total number of  conversation topics or episodes\n",
    "print(\"Total episode topics:\", len(total_episodes_1))"
   ]
  },
  {
   "cell_type": "raw",
   "id": "64f1adc5-1c05-440c-b1dd-066836d14134",
   "metadata": {},
   "source": [
    "# To view all episode name"
   ]
  },
  {
   "cell_type": "raw",
   "id": "56bfa949-3a04-4152-8125-f78a02c13439",
   "metadata": {},
   "source": [
    "total_episodes_1"
   ]
  },
  {
   "cell_type": "markdown",
   "id": "42fc6dd7",
   "metadata": {},
   "source": [
    "# Distinct Episode name in Training coversation"
   ]
  },
  {
   "cell_type": "code",
   "execution_count": 8,
   "id": "1c77de94",
   "metadata": {},
   "outputs": [
    {
     "name": "stdout",
     "output_type": "stream",
     "text": [
      "Unique episode names: {'roseshpoetrypublication.wmv', 'roseshnayadon.wmv', 'monishasspeechonmaya.wmv', 'bachelor.wmv', 'african', 'video1.wmv', 'cricket.wmv', 'doggy', 'monishacomplainsofsahil.wmv', 'radhabaileaves', 'jaspal.wmv', 'baldev', 'mayaleavesindravardhan.wmv', 'roseshmarriesrita.wmw', 'monishaadaptstohighsociety', 'mayamonishabday.avi', 'patang', 'yamraj.wmv', 'jugalkishore.wmv', 'kavi.wmv', 'sharman.wmw', 'dushyant', 'election', 'monishasuicideattempt.wmv', 'prefinale', 'mayadoubtsindravardhan.wmv', 'neelimaverma.wmv', 'mayabetmonisha.wmv', 'introductiontothesarabhaifamily.avi', 'roseshantstobeadopted.wmv', 'mayaleavesindravardhan(1) (1).wmv', 'mayanighmare', 'sahillovestory.wmv', 'roseshaccident', 'mayaonacleaningdrive.wmv', 'finale.avi', 'playatcharityfunction', 'soniyaprediction.avi', 'prankonindravadhan', 'newcar', 'lease1.wmv', 'khilawal.wmv', 'bachlorparty', 'indravadanmissing.avi', 'scrabblecompetition.avi', 'popatlal', 'lease2.wmv', 'sahilmarriesmonisha.wmv', 'husbandsdonotcheat.avi'}\n",
      "Total unique episodes: 49\n"
     ]
    }
   ],
   "source": [
    "# Convert the list of episode names to a set to get unique episodes\n",
    "unique_episodes_1 = set(total_episodes_1)\n",
    "\n",
    "# Print the unique episode names\n",
    "print(\"Unique episode names:\", unique_episodes_1)\n",
    "\n",
    "# Print the total number of unique episodes\n",
    "print(\"Total unique episodes:\", len(unique_episodes_1))"
   ]
  },
  {
   "cell_type": "raw",
   "id": "688c26ff",
   "metadata": {},
   "source": [
    "To find how many times each episode name occurs in conversation"
   ]
  },
  {
   "cell_type": "code",
   "execution_count": 9,
   "id": "a735c727",
   "metadata": {},
   "outputs": [
    {
     "name": "stdout",
     "output_type": "stream",
     "text": [
      "roseshantstobeadopted.wmv occurs 5 times\n",
      "video1.wmv occurs 8 times\n",
      "yamraj.wmv occurs 7 times\n",
      "finale.avi occurs 13 times\n",
      "indravadanmissing.avi occurs 7 times\n",
      "sharman.wmw occurs 6 times\n",
      "soniyaprediction.avi occurs 7 times\n",
      "bachelor.wmv occurs 7 times\n",
      "cricket.wmv occurs 8 times\n",
      "husbandsdonotcheat.avi occurs 11 times\n",
      "introductiontothesarabhaifamily.avi occurs 6 times\n",
      "jugalkishore.wmv occurs 8 times\n",
      "kavi.wmv occurs 4 times\n",
      "lease1.wmv occurs 8 times\n",
      "lease2.wmv occurs 7 times\n",
      "mayaleavesindravardhan(1) (1).wmv occurs 6 times\n",
      "mayadoubtsindravardhan.wmv occurs 6 times\n",
      "jaspal.wmv occurs 5 times\n",
      "khilawal.wmv occurs 4 times\n",
      "mayabetmonisha.wmv occurs 10 times\n",
      "mayaleavesindravardhan.wmv occurs 6 times\n",
      "mayamonishabday.avi occurs 6 times\n",
      "mayanighmare occurs 5 times\n",
      "mayaonacleaningdrive.wmv occurs 9 times\n",
      "monishaadaptstohighsociety occurs 6 times\n",
      "roseshnayadon.wmv occurs 5 times\n",
      "roseshmarriesrita.wmw occurs 6 times\n",
      "roseshpoetrypublication.wmv occurs 6 times\n",
      "sahillovestory.wmv occurs 5 times\n",
      "sahilmarriesmonisha.wmv occurs 8 times\n",
      "scrabblecompetition.avi occurs 4 times\n",
      "baldev occurs 8 times\n",
      "dushyant occurs 9 times\n",
      "election occurs 15 times\n",
      "playatcharityfunction occurs 6 times\n",
      "prankonindravadhan occurs 10 times\n",
      "roseshaccident occurs 5 times\n",
      "african occurs 6 times\n",
      "bachlorparty occurs 7 times\n",
      "doggy occurs 11 times\n",
      "monishacomplainsofsahil.wmv occurs 7 times\n",
      "monishasspeechonmaya.wmv occurs 7 times\n",
      "monishasuicideattempt.wmv occurs 4 times\n",
      "neelimaverma.wmv occurs 6 times\n",
      "newcar occurs 8 times\n",
      "patang occurs 6 times\n",
      "popatlal occurs 5 times\n",
      "prefinale occurs 8 times\n",
      "radhabaileaves occurs 6 times\n"
     ]
    }
   ],
   "source": [
    "total_episodes_1\n",
    "\n",
    "episode_counts = {}\n",
    "\n",
    "for episode_title in total_episodes_1:\n",
    "    episode_counts[episode_title] = episode_counts.get(episode_title, 0) + 1\n",
    "\n",
    "for title, count in episode_counts.items():\n",
    "    print(f\"{title} occurs {count} times\")"
   ]
  },
  {
   "cell_type": "raw",
   "id": "7448d71b",
   "metadata": {},
   "source": [
    "Convert all utterance of each episode into a single DataFrame"
   ]
  },
  {
   "cell_type": "code",
   "execution_count": 10,
   "id": "d8fbab51",
   "metadata": {},
   "outputs": [
    {
     "data": {
      "text/html": [
       "<div>\n",
       "<style scoped>\n",
       "    .dataframe tbody tr th:only-of-type {\n",
       "        vertical-align: middle;\n",
       "    }\n",
       "\n",
       "    .dataframe tbody tr th {\n",
       "        vertical-align: top;\n",
       "    }\n",
       "\n",
       "    .dataframe thead th {\n",
       "        text-align: right;\n",
       "    }\n",
       "</style>\n",
       "<table border=\"1\" class=\"dataframe\">\n",
       "  <thead>\n",
       "    <tr style=\"text-align: right;\">\n",
       "      <th></th>\n",
       "      <th>Episode</th>\n",
       "      <th>Speakers</th>\n",
       "      <th>Utterances</th>\n",
       "      <th>Emotions</th>\n",
       "    </tr>\n",
       "  </thead>\n",
       "  <tbody>\n",
       "    <tr>\n",
       "      <th>0</th>\n",
       "      <td>roseshantstobeadopted.wmv</td>\n",
       "      <td>maya</td>\n",
       "      <td>kya kya bhar ke rakha hai indravadan ne is gha...</td>\n",
       "      <td>disgust</td>\n",
       "    </tr>\n",
       "    <tr>\n",
       "      <th>1</th>\n",
       "      <td>roseshantstobeadopted.wmv</td>\n",
       "      <td>indu</td>\n",
       "      <td>ok, chalo rosesh chalo bahar</td>\n",
       "      <td>contempt</td>\n",
       "    </tr>\n",
       "    <tr>\n",
       "      <th>2</th>\n",
       "      <td>roseshantstobeadopted.wmv</td>\n",
       "      <td>rosesh</td>\n",
       "      <td>momma! hath chhodiye dad!</td>\n",
       "      <td>anger</td>\n",
       "    </tr>\n",
       "    <tr>\n",
       "      <th>3</th>\n",
       "      <td>roseshantstobeadopted.wmv</td>\n",
       "      <td>indu</td>\n",
       "      <td>dekho maya ya na bol raha hai! fir tum hi kaho...</td>\n",
       "      <td>neutral</td>\n",
       "    </tr>\n",
       "    <tr>\n",
       "      <th>4</th>\n",
       "      <td>roseshantstobeadopted.wmv</td>\n",
       "      <td>maya</td>\n",
       "      <td>indravadan, tum kitne salo se ye joke maar rah...</td>\n",
       "      <td>neutral</td>\n",
       "    </tr>\n",
       "  </tbody>\n",
       "</table>\n",
       "</div>"
      ],
      "text/plain": [
       "                     Episode Speakers  \\\n",
       "0  roseshantstobeadopted.wmv     maya   \n",
       "1  roseshantstobeadopted.wmv     indu   \n",
       "2  roseshantstobeadopted.wmv   rosesh   \n",
       "3  roseshantstobeadopted.wmv     indu   \n",
       "4  roseshantstobeadopted.wmv     maya   \n",
       "\n",
       "                                          Utterances  Emotions  \n",
       "0  kya kya bhar ke rakha hai indravadan ne is gha...   disgust  \n",
       "1                       ok, chalo rosesh chalo bahar  contempt  \n",
       "2                          momma! hath chhodiye dad!     anger  \n",
       "3  dekho maya ya na bol raha hai! fir tum hi kaho...   neutral  \n",
       "4  indravadan, tum kitne salo se ye joke maar rah...   neutral  "
      ]
     },
     "execution_count": 10,
     "metadata": {},
     "output_type": "execute_result"
    }
   ],
   "source": [
    "import pandas as pd\n",
    "\n",
    "\n",
    "# Create an empty list to store the data for each conversation\n",
    "conversation_data = []\n",
    "\n",
    "# Iterate through the JSON data and construct a DataFrame for each conversation\n",
    "for conversation in train_data:\n",
    "    episode = conversation[\"episode\"]\n",
    "    speakers = conversation[\"speakers\"]\n",
    "    utterances = conversation[\"utterances\"]\n",
    "    emotions = conversation[\"emotions\"]\n",
    "\n",
    "    # Create a DataFrame for the current conversation\n",
    "    df = pd.DataFrame({\n",
    "        \"Episode\": [episode] * len(speakers),\n",
    "        \"Speakers\": speakers,\n",
    "        \"Utterances\": utterances,\n",
    "        \"Emotions\": emotions\n",
    "    })\n",
    "\n",
    "    # Append the DataFrame to the list\n",
    "    conversation_data.append(df)\n",
    "\n",
    "# Concatenate all conversation DataFrames into one DataFrame\n",
    "train_df = pd.concat(conversation_data, ignore_index=True)\n",
    "train_df.head(5)"
   ]
  },
  {
   "cell_type": "code",
   "execution_count": 11,
   "id": "7fa211b3",
   "metadata": {},
   "outputs": [],
   "source": [
    "#validation_data"
   ]
  },
  {
   "cell_type": "code",
   "execution_count": 12,
   "id": "181ba314",
   "metadata": {},
   "outputs": [
    {
     "data": {
      "text/html": [
       "<div>\n",
       "<style scoped>\n",
       "    .dataframe tbody tr th:only-of-type {\n",
       "        vertical-align: middle;\n",
       "    }\n",
       "\n",
       "    .dataframe tbody tr th {\n",
       "        vertical-align: top;\n",
       "    }\n",
       "\n",
       "    .dataframe thead th {\n",
       "        text-align: right;\n",
       "    }\n",
       "</style>\n",
       "<table border=\"1\" class=\"dataframe\">\n",
       "  <thead>\n",
       "    <tr style=\"text-align: right;\">\n",
       "      <th></th>\n",
       "      <th>Episode</th>\n",
       "      <th>Speakers</th>\n",
       "      <th>Utterances</th>\n",
       "      <th>Emotions</th>\n",
       "    </tr>\n",
       "  </thead>\n",
       "  <tbody>\n",
       "    <tr>\n",
       "      <th>0</th>\n",
       "      <td>roseshantstobeadopted.wmv</td>\n",
       "      <td>good rosesh</td>\n",
       "      <td>ye kya kar raha hai rosesh? bharat tera desh! ...</td>\n",
       "      <td>neutral</td>\n",
       "    </tr>\n",
       "    <tr>\n",
       "      <th>1</th>\n",
       "      <td>roseshantstobeadopted.wmv</td>\n",
       "      <td>bad rosesh</td>\n",
       "      <td>hahaha khat padh le rosesh baby or padhne de h...</td>\n",
       "      <td>neutral</td>\n",
       "    </tr>\n",
       "    <tr>\n",
       "      <th>2</th>\n",
       "      <td>roseshantstobeadopted.wmv</td>\n",
       "      <td>good rosesh</td>\n",
       "      <td>kavita acchi hai lekin khayal achcha nahin hai...</td>\n",
       "      <td>neutral</td>\n",
       "    </tr>\n",
       "    <tr>\n",
       "      <th>3</th>\n",
       "      <td>roseshantstobeadopted.wmv</td>\n",
       "      <td>bad rosesh</td>\n",
       "      <td>galat hai, par momma ne tumse kaha tha ki do b...</td>\n",
       "      <td>contempt</td>\n",
       "    </tr>\n",
       "    <tr>\n",
       "      <th>4</th>\n",
       "      <td>roseshantstobeadopted.wmv</td>\n",
       "      <td>good rosesh</td>\n",
       "      <td>galat tha per</td>\n",
       "      <td>neutral</td>\n",
       "    </tr>\n",
       "  </tbody>\n",
       "</table>\n",
       "</div>"
      ],
      "text/plain": [
       "                     Episode     Speakers  \\\n",
       "0  roseshantstobeadopted.wmv  good rosesh   \n",
       "1  roseshantstobeadopted.wmv   bad rosesh   \n",
       "2  roseshantstobeadopted.wmv  good rosesh   \n",
       "3  roseshantstobeadopted.wmv   bad rosesh   \n",
       "4  roseshantstobeadopted.wmv  good rosesh   \n",
       "\n",
       "                                          Utterances  Emotions  \n",
       "0  ye kya kar raha hai rosesh? bharat tera desh! ...   neutral  \n",
       "1  hahaha khat padh le rosesh baby or padhne de h...   neutral  \n",
       "2  kavita acchi hai lekin khayal achcha nahin hai...   neutral  \n",
       "3  galat hai, par momma ne tumse kaha tha ki do b...  contempt  \n",
       "4                                      galat tha per   neutral  "
      ]
     },
     "execution_count": 12,
     "metadata": {},
     "output_type": "execute_result"
    }
   ],
   "source": [
    "import pandas as pd\n",
    "\n",
    "\n",
    "# Create an empty list to store the data for each conversation\n",
    "conversation_data = []\n",
    "\n",
    "# Iterate through the JSON data and construct a DataFrame for each conversation\n",
    "for conversation in validation_data:\n",
    "    episode = conversation[\"episode\"]\n",
    "    speakers = conversation[\"speakers\"]\n",
    "    utterances = conversation[\"utterances\"]\n",
    "    emotions = conversation[\"emotions\"]\n",
    "\n",
    "    # Create a DataFrame for the current conversation\n",
    "    df = pd.DataFrame({\n",
    "        \"Episode\": [episode] * len(speakers),\n",
    "        \"Speakers\": speakers,\n",
    "        \"Utterances\": utterances,\n",
    "        \"Emotions\": emotions\n",
    "    })\n",
    "\n",
    "    # Append the DataFrame to the list\n",
    "    conversation_data.append(df)\n",
    "\n",
    "# Concatenate all conversation DataFrames into one DataFrame\n",
    "val_df = pd.concat(conversation_data, ignore_index=True)\n",
    "val_df.head(5)"
   ]
  },
  {
   "cell_type": "raw",
   "id": "9af75358",
   "metadata": {},
   "source": [
    " distinct emotions exist in whole training conversation"
   ]
  },
  {
   "cell_type": "code",
   "execution_count": 13,
   "id": "9a496a5e",
   "metadata": {},
   "outputs": [
    {
     "name": "stdout",
     "output_type": "stream",
     "text": [
      "Distinct Emotions:\n",
      "disgust\n",
      "contempt\n",
      "anger\n",
      "neutral\n",
      "joy\n",
      "sadness\n",
      "fear\n",
      "surprise\n"
     ]
    }
   ],
   "source": [
    "# Find distinct emotions\n",
    "distinct_emotions = train_df['Emotions'].unique()\n",
    "\n",
    "# Print distinct emotions\n",
    "print(\"Distinct Emotions:\")\n",
    "for emotion in distinct_emotions:\n",
    "    print(emotion)"
   ]
  },
  {
   "cell_type": "code",
   "execution_count": 14,
   "id": "d1aadf67",
   "metadata": {},
   "outputs": [
    {
     "name": "stdout",
     "output_type": "stream",
     "text": [
      "Distinct Emotions:\n",
      "neutral\n",
      "contempt\n",
      "sadness\n",
      "fear\n",
      "joy\n",
      "surprise\n",
      "anger\n",
      "disgust\n"
     ]
    }
   ],
   "source": [
    "# Find distinct emotions\n",
    "distinct_emotions = val_df['Emotions'].unique()\n",
    "\n",
    "# Print distinct emotions\n",
    "print(\"Distinct Emotions:\")\n",
    "for emotion in distinct_emotions:\n",
    "    print(emotion)"
   ]
  },
  {
   "cell_type": "raw",
   "id": "345bc1e3",
   "metadata": {},
   "source": [
    "Visualise the emotion status count in training conversation"
   ]
  },
  {
   "cell_type": "code",
   "execution_count": 15,
   "id": "3987d419",
   "metadata": {},
   "outputs": [
    {
     "data": {
      "image/png": "[encoded data removed]",
      "text/plain": [
       "<Figure size 800x500 with 1 Axes>"
      ]
     },
     "metadata": {},
     "output_type": "display_data"
    }
   ],
   "source": [
    "# Count the occurrences of each emotion\n",
    "emotion_counts = train_df['Emotions'].value_counts()\n",
    "\n",
    "# Create a bar plot\n",
    "plt.figure(figsize=(8, 5))\n",
    "emotion_counts.plot(kind='bar', color='skyblue')\n",
    "plt.title('Emotion Occurrences')\n",
    "plt.xlabel('Emotion')\n",
    "plt.ylabel('Count')\n",
    "plt.xticks(rotation=45)\n",
    "plt.tight_layout()\n",
    "plt.grid()\n",
    "# Show the plot\n",
    "plt.show()"
   ]
  },
  {
   "cell_type": "raw",
   "id": "c8a3cbfb",
   "metadata": {},
   "source": [
    "Define the Hindi Stopwords"
   ]
  },
  {
   "cell_type": "code",
   "execution_count": 16,
   "id": "edefb044",
   "metadata": {},
   "outputs": [],
   "source": [
    "hindi_stopwords = get_stop_words('hi')  # 'hi' is the ISO 639-1 code for Hindi\n",
    "hindi_stopwords\n",
    "\n",
    "# Transliterate Hindi to Roman script (English characters)\n",
    "transliterated_text = [sanscript.transliterate(word, source_script, target_script) for word in hindi_stopwords]\n",
    "\n",
    "# Convert transliterated words to lowercase\n",
    "lowercase_transliterated_text = [word.lower() for word in transliterated_text]\n"
   ]
  },
  {
   "cell_type": "markdown",
   "id": "ab00e00c",
   "metadata": {},
   "source": [
    "# combined list of stopwords for both English and Hindi"
   ]
  },
  {
   "cell_type": "code",
   "execution_count": 17,
   "id": "92f9ed72",
   "metadata": {},
   "outputs": [
    {
     "data": {
      "text/plain": [
       "{'a',\n",
       " 'abhi',\n",
       " 'about',\n",
       " 'above',\n",
       " 'adi',\n",
       " 'after',\n",
       " 'again',\n",
       " 'against',\n",
       " 'ain',\n",
       " 'aise',\n",
       " 'all',\n",
       " 'am',\n",
       " 'amdara',\n",
       " 'an',\n",
       " 'and',\n",
       " 'any',\n",
       " 'apa',\n",
       " 'apana',\n",
       " 'apane',\n",
       " 'apani',\n",
       " 'are',\n",
       " 'aren',\n",
       " \"aren't\",\n",
       " 'as',\n",
       " 'at',\n",
       " 'ata',\n",
       " 'aura',\n",
       " 'bada',\n",
       " 'bahi',\n",
       " 'bahuta',\n",
       " 'bala',\n",
       " 'bani',\n",
       " 'be',\n",
       " 'because',\n",
       " 'been',\n",
       " 'before',\n",
       " 'being',\n",
       " 'below',\n",
       " 'between',\n",
       " 'bhi',\n",
       " 'bhitara',\n",
       " 'bilakula',\n",
       " 'both',\n",
       " 'but',\n",
       " 'by',\n",
       " 'can',\n",
       " 'couldn',\n",
       " \"couldn't\",\n",
       " 'd',\n",
       " 'dabara',\n",
       " 'did',\n",
       " 'didn',\n",
       " \"didn't\",\n",
       " 'diya',\n",
       " 'do',\n",
       " 'does',\n",
       " 'doesn',\n",
       " \"doesn't\",\n",
       " 'doing',\n",
       " 'don',\n",
       " \"don't\",\n",
       " 'down',\n",
       " 'during',\n",
       " 'dusara',\n",
       " 'dusare',\n",
       " 'dvara',\n",
       " 'each',\n",
       " 'eka',\n",
       " 'esa',\n",
       " 'evam',\n",
       " 'few',\n",
       " 'for',\n",
       " 'from',\n",
       " 'further',\n",
       " 'gaya',\n",
       " 'ghara',\n",
       " 'had',\n",
       " 'hadn',\n",
       " \"hadn't\",\n",
       " 'hai',\n",
       " 'haim',\n",
       " 'has',\n",
       " 'hasn',\n",
       " \"hasn't\",\n",
       " 'have',\n",
       " 'haven',\n",
       " \"haven't\",\n",
       " 'having',\n",
       " 'he',\n",
       " 'her',\n",
       " 'here',\n",
       " 'hers',\n",
       " 'herself',\n",
       " 'hi',\n",
       " 'him',\n",
       " 'himself',\n",
       " 'his',\n",
       " 'ho',\n",
       " 'hona',\n",
       " 'hone',\n",
       " 'hota',\n",
       " 'hote',\n",
       " 'hoti',\n",
       " 'how',\n",
       " 'hua',\n",
       " 'hue',\n",
       " 'hui',\n",
       " 'i',\n",
       " 'if',\n",
       " 'in',\n",
       " 'ina',\n",
       " 'inaka',\n",
       " 'inhem',\n",
       " 'inhim',\n",
       " 'inhom',\n",
       " 'into',\n",
       " 'is',\n",
       " 'isa',\n",
       " 'isaka',\n",
       " 'isake',\n",
       " 'isaki',\n",
       " 'isamem',\n",
       " 'ise',\n",
       " 'isi',\n",
       " 'isn',\n",
       " \"isn't\",\n",
       " 'it',\n",
       " \"it's\",\n",
       " 'its',\n",
       " 'itself',\n",
       " 'ityadi',\n",
       " 'ja',\n",
       " 'jaba',\n",
       " 'jaha.n',\n",
       " 'jaisa',\n",
       " 'jaise',\n",
       " 'jidhara',\n",
       " 'jina',\n",
       " 'jinhem',\n",
       " 'jinhom',\n",
       " 'jisa',\n",
       " 'jise',\n",
       " 'jitana',\n",
       " 'jo',\n",
       " 'just',\n",
       " 'ka',\n",
       " 'kafi',\n",
       " 'kaha',\n",
       " 'kahate',\n",
       " 'kai',\n",
       " 'kara',\n",
       " 'karana',\n",
       " 'karane',\n",
       " 'karata',\n",
       " 'karate',\n",
       " 'karem',\n",
       " 'kauna',\n",
       " 'kaunasa',\n",
       " 'ke',\n",
       " 'ki',\n",
       " 'kinhem',\n",
       " 'kinhom',\n",
       " 'kira',\n",
       " 'kisa',\n",
       " 'kise',\n",
       " 'kisi',\n",
       " 'kitana',\n",
       " 'kiya',\n",
       " 'ko',\n",
       " 'koi',\n",
       " 'kucha',\n",
       " 'kula',\n",
       " 'lekina',\n",
       " 'lie',\n",
       " 'liye',\n",
       " 'll',\n",
       " 'm',\n",
       " 'ma',\n",
       " 'magara',\n",
       " 'mano',\n",
       " 'me',\n",
       " 'mem',\n",
       " 'mightn',\n",
       " \"mightn't\",\n",
       " 'more',\n",
       " 'most',\n",
       " 'mustn',\n",
       " \"mustn't\",\n",
       " 'my',\n",
       " 'myself',\n",
       " 'na',\n",
       " 'nahim',\n",
       " 'nake',\n",
       " 'ne',\n",
       " 'needn',\n",
       " \"needn't\",\n",
       " 'niche',\n",
       " 'nihayata',\n",
       " 'no',\n",
       " 'nor',\n",
       " 'not',\n",
       " 'now',\n",
       " 'o',\n",
       " 'of',\n",
       " 'off',\n",
       " 'on',\n",
       " 'once',\n",
       " 'only',\n",
       " 'or',\n",
       " 'other',\n",
       " 'our',\n",
       " 'ours',\n",
       " 'ourselves',\n",
       " 'out',\n",
       " 'over',\n",
       " 'own',\n",
       " 'pahale',\n",
       " 'para',\n",
       " 'pe',\n",
       " 'phira',\n",
       " 'pura',\n",
       " 'raha',\n",
       " 'rahe',\n",
       " 'rakhem',\n",
       " 're',\n",
       " 'rvasa',\n",
       " 's',\n",
       " 'sabase',\n",
       " 'sabha',\n",
       " 'sabhi',\n",
       " 'sabuta',\n",
       " 'sakata',\n",
       " 'sakate',\n",
       " 'same',\n",
       " 'samga',\n",
       " 'sara',\n",
       " 'satha',\n",
       " 'se',\n",
       " 'shan',\n",
       " \"shan't\",\n",
       " 'she',\n",
       " \"she's\",\n",
       " 'should',\n",
       " \"should've\",\n",
       " 'shouldn',\n",
       " \"shouldn't\",\n",
       " 'so',\n",
       " 'some',\n",
       " 'such',\n",
       " 't',\n",
       " 'taba',\n",
       " 'taka',\n",
       " 'taraha',\n",
       " 'tha',\n",
       " 'than',\n",
       " 'that',\n",
       " \"that'll\",\n",
       " 'the',\n",
       " 'their',\n",
       " 'theirs',\n",
       " 'them',\n",
       " 'themselves',\n",
       " 'then',\n",
       " 'there',\n",
       " 'these',\n",
       " 'they',\n",
       " 'thi',\n",
       " 'this',\n",
       " 'those',\n",
       " 'through',\n",
       " 'tina',\n",
       " 'tinhem',\n",
       " 'tinhom',\n",
       " 'tisa',\n",
       " 'tise',\n",
       " 'to',\n",
       " 'too',\n",
       " 'una',\n",
       " 'unaka',\n",
       " 'unake',\n",
       " 'unaki',\n",
       " 'unako',\n",
       " 'under',\n",
       " 'unhem',\n",
       " 'unhim',\n",
       " 'unhom',\n",
       " 'until',\n",
       " 'up',\n",
       " 'usa',\n",
       " 'usake',\n",
       " 'use',\n",
       " 'usi',\n",
       " 'va',\n",
       " 'vagairaha',\n",
       " 'vaha',\n",
       " 'vaha.n',\n",
       " 'vahim',\n",
       " 'vale',\n",
       " 'varga',\n",
       " 've',\n",
       " 'very',\n",
       " 'vuha',\n",
       " 'was',\n",
       " 'wasn',\n",
       " \"wasn't\",\n",
       " 'we',\n",
       " 'were',\n",
       " 'weren',\n",
       " \"weren't\",\n",
       " 'what',\n",
       " 'when',\n",
       " 'where',\n",
       " 'which',\n",
       " 'while',\n",
       " 'who',\n",
       " 'whom',\n",
       " 'why',\n",
       " 'will',\n",
       " 'with',\n",
       " 'won',\n",
       " \"won't\",\n",
       " 'wouldn',\n",
       " \"wouldn't\",\n",
       " 'y',\n",
       " 'ya',\n",
       " 'yadi',\n",
       " 'yaha',\n",
       " 'yaha.n',\n",
       " 'yahi',\n",
       " 'ye',\n",
       " 'yiha',\n",
       " 'you',\n",
       " \"you'd\",\n",
       " \"you'll\",\n",
       " \"you're\",\n",
       " \"you've\",\n",
       " 'your',\n",
       " 'yours',\n",
       " 'yourself',\n",
       " 'yourselves'}"
      ]
     },
     "execution_count": 17,
     "metadata": {},
     "output_type": "execute_result"
    }
   ],
   "source": [
    "english_stopwords = set(stopwords.words('english'))\n",
    "stop_words = set(english_stopwords)  # English stopwords\n",
    "\n",
    "# Add Hindi stopwords to the set\n",
    "hindi_stop_words = set(lowercase_transliterated_text)  # Add your Hindi stopwords here\n",
    "\n",
    "stop_words.update(hindi_stop_words)\n",
    "stop_words"
   ]
  },
  {
   "cell_type": "markdown",
   "id": "6147fc29",
   "metadata": {},
   "source": [
    "# Preprocessing code for each utterance"
   ]
  },
  {
   "cell_type": "code",
   "execution_count": 18,
   "id": "dba132e8",
   "metadata": {},
   "outputs": [],
   "source": [
    "import re\n",
    "\n",
    "def remove_numeric_sequences_and_ordinals(text):\n",
    "    # Remove numbers\n",
    "    text = re.sub(r'\\d+', '', text)\n",
    "\n",
    "    # Remove ordinal numbers\n",
    "    text = re.sub(r'\\b\\d+(st|nd|rd|th)\\b', '', text)\n",
    "\n",
    "    return text"
   ]
  },
  {
   "cell_type": "code",
   "execution_count": 19,
   "id": "f5c261b6",
   "metadata": {},
   "outputs": [],
   "source": [
    "def remove_puntuations(txt):\n",
    "    punct = set(string.punctuation)\n",
    "    txt = \" \".join(txt.split(\".\"))\n",
    "    txt = \" \".join(txt.split(\"!\"))\n",
    "    txt = \" \".join(txt.split(\"?\"))\n",
    "    txt = \" \".join(txt.split(\":\"))\n",
    "    txt = \" \".join(txt.split(\";\"))\n",
    "    \n",
    "    txt = \"\".join(ch for ch in txt if ch not in punct)\n",
    "    return txt"
   ]
  },
  {
   "cell_type": "code",
   "execution_count": 20,
   "id": "1b56ad60",
   "metadata": {},
   "outputs": [
    {
     "data": {
      "text/plain": [
       "'kya kya bhar  ke rakha hai indravadan ne is gha   '"
      ]
     },
     "execution_count": 20,
     "metadata": {},
     "output_type": "execute_result"
    }
   ],
   "source": [
    "remove_puntuations('kya kya bhar? ke rakha hai indravadan ne is gha...')"
   ]
  },
  {
   "cell_type": "code",
   "execution_count": 21,
   "id": "cacafb19",
   "metadata": {},
   "outputs": [],
   "source": [
    "# Function clean text\n",
    "def preprocess_text(text):\n",
    "    # Convert text to lowercase\n",
    "    text = text.lower()\n",
    "    \n",
    "    #remove numeric and ordinals \n",
    "    text = remove_numeric_sequences_and_ordinals(text)\n",
    "\n",
    "    # Remove punctuation\n",
    "    text = remove_puntuations(text)\n",
    "\n",
    "    # Remove extra white spaces\n",
    "    text = ' '.join(text.split())\n",
    "\n",
    "    # Remove stopwords\n",
    "    total_stop_words = stop_words\n",
    "    text = ' '.join([word for word in text.split() if word not in total_stop_words])\n",
    "\n",
    "    return text"
   ]
  },
  {
   "cell_type": "code",
   "execution_count": 22,
   "id": "eade6644",
   "metadata": {},
   "outputs": [
    {
     "data": {
      "text/plain": [
       "'kya kya bhar rakha indravadan gha'"
      ]
     },
     "execution_count": 22,
     "metadata": {},
     "output_type": "execute_result"
    }
   ],
   "source": [
    "preprocess_text('kya kya bhar ke rakha hai indravadan ne is gha...')"
   ]
  },
  {
   "cell_type": "raw",
   "id": "9f7c3efa",
   "metadata": {},
   "source": [
    "Apply preprocessing to the 'Utterances' column"
   ]
  },
  {
   "cell_type": "code",
   "execution_count": 23,
   "id": "f767c010",
   "metadata": {},
   "outputs": [
    {
     "data": {
      "text/html": [
       "<div>\n",
       "<style scoped>\n",
       "    .dataframe tbody tr th:only-of-type {\n",
       "        vertical-align: middle;\n",
       "    }\n",
       "\n",
       "    .dataframe tbody tr th {\n",
       "        vertical-align: top;\n",
       "    }\n",
       "\n",
       "    .dataframe thead th {\n",
       "        text-align: right;\n",
       "    }\n",
       "</style>\n",
       "<table border=\"1\" class=\"dataframe\">\n",
       "  <thead>\n",
       "    <tr style=\"text-align: right;\">\n",
       "      <th></th>\n",
       "      <th>Episode</th>\n",
       "      <th>Speakers</th>\n",
       "      <th>Utterances</th>\n",
       "      <th>Emotions</th>\n",
       "      <th>Clean_text</th>\n",
       "    </tr>\n",
       "  </thead>\n",
       "  <tbody>\n",
       "    <tr>\n",
       "      <th>0</th>\n",
       "      <td>roseshantstobeadopted.wmv</td>\n",
       "      <td>maya</td>\n",
       "      <td>kya kya bhar ke rakha hai indravadan ne is gha...</td>\n",
       "      <td>disgust</td>\n",
       "      <td>kya kya bhar rakha indravadan ghar mein indrav...</td>\n",
       "    </tr>\n",
       "    <tr>\n",
       "      <th>1</th>\n",
       "      <td>roseshantstobeadopted.wmv</td>\n",
       "      <td>indu</td>\n",
       "      <td>ok, chalo rosesh chalo bahar</td>\n",
       "      <td>contempt</td>\n",
       "      <td>ok chalo rosesh chalo bahar</td>\n",
       "    </tr>\n",
       "    <tr>\n",
       "      <th>2</th>\n",
       "      <td>roseshantstobeadopted.wmv</td>\n",
       "      <td>rosesh</td>\n",
       "      <td>momma! hath chhodiye dad!</td>\n",
       "      <td>anger</td>\n",
       "      <td>momma hath chhodiye dad</td>\n",
       "    </tr>\n",
       "    <tr>\n",
       "      <th>3</th>\n",
       "      <td>roseshantstobeadopted.wmv</td>\n",
       "      <td>indu</td>\n",
       "      <td>dekho maya ya na bol raha hai! fir tum hi kaho...</td>\n",
       "      <td>neutral</td>\n",
       "      <td>dekho maya bol fir tum kahogi faltu chijen jam...</td>\n",
       "    </tr>\n",
       "    <tr>\n",
       "      <th>4</th>\n",
       "      <td>roseshantstobeadopted.wmv</td>\n",
       "      <td>maya</td>\n",
       "      <td>indravadan, tum kitne salo se ye joke maar rah...</td>\n",
       "      <td>neutral</td>\n",
       "      <td>indravadan tum kitne salo joke maar aaj tak</td>\n",
       "    </tr>\n",
       "    <tr>\n",
       "      <th>...</th>\n",
       "      <td>...</td>\n",
       "      <td>...</td>\n",
       "      <td>...</td>\n",
       "      <td>...</td>\n",
       "      <td>...</td>\n",
       "    </tr>\n",
       "    <tr>\n",
       "      <th>8501</th>\n",
       "      <td>radhabaileaves</td>\n",
       "      <td>rosesh</td>\n",
       "      <td>lekin what about my ghadi? 17000 ki ghadi hai ...</td>\n",
       "      <td>sadness</td>\n",
       "      <td>lekin ghadi ghadi momma recurring alarm baje a...</td>\n",
       "    </tr>\n",
       "    <tr>\n",
       "      <th>8502</th>\n",
       "      <td>radhabaileaves</td>\n",
       "      <td>sita or geeta</td>\n",
       "      <td>nhi nhi mujhe yahan pe kaamich nhi karna hai, ...</td>\n",
       "      <td>anger</td>\n",
       "      <td>nhi nhi mujhe yahan kaamich nhi karna jaa rhi hun</td>\n",
       "    </tr>\n",
       "    <tr>\n",
       "      <th>8503</th>\n",
       "      <td>radhabaileaves</td>\n",
       "      <td>maya</td>\n",
       "      <td>ahan!</td>\n",
       "      <td>joy</td>\n",
       "      <td>ahan</td>\n",
       "    </tr>\n",
       "    <tr>\n",
       "      <th>8504</th>\n",
       "      <td>radhabaileaves</td>\n",
       "      <td>sita or geeta</td>\n",
       "      <td>goodbye!</td>\n",
       "      <td>fear</td>\n",
       "      <td>goodbye</td>\n",
       "    </tr>\n",
       "    <tr>\n",
       "      <th>8505</th>\n",
       "      <td>radhabaileaves</td>\n",
       "      <td>maya</td>\n",
       "      <td>no goodbye! nikalo! nikalo! chorro hath chorro...</td>\n",
       "      <td>disgust</td>\n",
       "      <td>goodbye nikalo nikalo chorro hath chorro badby...</td>\n",
       "    </tr>\n",
       "  </tbody>\n",
       "</table>\n",
       "<p>8506 rows × 5 columns</p>\n",
       "</div>"
      ],
      "text/plain": [
       "                        Episode       Speakers  \\\n",
       "0     roseshantstobeadopted.wmv           maya   \n",
       "1     roseshantstobeadopted.wmv           indu   \n",
       "2     roseshantstobeadopted.wmv         rosesh   \n",
       "3     roseshantstobeadopted.wmv           indu   \n",
       "4     roseshantstobeadopted.wmv           maya   \n",
       "...                         ...            ...   \n",
       "8501             radhabaileaves         rosesh   \n",
       "8502             radhabaileaves  sita or geeta   \n",
       "8503             radhabaileaves           maya   \n",
       "8504             radhabaileaves  sita or geeta   \n",
       "8505             radhabaileaves           maya   \n",
       "\n",
       "                                             Utterances  Emotions  \\\n",
       "0     kya kya bhar ke rakha hai indravadan ne is gha...   disgust   \n",
       "1                          ok, chalo rosesh chalo bahar  contempt   \n",
       "2                             momma! hath chhodiye dad!     anger   \n",
       "3     dekho maya ya na bol raha hai! fir tum hi kaho...   neutral   \n",
       "4     indravadan, tum kitne salo se ye joke maar rah...   neutral   \n",
       "...                                                 ...       ...   \n",
       "8501  lekin what about my ghadi? 17000 ki ghadi hai ...   sadness   \n",
       "8502  nhi nhi mujhe yahan pe kaamich nhi karna hai, ...     anger   \n",
       "8503                                              ahan!       joy   \n",
       "8504                                           goodbye!      fear   \n",
       "8505  no goodbye! nikalo! nikalo! chorro hath chorro...   disgust   \n",
       "\n",
       "                                             Clean_text  \n",
       "0     kya kya bhar rakha indravadan ghar mein indrav...  \n",
       "1                           ok chalo rosesh chalo bahar  \n",
       "2                               momma hath chhodiye dad  \n",
       "3     dekho maya bol fir tum kahogi faltu chijen jam...  \n",
       "4           indravadan tum kitne salo joke maar aaj tak  \n",
       "...                                                 ...  \n",
       "8501  lekin ghadi ghadi momma recurring alarm baje a...  \n",
       "8502  nhi nhi mujhe yahan kaamich nhi karna jaa rhi hun  \n",
       "8503                                               ahan  \n",
       "8504                                            goodbye  \n",
       "8505  goodbye nikalo nikalo chorro hath chorro badby...  \n",
       "\n",
       "[8506 rows x 5 columns]"
      ]
     },
     "execution_count": 23,
     "metadata": {},
     "output_type": "execute_result"
    }
   ],
   "source": [
    "# Apply preprocessing to the 'Utterances' column\n",
    "train_df['Clean_text'] = train_df['Utterances'].apply(preprocess_text)\n",
    "\n",
    "# Print the first few rows of the modified DataFrame\n",
    "train_df"
   ]
  },
  {
   "cell_type": "code",
   "execution_count": 24,
   "id": "c23cebcb",
   "metadata": {},
   "outputs": [
    {
     "data": {
      "text/html": [
       "<div>\n",
       "<style scoped>\n",
       "    .dataframe tbody tr th:only-of-type {\n",
       "        vertical-align: middle;\n",
       "    }\n",
       "\n",
       "    .dataframe tbody tr th {\n",
       "        vertical-align: top;\n",
       "    }\n",
       "\n",
       "    .dataframe thead th {\n",
       "        text-align: right;\n",
       "    }\n",
       "</style>\n",
       "<table border=\"1\" class=\"dataframe\">\n",
       "  <thead>\n",
       "    <tr style=\"text-align: right;\">\n",
       "      <th></th>\n",
       "      <th>Episode</th>\n",
       "      <th>Speakers</th>\n",
       "      <th>Utterances</th>\n",
       "      <th>Emotions</th>\n",
       "      <th>Clean_text</th>\n",
       "    </tr>\n",
       "  </thead>\n",
       "  <tbody>\n",
       "    <tr>\n",
       "      <th>0</th>\n",
       "      <td>roseshantstobeadopted.wmv</td>\n",
       "      <td>good rosesh</td>\n",
       "      <td>ye kya kar raha hai rosesh? bharat tera desh! ...</td>\n",
       "      <td>neutral</td>\n",
       "      <td>kya kar rosesh bharat tera desh bhartiya insan...</td>\n",
       "    </tr>\n",
       "    <tr>\n",
       "      <th>1</th>\n",
       "      <td>roseshantstobeadopted.wmv</td>\n",
       "      <td>bad rosesh</td>\n",
       "      <td>hahaha khat padh le rosesh baby or padhne de h...</td>\n",
       "      <td>neutral</td>\n",
       "      <td>hahaha khat padh le rosesh baby padhne de hame...</td>\n",
       "    </tr>\n",
       "    <tr>\n",
       "      <th>2</th>\n",
       "      <td>roseshantstobeadopted.wmv</td>\n",
       "      <td>good rosesh</td>\n",
       "      <td>kavita acchi hai lekin khayal achcha nahin hai...</td>\n",
       "      <td>neutral</td>\n",
       "      <td>kavita acchi lekin khayal achcha nahin villain...</td>\n",
       "    </tr>\n",
       "    <tr>\n",
       "      <th>3</th>\n",
       "      <td>roseshantstobeadopted.wmv</td>\n",
       "      <td>bad rosesh</td>\n",
       "      <td>galat hai, par momma ne tumse kaha tha ki do b...</td>\n",
       "      <td>contempt</td>\n",
       "      <td>galat par momma tumse bar brush karna aur tumn...</td>\n",
       "    </tr>\n",
       "    <tr>\n",
       "      <th>4</th>\n",
       "      <td>roseshantstobeadopted.wmv</td>\n",
       "      <td>good rosesh</td>\n",
       "      <td>galat tha per</td>\n",
       "      <td>neutral</td>\n",
       "      <td>galat per</td>\n",
       "    </tr>\n",
       "    <tr>\n",
       "      <th>...</th>\n",
       "      <td>...</td>\n",
       "      <td>...</td>\n",
       "      <td>...</td>\n",
       "      <td>...</td>\n",
       "      <td>...</td>\n",
       "    </tr>\n",
       "    <tr>\n",
       "      <th>1349</th>\n",
       "      <td>prefinale</td>\n",
       "      <td>monish</td>\n",
       "      <td>sahil sahil sahil. sirf 4 din bache hai or sar...</td>\n",
       "      <td>fear</td>\n",
       "      <td>sahil sahil sahil sirf din bache sari ladkiyan...</td>\n",
       "    </tr>\n",
       "    <tr>\n",
       "      <th>1350</th>\n",
       "      <td>prefinale</td>\n",
       "      <td>sahil</td>\n",
       "      <td>haan lekin mom unn charo me se kisi ek ko fina...</td>\n",
       "      <td>neutral</td>\n",
       "      <td>haan lekin mom unn charo ek finalise kar lengi</td>\n",
       "    </tr>\n",
       "    <tr>\n",
       "      <th>1351</th>\n",
       "      <td>prefinale</td>\n",
       "      <td>monish</td>\n",
       "      <td>mummy ji ko to unme se koi pasand nhi hai</td>\n",
       "      <td>sadness</td>\n",
       "      <td>mummy ji unme pasand nhi</td>\n",
       "    </tr>\n",
       "    <tr>\n",
       "      <th>1352</th>\n",
       "      <td>prefinale</td>\n",
       "      <td>sahil</td>\n",
       "      <td>rosesh ko?</td>\n",
       "      <td>neutral</td>\n",
       "      <td>rosesh</td>\n",
       "    </tr>\n",
       "    <tr>\n",
       "      <th>1353</th>\n",
       "      <td>prefinale</td>\n",
       "      <td>monish</td>\n",
       "      <td>unhe to charo pasand hai. wese sahil, waqt bee...</td>\n",
       "      <td>fear</td>\n",
       "      <td>unhe charo pasand wese sahil waqt beeta jaa rh...</td>\n",
       "    </tr>\n",
       "  </tbody>\n",
       "</table>\n",
       "<p>1354 rows × 5 columns</p>\n",
       "</div>"
      ],
      "text/plain": [
       "                        Episode     Speakers  \\\n",
       "0     roseshantstobeadopted.wmv  good rosesh   \n",
       "1     roseshantstobeadopted.wmv   bad rosesh   \n",
       "2     roseshantstobeadopted.wmv  good rosesh   \n",
       "3     roseshantstobeadopted.wmv   bad rosesh   \n",
       "4     roseshantstobeadopted.wmv  good rosesh   \n",
       "...                         ...          ...   \n",
       "1349                  prefinale       monish   \n",
       "1350                  prefinale        sahil   \n",
       "1351                  prefinale       monish   \n",
       "1352                  prefinale        sahil   \n",
       "1353                  prefinale       monish   \n",
       "\n",
       "                                             Utterances  Emotions  \\\n",
       "0     ye kya kar raha hai rosesh? bharat tera desh! ...   neutral   \n",
       "1     hahaha khat padh le rosesh baby or padhne de h...   neutral   \n",
       "2     kavita acchi hai lekin khayal achcha nahin hai...   neutral   \n",
       "3     galat hai, par momma ne tumse kaha tha ki do b...  contempt   \n",
       "4                                         galat tha per   neutral   \n",
       "...                                                 ...       ...   \n",
       "1349  sahil sahil sahil. sirf 4 din bache hai or sar...      fear   \n",
       "1350  haan lekin mom unn charo me se kisi ek ko fina...   neutral   \n",
       "1351          mummy ji ko to unme se koi pasand nhi hai   sadness   \n",
       "1352                                         rosesh ko?   neutral   \n",
       "1353  unhe to charo pasand hai. wese sahil, waqt bee...      fear   \n",
       "\n",
       "                                             Clean_text  \n",
       "0     kya kar rosesh bharat tera desh bhartiya insan...  \n",
       "1     hahaha khat padh le rosesh baby padhne de hame...  \n",
       "2     kavita acchi lekin khayal achcha nahin villain...  \n",
       "3     galat par momma tumse bar brush karna aur tumn...  \n",
       "4                                             galat per  \n",
       "...                                                 ...  \n",
       "1349  sahil sahil sahil sirf din bache sari ladkiyan...  \n",
       "1350     haan lekin mom unn charo ek finalise kar lengi  \n",
       "1351                           mummy ji unme pasand nhi  \n",
       "1352                                             rosesh  \n",
       "1353  unhe charo pasand wese sahil waqt beeta jaa rh...  \n",
       "\n",
       "[1354 rows x 5 columns]"
      ]
     },
     "execution_count": 24,
     "metadata": {},
     "output_type": "execute_result"
    }
   ],
   "source": [
    "# Apply preprocessing to the 'Utterances' column\n",
    "val_df['Clean_text'] = val_df['Utterances'].apply(preprocess_text)\n",
    "\n",
    "# Print the first few rows of the modified DataFrame\n",
    "val_df"
   ]
  },
  {
   "cell_type": "code",
   "execution_count": 25,
   "id": "5e32e468",
   "metadata": {},
   "outputs": [
    {
     "data": {
      "text/html": [
       "<div>\n",
       "<style scoped>\n",
       "    .dataframe tbody tr th:only-of-type {\n",
       "        vertical-align: middle;\n",
       "    }\n",
       "\n",
       "    .dataframe tbody tr th {\n",
       "        vertical-align: top;\n",
       "    }\n",
       "\n",
       "    .dataframe thead th {\n",
       "        text-align: right;\n",
       "    }\n",
       "</style>\n",
       "<table border=\"1\" class=\"dataframe\">\n",
       "  <thead>\n",
       "    <tr style=\"text-align: right;\">\n",
       "      <th></th>\n",
       "      <th>Emotions</th>\n",
       "      <th>Clean_text</th>\n",
       "    </tr>\n",
       "  </thead>\n",
       "  <tbody>\n",
       "    <tr>\n",
       "      <th>0</th>\n",
       "      <td>disgust</td>\n",
       "      <td>kya kya bhar rakha indravadan ghar mein indrav...</td>\n",
       "    </tr>\n",
       "    <tr>\n",
       "      <th>1</th>\n",
       "      <td>contempt</td>\n",
       "      <td>ok chalo rosesh chalo bahar</td>\n",
       "    </tr>\n",
       "    <tr>\n",
       "      <th>2</th>\n",
       "      <td>anger</td>\n",
       "      <td>momma hath chhodiye dad</td>\n",
       "    </tr>\n",
       "    <tr>\n",
       "      <th>3</th>\n",
       "      <td>neutral</td>\n",
       "      <td>dekho maya bol fir tum kahogi faltu chijen jam...</td>\n",
       "    </tr>\n",
       "    <tr>\n",
       "      <th>4</th>\n",
       "      <td>neutral</td>\n",
       "      <td>indravadan tum kitne salo joke maar aaj tak</td>\n",
       "    </tr>\n",
       "    <tr>\n",
       "      <th>...</th>\n",
       "      <td>...</td>\n",
       "      <td>...</td>\n",
       "    </tr>\n",
       "    <tr>\n",
       "      <th>8501</th>\n",
       "      <td>sadness</td>\n",
       "      <td>lekin ghadi ghadi momma recurring alarm baje a...</td>\n",
       "    </tr>\n",
       "    <tr>\n",
       "      <th>8502</th>\n",
       "      <td>anger</td>\n",
       "      <td>nhi nhi mujhe yahan kaamich nhi karna jaa rhi hun</td>\n",
       "    </tr>\n",
       "    <tr>\n",
       "      <th>8503</th>\n",
       "      <td>joy</td>\n",
       "      <td>ahan</td>\n",
       "    </tr>\n",
       "    <tr>\n",
       "      <th>8504</th>\n",
       "      <td>fear</td>\n",
       "      <td>goodbye</td>\n",
       "    </tr>\n",
       "    <tr>\n",
       "      <th>8505</th>\n",
       "      <td>disgust</td>\n",
       "      <td>goodbye nikalo nikalo chorro hath chorro badby...</td>\n",
       "    </tr>\n",
       "  </tbody>\n",
       "</table>\n",
       "<p>8506 rows × 2 columns</p>\n",
       "</div>"
      ],
      "text/plain": [
       "      Emotions                                         Clean_text\n",
       "0      disgust  kya kya bhar rakha indravadan ghar mein indrav...\n",
       "1     contempt                        ok chalo rosesh chalo bahar\n",
       "2        anger                            momma hath chhodiye dad\n",
       "3      neutral  dekho maya bol fir tum kahogi faltu chijen jam...\n",
       "4      neutral        indravadan tum kitne salo joke maar aaj tak\n",
       "...        ...                                                ...\n",
       "8501   sadness  lekin ghadi ghadi momma recurring alarm baje a...\n",
       "8502     anger  nhi nhi mujhe yahan kaamich nhi karna jaa rhi hun\n",
       "8503       joy                                               ahan\n",
       "8504      fear                                            goodbye\n",
       "8505   disgust  goodbye nikalo nikalo chorro hath chorro badby...\n",
       "\n",
       "[8506 rows x 2 columns]"
      ]
     },
     "execution_count": 25,
     "metadata": {},
     "output_type": "execute_result"
    }
   ],
   "source": [
    "train = train_df[[\"Emotions\",\"Clean_text\"]]\n",
    "train"
   ]
  },
  {
   "cell_type": "raw",
   "id": "e5a8f099",
   "metadata": {},
   "source": [
    " maximum length length of the utterence"
   ]
  },
  {
   "cell_type": "code",
   "execution_count": 26,
   "id": "7d1ede44",
   "metadata": {},
   "outputs": [
    {
     "name": "stdout",
     "output_type": "stream",
     "text": [
      "The maximum number of words in an utterance is: 94\n"
     ]
    }
   ],
   "source": [
    "# Assuming train is the DataFrame containing the 'Clean_text' column\n",
    "max_words = train['Clean_text'].apply(lambda x: len(x.split())).max()\n",
    "print(f\"The maximum number of words in an utterance is: {max_words}\")"
   ]
  },
  {
   "cell_type": "code",
   "execution_count": 27,
   "id": "fc1d94d6",
   "metadata": {},
   "outputs": [
    {
     "name": "stdout",
     "output_type": "stream",
     "text": [
      "The index number of the row with the maximum number of words: 2315\n"
     ]
    }
   ],
   "source": [
    "# Assuming 'train' is the DataFrame containing the 'Clean_text' column\n",
    "max_words_index = train['Clean_text'].apply(lambda x: len(x.split())).idxmax()\n",
    "print(f\"The index number of the row with the maximum number of words: {max_words_index}\")"
   ]
  },
  {
   "cell_type": "code",
   "execution_count": 28,
   "id": "4bdea282",
   "metadata": {},
   "outputs": [
    {
     "data": {
      "text/plain": [
       "'khar khar khar khar chale cinema reel cinema parde par aaya sushil sushil acting uske muscles kartein hain cehera hain blank mara kabootar dailogue bole lagta hain bigda hain padooshi scooter sushil heroine sandhya kapde jitne taklu saar par hoon baal aage suniyega sandhya acche dete hain chipkaali expression sandhya acche deti hain chipkali expression lekin phirbhi sandhya banega best actress iss saal sushil muscles milega award kyuki uske papa hain jury par samjhe picture deenge start critics kyuki wo hain producers chaamche phir main jaa kar dekhte hoon kyu kyu main dard hain'"
      ]
     },
     "execution_count": 28,
     "metadata": {},
     "output_type": "execute_result"
    }
   ],
   "source": [
    "train[\"Clean_text\"][2315]"
   ]
  },
  {
   "cell_type": "code",
   "execution_count": 29,
   "id": "31e56134",
   "metadata": {},
   "outputs": [],
   "source": [
    "validation = val_df[[\"Emotions\",\"Clean_text\"]]"
   ]
  },
  {
   "cell_type": "raw",
   "id": "a05bea65",
   "metadata": {},
   "source": [
    "Number of unique words in training data"
   ]
  },
  {
   "cell_type": "code",
   "execution_count": 30,
   "id": "8f1d8767",
   "metadata": {},
   "outputs": [
    {
     "data": {
      "text/plain": [
       "10669"
      ]
     },
     "execution_count": 30,
     "metadata": {},
     "output_type": "execute_result"
    }
   ],
   "source": [
    "import pandas as pd\n",
    "\n",
    "# Assuming 'df' is your DataFrame containing the 'clean_text' column\n",
    "unique_words = set(' '.join(train['Clean_text']).split())\n",
    "sorted_unique_words = sorted(unique_words)\n",
    "len(sorted_unique_words)"
   ]
  },
  {
   "cell_type": "code",
   "execution_count": 31,
   "id": "ccafa0c5",
   "metadata": {},
   "outputs": [
    {
     "data": {
      "text/plain": [
       "['aa',\n",
       " 'aaa',\n",
       " 'aaaa',\n",
       " 'aaaaa',\n",
       " 'aaaaaa',\n",
       " 'aaaaaannneeee',\n",
       " 'aaaaah',\n",
       " 'aaah',\n",
       " 'aaahaaahaaa',\n",
       " 'aaahh']"
      ]
     },
     "execution_count": 31,
     "metadata": {},
     "output_type": "execute_result"
    }
   ],
   "source": [
    "sorted_unique_words[0:10]"
   ]
  },
  {
   "cell_type": "raw",
   "id": "a3c1f755-f653-43ab-87da-a0f3ad542c59",
   "metadata": {},
   "source": [
    "'aaj'  in sorted_unique_words"
   ]
  },
  {
   "cell_type": "raw",
   "id": "085321fa-1d05-4ba5-861f-3f299b2796e1",
   "metadata": {},
   "source": [
    "word_indices = {}\n",
    "\n",
    "# Iterate through each unique word\n",
    "for word in sorted_unique_words[0:10]:\n",
    "    indices = []\n",
    "    for idx, utterance in enumerate(train['Clean_text']):\n",
    "        if word in utterance.split():\n",
    "            indices.append(idx)\n",
    "    word_indices[word] = indices\n",
    "\n",
    "#\n",
    "word = 'aa'\n",
    "indices = word_indices.get(word, [])\n",
    "print(f\"The word '{word}' appears in utterances with indices: {indices}\")"
   ]
  },
  {
   "cell_type": "raw",
   "id": "ab907b8b-f006-4e13-82cb-b05e2295a93d",
   "metadata": {},
   "source": [
    "train_df[\"Utterances\"][7]"
   ]
  },
  {
   "cell_type": "raw",
   "id": "2b4deed4-233e-4b91-b062-8db299a661fe",
   "metadata": {},
   "source": [
    "train[\"Clean_text\"][7]"
   ]
  },
  {
   "cell_type": "code",
   "execution_count": 32,
   "id": "cfdc344e-3ecd-488a-97f0-6523b5f38bfb",
   "metadata": {},
   "outputs": [
    {
     "data": {
      "text/plain": [
       "{'aa': 0,\n",
       " 'aaa': 1,\n",
       " 'aaaa': 2,\n",
       " 'aaaaa': 3,\n",
       " 'aaaaaa': 4,\n",
       " 'aaaaaannneeee': 5,\n",
       " 'aaaaah': 6,\n",
       " 'aaah': 7,\n",
       " 'aaahaaahaaa': 8,\n",
       " 'aaahh': 9,\n",
       " 'aaak': 10,\n",
       " 'aaan': 11,\n",
       " 'aab': 12,\n",
       " 'aachar': 13,\n",
       " 'aachhii': 14,\n",
       " 'aadami': 15,\n",
       " 'aadarsh': 16,\n",
       " 'aadat': 17,\n",
       " 'aadh': 18,\n",
       " 'aadha': 19,\n",
       " 'aadhe': 20,\n",
       " 'aadhi': 21,\n",
       " 'aadi': 22,\n",
       " 'aadmi': 23,\n",
       " 'aae': 24,\n",
       " 'aaee': 25,\n",
       " 'aaega': 26,\n",
       " 'aaegee': 27,\n",
       " 'aaegi': 28,\n",
       " 'aaenge': 29,\n",
       " 'aaengi': 30,\n",
       " 'aag': 31,\n",
       " 'aage': 32,\n",
       " 'aagya': 33,\n",
       " 'aah': 34,\n",
       " 'aahaha': 35,\n",
       " 'aahh': 36,\n",
       " 'aahhh': 37,\n",
       " 'aahhhh': 38,\n",
       " 'aahi': 39,\n",
       " 'aaho': 40,\n",
       " 'aai': 41,\n",
       " 'aaila': 42,\n",
       " 'aain': 43,\n",
       " 'aaine': 44,\n",
       " 'aaiye': 45,\n",
       " 'aaj': 46,\n",
       " 'aaja': 47,\n",
       " 'aajad': 48,\n",
       " 'aajadi': 49,\n",
       " 'aajao': 50,\n",
       " 'aajeeb': 51,\n",
       " 'aajkal': 52,\n",
       " 'aajse': 53,\n",
       " 'aajtak': 54,\n",
       " 'aaju': 55,\n",
       " 'aakar': 56,\n",
       " 'aake': 57,\n",
       " 'aakhain': 58,\n",
       " 'aakhi': 59,\n",
       " 'aakhir': 60,\n",
       " 'aakhiri': 61,\n",
       " 'aakhri': 62,\n",
       " 'aakr': 63,\n",
       " 'aalab': 64,\n",
       " 'aalas': 65,\n",
       " 'aalo': 66,\n",
       " 'aaloo': 67,\n",
       " 'aam': 68,\n",
       " 'aamin': 69,\n",
       " 'aamir': 70,\n",
       " 'aan': 71,\n",
       " 'aana': 72,\n",
       " 'aanaa': 73,\n",
       " 'aanchal': 74,\n",
       " 'aandha': 75,\n",
       " 'aane': 76,\n",
       " 'aankh': 77,\n",
       " 'aankhe': 78,\n",
       " 'aankhein': 79,\n",
       " 'aankhen': 80,\n",
       " 'aankhne': 81,\n",
       " 'aankho': 82,\n",
       " 'aankhon': 83,\n",
       " 'aann': 84,\n",
       " 'aanshu': 85,\n",
       " 'aansu': 86,\n",
       " 'aao': 87,\n",
       " 'aaogi': 88,\n",
       " 'aaogi”': 89,\n",
       " 'aap': 90,\n",
       " 'aapakee': 91,\n",
       " 'aapako': 92,\n",
       " 'aapane': 93,\n",
       " 'aaphi': 94,\n",
       " 'aapk': 95,\n",
       " 'aapka': 96,\n",
       " 'aapke': 97,\n",
       " 'aapki': 98,\n",
       " 'aapko': 99,\n",
       " 'aaplog': 100,\n",
       " 'aaplogo': 101,\n",
       " 'aapme': 102,\n",
       " 'aapna': 103,\n",
       " 'aapne': 104,\n",
       " 'aappe': 105,\n",
       " 'aappki': 106,\n",
       " 'aapse': 107,\n",
       " 'aaram': 108,\n",
       " 'aare': 109,\n",
       " 'aarha': 110,\n",
       " 'aas': 111,\n",
       " 'aasaan': 112,\n",
       " 'aasaanee': 113,\n",
       " 'aasan': 114,\n",
       " 'aasani': 115,\n",
       " 'aashiq': 116,\n",
       " 'aashram': 117,\n",
       " 'aashuo': 118,\n",
       " 'aashuon': 119,\n",
       " 'aaspaas': 120,\n",
       " 'aaspas': 121,\n",
       " 'aat': 122,\n",
       " 'aata': 123,\n",
       " 'aate': 124,\n",
       " 'aath': 125,\n",
       " 'aati': 126,\n",
       " 'aatma': 127,\n",
       " 'aatmhatya': 128,\n",
       " 'aatwa': 129,\n",
       " 'aau': 130,\n",
       " 'aaugi': 131,\n",
       " 'aaun': 132,\n",
       " 'aaunga': 133,\n",
       " 'aaungi': 134,\n",
       " 'aauuch': 135,\n",
       " 'aavaaz': 136,\n",
       " 'aawar': 137,\n",
       " 'aawaz': 138,\n",
       " 'aaya': 139,\n",
       " 'aaye': 140,\n",
       " 'aayega': 141,\n",
       " 'aayegi': 142,\n",
       " 'aayein': 143,\n",
       " 'aayen': 144,\n",
       " 'aayenge': 145,\n",
       " 'aayi': 146,\n",
       " 'aayie': 147,\n",
       " 'aayiega': 148,\n",
       " 'aayiye': 149,\n",
       " 'aayrga': 150,\n",
       " 'ab': 151,\n",
       " 'abadmiration': 152,\n",
       " 'abb': 153,\n",
       " 'abbi': 154,\n",
       " 'abdul': 155,\n",
       " 'abe': 156,\n",
       " 'abhagan': 157,\n",
       " 'abhee': 158,\n",
       " 'abhhi': 159,\n",
       " 'abhinav': 160,\n",
       " 'abhishek': 161,\n",
       " 'abhraham': 162,\n",
       " 'abracadabra': 163,\n",
       " 'absense': 164,\n",
       " 'abshagun': 165,\n",
       " 'absolutaily': 166,\n",
       " 'absolutely': 167,\n",
       " 'ac': 168,\n",
       " 'accept': 169,\n",
       " 'acceptance': 170,\n",
       " 'accepted': 171,\n",
       " 'accessories': 172,\n",
       " 'accha': 173,\n",
       " 'acchaa': 174,\n",
       " 'acchche': 175,\n",
       " 'acche': 176,\n",
       " 'acchha': 177,\n",
       " 'acchhi': 178,\n",
       " 'acchi': 179,\n",
       " 'accident': 180,\n",
       " 'accurate': 181,\n",
       " 'acha': 182,\n",
       " 'achaa': 183,\n",
       " 'achaanak': 184,\n",
       " 'achanak': 185,\n",
       " 'achar': 186,\n",
       " 'acharya': 187,\n",
       " 'achcha': 188,\n",
       " 'achchha': 189,\n",
       " 'achchhi': 190,\n",
       " 'ache': 191,\n",
       " 'acherkar': 192,\n",
       " 'achha': 193,\n",
       " 'achhcha': 194,\n",
       " 'achhe': 195,\n",
       " 'achhi': 196,\n",
       " 'achi': 197,\n",
       " 'achievement': 198,\n",
       " 'achting': 199,\n",
       " 'acid': 200,\n",
       " 'acidity': 201,\n",
       " 'acknowledgement': 202,\n",
       " 'act': 203,\n",
       " 'acterious': 204,\n",
       " 'acting': 205,\n",
       " 'action': 206,\n",
       " 'activate': 207,\n",
       " 'activist': 208,\n",
       " 'activity': 209,\n",
       " 'actor': 210,\n",
       " 'actors': 211,\n",
       " 'actress': 212,\n",
       " 'actual': 213,\n",
       " 'actually': 214,\n",
       " 'ad': 215,\n",
       " 'ada': 216,\n",
       " 'adab': 217,\n",
       " 'adam': 218,\n",
       " 'adarshkari': 219,\n",
       " 'adas': 220,\n",
       " 'adat': 221,\n",
       " 'add': 222,\n",
       " 'addict': 223,\n",
       " 'address': 224,\n",
       " 'adha': 225,\n",
       " 'adhe': 226,\n",
       " 'adhi': 227,\n",
       " 'adhikar': 228,\n",
       " 'adhura': 229,\n",
       " 'adilli': 230,\n",
       " 'adimanab': 231,\n",
       " 'adki': 232,\n",
       " 'admi': 233,\n",
       " 'admit': 234,\n",
       " 'adorable': 235,\n",
       " 'adressses': 236,\n",
       " 'adrishya': 237,\n",
       " 'adult': 238,\n",
       " 'advani': 239,\n",
       " 'advantage': 240,\n",
       " 'advertisements': 241,\n",
       " 'advik': 242,\n",
       " 'advise': 243,\n",
       " 'advisor': 244,\n",
       " 'advocate': 245,\n",
       " 'ae': 246,\n",
       " 'aeee': 247,\n",
       " 'aega': 248,\n",
       " 'aeroplane': 249,\n",
       " 'aesa': 250,\n",
       " 'aese': 251,\n",
       " 'aey': 252,\n",
       " 'affair': 253,\n",
       " 'afraid': 254,\n",
       " 'africa': 255,\n",
       " 'african': 256,\n",
       " 'afsos': 257,\n",
       " 'afterall': 258,\n",
       " 'afwah': 259,\n",
       " 'aga': 260,\n",
       " 'agadam': 261,\n",
       " 'again…': 262,\n",
       " 'agale': 263,\n",
       " 'agar': 264,\n",
       " 'age': 265,\n",
       " 'ageing': 266,\n",
       " 'ageya': 267,\n",
       " 'agge': 268,\n",
       " 'agla': 269,\n",
       " 'agle': 270,\n",
       " 'agli': 271,\n",
       " 'agnihotri': 272,\n",
       " 'agony': 273,\n",
       " 'agr': 274,\n",
       " 'agrawal': 275,\n",
       " 'agree': 276,\n",
       " 'agreement': 277,\n",
       " 'ah': 278,\n",
       " 'aha': 279,\n",
       " 'ahah': 280,\n",
       " 'ahaha': 281,\n",
       " 'ahahaha': 282,\n",
       " 'ahahahah': 283,\n",
       " 'ahahahaha': 284,\n",
       " 'ahahan': 285,\n",
       " 'ahan': 286,\n",
       " 'ahead': 287,\n",
       " 'ahem': 288,\n",
       " 'ahh': 289,\n",
       " 'ahha': 290,\n",
       " 'ahhh': 291,\n",
       " 'ahhhh': 292,\n",
       " 'ahhhhhhaaaaaa': 293,\n",
       " 'ahhuhhh': 294,\n",
       " 'ahi': 295,\n",
       " 'ahluwalia': 296,\n",
       " 'ahmdeba': 297,\n",
       " 'ahsaan': 298,\n",
       " 'ahsaas': 299,\n",
       " 'ahsaasapne': 300,\n",
       " 'ahuja': 301,\n",
       " 'ai': 302,\n",
       " 'aid': 303,\n",
       " 'aie': 304,\n",
       " 'aigo': 305,\n",
       " 'aila': 306,\n",
       " 'ailaichtrichity': 307,\n",
       " 'ailaivator': 308,\n",
       " 'ainda': 309,\n",
       " 'air': 310,\n",
       " 'airhostess': 311,\n",
       " 'airline': 312,\n",
       " 'airplane': 313,\n",
       " 'airport': 314,\n",
       " 'aisa': 315,\n",
       " 'aisee': 316,\n",
       " 'aisehi': 317,\n",
       " 'aisi': 318,\n",
       " 'aitaraaz': 319,\n",
       " 'aixplain': 320,\n",
       " 'aixtr': 321,\n",
       " 'aiye': 322,\n",
       " 'aiyega': 323,\n",
       " 'aj': 324,\n",
       " 'aja': 325,\n",
       " 'ajanta': 326,\n",
       " 'ajao': 327,\n",
       " 'ajay': 328,\n",
       " 'ajeeb': 329,\n",
       " 'ajkaal': 330,\n",
       " 'ajkal': 331,\n",
       " 'akaar': 332,\n",
       " 'akal': 333,\n",
       " 'akar': 334,\n",
       " 'ake': 335,\n",
       " 'akela': 336,\n",
       " 'akele': 337,\n",
       " 'akeli': 338,\n",
       " 'akhabaar': 339,\n",
       " 'akhabar': 340,\n",
       " 'akhabar…': 341,\n",
       " 'akhbaar': 342,\n",
       " 'akhbaaro': 343,\n",
       " 'akhbar': 344,\n",
       " 'akhbaro': 345,\n",
       " 'akhir': 346,\n",
       " 'akhiri': 347,\n",
       " 'akhri': 348,\n",
       " 'akhtar': 349,\n",
       " 'akkha': 350,\n",
       " 'aksar': 351,\n",
       " 'aksarc': 352,\n",
       " 'akshay': 353,\n",
       " 'al': 354,\n",
       " 'alag': 355,\n",
       " 'alamaaree': 356,\n",
       " 'alap': 357,\n",
       " 'alarm': 358,\n",
       " 'alava': 359,\n",
       " 'alawa': 360,\n",
       " 'albert': 361,\n",
       " 'album': 362,\n",
       " 'ali': 363,\n",
       " 'alibaug': 364,\n",
       " 'aliens': 365,\n",
       " 'alike': 366,\n",
       " 'alka': 367,\n",
       " 'allah': 368,\n",
       " 'allergy': 369,\n",
       " 'alliance': 370,\n",
       " 'allow': 371,\n",
       " 'allowed': 372,\n",
       " 'alls': 373,\n",
       " 'almari': 374,\n",
       " 'almost': 375,\n",
       " 'alone': 376,\n",
       " 'alpabiram': 377,\n",
       " 'alphabet': 378,\n",
       " 'already': 379,\n",
       " 'alright': 380,\n",
       " 'alsi': 381,\n",
       " 'also': 382,\n",
       " 'alter': 383,\n",
       " 'alu': 384,\n",
       " 'aluwaliya': 385,\n",
       " 'always': 386,\n",
       " 'amar': 387,\n",
       " 'amateur': 388,\n",
       " 'amavas': 389,\n",
       " 'amazing': 390,\n",
       " 'ambhol': 391,\n",
       " 'amblani': 392,\n",
       " 'ambulance': 393,\n",
       " 'america': 394,\n",
       " 'american': 395,\n",
       " 'ami': 396,\n",
       " 'amitab': 397,\n",
       " 'amrd': 398,\n",
       " 'amritsari': 399,\n",
       " 'ana': 400,\n",
       " 'anaadi': 401,\n",
       " 'anaaj': 402,\n",
       " 'anaath': 403,\n",
       " 'anab': 404,\n",
       " 'anamika': 405,\n",
       " 'anand': 406,\n",
       " 'anant': 407,\n",
       " 'anari': 408,\n",
       " 'anath': 409,\n",
       " 'anathashram': 410,\n",
       " 'anaway': 411,\n",
       " 'ana’': 412,\n",
       " 'anchahi': 413,\n",
       " 'anchar': 414,\n",
       " 'andaar': 415,\n",
       " 'andaaz': 416,\n",
       " 'andar': 417,\n",
       " 'andarandar': 418,\n",
       " 'ande': 419,\n",
       " 'andha': 420,\n",
       " 'andhabiswas': 421,\n",
       " 'andhamakta': 422,\n",
       " 'andhbiswas': 423,\n",
       " 'andhe': 424,\n",
       " 'andhera': 425,\n",
       " 'andhere': 426,\n",
       " 'andheree': 427,\n",
       " 'andhvishwas': 428,\n",
       " 'andolan': 429,\n",
       " 'ane': 430,\n",
       " 'angane': 431,\n",
       " 'angdayi': 432,\n",
       " 'angeles': 433,\n",
       " 'angoor': 434,\n",
       " 'angrayi': 435,\n",
       " 'angrej': 436,\n",
       " 'angrez': 437,\n",
       " 'angry': 438,\n",
       " 'anil': 439,\n",
       " 'animal': 440,\n",
       " 'animals': 441,\n",
       " 'anirudh': 442,\n",
       " 'anita': 443,\n",
       " 'anjaan': 444,\n",
       " 'anjir': 445,\n",
       " 'anju': 446,\n",
       " 'ankhein': 447,\n",
       " 'ankhen': 448,\n",
       " 'ankhon': 449,\n",
       " 'anniversaries': 450,\n",
       " 'anniversary': 451,\n",
       " 'announcement': 452,\n",
       " 'annual': 453,\n",
       " 'another': 454,\n",
       " 'anshan': 455,\n",
       " 'ansu': 456,\n",
       " 'answer': 457,\n",
       " 'antakshari': 458,\n",
       " 'antar': 459,\n",
       " 'anth': 460,\n",
       " 'anti': 461,\n",
       " 'antibai': 462,\n",
       " 'anticipated': 463,\n",
       " 'anticipatory': 464,\n",
       " 'antidote': 465,\n",
       " 'antim': 466,\n",
       " 'antiquai': 467,\n",
       " 'antiquais': 468,\n",
       " 'antique': 469,\n",
       " 'antiques': 470,\n",
       " 'anu': 471,\n",
       " 'anuradha': 472,\n",
       " 'anusthan': 473,\n",
       " 'anyaay': 474,\n",
       " 'anyime': 475,\n",
       " 'anything': 476,\n",
       " 'anytime': 477,\n",
       " 'anyway': 478,\n",
       " 'anyways': 479,\n",
       " 'ao': 480,\n",
       " 'aoge': 481,\n",
       " 'ap': 482,\n",
       " 'apaan': 483,\n",
       " 'apahij': 484,\n",
       " 'apamaan': 485,\n",
       " 'apaman': 486,\n",
       " 'apanee': 487,\n",
       " 'apartment': 488,\n",
       " 'aphi': 489,\n",
       " 'apka': 490,\n",
       " 'apke': 491,\n",
       " 'apki': 492,\n",
       " 'apko': 493,\n",
       " 'apman': 494,\n",
       " 'apna': 495,\n",
       " 'apne': 496,\n",
       " 'apni': 497,\n",
       " 'apology': 498,\n",
       " 'app': 499,\n",
       " 'apparently': 500,\n",
       " 'appeal': 501,\n",
       " 'appears': 502,\n",
       " 'apple': 503,\n",
       " 'appliances': 504,\n",
       " 'apply': 505,\n",
       " 'appne': 506,\n",
       " 'appointment': 507,\n",
       " 'approve': 508,\n",
       " 'aprty': 509,\n",
       " 'apse': 510,\n",
       " 'apun': 511,\n",
       " 'aqal': 512,\n",
       " 'aquarim': 513,\n",
       " 'araam': 514,\n",
       " 'arahi': 515,\n",
       " 'aray': 516,\n",
       " 'area': 517,\n",
       " 'aree': 518,\n",
       " 'areh': 519,\n",
       " 'arey': 520,\n",
       " 'arghh': 521,\n",
       " 'argue': 522,\n",
       " 'argument': 523,\n",
       " 'arguments': 524,\n",
       " 'armaa': 525,\n",
       " 'armaan': 526,\n",
       " 'armour': 527,\n",
       " 'aroma': 528,\n",
       " 'around': 529,\n",
       " 'arpit': 530,\n",
       " 'arrange': 531,\n",
       " 'arrangement': 532,\n",
       " 'arre': 533,\n",
       " 'arrest': 534,\n",
       " 'arrey': 535,\n",
       " 'arrived': 536,\n",
       " 'arrogance': 537,\n",
       " 'arrre': 538,\n",
       " 'art': 539,\n",
       " 'arteritis': 540,\n",
       " 'artheritis': 541,\n",
       " 'arthi': 542,\n",
       " 'artical': 543,\n",
       " 'article': 544,\n",
       " 'artificial': 545,\n",
       " 'artist': 546,\n",
       " 'arusha': 547,\n",
       " 'asafal': 548,\n",
       " 'asan': 549,\n",
       " 'asani': 550,\n",
       " 'asar': 551,\n",
       " 'ashamed': 552,\n",
       " 'ashmit': 553,\n",
       " 'ashram': 554,\n",
       " 'asia': 555,\n",
       " 'aside': 556,\n",
       " 'asked': 557,\n",
       " 'asli': 558,\n",
       " 'asmaan': 559,\n",
       " 'ass': 560,\n",
       " 'assistant': 561,\n",
       " 'assistants': 562,\n",
       " 'association': 563,\n",
       " 'assume': 564,\n",
       " 'asterisk': 565,\n",
       " 'asthma': 566,\n",
       " 'astitwo': 567,\n",
       " 'ataa': 568,\n",
       " 'atak': 569,\n",
       " 'atakta': 570,\n",
       " 'atakti': 571,\n",
       " 'atal': 572,\n",
       " 'ate': 573,\n",
       " 'ati': 574,\n",
       " 'atka': 575,\n",
       " 'atke': 576,\n",
       " 'atleast': 577,\n",
       " 'atma': 578,\n",
       " 'atmaa': 579,\n",
       " 'atmahatya': 580,\n",
       " 'atmasamman': 581,\n",
       " 'atmosphere': 582,\n",
       " 'atrochious': 583,\n",
       " 'attack': 584,\n",
       " 'attempt': 585,\n",
       " 'attempted': 586,\n",
       " 'attend': 587,\n",
       " 'attorney': 588,\n",
       " 'attract': 589,\n",
       " 'attractive': 590,\n",
       " 'atyachar': 591,\n",
       " 'au': 592,\n",
       " 'auction': 593,\n",
       " 'audience': 594,\n",
       " 'auditorium': 595,\n",
       " 'auditory': 596,\n",
       " 'aue': 597,\n",
       " 'august': 598,\n",
       " 'aulad': 599,\n",
       " 'aungi': 600,\n",
       " 'aunti': 601,\n",
       " 'auntie': 602,\n",
       " 'aunty': 603,\n",
       " 'aunty”': 604,\n",
       " 'aur': 605,\n",
       " 'aurat': 606,\n",
       " 'aurate': 607,\n",
       " 'auratein': 608,\n",
       " 'auratonke': 609,\n",
       " 'auratonki': 610,\n",
       " 'aurtein': 611,\n",
       " 'aurto': 612,\n",
       " 'auto': 613,\n",
       " 'autograph': 614,\n",
       " 'automatic': 615,\n",
       " 'automatically': 616,\n",
       " 'auuuu': 617,\n",
       " 'auuuuu': 618,\n",
       " 'avarage': 619,\n",
       " 'avashya': 620,\n",
       " 'avlad': 621,\n",
       " 'awaaw': 622,\n",
       " 'awaaz': 623,\n",
       " 'awaj': 624,\n",
       " 'award': 625,\n",
       " 'awards': 626,\n",
       " 'awardwinning': 627,\n",
       " 'away': 628,\n",
       " 'awaz': 629,\n",
       " 'awoogi': 630,\n",
       " 'aww': 631,\n",
       " 'axis': 632,\n",
       " 'ay': 633,\n",
       " 'aya': 634,\n",
       " 'aye': 635,\n",
       " 'ayega': 636,\n",
       " 'ayegi': 637,\n",
       " 'ayenge': 638,\n",
       " 'ayengi': 639,\n",
       " 'ayi': 640,\n",
       " 'ayie': 641,\n",
       " 'ayiye': 642,\n",
       " 'ayo': 643,\n",
       " 'ayu': 644,\n",
       " 'ayungi': 645,\n",
       " 'ayurvedic': 646,\n",
       " 'ayy': 647,\n",
       " 'ayyy': 648,\n",
       " 'azad': 649,\n",
       " 'azadi': 650,\n",
       " 'azmi': 651,\n",
       " 'b': 652,\n",
       " 'ba': 653,\n",
       " 'baa': 654,\n",
       " 'baaat': 655,\n",
       " 'baabul': 656,\n",
       " 'baach': 657,\n",
       " 'baacha': 658,\n",
       " 'baad': 659,\n",
       " 'baadashaah': 660,\n",
       " 'baade': 661,\n",
       " 'baadmein': 662,\n",
       " 'baaghna': 663,\n",
       " 'baahar': 664,\n",
       " 'baai': 665,\n",
       " 'baaj': 666,\n",
       " 'baaje': 667,\n",
       " 'baajoo': 668,\n",
       " 'baajre': 669,\n",
       " 'baaju': 670,\n",
       " 'baaki': 671,\n",
       " 'baakt': 672,\n",
       " 'baal': 673,\n",
       " 'baali': 674,\n",
       " 'baalo': 675,\n",
       " 'baalon': 676,\n",
       " 'baan': 677,\n",
       " 'baancha': 678,\n",
       " 'baand': 679,\n",
       " 'baandh': 680,\n",
       " 'baandhte': 681,\n",
       " 'baandne': 682,\n",
       " 'baantenge': 683,\n",
       " 'baap': 684,\n",
       " 'baapre': 685,\n",
       " 'baar': 686,\n",
       " 'baarat': 687,\n",
       " 'baare': 688,\n",
       " 'baarf': 689,\n",
       " 'baarfi': 690,\n",
       " 'baari': 691,\n",
       " 'baas': 692,\n",
       " 'baasi': 693,\n",
       " 'baat': 694,\n",
       " 'baataiye': 695,\n",
       " 'baate': 696,\n",
       " 'baatein': 697,\n",
       " 'baaten': 698,\n",
       " 'baaton': 699,\n",
       " 'baaz': 700,\n",
       " 'baazi': 701,\n",
       " 'baba': 702,\n",
       " 'babao…byee': 703,\n",
       " 'babe': 704,\n",
       " 'babla': 705,\n",
       " 'babloo': 706,\n",
       " 'babra': 707,\n",
       " 'babu': 708,\n",
       " 'babuchak': 709,\n",
       " 'babul': 710,\n",
       " 'babulaa': 711,\n",
       " 'babulaaaa': 712,\n",
       " 'babulnath': 713,\n",
       " 'babuni': 714,\n",
       " 'baby': 715,\n",
       " 'baccha': 716,\n",
       " 'baccha…agar': 717,\n",
       " 'baccha…sensational': 718,\n",
       " 'bacche': 719,\n",
       " 'bacchi': 720,\n",
       " 'baccho': 721,\n",
       " 'bacchon': 722,\n",
       " 'bach': 723,\n",
       " 'bacha': 724,\n",
       " 'bachaana': 725,\n",
       " 'bachae': 726,\n",
       " 'bachan': 727,\n",
       " 'bachane': 728,\n",
       " 'bachao': 729,\n",
       " 'bachapan': 730,\n",
       " 'bachat': 731,\n",
       " 'bachaya': 732,\n",
       " 'bachaye': 733,\n",
       " 'bachayega': 734,\n",
       " 'bachayi': 735,\n",
       " 'bachcha': 736,\n",
       " 'bachche': 737,\n",
       " 'bache': 738,\n",
       " 'bachegi': 739,\n",
       " 'bachelor': 740,\n",
       " 'bachelorhood': 741,\n",
       " 'bachenge': 742,\n",
       " 'bachha': 743,\n",
       " 'bachho': 744,\n",
       " 'bachi': 745,\n",
       " 'bachke': 746,\n",
       " 'bachne': 747,\n",
       " 'bachonke': 748,\n",
       " 'bachpan': 749,\n",
       " 'bachpana': 750,\n",
       " 'back': 751,\n",
       " 'background': 752,\n",
       " 'backstabbing': 753,\n",
       " 'backstage': 754,\n",
       " 'bacpan': 755,\n",
       " 'bad': 756,\n",
       " 'badal': 757,\n",
       " 'badala': 758,\n",
       " 'badale': 759,\n",
       " 'badalkar': 760,\n",
       " 'badalna': 761,\n",
       " 'badalne': 762,\n",
       " 'badalti': 763,\n",
       " 'badam': 764,\n",
       " 'badan': 765,\n",
       " 'badaya': 766,\n",
       " 'badboo': 767,\n",
       " 'badbu': 768,\n",
       " 'badbye': 769,\n",
       " 'baddi': 770,\n",
       " 'bade': 771,\n",
       " 'badh': 772,\n",
       " 'badha': 773,\n",
       " 'badhai': 774,\n",
       " 'badhi': 775,\n",
       " 'badhiya': 776,\n",
       " 'badhkaya': 777,\n",
       " 'badi': 778,\n",
       " 'badibadi': 779,\n",
       " 'badla': 780,\n",
       " 'badle': 781,\n",
       " 'badlo': 782,\n",
       " 'badmaas': 783,\n",
       " 'badmaash': 784,\n",
       " 'badmash': 785,\n",
       " 'badon': 786,\n",
       " 'badsoorat': 787,\n",
       " 'badta': 788,\n",
       " 'bag': 789,\n",
       " 'bagair': 790,\n",
       " 'bagal': 791,\n",
       " 'bagar': 792,\n",
       " 'bagaya': 793,\n",
       " 'bagdam': 794,\n",
       " 'bagera': 795,\n",
       " 'baggage': 796,\n",
       " 'baggu': 797,\n",
       " 'bagiche': 798,\n",
       " 'bagichekuchh': 799,\n",
       " 'bah': 800,\n",
       " 'bahaar': 801,\n",
       " 'bahadur': 802,\n",
       " 'bahan': 803,\n",
       " 'bahana': 804,\n",
       " 'bahane': 805,\n",
       " 'bahar': 806,\n",
       " 'bahat': 807,\n",
       " 'bahera': 808,\n",
       " 'bahin': 809,\n",
       " 'bahishkar': 810,\n",
       " 'bahlane': 811,\n",
       " 'bahr': 812,\n",
       " 'bahre': 813,\n",
       " 'bahu': 814,\n",
       " 'bahunei': 815,\n",
       " 'bahut': 816,\n",
       " 'bahuuu': 817,\n",
       " 'bai': 818,\n",
       " 'bail': 819,\n",
       " 'bail…': 820,\n",
       " 'baith': 821,\n",
       " 'baitha': 822,\n",
       " 'baithana': 823,\n",
       " 'baithata': 824,\n",
       " 'baithe': 825,\n",
       " 'baithega': 826,\n",
       " 'baithegi': 827,\n",
       " 'baithi': 828,\n",
       " 'baithie': 829,\n",
       " 'baithiye': 830,\n",
       " 'baithkar': 831,\n",
       " 'baithna': 832,\n",
       " 'baitho': 833,\n",
       " 'baithook': 834,\n",
       " 'baithti': 835,\n",
       " 'baithu': 836,\n",
       " 'baj': 837,\n",
       " 'baja': 838,\n",
       " 'bajai': 839,\n",
       " 'bajaie': 840,\n",
       " 'bajaiye': 841,\n",
       " 'bajana': 842,\n",
       " 'bajane': 843,\n",
       " 'bajati': 844,\n",
       " 'bajay': 845,\n",
       " 'bajaye': 846,\n",
       " 'baje': 847,\n",
       " 'baji': 848,\n",
       " 'bajta': 849,\n",
       " 'baju': 850,\n",
       " 'bak': 851,\n",
       " 'bakabak': 852,\n",
       " 'bakasur': 853,\n",
       " 'bakavaas': 854,\n",
       " 'baked': 855,\n",
       " 'baki': 856,\n",
       " 'bako': 857,\n",
       " 'bakora': 858,\n",
       " 'bakriyan': 859,\n",
       " 'bakshenge': 860,\n",
       " 'bakshish': 861,\n",
       " 'bakt': 862,\n",
       " 'bakuda': 863,\n",
       " 'bakura': 864,\n",
       " 'bakurda': 865,\n",
       " 'bakure': 866,\n",
       " 'bakwaas': 867,\n",
       " 'bakwas': 868,\n",
       " 'bal': 869,\n",
       " 'balance': 870,\n",
       " 'balcony': 871,\n",
       " 'balderdash': 872,\n",
       " 'baldev': 873,\n",
       " 'balhein': 874,\n",
       " 'baliye': 875,\n",
       " 'balke': 876,\n",
       " 'balki': 877,\n",
       " 'ball': 878,\n",
       " 'ballavdas': 879,\n",
       " 'ballpen': 880,\n",
       " 'balm': 881,\n",
       " 'balon': 882,\n",
       " 'balti': 883,\n",
       " 'balwadi': 884,\n",
       " 'balwinder': 885,\n",
       " 'ban': 886,\n",
       " 'bana': 887,\n",
       " 'banaa': 888,\n",
       " 'banaaiye': 889,\n",
       " 'banaake': 890,\n",
       " 'banae': 891,\n",
       " 'banaee': 892,\n",
       " 'banaenge': 893,\n",
       " 'banai': 894,\n",
       " 'banaie': 895,\n",
       " 'banaiye': 896,\n",
       " 'banakar': 897,\n",
       " 'banake': 898,\n",
       " 'banalete': 899,\n",
       " 'banalo': 900,\n",
       " 'banana': 901,\n",
       " 'banana’': 902,\n",
       " 'banane': 903,\n",
       " 'bananeko': 904,\n",
       " 'banao': 905,\n",
       " 'banarash': 906,\n",
       " 'banata': 907,\n",
       " 'banate': 908,\n",
       " 'banati': 909,\n",
       " 'banau': 910,\n",
       " 'banay': 911,\n",
       " 'banaya': 912,\n",
       " 'banaye': 913,\n",
       " 'banayenge': 914,\n",
       " 'banayi': 915,\n",
       " 'banayu': 916,\n",
       " 'band': 917,\n",
       " 'banda': 918,\n",
       " 'bandal': 919,\n",
       " 'bandar': 920,\n",
       " 'bande': 921,\n",
       " 'bandh': 922,\n",
       " 'bandhi': 923,\n",
       " 'bandhne': 924,\n",
       " 'bandi': 925,\n",
       " 'bandne': 926,\n",
       " 'bane': 927,\n",
       " 'banega': 928,\n",
       " 'banegi': 929,\n",
       " 'banenge': 930,\n",
       " 'banerjee': 931,\n",
       " 'bangladesh': 932,\n",
       " 'banhisyat': 933,\n",
       " 'baniyan': 934,\n",
       " 'baniye': 935,\n",
       " 'bank': 936,\n",
       " 'banke': 937,\n",
       " 'bann': 938,\n",
       " 'banna': 939,\n",
       " 'banne': 940,\n",
       " 'banned': 941,\n",
       " 'banni': 942,\n",
       " 'bano': 943,\n",
       " 'banoge': 944,\n",
       " 'banshali': 945,\n",
       " 'bant': 946,\n",
       " 'banta': 947,\n",
       " 'bante': 948,\n",
       " 'banti': 949,\n",
       " 'bantne': 950,\n",
       " 'banu': 951,\n",
       " 'banunga': 952,\n",
       " 'banva': 953,\n",
       " 'banvane': 954,\n",
       " 'banwa': 955,\n",
       " 'banwani': 956,\n",
       " 'bap': 957,\n",
       " 'bapas': 958,\n",
       " 'bapre': 959,\n",
       " 'bapuji': 960,\n",
       " 'baqi': 961,\n",
       " 'bar': 962,\n",
       " 'bara': 963,\n",
       " 'baraabar': 964,\n",
       " 'barabar': 965,\n",
       " 'baraf': 966,\n",
       " 'barah': 967,\n",
       " 'baranday': 968,\n",
       " 'barasti': 969,\n",
       " 'barat': 970,\n",
       " 'barbaad': 971,\n",
       " 'barbad': 972,\n",
       " 'bardaash': 973,\n",
       " 'bardaasht': 974,\n",
       " 'bardaast': 975,\n",
       " 'bardash': 976,\n",
       " 'bardasht': 977,\n",
       " 'bardast': 978,\n",
       " 'bardat': 979,\n",
       " 'bare': 980,\n",
       " 'bareme': 981,\n",
       " 'barf': 982,\n",
       " 'barfi': 983,\n",
       " 'bargain': 984,\n",
       " 'bargaining': 985,\n",
       " 'bari': 986,\n",
       " 'barma': 987,\n",
       " 'barna': 988,\n",
       " 'baroda': 989,\n",
       " 'barosha': 990,\n",
       " 'barph': 991,\n",
       " 'barshat': 992,\n",
       " 'barshi': 993,\n",
       " 'barsi': 994,\n",
       " 'bartamaan': 995,\n",
       " 'bartaman': 996,\n",
       " 'bartan': 997,\n",
       " 'bartanwaali': 998,\n",
       " 'bartanwali': 999,\n",
       " ...}"
      ]
     },
     "execution_count": 32,
     "metadata": {},
     "output_type": "execute_result"
    }
   ],
   "source": [
    "word_to_index = {word: index for index, word in enumerate(sorted_unique_words)}\n",
    "word_to_index"
   ]
  },
  {
   "cell_type": "markdown",
   "id": "f17901c2-a730-40fe-a93d-34a168e5f84d",
   "metadata": {},
   "source": [
    "# Add one words for unknown words"
   ]
  },
  {
   "cell_type": "code",
   "execution_count": 33,
   "id": "e7ec55b5",
   "metadata": {},
   "outputs": [],
   "source": [
    "word_to_index['unknown_word'] = len(word_to_index)\n",
    "sorted_unique_words.append('unknown_word')"
   ]
  },
  {
   "cell_type": "code",
   "execution_count": 34,
   "id": "4eb08ef8",
   "metadata": {},
   "outputs": [
    {
     "data": {
      "text/plain": [
       "'unknown_word'"
      ]
     },
     "execution_count": 34,
     "metadata": {},
     "output_type": "execute_result"
    }
   ],
   "source": [
    "sorted_unique_words[-1]"
   ]
  },
  {
   "cell_type": "markdown",
   "id": "41885cbb-91c6-48e8-8e2f-ab8796324876",
   "metadata": {},
   "source": [
    "# Vectorize the text"
   ]
  },
  {
   "cell_type": "code",
   "execution_count": 35,
   "id": "064286ca",
   "metadata": {},
   "outputs": [],
   "source": [
    "import numpy as np\n",
    "\n",
    "# Function to vectorize the text\n",
    "def vectorize_text(text, unique_words_list):\n",
    "    word_to_index = {word: index for index, word in enumerate(unique_words_list)}\n",
    "    total_length = len(unique_words_list)\n",
    "    sentence_vector = np.zeros(total_length)\n",
    "    \n",
    "    words = text.split()\n",
    "    for word in words:\n",
    "        if word in word_to_index:\n",
    "            word_vector = np.zeros(total_length)\n",
    "            word_vector[word_to_index[word]] = 1\n",
    "            sentence_vector += word_vector \n",
    "        else:\n",
    "            word_vector = np.zeros(total_length)\n",
    "            word_vector[-1] = 1\n",
    "            sentence_vector += word_vector\n",
    "\n",
    "    # Normalize the sentence vector by dividing by the total length of the sentence\n",
    "    if len(words) > 0:\n",
    "        sentence_vector /= len(words)\n",
    "    \n",
    "    return sentence_vector\n",
    "\n",
    "# Creating a dictionary to store the vectors\n",
    "vectors_dict = {}\n",
    "\n",
    "for index, row in train.iterrows():\n",
    "    vectors_dict[index] = vectorize_text(row['Clean_text'], sorted_unique_words)\n",
    "\n",
    "# Printing the vector for each row\n",
    "#for index, vector in vectors_dict.items():\n",
    "    #print(f\"Vector for utterance {index}: {vector}\")"
   ]
  },
  {
   "cell_type": "raw",
   "id": "c68d928e-0499-40fc-b274-2ed91455d058",
   "metadata": {},
   "source": [
    "\n",
    "# Function to vectorize the text\n",
    "def vectorize_text(text, unique_words_list):\n",
    "    word_to_index = {word: index for index, word in enumerate(unique_words_list)}\n",
    "    vector = np.zeros(len(unique_words_list))  \n",
    "    words = text.split()\n",
    "    for word in words:\n",
    "        if word in word_to_index:\n",
    "            vector[word_to_index[word]] += 1\n",
    "        else:\n",
    "            vector[-1] += 1  # Increment for unknown words\n",
    "    return vector\n",
    "\n",
    "# Creating a dictionary to store the vectors\n",
    "vectors_dict = {}\n",
    "\n",
    "for index, row in train.iterrows():\n",
    "    vectors_dict[index] = vectorize_text(row['Clean_text'], sorted_unique_words)\n",
    "\n",
    "# Printing the vector for each row\n",
    "#for index, vector in vectors_dict.items():\n",
    "    \n",
    "    #print(f\"Vector for utterance {index}: {vector}\")"
   ]
  },
  {
   "cell_type": "code",
   "execution_count": null,
   "id": "87eaba13",
   "metadata": {},
   "outputs": [],
   "source": []
  },
  {
   "cell_type": "code",
   "execution_count": 36,
   "id": "e97ff37e",
   "metadata": {
    "scrolled": true
   },
   "outputs": [
    {
     "data": {
      "text/plain": [
       "0.9999999999999999"
      ]
     },
     "execution_count": 36,
     "metadata": {},
     "output_type": "execute_result"
    }
   ],
   "source": [
    "np.sum(vectors_dict[0])"
   ]
  },
  {
   "cell_type": "raw",
   "id": "c5a0844f",
   "metadata": {},
   "source": [
    "vectorize form of validation set"
   ]
  },
  {
   "cell_type": "code",
   "execution_count": 37,
   "id": "659e4912",
   "metadata": {},
   "outputs": [],
   "source": [
    "# Creating a dictionary to store the vectors\n",
    "vectors_dict1 = {}\n",
    "\n",
    "for index, row in validation.iterrows():\n",
    "    vectors_dict1[index] = vectorize_text(row['Clean_text'], sorted_unique_words)"
   ]
  },
  {
   "cell_type": "raw",
   "id": "13624684",
   "metadata": {},
   "source": [
    "# Use sklearn packages"
   ]
  },
  {
   "cell_type": "code",
   "execution_count": 38,
   "id": "fab748bc",
   "metadata": {},
   "outputs": [
    {
     "data": {
      "text/plain": [
       "array([[0., 0., 0., ..., 0., 0., 0.],\n",
       "       [0., 0., 0., ..., 0., 0., 0.],\n",
       "       [0., 0., 0., ..., 0., 0., 0.],\n",
       "       ...,\n",
       "       [0., 0., 0., ..., 0., 0., 0.],\n",
       "       [0., 0., 0., ..., 0., 0., 0.],\n",
       "       [0., 0., 0., ..., 0., 0., 0.]])"
      ]
     },
     "execution_count": 38,
     "metadata": {},
     "output_type": "execute_result"
    }
   ],
   "source": [
    "X_train = np.array(list(vectors_dict.values()))\n",
    "X_train"
   ]
  },
  {
   "cell_type": "code",
   "execution_count": 39,
   "id": "ad4029c0",
   "metadata": {},
   "outputs": [
    {
     "data": {
      "text/plain": [
       "array([[0.        , 0.        , 0.        , ..., 0.        , 0.        ,\n",
       "        0.15384615],\n",
       "       [0.        , 0.        , 0.        , ..., 0.        , 0.        ,\n",
       "        0.22222222],\n",
       "       [0.        , 0.        , 0.        , ..., 0.        , 0.        ,\n",
       "        0.        ],\n",
       "       ...,\n",
       "       [0.        , 0.        , 0.        , ..., 0.        , 0.        ,\n",
       "        0.        ],\n",
       "       [0.        , 0.        , 0.        , ..., 0.        , 0.        ,\n",
       "        0.        ],\n",
       "       [0.        , 0.        , 0.        , ..., 0.        , 0.        ,\n",
       "        0.08695652]])"
      ]
     },
     "execution_count": 39,
     "metadata": {},
     "output_type": "execute_result"
    }
   ],
   "source": [
    "X_validation = np.array(list(vectors_dict1.values()))\n",
    "X_validation"
   ]
  },
  {
   "cell_type": "code",
   "execution_count": 40,
   "id": "911f0e47",
   "metadata": {},
   "outputs": [
    {
     "data": {
      "text/plain": [
       "0        disgust\n",
       "1       contempt\n",
       "2          anger\n",
       "3        neutral\n",
       "4        neutral\n",
       "          ...   \n",
       "8501     sadness\n",
       "8502       anger\n",
       "8503         joy\n",
       "8504        fear\n",
       "8505     disgust\n",
       "Name: Emotions, Length: 8506, dtype: object"
      ]
     },
     "execution_count": 40,
     "metadata": {},
     "output_type": "execute_result"
    }
   ],
   "source": [
    "y_train = train['Emotions']\n",
    "y_train"
   ]
  },
  {
   "cell_type": "code",
   "execution_count": 41,
   "id": "f8ddf6a7",
   "metadata": {},
   "outputs": [
    {
     "data": {
      "text/plain": [
       "0        neutral\n",
       "1        neutral\n",
       "2        neutral\n",
       "3       contempt\n",
       "4        neutral\n",
       "          ...   \n",
       "1349        fear\n",
       "1350     neutral\n",
       "1351     sadness\n",
       "1352     neutral\n",
       "1353        fear\n",
       "Name: Emotions, Length: 1354, dtype: object"
      ]
     },
     "execution_count": 41,
     "metadata": {},
     "output_type": "execute_result"
    }
   ],
   "source": [
    "y_validation = validation[\"Emotions\"]\n",
    "y_validation"
   ]
  },
  {
   "cell_type": "markdown",
   "id": "af1b8401",
   "metadata": {},
   "source": [
    "# Fit the KNN model"
   ]
  },
  {
   "cell_type": "code",
   "execution_count": 41,
   "id": "85d9dc7b",
   "metadata": {},
   "outputs": [
    {
     "data": {
      "image/png": "[encoded data removed]",
      "text/plain": [
       "<Figure size 1000x600 with 1 Axes>"
      ]
     },
     "metadata": {},
     "output_type": "display_data"
    }
   ],
   "source": [
    "# Define different values of k\n",
    "k_values = [1, 3, 5, 7, 9, 11,13]\n",
    "accuracies = []\n",
    "conf_matrices = []\n",
    "\n",
    "for k in k_values:\n",
    "    # Fitting the model\n",
    "    knn_model = KNeighborsClassifier(n_neighbors=k)\n",
    "    knn_model.fit(X_train, y_train)\n",
    "\n",
    "    # Predicting on the validation set\n",
    "    y_pred_knn = knn_model.predict(X_validation)\n",
    "\n",
    "    # Calculate the accuracy\n",
    "    accuracy_knn = accuracy_score(y_validation, y_pred_knn)\n",
    "    accuracies.append(accuracy_knn)\n",
    "\n",
    "    # Calculate the confusion matrix\n",
    "    conf_matrix = confusion_matrix(y_validation, y_pred_knn)\n",
    "    conf_matrices.append(conf_matrix)\n",
    "\n",
    "# Plotting the accuracies\n",
    "plt.figure(figsize=(10, 6))\n",
    "plt.plot(k_values, accuracies, marker='o')\n",
    "plt.title('Accuracy vs. K Value in KNN')\n",
    "plt.xlabel('K Value')\n",
    "plt.ylabel('Accuracy')\n",
    "plt.xticks(k_values)\n",
    "plt.show()"
   ]
  },
  {
   "cell_type": "raw",
   "id": "e7f6fe7e",
   "metadata": {},
   "source": [
    "#Dataframe for K value and accuracy"
   ]
  },
  {
   "cell_type": "code",
   "execution_count": 42,
   "id": "5f18c58d",
   "metadata": {},
   "outputs": [
    {
     "name": "stdout",
     "output_type": "stream",
     "text": [
      "Accuracy for k=1: 0.2621861152141802\n",
      "Accuracy for k=3: 0.16395864106351551\n",
      "Accuracy for k=5: 0.16912850812407682\n",
      "Accuracy for k=7: 0.1779911373707533\n",
      "Accuracy for k=9: 0.17872968980797638\n",
      "Accuracy for k=11: 0.17355982274741508\n",
      "Accuracy for k=13: 0.16986706056129985\n",
      "   K Value  Accuracy\n",
      "0        1  0.262186\n",
      "1        3  0.163959\n",
      "2        5  0.169129\n",
      "3        7  0.177991\n",
      "4        9  0.178730\n",
      "5       11  0.173560\n",
      "6       13  0.169867\n"
     ]
    }
   ],
   "source": [
    "import pandas as pd\n",
    "\n",
    "# Printing accuracies for different k values\n",
    "for i, k in enumerate(k_values):\n",
    "    print(f\"Accuracy for k={k}: {accuracies[i]}\")\n",
    "\n",
    "# Creating a DataFrame for k values and accuracies\n",
    "data = {'K Value': k_values, 'Accuracy': accuracies}\n",
    "df_knn = pd.DataFrame(data)\n",
    "print(df_knn)"
   ]
  },
  {
   "cell_type": "code",
   "execution_count": 43,
   "id": "e615c94a",
   "metadata": {},
   "outputs": [],
   "source": [
    "# Confusion matrix"
   ]
  },
  {
   "cell_type": "code",
   "execution_count": 44,
   "id": "01e507ba",
   "metadata": {},
   "outputs": [
    {
     "name": "stdout",
     "output_type": "stream",
     "text": [
      "Confusion Matrix for k = 1:\n",
      "[[  9   3   1   6  69  27   2   1]\n",
      " [  4   5   1   1  53   7   3   0]\n",
      " [  4   1   2   0  11   2   0   1]\n",
      " [  4   5   0   3  41  28   3   4]\n",
      " [  6  11   0   9 149  45   5   3]\n",
      " [ 24  18   1  38 341 166  29  16]\n",
      " [  1   6   1  13  71  21  11   2]\n",
      " [  2   2   2   2  32  12   4  10]]\n",
      "Confusion Matrix for k = 3:\n",
      "[[ 10   2   0   4  10  22   1  69]\n",
      " [  4   5   0   2   7   4   1  51]\n",
      " [  3   3   1   1   1   3   0   9]\n",
      " [  9   3   1   7   8  19   1  40]\n",
      " [  9  12   0  16  29  30   2 130]\n",
      " [ 45  28   3  31  71 137   6 312]\n",
      " [  4  11   2  16   7  19   3  64]\n",
      " [  5   2   1   2   8  18   0  30]]\n",
      "Confusion Matrix for k = 5:\n",
      "[[  6   0   0   3   6  22   1  80]\n",
      " [  1   0   0   2   8   7   0  56]\n",
      " [  2   2   1   1   2   2   0  11]\n",
      " [  4   2   0   5   5  24   1  47]\n",
      " [  4   8   0   5  30  39   2 140]\n",
      " [ 34   7   1  15  54 151   5 366]\n",
      " [  1   4   0  15  10  18   3  75]\n",
      " [  3   2   0   0   5  23   0  33]]\n",
      "Confusion Matrix for k = 7:\n",
      "[[  4   1   0   1   8  22   2  80]\n",
      " [  1   2   0   2   6   6   0  57]\n",
      " [  2   4   1   1   2   1   0  10]\n",
      " [  2   3   0   6  13  23   0  41]\n",
      " [  4  10   0   5  32  38   1 138]\n",
      " [ 23   8   0  10  77 158   6 351]\n",
      " [  2   1   0  11   7  21   3  81]\n",
      " [  1   1   0   0  10  18   1  35]]\n",
      "Confusion Matrix for k = 9:\n",
      "[[  2   0   0   3  14  21   2  76]\n",
      " [  1   1   0   2   7   7   0  56]\n",
      " [  3   1   0   1   3   2   0  11]\n",
      " [  4   4   0   5  14  20   0  41]\n",
      " [  2   7   0   5  37  39   2 136]\n",
      " [ 14   4   0   8 100 160   5 342]\n",
      " [  2   0   0  13  22  16   4  69]\n",
      " [  1   0   0   0  13  18   1  33]]\n",
      "Confusion Matrix for k = 11:\n",
      "[[  1   0   0   1   6  22   4  84]\n",
      " [  1   1   0   2   4   6   0  60]\n",
      " [  0   0   0   0   3   4   0  14]\n",
      " [  2   3   0   5   4  19   3  52]\n",
      " [  0   2   0   1  27  41   1 156]\n",
      " [  8   1   0   7  48 162   3 404]\n",
      " [  0   1   0   8  11  18   1  87]\n",
      " [  1   0   0   1   5  20   1  38]]\n",
      "Confusion Matrix for k = 13:\n",
      "[[  1   0   0   1   6  24   0  86]\n",
      " [  1   1   0   2   3   5   0  62]\n",
      " [  0   0   0   0   2   4   0  15]\n",
      " [  1   1   0   3   6  22   1  54]\n",
      " [  0   2   0   2  30  39   1 154]\n",
      " [  6   1   0   5  42 161   3 415]\n",
      " [  0   0   0   5  11  17   1  92]\n",
      " [  0   0   0   1  10  21   1  33]]\n"
     ]
    }
   ],
   "source": [
    "# Plotting the confusion matrices\n",
    "for i, conf_matrix in enumerate(conf_matrices):\n",
    "    print(f\"Confusion Matrix for k = {k_values[i]}:\")\n",
    "    print(conf_matrix)"
   ]
  },
  {
   "cell_type": "code",
   "execution_count": null,
   "id": "e4d775fe",
   "metadata": {},
   "outputs": [],
   "source": []
  },
  {
   "cell_type": "raw",
   "id": "eff62ad4",
   "metadata": {},
   "source": [
    "Fit SVM model"
   ]
  },
  {
   "cell_type": "code",
   "execution_count": 45,
   "id": "52038d36",
   "metadata": {},
   "outputs": [],
   "source": [
    "#rbf kernal method"
   ]
  },
  {
   "cell_type": "code",
   "execution_count": 46,
   "id": "7e29eee2",
   "metadata": {},
   "outputs": [
    {
     "name": "stdout",
     "output_type": "stream",
     "text": [
      "Confusion Matrix for SVM:\n",
      "[[ 40  24   0   6  13  22  10   3]\n",
      " [ 12  34   0   4   7   8   7   2]\n",
      " [  1   8   2   1   1   7   1   0]\n",
      " [ 16   7   0  18  10  17  15   5]\n",
      " [ 19  31   1  11  84  46  26  10]\n",
      " [ 67 107   5  46 116 195  61  36]\n",
      " [ 17  22   0  10  12  17  42   6]\n",
      " [  5  11   0   2   1  26   3  18]]\n"
     ]
    }
   ],
   "source": [
    "# Creating an SVM model\n",
    "svm_model = SVC(kernel='rbf', class_weight='balanced')  # Use 'balanced' class weight for imbalanced datasets\n",
    "svm_model.fit(X_train, y_train)\n",
    "\n",
    "# Making predictions\n",
    "y_pred_svm = svm_model.predict(X_validation)\n",
    "\n",
    "# Calculating the confusion matrix\n",
    "conf_matrix_svm = confusion_matrix(y_validation, y_pred_svm)\n",
    "print(\"Confusion Matrix for SVM:\")\n",
    "print(conf_matrix_svm)"
   ]
  },
  {
   "cell_type": "code",
   "execution_count": null,
   "id": "63cf6b93",
   "metadata": {},
   "outputs": [],
   "source": []
  },
  {
   "cell_type": "code",
   "execution_count": 47,
   "id": "1ced9665",
   "metadata": {},
   "outputs": [
    {
     "name": "stdout",
     "output_type": "stream",
     "text": [
      "Accuracy of the SVM model: 0.31979320531757754\n"
     ]
    }
   ],
   "source": [
    "from sklearn.metrics import accuracy_score\n",
    "\n",
    "accuracy_svm = accuracy_score(y_validation, y_pred_svm)\n",
    "print(f\"Accuracy of the SVM model: {accuracy_svm}\")"
   ]
  },
  {
   "cell_type": "code",
   "execution_count": null,
   "id": "1c8410b6",
   "metadata": {},
   "outputs": [],
   "source": []
  },
  {
   "cell_type": "raw",
   "id": "c66d9e9a",
   "metadata": {},
   "source": [
    "linear kernal"
   ]
  },
  {
   "cell_type": "code",
   "execution_count": 48,
   "id": "18013b32",
   "metadata": {},
   "outputs": [
    {
     "name": "stdout",
     "output_type": "stream",
     "text": [
      "Confusion Matrix for Linear SVM:\n",
      "[[ 43  28   3   4   7  15  16   2]\n",
      " [ 23  30   1   2   3   9   4   2]\n",
      " [  5   9   5   1   0   0   1   0]\n",
      " [ 24  17   1  15   2  12  14   3]\n",
      " [ 25  66   3  13  53  31  30   7]\n",
      " [116 180  13  46  58 108  78  34]\n",
      " [ 22  31   1  13   5  14  37   3]\n",
      " [  5  23   1   2   5   7   6  17]]\n",
      "Accuracy of the Linear SVM model: 0.2274741506646972\n"
     ]
    }
   ],
   "source": [
    "# Creating a linear SVM model\n",
    "linear_svm_model = SVC(kernel='linear', class_weight='balanced')  # Use 'balanced' class weight for imbalanced datasets\n",
    "linear_svm_model.fit(X_train, y_train)\n",
    "\n",
    "# Making predictions\n",
    "y_pred_linear_svm = linear_svm_model.predict(X_validation)\n",
    "\n",
    "# Calculating the confusion matrix\n",
    "conf_matrix_linear_svm = confusion_matrix(y_validation, y_pred_linear_svm)\n",
    "print(\"Confusion Matrix for Linear SVM:\")\n",
    "print(conf_matrix_linear_svm)\n",
    "\n",
    "# Calculating the accuracy\n",
    "accuracy_linear_svm = accuracy_score(y_validation, y_pred_linear_svm)\n",
    "print(f\"Accuracy of the Linear SVM model: {accuracy_linear_svm}\")"
   ]
  },
  {
   "cell_type": "code",
   "execution_count": null,
   "id": "10b4cc4d",
   "metadata": {},
   "outputs": [],
   "source": []
  },
  {
   "cell_type": "raw",
   "id": "16b22a0b",
   "metadata": {},
   "source": [
    "polynomial kernal"
   ]
  },
  {
   "cell_type": "code",
   "execution_count": 49,
   "id": "671f0bfd",
   "metadata": {},
   "outputs": [
    {
     "name": "stdout",
     "output_type": "stream",
     "text": [
      "Confusion Matrix for Polynomial SVM (Degree 3):\n",
      "[[  6 100   0   2   2   6   0   2]\n",
      " [  3  68   0   0   1   0   1   1]\n",
      " [  3  16   1   0   0   0   1   0]\n",
      " [  3  71   0   3   0   7   2   2]\n",
      " [  5 178   1   3  17  13   4   7]\n",
      " [ 19 507   6   8  16  44   8  25]\n",
      " [  3 105   0   4   1   2   8   3]\n",
      " [  4  45   0   0   1   3   0  13]]\n",
      "Accuracy of the Polynomial SVM (Degree 3) model: 0.11816838995568685\n"
     ]
    }
   ],
   "source": [
    "# Creating a polynomial SVM model with a third-degree polynomial kernel\n",
    "poly_svm_model = SVC(kernel='poly', degree=3, class_weight='balanced')  # Use 'balanced' class weight for imbalanced datasets\n",
    "poly_svm_model.fit(X_train, y_train)\n",
    "\n",
    "# Making predictions\n",
    "y_pred_poly_svm = poly_svm_model.predict(X_validation)\n",
    "\n",
    "# Calculating the confusion matrix\n",
    "conf_matrix_poly_svm = confusion_matrix(y_validation, y_pred_poly_svm)\n",
    "print(\"Confusion Matrix for Polynomial SVM (Degree 3):\")\n",
    "print(conf_matrix_poly_svm)\n",
    "\n",
    "# Calculating the accuracy\n",
    "accuracy_poly_svm = accuracy_score(y_validation, y_pred_poly_svm)\n",
    "print(f\"Accuracy of the Polynomial SVM (Degree 3) model: {accuracy_poly_svm}\")"
   ]
  },
  {
   "cell_type": "code",
   "execution_count": null,
   "id": "2b03dbf6",
   "metadata": {},
   "outputs": [],
   "source": []
  },
  {
   "cell_type": "raw",
   "id": "ce055d74",
   "metadata": {},
   "source": [
    "intersection kernal"
   ]
  },
  {
   "cell_type": "code",
   "execution_count": 50,
   "id": "8e364692",
   "metadata": {},
   "outputs": [
    {
     "name": "stdout",
     "output_type": "stream",
     "text": [
      "Confusion Matrix for SVM with Intersection Kernel:\n",
      "[[ 27   7   9  12  19  20  12  12]\n",
      " [  9  15   9   9   4  17   4   7]\n",
      " [  2   4   7   2   2   2   2   0]\n",
      " [ 10   9   5  14   7   8  27   8]\n",
      " [ 15  28  15  19  70  22  34  25]\n",
      " [ 67  87  44  71 130  85  73  76]\n",
      " [  8  13  11  20  12  16  35  11]\n",
      " [  3   7   2   4  20   3   4  23]]\n",
      "Accuracy of the SVM with Intersection Kernel model: 0.2038404726735598\n"
     ]
    }
   ],
   "source": [
    "# Creating an SVM model with an intersection kernel\n",
    "intersection_svm_model = SVC(kernel='sigmoid', class_weight='balanced')  # Use 'balanced' class weight for imbalanced datasets\n",
    "intersection_svm_model.fit(X_train, y_train)\n",
    "\n",
    "# Making predictions\n",
    "y_pred_intersection_svm = intersection_svm_model.predict(X_validation)\n",
    "\n",
    "# Calculating the confusion matrix\n",
    "conf_matrix_intersection_svm = confusion_matrix(y_validation, y_pred_intersection_svm)\n",
    "print(\"Confusion Matrix for SVM with Intersection Kernel:\")\n",
    "print(conf_matrix_intersection_svm)\n",
    "\n",
    "# Calculating the accuracy\n",
    "accuracy_intersection_svm = accuracy_score(y_validation, y_pred_intersection_svm)\n",
    "print(f\"Accuracy of the SVM with Intersection Kernel model: {accuracy_intersection_svm}\")"
   ]
  },
  {
   "cell_type": "code",
   "execution_count": null,
   "id": "2e865c01",
   "metadata": {},
   "outputs": [],
   "source": []
  },
  {
   "cell_type": "raw",
   "id": "f7dc724f",
   "metadata": {},
   "source": [
    "Logistic regression"
   ]
  },
  {
   "cell_type": "code",
   "execution_count": 51,
   "id": "aaf43140",
   "metadata": {},
   "outputs": [
    {
     "name": "stdout",
     "output_type": "stream",
     "text": [
      "Confusion Matrix for Logistic Regression:\n",
      "[[ 30  15   7  10  18  14  21   3]\n",
      " [ 13  18   5   8   7  10   9   4]\n",
      " [  4   6   5   1   3   0   2   0]\n",
      " [ 12   6   3  25   8   7  21   6]\n",
      " [ 12  26   9  24  86  21  36  14]\n",
      " [ 69  85  27  72 137  99  96  48]\n",
      " [ 13  10   8  16  14  10  48   7]\n",
      " [  5   5   1   3  19   4   6  23]]\n",
      "Accuracy of the Logistic Regression model: 0.2466765140324963\n"
     ]
    }
   ],
   "source": [
    "# Creating a logistic regression model\n",
    "logistic_model = LogisticRegression(class_weight='balanced', max_iter=1000)\n",
    "\n",
    "# Fitting the model\n",
    "logistic_model.fit(X_train, y_train)\n",
    "\n",
    "# Making predictions\n",
    "y_pred_logistic = logistic_model.predict(X_validation)\n",
    "\n",
    "# Calculating the confusion matrix\n",
    "conf_matrix_logistic = confusion_matrix(y_validation, y_pred_logistic)\n",
    "print(\"Confusion Matrix for Logistic Regression:\")\n",
    "print(conf_matrix_logistic)\n",
    "\n",
    "# Calculating the accuracy\n",
    "accuracy_logistic = accuracy_score(y_validation, y_pred_logistic)\n",
    "print(f\"Accuracy of the Logistic Regression model: {accuracy_logistic}\")"
   ]
  },
  {
   "cell_type": "markdown",
   "id": "cea952e0",
   "metadata": {},
   "source": [
    "# Naive-bayes"
   ]
  },
  {
   "cell_type": "code",
   "execution_count": 52,
   "id": "695b38d1",
   "metadata": {},
   "outputs": [
    {
     "name": "stdout",
     "output_type": "stream",
     "text": [
      "Confusion Matrix for Naive Bayes:\n",
      "[[  0   0   0   0   0 118   0   0]\n",
      " [  0   0   0   0   2  72   0   0]\n",
      " [  0   0   0   0   0  21   0   0]\n",
      " [  0   0   0   0   0  88   0   0]\n",
      " [  0   0   0   0   5 223   0   0]\n",
      " [  0   0   0   0   0 633   0   0]\n",
      " [  0   0   0   0   0 126   0   0]\n",
      " [  0   0   0   0   0  66   0   0]]\n",
      "Accuracy of the Naive Bayes model: 0.4711964549483013\n"
     ]
    }
   ],
   "source": [
    "# Creating a Naive Bayes model\n",
    "naive_bayes_model = MultinomialNB()\n",
    "\n",
    "# Fitting the model\n",
    "naive_bayes_model.fit(X_train, y_train)\n",
    "\n",
    "# Making predictions\n",
    "y_pred_naive_bayes = naive_bayes_model.predict(X_validation)\n",
    "\n",
    "# Calculating the confusion matrix\n",
    "conf_matrix_naive_bayes = confusion_matrix(y_validation, y_pred_naive_bayes)\n",
    "print(\"Confusion Matrix for Naive Bayes:\")\n",
    "print(conf_matrix_naive_bayes)\n",
    "\n",
    "# Calculating the accuracy\n",
    "accuracy_naive_bayes = accuracy_score(y_validation, y_pred_naive_bayes)\n",
    "print(f\"Accuracy of the Naive Bayes model: {accuracy_naive_bayes}\")"
   ]
  },
  {
   "cell_type": "code",
   "execution_count": null,
   "id": "938f1194",
   "metadata": {},
   "outputs": [],
   "source": []
  },
  {
   "cell_type": "markdown",
   "id": "71039bba",
   "metadata": {},
   "source": [
    "# Random forest"
   ]
  },
  {
   "cell_type": "code",
   "execution_count": 53,
   "id": "7ee7947f-d343-408d-91de-4a33868c0c68",
   "metadata": {},
   "outputs": [],
   "source": [
    "\n",
    "from sklearn.ensemble import RandomForestClassifier\n",
    "from sklearn.metrics import accuracy_score"
   ]
  },
  {
   "cell_type": "code",
   "execution_count": 54,
   "id": "9c5efc63",
   "metadata": {},
   "outputs": [
    {
     "name": "stdout",
     "output_type": "stream",
     "text": [
      "Accuracy: 0.47636632200886264\n"
     ]
    }
   ],
   "source": [
    "# Create a Random Forest classi\n",
    "rf_classifier = RandomForestClassifier(n_estimators=100, random_state=42)\n",
    "\n",
    "# Train the classifier\n",
    "rf_classifier.fit(X_train, y_train)\n",
    "\n",
    "# Make predictions on the test set\n",
    "y_pred = rf_classifier.predict(X_validation)\n",
    "\n",
    "# Calculate accuracy\n",
    "accuracy = accuracy_score(y_validation, y_pred)\n",
    "print(f\"Accuracy: {accuracy}\")"
   ]
  },
  {
   "cell_type": "code",
   "execution_count": 55,
   "id": "bebcdd03",
   "metadata": {},
   "outputs": [
    {
     "name": "stdout",
     "output_type": "stream",
     "text": [
      "Confusion Matrix for Random Forest:\n",
      "[[  6   0   0   1   3 108   0   0]\n",
      " [  2   1   0   0   4  65   1   1]\n",
      " [  2   1   2   0   0  15   1   0]\n",
      " [  1   1   0   3   1  80   1   1]\n",
      " [  1   1   0   2  48 171   2   3]\n",
      " [  9   2   0   5  37 567   3  10]\n",
      " [  1   1   0   2   3 110   7   2]\n",
      " [  0   0   0   2   1  52   0  11]]\n"
     ]
    }
   ],
   "source": [
    "# Calculating the confusion matrix\n",
    "conf_matrix_forest = confusion_matrix(y_validation, y_pred)\n",
    "print(\"Confusion Matrix for Random Forest:\")\n",
    "print(conf_matrix_forest)"
   ]
  },
  {
   "cell_type": "code",
   "execution_count": null,
   "id": "7625f51e",
   "metadata": {},
   "outputs": [],
   "source": []
  },
  {
   "cell_type": "markdown",
   "id": "3c54922d",
   "metadata": {},
   "source": [
    "# RNN MODEL"
   ]
  },
  {
   "cell_type": "code",
   "execution_count": 42,
   "id": "89e85436",
   "metadata": {},
   "outputs": [],
   "source": [
    "import pandas as pd\n",
    "\n",
    "# Assuming 'df' is your DataFrame containing the 'clean_text' column\n",
    "all_text = ' '.join(train['Clean_text'])\n",
    "# create a list of words\n",
    "words = all_text.split()"
   ]
  },
  {
   "cell_type": "code",
   "execution_count": 92,
   "id": "b76bf469-cc39-482a-a966-cd5603b9726a",
   "metadata": {},
   "outputs": [],
   "source": [
    "#words"
   ]
  },
  {
   "cell_type": "code",
   "execution_count": 93,
   "id": "19462791-308a-48d0-b361-27ef92258441",
   "metadata": {},
   "outputs": [
    {
     "data": {
      "text/plain": [
       "['kya',\n",
       " 'kya',\n",
       " 'bhar',\n",
       " 'rakha',\n",
       " 'indravadan',\n",
       " 'ghar',\n",
       " 'mein',\n",
       " 'indravadan',\n",
       " 'please',\n",
       " 'tum',\n",
       " 'sari',\n",
       " 'bekar',\n",
       " 'chijen',\n",
       " 'bahar',\n",
       " 'kyon',\n",
       " 'nahin',\n",
       " 'fekte',\n",
       " 'ok',\n",
       " 'chalo',\n",
       " 'rosesh']"
      ]
     },
     "execution_count": 93,
     "metadata": {},
     "output_type": "execute_result"
    }
   ],
   "source": [
    "words[:20]"
   ]
  },
  {
   "cell_type": "code",
   "execution_count": 94,
   "id": "68363b2b-0b78-4251-818b-26f168d9295b",
   "metadata": {},
   "outputs": [
    {
     "name": "stdout",
     "output_type": "stream",
     "text": [
      "The maximum number of words in an utterance is: 94\n"
     ]
    }
   ],
   "source": [
    "# Assuming train is the DataFrame containing the 'Clean_text' column\n",
    "max_words = train['Clean_text'].apply(lambda x: len(x.split())).max()\n",
    "print(f\"The maximum number of words in an utterance is: {max_words}\")"
   ]
  },
  {
   "cell_type": "code",
   "execution_count": 95,
   "id": "c4af5fdd-8da7-4c62-8383-05162131b244",
   "metadata": {},
   "outputs": [
    {
     "name": "stdout",
     "output_type": "stream",
     "text": [
      "The index number of the row with the maximum number of words: 2315\n"
     ]
    }
   ],
   "source": [
    "# Assuming 'train' is the DataFrame containing the 'Clean_text' column\n",
    "max_words_index = train['Clean_text'].apply(lambda x: len(x.split())).idxmax()\n",
    "print(f\"The index number of the row with the maximum number of words: {max_words_index}\")"
   ]
  },
  {
   "cell_type": "code",
   "execution_count": null,
   "id": "98b38911-a380-43a8-a5c6-802c56b794e6",
   "metadata": {},
   "outputs": [],
   "source": []
  },
  {
   "cell_type": "code",
   "execution_count": 47,
   "id": "e21c9879-7b1f-4a59-806d-21a774e7fa8f",
   "metadata": {},
   "outputs": [],
   "source": [
    "# feel free to use this import\n",
    "from collections import Counter\n",
    "\n",
    "## Build a dictionary that maps words to integers\n",
    "counts = Counter(words)\n",
    "vocab = sorted(counts, key=counts.get, reverse=True)\n",
    "vocab_to_int = {word: ii for ii, word in enumerate(vocab,1)}"
   ]
  },
  {
   "cell_type": "code",
   "execution_count": 96,
   "id": "9da81264-0612-4d2e-a6ae-4671a02165e1",
   "metadata": {
    "scrolled": true
   },
   "outputs": [],
   "source": [
    "#vocab_to_int"
   ]
  },
  {
   "cell_type": "code",
   "execution_count": 97,
   "id": "09acc80e-3a6e-4878-af27-cce3b91df84f",
   "metadata": {},
   "outputs": [],
   "source": [
    "vocab_to_int['unknown_word'] = 0"
   ]
  },
  {
   "cell_type": "code",
   "execution_count": 98,
   "id": "a49d693d-76dc-4d9b-b2ef-11bf201092f3",
   "metadata": {},
   "outputs": [],
   "source": [
    "## use the dict to tokenize each review in reviews_split\n",
    "## store the tokenized utterance in utterance_ints\n",
    "utterance_ints = []\n",
    "for utterance in train['Clean_text']:\n",
    "    utterance_ints.append([vocab_to_int[word] for word in utterance.split()])"
   ]
  },
  {
   "cell_type": "code",
   "execution_count": null,
   "id": "5297860d-f6cd-4a5f-a438-4ac3d330a6ac",
   "metadata": {},
   "outputs": [],
   "source": []
  },
  {
   "cell_type": "code",
   "execution_count": 99,
   "id": "99b607c8-f7f2-4803-85c6-f840039b43b4",
   "metadata": {},
   "outputs": [
    {
     "name": "stdout",
     "output_type": "stream",
     "text": [
      "Unique words:  10670\n",
      "\n",
      "Tokenized utterance: \n",
      " [[2, 2, 360, 392, 108, 26, 1, 108, 35, 10, 443, 2084, 2572, 153, 109, 11, 3430]]\n"
     ]
    }
   ],
   "source": [
    "# stats about vocabulary\n",
    "print('Unique words: ', len((vocab_to_int)))  # \n",
    "print()\n",
    "\n",
    "# print tokens in first utterance\n",
    "print('Tokenized utterance: \\n', utterance_ints[:1])"
   ]
  },
  {
   "cell_type": "code",
   "execution_count": null,
   "id": "4e9d4bcb-2d5c-4163-996c-cd95fb6d88ab",
   "metadata": {},
   "outputs": [],
   "source": []
  },
  {
   "cell_type": "code",
   "execution_count": 100,
   "id": "d7635942-5c4c-4737-ba0f-f38c79dce396",
   "metadata": {},
   "outputs": [
    {
     "name": "stdout",
     "output_type": "stream",
     "text": [
      "Unique words:  10670\n",
      "\n",
      "Tokenized utterance: \n",
      " [[89, 77, 14, 77, 153]]\n"
     ]
    }
   ],
   "source": [
    "# stats about vocabulary\n",
    "print('Unique words: ', len((vocab_to_int)))  # \n",
    "print()\n",
    "\n",
    "# print tokens in second utterance\n",
    "print('Tokenized utterance: \\n', utterance_ints[1:2])"
   ]
  },
  {
   "cell_type": "code",
   "execution_count": null,
   "id": "76c407fe-7a7d-4c39-b240-eff2338f879c",
   "metadata": {},
   "outputs": [],
   "source": []
  },
  {
   "cell_type": "code",
   "execution_count": 101,
   "id": "a3871c30-7dc1-4b03-a8f7-24fe158cc1d0",
   "metadata": {},
   "outputs": [
    {
     "name": "stdout",
     "output_type": "stream",
     "text": [
      "Zero-length utterance: 89\n",
      "Maximum utterance length: 94\n"
     ]
    }
   ],
   "source": [
    "# outlier review stats\n",
    "utterance_lens = Counter([len(x) for x in utterance_ints])\n",
    "print(\"Zero-length utterance: {}\".format(utterance_lens[0]))\n",
    "print(\"Maximum utterance length: {}\".format(max(utterance_lens)))"
   ]
  },
  {
   "cell_type": "code",
   "execution_count": null,
   "id": "38870aaa-6c1c-4f05-a969-4ca73ad59ad0",
   "metadata": {},
   "outputs": [],
   "source": []
  },
  {
   "cell_type": "code",
   "execution_count": 102,
   "id": "2d7cbfbf-3bbf-4759-9de9-7239484b2b7a",
   "metadata": {},
   "outputs": [
    {
     "data": {
      "text/plain": [
       "dict_keys(['mein', 'kya', 'aur', 'hain', 'monisha', 'sahil', 'wo', 'nahi', 'kar', 'tum', 'nahin', 'main', 'ek', 'rosesh', 'aap', 'mujhe', 'haan', 'toh', 'maya', 'mai', 'lekin', 'hun', 'ji', 'nhi', 'rahi', 'ghar', 'meri', 'mom', 'dad', 'baat', 'mere', 'yah', 'vah', 'nehi', 'please', 'bhai', 'ab', 'agar', 'momma', 'maine', 'mera', 'oh', 'fir', 'le', 'kuch', 'hoga', 'kaise', 'tumne', 'pata', 'han', 'par', 'yahan', 'matlab', 'okay', 'aa', 'mummy', 'apne', 'hu', 'hum', 'kuchh', 'ha', 'sab', 'karne', 'aaj', 'phone', 'per', 'kyu', 'tumhe', 'mat', 'vo', 'come', 'de', 'tu', 'naam', 'sath', 'mean', 'chalo', 'kyun', 'hello', 'iye', 'haa', 'din', 'gayi', 'jab', 'dekho', 'indu', 'god', 'mei', 'ok', 'indravardhan', 'kahan', 'karna', 'karti', 'baa', 'karo', 'tumhari', 'kavita', 'arey', 'tumhare', 'dont', 'good', 'dushyant', 'know', 'aisa', 'bahut', 'class', 'log', 'indravadan', 'kyon', 'apni', 'karte', 'saath', 'keya', 'beta', 'wale', 'bohot', 'lo', 'party', 'accha', 'sirf', 'dekha', 'wala', 'gaye', 'acha', 'aapko', 'uske', 'doctor', 'minute', 'kabhi', 'wali', 'jao', 'kaun', 'right', 'tak', 'sakta', 'middle', 'kam', 'bhaiya', 'daddy', 'gai', 'uska', 'karke', 'dekh', 'thank', 'baad', 'sorry', 'hoon', 'tarah', 'usne', 'hogi', 'chal', 'kal', 'bahar', 'raat', 'rha', 'thats', 'rhi', 'laga', 'itna', 'tab', 'sakti', 'haha', 'uski', 'jana', 'baba', 'sarabhai', 'bhabhi', 'theek', 'problem', 'jaa', 'thodi', 'woh', 'darling', 'pahle', 'tumhen', 'bilkul', 'us', 'hahaha', 'saal', 'dono', 'bolo', 'kyunki', 'tumhara', 'apna', 'dinesh', 'sach', 'usse', 'isliye', 'sa', 'gya', 'chala', 'shaadi', 'dena', 'bad', 'rupaye', 'aapke', 'bai', 'lekar', 'rhe', 'gadi', 'aapne', 'karta', 'achcha', 'batao', 'ladki', 'number', 'moma', 'lag', 'achha', 'uncle', 'baar', 'suno', 'tv', 'jata', 'iska', 'honge', 'bye', 'khana', 'bar', 'sakte', 'dekhiye', 'har', 'pehle', 'aaya', 'nai', 'paas', 'kaam', 'mama', 'aapki', 'waise', 'nae', 'bol', 'kab', 'chup', 'see', 'sarita', 'di', 'wahan', 'im', 'iss', 'bathroom', 'si', 'chahiye', 'lagta', 'lijiye', 'mil', 'puri', 'natak', 'dudh', 'ni', 'aray', 'gyi', 'yeah', 'well', 'band', 'yes', 'suna', 'hey', 'haina', 'likha', 'thoda', 'excuse', 'liya', 'saaf', 'speech', 'baldev', 'mene', 'hath', 'huh', 'bata', 'shuru', 'yaad', 'kitne', 'maa', 'pani', 'one', 'radha', 'acchi', 'february', 'kha', 'aaye', 'dekhiae', 'kismi', 'sir', 'really', 'deependar', 'kitna', 'jaan', 'aao', 'man', 'zara', 'bare', 'tujhe', 'divorce', 'rakh', 'mara', 'soch', 'time', 'itni', 'teen', 'love', 'jaega', 'sarupa', 'baby', 'mar', 'best', 'sun', 'night', 'baje', 'dijiye', 'keh', 'iske', 'aya', 'ohh', 'twenty', 'fourth', 'koshish', 'deti', 'inspector', 'khush', 'lease', 'diye', 'marne', 'kitni', 'mujhse', 'khoon', 'waqt', 'unhe', 'madhu', 'umm', 'mila', 'kijiye', 'bas', 'maiya', 'ham', 'khud', 'unke', 'beech', 'badi', 'manisha', 'beti', 'deta', 'dete', 'pyaar', 'funny', 'unhone', 'dene', 'uss', 'bana', 'khane', 'fridge', 'pati', 'hmm', 'samjha', 'k', 'sahab', 'mammi', 'roshesh', 'waah', 'bhar', 'joke', 'itne', 'baith', 'aayi', 'idea', 'kis', 'phir', 'lene', 'saare', 'look', 'mrs', 'police', 'bura', 'warna', 'change', 'geya', 'hume', 'kapde', 'jarurat', 'magar', 'subah', 'kon', 'bade', 'jyada', 'daal', 'padega', 'yamraj', 'dil', 'upar', 'andar', 'hehe', 'rakha', 'maar', 'chahie', 'isme', 'samne', 'vahan', 'serial', 'mr', 'kaka', 'sare', 'biwi', 'teri', 'birthday', 'like', 'much', 'dungi', 'humare', 'say', 'lena', 'kharab', 'ghante', 'nikal', 'shak', 'free', 'jaane', 'jail', 'atma', 'isse', 'go', 'jaldi', 'sonya', 'sudhanshu', 'bhot', 'aata', 'happy', 'kahin', 'ill', 'ghadi', 'bhul', 'aana', 'karenge', 'oo', 'thik', 'samajh', 'paper', 'room', 'wrong', 'aage', 'ish', 'kohi', 'hazar', 'sari', 'aapka', 'shayad', 'baap', 'pta', 'chahti', 'socha', 'get', 'alright', 'role', 'stop', 'unka', 'dance', 'sabse', 'kare', 'paani', 'la', 'singh', 'meine', 'film', 'hamare', 'case', 'gye', 'jayega', 'vitthal', 'acche', 'chhod', 'chali', 'aunty', 'lagi', 'lagti', 'actually', 'bus', 'jara', 'club', 'way', 'mana', 'wonderful', 'usko', 'gir', 'jee', 'lift', 'mummyji', 'likhi', 'papers', 'muje', 'padho', 'donon', 'ismein', 'chale', 'karega', 'logon', 'pass', 'tumse', 'kiye', 'point', 'idhar', 'building', 'isiliye', 'jaati', 'fufa', 'ayi', 'chai', 'tell', 'think', 'gas', 'aurat', 'pyar', 'wah', 'sharman', 'uhh', 'kese', 'kah', 'better', 'aane', 'aaa', 'naturally', 'dinner', 'arre', 'chalega', 'jante', 'sunai', 'ila', 'paise', 'hindi', 'try', 'life', 'leti', 'wow', 'unki', 'garam', 'bahu', 'lete', 'cheez', 'day', 'trophy', 'aye', 'humara', 'shadi', 'bete', 'aate', 'rakhi', 'dibba', 'tere', 'wapas', 'aisi', 'ruk', 'dekhne', 'pi', 'bedroom', 'pure', 'madam', 'banaya', 'course', 'relax', 'bola', 'husband', 'lovely', 'leke', 'h', 'rupay', 'haat', 'cockroach', 'zindagi', 'dekhna', 'chaliye', 'ban', 'pagal', 'jagah', 'kaisa', 'aati', 'naisha', 'jarur', 'understand', 'char', 'chahta', 'absolutely', 'floor', 'shut', 'pada', 'sal', 'sahi', 'bacha', 'kee', 'denge', 'heart', 'karegi', 'tune', 'uha', 'help', 'give', 'pasand', 'jelly', 'bapuji', 'jaungi', 'humari', 'vahi', 'yeh', 'aaegi', 'bhagwan', 'ro', 'wine', 'second', 'sharma', 'piche', 'society', 'something', 'yaar', 'chaar', 'explain', 'hotel', 'hahahaha', 'likh', 'usme', 'surprise', 'logo', 'suniye', 'kahi', 'khel', 'jaspal', 'rehti', 'hehehe', 'un', 'wahi', 'paida', 'chuki', 'sawal', 'bhag', 'madhubhai', 'worry', 'unhen', 'mahine', 'chhole', 'taraf', 'exactly', 'ga', 'kavi', 'jayegi', 'ae', 'karungi', 'naya', 'mind', 'ofcourse', 'neeche', 'chappal', 'paris', 'photo', 'special', 'mobile', 'waali', 'pehen', 'rita', 'machali', 'madad', 'utha', 'lage', 'janam', 'plastic', 'jaenge', 'khatam', 'jaisi', 'dunga', 'high', 'aaaa', 'pareshan', 'thanks', 'must', 'jaate', 'promise', 'sweet', 'yani', 'lets', 'chalta', 'patang', 'sake', 'believe', 'gaana', 'e', 'bataya', 'padh', 'bina', 'suru', 'kahe', 'jati', 'saari', 'shirt', 'important', 'pakode', 'packet', 'degi', 'biji', 'beth', 'guys', 'sweety', 'khushi', 'yad', 'humne', 'gift', 'got', 'aapane', 'great', 'padi', 'chod', 'vaise', 'leta', 'chhoti', 'karni', 'taki', 'check', 'juice', 'door', 'cant', 'lagega', 'sar', 'gana', 'padegi', 'take', 'nice', 'udhar', 'partner', 'memsahab', 'pichle', 'infact', 'aah', 'waale', 'chandarani', 'isne', 'sign', 'ese', 'um', 'upset', 'neelima', 'lunch', 'banane', 'haila', 'jor', 'aajkal', 'dur', 'dusre', 'raste', 'awaaz', 'bolna', 'socho', 'aadami', 'rs', 'mili', 'sophisticated', 'murder', 'let', 'correct', 'saying', 'late', 'sabji', 'bechari', 'iski', 'simple', 'pad', 'gale', 'haath', 'jaiye', 'sau', 'show', 'maan', 'bottle', 'th', 'badal', 'reh', 'kutta', 'iha', 'whats', 'sit', 'cake', 'chor', 'du', 'kisne', 'raho', 'muh', 'unse', 'srif', 'saamne', 'kilo', 'bhabi', 'devi', 'poetry', 'ilaben', 'zor', 'payal', 'cha', 'kamini', 'welcome', 'khareed', 'nonsense', 'karun', 'ben', 'train', 'alag', 'mumbai', 'enough', 'drink', 'glass', 'mile', 'fine', 'jate', 'rakhna', 'babu', 'sharir', 'dukaan', 'sale', 'tiffin', 'galat', 'attack', 'quiet', 'keep', 'patient', 'newspaper', 'oye', 'family', 'kiran', 'padta', 'doodh', 'indravadhan', 'pair', 'shart', 'karunga', 'btao', 'aaega', 'acharya', 'fenk', 'dino', 'dekhkar', 'pen', 'chuka', 'kaho', 'dr', 'duniya', 'dialogue', 'dant', 'kamre', 'yess', 'ooo', 'kaisi', 'awaz', 'champagne', 'morning', 'tera', 'body', 'roz', 'baki', 'chi', 'extra', 'dekhte', 'sweetie', 'kahani', 'news', 'ladies', 'nagin', 'dega', 'puch', 'li', 'varana', 'wait', 'sms', 'flat', 'memsaab', 'choti', 'geyi', 'bat', 'ana', 'stress', 'kissi', 'kyuki', 'pakad', 'shaam', 'bula', 'bta', 'da', 'gossip', 'lakh', 'lelo', 'kachra', 'diwali', 'cut', 'baithi', 'balcony', 'jahan', 'kamal', 'acting', 'line', 'school', 'hamari', 'dadi', 'sure', 'namaste', 'yun', 'usmein', 'side', 'dekhi', 'rehna', 'parso', 'bhature', 'jane', 'serious', 'khooni', 'friend', 'haar', 'dushman', 'bataiye', 'blood', 'bhej', 'award', 'bhindi', 'dal', 'gala', 'dusra', 'samaj', 'chakkar', 'talk', 'anyway', 'nikaal', 'word', 'card', 'bacche', 'call', 'papa', 'thode', 'kapadia', 'ruko', 'menu', 'banana', 'patni', 'karu', 'jayenge', 'congratulations', 'start', 'guha', 'saree', 'kutte', 'shama', 'huya', 'naag', 'saat', 'calm', 'jugalkishore', 'balti', 'challenge', 'dard', 'remote', 'magazine', 'khaane', 'trouble', 'painting', 'hawa', 'hii', 'shes', 'baniyan', 'chhu', 'bungalow', 'jagtaap', 'book', 'tumnei', 'pch', 'vote', 'lash', 'baccha', 'jaaiye', 'favourite', 'lunga', 'jindagi', 'phool', 'taxi', 'imagine', 'feel', 'limit', 'sone', 'masala', 'jakar', 'banne', 'madhusudan', 'baitho', 'repair', 'jaana', 'kumar', 'jawab', 'order', 'minut', 'shopping', 'anniversary', 'company', 'gujar', 'bacchon', 'dimag', 'zaroor', 'sindolin', 'pichhle', 'batana', 'hamen', 'lottery', 'lenge', 'match', 'jaaye', 'toothpaste', 'name', 'sweetheart', 'halat', 'tumane', 'ah', 'art', 'saturday', 'bail', 'dus', 'safai', 'khadi', 'bakwas', 'suitcase', 'bag', 'sabko', 'pack', 'maza', 'romantic', 'ambulance', 'list', 'baithe', 'chaaye', 'kahke', 'waha', 'aadmi', 'kiske', 'vishal', 'ush', 'daad', 'mard', 'kisse', 'example', 'khali', 'secretary', 'bechara', 'saas', 'waala', 'malum', 'jaao', 'humesha', 'want', 'ba', 'padhiye', 'pehli', 'hein', 'jeet', 'kr', 'dilli', 'roses', 'achi', 'bache', 'rabha', 'haayo', 'vithal', 'kehe', 'far', 'sas', 'coyote', 'karan', 'geeta', 'nikalo', 'hamara', 'inhe', 'dikhao', 'doge', 'chilla', 'letter', 'khade', 'white', 'rah', 'jhooth', 'aapse', 'rahti', 'gi', 'station', 'sunke', 'galti', 'aakar', 'everybody', 'zyada', 'plate', 'idiot', 'thak', 'first', 'silly', 'discount', 'samjhe', 'agale', 'isase', 'aadha', 'kahta', 'cal', 'umar', 'request', 'baj', 'listen', 'lungi', 'purani', 'milega', 'burai', 'kehna', 'sans', 'style', 'market', 'dikhai', 'affair', 'kanch', 'dekar', 'pade', 'puchna', 'waste', 'jam', 'miss', 'dusri', 'plaiasai', 'rang', 'jaata', 'rakho', 'make', 'daddyji', 'punjabi', 'function', 'teeno', 'invitation', 'cool', 'business', 'karoge', 'mirchi', 'baten', 'donate', 'jaunga', 'nikala', 'mazak', 'likhna', 'andha', 'sound', 'rehne', 'jaye', 'roti', 'tumko', 'saadi', 'invite', 'two', 'chaiye', 'india', 'app', 'dress', 'clinic', 'kitaab', 'crazy', 'sandwich', 'rehta', 'boli', 'dikha', 'asli', 'humaare', 'pehele', 'bandh', 'kaan', 'ahh', 'hes', 'peeche', 'naa', 'pain', 'bakura', 'behave', 'leave', 'gods', 'big', 'aadhi', 'president', 'behen', 'lagane', 'rahega', 'sunna', 'supari', 'mithai', 'tumhein', 'vidisha', 'chehra', 'uh', 'ajanta', 'chodh', 'court', 'election', 'popat', 'shabd', 'nach', 'baate', 'tang', 'inki', 'gayab', 'chahte', 'kurta', 'colour', 'bloody', 'khayal', 'part', 'dhadak', 'aankhen', 'aankh', 'nonveg', 'kareeb', 'chalegi', 'mari', 'imported', 'ghatiya', 'chalte', 'rakhti', 'possible', 'hah', 'sham', 'hash', 'bichari', 'jis', 'cheers', 'chalna', 'sapna', 'dar', 'mann', 'boys', 'mare', 'jinda', 'zinda', 'complete', 'watchman', 'accident', 'cancel', 'lagaya', 'words', 'bulaya', 'shalini', 'star', 'thappad', 'intelligent', 'samose', 'dabba', 'piya', 'daant', 'pinku', 'going', 'already', 'bhee', 'naatak', 'dost', 'tumhaare', 'dead', 'n', 'likho', 'wife', 'boliye', 'thing', 'dekhe', 'emergency', 'youre', 'ketchup', 'inke', 'deep', 'didi', 'music', 'mike', 'dhund', 'dher', 'bane', 'pet', 'laal', 'bartan', 'ane', 'sada', 'jaake', 'chuhe', 'novel', 'solve', 'tota', 'ap', 'chatni', 'buri', 'dheere', 'finally', 'sofa', 'joking', 'saab', 'fernando', 'bhool', 'break', 'baal', 'chawal', 'karein', 'color', 'little', 'seva', 'sunne', 'bechare', 'jai', 'may', 'huai', 'kehti', 'huaa', 'min', 'chehre', 'control', 'hmmm', 'jaegi', 'marr', 'saans', 'patti', 'thike', 'hero', 'kia', 'kauwa', 'sagai', 'chinese', 'cheeku', 'mendhak', 'kabutar', 'verma', 'ramba', 'faltu', 'karen', 'maloom', 'delivery', 'bahan', 'chahe', 'ajeeb', 'pee', 'pahan', 'purana', 'bachane', 'badle', 'sonia', 'uff', 'handsome', 'ladka', 'daba', 'khaya', 'wedding', 'khate', 'discuss', 'kehte', 'chalu', 'poochh', 'chori', 'kho', 'moti', 'lal', 'kitchen', 'punjab', 'pahunch', 'water', 'non', 'cute', 'bagair', 'akele', 'spray', 'hamesha', 'roj', 'khaunga', 'ice', 'totally', 'tabhi', 'hathi', 'bhasha', 'play', 'jisne', 'guess', 'kehta', 'tel', 'belt', 'nashta', 'pav', 'soup', 'varna', 'rukiye', 'samay', 'vajah', 'roko', 'nayi', 'fraud', 'bheja', 'future', 'item', 'program', 'milta', 'dhamki', 'bichare', 'bich', 'wadiya', 'utar', 'dhai', 'sounds', 'batane', 'aakhri', 'ticket', 'stay', 'gayee', 'jaie', 'hee', 'akhabar', 'drive', 'istemaal', 'mujh', 'banao', 'suit', 'panch', 'milne', 'lao', 'death', 'hata', 'thali', 'tommy', 'sabzi', 'humlog', 'khao', 'chata', 'ignore', 'back', 'ahi', 'huyi', 'worlds', 'rona', 'cupboard', 'kaunsi', 'baccho', 'chupa', 'wohi', 'sarir', 'shanti', 'thori', 'sabke', 'pucha', 'lega', 'shh', 'samjhi', 'rule', 'uth', 'mary', 'minutes', 'achanak', 'janamdin', 'cahiye', 'yay', 'smile', 'baatein', 'jalebi', 'milegi', 'genie', 'wish', 'scene', 'getting', 'khaana', 'haq', 'yehi', 'agli', 'zameen', 'notice', 'kankan', 'stage', 'galati', 'chap', 'baja', 'sambhal', 'sadi', 'es', 'dedo', 'dawai', 'aurate', 'khanna', 'kharcha', 'cook', 'puk', 'bach', 'eh', 'rahungi', 'aai', 'kholo', 'zodiac', 'bistro', 'rajshekhar', 'lagao', 'tch', 'grant', 'kahati', 'boyfriend', 'diary', 'seeti', 'orange', 'chahati', 'sons', 'vel', 'memsab', 'tumhi', 'muft', 'chocolate', 'rahane', 'question', 'aaenge', 'ball', 'actor', 'smell', 'tana', 'purane', 'language', 'tabiyat', 'weak', 'never', 'chote', 'wahin', 'sochiye', 'rahata', 'interview', 'paan', 'masi', 'khati', 'aadat', 'der', 'hafte', 'chuke', 'suni', 'neend', 'bed', 'air', 'aas', 'coffee', 'sachmuch', 'inka', 'table', 'legi', 'kahegi', 'banati', 'isko', 'banaa', 'jake', 'mushkil', 'chhutti', 'chole', 'house', 'thought', 'whiskey', 'ridiculous', 'light', 'board', 'bolte', 'normal', 'kisine', 'rd', 'bargain', 'naha', 'samosa', 'last', 'interesting', 'crystal', 'rote', 'maro', 'sad', 'title', 'blue', 'true', 'makeup', 'goli', 'bhavishya', 'fayda', 'short', 'janti', 'bal', 'achchha', 'nazar', 'kisee', 'khelo', 'english', 'hospital', 'aksar', 'milenge', 'done', 'remember', 'ramesh', 'german', 'inko', 'hahah', 'chanda', 'chut', 'hahahah', 'butter', 'aaaaa', 'karwa', 'frame', 'mall', 'new', 'bachelorhood', 'hat', 'banata', 'thora', 'aree', 'chota', 'post', 'insaan', 'jisme', 'banna', 'dash', 'bara', 'bolta', 'female', 'hate', 'bari', 'chuha', 'badan', 'dhundo', 'mujse', 'raddi', 'trophies', 'mother', 'hongi', 'laya', 'akeli', 'pucho', 'awaj', 'milke', 'utho', 'bandar', 'hundred', 'copy', 'bhaag', 'khareedi', 'kuuch', 'rupaya', 'das', 'wajah', 'tshirt', 'gussa', 'uspe', 'paanch', 'chudail', 'ready', 'shakal', 'uthana', 'konsi', 'krishna', 'saara', 'sunkar', 'kaccha', 'kavitayein', 'daala', 'saand', 'maare', 'next', 'actress', 'lagul', 'ati', 'dahi', 'banai', 'bakuda', 'babla', 'ghaar', 'rakhiye', 'said', 'jokes', 'kabita', 'krish', 'kagaj', 'pehla', 'kahiye', 'jay', 'pesh', 'skti', 'khan', 'aaila', 'sabit', 'handle', 'esi', 'makkhi', 'general', 'bnaya', 'hm', 'plan', 'aaiye', 'mandir', 'yasodha', 'yashvant', 'guzar', 'taste', 'sunday', 'kahenge', 'mammiji', 'tau', 'kharidne', 'feb', 'tickets', 'honeymoon', 'poora', 'tabtak', 'beemar', 'pakdo', 'bakasur', 'lagana', 'mousi', 'ulti', 'yeha', 'kala', 'haal', 'article', 'khabri', 'brilliant', 'boy', 'whatever', 'bombai', 'entry', 'jaspaal', 'putar', 'chodke', 'bhala', 'roll', 'ganguraam', 'jese', 'constructive', 'amar', 'wese', 'offer', 'ladke', 'complaint', 'mangti', 'tarif', 'lijie', 'shradhanjali', 'uttar', 'favor', 'cruise', 'sambhar', 'istemal', 'fresh', 'mubarak', 'teesra', 'momdad', 'rok', 'asar', 'fashion', 'uthakar', 'select', 'haye', 'jald', 'gira', 'lagte', 'khat', 'khushbu', 'jaruri', 'ad', 'bolane', 'baitha', 'bhoot', 'fikar', 'kasam', 'hathon', 'mushroom', 'definitely', 'bimari', 'railway', 'shhh', 'parson', 'vasul', 'sidhi', 'kahana', 'pahne', 'mausi', 'samjhao', 'padhi', 'dun', 'mang', 'mangi', 'store', 'pita', 'reception', 'shok', 'soda', 'kiski', 'yakin', 'middleclass', 'bi', 'sense', 'lot', 'kan', 'machine', 'nashte', 'narad', 'muni', 'hint', 'dikhane', 'kale', 'darane', 'chinta', 'vada', 'shop', 'majak', 'hova', 'hang', 'megamall', 'aatma', 'jhagada', 'dekhti', 'manjan', 'chij', 'lambi', 'che', 'food', 'pahla', 'dekhenge', 'fact', 'akhbar', 'batein', 'lad', 'picture', 'bacchi', 'bachi', 'lagati', 'sings', 'pappu', 'picha', 'dekhta', 'lisa', 'girlfriend', 'world', 'bujh', 'shoe', 'polish', 'ullu', 'bichara', 'pakde', 'alamaaree', 'it’s', 'doonga', 'rahee', 'cheezen', 'thee', 'jahaan', 'baahar', 'yahee', 'lights', 'karatee', 'bann', 'yaani', 'c', 'soo', 'indian', 'tiles', 'unko', 'arrange', 'jija', 'tamatar', 'end', 'kapadiya', 'driver', 'impossible', 'ayega', 'passport', 'credit', 'bhaji', 'lana', 'mitti', 'sambandh', 'soniya', 'maja', 'poochho', 'alphabet', 'kaale', 'sasur', 'brand', 'bulao', 'hell', 'kharap', 'jage', 'scotland', 'cooker', 'bahat', 'pare', 'namak', 'agle', 'papad', 'chipkali', 'guest', 'likhte', 'chance', 'three', 'diwaro', 'friends', 'buraiya', 'thanda', 'nasta', 'parsu', 'sune', 'restaurant', 'jugal', 'tenu', 'rahne', 'dancer', 'ghus', 'obviously', 'tumpe', 'chuho', 'royal', 'tut', 'coin', 'private', 'autograph', 'batata', 'naraz', 'bechne', 'chati', 'nikli', 'pakore', 'milti', 'busy', 'sha', 'thousand', 'rupees', 'paisa', 'panne', 'beautiful', 'iyer', 'khol', 'college', 'manane', 'muskil', 'pao', 'crockery', 'peheli', 'aake', 'hain…', 'poocha', 'baaki', 'pardon', 'experience', 'khabar', 'phere', 'marriage', 'sayad', 'ground', 'dum', 'banta', 'hissa', 'apko', 'practice', 'mahesh', 'raja', 'local', 'sushil', 'ploop', 'direct', 'government', 'kamaal', 'kbc', 'shock', 'puchti', 'black', 'madhyam', 'yaa', 'waalo', 'jamai', 'bhajan', 'ayegi', 'mister', 'matlb', 'pii', 'kbhi', 'sharam', 'mmm', 'sunau', 'makhi', 'yakeen', 'piyunga', 'disturb', 'dear', 'alawa', 'jalan', 'liy', 'percent', 'btaya', 'mujhpe', 'payegi', 'dopehar', 'lady', 'bolne', 'crorepati', 'classy', 'scheme', 'touch', 'harbhajan', 'gurminder', 'zarurat', 'rab', 'torture', 'puchne', 'national', 'barah', 'lemme', 'quite', 'bhaia', 'konsa', 'kabse', 'rakshas', 'filhal', 'khatir', 'hand', 'vegetables', 'fire', 'roomal', 'chaba', 'khul', 'medical', 'london', 'ghonsla', 'pammi', 'pauna', 'ohoho', 'lucky', 'kamina', 'stall', 'albert', 'pool', 'yea', 'jaundice', 'chhupa', 'chahata', 'likhe', 'rahegi', 'quick', 'rabadi', 'wakai', 'smart', 'taqleef', 'dhakka', 'murat', 'naariyal', 'bethiye', 'germany', 'tumhei', 'box', 'lauta', 'failure', 'susu', 'kaao', 'kaa', 'taareef', 'nagar', 'mangetar', 'bua', 'kameez', 'agreement', 'scrabble', 'support', 'muze', 'problems', 'joote', 'david', 'candles', 'uda', 'hemalata', 'paint', 'orr', 'khilaf', 'khakhre', 'bhyi', 'simon', 'zarur', 'shows', 'baliye', 'matke', 'barat', 'amavas', 'channel', 'dvd', 'deepu', 'cultural', 'anamika', 'munh', 'contest', 'inam', 'likhane', 'liner', 'chupi', 'swadamini', 'seeta', 'pradeep', 'bhuptani', 'bekar', 'chhodiye', 'jama', 'bet', 'bate', 'dry', 'bahana', 'bhav', 'bech', 'chhodkar', 'jaaungi', 'chhed', 'pehna', 'ghutne', 'kaunsa', 'fark', 'salon', 'khyal', 'bhains', 'istri', 'inn', 'qubool', 'safed', 'dauda', 'bhatiji', 'mani', 'made', 'theres', 'ulta', 'kiss', 'knock', 'kahane', 'chalao', 'embassy', 'nirdosh', 'meethi', 'henh', 'kisme', 'jiju', 'dinon', 'bolunga', 'lijiyega', 'wake', 'sunte', 'chodne', 'turant', 'rumal', 'indra', 'walk', 'fit', 'laane', 'planning', 'chill', 'called', 'marte', 'ghanta', 'kheer', 'gadha', 'mote', 'baithkar', 'dharm', 'sachin', 'kele', 'darwaza', 'washing', 'dhone', 'dali', 'samjhaun', 'dikhte', 'swarg', 'khatm', 'advani', 'deal', 'pahli', 'kaash', 'watchmen', 'hon', 'dukh', 'clear', 'exhibition', 'mantra', 'firse', 'milane', 'fair', 'rakhne', 'mamuli', 'videshi', 'nikali', 'mooze', 'cassette', 'sunane', 'ine', 'po', 'awards', 'teesri', 'jivan', 'baton', 'ge', 'milati', 'kahega', 'clearly', 'biryani', 'bure', 'bataun', 'real', 'seene', 'dava', 'baare', 'dikhate', 'crore', 'delhi', 'isnt', 'ring', 'shor', 'dogi', 'besides', 'inhone', 'gonna', 'gun', 'kill', 'dala', 'nikaalne', 'samjhana', 'zaroorat', 'peena', 'kyonki', 'mujhase', 'karake', 'antique', 'aapako', 'bagal', 'hazaar', 'fail', 'i’m', 'giragit', 'naanee', 'maree', 'galatee', 'zyaada', 'leejiye', 'daam', 'ducting', 'to…', 'chaahatee', 'naye', 'nuksan', 'everyone', 'musibat', 'aag', 'jal', 'soon', 'rahenge', 'scotch', 'bachne', 'wai', 'voh', 'later', 'pocha', 'hope', 'trying', 'chhota', 'sauce', 'chammach', 'darwaje', 'tukde', 'oho', 'ao', 'dhundh', 'dikhana', 'set', 'st', 'balki', 'kaali', 'read', 'pichli', 'lagne', 'rakhta', 'walon', 'kamar', 'rubbish', 'apple', 'aaaaaa', 'mon', 'tower', 'steel', 'manga', 'jabardasti', 'daali', 'taiyaar', 'bachelor', 'unone', 'neyi', 'bak', 'organize', 'famous', 'animals', 'khelenge', 'chate', 'khash', 'holi', 'madat', 'samhal', 'kahu', 'honest', 'akela', 'jaha', 'dhona', 'pressure', 'breakfast', 'chorke', 'kapre', 'entertainment', 'eureka', 'chupayi', 'cabre', 'story', 'fantastic', 'couples', 'invitations', 'age', 'hak', 'gari', 'upabash', 'anchar', 'tareef', 'kiska', 'crying', 'dawa', 'hasa', 'rat', 'urvashi', 'range', 'padte', 'telephone', 'sayed', 'writer', 'tod', 'lagakar', 'geye', 'odd', 'prize', 'surname', 'bachat', 'khaas', 'finger', 'banayi', 'massi', 'uthane', 'mumma', 'kapdo', 'china', 'gusse', 'humme', 'car', 'jiska', 'naak', 'sakal', 'uthake', 'tumhaari', 'brother', 'kismat', 'beg', 'manega', 'girl', 'cousin', 'stove', 'clean', 'hooti', 'hold', 'ayenge', 'saalo', 'judge', 'vetha', 'anirudh', 'kela', 'self', 'humaari', 'gaane', 'bhans', 'karwane', 'third', 'cinema', 'khar', 'sandhya', 'expression', 'hear', 'kehena', 'iyaad', 'municipal', 'corporation', 'ti', 'aab', 'construction', 'record', 'rosheh', 'chalti', 'laa', 'karogi', 'nara', 'bundle', 'fast', 'cover', 'maat', 'rakhe', 'padhe', 'churaya', 'repeat', 'gazab', 'complicated', 'desai', 'ahhh', 'dekhbhal', 'ungli', 'huay', 'qki', 'oil', 'paintings', 'bolega', 'muse', 'peechhle', 'lgta', 'hatt', 'skirt', 'traffic', 'pehni', 'napkin', 'need', 'peeta', 'wonder', 'puchh', 'vinci', 'dish', 'dull', 'nashik', 'buddhi', 'lakshmibai', 'naukrani', 'roka', 'jolly', 'game', 'valentines', 'hair', 'unfortunately', 'picasso', 'ranjana', 'dhakkan', 'sukh', 'bechaare', 'cheque', 'red', 'law', 'dog', 'manzur', 'yuyu', 'type', 'insist', 'public', 'rey', 'haram', 'cooking', 'btaunga', 'pari', 'pehnu', 'laundaries', 'electricity', 'chalaungi', 'leather', 'mannat', 'rehte', 'aaah', 'brigade', 'head', 'qualified', 'unhein', 'saag', 'pairi', 'ooh', 'chashme', 'sasti', 'reaction', 'pest', 'chhote', 'even', 'rom', 'lord', 'refrigerator', 'suicide', 'hanger', 'dhul', 'care', 'sadak', 'license', 'nimbu', 'phenk', 'izzat', 'ghee', 'cocktail', 'sahani', 'reading', 'monizay', 'baaton', 'anyways', 'betha', 'raj', 'hasti', 'kehne', 'ismei', 'character', 'bahadur', 'kyaa', 'hush', 'dharam', 'bolti', 'dimaag', 'qitab', 'banaaiye', 'patte', 'naal', 'mark', 'tabduk', 'audience', 'mahal', 'celebration', 'priya', 'rishta', 'bethi', 'tussi', 'rajinder', 'urgent', 'ghochun', 'tata', 'hara', 'gawah', 'bhut', 'album', 'hmmmm', 'chalne', 'tension', 'madhusudhan', 'kaal', 'aae', 'bheji', 'khareedane', 'wrist', 'watch', 'jijaji', 'feko', 'bo', 'fish', 'pappa', 'dhudh', 'wembley', 'twanshu', 'ankhein', 'bharat', 'shatranj', 'betho', 'hil', 'btaiye', 'kesi', 'trishna', 'battery', 'oolala', 'foodmart', 'sneeze', 'batate', 'wade', 'sorrow', 'vamp', 'thapar', 'dhire', 'bhel', 'putra', 'salwar', 'uhu', 'artical', 'pede', 'ashram', 'scratch', 'kulta', 'anathashram', 'mumi', 'ghunghat', 'manglu', 'bhavishyavani', 'chika', 'sita', 'datun', 'chijen', 'salo', 'manthra', 'hase', 'aau', 'ekadam', 'behtar', 'home', 'mithaai', 'laddu', 'fruits', 'stickers', 'shubh', 'goodbye', 'nalayak', 'aakhir', 'jeans', 'ungali', 'laut', 'marna', 'bachcha', 'explanation', 'kurte', 'seriously', 'khatra', 'swear', 'vichar', 'drama', 'ayy', 'naukari', 'young', 'dekhega', 'logi', 'killer', 'tayari', 'mausa', 'pite', 'lagegi', 'kudi', 'belated', 'mahangi', 'ay', 'cd', 'collection', 'nind', 'towers', 'pukara', 'common', 'bhale', 'vagaira', 'goodness', 'pese', 'dids', 'baithiye', 'mia', 'banakar', 'kaaj', 'dhundhne', 'gay', 'hila', 'actual', 'veg', 'interval', 'male', 'hazam', 'fixed', 'lai', 'upper', 'allowed', 'trin', 'tron', 'mystery', 'cycle', 'paar', 'tra', 'laao', 'darvaja', 'khola', 'pooch', 'aakhiri', 'pant', 'desperate', 'besharam', 'personality', 'gora', 'taiyar', 'sagi', 'chalai', 'rahana', 'final', 'queen', 'garma', 'dara', 'pattern', 'sharab', 'methi', 'cookies', 'custard', 'bhagana', 'lagate', 'chambu', 'chodo', 'hadsa', 'tohfa', 'khuli', 'midnight', 'chabi', 'saritha', 'champa', 'refund', 'exchange', 'sudhamni', 'saudamini', 'bolate', 'twist', 'paraathe', 'raita', 'parathe', 'jute', 'annual', 'rahunga', 'afsos', 'aawaz', 'maina', 'stock', 'charbi', 'kali', 'thermometer', 'utarne', 'tarike', 'talking', 'dopahar', 'jhagad', 'balon', 'gum', 'heard', 'anything', 'living', 'classical', 'paddy', 'chhodati', 'harmonium', 'east', 'studio', 'ram', 'tailor', 'mangalsutra', 'nighty', 'could', 'najar', 'residence', 'niklo', 'kasoor', 'nikalne', 'brush', 'vakt', 'usane', 'bottlai', 'overacting', 'karoon', 'dee', 'yahaan', 'rakhenge', 'zamaane', 'mamee', 'akhabaar', 'peechhe', 'vahee', 'desee', 'daaroo', 'moneesha', 'chaintair', 'kabaadee', 'vaapas', 'kharaab', 'shaayad', 'tumhaara', 'dhyaan', 'mainne', 'chupboard', 'i’ll', 'mask', 'yah…', 'exercise', 'excercise', 'kaid', 'ailaichtrichity', 'gae', 'aapakee', 'ijzat', 'hindee', 'faayada', 'chhup', 'rahiye', 'points', 'titles', 'khai', 'g', 'hamse', 'whisky', 'single', 'shift', 'surgery', 'karwani', 'shant', 'happened', 'peene', 'karvane', 'advocate', 'evening', 'shhhh', 'pyari', 'jala', 'dafa', 'ai', 'azadi', 'bijwa', 'pahunchi', 'murge', 'deeware', 'useless', 'chije', 'plane', 'badh', 'vision', 'fix', 'sapne', 'cricket', 'hanikarak', 'chalungi', 'warning', 'bin', 'bhikhari', 'mamta', 'arrangement', 'seat', 'stretcher', 'comfortable', 'bowl', 'comeon', 'sandals', 'saam', 'maang', 'chips', 'naukar', 'glasses', 'sansar', 'pakro', 'cup', 'alu', 'aaplog', 'bistar', 'five', 'hihi', 'stand', 'rahoge', 'radio', 'monday', 'tubelight', 'ayo', 'sunao', 'fun', 'kahne', 'hargis', 'bulayenge', 'nakhun', 'macchar', 'marke', 'sudhar', 'fut', 'maharaj', 'naukri', 'hobby', 'jau', 'clue', 'pankha', 'banaye', 'surprised', 'jaoge', 'sundar', 'dosa', 'catch', 'nah', 'kamine', 'chupke', 'kachre', 'chuwo', 'original', 'fasa', 'tie', 'sabki', 'minister', 'blank', 'conditions', 'fek', 'khari', 'waja', 'padke', 'pakka', 'received', 'tin', 'numbers', 'jar', 'villain', 'son', 'tiger', 'cell', 'impact', 'also', 'girls', 'auntie', 'paregi', 'sidha', 'cabin', 'pleasant', 'amazing', 'chura', 'manta', 'himmat', 'kahaani', 'kitab', 'hoonge', 'nafrat', 'professor', 'poori', 'inspiration', 'wasool', 'nagesh', 'books', 'bookstore', 'compulsory', 'khandaan', 'bicchu', 'keheta', 'settle', 'burayi', 'prasaad', 'nag', 'naagin', 'rokne', 'okra', 'hoogi', 'seedhi', 'gaali', 'ulte', 'chotti', 'khussi', 'used', 'singing', 'ohhhh', 'rahein', 'dancing', 'rani', 'kholke', 'jaanti', 'gareebi', 'saach', 'kahungi', 'masoom', 'dhaniya', 'huye', 'kachda', 'bah', 'sharminda', 'cockroaches', 'chain', 'aaram', 'maaru', 'poem', 'reshma', 'sammelan', 'roshni', 'gu', 'adha', 'talented', 'mehta', 'jin', 'west', 'urf', 'would', 'street', 'lukkha', 'cheezein', 'baithna', 'almost', 'peti', 'brown', 'feeling', 'bole', 'banega', 'jeene', 'raaz', 'aayein', 'fungus', 'demolition', 'department', 'gulabjamun', 'kayn', 'cheating', 'bakt', 'office', 'jayungi', 'hit', 'kyan', 'khake', 'wajan', 'churidaar', 'churidar', 'report', 'kamse', 'bhaga', 'padmabhushan', 'swarupa', 'pachaas', 'tijori', 'monishaaa', 'experiment', 'sumitra', 'kuyn', 'double', 'knew', 'situation', 'agree', 'hosh', 'aunti', 'piyoge', 'roop', 'mix', 'sri', 'sasuma', 'rukenge', 'everything', 'pila', 'stethoscope', 'kamjor', 'paati', 'gunde', 'puchha', 'roshes', 'ud', 'lauti', 'bechta', 'jhat', 'tees', 'bna', 'antakshari', 'underwear', 'hawaldar', 'tasveer', 'faisla', 'strike', 'padenge', 'mediocre', 'woww', 'cheej', 'maarne', 'esse', 'virus', 'laati', 'leonardo', 'chicku', 'layak', 'nhii', 'bnao', 'nariyal', 'hmare', 'utaar', 'lu', 'headlines', 'kanjoos', 'rhti', 'wariya', 'skta', 'utpam', 'taklif', 'damage', 'skte', 'anaath', 'devil', 'halanki', 'confidence', 'khubsurat', 'certified', 'btata', 'jiske', 'filter', 'deewar', 'marti', 'america', 'honi', 'vegas', 'jeeta', 'rupayee', 'gross', 'cheeze', 'personal', 'bhaaji', 'chaal', 'jayezaad', 'patron', 'paheli', 'jitni', 'proud', 'paw', 'symbol', 'paintain', 'filmon', 'banoge', 'members', 'loge', 'bhatak', 'banate', 'ghodi', 'ghoda', 'bante', 'ekdum', 'behenji', 'deeds', 'khet', 'zabardast', 'daag', 'katori', 'textile', 'road', 'shakkar', 'graduate', 'standard', 'surgeon', 'akhir', 'puche', 'airhostess', 'goes', 'mayor', 'chaubees', 'ten', 'aaan', 'ahaha', 'old', 'auratein', 'divorcy', 'twentieth', 'celebrate', 'perfect', 'banau', 'sinus', 'bore', 'munna', 'aan', 'note', 'downmarket', 'woo', 'istree', 'pouch', 'rakhungi', 'thaila', 'janardhan', 'milna', 'still', 'prepared', 'details', 'jalta', 'loo', 'allow', 'vegetable', 'stir', 'farsh', 'phenyl', 'gire', 'sabun', 'happening', 'lassi', 'xerox', 'fees', 'person', 'achhi', 'banti', 'atmosphere', 'cheeje', 'janta', 'jallaad', 'apki', 'sunn', 'laayi', 'dibbe', 'padti', 'center', 'silence', 'mehka', 'nostalgia', 'scarecrow', 'parties', 'ahuja', 'humein', 'pala', 'vinegar', 'onions', 'yuck', 'aey', 'bless', 'tatti', 'aaja', 'padhna', 'potty', 'row', 'dusron', 'swimming', 'view', 'khoobsurat', 'bikini', 'pehne', 'maangane', 'mami', 'haaa', 'v', 'ishiliye', 'terrace', 'u', 'khare', 'research', 'chhori', 'mrityu', 'jabab', 'fanshi', 'saja', 'walter', 'allergy', 'kapdon', 'khargosh', 'cushion', 'marathon', 'farmhouse', 'arguments', 'kholne', 'dug', 'dugi', 'strawberry', 'earrings', 'chhapi', 'regional', 'compartment', 'balm', 'ladoo', 'filmo', 'fufaji', 'photographs', 'harvard', 'kahun', 'jaogi', 'khudh', 'actors', 'uhm', 'bachan', 'abhishek', 'doctors', 'shivji', 'taaki', 'sadh', 'khil', 'group', 'ohhh', 'bewakoof', 'hug', 'bhanji', 'masale', 'palak', 'seedhe', 'veerbada', 'whoopie', 'daksesh', 'bethe', 'loudspeaker', 'padhke', 'fellow', 'sunno', 'kur', 'kapda', 'policy', 'accept', 'mehnat', 'kavitaen', 'salwaar', 'mistake', 'printer', 'chad', 'suction', 'udd', 'copies', 'darr', 'oi', 'samaan', 'shangetar', 'parwaah', 'bajaie', 'stomach', 'marble', 'caramel', 'teh', 'marzi', 'follow', 'mahishasur', 'dekhlo', 'gurpreet', 'bachao', 'written', 'stylish', 'facing', 'page', 'sakega', 'jalo', 'kehete', 'kehata', 'aga', 'jagaha', 'tali', 'kahunga', 'raheho', 'nikalti', 'chahate', 'rooj', 'ting', 'khau', 'jae', 'vishay', 'chatri', 'meter', 'decide', 'vasool', 'cooling', 'centre', 'address', 'apamaan', 'daamaad', 'logonko', 'rehane', 'yein', 'samajhte', 'khaenge', 'katora', 'laundry', 'chikki', 'daalo', 'player', 'waiting', 'coming', 'paneer', 'bahane', 'kidney', 'loud', 'mood', 'lori', 'nahate', 'woopie', 'giri', 'bimar', 'dukan', 'jesi', 'unchi', 'social', 'anshan', 'khaiye', 'layi', 'week', 'ikhatha', 'jitna', 'bhand', 'muhn', 'behre', 'gunga', 'lamba', 'marunga', 'ludak', 'kabtak', 'chorr', 'girr', 'ansu', 'batati', 'cheese', 'samiti', 'meeting', 'khatarnak', 'curry', 'corridor', 'jhail', 'payenge', 'idli', 'fate', 'sarla', 'licence', 'chalane', 'uniform', 'nadan', 'footpath', 'bukhaar', 'african', 'midas', 'bano', 'sidhe', 'looking', 'corrosion', 'moisture', 'nare', 'mamle', 'kahee', 'nikalna', 'yuu', 'patta', 'chudake', 'cham', 'sakatee', 'seduce', 'editor', 'jhamkukdi', 'bhabhuti', 'vegetarian', 'antidote', 'directly', 'hearing', 'kisliye', 'series', 'bulana', 'performance', 'aadarsh', 'rupiya', 'sradhanjali', 'jadi', 'yehan', 'samjhaya', 'jod', 'barbad', 'rupya', 'dushasan', 'thaili', 'dhanjibhai', 'anath', 'sair', 'bhagi', 'bhukhar', 'blackmail', 'episode', 'coma', 'writing', 'overnight', 'chah', 'mungh', 'viren', 'los', 'angeles', 'tomatar', 'jhadhu', 'years', 'ahan', 'chorro', 'hame', 'sambar', 'buttons', 'istifa', 'resignation', 'apman', 'fekte', 'haste', 'rest', 'hasi', 'cesarean', 'kadak', 'boxes', 'unn', 'hatho', 'liljiye', 'dukandar', 'consider', 'jaaoge', 'zyatti', 'almari', 'teesre', 'katti', 'pathetic', 'expire', 'faila', 'jaaun', 'option', 'saboot', 'aulad', 'leak', 'maarna', 'hokar', 'sochti', 'phat', 'coincidence', 'exaggerate', 'dengi', 'samjhati', 'den', 'safar', 'gunah', 'sunata', 'kabristan', 'gaur', 'sharm', 'kunwari', 'kunwara', 'kumara', 'aaungi', 'maje', 'forget', 'jetpur', 'billi', 'lakadi', 'chukh', 'solid', 'thin', 'chan', 'lagani', 'badmash', 'soche', 'bajane', 'vakya', 'mal', 'cold', 'piyenge', 'french', 'godi', 'dikhta', 'mamma', 'champion', 'jale', 'en', 'hare', 'jugalkishor', 'gaaye', 'sanam', 'masa', 'kormore', 'yellow', 'bhookh', 'jethalal', 'saade', 'mineral', 'zidd', 'gaon', 'bholi', 'demand', 'bolata', 'aila', 'dha', 'thana', 'dosh', 'powder', 'purse', 'pan', 'peg', 'piti', 'vodka', 'went', 'ramona', 'choice', 'drinks', 'uthta', 'argument', 'taiyari', 'ghasitaram', 'pune', 'pran', 'swayam', 'enter', 'apparently', 'tunnel', 'bargaining', 'barsi', 'bhainsa', 'park', 'dharmraj', 'avashya', 'shri', 'sunaeye', 'costume', 'trown', 'hansi', 'jungle', 'chalata', 'troo', 'aese', 'dikh', 'maanti', 'wallet', 'insan', 'sehat', 'pay', 'dramatic', 'samjhane', 'rascals', 'headlights', 'chhodo', 'spare', 'farz', 'rasgulle', 'tree', 'pina', 'kachori', 'cheezo', 'chambhu', 'thikane', 'bulate', 'karona', 'psychological', 'assume', 'test', 'dieting', 'nakhre', 'om', 'jewellery', 'chand', 'nishchit', 'indravardan', 'mercedes', 'badalne', 'gadbad', 'pravesh', 'cheer', 'piyo', 'sudhamini', 'frock', 'rahul', 'many', 'mistic', 'bataenge', 'wahiyat', 'known', 'sona', 'magarmacch', 'champakali', 'takatak', 'blouse', 'action', 'maru', 'mante', 'laat', 'creative', 'prakash', 'mart', 'clearance', 'fry', 'poisoning', 'dikhaiye', 'padane', 'hans', 'dalne', 'chautha', 'chauthe', 'wadia', 'wapis', 'sarabai', 'gole', 'khansi', 'vishwas', 'price', 'chewing', 'granddaughter', 'sikhaya', 'proof', 'riaz', 'singer', 'padmavati', 'meena', 'form', 'equaliser', 'aasani', 'ilaaj', 'jodi', 'alter', 'designer', 'bhelpuri', 'fatafat', 'dhoondne', 'people', 'mystic', 'confirm', 'galatfahmi', 'chat', 'prove', 'janm', 'aajao', 'stool', 'chaha', 'dada', 'lee', 'abhee', 'jalaane', 'die', 'rolai', 'sharaabee', 'whiskaiy', 'kahaan', 'gam', 'dikhaee', 'shuroo', 'tohafa', 'tumhaaree', 'daialair', 'vairy', 'purai', 'kaareegaree', 'muchh', 'aaee', 'bachche', 'vaala', 'jisakee', 'vaale', 'isako', 'foot', 'matalab', 'baraabar', 'don’t', 'making', 'vaah', 'tha…', 'sheera', 'bardaasht', 'gareeb', 'bhikhaaree', 'dhandha', 'chaahata', 'bhik', 'meree', 'kaheen', 'tubai', 'grid', 'kabhee', 'trip', 'voltagai', 'achaanak', 'haan…', 'suffocation', 'ventilation', 'automatic', 'open', 'mouth', 'happens', 'mice', 'drop', 'close', 'itana', 'bolie', 'saabit', 'kahoon', 'pareshaan', 'warn', 'turn', 'dhadkan', 'shetty', 'sunil', 'chalege', 'pagli', 'badalna', 'power', 'museebat', 'petrol', 'acid', 'chanta', 'balance', 'icu', 'ohohoho', 'nirdai', 'corporate', 'x', 'commissioner', 'chhupana', 'manchande', 'sasta', 'sade', 'starts', 'kamwali', 'didnt', 'sharvan', 'girftar', 'jayege', 'rafa', 'mota', 'dam', 'rukti', 'generally', 'rahte', 'seth', 'aesa', 'dalu', 'socks', 'dumb', 'charades', 'tacky', 'guss', 'mahaul', 'sentence', 'chupaya', 'khoi', 'rasta', 'bread', 'hostess', 'toothbrush', 'cars', 'duty', 'bhavishyvani', 'atak', 'mungfali', 'atka', 'freezer', 'khansiye', 'mum', 'kaala', 'aaspaas', 'taklu', 'lijeye', 'packing', 'wa', 'sunaya', 'pagalpan', 'pal', 'jiye', 'arthi', 'uthne', 'vahin', 'system', 'karaya', 'weatherproof', 'toot', 'pleasure', 'button', 'mattress', 'cheap', 'kat', 'sambhalo', 'dekhogi', 'chitiya', 'sakungi', 'jur', 'officer', 'chuta', 'baarf', 'potato', 'bathe', 'kinch', 'parta', 'kudh', 'desert', 'tea', 'jahar', 'fel', 'katne', 'mixer', 'frozen', 'ehi', 'apun', 'jhaaru', 'fenkke', 'jine', 'maidan', 'roke', 'apaman', 'yippee', 'asan', 'fan', 'akar', 'kahoge', 'kahte', 'dusro', 'fm', 'sankar', 'sagar', 'sabudana', 'cola', 'theme', 'banenge', 'hiran', 'horse', 'ghumti', 'kurkure', 'italian', 'tambola', 'full', 'rupaiya', 'fat', 'aajse', 'darwaja', 'etc', 'tumlogo', 'animal', 'pahenne', 'mangoge', 'bapas', 'shuda', 'aat', 'relationship', 'hurray', 'loker', 'malik', 'sabkuch', 'honestly', 'dain', 'paungi', 'irritate', 'hahahahaha', 'hihihihi', 'kharide', 'parna', 'pankhe', 'latak', 'gol', 'naste', 'lati', 'tendulkar', 'paro', 'batsman', 'opening', 'wanted', 'baaje', 'aww', 'pahnu', 'excited', 'friendly', 'tappe', 'sutra', 'jhute', 'dikhaye', 'chamche', 'dikhati', 'treasure', 'hunt', 'atakti', 'bhatakti', 'sash', 'joint', 'imandari', 'kiraya', 'humko', 'angrayi', 'bewafayi', 'history', 'inzaam', 'hoge', 'bagar', 'pas', 'fruit', 'halwa', 'dastakhat', 'childish', 'games', 'choriye', 'kharidi', 'iccha', 'coat', 'matching', 'share', 'turwa', 'theekha', 'recipe', 'tej', 'maze', 'milaya', 'baji', 'uthaunga', 'uthaya', 'misunderstanding', 'bewokoof', 'bulata', 'television', 'khayega', 'kish', 'pyaz', 'gobi', 'eating', 'habits', 'milk', 'shone', 'safely', 'careful', 'nam', 'adat', 'pallavi', 'memsaheb', 'surat', 'jasus', 'haato', 'mental', 'yoga', 'sikha', 'gair', 'tote', 'dattu', 'sadhi', 'ordinary', 'label', 'ragda', 'pattis', 'padne', 'means', 'jitne', 'mooti', 'utni', 'padna', 'doosre', 'hows', 'panna', 'dedicated', 'mazaak', 'samajdar', 'hian', 'bikul', 'chamcha', 'chilled', 'chood', 'aayen', 'khus', 'akal', 'daane', 'khaata', 'khaake', 'rai', 'meant', 'haamare', 'kisiki', 'magarmach', 'hoona', 'dustbin', 'snake', 'rakhegi', 'maarte', 'fancy', 'hoote', 'maara', 'aue', 'wajay', 'chaali', 'tis', 'saabziwaale', 'behes', 'baacha', 'payi', 'naraj', 'bheeji', 'udti', 'irritating', 'rone', 'drug', 'addict', 'beach', 'kaapde', 'samhaal', 'pretty', 'dikhne', 'cehere', 'reheti', 'factory', 'spain', 'changa', 'khilayi', 'laye', 'blanket', 'hayo', 'tt', 'muuah', 'kucch', 'chnadarani', 'maane', 'waaste', 'loog', 'cehera', 'likkha', 'extremely', 'cultured', 'dekhke', 'bataiyein', 'nikla', 'saabke', 'ryme', 'asmaan', 'dabaiye', 'choor', 'rehene', 'international', 'inaudible', 'ki…', 'fekne', 'usdin', 'poucha', 'baddi', 'haas', 'hot', 'it…', 'eisa', 'yu', 'maanta', 'unusual', 'kehene', 'dhinchak', 'dhukchuk', 'suunke', 'picche', 'muskurati', 'goongi', 'beheri', 'std', 'apka', 'bhurbhur', 'jawan', 'bhoopu', 'raju', 'aankhein', 'khada', 'ilaka', 'flirt', 'choot', 'poet', 'aj', 'carry', 'maarni', 'jaizaad', 'sirshak', 'pakdi', 'gaata', 'pardesi', 'continue', 'janab', 'yaw', 'waa', 'batau', 'komal', 'indiawali', 'chaand', 'rehega', 'toda', 'muscles', 'heroine', 'saar', 'deenge', 'zariye', 'sangeeta', 'sunayi', 'playing', 'lagein', 'country', 'desh', 'andolan', 'indravardha', 'humaara', 'kholiye', 'jish', 'maaya', 'exotic', 'bit', 'ihan', 'banay', 'radhabhai', 'barna', 'iodex', 'rajsekhar', 'inamdar', 'wild', 'khaali', 'illegal', 'renew', 'registered', 'daard', 'baaj', 'renewal', 'makan', 'soksabha', 'contrary', 'kuye', 'baakt', 'dhoka', 'paap', 'nikalke', 'zip', 'dhekne', 'ghusa', 'force', 'ompoori', 'dubbing', 'bhari', 'circus', 'joker', 'gur', 'documents', 'hapta', 'jalane', 'sunana', 'sukha', 'bhare', 'churail', 'majumder', 'magic', 'unless', 'chooti', 'maaf', 'maard', 'banegi', 'successful', 'might', 'kamra', 'worked', 'dordaya', 'hay', 'incredible', 'kaar', 'pasina', 'abb', 'dadima', 'sikh', 'refuse', 'batayungi', 'rakhain', 'bhaari', 'sifr', 'serials', 'thappar', 'marega', 'dadagiri', 'b', 'dhong', 'ekdam', 'wheelchair', 'samai', 'britney', 'spears', 'pankaur', 'srodhanjoli', 'jonu', 'jite', 'porbandar', 'ekbaat', 'paucha', 'jani', 'training', 'deni', 'akhri', 'kahengi', 'updated', 'apology', 'submit', 'rhte', 'fayeda', 'pilane', 'latkati', 'aachar', 'murjha', 'jhagda', 'straw', 'salamat', 'ohho', 'oils', 'attractive', 'khachhar', 'aankhe', 'aanshu', 'samet', 'rangara', 'artist', 'nanga', 'khas', 'kb', 'eska', 'hmari', 'governess', 'banke', 'aam', 'jeena', 'baithu', 'baithti', 'chamgadar', 'cheeti', 'semi', 'nude', 'painter', 'weight', 'esiliy', 'kheech', 'lgega', 'stammer', 'lga', 'mmmmm', 'arrived', 'zindabaad', 'wainting', 'island', 'garmi', 'yhi', 'beer', 'pait', 'shooting', 'director', 'padhte', 'dubara', 'angoor', 'mizaz', 'husbands', 'adam', 'eve', 'leaf', 'shakki', 'jaakar', 'sabkuchh', 'mtlb', 'aayega', 'react', 'signals', 'secret', 'jiski', 'bachho', 'inaugration', 'decided', 'sunaiye', 'beh', 'musical', 'padengi', 'esme', 'shi', 'jitane', 'rehe', 'fuai', 'low', 'silk', 'gown', 'six', 'inch', 'bulati', 'aappe', 'auction', 'khareedne', 'poncha', 'dilip', 'filmstars', 'cheed', 'sahil…', 'hoo', 'beheno', 'goa', 'tal', 'taal', 'las', 'juye', 'adhe', 'rude', 'bekaar', 'entire', 'tasveerein', 'saxophone', 'paintaing', 'edward', 'teme', 'housing', 'dollars', 'lines', 'paison', 'khareedna', 'bakwaas', 'tume', 'feet', 'budget', 'tagline', 'goldchain', 'today', 'hargiz', 'padhta', 'facilities', 'sharte', 'manne', 'baalo', 'race', 'viswas', 'unme', 'machhar', 'marriages', 'heaven', 'sarso', 'kinna', 'kisam', 'pehno', 'ate', 'ghungroo', 'kavitaye', 'freshen', 'phd', 'operation', 'kursi', 'bhagne', 'till', 'four', 'ex', 'mangwaya', 'sahils', 'dede', 'saadhe', 'chalenge', 'penny', 'poore', 'mardon', 'jeetne', 'mulaqat', 'eighteenth', 'nineteenth', 'polio', 'dose', 'likhenge', 'ri', 'khichadi', 'khoj', 'manana', 'tareekh', 'nine', 'nashe', 'jakr', 'subeh', 'khaega', 'pie', 'envelopes', 'covers', 'mm', 'rokna', 'aasan', 'wanna', 'mate', 'chalun', 'pichhali', 'sarees', 'cotton', 'puccha', 'carpenter', 'past', 'khona', 'bardash', 'paunga', 'wagera', 'silwa', 'jaengi', 'dikhega', 'sunblock', 'lotion', 'haqlana', 'phus', 'pregnant', 'live', 'ever', 'luck', 'chhutkara', 'naaaaa', 'naaa', 'naaaa', 'mauka', 'milte', 'naukaron', 'umhm', 'ginger', 'sahara', 'boo', 'dhoya', 'dhoye', 'patane', 'badlo', 'royi', 'unlimited', 'hasmukh', 'samajhkar', 'basi', 'murad', 'bufe', 'chhee', 'ilzaam', 'rakhun', 'aahhh', 'claptomenia', 'manogi', 'disorder', 'samjh', 'rate', 'cream', 'surjeet', 'suri', 'pesha', 'preposterous', 'ahah', 'padhai', 'bees', 'degree', 'cells', 'multiply', 'behka', 'bela', 'gaa', 'pyaaz', 'gentlemen', 'students', 'wagerah', 'mushqil', 'ears', 'drugs', 'saraswati', 'huhuhuhuhu', 'cargo', 'pants', 'chicken', 'builder', 'parttime', 'kidnapper', 'exact', 'cutie', 'naunau', 'mahiney', 'peit', 'anjaan', 'horrible', 'itthe', 'wadda', 'paer', 'kamino', 'kanche', 'aaho', 'dodo', 'work', 'ispe', 'worse', 'hoya', 'lower', 'inhein', 'theory', 'expect', 'dean', 'kaatna', 'figure', 'padosi', 'dosti', 'swimmimg', 'jealous', 'nangupangu', 'plague', 'karva', 'sis', 'ph', 'ken', 'intention', 'apse', 'kiraye', 'upor', 'pahele', 'skin', 'symptom', 'practical', 'uttara', 'lagna', 'wooh', 'diwar', 'tuch', 'ewwww', 'kiu', 'chhupe', 'anu', 'kahena', 'botal', 'punar', 'zid', 'waltor', 'akaar', 'solution', 'buddhu', 'area', 'boring', 'latkana', 'kehke', 'zoo', 'kaheke', 'patak', 'chikne', 'infect', 'shampoo', 'chamatkar', 'amritsari', 'expert', 'industry', 'r', 'zehar', 'laash', 'kareebkareeb', 'aashram', 'yogi', 'rakhana', 'ghaseet', 'heere', 'lubhna', 'subtle', 'khatta', 'gehne', 'tight', 'banned', 'bologi', 'chhapa', 'kashish', 'bss', 'kalakaar', 'times', 'mansion', 'mausam', 'breathing', 'around', 'ciao', 'cocktails', 'sharp', 'saheli', 'thermos', 'sajega', 'certificate', 'gopal', 'filme', 'behaviour', 'aayiye', 'seedha', 'somebody', 'ziddi', 'dewar', 'institute', 'reference', 'bhaiye', 'tanvir', 'rajgopal', 'theatre', 'respectable', 'sambhalungi', 'nilofer', 'pehene', 'stars', 'seekhna', 'pehchanta', 'bollywood', 'proven', 'sava', 'chadha', 'sanan', 'alava', 'registan', 'nepali', 'shaampi', 'rehearsal', 'bheegi', 'ahsaan', 'expiry', 'date', 'rengte', 'todte', 'borivali', 'grey', 'switzerland', 'suspense', 'karli', 'jeeti', 'maaji', 'aalo', 'chitchor', 'iskool', 'tissue', 'sunghao', 'ahhhh', 'farak', 'camp', 'kabadi', 'inauguration', 'pathar', 'ghanti', 'bhikari', 'nakal', 'honesty', 'taali', 'likhunga', 'sunenge', 'shashi', 'shilwaya', 'silwaate', 'shalwaar', 'mistakes', 'chaapkar', 'insurance', 'chabri', 'chapwaane', 'khule', 'kauwe', 'soja', 'banake', 'fandha', 'shandha', 'daalna', 'hopefully', 'hairstyle', 'kardi', 'loved', 'ahead', 'maafi', 'electropathy', 'maalum', 'guy', 'utri', 'manjeet', 'job', 'haanji', 'ussi', 'maari', 'disgusting', 'nutcase', 'kandhe', 'maxi', 'gaal', 'chamak', 'flooring', 'baked', 'bicha', 'rishte', 'green', 'signal', 'act', 'dark', 'savere', 'humei', 'seekhe', 'reciever', 'laad', 'aoge', 'dinn', 'sales', 'strange', 'taufa', 'peheni', 'jajti', 'volume', 'song', 'bau', 'ithe', 'jaanwaro', 'jabaan', 'bolungi', 'blender', 'ache', 'melodramatic', 'meetha', 'karao', 'saman', 'mazaq', 'paal', 'peri', 'gujarati', 'raas', 'outfit', 'bejna', 'grade', 'rakhoge', 'chaat', 'zubaan', 'bharosa', 'bachpana', 'sea', 'karwaun', 'baalon', 'iklota', 'supporter', 'suhaag', 'yaatra', 'enjoy', 'subaha', 'moraaa', 'babul', 'mora', 'auditorium', 'favour', 'pak', 'cement', 'kaat', 'secondly', 'bajaiye', 'bajai', 'aajadi', 'adarshkari', 'sheetal', 'bareme', 'spagetti', 'dakar', 'etiquette', 'rice', 'mange', 'stree', 'neela', 'behosh', 'banaiye', 'rehati', 'bavarchi', 'decision', 'issue', 'video', 'rakhate', 'eksath', 'interest', 'fua', 'bhijwa', 'kissa', 'jyaada', 'hasta', 'service', 'toolkit', 'electric', 'bhe', 'wada', 'paav', 'samajhaav', 'camera', 'manjula', 'dozen', 'bhijavaoonga', 'refri', 'refree', 'hia', 'byebye', 'maam', 'ishaara', 'geele', 'ispar', 'kadi', 'girae', 'dantamanjan', 'mechanic', 'imagination', 'model', 'naughty', 'khareedana', 'chyawanprash', 'sakati', 'hukum', 'add', 'vampire', 'tar', 'paao', 'votes', 'jeetane', 'gujarathi', 'laughter', 'noise', 'acchche', 'ahem', 'pattice', 'juvenile', 'goldfish', 'haww', 'pehale', 'ladaki', 'achhcha', 'majaak', 'khilaya', 'jaroorat', 'aajeeb', 'isame', 'tyaag', 'ehasaan', 'respect', 'lagata', 'harkat', 'immature', 'unopposed', 'governer', 'innocent', 'nishaani', 'fasi', 'mad', 'lalla', 'sleep', 'chuni', 'hawkers', 'safe', 'kangaroo', 'bandhi', 'ponch', 'dalunga', 'parking', 'parkinsons', 'southhall', 'chandi', 'pehenti', 'mol', 'spoke', 'dhyan', 'thos', 'dikhaunga', 'likhta', 'destructive', 'yane', 'mantri', 'telecast', 'kholte', 'keel', 'diwas', 'sholay', 'bhandi', 'behra', 'script', 'sp', 'pnt', 'level', 'hai’', 'sc', 'tm', 'offo', 'gunge', 'dumping', 'jami', 'chess', 'hilega', 'jagirdar', 'bahishkar', 'lecture', 'dohrai', 'sarkar', 'jalaye', 'hatana', 'vakai', 'ankhon', 'shamil', 'lani', 'you’re', 'puchegi', 'ghuma', 'tayar', 'fad', 'arrest', 'barabar', 'puchenge', 'fass', 'dikhti', 'kaafi', 'towel', 'chutti', 'sabne', 'bhens', 'shikayat', 'steps', 'chemistry', 'homosonic', 'compensation', 'mane', 'pqrs', 'rajnikant', 'talati', 'vakil', 'sauteli', 'sukhane', 'bevkuf', 'activist', 'fluorescent', 'hoarding', 'mommma', 'bhangra', 'magistrates', 'prasad', 'vaisa', 'patakte', 'kehana', 'chant', 'chetavni', 'bologe', 'gadhe', 'ichcha', 'detective', 'omkarnath', 'samjhata', 'bulaiyega', 'speaks', 'bengali', 'waiter', 'gone', 'bhramham', 'gachak', 'shanika', 'kanchan', 'luku', 'usual', 'salsa', 'malvika', 'chillana', 'jayant', 'bechaari', 'mangana', 'hilton', 'manager', 'december', 'pohoch', 'doggy', 'grrrr', 'auuuuu', 'auuuu', 'nakhoon', 'infection', 'aachhii', 'zukaam', 'honey', 'blonde', 'sera', 'stairs', 'dafaa', 'earthquake', 'chashma', 'gane', 'gau', 'jaanaa', 'bitch', 'gate', 'excellent', 'patthe', 'jarasal', 'nakli', 'bravo', 'sota', 'svargeey', 'indira', 'gandhi', 'aisehi', 'seduse', 'aankhon', 'hindu', 'romance', 'hanste', 'shamshan', 'major', 'intestine', 'ilaj', 'effects', 'zaruri', 'rajma', 'wall', 'hanging', 'cushions', 'waves', 'dushyan', 'aauuch', 'hyaan', 'mam', 'puchiye', 'nain', 'dogs', 'toothpicks', 'priyanka', 'chikhate', 'motherinlaw', 'bhola', 'university', 'peoples', 'irshad', 'gali', 'chalati', 'inkar', 'dady', 'nibandhmala', 'nibandh', 'aayie', 'shimla', 'churai', 'uthati', 'et', 'alsi', 'bohut', 'abe', 'dijie', 'maholle', 'tofa', 'tutu', 'bhavi', 'barshi', 'likhiye', 'jump', 'likhkar', 'sardanjali', 'paragraph', 'shabdon', 'wast', 'nadi', 'struggle', 'chhoda', 'khoke', 'fascinating', 'bhatnagar', 'sanjeev', 'mamla', 'khata', 'demonstrate', 'preity', 'zinta', 'sus', 'dropati', 'prashnon', 'kone', 'karol', 'dharmputra', 'mahabharat', 'dalti', 'basmati', 'thandi', 'kalyug', 'thake', 'emotional', 'menika', 'karvate', 'devar', 'bajta', 'chintiyan', 'pasta', 'lasagne', 'walnut', 'brownie', 'mutual', 'araam', 'bethke', 'rakhdo', 'hanji', 'kanni', 'bhedhiya', 'jahaz', 'utra', 'mangwai', 'dhum', 'umr', 'anticipated', 'treatment', 'kaanon', 'yet', 'suketu', 'urmila', 'khunkhaar', 'terrorist', 'utna', 'baithega', 'prathana', 'tanya', 'dhundne', 'khelti', 'hobbies', 'khans', 'hunter', 'bhudha', 'matka', 'dhar', 'bihar', 'reciept', 'akhbaro', 'swayamvadhu', 'ishtiyar', 'mehenge', 'ladkio', 'gake', 'tavre', 'encounter', 'ubalte', 'dalte', 'shiridoriya', 'aajtak', 'kud', 'chii', 'rupa', 'hab', 'danh', 'kehet', 'rape', 'deadline', 'panwel', 'naka', 'nikamme', 'hasne', 'pohochta', 'height', 'chinku', 'servant', 'arusha', 'henchman', 'mafia', 'anab', 'shanab', 'indura', 'achar', 'picturein', 'antibai', 'deo', 'talashi', 'alarm', 'kahogi', 'kaikai', 'maroge', 'hasegi', 'fenko', 'au', 'keede', 'makode', 'mukhiya', 'khilana', 'asked', 'nursing', 'naachi', 'bati', 'mithaiyan', 'bundi', 'dryfruits', 'diwalil', 'bantne', 'candal', 'kesa', 'lagaun', 'labh', 'khariden', 'lagau', 'zyattiyan', 'prayashchit', 'prayaschit', 'melodramatically', 'penance', 'drawer', 'dvds', 'differences', 'resolve', 'hogyi', 'tumara', 'candel', 'nilao', 'bahr', 'inss', 'tumare', 'moddle', 'decorations', 'thighs', 'fashionable', 'bayian', 'zahar', 'rephrase', 'chunoge', 'answer', 'suhane', 'lautenge', 'anchahi', 'supremely', 'unwanted', 'child', 'laun', 'lahsun', 'tadka', 'ballpen', 'banunga', 'quality', 'rasesh', 'fekti', 'phate', 'hook', 'poetic', 'fool', 'jhunjhunwala', 'poochenge', 'parvah', 'jaya', 'nauker', 'taklifo', 'padati', 'chupchap', 'gauro', 'gore', 'ra', 'harj', 'responsibility', 'chhat', 'jaipur', 'noch', 'sulta', 'maasi', 'jamke', 'sounga', 'paiza', 'healthily', 'receptionistacally', 'basundi', 'cutlets', 'trirangi', 'dhokala', 'top', 'mareli', 'sadeli', 'gili', 'aaju', 'baju', 'laggo', 'aawar', 'jaawar', 'sangi', 'awoogi', 'goldplated', 'bandi', 'poochha', 'foran', 'sim', 'chokriyo', 'kheloge', 'railgadi', 'alka', 'yagnik', 'udit', 'narayan', 'firki', 'khinch', 'abbi', 'bakriyan', 'sadke', 'dekhni', 'bako', 'gunday', 'mavali', 'bhejte', 'kism', 'bataega', 'madhupushpa', 'launga', 'baithie', 'inne', 'trivennum', 'jatan', 'dikhi', 'easily', 'communicate', 'khichdi', 'kadhi', 'jaidpur', 'chhodake', 'kheton', 'duet', 'tourism', 'bass', 'sochne', 'ayyy', 'chunke', 'khaungi', 'mangne', 'hich', 'kicha', 'sony', 'musafir', 'ooooooo', 'f', 'jhokha', 'sooyi', 'shukr', 'novelty', 'kahen', 'dalta', 'laparvahi', 'bharti', 'talcum', 'peppermint', 'likhate', 'logay', 'tarson', 'pithi', 'natwar', 'chacha', 'health', 'vardhan', 'drinking', 'choose', 'rosewalk', 'kaju', 'badam', 'chivda', 'jot', 'dharti', 'khushbudar', 'khushboodar', 'sacchi', 'antim', 'mythologically', 'marta', 'poona', 'dukane', 'dhundhte', 'comp', 'bhainse', 'outside', 'vehicles', 'aagya', 'palan', 'padhare', 'minuteunhone', 'vaham', 'swadisht', 'trooown', 'seekh', 'motorcycle', 'ehmm', 'motor', 'lambai', 'gehrai', 'tri', 'traa', 'battura', 'batura', 'fadfadaye', 'khatkhaya', 'choole', 'patka', 'unsophisticated', 'dhare', 'automatically', 'kariye', 'planet', 'sprouted', 'moong', 'wheat', 'grass', 'insanon', 'roki', 'gina', 'rokungi', 'sati', 'savitri', 'aaogi', 'mangu', 'darre', 'darate', 'faraq', 'powerful', 'gaina', 'contrast', 'pahna', 'gaas', 'poos', 'checkup', 'nahane', 'maire', 'cylinder', 'padosiyon', 'tode', 'damn', 'headlight', 'mangati', 'rasgulla', 'chillai', 'bagaya', 'tro', 'chaap', 'sherlock', 'homes', 'mausabhi', 'salad', 'chivdachakri', 'veri', 'fatening', 'chize', 'dedi', 'strict', 'diet', 'paardakshak', 'security', 'bulaogi', 'register', 'dastakhad', 'nautanki', 'rukhi', 'jhoot', 'bear', 'mitruv', 'salgirah', 'naroattam', 'roshani', 'sitaron', 'jaona', 'roku', 'sent', 'idravardhan', 'khabardar', 'hawww', 'crisis', 'pargayab', 'ghussi', 'champabai', 'fruad', 'sudabni', 'calculative', 'devious', 'scamster', 'sikhe', 'budhi', 'printed', 'frill', 'sterling', 'apartment', 'pitaji', 'lambe', 'jiyenge', 'chatak', 'balke', 'bawarchi', 'clairvoyant', 'dhundhi', 'ichchadhari', 'saanse', 'dasne', 'kaatne', 'mongoose', 'nevla', 'neva', 'cassete', 'shouldve', 'ghumne', 'walkman', 'raite', 'mona', 'pochi', 'chamdi', 'aansu', 'girana', 'sleeveless', 'pahana', 'chita', 'saugandh', 'khakar', 'hunki', 'baranday', 'pratigya', 'easy', 'thapad', 'laton', 'muhavra', 'duffer', 'samasya', 'introductions', 'jataya', 'sel', 'afwah', 'udai', 'bicke', 'dhandhe', 'grahak', 'muhurt', 'accurate', 'prediction', 'ghot', 'paanchva', 'halan', 'chhata', 'satva', 'aatwa', 'navva', 'duswa', 'giyarwa', 'malay', 'pyara', 'intimate', 'rendezvous', 'adhura', 'khanjar', 'gupton', 'waki', 'draw', 'leja', 'agadam', 'bagdam', 'jackpot', 'ambhol', 'chhuttion', 'thoughts', 'danton', 'chhilke', 'ive', 'filmi', 'sensible', 'eena', 'anju', 'chhodata', 'padma', 'africa', 'jumbo', 'recording', 'matganana', 'atakta', 'mechanically', 'bhaagane', 'terrific', 'sindoor', 'charming', 'aaine', 'dekhye', 'dundh', 'bavjud', 'kangan', 'bring', 'arrre', 'bandhne', 'oceans', 'unknown', 'mountains', 'seek', 'miloge', 'sudhamniji', 'marry', 'hadd', 'bhooch', 'angane', 'jaanbujhkar', 'girega', 'chato', 'lakhte', 'jigar', 'avlad', 'khudkhushi', 'fanda', 'banvane', 'darasal', 'tube', 'jooth', 'sneh', 'grandfather', 'lihaz', 'kartoot', 'chuda', 'aavaaz', 'you…', 'itanee', 'buree', 'atrochious', 'isee', 'watchhman', 'kahakar', 'jalavaane', 'thikaane', 'aaegee', 'sochks', 'machhinai', 'prachtichai', 'pakke', 'khadao', 'bhaee', 'underplay', 'maanata', 'achting', 'utarane', 'vaalee', 'isane', 'khaalee', 'wash', 'basin', 'schotchh', 'thai', 'rochks', 'khushee', 'chhodie', 'manaie', 'maanatee', 'mimichry', '“momm', 'deejie', 'padhana', 'doonga“', '–', 'hansa', 'hansee', 'khadoos', 'aixtr', 'antiquais', 'shauk', 'chhoichai', 'nichai', 'maian', 'absolutaily', 'mughal', 'akhabar…', 'baadashaah', 'knaiw', 'lovaily', 'tohapha', 'kiphaayatee', 'dekhie', 'furniturai', 'marine', 'trachk', 'jisake', 'baajoo', 'puraanee', 'raipair', 'bechata', 'chongratulations', 'nikaalane', 'charpaintry', 'mistree', 'banaee', 'huee', 'antiquai', 'sophistichataid', 'badala', 'saaraabhaee', 'juda', 'mugal', 'kachare', 'nikaalo', 'rahegee', 'thairai’s', 'morai', 'dischussion', 'hums…', 'nahin…', 'main…', 'baaten', 'teree', 'pachkait', 'masaala', 'thodee', 'ubaal', 'dilutai', 'chhuttee', 'banaake', 'khilaoongee', 'kitane', 'aasaanee', 'beetegee', 'apanee', 'rakhee', 'tumaara', 'chhocholatais', 'kaama', 'sootr', 'bhaaree', 'dumbaills', 'usai', 'saiai', 'saaree', 'das–das', 'puraane', 'chaupat', 'maian…', 'pahanake', 'maangen', 'unakee', 'fikr', 'javaab', 'phanse', 'aisee', 'chaaron', 'andhera', 'daravaaza', 'andheree', 'kaid…', 'hamaare', 'bhaabhee', 'dine', 'nayee', 'lagava', 'budgait', 'jaen', 'ailaivator', 'chalee', 'aixplain', 'hai…', 'businaiss', 'offichais', 'powair', 'failurai', 'phans', 'chillae', '“hailp', 'hailp”', 'sunega', 'sony…', 'hisaab', 'suppose', 'sometimes', 'trapped', 'circulation', 'daddy…', 'jaanatee', 'distanchai', 'induvaapas', 'sahee', 'salaamat', 'you’rai', 'khubasoorat', 'par…', 'another', 'sosally', 'tobair', 'sich', 'sober', 'bolake', 'dikhaoon', 'sunie', 'bahaar', 'nikaliega', 'gairamaujoodagee', 'kaisee', 'hotee', 'garamee', 'keejie', 'yaheen', 'pahara', 'lagaata', 'koee', 'gaakar', 'jaayenge', 'gaayega', 'gaatee', 'kya…', 'booth', 'akshay', 'shilpa', 'srcabble', 'khelte', 'hazzar', 'films', 'rass', 'pehanna', 'knight', 'dawn', 'armour', 'hatao', 'hogaya', 'monish', 'idhr', 'dekhana', 'issiliye', 'jya', 'logic', 'khelna', 'attorney', 'waapis', 'arahi', 'ravinder', 'dai', 'ravindra', 'blessings', 'toofe', 'shoofe', 'profit', 'kamane', 'phass', 'chakna', 'malt', 'pump', 'waii', 'karvati', 'sugandha', 'thok', 'attempted', 'mujhmein', 'thoke', 'anticipatory', 'karvai', 'assistant', 'havaldar', 'bhooj', 'natija', 'karvani', 'dayanand', 'advik', 'guddu', 'batterywale', 'jinhe', 'mahange', 'consultation', 'charge', 'sshh', 'kaamwali', 'jhadu', 'ganao', 'sharmam', 'tulekin', 'teenon', 'shravan', 'bhejenge', 'bhal', 'zabaan', 'jalati', 'khair', 'thele', 'engage', 'granted', 'wopiiii', 'fax', 'shaks', 'murgesh', 'paghar', 'aksarc', 'bachapan', 'satak', 'noches', 'diwaron', 'bachha', 'aarha', 'chhupaye', 'kapatia', 'madhupa', 'chupo', 'wopiiiii', 'chhupane', 'wagaira', 'sharan', 'shaman', 'issi', 'sochna', 'dekhei', 'toilets', 'muli', 'flight', 'bachenge', 'chaho', 'mahanga', 'mangao', 'dibbiya', 'mangiye', 'eye', 'mose', 'luxury', 'excise', 'pradyuman', 'plasma', 'maut', 'dakhiya', 'nussi', 'kirkira', 'pohe', 'baraf', 'tukra', 'barf', 'poha', 'pigle', 'pijiye', 'taluk', 'mujhko', 'jiyunga', 'superstition', 'sandles', 'kajal', 'dibiya', 'andhvishwas', 'kundli', 'kaniya', 'shoro', 'zooro', 'kanya', 'paksh', 'ada', 'julab', 'suj', 'bhasi', 'bhaso', 'chhath', 'sachi', 'geet', 'bheekh', 'blessing', 'memesahab', 'kisn', 'mangvaee', 'kowe', 'garm', 'instant', 'topoftheline', 'balwadi', 'damadji', 'frames', 'khubi', 'photos', 'damaji', 'keva', 'bulawa', 'kokuch', 'hogya', 'flexible', 'baithook', 'fhat', 'khoobi', 'foam', 'comfort', 'khaen', 'mega', 'giant', 'kanchi', 'oven', 'fetch', 'kneel', 'chaku', 'sambhalti', 'boondh', 'eiffel', 'najara', 'offices', 'pa', 'lft', 'toofan', 'grofer', 'sabzimandi', 'emporium', 'hne', 'mucho', 'mnisha', 'guzarne', 'ekh', 'joldi', 'gande', 'dho', 'collective', 'tumlog', 'dekhu', 'chadar', 'kincho', 'pick', 'yaane', 'tish', 'chalish', 'labhi', 'chipku', 'roommate', 'denish', 'watne', 'jhanjhat', 'wooo', 'sabxi', 'rotiya', 'bhejti', 'chapathies', 'adimanab', 'samaztha', 'gufa', 'modern', 'appliances', 'ironing', 'istiri', 'chapathi', 'isti', 'suddenly', 'civilized', 'jiu', 'flow', 'tide', 'keise', 'bulaye', 'dushra', 'father', 'rag', 'unhi', 'told', 'donone', 'rapist', 'mukh', 'hihihahaha', 'darte', 'darayenge', 'sina', 'taan', 'chahihe', 'ragging', 'constantly', 'regulator', 'bijli', 'kholti', 'thand', 'wosul', 'kholni', 'subhe', 'tetrapack', 'icecream', 'parlour', 'dhobi', 'mukt', 'pandrabish', 'khicwate', 'children', 'wahh', 'paubhaji', 'ghore', 'aaspas', 'writeup', 'pachpan', 'masur', 'swadist', 'shenkne', 'aiyega', 'polao', 'mistan', 'farzaan', 'housie', 'eightyeight', 'legs', 'eleven', 'unlucky', 'thirteen', 'sur', 'bulanyenge', 'subha', 'chabaiye', 'slam', 'chowtha', 'toro', 'concealed', 'bugged', 'rahna', 'rokdhok', 'interference', 'chouda', 'shola', 'azad', 'ahahahaha', 'hena', 'settled', 'tino', 'spinster', 'men', 'jewan', 'pirsa', 'lafra', 'badmaas', 'hatiar', 'aadh', 'collect', 'laughing', 'jinke', 'finish', 'wawajut', 'sacche', 'ihe', 'mauke', 'afterall', 'roommates', 'dursi', 'doso', 'tinsoo', 'foup', 'mave', 'kachui', 'bagera', 'talke', 'senke', 'bigar', 'hihihi', 'nikalni', 'gharka', 'kona', 'atmahatya', 'chesaat', 'latke', 'uuuu', 'ghume', 'okma', 'platinum', 'cufflinks', 'crickter', 'former', 'gharke', 'sat', 'sree', 'rawa', 'misar', 'pau', 'ganga', 'jamuna', 'headline', 'sage', 'appne', 'bap', 'hatya', 'cricketer', 'khicwaungi', 'mesha', 'sandar', 'hickhicha', 'haramzade', 'makkar', 'umma', 'pahenna', 'pahenke', 'bachayega', 'pere', 'karikram', 'rganize', 'khazana', 'hunkar', 'dikhayega', 'shase', 'shas', 'badbu', 'makes', 'ration', 'banwa', 'gifts', 'paroshi', 'confirmation', 'ouf', 'rangila', 'lachila', 'sharmila', 'cricketers', 'jayunga', 'kisko', 'jayenga', 'chupane', 'bhatka', 'bataunga', 'tunme', 'mujpe', 'khoyi', 'goggles', 'confidently', 'kutar', 'parni', 'parega', 'meai', 'kahti', 'daddi', 'pahar', 'hamko', 'toss', 'heads', 'tails', 'chief', 'bachaye', 'waiters', 'universal', 'jispar', 'dhundkar', 'layega', 'khelungi', 'gar', 'feku', 'diiiye', 'une', 'chupake', 'ghoro', 'yoopie', 'genius', 'clues', 'faatak', 'saram', 'chupai', 'mahamaya', 'trick', 'pakar', 'kapti', 'kumari', 'rings', 'cancelled', 'bachpan', 'visha', 'khelu', 'ekadashi', 'falahar', 'huum', 'lalcha', 'swad', 'kag', 'email', 'bijans', 'feeka', 'tasty', 'khaoge', 'flush', 'khir', 'badhi', 'calls', 'dialed', 'uthathi', 'giya', 'chalke', 'teleshopping', 'maie', 'interested', 'saletalks', 'fusla', 'barosha', 'bewokoofi', 'banhisyat', 'dortor', 'michi', 'jhalak', 'sweethear', 'bukh', 'barasti', 'khayunga', 'minestrone', 'haboos', 'hashke', 'hazaro', 'hypothesize', 'srinik', 'jhaweri', 'dehant', 'wagon', 'breaks', 'sensors', 'manlo', 'iyara', 'hudu', 'cards', 'khatre', 'doore', 'dalegi', 'bash', 'samhaliye', 'gula', 'bhulta', 'ohohohoho', 'piyogi', 'pachash', 'ekhatta', 'shikar', 'chaye', 'bottol', 'fifteen', 'tara', 'bhegne', 'pakra', 'bathtub', 'neh', 'dhekta', 'spondylitis', 'mareez', 'tigress', 'wafadar', 'jindegi', 'mayna', 'wafadari', 'nibhata', 'biriyani', 'sarak', 'karidi', 'dhaiso', 'janan', 'rediculous', 'directory', 'adressses', 'milgaya', 'jhagadti', 'faas', 'daady', 'choota', 'pehela', 'pane', 'kadne', 'hohi', 'maalkin', 'bohote', 'hain…aur', 'daalte', 'mummiji', 'badsoorat', 'ghaseette', 'peetna', 'novels', 'bikti', 'woman', 'therefore', 'kowshis', 'pareeshaan', 'pakoode', 'taras', 'tumahri', 'chiiz', 'pakoda', 'tumari', 'nayar', 'musician', 'agony', 'agge', 'haraam', 'jaanna', 'cahenge', 'likhne', 'badalkar', 'somethin', 'malayalam', 'rakhunga', 'gaale', 'phuslaya', 'maaloom', 'rokh', 'zimmedar', 'birthsday', 'present', 'charmer', 'tumaari', 'devta', 'andhbiswas', 'khurak', 'cuha', 'chuuha', 'thooda', 'khaade', 'ghussa', 'eise', 'tribhubandas', 'janwaron', 'naagron', 'competetition', 'hoota', 'leeti', 'paata', 'chaalta', 'bhaabi', 'loogon', 'dobaara', 'cahate', 'jayu', 'rayis', 'aluwaliya', 'bedi', 'bhatti', 'goonah', 'saabjiwale', 'fhulkopi', 'humain', 'sobha', 'bhao', 'ghaante', 'kaarti', 'cauliflower', 'untis', 'khareedke', 'chawan', 'cawan', 'bachayi', 'haamre', 'gents', 'saakti', 'kaaha', 'samjhaunga', 'ainda', 'choorke', 'mithaiya', 'baantenge', 'baade', 'anjir', 'barfi', 'baarfi', 'paanchi', 'banu', 'firu', 'maast', 'gagan', 'manthara', 'tumhne', 'exhusband', 'dominating', 'interfearing', 'witch', 'opera', 'subaah', 'hummne', 'thankfully', 'usske', 'octave', 'rroti', 'unbearable', 'sing', 'rahin', 'nahi…', 'baaghna', 'daurta', 'youll', 'least', 'adorable', 'bhaarti', 'forget…', 'woes', 'pumpkin', 'poodle', 'porcupine', 'without', 'quills', 'resemblance', 'milwao', 'beechari', 'gaya…indi', 'chaowtha', 'bone', 'todti', 'na…isliye', 'crockery…mikha', 'angry', 'samajti', 'woi', 'jugaal', 'firte…', 'kinni', 'soni', 'ac', 'chair', 'rooti', 'haan…tere', 'biscuit', 'thande', 'rabba', 'eki', 'imanat', 'puuch', 'saabdo', 'collar', 'pakadke', 'jayoonga', 'bhaisaab', 'khasiyat', 'oyee', 'muuah…', 'minute…', 'raja…', 'aapna', 'sujit', 'ludhiana', 'chowk', 'talta', 'halwai', 'taale', 'akkha', 'war', 'tre', 'chatt…ab', 'na…', 'down…calm', 'bhalehi', 'sahill', 'haisa', 'ho…', 'humhein', 'shadishuda', 'shaadisuuda', 'humshakal', 'footi', 'dhoond', 'laayenge', 'hootein', 'dujja', 'baancha', 'kissam', 'pooncha', 'nayesha', 'maussi', 'mahalle', 'kome', 'chamka', 'duplicate', 'baari', 'aja', 'jhappi', 'nahi…jhappi', 'istarah', 'perfectly', 'avarage', 'gisaat', 'haskar', 'keheti', 'othewise', 'im…', 'chiraag', 'khye', 'ta', 'batiyein', 'boom', 'zoom', 'masoom…', 'suniye…', 'karz', 'acidity', 'toilet', 'boys…oh', 'déjà', 'vu', 'brotherhood', 'happiness…', 'churchur', 'sabziwaale', 'hello…aah', 'naisha…', 'tumaha', 'propose', 'figured', 'tamasha', 'moch', 'dispose', 'spotlessly', 'jaali', 'khisdi', 'badboo', 'rahii', 'flooe', 'deekha', 'tp', 'deny', 'peecha', 'hoone', 'january', 'beazzati', 'behaved', 'airport', 'downstairs', 'luggage', 'but…', 'in…', 'sanjhaooon', 'dilwale', 'moorath', 'ha…', 'sentimental', 'bucket', 'murth', 'aanchal', 'dhuye', 'jailon', 'kaidion', 'guests', 'bithati', 'samjho', 'trhe', 'jakti', 'smiling', 'byee', 'deets', 'raw', 'rular', 'sex', 'appeal', 'babao…byee', 'i…i', '…', 'married', 'naisha…stop', 'ouch', 'sukoon', 'anand', 'chehere', 'muskaan', 'laagta', 'phenku', 'saarpe', 'phenke', 'using', 'honga', 'caahe', 'si…', 'zaamane', 'dracula', 'chaale', 'chaale…something', 'aare', 'kavitain', 'suunkar', 'ladkian', 'lo…', 'nochkar', 'nahi…deewani', 'deewani', 'muskuraati', 'maale', 'hain…bolo', 'muskurate', 'hain…usse', 'beherapan', 'vardaan', 'competition', 'yahin', 'krur', 'ghamandi', 'harata', 'okay…i', 'harakar', 'dikhiye…tabhi', 'haraunga', 'daalunga…samjhe', 'ugalta', 'uglein', 'jawaani', 'hookar', 'sajayeenge', 'thaali', 'lagayenge', 'idliwala', 'pardeshi', 'zaara', 'chamaktein', 'daant…sahil', 'nateeja…', 'combination', 'buuri', 'boori', 'saabzi', 'nahi…kya', 'banayu', 'kacche', 'indu…', 'gu…ha', 'ghutno', 'girte', 'hain…mere', 'dad…', 'overconfident', 'roseshh', 'padho…ballavdas', 'kisradhanjjali', 'pyaare', 'ballavdas', 'kaki', 'kavi…anirudh', 'gentleman', 'sabka', 'swagat', 'kaviyon', 'parhansp', 'raghuvir', 'jetmalani', 'shakeela', 'moradabadi…im', 'sorry…gopi', 'please…rosesh', 'sarabhai…', 'poets', 'guild', 'winner', 'kella', 'takhallus', 'uyou', 'metaphor…meri', 'samajna', 'mukil', 'champange', 'upwas', 'upvas', 'piyega…hypocrite…', 'kaha…ei', 'wooh…infection', 'hmmm…maya', 'session…', 'nikalta', 'taliyan', 'awardwinning', 'sunaye…', 'recite…', 'hallat', 'hoon…', 'cahe', 'puja', 'balhein', 'duja', 'rajattwa', 'bitao', 'mahengi', 'mango', 'ganna', 'rajgadi', 'bithao', 'makhan', 'rookha', 'sookha', 'kyuke', 'depricating', 'socialistic', 'kuch…chod', 'hummain', 'anusthan', 'cahiye…humaari', 'parhanspe', 'namaskar…jai', 'maharashtra…mera', 'observant', 'hain…shor…', 'ending', 'wasnt', 'very…shall', 'hichcock', 'tale', 'kavitri', 'gopi', 'bhais', 'rista', 'bhansh', 'ghaas', 'khatti', 'yaw…won', 'bel', 'khichne', 'kachhakela', 'aurtein', 'marad', 'unfortunately…', 'sannd', 'bhiya', 'pakadkar', 'marordi', 'kacchi', 'kalaiya', 'sand', 'bhaagi', 'tabela', 'ji…', 'urban', 'byans', 'raghubir', 'jethmalani', 'ayu', 'promo', 'drinks…can', 'resume', 'yaay…jab', 'surya', 'kind', 'amateur', 'hain…lekin', 'kaushais', 'beechare', 'contemporary', 'reel', 'parde', 'kartein', 'kabootar', 'dailogue', 'bigda', 'padooshi', 'scooter', 'suniyega', 'chipkaali', 'phirbhi', 'jury', 'critics', 'producers', 'chaamche', 'deekhta', 'sadial', 'movie', 'deekhna', 'byathkar', 'byass', 'batayi…', 'main…main…main', 'pada…', 'far…so', 'far…lets', 'roseshs', 'but…he', 'sorry…please', 'tears', 'immensly', 'sorry…all', 'indravardhan…', 'padhonga', 'jelly…', 'sareer', 'chupein', 'unjaane', 'unkahein', 'narm', 'mulayam', 'meetha…pasand', 'nita', 'anita', 'vintage', 'maya…', 'giray', 'jameen', 'awaaw', 'again…', 'girain', 'maarein', 'hain…thup', 'thup', 'onomatopoeia', 'swaard', 'bhankas', 'bachaana', 'pradhanmantri', 'beta…mera', 'baccha…sensational', 'hain…its', 'revolution', 'verdict', 'geherayi', 'philosophy', 'sachayi', 'hain…can', 'beta…', 'baccha…agar', 'bartaman', 'bhabisha…', 'bartamaan', 'bhabishya', 'likhein', 'hooga', 'khayenge', 'khichuri', 'sabd', 'dhekna', 'churi', 'kholna', 'gujri', 'premonition', 'chawkidaar', 'mukje', 'senior', 'torne', 'mazbut', 'becari', 'je', 'dashing', 'bataiyain', 'makaan', 'whaat', 'larko', 'andaar', 'weapons', 'heya', 'file', 'idhaar', 'parihe', 'pariye', 'propoerty', 'dhudne', 'teesh', 'receipt', 'march', 'bardaash', 'math', 'naw', 'kor', 'dooriya', 'dapavar', 'chipawla', 'gawayunga', 'sunka', 'raahe', 'roona', 'baas', 'babra', 'gangajal', 'banarash', 'daaba', 'aaaaah', 'larki', 'nakchari', 'hathore', 'maregi', 'paun', 'karak', 'raakh', 'sikayat', 'dalo', 'radde', 'raddee', 'naare', 'bechungi', 'naada', 'choodeedaar', 'naara', 'bandne', 'nada', 'yan', 'municipality', 'envelop', 'lane', 'kimti', 'thaand', 'shoor', 'machaya', 'churake', 'nikle', 'kusur', 'swarupra', 'tammez', 'khetab', 'aiye', 'gaate', 'daura', 'pakarke', 'tambu', 'kynke', 'dirty', 'jewar', 'wanderful', 'kaarke', 'dhundho', 'moom', 'inamdaar', 'found', 'yippieeeeee', 'jhopri', 'unha', 'ilabahen', 'iyi', 'dhundta', 'dekchi', 'jii', 'ropon', 'proypg', 'madyam', 'spirit', 'plantation', 'proyog', 'jariye', 'terrece', 'andhabiswas', 'batain', 'biswas', 'koshti', 'chachi', 'dian', 'sanjeevani', 'layenge', 'baan', 'bakora', 'faase', 'laparwayi', 'bajay', 'faarz', 'failed', 'attempt', 'dhoobi', 'rupain', 'sasariya', 'paash', 'baataiye', 'raakhain', 'ayengi', 'baukla', 'bhijwana', 'sabar', 'unadulterated', 'hocuspocus', 'alone', 'pilati', 'churaye', 'chorti', 'aakhain', 'euhi', 'bhaa', 'peyar', 'pahnayain', 'chaliyain', 'aahi', 'chae', 'bibi', 'bataungi', 'matlan', 'jagao', 'psychiatrist', 'soyi', 'ika', 'bahlane', 'computers', 'ageya', 'agla', 'sabcheye', 'swabhab', 'ilabeta', 'napawat', 'madonna', 'chlegi', 'sargiyo', 'arpit', 'pankhi', 'pinjru', 'tuje', 'tape', 'kajag', 'tuli', 'samalenge', 'hamne', 'ringing', 'pallu', 'payer', 'bakure', 'parke', 'sak', 'banni', 'ite', 'shun', 'dyan', 'karde', 'dhekhna', 'mohlat', 'apke', 'acknowledgement', 'khamokha', 'aapk', 'talte', 'calcium', 'deficiency', 'haidudh', 'haiwarna', 'joints', 'bewkoofo', 'sardar', 'desi', 'nizi', 'doctoe', 'latka', 'cantesko', 'haieske', 'ostoporesis', 'tarahto', 'haanto', 'ahahahah', 'zami', 'grees', 'likhti', 'sepicasso', 'hairestrau', 'ikaththa', 'haimix', 'pickle', 'artificial', 'plants', 'tay', 'pile', 'uthayegi', 'maror', 'worrying', 'maybe', 'paaw', 'tamanna', 'chhayagi', 'ahsaasapne', 'ahsaas', 'gallery', 'pahuchi', 'socialites', 'jobha', 'banerjee', 'muda', 'magnetic', 'aankho', 'dhhere', 'bnana', 'mule', 'jhuk', 'oe', 'kambakht', 'rumaal', 'jeb', 'kkk', 'rangare', 'strip', 'pardo', 'antar', 'fade', 'karkr', 'bayan', 'mine', 'wockroach', 'darta', 'laau', 'lagt', 'mmmm', 'haklane', 'wakar', 'haklata', 'wakaar', 'uthte', 'indravradhan', 'guthli', 'poocho', 'sitting', 'rrom', 'sukhao', 'dial', 'ghanto', 'immean', 'ami', 'zindgi', 'terms', 'kameene', 'sankh', 'bnayi', 'munasib', 'pose', 'passionate', 'magarmachh', 'kichad', 'bithta', 'aayenge', 'cheejo', 'aayegi', 'bhawre', 'stanky', 'bhaware', 'parellels', 'khun', 'chusta', 'ummmmmm', 'dekhh', 'muskurao', 'mayamuskurao', 'tilt', 'laali', 'embarassing', 'haayila', 'models', 'aaplogo', 'itflaunt', 'regular', 'lifting', 'healthy', 'sculpted', 'chhidak', 'khtm', 'lgenge', 'swasti', 'paasport', 'hmara', 'laptop', 'quarantine', 'electronic', 'engineer', 'jeeja', 'monishaachha', 'istrii', 'temprature', 'minnute', 'gadzets', 'bodu', 'chart', 'biklul', 'mmmmonalisa', 'kkkcute', 'unedible', 'garmagaram', 'yha', 'jagh', 'madhumakkhi', 'moturam', 'nooo', 'bnaunga', 'continental', 'paaninariyal', 'kyumai', 'muscle', 'coast', 'ratnagiri', 'islaand', 'kudarat', 'rhna', 'bnayega', 'chlo', 'esko', 'bouncers', 'monishaahh', 'denakal', 'thepale', 'lgbhag', 'huthoda', 'sunoge', 'shamita', 'malhotra', 'mangayi', 'producer', 'seb', 'diyeor', 'wahiyaat', 'newspapers', 'knowledge', 'chahiy', 'mandy', 'rambo', 'chhapte', 'betuke', 'ande', 'khilaye', 'tumdono', 'btane', 'hmesa', 'krte', 'daawe', 'definetly', 'oak', 'jgh', 'mayble', 'esne', 'phupha', 'tb', 'ykeen', 'otherwise', 'overwise', 'lgata', 'bhejna', 'taare', 'bagichekuchh', 'karegimeri', 'bawjood', 'msg', 'aayrga', 'bharosha', 'kaungi', 'choclate', 'buddy', 'brain', 'bhejega', 'mooth', 'jaau', 'monotonous', 'predictible', 'hmne', 'chhupayi', 'wjh', 'response', 'beacuse', 'typical', 'syndrome', 'saku', 'tuesday', 'dosto', 'irada', 'daudta', 'scalpel', 'dhanya', 'chalaak', 'tadapti', 'bjega', 'adki', 'kaunkise', 'doondhne', 'prabhavati', 'behan', 'ramleela', 'haaan', 'kumbhkaran', 'sugriv', 'gaati', 'armaan', 'aashuo', 'nasha', 'barma', 'armaa', 'aashuon', 'enke', 'baaat', 'stri', 'patra', 'hsare', 'ldke', 'muchhe', 'yunhi', 'casuallygenerally', 'plannig', 'zahir', 'karengi', 'unpe', 'sunvilla', 'gappe', 'yashodha', 'buaa', 'pairo', 'stilletos', 'pehan', 'cigratte', 'peeti', 'undono', 'confront', 'colleagues', 'momroshesh', 'senses', 'kbse', 'hhahahawaah', 'hoopay', 'agr', 'ldki', 'bewkoof', 'haiye', 'rngraliya', 'manaoge', 'nhimomma', 'boyshi', 'aaak', 'ahha', 'eeee', 'yashvantare', 'classyat', 'haad', 'hapte', 'lakshmi', 'nange', 'pakda', 'dolly', 'pafda', 'fhir', 'khnaa', 'pouncha', 'batayein', 'legendary', 'bartanwaali', 'beechte', 'devdas', 'pehena', 'kuta', 'memorablia', 'priceless', 'savita', 'defective', 'pehenega', 'pehanta', 'maila', 'nal', 'laptke', 'rosewood', 'sajane', 'taana', 'hypocrite', 'keep…aur', 'wel', 'wallow', 'middleclassiyat', 'rehena', 'cahati', 'object', 'hann…', 'monisha…rona', 'cinderella', 'soteli', 'riyaaz', 'onse', 'wasooli', 'tuhaare', 'mouritius', 'cliched', 'chalake', 'ake', 'chalate', 'casino', 'patiala', 'hameshsa', 'jiitte', 'adhi', 'pharo', 'patha', 'bacpan', 'mooche', 'kheencha', 'tabla', 'bajati', 'pyaaare', 'paiso', 'puurani', 'khareedti', 'shainting', 'picaso', 'ficasso', 'davinci', 'favinchi', 'caprio', 'titanic', 'puurane', 'shhh…', 'hain…hain', 'bedsheet', 'dikhaane', 'sukhaate', 'ooh…anti', 'buraiyon', 'heir', 'aha', 'monisha…hair', 'heir…the', 'silent', 'padhu', 'ya…', 'possession', 'bestowed', 'upon', 'ye…isme', 'mamaji', 'sman', 'kabaari', 'layak…', 'antiques', 'genuine', 'century', 'canopy', 'what…aur', 'ming', 'vases', 'chalan', 'instrument', 'like…trumpet', 'headless', 'hero…aur', 'king', 'statue', 'wah…', 'hiii', 'belive', 'ink', 'jayeenge', 'acherkar', 'chilkdrens', 'welfare', 'property', 'soocha', 'waisa', 'filmstar', 'saalbhar', 'deengi', 'shell…welfare', 'banayenge', 'dias', 'baach', 'jayyga', 'jayeezad', 'childrens', 'cooperative', 'se…', 'hain…ye', 'dollar', 'objects', 'tasviire', 'laiabilities', 'chuukane', 'sheet', 'laakh', 'sawaal', 'no…a', 'charity', 'coctails', 'ayungi', 'shraddhanjali', 'saaso', 'yamdoot', 'jaayon', 'chooli', 'count', 'deyenge', 'minute…monisha', 'status', 'curtains', 'exchamge', 'dukkandar', 'bikegi', 'mf', 'hussain', 'millionaire', 'paire', 'podna', 'ajkal', 'haramzaada', 'rasle', 'jayoongi', 'thirsty', 'monster', 'jori', 'servent', 'owner', 'clause', 'waris', 'bulaoge', 'likhwai', 'bewakufi', 'khilawala', 'nahana', 'cornflke', 'pehenna', 'tayyar', 'juta', 'chot', 'ribbon', 'baandhte', 'rubber', 'jb', 'gud', 'chane', 'ghas', 'joru', 'jita', 'gayarosesh', 'inpe', 'ladkiya', 'reject', 'selling', 'mosquito', 'repellent', 'lengi', 'melamine', 'lijuye', 'rishtedaar', 'bolona', 'month', 'humen', 'churan', 'nanad', 'taane', 'hoiye', 'vyah', 'racha', 'rachaya', 'lehlehate', 'tractor', 'talli', 'kheta', 'vich', 'hoke', 'rava', 'lafz', 'raiya', 'vaste', 'pheko', 'dekhen', 'outdated', 'bartanwali', 'lota', 'dhundi', 'fordu', 'dafna', 'chotu', 'napensy', 'mafatlal', 'sanghani', 'sugar', 'cube', 'sister', 'panijan', 'payel', 'sunni', 'khamakha', 'dhoengi', 'pillu', 'washroom', 'acchaa', 'hilake', 'matric', 'invasive', 'cardio', 'therapy', 'khanke', 'pateint', 'bechaini', 'dauran', 'aie', 'pehenke', 'peshe', 'namashkar', 'kripaya', 'pasabd', 'dwar', 'goood', 'yaadash', 'aain', 'supplement', 'rajan', 'singhanias', 'niveditas', 'mumbais', 'excepts', 'declared', 'declare', 'dikhava', 'admit', 'nii', 'aath', 'less', 'aahaha', 'darandan', 'btaengi', 'taareekhein', 'bevkoof', 'kangaal', 'phas', 'pkka', 'intercom', 'billeymorio', 'seventh', 'revati', 'kapoor', 'fifth', 'smells', 'tareekhein', 'shaq', 'shivara', 'siddaqui', 'gayatri', 'snatcher', 'krk', 'gle', 'chunna', 'eela', 'phui', 'sixth', 'sgai', 'uhuhu', 'grah', 'triple', 'dilwaya', 'aann', 'meann', 'phaad', 'aaengi', 'paranoid', 'utter', 'borewell', 'dushhhhh', 'khichataani', 'tokia', 'zero', 'eight', 'paheniye', 'duble', 'lagenge', 'janna', 'chahega', 'pucch', 'arrey', 'waisi', 'pehnne', 'taiyyari', 'birthdays', 'anniversaries', 'umhuhuh', 'btaega', 'woah', 'ugalwana', 'chaubeesh', 'dhut', 'lele', 'manva', 'rakhiyega', 'dol', 'sofe', 'roshu', 'wathroom', 'haega', 'lgti', 'bhakt', 'pilata', 'kambakhatab', 'jachti', 'pehnungi', 'occassion', 'sbko', 'kagega', 'yaadgaar', 'ummmaah', 'sizes', 'diaries', 'different', 'baaju', 'acchha', 'softly', 'krri', 'lgai', 'monishaa', 'recycled', 'products', 'rkh', 'envelope', 'dukhi', 'rukne', 'chhe', 'correction', 'suburbs', 'cum', 'dhulwati', 'rukun', 'shiqayat', 'karungajootey', 'phekunga', 'tauliya', 'fall', 'babe', 'surely', 'rukungi', 'rukogi', 'dilaye', 'sadiyon', 'jaun', 'crease', 'chiffon', 'maintain', 'generators', 'batteries', 'connections', 'generator', 'conditioner', 'aitaraaz', 'chalein', 'cabins', 'banwani', 'soegi', 'vaccum', 'cleaner', 'chalana', 'bhulane', 'macchhar', 'paengi', 'pana', 'pestcontrol', 'suitcases', 'baggage', 'efficient', 'uspar', 'tag', 'pehante', 'vitamins', 'tissues', 'vidai', 'chabdukchabdukchabduk', 'atke', 'pedastrian', 'vulgar', 'pause', 'mod', 'suleh', 'shiqayatein', 'pratima', 'abadmiration', 'metamorphs', 'everlasting', 'happily', 'aahh', 'appears', 'mauritius', 'flavoured', 'graphic', 'paane', 'lakkad', 'maangi', 'charnamitra', 'peete', 'tee', 'utarna', 'command', 'seiteens', 'chheenk', 'chheenkein', 'gin', 'girane', 'aaaaaannneeee', 'doooo', 'dooooor', 'jaaaaao', 'chhuuuu', 'neeee', 'dooooo', 'doooor', 'jaaaa', 'oooo', 'nikaaltaa', 'haqlaata', 'mayaaa', 'japte', 'chhuu', 'uu', 'pyaase', 'hothon', 'baai', 'helping', 'inravadhan', 'chidhaunga', 'eat', 'stirred', 'fired', 'garlic', 'dried', 'recepie', 'concoction', 'pakane', 'pakaane', 'ucchhal', 'frying', 'bajaye', 'chhidka', 'haah', 'gaswais', 'haaww', 'windows', 'bomb', 'fatega', 'chaalis', 'lak', 'taanaa', 'hassle', 'hosla', 'sleeve', 'hanh', 'raaste', 'dein', 'gunda', 'demon', 'kamyaab', 'momaa', 'boris', 'wwah', 'chery', 'sbse', 'chle', 'pakistan', 'daynight', 'hudono', 'chabati', 'dekhegi', 'chabayegi', 'aaunga', 'paet', 'bhat', 'hailagta', 'gets', 'interim', 'mujarim', 'patients', 'dawaiyon', 'overdose', 'daale', 'pending', 'zuban', 'lgaungi', 'bday', 'skim', 'spanish', 'khilau', 'haishianda', 'pakwan', 'chouthi', 'ghudte', 'haiesse', 'padoste', 'ddal', 'panghat', 'pachas', 'place', 'disturbance', 'teenteen', 'unpar', 'gunehgaar', 'relaxed', 'aaun', 'taqi', 'aakr', 'aqal', 'mangwana', 'mehnga', 'friday', 'chaunk', 'fifty', 'doodhi', 'aaloo', 'paranthe', 'beemari', 'churana', 'bemaari', 'puchhta', 'beemariya', 'lalala', 'parda', 'faash', 'gaadi', 'jaakr', 'cocu', 'jiya', 'sonu', 'btau', 'hallucinogenic', 'paranoia', 'auto', 'suggestive', 'physiological', 'appointment', 'mehnge', 'visit', 'xray', 'wagaireh', 'wasul', 'speaking', 'whos', 'sue', 'intezar', 'exquisite', 'cornflakes', 'wahich', 'someone', 'judwa', 'judwaon', 'shaqalein', 'ahahan', 'shu', 'sloanes', 'bazi', 'shirts', 'trousers', 'jackets', 'leukemia', 'cancer', 'raajshekhar', 'sitam', 'sahenge', 'khelein', 'grinder', 'speed', 'jismein', 'piss', 'j', 'plural', 'ahahaha', 'management', 'association', 'together', 'youve', 'invited', 'yaadein', 'uhuhuh', 'excitement', 'principle', 'hemington', 'richie', 'kirkwood', 'nichole', 'phirta', 'kamasutra', 'muqabale', 'baajre', 'sahilsahil', 'kaag', 'bhago', 'khekhe', 'translation', 'acchhi', 'kisaano', 'anaaj', 'inlogon', 'rsvp', 'celebrations', 'jaeg', 'adilli', 'whooping', 'turururu', 'jatana', 'bhuleshwar', 'borivili', 'gorivali', 'classiyat', 'bachaya', 'planned', 'farewell', 'saka', 'kabhikabhi', 'rave', 'lipstick', 'born', 'raymond', 'hong', 'kong', 'saafsaaf', 'bunglow', 'faulty', 'kidnapping', 'timing', 'sarcasm', 'pados', 'sumit', 'adas', 'damaad', 'else', 'matter', 'milana', 'bharne', 'chhupaya', 'parai', 'outsider', 'stranger', 'boiling', 'monishha', 'gharwalon', 'rozroz', 'unlogon', 'bnaegi', 'rox', 'sarson', 'yuh', 'chhuttiyon', 'bijibiji', 'bulaenge', 'chintu', 'mintu', 'baggu', 'chhuo', 'paina', 'jeetey', 'pencil', 'jhadooo', 'hangar', 'papapapa', 'ooho', 'baqi', 'ohoo', 'vastey', 'pehnega', 'kamzor', 'kaminey', 'ticketein', 'wrame', 'laate', 'sambhalna', 'truck', 'minuteek', 'disaster', 'sikhai', 'mtlab', 'reverse', 'expected', 'composed', 'intezaam', 'maharani', 'baug', 'posh', 'locality', 'lavish', 'neighbourhood', 'hourglass', 'padmlaxami', 'dimpy', 'sachdeva', 'picchale', 'anuradha', 'vaswani', 'women', 'swimmming', 'tairne', 'khadekhade', 'bhutta', 'sekungi', 'wouldnt', 'recommend', 'tairati', 'wooop', 'sadiyal', 'eater', 'swimmimng', 'pahunchte', 'padosan', 'darwaze', 'ahhuhhh', 'darwaaze', 'visualize', 'liyana', 'paste', 'citizen', 'survivor', 'aphi', 'jungali', 'rats', 'wafale', 'bezubaan', 'janvaron', 'ujaran', 'presscontrol', 'pahochayein', 'chhid', 'manhi', 'vidisa', 'dare', 'wrexham', 'advantage', 'vesuvius', 'volcano', 'chodkar', 'jorge', 'tsk', 'taye', 'chahein', 'mulakaat', 'thaherna', 'kark', 'pukarungi', 'thaheri', 'situations', 'disinfectant', 'chidak', 'chhikta', 'rahengi', 'vagi', 'sarve', 'gundne', 'chhaaaa', 'ishe', 'kahetein', 'naksha', 'sunti', 'suniyee', 'medically', 'acterious', 'condition', 'characterize', 'divide', 'eyes', 'disease', 'pigment', 'banaie', 'intensity', 'weakness', 'bingo', 'bhitar', 'satrangi', 'astitwo', 'naas', 'kebal', 'alpabiram', 'moth', 'prakarsakh', 'samrajya', 'anth', 'paramatma', 'kahete', 'ataa', 'fattu', 'atmaa', 'stye', 'maab', 'kiagaar', 'ishi', 'code', 'writwr', 'juduwa', 'kirni', 'pahunchane', 'prabal', 'ichha', 'purn', 'shauchalay', 'residents', 'homeopathic', 'akhbaar', 'akhbaaro', 'couch', 'yead', 'kahar', 'phne', 'pedon', 'majbur', 'inchi', 'dera', 'jamane', 'pesticide', 'khatmal', 'pilaenge', 'badhai', 'kharida', 'dhaba', 'takiyo', 'ur', 'karwayein', 'paranoiac', 'cheered', 'uthi', 'heritage', 'structure', 'darja', 'uthao', 'hangers', 'vacuum', 'cleaning', 'coverscup', 'carpets', 'accessories', 'chaddar', 'pillows', 'eww', 'soap', 'perfume', 'freshener', 'dalna', 'dalungi', 'pahuncha', 'chaman', 'baithana', 'parosega', 'ladali', 'parosane', 'bechi', 'badibadi', 'hastiyon', 'daud', 'pacchees', 'bika', 'culcatta', 'amblani', 'alliance', 'chairman', 'sabe', 'lgaya', 'spelling', 'gunny', 'sack', 'alibaug', 'ishtehar', 'nikalenge', 'hyper', 'harkaton', 'dobara', 'bechana', 'daalkar', 'guarentee', 'andarandar', 'prashad', 'cooked', 'bhabhooti', 'kumkum', 'swachhata', 'sikhate', 'chalengi', 'mehngi', 'jade', 'slipper', 'pehenni', 'tareeke', 'blahnik', 'pink', 'hahajust', 'kaano', 'pench', 'babloo', 'malgethabai', 'jeweller', 'branded', 'jewellary', 'khareedani', 'kimat', 'puchhni', 'ufo', 'aliens', 'sabjiwale', 'finaly', 'siddharth', 'kalakar', 'reviews', 'andaaz', 'gehri', 'kalaprem', 'upastithi', 'latin', 'american', 'karri', 'kelwala', 'kehkar', 'neecha', 'magazines', 'rashtrabhasha', 'pill', 'dushmani', 'jaari', 'premiyon', 'parivaron', 'majestically', 'petroshkovs', 'russian', 'kutton', 'nehlane', 'patchup', 'calcutta', 'reporter', 'padogi', 'premises', 'presence', 'sheep', 'liposuction', 'clock', 'kul', 'lakda', 'loha', 'usua', 'bhara', 'daalke', 'sachega', 'sunita', 'nirmala', 'achievement', 'mazboot', 'shishi', 'giraya', 'girayi', 'patki', 'fodenge', 'charche', 'davaiyon', 'prescriptions', 'mit', 'bardasht', 'ishaare', 'baadmein', 'gurinder', 'patiyala', 'karwayenge', 'cosmetologist', 'dropout', 'anti', 'ageing', 'counter', 'product', 'chaapne', 'superstar', 'chaa', 'impress', 'success', 'chahenge', 'hardwork', 'suprapadh', 'kardo', 'career', 'vernacular', 'pehchaan', 'presume', 'huhuuu', 'nazre', 'dhaka', 'bhuki', 'join', 'brawls', 'insecurities', 'depression', 'unsafe', 'filmline', 'profession', 'calendar', 'prescribed', 'bombay', 'express', 'azmi', 'bijwaya', 'chapwayenge', 'cookie', 'crumbles', 'chodiye', 'imporium', 'hopes', 'places', 'pechan', 'lia', 'types', 'bose', 'amitab', 'shahruk', 'salman', 'aamir', 'fardeen', 'saif', 'ali', 'ajay', 'devgan', 'hritik', 'roshan', 'john', 'abhraham', 'atleast', 'abdul', 'kalaam', 'huhuhuhu', 'running', 'trees', 'ass', 'chamchi', 'jalna', 'sako', 'takleef', 'alike', 'kaamyaabi', 'takleeft', 'ashamed', 'dammit', 'jalunga', 'bunde', 'bagiche', 'libaas', 'sarhado', 'lehrau', 'vaayu', 'pavan', 'chapagai', 'sharmata', 'shampi', 'reserved', 'bahin', 'janata', 'ehsaan', 'bolati', 'meherbani', 'dalni', 'vaisi', 'chauti', 'hassan', 'maramari', 'classs', 'bhajiwali', 'maarpeet', 'typhoid', 'confession', 'lehra', 'jismei', 'peet', 'silverte', 'taaref', 'champi', 'kabka', 'naresh', 'umra', 'rehkar', 'bangladesh', 'manaye', 'batayi', 'adrishya', 'hoja', 'prep', 'stabbed', 'dabaya', 'jaante', 'rakhte', 'saadna', 'singhania', 'traditionally', 'daadima', 'mangawati', 'bataka', 'included', 'za', 'zarnesh', 'chandresh', 'chakrosh', 'chirayu', 'humnei', 'halaat', 'urghhh', 'cheenk', 'dia', 'unbelievably', 'ismie', 'chakar', 'bahunei', 'transit', 'chahal', 'pehel', 'bataoge', 'peelo', 'urgh', 'bookstores', 'rudaba', 'rangachari', 'kavitaon', 'chapwaya', 'humnein', 'zubaani', 'jinmein', 'sunnenge', 'recitation', 'popatkaka', 'praathna', 'maatam', 'permission', 'beeta', 'aeroplane', 'murga', 'baand', 'bhuk', 'khaa', 'aurto', 'borrow', 'khaaredne', 'hatkadi', 'dilata', 'bajana', 'counting', 'chidate', 'comes', 'traitor', 'lose', 'digest', 'bethte', 'itmenaan', 'qitabe', 'biki', 'jiss', 'poignant', 'technical', 'shaniwaar', 'shilwaate', 'salwaare', 'baapre', 'worst', 'kidhar', 'lipush', 'utaarunga', 'jurat', 'unmei', 'ee', 'dophar', 'udane', 'udja', 'maarunga', 'sandle', 'chadd', 'disappoint', 'paa', 'paayi', 'hausla', 'badaya', 'heartless', 'humiliate', 'apaan', 'samjhti', 'aatmhatya', 'goliyaan', 'kaahi', 'padhni', 'depressed', 'bik', 'cheerfully', 'william', 'wordsworth', 'wb', 'yeats', 'sarojini', 'naidu', 'mirza', 'ghalib', 'jawed', 'akhtar', 'goodwork', 'adab', 'jaawed', 'upto', 'khelogi', 'silu', 'choda', 'bulai', 'pakadne', 'utaarne', 'chandelier', 'chadh', 'hile', 'owes', 'maango', 'everyday', 'uhhh', 'hyperactivity', 'connected', 'wire', 'problematic', 'ofcoure', 'andhe', 'bawajud', 'opposites', 'attract', 'opposite', 'qismat', 'janmo', 'fal', 'fateful', 'kahinka', 'shaud', 'baroda', 'matha', 'tekne', 'guru', 'jhut', 'baali', 'rakhlo', 'oof', 'enu', 'design', 'jasmeet', 'johri', 'darzi', 'wich', 'hoyega', 'guitar', 'rehman', 'khaaste', 'twaade', 'vaaste', 'makke', 'lagyaa', 'dhaabe', 'shaana', 'aandha', 'chamach', 'ladaaku', 'stainless', 'gudo', 'saki', 'knows', 'loss', 'maana', 'gaaya', 'dardi', 'bhaanji', 'announcement', 'macchimaar', 'backstage', 'samajkar', 'pehente', 'scare', 'scaring', 'forewarned', 'forearmed', 'every', 'mans', 'influence', 'muaah', 'taj', 'haahahahha', 'wohoohuhu', 'jilheno', 'ohooho', 'mommas', 'lasagna', 'fettuccine', 'pesto', 'pepper', 'coconut', 'pakodas', 'creme', 'lemon', 'souffle', 'magni', 'halvo', 'moustache', 'burt', 'reynolds', 'omar', 'sharif', 'ohohhuhuhu', 'jaal', 'asterisk', 'approve', 'couple', 'brad', 'pitt', 'yash', 'chopra', 'sprinkling', 'sanjay', 'leela', 'bhansali', 'bechain', 'bavla', 'engagement', 'congratulatory', 'infatuation', 'lagg', 'kuba', 'baarat', 'bethkar', 'aahhhh', 'punjabiyo', 'jhagunga', 'circles', 'religiously', 'mardini', 'durga', 'mellow', 'hysteria', 'dharamshi', 'naagda', 'sick', 'puppy', 'waam', 'bui', 'kisika', 'gurutek', 'usmei', 'nevermind', 'pediyo', 'walabdaas', 'walmaadidas', 'sodi', 'lajpat', 'cafe', 'gtb', 'faatima', 'faati', 'bawajut', 'waqi', 'rabah', 'kaur', 'manishaa', 'pali', 'pakadta', 'gal', 'haatho', 'mehndi', 'ahluwalia', 'twado', 'kitta', 'lautana', 'abshagun', 'observation', 'munching', 'plans', 'aashiq', 'anaadi', 'bolke', 'always', 'teacher', 'classmate', 'bank', 'clerk', 'jamna', 'tumsa', 'huhhu', 'chodho', 'maha', 'hopelessly', 'karey', 'gadhi', 'dharampaal', 'jaanwar', 'dispensary', 'lagayi', 'jagda', 'humse', 'kitte', 'uksaya', 'naaraz', 'badta', 'khamosh', 'saanp', 'sung', 'hippopotamus', 'hammering', 'maata', 'khajura', 'none', 'biyaah', 'tujhse', 'gunna', 'langoor', 'daandiya', 'pyjama', 'baandne', 'chutney', 'patterns', 'gear', 'poshaak', 'pahani', 'mangni', 'shagni', 'janamdinn', 'chapwaate', 'moni', 'lagwaana', 'chapne', 'victory', 'aroma', 'trauma', 'unhygienic', 'mangwa', 'paoge', 'machaye', 'vishwaas', 'manni', 'belscot', 'karwao', 'samundar', 'doob', 'matruchaya', 'lincoln', 'khaaredi', 'khareeda', 'clip', 'babuchak', 'championship', 'udaya', 'hasse', 'muj', 'tede', 'mede', 'aasaan', 'anytime', 'arrogance', 'thy', 'sunugi', 'pretatma', 'haarne', 'barbaad', 'maani', 'tasvir', 'daaldo', 'khudko', 'tulli', 'manayi', 'theyll', 'sakto', 'pagda', 'shashan', 'funeral', 'suanta', 'smashan', 'sasumaa', 'likhata', 'kum', 'baabul', 'babulaaaa', 'moraa', 'riyas', 'babulaa', 'nihayat', 'bevakoofi', 'empty', 'technically', 'horribly', 'chauvinist', 'pig', 'bardast', 'hahahaa', 'likhha', 'walene', 'kahatha', 'kharedi', 'nd', 'milengi', 'gaffur', 'phek', 'tukade', 'istamal', 'dhat', 'goadpapdi', 'lagaungi', 'kaatke', 'coasters', 'banalete', 'officially', 'tummese', 'poerty', 'criticism', 'lifeline', 'subki', 'congratuations', 'parmeshwar', 'wha', 'honeki', 'yaya', 'chode', 'thodisi', 'uchi', 'deneka', 'adhikar', 'regressively', 'chanati', 'tumh', 'hali', 'pinch', 'caterers', 'epr', 'puchogi', 'janeke', 'anaway', 'aside', 'careless', 'pheka', 'direction', 'pheke', 'neembu', 'pheeka', 'rakhati', 'jamat', 'sanghathan', 'member', 'shetiquette', 'chotisi', 'sookh', 'lake', 'pativrata', 'xylophone', 'ssss', 'slurp', 'classic', 'bhaat', 'khoe', 'miljanepar', 'wet', 'pappies', 'silently', 'angrej', 'bananeko', 'mardonki', 'equal', 'purush', 'rakhwala', 'rookle', 'sulah', 'proove', 'settlement', 'cross', 'achhe', 'maukepe', 'shaadhi', 'abhhi', 'thapthapaya', 'detailed', 'pangtiya', 'lf', 'divoce', 'bivorce', 'mothi', 'nokjhok', 'belittle', 'sarupas', 'haak', 'karlo', 'opinions', 'aakhi', 'pervert', 'neka', 'tood', 'musibate', 'tikake', 'forbid', 'sochogi', 'possibility', 'laaparavaahiyonse', 'majboor', 'laaparavaahee', 'chulhe', 'seperately', 'pakaneki', 'pakaya', 'pakake', 'forgot', 'dhokla', 'undiya', 'shya', 'tumme', 'chuute', 'jki', 'zhat', 'kaagajaat', 'bauji', 'pachhataoge', 'compressor', 'partially', 'fractured', 'leakage', 'obstruct', 'khelta', 'barph', 'dehaant', 'condolence', 'contaminated', 'bhagane', 'insult', 'bardaast', 'manata', 'pichhale', 'plugs', 'switches', 'drill', 'screw', 'drivers', 'intelligence', 'teesaree', 'ahhhhhhaaaaaa', 'dimmakh', 'kumarjo', 'ubhaasi', 'poochtein', 'samajhau', 'samajhao', 'holl', 'kiso', 'sawere', 'niklate', 'bhaiyaa', 'bhaav', 'farj', 'escalator', 'mahan', 'rasmalai', 'bhijavana', 'boxing', 'defence', 'paya', 'kayamat', 'shook', 'samajhenge', 'janmadin', 'jaaega', 'panchaayatee', 'hehechand', 'shaanti', 'udapi', 'mangava', 'cahhati', 'bhikaari', 'fay', 'immediately', 'jidd', 'decent', 'away', 'kholi', 'manjavao', 'mita', 'varty', 'intajaam', 'khayaal', 'haaha', 'hehehehe', 'sukhe', 'poochana', 'booch', 'ishtehaar', 'toothbursh', 'daudi', 'maroon', 'bevakoof', 'noticed', 'nuksaan', 'hasane', 'hasana', 'suthra', 'hahahahhahaaha', 'jjaji', 'daraa', 'bigade', 'dangers', 'ponchhane', 'rakhane', 'tukada', 'pineapple', 'kata', 'shukragujaar', 'jyatti', 'rukunga', 'aaahh', 'oohhh', 'paanv', 'khareedoongee', 'compnay', 'khula', 'dekhungi', 'neo', 'port', 'hargij', 'rook', 'rehata', 'puchi', 'geyser', 'troubles', 'recorded', 'message', 'executives', 'andhere', 'rooge', 'vaate', 'choonse', 'choosta', 'bijali', 'kehate', 'bakavaas', 'bhaunkata', 'keho', 'swelling', 'agrawal', 'fuse', 'tuta', 'tudavaenge', 'terribly', 'bruce', 'rootli', 'surprising', 'medicine', 'hasate', 'cgrade', 'ukasaane', 'samajhate', 'samajhata', 'supporters', 'munnu', 'marbles', 'dadaji', 'rakshaabandhan', 'dabbabatli', 'raakhi', 'poochata', 'nashate', 'achchhi', 'pyaari', 'jeetegi', 'haraega', 'pinjare', 'pancheeyonko', 'aajad', 'bakabak', 'vajahe', 'bechaaree', 'rehate', 'bakurda', 'amrd', 'khila', 'jalad', 'bachae', 'usaka', 'laisens', 'nikalava', 'tikka', 'jatane', 'manpasand', 'bhijawa', 'deejiye', 'auratonki', 'garv', 'warana', 'chaahe', 'deliver', 'mand', 'badale', 'likkhi', 'aankhne', 'dhikati', 'sooti', 'wretched', 'gills', 'kaanch', 'katore', 'terane', 'aquarim', 'sofistication', 'copper', 'stripes', 'translucent', 'gourment', 'chaandi', 'baasi', 'meujhe', 'sadly', 'mistaken', 'hatava', 'auratonke', 'bachonke', 'dekhabhal', 'gov', 'khareedoongi', 'year', 'joor', 'bhatia', 'humour', 'nishaan', 'mujhi', 'lagaana', 'sarote', 'bulaiye', 'confident', 'todane', 'baandh', 'hahaa', 'haragiz', 'untie', 'kuku', 'dikhenge', 'sev', 'khaae', 'polite', 'kekada', 'kekade', 'janwaronko', 'malai', 'samajhegi', 'gaegi', 'radheshyam', 'presenting', 'gaaungi', 'salesmen', 'dababatli', 'walonki', 'jaaegi', 'logonka', 'doesnt', 'functions', 'navratri', 'disco', 'daandiyaa', 'yikes', 'khelana', 'dangerous', 'panda', 'haalat', 'kisane', 'katata', 'obvious', 'niklega', 'toliya', 'khinchunga', 'revise', 'mangungi', 'pateela', 'uthaungi', 'aayiega', 'magalsutra', 'pendant', 'central', 'piccadilly', 'sariyan', 'sweater', 'kitty', 'twists', 'turns', 'depending', 'primary', 'section', 'absense', 'vacation', 'aaugi', 'concrete', 'lautne', 'sites', 'dombivili', 'eent', 'destruction', 'bhukhe', 'tazi', 'khakhra', 'bhukh', 'kenchi', 'shelf', 'activity', 'cough', 'parade', 'pratik', 'udaye', 'asthma', 'arteritis', 'diabetes', 'mention', 'overall', 'ger', 'majudugi', 'udenge', 'anari', 'guna', 'alls', 'ends', 'comic', 'entertaining', 'mazedar', 'spoof', 'unfunny', 'thakur', 'gobar', 'perform', 'paenge', 'bhandha', 'pohoche', 'firane', 'swargiye', 'pramod', 'joshi', 'meet', 'seminar', 'subplot', 'tone', 'bheetar', 'chupe', 'perversions', 'symbolically', 'superficial', 'fantastically', 'fetched', 'farsical', 'representation', 'psychoanalytical', 'lalu', 'takrata', 'girta', '‘help', 'we’re', 'isharo', 'talpat', 'behere', 'birth', 'defect', 'auditory', 'canal', 'vocal', 'cord', 'encyclopedia', 'thuku', 'thukna', 'complcated', 'bones', '‘sarita', 'here’', 'monisa', 'move', 'ankhen', 'hilna', 'jabak', 'futa', 'shree', 'ehh', 'august', 'kranti', 'punga', 'fui', 'siquera', 'ladai', 'chillane', 'hilo', 'badha', 'confusion', 'bhadega', 'doubles', 'lapetulal', 'angrez', 'swadeshi', 'jalaya', 'ghadhi', 'pio', 'uthna', 'sharbat', 'cheen', 'mel', 'kiiya', 'magnificent', 'venture', 'shararat', 'satane', 'khaskar', '‘daddy', 'confidential', 'crackers', 'gourmandise', 'olives', 'watana', 'aigo', 'gye’', 'natural', '‘ram', 'bhut’', 'kanp', 'kanpega', 'hurry', 'neat', 'fairy', 'wand', 'gandi', 'criticise', 'sakun', 'wesa', 'uggh', 'attend', 'abhinav', 'pur', 'shower', 'dubla', 'silver', 'jubilee', 'pyade', 'pulse', 'cardiac', 'dhad', 'heartbeat', 'ghotne', 'dubi', 'evidence', 'bekasur', 'rakshash', 'bheem', 'urgently', 'manhus', 'zikr', 'dikhaenge', 'kofta', 'brave', 'gapshap', '‘bye', 'ana’', 'fikwana', 'khaye', 'fasenge', 'patience', 'darwana', 'jesa', 'darawni', 'dayan', 'gharo', 'samna', 'drying', 'sukhana', 'specify', 'bonanza', 'mardo', 'behene', 'dhanyawad', 'bezuban', 'janwar', 'sensational', 'jhanjra', 'pawa', 'choreographer', 'disappointed', 'hard', 'graceful', 'halaki', 'badhiya', 'sahiba', 'kurkurane', 'bhalane', 'saste', 'tazein', 'moze', 'pairon', 'sadma', 'write', 'jhelna', 'suffer', 'chhati', 'karahao', 'shaukeen', 'kanta', 'ragada', 'fanse', 'italy', 'jkl', 'pages', 'rajnikanth', 'mashhur', 'kaidi', 'dhoi', 'subhadra', 'patile', 'marun', 'festival', 'kalyan', 'donet', 'chapter', 'samjhaenge', 'ishare', 'bolegi', 'japt', 'brakes', 'horn', 'pahnane', 'personally', 'chamakiye', 'fracture', 'pahunchne', 'darao', 'bigadi', 'bigada', 'sochana', 'mujrim', 'mujra', 'rishtedar', 'chakmak', 'sadiyan', 'safari', 'maravat', 'supreme', 'chalayen', 'argue', 'kothri', 'bataaoge', 'deewaron', 'comparatively', 'namaskar', 'haati', 'patkega', 'logonki', 'ross', 'notes', 'ismeise', 'loi', 'kobara', 'tadimba', 'halumulu', 'shejaro', 'natikitika', 'tongue', 'donkey', 'heh', 'apply', 'ghantoke', 'activate', 'dikhegi', 'beharelal', 'pound', 'bhes', 'bulake', 'lata', 'safety', 'pin', 'mangegi', 'bapre', 'jaiyega', 'sangraha', 'gujrati', 'bulvao', 'ghoom', 'bakshenge', 'dude', 'yo', 'daiquiri', 'squeeze', 'chammbo', 'chungal', 'science', 'leaving', 'samajhaoonga', 'kiddo', 'bramham', 'taiyaariyaan', 'assistants', 'teaser', 'thodasa', 'oriental', 'belly', 'closed', 'ayurvedic', 'masssage', 'sayonara', 'ligiye', 'anyaay', 'sahegi', 'grover', 'lagaayengee', 'cheekhegee', 'maabaap', 'cheekhna', 'chalatee', 'phiratee', 'poochna', 'biwiyonko', 'itkna', 'peetenge', 'wance', 'massage', 'wassage', 'snacks', 'manja', 'mangvata', 'dairy', 'hogee', 'iris', 'playboy', 'dekhane', 'keliye', 'york', 'mangavaaya', 'mangavaaee', 'yeee', 'mangavaa', 'mangaa', 'organizer', 'magzines', 'advertisements', 'casual', 'banva', 'jazab', 'saadhi', 'dancers', 'taajjub', 'bharatnatyam', 'ravana', 'samjhega', 'species', 'jeeb', 'howl', 'grrrrrrr', 'grrrrrr', 'dekhata', 'filahaal', 'kapdonpar', 'exaclty', 'balderdash', 'chekate', 'rahate', 'partial', 'paralysis', 'choori', 'freddie', 'naukarani', 'chekna', 'nikalunga', 'julum', 'chiii', 'mausee', 'udkar', 'chhii', 'udta', 'jodti', 'hausala', 'deepandar', 'kehane', 'khushboo', 'likhawani', 'calender', 'dikhata', 'kalpa', 'niketan', 'official', 'chitthee', 'likhakar', 'que', 'arghh', 'clothes', 'soochne', 'kapade', 'pehane', 'baithegi', 'badalti', 'jan', 'deepend', 'baya', 'kutto', 'unifrom', 'silvate', 'recess', 'soyabean', 'cakes', 'sakugi', 'gao', 'remix', 'saiya', 'aanaa', 'aeee', 'chamaa', 'aalab', 'kambqt', 'ashmit', 'goyal', 'tornado', 'sheer', 'pagadi', 'aprty', 'vali', 'anyime', 'khaak', 'sambhalenge', 'sambhalne', 'saamaan', 'paee', 'taak', 'hands', 'badmaash', 'firm', 'pehali', 'khayala', 'sote', 'loves', 'songs', 'gayega', 'particular', 'reamix', 'aadi', 'tedi', 'hilne', 'haaahaa', 'liking', 'gesture', 'parakh', 'johar', 'precisely', 'bande', 'looks', 'clap', 'neta', 'aappki', 'saval', 'prose', 'touching', 'yadein', 'eklauta', 'political', 'advisor', 'praja', 'shakti', 'leader', 'probably', 'pradhan', 'dim', 'create', 'fabulous', 'impression', 'bow', 'bataana', 'chalat', 'saru', 'tomorrow', 'bujha', 'passsabjiyan', 'gujari', 'vahem', 'kamyab', 'ladkiyon', 'jhakta', 'pimples', 'takle', 'jhakna', 'sabjiyon', 'dhulki', 'lakeer', 'fuu', 'weather', 'rahene', 'barshat', 'hering', 'mangaya', 'mangaunga', 'uncha', 'sunta', 'bewada', 'banae', 'niti', 'pahen', 'uhi', 'jhuka', 'sabjiyan', 'uthata', 'bhagam', 'chase', 'kahkar', 'uchhalti', 'thakar', 'ayiye', 'momy', 'jaamkokri', 'manokamna', 'rhym', 'rhyme', 'sarvar', 'tika', 'lagwana', 'ghol', 'jalkukdi', 'solah', 'tapasya', 'baithata', 'ghusur', 'fusur', 'functional', 'socalled', 'chhape', 'reduvenation', 'advise', 'leni', 'acceptance', 'key', 'completely', 'fareli', 'godown', 'bergetting', 'nahiiii', 'related', 'technicaltimes', 'chhaya', 'network', 'connection', 'iv', 'walia', 'cure', 'outrageous', 'natures', 'reliever', 'tala', 'yeeeak', 'thala', 'calories', 'discussion', 'ilaajj', 'bite', 'katega', 'katna', 'inputted', 'aid', 'surti', 'inhen', 'chipka', 'kirane', 'flowers', 'nainital', 'chudai', 'ultrasound', 'technology', 'haaayyee', 'mods', 'takra', 'spot', 'face', 'samajhega', 'kano', 'madhuban', 'eai', 'shouted', 'ungliyan', 'eyesight', 'uuhh', 'bahre', 'taraff', 'bahera', 'yeaaaaa', 'yuuupiiiii', 'areh', 'noo', 'hyaaan', 'saaaah', 'therapeutic', 'rejuvenation', 'axis', 'abracadabra', 'ooohhh', 'mohalle', 'deke', 'tikha', 'ayie', 'gadiyan', 'microphone', 'nigal', 'zaroori', 'gamla', 'sandal', 'smelling', 'indravadaness', 'super', 'kharidna', 'jagadti', 'noor', 'kleptomaniac', 'toothpick', 'pickup', 'thakta', 'bhagegi', 'pichhe', 'midd', 'monmozi', 'tadap', 'dadhi', 'junior', 'baaz', 'chik', 'bhaiyaji', 'retrun', 'karie', 'mukabale', 'khiladi', 'andhamakta', 'bolu', 'daughter', 'promote', 'quiz', 'kavvali', 'unique', 'content', 'banda', 'hazir', 'mma', 'literature', 'mla', 'dalpat', 'chhor', 'daughterinlaw', 'dhudar', 'deepender', 'huuuuuuuu', 'cheetah', 'backstabbing', 'dominate', 'beton', 'chabane', 'muskan', 'hippocratic', 'creature', 'riswat', 'kousish', 'disguise', 'al', 'capone', 'godfather', 'kangi', 'muradabad', 'portion', 'bandal', 'celebrite', 'sochkar', 'prathmik', 'kaksha', 'dhunda', 'jinka', 'mata', 'daku', 'kg', 'padni', 'mature', 'mugambo', 'cares', 'safa', 'haai', 'laaaa', 'congratulation', 'booking', 'lolavna', 'spending', 'pahchana', 'aaphi', 'aaahaaahaaa', 'mythological', 'veham', 'tarkif', 'cchi', 'chu', 'sochte', 'chua', 'germs', 'rapper', 'makkhiya', 'bhanbhana', 'pahunchega', 'dungiapne', 'pasa', 'feka', 'shakuni', 'sana', 'mayad', 'tarbuj', 'aalas', 'regards', 'mba', 'vikatanshanke', 'views', 'pado', 'steven', 'spielberg', 'banaenge', 'tane', 'nicha', 'faces', 'jamidar', 'menrion', 'unobserved', 'microscope', 'p', 'swaroop', 'byheart', 'shagun', 'khilaiya', 'chudi', 'skirts', 'tops', 'kamiz', 'zindahi', 'insab', 'mochne', 'kapra', 'tissu', 'misses', 'dayal', 'bhulkerr', 'samjking', 'bench', 'sradhyanjali', 'mujhper', 'kharach', 'toaster', 'rathor', 'sokh', 'khuch', 'farmais', 'thatofa', 'taramonisha', 'inse', 'gaiye', 'yougart', 'suhagan', 'sajai', 'churia', 'sindur', 'joda', 'pahenayie', 'sifon', 'usper', 'metre', 'bhaijaynti', 'kaheki', 'salan', 'uthaiye', 'suruat', 'kijiega', 'shradhanjalia', 'fansi', 'asafal', 'paye', 'marungi', 'khae', 'piye', 'internet', 'izhar', 'atal', 'tarikh', 'buti', 'mombolina', 'california', 'spencer', 'chadhne', 'rivera', 'contact', 'lens', 'pahnati', 'things', 'momer', 'likhun', 'muskurahat', 'kudak', 'mor', 'pankh', 'womens', 'sabdo', 'likhega', 'uljha', 'switched', 'cello', 'recharge', 'bill', 'madan', 'anant', 'kahiyo', 'mahangai', 'saathsaath', 'allah', 'jahir', 'dhuri', 'padhoge', 'abhagan', 'peeth', 'bhukha', 'haro', 'bigrah', 'mele', 'electronics', 'faad', 'chhin', 'serve', 'return', 'aadhe', 'dateline', 'paon', 'manaya', 'loot', 'ekloti', 'theiri', 'krti', 'sradhajali', 'ojha', 'mebawala', 'kishan', 'pahenta', 'information', 'naity', 'pahnata', 'karotimepass', 'resident', 'ajao', 'samajhti', 'sentences', 'khak', 'samjhunga', 'samjhungi', 'exaggerating', 'wednesday', 'ubay', 'kashmiri', 'caterar', 'ladi', 'pandit', 'bidhi', 'rakkhe', 'parliament', 'pr', 'darlin', 'boaring', 'tripical', 'sahed', 'mhi', 'indravada', 'oeaur', 'firvi', 'kharate', 'msin', 'pes', 'strate', 'seconds', 'sgain', 'bhajapuri', 'q', 'urproblem', 'ajkaal', 'tention', 'pesent', 'thaka', 'chahere', 'toplevel', 'vichara', 'lae', 'nau', 'jhoota', 'dumped', 'forgive', 'chhotisi', 'sushmita', 'sen', 'toriko', 'udhiswar', 'sampatti', 'dove', 'prashn', 'bhanshali', 'juaa', 'baazi', 'risk', 'cash', 'sou', 'premium', 'banshali', 'sunny', 'deol', 'process', 'dharma', 'dharmaputra', 'hastinapur', 'south', 'jammu', 'nakul', 'surpanakha', 'kari', 'haldi', 'pakdane', 'babuni', 'sulia', 'ghumta', 'judhistir', 'ijjat', 'huyou', 'asia', 'bardat', 'gava', 'yudhishthir', 'aamin', 'mazar', 'khulwaye', 'savan', 'thyro', 'theli', 'dhundhati', 'ghumaunga', 'peele', 'gilas', 'neema', 'ect', 'bindas', 'flirting', 'kynjai', 'moodle', 'wajib', 'telling', 'melodrama', 'khwaish', 'duwaein', 'experienced', 'trustworthy', 'trusthworthy', 'chants', 'mantras', 'pooja', 'conco', 'lagayiye', 'pehnaiye', 'cuncu', 'pehnana', 'fodd', 'bethne', 'bachegi', 'padosio', 'bitha', 'lagwa', 'khakhi', 'tufan', 'faatu', 'parody', 'orchestra', 'extinguisher', 'chalaegi', 'comment', 'exagerate', 'artheritis', 'ghode', 'mehmano', 'tarantula', 'spider', 'chorra', 'darjeling', 'sardi', 'kadha', 'pilaungi', 'mimic', 'venue', 'rajasthan', 'imancipated', 'liberal', 'ghor', 'khushfehmi', 'bhakti', 'bhadkane', 'round', 'ghum', 'gairmajudgi', 'chamkate', 'atmasamman', 'naubat', 'baniye', 'lautte', 'kameeni', 'kalmuhi', 'karamjali', 'united', 'states', 'saahil', 'hapus', 'maal', 'keychain', 'woohoo', 'highway', 'airplane', 'fasten', 'seatbelts', 'bikhari', 'lote', 'aungi', 'itll', 'organise', 'jacket', 'lun', 'thinking', 'khayalat', 'julte', 'robert', 'niro', 'cocaine', 'embarress', 'centimeter', 'shailender', 'subtelty', 'jabtak', 'behte', 'yaddasht', 'zeher', 'background', 'patan', 'streeling', 'mahajan', 'dhundu', 'charri', 'dharavai', 'jeetna', 'chintiya', 'khayiye', 'nigoda', 'dabbe', 'dambar', 'lafanga', 'laiye', 'ponchke', 'navtratri', 'gabra', 'mandal', 'bakshish', 'surpnakha', 'bitching', 'aega', 'khinchawana', 'epitome', 'khinchte', 'ismail', 'sasu', 'biwio', 'lehrate', 'suggest', 'pertinent', 'someting', 'lying', 'dialog', 'manjhe', 'bachke', 'afraid', 'here’s', 'challenging', 'shave', 'episodes', 'western', 'makeover', 'siwai', 'expressions', 'track', 'manjali', 'shoot', 'puchta', 'bahuuu', 'freezepoint', 'chakachak', 'spick', 'span', 'he’s', 'admi', 'ched', 'mangwayi', 'kash', 'mangwati', 'dor', 'angdayi', 'rehke', 'dagmaga', 'ship', 'meaning', 'pech', 'mentally', 'pichak', 'mud', 'muskura', 'stuff', 'you’d', 'narrow', 'minded', 'tayaari', 'cry', 'navve', 'kaatti', 'monu', 'bail…', 'jhad', 'follicle', 'karwaya', 'khasi', 'fasal', 'nikalaya', 'munchhe', 'nikalayi', '“hello', 'anil', 'kapur', 'aunty”', 'mujhpar', 'nothing', 'can’t', 'akhiri', 'saansen', 'badon', 'nachos', 'enchiladas', 'burritos', 'pudding', 'guzare', 'mahina', 'smaran', 'gaungi', 'bell', 'fellowhe', 'gaogi', 'not…', 'kasar', 'chodna', 'gayenge', 'bulane', 'paidaishi', 'rudali', 'haivo', 'chatpati', 'grahan', 'davat', 'mommalook', 'hichki', 'mitane', 'ijaj', 'haisamjha', 'davaaiyan', 'davaiyan', 'khaamakha', 'somwar', 'khaanabanane', 'sochungi', 'sahillekin', 'intezaar', 'janewali', 'lagi“monisha', 'aaogi”', 'haiunka', 'sambhalega', 'asani', 'nikalte', 'rokti', 'airline', 'seatbelt', 'wetchup', 'packets', 'dip', 'shall', 'budhiya', '‘tumhari', 'banana’', 'lagana’', '‘le', 'maar’', 'paega', 'mundi', 'pakadni', 'teeka', 'lagaegi', 'subramaniyam', 'jogging', 'bladder', 'suhagrat', 'khatiye', 'odh', '‘are', 'uthao’', 'uthau', 'ho’', 'lakdi', 'manate', 'suhagrat’', 'chalo’', 'lachak', '’', 'guarantee', 'konse', 'saza', 'mujrimo', 'mast', 'computerised', 'cyber', 'chapi', 'bheedh', 'matrimonial', 'column', '‘wanted', 'bride', 'solemnised', 'days’', 'swayamvar', 'rachane', 'topmost', 'yogya', 'chapwaye', 'kharche', 'dhindhora', 'sheher', 'rickshaw', 'karwate', 'tagdi', 'thama', 'chillata', '‘lelo', 'reena', 'teena', 'ramola', 'banalo', 'dhula’', 'nilami', 'mandi', 'bio', 'datas', 'bheje', 'raghuvanshi', 'hyderabad', 'sougi', 'sulaya', 'jhakkas', 'passion', 'ubasi', 'alap', 'dinbhar', 'operator', 'enquiry', 'depends', 'colaba', 'ms', 'hisse', 'jhatak', 'dryer', 'giraogi', 'saudaminig', 'jyotish', 'fatka', 'expensive', 'pon', 'achaa', 'poo', 'javeri', 'chimpanzee', 'gendi', 'aapme', 'ahmdeba', 'roheh', 'harabai', 'hove', 'harabhai', 'nehehary', 'necessary', 'dikhau', 'hahi', 'peha', 'chalau', 'horry', 'shiridoria', 'hal', 'nikalegi', 'higher', 'balwinder', 'ministers', 'zamanat', 'involve', 'reconfirm', 'photograph', 'dikhaya', 'nikammi', 'wopie', 'babulnath', 'wifey', 'nikamma', 'dust', 'talluk', 'silwati', 'raghav', 'kanjhi', 'mangit', 'tute', 'importance', 'picturise', 'adult', 'keeper', 'rokta', 'voting', 'sala', 'khatirdari', 'pariksha', 'tuition', 'tution', 'garibi', 'jimmedaar', 'economic', 'dhal', 'padhaai', 'devotional', 'rack', 'dantne', 'sarkari', 'izzatdaar', 'imaandaar', 'dholo', 'pehra', 'shikayatein', 'jayaj', 'milkar', 'harder', 'housefull', 'mahinon', 'ummm', 'jagrut', 'mafat', 'mendonza', 'agnihotri', 'hale', 'hearty', 'cast', 'lebanese', 'chukta', 'bhadkake', 'badhkaya', 'likhwaya', 'handwriting', 'accepted', 'dues', 'jaldbazi', 'apahij', 'nari', 'samman', 'chorrne', 'panic', 'gang', 'dud', 'sunungi', 'naukaro', 'intezam', 'memsahib', 'prerna', 'examples', 'bant', 'shukar', 'badla', 'jinko', 'pirosa', 'rashtrageet', 'jalsa', 'jhutha', 'padha', 'atyachar', 'giraftaar', 'rakhen', 'khosli', 'zimmedari', 'paseena', 'bethti', 'bethaiye', 'bethegi', 'rokni', 'permanent', 'belacio', 'dressing', 'membsa', 'peel', 'recurring', 'kaamich', 'badbye', 'unknown_word'])"
      ]
     },
     "execution_count": 102,
     "metadata": {},
     "output_type": "execute_result"
    }
   ],
   "source": [
    "vocab_to_int.keys()"
   ]
  },
  {
   "cell_type": "code",
   "execution_count": 103,
   "id": "c51b43bf-5223-4337-9c66-d415b9d5f52e",
   "metadata": {},
   "outputs": [
    {
     "data": {
      "text/plain": [
       "True"
      ]
     },
     "execution_count": 103,
     "metadata": {},
     "output_type": "execute_result"
    }
   ],
   "source": [
    "'unknown_word' in vocab_to_int.keys()"
   ]
  },
  {
   "cell_type": "code",
   "execution_count": 104,
   "id": "46b8266a-8712-4e3b-8e1a-60d8fdde750a",
   "metadata": {},
   "outputs": [],
   "source": [
    "key_list = list(vocab_to_int.keys())"
   ]
  },
  {
   "cell_type": "code",
   "execution_count": 105,
   "id": "ff11b17f-8ab9-477d-af5d-f1c5afe77f93",
   "metadata": {},
   "outputs": [],
   "source": [
    "#key_list"
   ]
  },
  {
   "cell_type": "code",
   "execution_count": 106,
   "id": "a0737f16",
   "metadata": {},
   "outputs": [
    {
     "data": {
      "text/plain": [
       "10670"
      ]
     },
     "execution_count": 106,
     "metadata": {},
     "output_type": "execute_result"
    }
   ],
   "source": [
    "len(key_list)"
   ]
  },
  {
   "cell_type": "code",
   "execution_count": 107,
   "id": "f47fea3b-35db-425f-9aba-742b39c68099",
   "metadata": {},
   "outputs": [],
   "source": [
    "# Function to vectorize the text\n",
    "def tokenize_utterance(text, vocab_to_int):\n",
    "    key_list = list(vocab_to_int.keys())\n",
    "    words = text.split()\n",
    "    # tokens\n",
    "    text_ints = []\n",
    "    for word in words:\n",
    "        if word in key_list:\n",
    "            text_ints.append(vocab_to_int[word])\n",
    "        else:\n",
    "            text_ints.append(vocab_to_int['unknown_word'])  # Assign a special value for unknown words\n",
    "            \n",
    "    return text_ints\n"
   ]
  },
  {
   "cell_type": "code",
   "execution_count": 108,
   "id": "c59b7d47-aa20-49ad-bace-571c3684addd",
   "metadata": {},
   "outputs": [],
   "source": [
    "## store the tokenized utterance in utterance_ints\n",
    "utterance_ints_1 = []\n",
    "for utterance in train['Clean_text']:\n",
    "    utterance_ints_1.append(tokenize_utterance(utterance,vocab_to_int))"
   ]
  },
  {
   "cell_type": "code",
   "execution_count": 109,
   "id": "ecf9426e-63ac-4880-a826-4418fbf78256",
   "metadata": {},
   "outputs": [],
   "source": [
    "#utterance_ints_1"
   ]
  },
  {
   "cell_type": "code",
   "execution_count": 110,
   "id": "cd3722ad-c673-48bd-babc-cf7fe69865b1",
   "metadata": {},
   "outputs": [],
   "source": [
    "## store the tokenized utterance in utterance_ints\n",
    "utterance_ints_2 = []\n",
    "for utterance in validation['Clean_text']:\n",
    "    utterance_ints_2.append(tokenize_utterance(utterance,vocab_to_int))"
   ]
  },
  {
   "cell_type": "code",
   "execution_count": 111,
   "id": "282daed6-fa03-423e-89f1-9af2dc76f9a6",
   "metadata": {},
   "outputs": [],
   "source": [
    "#utterance_ints_2"
   ]
  },
  {
   "cell_type": "code",
   "execution_count": 112,
   "id": "f24c7841-f97f-43ac-8fbf-4d12f2f170ea",
   "metadata": {},
   "outputs": [],
   "source": [
    "# Dictionary to map emotions to labels with different numeric values\n",
    "emotion_to_label = {\n",
    "    'disgust': 0,\n",
    "    'contempt': 1,\n",
    "    'anger': 2,\n",
    "    'neutral': 3,\n",
    "    'joy': 4,\n",
    "    'sadness': 5,\n",
    "    'fear': 6,\n",
    "    'surprise': 7\n",
    "}\n",
    "\n",
    "\n",
    "# Encode the labels for training\n",
    "#train_encoded_labels = np.array([emotion_to_label[label] for label in train[\"Emotions\"]])"
   ]
  },
  {
   "cell_type": "code",
   "execution_count": 113,
   "id": "8a460d78-d40e-4da7-bbc9-da73b0ad43b8",
   "metadata": {},
   "outputs": [
    {
     "data": {
      "text/plain": [
       "array([0, 1, 2, ..., 4, 6, 0])"
      ]
     },
     "execution_count": 113,
     "metadata": {},
     "output_type": "execute_result"
    }
   ],
   "source": [
    "train_encoded_labels = np.array([emotion_to_label[label] for label in train[\"Emotions\"]])\n",
    "train_encoded_labels"
   ]
  },
  {
   "cell_type": "code",
   "execution_count": 114,
   "id": "34edba55",
   "metadata": {},
   "outputs": [
    {
     "data": {
      "text/plain": [
       "array([0, 1, 2, 3, 4, 5, 6, 7])"
      ]
     },
     "execution_count": 114,
     "metadata": {},
     "output_type": "execute_result"
    }
   ],
   "source": [
    "np.unique(train_encoded_labels)"
   ]
  },
  {
   "cell_type": "code",
   "execution_count": null,
   "id": "cf8984e5",
   "metadata": {},
   "outputs": [],
   "source": []
  },
  {
   "cell_type": "code",
   "execution_count": 115,
   "id": "bbd6c003-6e47-400c-b195-772781481427",
   "metadata": {},
   "outputs": [],
   "source": [
    "# Encode the labels for validation\n",
    "validation_encoded_labels = np.array([emotion_to_label[label] for label in validation[\"Emotions\"]])"
   ]
  },
  {
   "cell_type": "code",
   "execution_count": null,
   "id": "aa6604d7-9714-457f-a102-e6b7efaa723e",
   "metadata": {},
   "outputs": [],
   "source": []
  },
  {
   "cell_type": "code",
   "execution_count": 116,
   "id": "02207451-ed28-47d3-87fb-8314aee7277f",
   "metadata": {},
   "outputs": [
    {
     "name": "stdout",
     "output_type": "stream",
     "text": [
      "Number of utterances before removing outliers:  8506\n",
      "Number of utterances after removing outliers:  8417\n"
     ]
    }
   ],
   "source": [
    "print('Number of utterances before removing outliers: ', len(utterance_ints_1))\n",
    "\n",
    "## remove any utterances/labels with zero length from the utterance_ints list.\n",
    "\n",
    "## get any indices of any utterances with length 0\n",
    "non_zero_idx = [ii for ii, utterance in enumerate(utterance_ints_1) if len(utterance) != 0]\n",
    "\n",
    "# remove 0-length review with their labels\n",
    "ro_utterance_ints_1 = [utterance_ints_1[ii] for ii in non_zero_idx]\n",
    "train_encoded_labels = np.array([train_encoded_labels[ii] for ii in non_zero_idx])\n",
    "\n",
    "print('Number of utterances after removing outliers: ', len(ro_utterance_ints_1))"
   ]
  },
  {
   "cell_type": "code",
   "execution_count": null,
   "id": "2779dbd8-b793-4e77-a3ec-880ad82e2f38",
   "metadata": {},
   "outputs": [],
   "source": []
  },
  {
   "cell_type": "code",
   "execution_count": 117,
   "id": "f01793cb-14e2-4e6c-acb8-b3fcf5cb2628",
   "metadata": {},
   "outputs": [
    {
     "name": "stdout",
     "output_type": "stream",
     "text": [
      "Number of utterances before removing outliers:  1354\n",
      "Number of utterances after removing outliers:  1330\n"
     ]
    }
   ],
   "source": [
    "print('Number of utterances before removing outliers: ', len(utterance_ints_2))\n",
    "\n",
    "## remove any utterances/labels with zero length from the utterance_ints list.\n",
    "\n",
    "## get any indices of any utterances with length 0\n",
    "non_zero_idx = [ii for ii, utterance in enumerate(utterance_ints_2) if len(utterance) != 0]\n",
    "\n",
    "# remove 0-length review with their labels\n",
    "ro_utterance_ints_2 = [utterance_ints_2[ii] for ii in non_zero_idx]\n",
    "validation_encoded_labels = np.array([validation_encoded_labels[ii] for ii in non_zero_idx])\n",
    "\n",
    "print('Number of utterances after removing outliers: ', len(ro_utterance_ints_2))"
   ]
  },
  {
   "cell_type": "code",
   "execution_count": null,
   "id": "1588ff02-5451-4c6f-b8cf-0d8f2e0250d1",
   "metadata": {},
   "outputs": [],
   "source": []
  },
  {
   "cell_type": "code",
   "execution_count": 118,
   "id": "55bab2f5-c57b-4031-bf29-1d25b33ebf45",
   "metadata": {},
   "outputs": [],
   "source": [
    "def padding_(sentences, seq_len):\n",
    "    features = np.zeros((len(sentences), seq_len),dtype=int)\n",
    "    for ii, utterance in enumerate(sentences):\n",
    "        if len(utterance) != 0:\n",
    "            features[ii, -len(utterance):] = np.array(utterance)[:seq_len]\n",
    "    return features\n",
    "\n"
   ]
  },
  {
   "cell_type": "code",
   "execution_count": 119,
   "id": "c33ede25",
   "metadata": {},
   "outputs": [],
   "source": [
    "seq_len = 100\n",
    "x_train_pad = padding_(ro_utterance_ints_1,100)\n",
    "x_test_pad = padding_(ro_utterance_ints_2,100)"
   ]
  },
  {
   "cell_type": "code",
   "execution_count": 120,
   "id": "33d0ff1c",
   "metadata": {},
   "outputs": [
    {
     "data": {
      "text/plain": [
       "array([[   0,    0,    0, ...,  109,   11, 3430],\n",
       "       [   0,    0,    0, ...,   14,   77,  153],\n",
       "       [   0,    0,    0, ...,  268, 2085,   29],\n",
       "       ...,\n",
       "       [   0,    0,    0, ...,    0,    0, 3422],\n",
       "       [   0,    0,    0, ...,    0,    0, 2585],\n",
       "       [   0,    0,    0, ...,  194,  197,  370]])"
      ]
     },
     "execution_count": 120,
     "metadata": {},
     "output_type": "execute_result"
    }
   ],
   "source": [
    "x_train_pad"
   ]
  },
  {
   "cell_type": "code",
   "execution_count": 121,
   "id": "9ded37c5-2972-4181-8d80-1c1dbbb5a40e",
   "metadata": {},
   "outputs": [
    {
     "name": "stdout",
     "output_type": "stream",
     "text": [
      "[[ 108   35   10  443 2084 2572  153  109   11 3430]\n",
      " [   0    0    0    0    0   89   77   14   77  153]\n",
      " [   0    0    0    0    0    0   39  268 2085   29]\n",
      " [  43   10 5152 1321 2572 2086  111 3430   11   77]\n",
      " [   0    0  108   10  273 2573  361  393   64  134]\n",
      " [   0    0    0    0 5153  361 5154 2574  171 5155]\n",
      " [   0    0    0    0    0    0    0    0    0  345]\n",
      " [  66 1730  202   22    3  567   33  287 3431    4]\n",
      " [   0    0    0    0    0    0    0    0    0  695]\n",
      " [   0    0    0  173  203  108   35  882  153 5156]\n",
      " [   0    0   89   19   77   14  175  153  830 5157]\n",
      " [   0    0    0    0    0   28  883  735  463   26]\n",
      " [   0    0    0    3    1  218 1731  736  130   22]\n",
      " [ 108 2575  490  269  203   37   35  882  153  830]\n",
      " [   0    0   89   19   77    5   68  153  830 2576]\n",
      " [   0    0    0    0    0   61   61   61  108  345]\n",
      " [  99  883  735   66  334 5158 5159    3 5160 5161]\n",
      " [ 599  361   84   40    5   66  296   85   47   25]\n",
      " [ 124  884  269  108   14  696 1494 1064  882  153]\n",
      " [  89  568   29    1  125  153  830    9  425   22]\n",
      " [ 656    9   35   27   41   26 2577    5   26  569]\n",
      " [   0    0    0    0    0    0   14  114  426  883]\n",
      " [   0    0    0    0    0    0    0    0 2087   39]\n",
      " [   0    0    0    0    0    0   14  542  883 1732]\n",
      " [  31  627   66 1732  125 1733  966  104   11   46]\n",
      " [   0    0    0    0    0    0    0    0  409   14]\n",
      " [1323   11  108  697 1191  657  599 5163 2579    1]\n",
      " [  50  698  698    3   19   10  287 5164  698  175]\n",
      " [   0    0    0    0    0    0   27 3434 1324  108]\n",
      " [   0    0    0    0    0    3 2580  132  242 5165]]\n"
     ]
    }
   ],
   "source": [
    "# print last 10 values of the first 30 batches\n",
    "print(x_train_pad[:30,90:100])"
   ]
  },
  {
   "cell_type": "code",
   "execution_count": 122,
   "id": "0cd02e34",
   "metadata": {},
   "outputs": [],
   "source": [
    "import tensorflow as tf\n",
    "from tensorflow.keras.models import Sequential\n",
    "from tensorflow.keras.layers import Embedding, LSTM, Dense, Dropout\n",
    "from keras.utils import to_categorical\n",
    "import seaborn as sns"
   ]
  },
  {
   "cell_type": "code",
   "execution_count": 123,
   "id": "fa7db4c0",
   "metadata": {},
   "outputs": [
    {
     "data": {
      "text/plain": [
       "array([[1., 0., 0., ..., 0., 0., 0.],\n",
       "       [0., 1., 0., ..., 0., 0., 0.],\n",
       "       [0., 0., 1., ..., 0., 0., 0.],\n",
       "       ...,\n",
       "       [0., 0., 0., ..., 0., 0., 0.],\n",
       "       [0., 0., 0., ..., 0., 1., 0.],\n",
       "       [1., 0., 0., ..., 0., 0., 0.]], dtype=float32)"
      ]
     },
     "execution_count": 123,
     "metadata": {},
     "output_type": "execute_result"
    }
   ],
   "source": [
    "# Assuming train_encoded_labels is your array of labels\n",
    "# Assuming num_classes is the total number of classes (in this case, 8)\n",
    "num_classes = 8\n",
    "\n",
    "# Convert labels to one-hot encoding\n",
    "train_one_hot_labels = to_categorical(train_encoded_labels, num_classes=num_classes)\n",
    "train_one_hot_labels\n"
   ]
  },
  {
   "cell_type": "code",
   "execution_count": 124,
   "id": "23aa7047",
   "metadata": {},
   "outputs": [
    {
     "data": {
      "text/plain": [
       "array([[0., 0., 0., ..., 0., 0., 0.],\n",
       "       [0., 0., 0., ..., 0., 0., 0.],\n",
       "       [0., 0., 0., ..., 0., 0., 0.],\n",
       "       ...,\n",
       "       [0., 0., 0., ..., 1., 0., 0.],\n",
       "       [0., 0., 0., ..., 0., 0., 0.],\n",
       "       [0., 0., 0., ..., 0., 1., 0.]], dtype=float32)"
      ]
     },
     "execution_count": 124,
     "metadata": {},
     "output_type": "execute_result"
    }
   ],
   "source": [
    "\n",
    "num_classes = 8\n",
    "\n",
    "# Convert labels to one-hot encoding\n",
    "validation_one_hot_labels = to_categorical(validation_encoded_labels, num_classes=num_classes)\n",
    "validation_one_hot_labels\n",
    "\n"
   ]
  },
  {
   "cell_type": "code",
   "execution_count": 125,
   "id": "ebd1132e-d450-418f-958c-a38d6336fe17",
   "metadata": {},
   "outputs": [],
   "source": [
    "y_train = train_encoded_labels\n",
    "y_test = validation_encoded_labels"
   ]
  },
  {
   "cell_type": "code",
   "execution_count": null,
   "id": "57f1d86f",
   "metadata": {},
   "outputs": [],
   "source": []
  },
  {
   "cell_type": "code",
   "execution_count": 126,
   "id": "55f58881",
   "metadata": {},
   "outputs": [],
   "source": [
    "voc_size = 11000"
   ]
  },
  {
   "cell_type": "code",
   "execution_count": null,
   "id": "bafe0b1e",
   "metadata": {
    "scrolled": false
   },
   "outputs": [],
   "source": []
  },
  {
   "cell_type": "code",
   "execution_count": 127,
   "id": "13b8d7e6",
   "metadata": {},
   "outputs": [
    {
     "name": "stdout",
     "output_type": "stream",
     "text": [
      "Model: \"sequential_2\"\n",
      "_________________________________________________________________\n",
      " Layer (type)                Output Shape              Param #   \n",
      "=================================================================\n",
      " embedding_2 (Embedding)     (None, 100, 64)           704000    \n",
      "                                                                 \n",
      " lstm_4 (LSTM)               (None, 100, 64)           33024     \n",
      "                                                                 \n",
      " lstm_5 (LSTM)               (None, 64)                33024     \n",
      "                                                                 \n",
      " dense_4 (Dense)             (None, 64)                4160      \n",
      "                                                                 \n",
      " dropout_2 (Dropout)         (None, 64)                0         \n",
      "                                                                 \n",
      " dense_5 (Dense)             (None, 8)                 520       \n",
      "                                                                 \n",
      "=================================================================\n",
      "Total params: 774728 (2.96 MB)\n",
      "Trainable params: 774728 (2.96 MB)\n",
      "Non-trainable params: 0 (0.00 Byte)\n",
      "_________________________________________________________________\n"
     ]
    }
   ],
   "source": [
    "# Define the model\n",
    "model = Sequential()\n",
    "\n",
    "# Add an Embedding layer\n",
    "model.add(Embedding(input_dim=voc_size, output_dim = 64, input_length = 100))\n",
    "\n",
    "# Add an LSTM layer\n",
    "model.add(LSTM(64, return_sequences=True))\n",
    "\n",
    "# Add a second LSTM layer\n",
    "model.add(LSTM(64))\n",
    "\n",
    "# Add a Dense layer with ReLU activation\n",
    "model.add(Dense(64, activation='relu'))\n",
    "\n",
    "# Add a Dropout layer\n",
    "model.add(Dropout(0.5))\n",
    "\n",
    "# Add the output layer with softmax activation for classification\n",
    "model.add(Dense(8, activation='softmax'))\n",
    "\n",
    "# Compile the model\n",
    "model.compile(optimizer='adam', loss='sparse_categorical_crossentropy', metrics=['accuracy'])\n",
    "\n",
    "# Print the model summary\n",
    "model.summary()"
   ]
  },
  {
   "cell_type": "code",
   "execution_count": 129,
   "id": "dab674c3",
   "metadata": {},
   "outputs": [
    {
     "name": "stdout",
     "output_type": "stream",
     "text": [
      "Model: \"sequential\"\n",
      "_________________________________________________________________\n",
      " Layer (type)                Output Shape              Param #   \n",
      "=================================================================\n",
      " embedding (Embedding)       (None, 100, 64)           704000    \n",
      "                                                                 \n",
      " lstm (LSTM)                 (None, 100, 32)           12416     \n",
      "                                                                 \n",
      " lstm_1 (LSTM)               (None, 32)                8320      \n",
      "                                                                 \n",
      " dense (Dense)               (None, 64)                2112      \n",
      "                                                                 \n",
      " dropout (Dropout)           (None, 64)                0         \n",
      "                                                                 \n",
      " dense_1 (Dense)             (None, 8)                 520       \n",
      "                                                                 \n",
      "=================================================================\n",
      "Total params: 727368 (2.77 MB)\n",
      "Trainable params: 727368 (2.77 MB)\n",
      "Non-trainable params: 0 (0.00 Byte)\n",
      "_________________________________________________________________\n"
     ]
    }
   ],
   "source": [
    "from tensorflow.keras.regularizers import l2\n",
    "\n",
    "# build model\n",
    "tf.keras.backend.clear_session()\n",
    "# Define the model\n",
    "model = Sequential()\n",
    "\n",
    "# Add an Embedding layer\n",
    "model.add(Embedding(input_dim=voc_size, output_dim=64, input_length = 100))\n",
    "\n",
    "# Add an LSTM layer\n",
    "model.add(LSTM(32, return_sequences=True))\n",
    "\n",
    "# Add a second LSTM layer\n",
    "model.add(LSTM(32))\n",
    "\n",
    "# Add a Dense layer with ReLU activation and L2 regularization\n",
    "model.add(Dense(64, activation='relu', kernel_regularizer=l2(0.01)))\n",
    "\n",
    "# Add a Dropout layer\n",
    "model.add(Dropout(0.5))\n",
    "\n",
    "# Add the output layer with softmax activation for classification\n",
    "model.add(Dense(8, activation='softmax'))\n",
    "\n",
    "# Compile the model with Adam optimizer and sparse categorical crossentropy loss\n",
    "model.compile(optimizer='adam', loss='sparse_categorical_crossentropy', metrics=['accuracy'])\n",
    "\n",
    "# Print the model summary\n",
    "model.summary()\n"
   ]
  },
  {
   "cell_type": "code",
   "execution_count": 130,
   "id": "915ab63a",
   "metadata": {},
   "outputs": [
    {
     "name": "stdout",
     "output_type": "stream",
     "text": [
      "Epoch 1/100\n",
      "264/264 [==============================] - 18s 58ms/step - loss: 1.8988 - accuracy: 0.4401 - val_loss: 1.7109 - val_accuracy: 0.4632\n",
      "Epoch 2/100\n",
      "264/264 [==============================] - 15s 56ms/step - loss: 1.6452 - accuracy: 0.4607 - val_loss: 1.6486 - val_accuracy: 0.4609\n",
      "Epoch 3/100\n",
      "264/264 [==============================] - 15s 56ms/step - loss: 1.4869 - accuracy: 0.4854 - val_loss: 1.6793 - val_accuracy: 0.4391\n",
      "Epoch 4/100\n",
      "264/264 [==============================] - 15s 56ms/step - loss: 1.3484 - accuracy: 0.5224 - val_loss: 1.7505 - val_accuracy: 0.4098\n",
      "Epoch 5/100\n",
      "264/264 [==============================] - 15s 56ms/step - loss: 1.2021 - accuracy: 0.5753 - val_loss: 1.8391 - val_accuracy: 0.4338\n",
      "Epoch 6/100\n",
      "264/264 [==============================] - 15s 56ms/step - loss: 1.0811 - accuracy: 0.6161 - val_loss: 2.0398 - val_accuracy: 0.3970\n",
      "Epoch 7/100\n",
      "264/264 [==============================] - 15s 55ms/step - loss: 0.9867 - accuracy: 0.6431 - val_loss: 2.1943 - val_accuracy: 0.4271\n",
      "Epoch 8/100\n",
      "264/264 [==============================] - 15s 56ms/step - loss: 0.9022 - accuracy: 0.6764 - val_loss: 2.4096 - val_accuracy: 0.3985\n",
      "Epoch 9/100\n",
      "264/264 [==============================] - 15s 55ms/step - loss: 0.8501 - accuracy: 0.6955 - val_loss: 2.4676 - val_accuracy: 0.4068\n",
      "Epoch 10/100\n",
      "264/264 [==============================] - 15s 56ms/step - loss: 0.8033 - accuracy: 0.7171 - val_loss: 2.8070 - val_accuracy: 0.3955\n",
      "Epoch 11/100\n",
      "264/264 [==============================] - 15s 56ms/step - loss: 0.7676 - accuracy: 0.7435 - val_loss: 2.7947 - val_accuracy: 0.3684\n",
      "Epoch 12/100\n",
      "264/264 [==============================] - 15s 56ms/step - loss: 0.7382 - accuracy: 0.7559 - val_loss: 2.9005 - val_accuracy: 0.3895\n",
      "Epoch 13/100\n",
      "264/264 [==============================] - 15s 57ms/step - loss: 0.7037 - accuracy: 0.7693 - val_loss: 3.1239 - val_accuracy: 0.3835\n",
      "Epoch 14/100\n",
      "264/264 [==============================] - 15s 57ms/step - loss: 0.6642 - accuracy: 0.7955 - val_loss: 3.2216 - val_accuracy: 0.3707\n",
      "Epoch 15/100\n",
      "264/264 [==============================] - 15s 57ms/step - loss: 0.6321 - accuracy: 0.8054 - val_loss: 3.2955 - val_accuracy: 0.3729\n",
      "Epoch 16/100\n",
      "264/264 [==============================] - 15s 57ms/step - loss: 0.6056 - accuracy: 0.8208 - val_loss: 3.3411 - val_accuracy: 0.3699\n",
      "Epoch 17/100\n",
      "264/264 [==============================] - 15s 57ms/step - loss: 0.5772 - accuracy: 0.8322 - val_loss: 3.4586 - val_accuracy: 0.3722\n",
      "Epoch 18/100\n",
      "264/264 [==============================] - 15s 57ms/step - loss: 0.5526 - accuracy: 0.8390 - val_loss: 3.5931 - val_accuracy: 0.3617\n",
      "Epoch 19/100\n",
      "264/264 [==============================] - 15s 57ms/step - loss: 0.5488 - accuracy: 0.8362 - val_loss: 3.6061 - val_accuracy: 0.3662\n",
      "Epoch 20/100\n",
      "264/264 [==============================] - 15s 56ms/step - loss: 0.5196 - accuracy: 0.8475 - val_loss: 3.7731 - val_accuracy: 0.3632\n",
      "Epoch 21/100\n",
      "264/264 [==============================] - 15s 57ms/step - loss: 0.4820 - accuracy: 0.8593 - val_loss: 3.8745 - val_accuracy: 0.3744\n",
      "Epoch 22/100\n",
      "264/264 [==============================] - 15s 57ms/step - loss: 0.4638 - accuracy: 0.8647 - val_loss: 3.9956 - val_accuracy: 0.3632\n",
      "Epoch 23/100\n",
      "264/264 [==============================] - 15s 57ms/step - loss: 0.4443 - accuracy: 0.8660 - val_loss: 4.0802 - val_accuracy: 0.3632\n",
      "Epoch 24/100\n",
      "264/264 [==============================] - 15s 57ms/step - loss: 0.4363 - accuracy: 0.8701 - val_loss: 4.1377 - val_accuracy: 0.3677\n",
      "Epoch 25/100\n",
      "264/264 [==============================] - 15s 57ms/step - loss: 0.4244 - accuracy: 0.8744 - val_loss: 4.1896 - val_accuracy: 0.3759\n",
      "Epoch 26/100\n",
      "264/264 [==============================] - 15s 57ms/step - loss: 0.4195 - accuracy: 0.8730 - val_loss: 4.0296 - val_accuracy: 0.3677\n",
      "Epoch 27/100\n",
      "264/264 [==============================] - 15s 57ms/step - loss: 0.3872 - accuracy: 0.8856 - val_loss: 4.4524 - val_accuracy: 0.3647\n",
      "Epoch 28/100\n",
      "264/264 [==============================] - 15s 57ms/step - loss: 0.3748 - accuracy: 0.8935 - val_loss: 4.3953 - val_accuracy: 0.3684\n",
      "Epoch 29/100\n",
      "264/264 [==============================] - 15s 57ms/step - loss: 0.3667 - accuracy: 0.8951 - val_loss: 4.5549 - val_accuracy: 0.3526\n",
      "Epoch 30/100\n",
      "264/264 [==============================] - 15s 57ms/step - loss: 0.3654 - accuracy: 0.8991 - val_loss: 4.3639 - val_accuracy: 0.3549\n",
      "Epoch 31/100\n",
      "264/264 [==============================] - 15s 57ms/step - loss: 0.3538 - accuracy: 0.9028 - val_loss: 4.7128 - val_accuracy: 0.3662\n",
      "Epoch 32/100\n",
      "264/264 [==============================] - 15s 56ms/step - loss: 0.3390 - accuracy: 0.9069 - val_loss: 4.7441 - val_accuracy: 0.3654\n",
      "Epoch 33/100\n",
      "264/264 [==============================] - 15s 57ms/step - loss: 0.3266 - accuracy: 0.9094 - val_loss: 4.7832 - val_accuracy: 0.3677\n",
      "Epoch 34/100\n",
      "264/264 [==============================] - 15s 56ms/step - loss: 0.3425 - accuracy: 0.9044 - val_loss: 4.8091 - val_accuracy: 0.3805\n",
      "Epoch 35/100\n",
      "264/264 [==============================] - 14s 53ms/step - loss: 0.3249 - accuracy: 0.9098 - val_loss: 4.9120 - val_accuracy: 0.3684\n",
      "Epoch 36/100\n",
      "264/264 [==============================] - 15s 55ms/step - loss: 0.3159 - accuracy: 0.9085 - val_loss: 4.7593 - val_accuracy: 0.3662\n",
      "Epoch 37/100\n",
      "264/264 [==============================] - 15s 55ms/step - loss: 0.3144 - accuracy: 0.9113 - val_loss: 5.0432 - val_accuracy: 0.3805\n",
      "Epoch 38/100\n",
      "264/264 [==============================] - 14s 55ms/step - loss: 0.3012 - accuracy: 0.9165 - val_loss: 5.0480 - val_accuracy: 0.3556\n",
      "Epoch 39/100\n",
      "264/264 [==============================] - 14s 55ms/step - loss: 0.3015 - accuracy: 0.9172 - val_loss: 4.9480 - val_accuracy: 0.3602\n",
      "Epoch 40/100\n",
      "264/264 [==============================] - 14s 53ms/step - loss: 0.2964 - accuracy: 0.9198 - val_loss: 5.3639 - val_accuracy: 0.3624\n",
      "Epoch 41/100\n",
      "264/264 [==============================] - 15s 56ms/step - loss: 0.2869 - accuracy: 0.9187 - val_loss: 5.1135 - val_accuracy: 0.3481\n",
      "Epoch 42/100\n",
      "264/264 [==============================] - 15s 56ms/step - loss: 0.2859 - accuracy: 0.9210 - val_loss: 5.1227 - val_accuracy: 0.3617\n",
      "Epoch 43/100\n",
      "264/264 [==============================] - 14s 54ms/step - loss: 0.2846 - accuracy: 0.9229 - val_loss: 4.9921 - val_accuracy: 0.3662\n",
      "Epoch 44/100\n",
      "264/264 [==============================] - 15s 55ms/step - loss: 0.3363 - accuracy: 0.9110 - val_loss: 5.0434 - val_accuracy: 0.3586\n",
      "Epoch 45/100\n",
      "264/264 [==============================] - 15s 56ms/step - loss: 0.2683 - accuracy: 0.9256 - val_loss: 5.3472 - val_accuracy: 0.3624\n",
      "Epoch 46/100\n",
      "264/264 [==============================] - 15s 56ms/step - loss: 0.2656 - accuracy: 0.9280 - val_loss: 5.2822 - val_accuracy: 0.3617\n",
      "Epoch 47/100\n",
      "264/264 [==============================] - 15s 56ms/step - loss: 0.2531 - accuracy: 0.9307 - val_loss: 5.3480 - val_accuracy: 0.3677\n",
      "Epoch 48/100\n",
      "264/264 [==============================] - 15s 56ms/step - loss: 0.2446 - accuracy: 0.9326 - val_loss: 5.6537 - val_accuracy: 0.3571\n",
      "Epoch 49/100\n",
      "264/264 [==============================] - 15s 56ms/step - loss: 0.2434 - accuracy: 0.9323 - val_loss: 5.4686 - val_accuracy: 0.3609\n",
      "Epoch 50/100\n",
      "264/264 [==============================] - 15s 56ms/step - loss: 0.2467 - accuracy: 0.9310 - val_loss: 5.5561 - val_accuracy: 0.3684\n",
      "Epoch 51/100\n",
      "264/264 [==============================] - 15s 56ms/step - loss: 0.2444 - accuracy: 0.9306 - val_loss: 5.6725 - val_accuracy: 0.3624\n",
      "Epoch 52/100\n",
      "264/264 [==============================] - 15s 56ms/step - loss: 0.2422 - accuracy: 0.9337 - val_loss: 5.5259 - val_accuracy: 0.3662\n",
      "Epoch 53/100\n",
      "264/264 [==============================] - 15s 56ms/step - loss: 0.2439 - accuracy: 0.9293 - val_loss: 5.6615 - val_accuracy: 0.3496\n",
      "Epoch 54/100\n",
      "264/264 [==============================] - 15s 56ms/step - loss: 0.2456 - accuracy: 0.9333 - val_loss: 5.1994 - val_accuracy: 0.3549\n",
      "Epoch 55/100\n",
      "264/264 [==============================] - 15s 56ms/step - loss: 0.2449 - accuracy: 0.9323 - val_loss: 5.3848 - val_accuracy: 0.3429\n",
      "Epoch 56/100\n",
      "264/264 [==============================] - 15s 56ms/step - loss: 0.2463 - accuracy: 0.9326 - val_loss: 5.4152 - val_accuracy: 0.3632\n",
      "Epoch 57/100\n",
      "264/264 [==============================] - 15s 56ms/step - loss: 0.2331 - accuracy: 0.9326 - val_loss: 5.4833 - val_accuracy: 0.3662\n",
      "Epoch 58/100\n",
      "264/264 [==============================] - 14s 53ms/step - loss: 0.2434 - accuracy: 0.9303 - val_loss: 5.0804 - val_accuracy: 0.3617\n",
      "Epoch 59/100\n",
      "264/264 [==============================] - 15s 56ms/step - loss: 0.2393 - accuracy: 0.9319 - val_loss: 5.5300 - val_accuracy: 0.3624\n",
      "Epoch 60/100\n",
      "264/264 [==============================] - 15s 56ms/step - loss: 0.2255 - accuracy: 0.9379 - val_loss: 5.6104 - val_accuracy: 0.3519\n",
      "Epoch 61/100\n",
      "264/264 [==============================] - 15s 56ms/step - loss: 0.2157 - accuracy: 0.9381 - val_loss: 5.8456 - val_accuracy: 0.3707\n",
      "Epoch 62/100\n",
      "264/264 [==============================] - 15s 55ms/step - loss: 0.2087 - accuracy: 0.9396 - val_loss: 5.9104 - val_accuracy: 0.3586\n",
      "Epoch 63/100\n",
      "264/264 [==============================] - 15s 56ms/step - loss: 0.2165 - accuracy: 0.9366 - val_loss: 5.8529 - val_accuracy: 0.3677\n",
      "Epoch 64/100\n",
      "264/264 [==============================] - 15s 56ms/step - loss: 0.2136 - accuracy: 0.9374 - val_loss: 5.9789 - val_accuracy: 0.3789\n",
      "Epoch 65/100\n",
      "264/264 [==============================] - 15s 56ms/step - loss: 0.2069 - accuracy: 0.9412 - val_loss: 5.7993 - val_accuracy: 0.3609\n",
      "Epoch 66/100\n",
      "264/264 [==============================] - 15s 56ms/step - loss: 0.2094 - accuracy: 0.9411 - val_loss: 6.0510 - val_accuracy: 0.3564\n",
      "Epoch 67/100\n",
      "264/264 [==============================] - 15s 56ms/step - loss: 0.2138 - accuracy: 0.9405 - val_loss: 5.9483 - val_accuracy: 0.3474\n",
      "Epoch 68/100\n",
      "264/264 [==============================] - 15s 56ms/step - loss: 0.2028 - accuracy: 0.9399 - val_loss: 5.8649 - val_accuracy: 0.3639\n",
      "Epoch 69/100\n",
      "264/264 [==============================] - 15s 57ms/step - loss: 0.1984 - accuracy: 0.9418 - val_loss: 6.0700 - val_accuracy: 0.3594\n",
      "Epoch 70/100\n",
      "264/264 [==============================] - 15s 57ms/step - loss: 0.2022 - accuracy: 0.9407 - val_loss: 6.0393 - val_accuracy: 0.3534\n",
      "Epoch 71/100\n",
      "264/264 [==============================] - 15s 57ms/step - loss: 0.2079 - accuracy: 0.9415 - val_loss: 5.8430 - val_accuracy: 0.3647\n",
      "Epoch 72/100\n",
      "264/264 [==============================] - 15s 57ms/step - loss: 0.1973 - accuracy: 0.9440 - val_loss: 6.0983 - val_accuracy: 0.3699\n",
      "Epoch 73/100\n",
      "264/264 [==============================] - 15s 57ms/step - loss: 0.2049 - accuracy: 0.9436 - val_loss: 5.9096 - val_accuracy: 0.3617\n",
      "Epoch 74/100\n",
      "264/264 [==============================] - 15s 57ms/step - loss: 0.1985 - accuracy: 0.9429 - val_loss: 5.9802 - val_accuracy: 0.3752\n",
      "Epoch 75/100\n",
      "264/264 [==============================] - 15s 57ms/step - loss: 0.1963 - accuracy: 0.9429 - val_loss: 6.1642 - val_accuracy: 0.3662\n",
      "Epoch 76/100\n",
      "264/264 [==============================] - 15s 57ms/step - loss: 0.1940 - accuracy: 0.9429 - val_loss: 5.9768 - val_accuracy: 0.3647\n",
      "Epoch 77/100\n",
      "264/264 [==============================] - 15s 57ms/step - loss: 0.1965 - accuracy: 0.9431 - val_loss: 6.0099 - val_accuracy: 0.3647\n",
      "Epoch 78/100\n",
      "264/264 [==============================] - 15s 57ms/step - loss: 0.1947 - accuracy: 0.9426 - val_loss: 6.0467 - val_accuracy: 0.3759\n",
      "Epoch 79/100\n",
      "264/264 [==============================] - 15s 57ms/step - loss: 0.1871 - accuracy: 0.9438 - val_loss: 5.9083 - val_accuracy: 0.3654\n",
      "Epoch 80/100\n",
      "264/264 [==============================] - 15s 57ms/step - loss: 0.1979 - accuracy: 0.9455 - val_loss: 6.3762 - val_accuracy: 0.3624\n",
      "Epoch 81/100\n",
      "264/264 [==============================] - 15s 57ms/step - loss: 0.1812 - accuracy: 0.9476 - val_loss: 6.2160 - val_accuracy: 0.3677\n",
      "Epoch 82/100\n",
      "264/264 [==============================] - 15s 57ms/step - loss: 0.1804 - accuracy: 0.9476 - val_loss: 6.4135 - val_accuracy: 0.3609\n",
      "Epoch 83/100\n",
      "264/264 [==============================] - 15s 57ms/step - loss: 0.1809 - accuracy: 0.9476 - val_loss: 6.3980 - val_accuracy: 0.3699\n",
      "Epoch 84/100\n",
      "264/264 [==============================] - 15s 57ms/step - loss: 0.2005 - accuracy: 0.9410 - val_loss: 6.2345 - val_accuracy: 0.3707\n",
      "Epoch 85/100\n",
      "264/264 [==============================] - 15s 57ms/step - loss: 0.1811 - accuracy: 0.9469 - val_loss: 6.0799 - val_accuracy: 0.3602\n",
      "Epoch 86/100\n",
      "264/264 [==============================] - 15s 57ms/step - loss: 0.1822 - accuracy: 0.9488 - val_loss: 6.3752 - val_accuracy: 0.3714\n",
      "Epoch 87/100\n",
      "264/264 [==============================] - 15s 57ms/step - loss: 0.1768 - accuracy: 0.9487 - val_loss: 6.4207 - val_accuracy: 0.3632\n",
      "Epoch 88/100\n",
      "264/264 [==============================] - 15s 57ms/step - loss: 0.1731 - accuracy: 0.9501 - val_loss: 6.2736 - val_accuracy: 0.3789\n",
      "Epoch 89/100\n",
      "264/264 [==============================] - 15s 56ms/step - loss: 0.1777 - accuracy: 0.9484 - val_loss: 6.6701 - val_accuracy: 0.3564\n",
      "Epoch 90/100\n",
      "264/264 [==============================] - 15s 56ms/step - loss: 0.1797 - accuracy: 0.9461 - val_loss: 6.4463 - val_accuracy: 0.3654\n",
      "Epoch 91/100\n",
      "264/264 [==============================] - 15s 56ms/step - loss: 0.1719 - accuracy: 0.9508 - val_loss: 6.5153 - val_accuracy: 0.3699\n",
      "Epoch 92/100\n",
      "264/264 [==============================] - 15s 56ms/step - loss: 0.1751 - accuracy: 0.9482 - val_loss: 6.3527 - val_accuracy: 0.3602\n",
      "Epoch 93/100\n",
      "264/264 [==============================] - 15s 57ms/step - loss: 0.1730 - accuracy: 0.9502 - val_loss: 6.5714 - val_accuracy: 0.3752\n",
      "Epoch 94/100\n",
      "264/264 [==============================] - 15s 57ms/step - loss: 0.1763 - accuracy: 0.9490 - val_loss: 6.4089 - val_accuracy: 0.3722\n",
      "Epoch 95/100\n",
      "264/264 [==============================] - 15s 57ms/step - loss: 0.1731 - accuracy: 0.9493 - val_loss: 6.4684 - val_accuracy: 0.3699\n",
      "Epoch 96/100\n",
      "264/264 [==============================] - 15s 57ms/step - loss: 0.1636 - accuracy: 0.9494 - val_loss: 6.7965 - val_accuracy: 0.3586\n",
      "Epoch 97/100\n",
      "264/264 [==============================] - 15s 57ms/step - loss: 0.1693 - accuracy: 0.9493 - val_loss: 6.6215 - val_accuracy: 0.3639\n",
      "Epoch 98/100\n",
      "264/264 [==============================] - 15s 57ms/step - loss: 0.1663 - accuracy: 0.9515 - val_loss: 6.5030 - val_accuracy: 0.3699\n",
      "Epoch 99/100\n",
      "264/264 [==============================] - 15s 57ms/step - loss: 0.1653 - accuracy: 0.9494 - val_loss: 6.9066 - val_accuracy: 0.3722\n",
      "Epoch 100/100\n",
      "264/264 [==============================] - 15s 57ms/step - loss: 0.1708 - accuracy: 0.9507 - val_loss: 6.8024 - val_accuracy: 0.3639\n"
     ]
    }
   ],
   "source": [
    "# Train the model\n",
    "history = model.fit(x_train_pad, y_train, epochs=100, validation_data=(x_test_pad, y_test))"
   ]
  },
  {
   "cell_type": "code",
   "execution_count": null,
   "id": "aab2638e",
   "metadata": {},
   "outputs": [],
   "source": []
  },
  {
   "cell_type": "code",
   "execution_count": 131,
   "id": "c8f3fabb",
   "metadata": {},
   "outputs": [],
   "source": [
    "def plot_graphs(history, string):\n",
    "    \"\"\"\n",
    "    Function: Displays changes in monitored loss and metrics during model training\n",
    "    \n",
    "    Arguments: monitoring logs\n",
    "    \n",
    "    Returns: A line graph with changes of loss and metrics over time\n",
    "    \"\"\"\n",
    "    plt.plot(history.history[string])\n",
    "    plt.plot(history.history['val_'+string])\n",
    "    plt.xlabel(\"Epochs\")\n",
    "    plt.ylabel(string)\n",
    "    plt.legend([string, 'val_'+string])\n",
    "    plt.show()"
   ]
  },
  {
   "cell_type": "code",
   "execution_count": 132,
   "id": "d7638f18",
   "metadata": {},
   "outputs": [
    {
     "data": {
      "image/png": "[encoded data removed]",
      "text/plain": [
       "<Figure size 640x480 with 1 Axes>"
      ]
     },
     "metadata": {},
     "output_type": "display_data"
    },
    {
     "data": {
      "image/png": "[encoded data removed]",
      "text/plain": [
       "<Figure size 640x480 with 1 Axes>"
      ]
     },
     "metadata": {},
     "output_type": "display_data"
    }
   ],
   "source": [
    "plot_graphs(history, \"loss\")\n",
    "plot_graphs(history, \"accuracy\")"
   ]
  },
  {
   "cell_type": "code",
   "execution_count": 133,
   "id": "9428a68f",
   "metadata": {},
   "outputs": [
    {
     "name": "stdout",
     "output_type": "stream",
     "text": [
      "42/42 [==============================] - 1s 13ms/step - loss: 6.8024 - accuracy: 0.3639\n"
     ]
    }
   ],
   "source": [
    "loss, accuracy = model.evaluate(x_test_pad, y_test)"
   ]
  },
  {
   "cell_type": "code",
   "execution_count": 134,
   "id": "4d013ddd",
   "metadata": {},
   "outputs": [
    {
     "name": "stdout",
     "output_type": "stream",
     "text": [
      "Model accuracy is 36.39097809791565%\n"
     ]
    }
   ],
   "source": [
    "print(f\"Model accuracy is {accuracy * 100}%\")"
   ]
  },
  {
   "cell_type": "code",
   "execution_count": 135,
   "id": "9146b6e8",
   "metadata": {},
   "outputs": [
    {
     "name": "stdout",
     "output_type": "stream",
     "text": [
      "42/42 [==============================] - 1s 13ms/step\n"
     ]
    }
   ],
   "source": [
    "predicted_proba = np.argmax(model.predict(x_test_pad), axis =-1)"
   ]
  },
  {
   "cell_type": "code",
   "execution_count": 136,
   "id": "30eb4c6a",
   "metadata": {},
   "outputs": [
    {
     "data": {
      "text/plain": [
       "array([3, 2, 3, ..., 6, 3, 2])"
      ]
     },
     "execution_count": 136,
     "metadata": {},
     "output_type": "execute_result"
    }
   ],
   "source": [
    "predicted_proba"
   ]
  },
  {
   "cell_type": "code",
   "execution_count": 137,
   "id": "0ecd137d",
   "metadata": {},
   "outputs": [],
   "source": [
    "confusion_matrix = tf.math.confusion_matrix(y_test, predicted_proba).numpy()"
   ]
  },
  {
   "cell_type": "code",
   "execution_count": 138,
   "id": "d35117b5",
   "metadata": {},
   "outputs": [
    {
     "data": {
      "image/png": "[encoded data removed]",
      "text/plain": [
       "<Figure size 600x500 with 2 Axes>"
      ]
     },
     "metadata": {},
     "output_type": "display_data"
    }
   ],
   "source": [
    "figure = plt.figure(figsize = (6, 5))\n",
    "sns.heatmap(confusion_matrix, annot = True, fmt = \".0f\", cmap = plt.cm.Blues)\n",
    "plt.tight_layout()\n",
    "plt.ylabel(\"Actual class\")\n",
    "plt.xlabel(\"Predicted class\")\n",
    "plt.title(\"Confusion Matrix of classified emotions\")\n",
    "plt.show()\n"
   ]
  },
  {
   "cell_type": "code",
   "execution_count": null,
   "id": "441b0d0b",
   "metadata": {},
   "outputs": [],
   "source": []
  },
  {
   "cell_type": "code",
   "execution_count": null,
   "id": "eadf7156",
   "metadata": {},
   "outputs": [],
   "source": []
  },
  {
   "cell_type": "code",
   "execution_count": null,
   "id": "700c9e64-7294-4dc9-a597-691d287631a0",
   "metadata": {},
   "outputs": [],
   "source": []
  }
 ],
 "metadata": {
  "kernelspec": {
   "display_name": "Python 3 (ipykernel)",
   "language": "python",
   "name": "python3"
  },
  "language_info": {
   "codemirror_mode": {
    "name": "ipython",
    "version": 3
   },
   "file_extension": ".py",
   "mimetype": "text/x-python",
   "name": "python",
   "nbconvert_exporter": "python",
   "pygments_lexer": "ipython3",
   "version": "3.11.3"
  }
 },
 "nbformat": 4,
 "nbformat_minor": 5
}
