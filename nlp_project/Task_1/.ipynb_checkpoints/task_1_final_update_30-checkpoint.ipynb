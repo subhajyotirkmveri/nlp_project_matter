{
 "cells": [
  {
   "cell_type": "markdown",
   "id": "2c32d1d4",
   "metadata": {},
   "source": [
    "# Import Necessary Library"
   ]
  },
  {
   "cell_type": "code",
   "execution_count": 1,
   "id": "b7ba1cd0",
   "metadata": {},
   "outputs": [
    {
     "name": "stdout",
     "output_type": "stream",
     "text": [
      "Requirement already satisfied: nlp_utils in /home/sysadm/anaconda3/lib/python3.11/site-packages (0.6.2)\n",
      "Requirement already satisfied: nltk in /home/sysadm/anaconda3/lib/python3.11/site-packages (from nlp_utils) (3.7)\n",
      "Requirement already satisfied: numpy in /home/sysadm/anaconda3/lib/python3.11/site-packages (from nlp_utils) (1.24.3)\n",
      "Requirement already satisfied: micro-toolkit in /home/sysadm/anaconda3/lib/python3.11/site-packages (from nlp_utils) (0.9.0)\n",
      "Requirement already satisfied: click in /home/sysadm/anaconda3/lib/python3.11/site-packages (from nltk->nlp_utils) (8.0.4)\n",
      "Requirement already satisfied: joblib in /home/sysadm/anaconda3/lib/python3.11/site-packages (from nltk->nlp_utils) (1.2.0)\n",
      "Requirement already satisfied: regex>=2021.8.3 in /home/sysadm/anaconda3/lib/python3.11/site-packages (from nltk->nlp_utils) (2022.7.9)\n",
      "Requirement already satisfied: tqdm in /home/sysadm/anaconda3/lib/python3.11/site-packages (from nltk->nlp_utils) (4.65.0)\n",
      "Requirement already satisfied: langid in /home/sysadm/anaconda3/lib/python3.11/site-packages (1.1.6)\n",
      "Requirement already satisfied: numpy in /home/sysadm/anaconda3/lib/python3.11/site-packages (from langid) (1.24.3)\n",
      "Requirement already satisfied: stop-words in /home/sysadm/anaconda3/lib/python3.11/site-packages (2018.7.23)\n",
      "Requirement already satisfied: stop-words in /home/sysadm/anaconda3/lib/python3.11/site-packages (2018.7.23)\n",
      "Requirement already satisfied: sentencepiece in /home/sysadm/anaconda3/lib/python3.11/site-packages (0.1.99)\n",
      "Requirement already satisfied: indic-transliteration in /home/sysadm/anaconda3/lib/python3.11/site-packages (2.3.52)\n",
      "Requirement already satisfied: backports.functools-lru-cache in /home/sysadm/anaconda3/lib/python3.11/site-packages (from indic-transliteration) (1.6.4)\n",
      "Requirement already satisfied: regex in /home/sysadm/anaconda3/lib/python3.11/site-packages (from indic-transliteration) (2022.7.9)\n",
      "Requirement already satisfied: typer in /home/sysadm/anaconda3/lib/python3.11/site-packages (from indic-transliteration) (0.9.0)\n",
      "Requirement already satisfied: toml in /home/sysadm/anaconda3/lib/python3.11/site-packages (from indic-transliteration) (0.10.2)\n",
      "Requirement already satisfied: roman in /home/sysadm/anaconda3/lib/python3.11/site-packages (from indic-transliteration) (4.1)\n",
      "Requirement already satisfied: click<9.0.0,>=7.1.1 in /home/sysadm/anaconda3/lib/python3.11/site-packages (from typer->indic-transliteration) (8.0.4)\n",
      "Requirement already satisfied: typing-extensions>=3.7.4.3 in /home/sysadm/anaconda3/lib/python3.11/site-packages (from typer->indic-transliteration) (4.5.0)\n"
     ]
    }
   ],
   "source": [
    "import json\n",
    "import nltk\n",
    "\n",
    "!pip install nlp_utils\n",
    "import pandas as pd\n",
    "import numpy as np\n",
    "import torch\n",
    "import pickle\n",
    "import tqdm\n",
    "import random\n",
    "\n",
    "from collections import Counter\n",
    "\n",
    "import string\n",
    "string.punctuation\n",
    "!pip install langid\n",
    "from nltk.tokenize import word_tokenize\n",
    "from nltk.corpus import stopwords\n",
    "import string\n",
    "#nltk.download('punkt')\n",
    "#nltk.download('stopwords')\n",
    "\n",
    "!pip install stop-words\n",
    "!pip install stop-words\n",
    "!pip install sentencepiece\n",
    "from stop_words import get_stop_words\n",
    "\n",
    "#!pip install googletrans==4.0.0-rc1\n",
    "!pip install indic-transliteration\n",
    "from indic_transliteration import sanscript\n",
    "\n",
    "# Define the source and target scripts\n",
    "source_script = sanscript.DEVANAGARI\n",
    "target_script = sanscript.ITRANS\n",
    "\n",
    "import pandas as pd\n",
    "from sklearn.feature_extraction.text import CountVectorizer\n",
    "from sklearn.model_selection import train_test_split\n",
    "from sklearn.metrics import classification_report, confusion_matrix\n",
    "import matplotlib.pyplot as plt\n"
   ]
  },
  {
   "cell_type": "code",
   "execution_count": 2,
   "id": "f695a302",
   "metadata": {},
   "outputs": [],
   "source": [
    "from sklearn.metrics import confusion_matrix\n",
    "from sklearn.metrics import accuracy_score\n",
    "\n",
    "import matplotlib.pyplot as plt\n",
    "from sklearn.neighbors import KNeighborsClassifier\n",
    "from sklearn.metrics import confusion_matrix\n",
    "\n",
    "import numpy as np\n",
    "import pandas as pd\n",
    "import matplotlib.pyplot as plt\n",
    "from sklearn.svm import SVC\n",
    "\n",
    "from sklearn.utils import resample\n",
    "\n",
    "from sklearn.linear_model import LogisticRegression\n",
    "from sklearn.model_selection import train_test_split\n",
    "from sklearn.metrics import confusion_matrix, accuracy_score\n",
    "\n",
    "from sklearn.naive_bayes import MultinomialNB"
   ]
  },
  {
   "cell_type": "code",
   "execution_count": null,
   "id": "7555bb41",
   "metadata": {},
   "outputs": [],
   "source": []
  },
  {
   "cell_type": "markdown",
   "id": "47ae450a",
   "metadata": {},
   "source": [
    "# Open the JSON file"
   ]
  },
  {
   "cell_type": "code",
   "execution_count": 3,
   "id": "fa5f902d",
   "metadata": {},
   "outputs": [],
   "source": [
    "# Open and parse the Training JSON file\n",
    "with open('.//MaSaC_train_erc.json', 'r') as json_file:\n",
    "    train_data = json.load(json_file)"
   ]
  },
  {
   "cell_type": "code",
   "execution_count": 4,
   "id": "b9eab091",
   "metadata": {},
   "outputs": [
    {
     "data": {
      "text/plain": [
       "{'episode': 'roseshantstobeadopted.wmv',\n",
       " 'speakers': ['maya',\n",
       "  'indu',\n",
       "  'rosesh',\n",
       "  'indu',\n",
       "  'maya',\n",
       "  'indu',\n",
       "  'rosesh',\n",
       "  'indu',\n",
       "  'sahil',\n",
       "  'rosesh',\n",
       "  'maya',\n",
       "  'indu',\n",
       "  'sahil',\n",
       "  'monish',\n",
       "  'maya',\n",
       "  'indu',\n",
       "  'maya',\n",
       "  'indu',\n",
       "  'indu',\n",
       "  'maya',\n",
       "  'rosesh',\n",
       "  'maya'],\n",
       " 'utterances': ['kya kya bhar ke rakha hai indravadan ne is ghar mein indravadan please tum sari bekar ki chijen bahar kyon nahin fekte?',\n",
       "  'ok, chalo rosesh chalo bahar',\n",
       "  'momma! hath chhodiye dad!',\n",
       "  'dekho maya ya na bol raha hai! fir tum hi kahogi faltu chijen jama karte ho fekte nahin ho, chalo',\n",
       "  'indravadan, tum kitne salo se ye joke maar rahe ho. koi hota hai aaj tak?',\n",
       "  'kaikai pe joke maroge to manthra thodi na hasegi',\n",
       "  'very funny',\n",
       "  'maya, monisha aur sahil aa rahe hain, dekhna yahi jo un per istemal karta hun aur dekhna vah kitna haste hain',\n",
       "  'hi guys',\n",
       "  'hi',\n",
       "  'hi darling. achcha indravadan, please ya kachra bahar fenko!',\n",
       "  'ok maya, chalo rosesh tumhen bahar fenk au',\n",
       "  'mom! diwali ka lunch hamare ghar pe',\n",
       "  'aur mein khana fresh banane wali hun',\n",
       "  'i rest my case indravadan. hase donon, huh? achcha ab to please kachra bahar fenk do',\n",
       "  'ok maya, chalo monisha tumhe bahar fenk aau',\n",
       "  'ha ha ha, indravadan you are so funny',\n",
       "  'haila, sahil! tumhare diwali lunch per hai na maiya ko keede, makode aur mukhiya khilana',\n",
       "  'kyunki jab maine wahi joke rosesh pe mara to bilkul nahin hasi lekin vahi joke jab maine monisha per mara to dekho kaise has rahi hai!',\n",
       "  'acha now cut it out huh indravadan. rosesh sweety tumhi nikalo na sara kachra bahar',\n",
       "  'ok chaliye dad, mein aapko bahar fenk kar aata hun!',\n",
       "  'haha, you asked for that one. sahil darling tumhi madad kar do please meri. mera ghar to ekadam monisha ka ghar ban gaya hai!'],\n",
       " 'emotions': ['disgust',\n",
       "  'contempt',\n",
       "  'anger',\n",
       "  'neutral',\n",
       "  'neutral',\n",
       "  'contempt',\n",
       "  'contempt',\n",
       "  'neutral',\n",
       "  'joy',\n",
       "  'joy',\n",
       "  'neutral',\n",
       "  'neutral',\n",
       "  'joy',\n",
       "  'joy',\n",
       "  'neutral',\n",
       "  'neutral',\n",
       "  'joy',\n",
       "  'neutral',\n",
       "  'contempt',\n",
       "  'neutral',\n",
       "  'joy',\n",
       "  'contempt']}"
      ]
     },
     "execution_count": 4,
     "metadata": {},
     "output_type": "execute_result"
    }
   ],
   "source": [
    "train_data[0]"
   ]
  },
  {
   "cell_type": "code",
   "execution_count": null,
   "id": "00199f84",
   "metadata": {},
   "outputs": [],
   "source": []
  },
  {
   "cell_type": "code",
   "execution_count": 5,
   "id": "d832d751",
   "metadata": {},
   "outputs": [],
   "source": [
    "# Open and parse the validation JSON file\n",
    "with open('.//MaSaC_val_erc.json', 'r') as json_file:\n",
    "    validation_data = json.load(json_file)"
   ]
  },
  {
   "cell_type": "code",
   "execution_count": 6,
   "id": "d91d16d5",
   "metadata": {},
   "outputs": [
    {
     "data": {
      "text/plain": [
       "{'episode': 'roseshantstobeadopted.wmv',\n",
       " 'speakers': ['good rosesh',\n",
       "  'bad rosesh',\n",
       "  'good rosesh',\n",
       "  'bad rosesh',\n",
       "  'good rosesh',\n",
       "  'bad rosesh',\n",
       "  'good rosesh',\n",
       "  'bad rosesh',\n",
       "  'good rosesh',\n",
       "  'rosesh',\n",
       "  'rosesh',\n",
       "  'maya',\n",
       "  'rosesh'],\n",
       " 'utterances': ['ye kya kar raha hai rosesh? bharat tera desh! bhartiya insan hai saccha. kisi ka khat padhna nahin hai achcha.',\n",
       "  'hahaha khat padh le rosesh baby or padhne de hamen bhi. kitna achcha lagta hai balon mein gel, ding dong bell.',\n",
       "  'kavita acchi hai lekin khayal achcha nahin hai, villain rosesh. momma ne kaha hai kisi aur ka khat padhna galat baat hai',\n",
       "  'galat hai, par momma ne tumse kaha tha ki do bar brush karna aur tumne sirf ek bar kiya tha kya vah galat nahin tha?',\n",
       "  'galat tha per',\n",
       "  'momma ne tumse jab green chatni mangi thi aur tumne red pass ki thi kya vah galat nahin tha?',\n",
       "  'wo to galat tha',\n",
       "  'pichhle sal momma ki nayi hair style ostrich jesi thi aur tumne unhen apsara kaha tha kya vah galat nahin tha?',\n",
       "  'han tha tha tha!',\n",
       "  'please please please, tum log jara sophisticated argument karo na varna momma kahenge ki meri antaratma bahut middle class hai. tum log decide kar lo tab tak main yah lifafa khol ke padh leta hun.',\n",
       "  '\"my darling husband indravadan\" yah to momma ki handwriting hai...',\n",
       "  'darling i know ki ham do hamare do is so middle class. isiliye to humne teesra bachcha plan kiya tha haina? lekin present circumstances ko dekh ke i am not so sure. is topic pe main tumse baat nahin kar sakti isiliye khat likh rahi hun, but kya hamen sachmuch mein yah teesra baccha. i am so confused indravadan',\n",
       "  'momma...'],\n",
       " 'emotions': ['neutral',\n",
       "  'neutral',\n",
       "  'neutral',\n",
       "  'contempt',\n",
       "  'neutral',\n",
       "  'contempt',\n",
       "  'neutral',\n",
       "  'contempt',\n",
       "  'neutral',\n",
       "  'neutral',\n",
       "  'neutral',\n",
       "  'sadness',\n",
       "  'sadness']}"
      ]
     },
     "execution_count": 6,
     "metadata": {},
     "output_type": "execute_result"
    }
   ],
   "source": [
    "validation_data[0]"
   ]
  },
  {
   "cell_type": "markdown",
   "id": "74044e6a",
   "metadata": {},
   "source": [
    "# Total number of episode in Training Data"
   ]
  },
  {
   "cell_type": "code",
   "execution_count": 7,
   "id": "c80deab2",
   "metadata": {},
   "outputs": [
    {
     "name": "stdout",
     "output_type": "stream",
     "text": [
      "Total episode topics: 343\n"
     ]
    }
   ],
   "source": [
    "# Create a list to store  episode names\n",
    "total_episodes_1 = []\n",
    "\n",
    "for conversation in train_data:\n",
    "    episode = conversation[\"episode\"]\n",
    "\n",
    "    # Add the episode name to the set of unique episodes\n",
    "    total_episodes_1.append(episode)\n",
    "\n",
    "\n",
    "# Print the total number of  conversation topics or episodes\n",
    "print(\"Total episode topics:\", len(total_episodes_1))"
   ]
  },
  {
   "cell_type": "markdown",
   "id": "9da2bcb9",
   "metadata": {},
   "source": [
    "# Distinct Episode name in Training coversation\n"
   ]
  },
  {
   "cell_type": "code",
   "execution_count": 8,
   "id": "37eaf1ba",
   "metadata": {},
   "outputs": [
    {
     "name": "stdout",
     "output_type": "stream",
     "text": [
      "Unique episode names: {'mayamonishabday.avi', 'lease2.wmv', 'patang', 'soniyaprediction.avi', 'bachelor.wmv', 'kavi.wmv', 'sahillovestory.wmv', 'khilawal.wmv', 'popatlal', 'mayaleavesindravardhan(1) (1).wmv', 'monishasspeechonmaya.wmv', 'african', 'monishaadaptstohighsociety', 'mayadoubtsindravardhan.wmv', 'radhabaileaves', 'jaspal.wmv', 'monishasuicideattempt.wmv', 'indravadanmissing.avi', 'dushyant', 'newcar', 'baldev', 'doggy', 'lease1.wmv', 'roseshnayadon.wmv', 'mayanighmare', 'roseshmarriesrita.wmw', 'mayaonacleaningdrive.wmv', 'yamraj.wmv', 'mayabetmonisha.wmv', 'roseshpoetrypublication.wmv', 'introductiontothesarabhaifamily.avi', 'neelimaverma.wmv', 'prefinale', 'cricket.wmv', 'husbandsdonotcheat.avi', 'roseshaccident', 'finale.avi', 'jugalkishore.wmv', 'election', 'prankonindravadhan', 'playatcharityfunction', 'video1.wmv', 'scrabblecompetition.avi', 'roseshantstobeadopted.wmv', 'sharman.wmw', 'monishacomplainsofsahil.wmv', 'mayaleavesindravardhan.wmv', 'sahilmarriesmonisha.wmv', 'bachlorparty'}\n",
      "Total unique episodes: 49\n"
     ]
    }
   ],
   "source": [
    "# Convert the list of episode names to a set to get unique episodes\n",
    "unique_episodes_1 = set(total_episodes_1)\n",
    "\n",
    "# Print the unique episode names\n",
    "print(\"Unique episode names:\", unique_episodes_1)\n",
    "\n",
    "# Print the total number of unique episodes\n",
    "print(\"Total unique episodes:\", len(unique_episodes_1))"
   ]
  },
  {
   "cell_type": "markdown",
   "id": "e80a6de5",
   "metadata": {},
   "source": [
    "# To find how many times each episode name occurs in conversation"
   ]
  },
  {
   "cell_type": "code",
   "execution_count": 9,
   "id": "d62f31f3",
   "metadata": {},
   "outputs": [
    {
     "name": "stdout",
     "output_type": "stream",
     "text": [
      "roseshantstobeadopted.wmv occurs 5 times\n",
      "video1.wmv occurs 8 times\n",
      "yamraj.wmv occurs 7 times\n",
      "finale.avi occurs 13 times\n",
      "indravadanmissing.avi occurs 7 times\n",
      "sharman.wmw occurs 6 times\n",
      "soniyaprediction.avi occurs 7 times\n",
      "bachelor.wmv occurs 7 times\n",
      "cricket.wmv occurs 8 times\n",
      "husbandsdonotcheat.avi occurs 11 times\n",
      "introductiontothesarabhaifamily.avi occurs 6 times\n",
      "jugalkishore.wmv occurs 8 times\n",
      "kavi.wmv occurs 4 times\n",
      "lease1.wmv occurs 8 times\n",
      "lease2.wmv occurs 7 times\n",
      "mayaleavesindravardhan(1) (1).wmv occurs 6 times\n",
      "mayadoubtsindravardhan.wmv occurs 6 times\n",
      "jaspal.wmv occurs 5 times\n",
      "khilawal.wmv occurs 4 times\n",
      "mayabetmonisha.wmv occurs 10 times\n",
      "mayaleavesindravardhan.wmv occurs 6 times\n",
      "mayamonishabday.avi occurs 6 times\n",
      "mayanighmare occurs 5 times\n",
      "mayaonacleaningdrive.wmv occurs 9 times\n",
      "monishaadaptstohighsociety occurs 6 times\n",
      "roseshnayadon.wmv occurs 5 times\n",
      "roseshmarriesrita.wmw occurs 6 times\n",
      "roseshpoetrypublication.wmv occurs 6 times\n",
      "sahillovestory.wmv occurs 5 times\n",
      "sahilmarriesmonisha.wmv occurs 8 times\n",
      "scrabblecompetition.avi occurs 4 times\n",
      "baldev occurs 8 times\n",
      "dushyant occurs 9 times\n",
      "election occurs 15 times\n",
      "playatcharityfunction occurs 6 times\n",
      "prankonindravadhan occurs 10 times\n",
      "roseshaccident occurs 5 times\n",
      "african occurs 6 times\n",
      "bachlorparty occurs 7 times\n",
      "doggy occurs 11 times\n",
      "monishacomplainsofsahil.wmv occurs 7 times\n",
      "monishasspeechonmaya.wmv occurs 7 times\n",
      "monishasuicideattempt.wmv occurs 4 times\n",
      "neelimaverma.wmv occurs 6 times\n",
      "newcar occurs 8 times\n",
      "patang occurs 6 times\n",
      "popatlal occurs 5 times\n",
      "prefinale occurs 8 times\n",
      "radhabaileaves occurs 6 times\n"
     ]
    }
   ],
   "source": [
    "total_episodes_1\n",
    "\n",
    "episode_counts = {}\n",
    "\n",
    "for episode_title in total_episodes_1:\n",
    "    episode_counts[episode_title] = episode_counts.get(episode_title, 0) + 1\n",
    "\n",
    "for title, count in episode_counts.items():\n",
    "    print(f\"{title} occurs {count} times\")"
   ]
  },
  {
   "cell_type": "markdown",
   "id": "77067f25",
   "metadata": {},
   "source": [
    "# Convert all utterance of each episode into a single DataFrame"
   ]
  },
  {
   "cell_type": "code",
   "execution_count": 10,
   "id": "aab12deb",
   "metadata": {},
   "outputs": [
    {
     "data": {
      "text/html": [
       "<div>\n",
       "<style scoped>\n",
       "    .dataframe tbody tr th:only-of-type {\n",
       "        vertical-align: middle;\n",
       "    }\n",
       "\n",
       "    .dataframe tbody tr th {\n",
       "        vertical-align: top;\n",
       "    }\n",
       "\n",
       "    .dataframe thead th {\n",
       "        text-align: right;\n",
       "    }\n",
       "</style>\n",
       "<table border=\"1\" class=\"dataframe\">\n",
       "  <thead>\n",
       "    <tr style=\"text-align: right;\">\n",
       "      <th></th>\n",
       "      <th>Episode</th>\n",
       "      <th>Speakers</th>\n",
       "      <th>Utterances</th>\n",
       "      <th>Emotions</th>\n",
       "    </tr>\n",
       "  </thead>\n",
       "  <tbody>\n",
       "    <tr>\n",
       "      <th>0</th>\n",
       "      <td>roseshantstobeadopted.wmv</td>\n",
       "      <td>maya</td>\n",
       "      <td>kya kya bhar ke rakha hai indravadan ne is gha...</td>\n",
       "      <td>disgust</td>\n",
       "    </tr>\n",
       "    <tr>\n",
       "      <th>1</th>\n",
       "      <td>roseshantstobeadopted.wmv</td>\n",
       "      <td>indu</td>\n",
       "      <td>ok, chalo rosesh chalo bahar</td>\n",
       "      <td>contempt</td>\n",
       "    </tr>\n",
       "    <tr>\n",
       "      <th>2</th>\n",
       "      <td>roseshantstobeadopted.wmv</td>\n",
       "      <td>rosesh</td>\n",
       "      <td>momma! hath chhodiye dad!</td>\n",
       "      <td>anger</td>\n",
       "    </tr>\n",
       "    <tr>\n",
       "      <th>3</th>\n",
       "      <td>roseshantstobeadopted.wmv</td>\n",
       "      <td>indu</td>\n",
       "      <td>dekho maya ya na bol raha hai! fir tum hi kaho...</td>\n",
       "      <td>neutral</td>\n",
       "    </tr>\n",
       "    <tr>\n",
       "      <th>4</th>\n",
       "      <td>roseshantstobeadopted.wmv</td>\n",
       "      <td>maya</td>\n",
       "      <td>indravadan, tum kitne salo se ye joke maar rah...</td>\n",
       "      <td>neutral</td>\n",
       "    </tr>\n",
       "  </tbody>\n",
       "</table>\n",
       "</div>"
      ],
      "text/plain": [
       "                     Episode Speakers  \\\n",
       "0  roseshantstobeadopted.wmv     maya   \n",
       "1  roseshantstobeadopted.wmv     indu   \n",
       "2  roseshantstobeadopted.wmv   rosesh   \n",
       "3  roseshantstobeadopted.wmv     indu   \n",
       "4  roseshantstobeadopted.wmv     maya   \n",
       "\n",
       "                                          Utterances  Emotions  \n",
       "0  kya kya bhar ke rakha hai indravadan ne is gha...   disgust  \n",
       "1                       ok, chalo rosesh chalo bahar  contempt  \n",
       "2                          momma! hath chhodiye dad!     anger  \n",
       "3  dekho maya ya na bol raha hai! fir tum hi kaho...   neutral  \n",
       "4  indravadan, tum kitne salo se ye joke maar rah...   neutral  "
      ]
     },
     "execution_count": 10,
     "metadata": {},
     "output_type": "execute_result"
    }
   ],
   "source": [
    "import pandas as pd\n",
    "\n",
    "\n",
    "# Create an empty list to store the data for each conversation\n",
    "conversation_data = []\n",
    "\n",
    "# Iterate through the JSON data and construct a DataFrame for each conversation\n",
    "for conversation in train_data:\n",
    "    episode = conversation[\"episode\"]\n",
    "    speakers = conversation[\"speakers\"]\n",
    "    utterances = conversation[\"utterances\"]\n",
    "    emotions = conversation[\"emotions\"]\n",
    "\n",
    "    # Create a DataFrame for the current conversation\n",
    "    df = pd.DataFrame({\n",
    "        \"Episode\": [episode] * len(speakers),\n",
    "        \"Speakers\": speakers,\n",
    "        \"Utterances\": utterances,\n",
    "        \"Emotions\": emotions\n",
    "    })\n",
    "\n",
    "    # Append the DataFrame to the list\n",
    "    conversation_data.append(df)\n",
    "\n",
    "# Concatenate all conversation DataFrames into one DataFrame\n",
    "train_df = pd.concat(conversation_data, ignore_index=True)\n",
    "train_df.head(5)"
   ]
  },
  {
   "cell_type": "code",
   "execution_count": 11,
   "id": "b7dc1022",
   "metadata": {},
   "outputs": [],
   "source": [
    "#validation_data"
   ]
  },
  {
   "cell_type": "code",
   "execution_count": 12,
   "id": "556ecbc9",
   "metadata": {},
   "outputs": [
    {
     "data": {
      "text/html": [
       "<div>\n",
       "<style scoped>\n",
       "    .dataframe tbody tr th:only-of-type {\n",
       "        vertical-align: middle;\n",
       "    }\n",
       "\n",
       "    .dataframe tbody tr th {\n",
       "        vertical-align: top;\n",
       "    }\n",
       "\n",
       "    .dataframe thead th {\n",
       "        text-align: right;\n",
       "    }\n",
       "</style>\n",
       "<table border=\"1\" class=\"dataframe\">\n",
       "  <thead>\n",
       "    <tr style=\"text-align: right;\">\n",
       "      <th></th>\n",
       "      <th>Episode</th>\n",
       "      <th>Speakers</th>\n",
       "      <th>Utterances</th>\n",
       "      <th>Emotions</th>\n",
       "    </tr>\n",
       "  </thead>\n",
       "  <tbody>\n",
       "    <tr>\n",
       "      <th>0</th>\n",
       "      <td>roseshantstobeadopted.wmv</td>\n",
       "      <td>good rosesh</td>\n",
       "      <td>ye kya kar raha hai rosesh? bharat tera desh! ...</td>\n",
       "      <td>neutral</td>\n",
       "    </tr>\n",
       "    <tr>\n",
       "      <th>1</th>\n",
       "      <td>roseshantstobeadopted.wmv</td>\n",
       "      <td>bad rosesh</td>\n",
       "      <td>hahaha khat padh le rosesh baby or padhne de h...</td>\n",
       "      <td>neutral</td>\n",
       "    </tr>\n",
       "    <tr>\n",
       "      <th>2</th>\n",
       "      <td>roseshantstobeadopted.wmv</td>\n",
       "      <td>good rosesh</td>\n",
       "      <td>kavita acchi hai lekin khayal achcha nahin hai...</td>\n",
       "      <td>neutral</td>\n",
       "    </tr>\n",
       "    <tr>\n",
       "      <th>3</th>\n",
       "      <td>roseshantstobeadopted.wmv</td>\n",
       "      <td>bad rosesh</td>\n",
       "      <td>galat hai, par momma ne tumse kaha tha ki do b...</td>\n",
       "      <td>contempt</td>\n",
       "    </tr>\n",
       "    <tr>\n",
       "      <th>4</th>\n",
       "      <td>roseshantstobeadopted.wmv</td>\n",
       "      <td>good rosesh</td>\n",
       "      <td>galat tha per</td>\n",
       "      <td>neutral</td>\n",
       "    </tr>\n",
       "  </tbody>\n",
       "</table>\n",
       "</div>"
      ],
      "text/plain": [
       "                     Episode     Speakers  \\\n",
       "0  roseshantstobeadopted.wmv  good rosesh   \n",
       "1  roseshantstobeadopted.wmv   bad rosesh   \n",
       "2  roseshantstobeadopted.wmv  good rosesh   \n",
       "3  roseshantstobeadopted.wmv   bad rosesh   \n",
       "4  roseshantstobeadopted.wmv  good rosesh   \n",
       "\n",
       "                                          Utterances  Emotions  \n",
       "0  ye kya kar raha hai rosesh? bharat tera desh! ...   neutral  \n",
       "1  hahaha khat padh le rosesh baby or padhne de h...   neutral  \n",
       "2  kavita acchi hai lekin khayal achcha nahin hai...   neutral  \n",
       "3  galat hai, par momma ne tumse kaha tha ki do b...  contempt  \n",
       "4                                      galat tha per   neutral  "
      ]
     },
     "execution_count": 12,
     "metadata": {},
     "output_type": "execute_result"
    }
   ],
   "source": [
    "import pandas as pd\n",
    "\n",
    "\n",
    "# Create an empty list to store the data for each conversation\n",
    "conversation_data = []\n",
    "\n",
    "# Iterate through the JSON data and construct a DataFrame for each conversation\n",
    "for conversation in validation_data:\n",
    "    episode = conversation[\"episode\"]\n",
    "    speakers = conversation[\"speakers\"]\n",
    "    utterances = conversation[\"utterances\"]\n",
    "    emotions = conversation[\"emotions\"]\n",
    "\n",
    "    # Create a DataFrame for the current conversation\n",
    "    df = pd.DataFrame({\n",
    "        \"Episode\": [episode] * len(speakers),\n",
    "        \"Speakers\": speakers,\n",
    "        \"Utterances\": utterances,\n",
    "        \"Emotions\": emotions\n",
    "    })\n",
    "\n",
    "    # Append the DataFrame to the list\n",
    "    conversation_data.append(df)\n",
    "\n",
    "# Concatenate all conversation DataFrames into one DataFrame\n",
    "val_df = pd.concat(conversation_data, ignore_index=True)\n",
    "val_df.head(5)"
   ]
  },
  {
   "cell_type": "markdown",
   "id": "0685e9da",
   "metadata": {},
   "source": [
    "# distinct emotions exist in whole training conversation"
   ]
  },
  {
   "cell_type": "code",
   "execution_count": 13,
   "id": "2d796704",
   "metadata": {},
   "outputs": [
    {
     "name": "stdout",
     "output_type": "stream",
     "text": [
      "Distinct Emotions:\n",
      "disgust\n",
      "contempt\n",
      "anger\n",
      "neutral\n",
      "joy\n",
      "sadness\n",
      "fear\n",
      "surprise\n"
     ]
    }
   ],
   "source": [
    "# Find distinct emotions\n",
    "distinct_emotions = train_df['Emotions'].unique()\n",
    "\n",
    "# Print distinct emotions\n",
    "print(\"Distinct Emotions:\")\n",
    "for emotion in distinct_emotions:\n",
    "    print(emotion)"
   ]
  },
  {
   "cell_type": "code",
   "execution_count": null,
   "id": "fd4ea367",
   "metadata": {},
   "outputs": [],
   "source": []
  },
  {
   "cell_type": "code",
   "execution_count": 14,
   "id": "80e4a168",
   "metadata": {},
   "outputs": [
    {
     "name": "stdout",
     "output_type": "stream",
     "text": [
      "Distinct Emotions:\n",
      "neutral\n",
      "contempt\n",
      "sadness\n",
      "fear\n",
      "joy\n",
      "surprise\n",
      "anger\n",
      "disgust\n"
     ]
    }
   ],
   "source": [
    "# Find distinct emotions\n",
    "distinct_emotions = val_df['Emotions'].unique()\n",
    "\n",
    "# Print distinct emotions\n",
    "print(\"Distinct Emotions:\")\n",
    "for emotion in distinct_emotions:\n",
    "    print(emotion)"
   ]
  },
  {
   "cell_type": "markdown",
   "id": "b114fc01",
   "metadata": {},
   "source": [
    "# Visualise the emotion status count in training conversation"
   ]
  },
  {
   "cell_type": "code",
   "execution_count": 15,
   "id": "aa34c99e",
   "metadata": {},
   "outputs": [
    {
     "data": {
      "image/png": "[encoded data removed]",
      "text/plain": [
       "<Figure size 800x500 with 1 Axes>"
      ]
     },
     "metadata": {},
     "output_type": "display_data"
    }
   ],
   "source": [
    "# Count the occurrences of each emotion\n",
    "emotion_counts = train_df['Emotions'].value_counts()\n",
    "\n",
    "# Create a bar plot\n",
    "plt.figure(figsize=(8, 5))\n",
    "emotion_counts.plot(kind='bar', color='skyblue')\n",
    "plt.title('Emotion Occurrences')\n",
    "plt.xlabel('Emotion')\n",
    "plt.ylabel('Count')\n",
    "plt.xticks(rotation=45)\n",
    "plt.tight_layout()\n",
    "plt.grid()\n",
    "# Show the plot\n",
    "plt.show()"
   ]
  },
  {
   "cell_type": "code",
   "execution_count": null,
   "id": "d1709e1f",
   "metadata": {},
   "outputs": [],
   "source": []
  },
  {
   "cell_type": "markdown",
   "id": "f4f6d11f",
   "metadata": {},
   "source": [
    "# combined list of stopwords for both English and Hindi"
   ]
  },
  {
   "cell_type": "code",
   "execution_count": 16,
   "id": "4cbe28fe",
   "metadata": {},
   "outputs": [],
   "source": [
    "hindi_stopwords = get_stop_words('hi')  # 'hi' is the ISO 639-1 code for Hindi\n",
    "hindi_stopwords\n",
    "\n",
    "# Transliterate Hindi to Roman script (English characters)\n",
    "transliterated_text = [sanscript.transliterate(word, source_script, target_script) for word in hindi_stopwords]\n",
    "\n",
    "# Convert transliterated words to lowercase\n",
    "lowercase_transliterated_text = [word.lower() for word in transliterated_text]\n",
    "\n",
    "english_stopwords = set(stopwords.words('english'))\n",
    "stop_words = set(english_stopwords)  # English stopwords\n",
    "\n",
    "# Add Hindi stopwords to the set\n",
    "hindi_stop_words = set(lowercase_transliterated_text)  # Add your Hindi stopwords here\n",
    "\n",
    "stop_words.update(hindi_stop_words)\n",
    "#stop_words"
   ]
  },
  {
   "cell_type": "code",
   "execution_count": null,
   "id": "1da6ccf4",
   "metadata": {},
   "outputs": [],
   "source": [
    "\n"
   ]
  },
  {
   "cell_type": "code",
   "execution_count": null,
   "id": "3ec24eda",
   "metadata": {},
   "outputs": [],
   "source": []
  },
  {
   "cell_type": "code",
   "execution_count": null,
   "id": "6ef1ea9c",
   "metadata": {},
   "outputs": [],
   "source": []
  },
  {
   "cell_type": "markdown",
   "id": "128613af",
   "metadata": {},
   "source": [
    "# Preprocessing code for each utterance"
   ]
  },
  {
   "cell_type": "code",
   "execution_count": 17,
   "id": "4eb07522",
   "metadata": {},
   "outputs": [
    {
     "name": "stderr",
     "output_type": "stream",
     "text": [
      "sentencepiece_trainer.cc(177) LOG(INFO) Running command: --input=combined_text.txt --model_prefix=mymodel --vocab_size=5000\n",
      "sentencepiece_trainer.cc(77) LOG(INFO) Starts training with : \n",
      "trainer_spec {\n",
      "  input: combined_text.txt\n",
      "  input_format: \n",
      "  model_prefix: mymodel\n",
      "  model_type: UNIGRAM\n",
      "  vocab_size: 5000\n",
      "  self_test_sample_size: 0\n",
      "  character_coverage: 0.9995\n",
      "  input_sentence_size: 0\n",
      "  shuffle_input_sentence: 1\n",
      "  seed_sentencepiece_size: 1000000\n",
      "  shrinking_factor: 0.75\n",
      "  max_sentence_length: 4192\n",
      "  num_threads: 16\n",
      "  num_sub_iterations: 2\n",
      "  max_sentencepiece_length: 16\n",
      "  split_by_unicode_script: 1\n",
      "  split_by_number: 1\n",
      "  split_by_whitespace: 1\n",
      "  split_digits: 0\n",
      "  pretokenization_delimiter: \n",
      "  treat_whitespace_as_suffix: 0\n",
      "  allow_whitespace_only_pieces: 0\n",
      "  required_chars: \n",
      "  byte_fallback: 0\n",
      "  vocabulary_output_piece_score: 1\n",
      "  train_extremely_large_corpus: 0\n",
      "  hard_vocab_limit: 1\n",
      "  use_all_vocab: 0\n",
      "  unk_id: 0\n",
      "  bos_id: 1\n",
      "  eos_id: 2\n",
      "  pad_id: -1\n",
      "  unk_piece: <unk>\n",
      "  bos_piece: <s>\n",
      "  eos_piece: </s>\n",
      "  pa"
     ]
    },
    {
     "data": {
      "text/plain": [
       "True"
      ]
     },
     "execution_count": 17,
     "metadata": {},
     "output_type": "execute_result"
    },
    {
     "name": "stderr",
     "output_type": "stream",
     "text": [
      "d_piece: <pad>\n",
      "  unk_surface:  ⁇ \n",
      "  enable_differential_privacy: 0\n",
      "  differential_privacy_noise_level: 0\n",
      "  differential_privacy_clipping_threshold: 0\n",
      "}\n",
      "normalizer_spec {\n",
      "  name: nmt_nfkc\n",
      "  add_dummy_prefix: 1\n",
      "  remove_extra_whitespaces: 1\n",
      "  escape_whitespaces: 1\n",
      "  normalization_rule_tsv: \n",
      "}\n",
      "denormalizer_spec {}\n",
      "trainer_interface.cc(351) LOG(INFO) SentenceIterator is not specified. Using MultiFileSentenceIterator.\n",
      "trainer_interface.cc(183) LOG(INFO) Loading corpus: combined_text.txt\n",
      "trainer_interface.cc(407) LOG(INFO) Loaded all 8508 sentences\n",
      "trainer_interface.cc(423) LOG(INFO) Adding meta_piece: <unk>\n",
      "trainer_interface.cc(423) LOG(INFO) Adding meta_piece: <s>\n",
      "trainer_interface.cc(423) LOG(INFO) Adding meta_piece: </s>\n",
      "trainer_interface.cc(428) LOG(INFO) Normalizing sentences...\n",
      "trainer_interface.cc(537) LOG(INFO) all chars count=498306\n",
      "trainer_interface.cc(548) LOG(INFO) Done: 99.9504% characters are covered.\n",
      "trainer_interface.cc(558) LOG(INFO) Alphabet size=40\n",
      "trainer_interface.cc(559) LOG(INFO) Final character coverage=0.999504\n",
      "trainer_interface.cc(591) LOG(INFO) Done! preprocessed 8508 sentences.\n",
      "unigram_model_trainer.cc(222) LOG(INFO) Making suffix array...\n",
      "unigram_model_trainer.cc(226) LOG(INFO) Extracting frequent sub strings... node_num=255774\n",
      "unigram_model_trainer.cc(274) LOG(INFO) Initialized 20654 seed sentencepieces\n",
      "trainer_interface.cc(597) LOG(INFO) Tokenizing input sentences with whitespace: 8508\n",
      "trainer_interface.cc(608) LOG(INFO) Done! 16241\n",
      "unigram_model_trainer.cc(564) LOG(INFO) Using 16241 sentences for EM training\n",
      "unigram_model_trainer.cc(580) LOG(INFO) EM sub_iter=0 size=9222 obj=11.0047 num_tokens=33321 num_tokens/piece=3.61321\n",
      "unigram_model_trainer.cc(580) LOG(INFO) EM sub_iter=1 size=8001 obj=9.55452 num_tokens=33509 num_tokens/piece=4.1881\n",
      "unigram_model_trainer.cc(580) LOG(INFO) EM sub_iter=0 size=5998 obj=9.54045 num_tokens=35014 num_tokens/piece=5.83761\n",
      "unigram_model_trainer.cc(580) LOG(INFO) EM sub_iter=1 size=5993 obj=9.49741 num_tokens=35012 num_tokens/piece=5.84215\n",
      "unigram_model_trainer.cc(580) LOG(INFO) EM sub_iter=0 size=5500 obj=9.52673 num_tokens=35675 num_tokens/piece=6.48636\n",
      "unigram_model_trainer.cc(580) LOG(INFO) EM sub_iter=1 size=5498 obj=9.51503 num_tokens=35676 num_tokens/piece=6.48891\n",
      "trainer_interface.cc(686) LOG(INFO) Saving model: mymodel.model\n",
      "trainer_interface.cc(698) LOG(INFO) Saving vocabs: mymodel.vocab\n"
     ]
    }
   ],
   "source": [
    "import sentencepiece as spm\n",
    "\n",
    "# Combine training and test data into a single dataframe\n",
    "combined_df = train_df\n",
    "\n",
    "# Save the combined utterances to a text file\n",
    "combined_df['Utterances'].to_csv('combined_text.txt', index=False, header=False)\n",
    "\n",
    "# Train SentencePiece model\n",
    "spm.SentencePieceTrainer.train('--input=combined_text.txt --model_prefix=mymodel --vocab_size=5000')\n",
    "\n",
    "# Load the trained SentencePiece model\n",
    "sp = spm.SentencePieceProcessor()\n",
    "sp.load('mymodel.model')\n"
   ]
  },
  {
   "cell_type": "code",
   "execution_count": 18,
   "id": "1b601040",
   "metadata": {},
   "outputs": [],
   "source": [
    "# Function to preprocess text using SentencePiece\n",
    "def preprocess_text_with_sentencepiece(text, sp_processor):\n",
    "    # Convert text to lowercase\n",
    "    text = text.lower()\n",
    "\n",
    "    # Tokenize using SentencePiece\n",
    "    tokens = sp_processor.encode_as_pieces(text)\n",
    "    text = ' '.join(tokens)\n",
    "\n",
    "    # Remove extra white spaces\n",
    "    text = ' '.join(text.split())\n",
    "\n",
    "    return text"
   ]
  },
  {
   "cell_type": "code",
   "execution_count": 19,
   "id": "36bccdda",
   "metadata": {},
   "outputs": [
    {
     "data": {
      "text/plain": [
       "'▁kya ▁kya ▁bhar ▁ke ▁rakha ▁hai ▁indravadan ▁ne ▁is ▁gha ...'"
      ]
     },
     "execution_count": 19,
     "metadata": {},
     "output_type": "execute_result"
    }
   ],
   "source": [
    "preprocess_text_with_sentencepiece('kya kya bhar ke rakha hai indravadan ne is gha...',sp)"
   ]
  },
  {
   "cell_type": "code",
   "execution_count": 20,
   "id": "43db2eb3",
   "metadata": {},
   "outputs": [],
   "source": [
    "train_data = train_df"
   ]
  },
  {
   "cell_type": "code",
   "execution_count": 21,
   "id": "c6e85ae7",
   "metadata": {},
   "outputs": [],
   "source": [
    "# Apply preprocessing to the 'Utterances' column\n",
    "train_data['Clean_text'] = train_data['Utterances'].apply(lambda x: preprocess_text_with_sentencepiece(x, sp))"
   ]
  },
  {
   "cell_type": "code",
   "execution_count": 22,
   "id": "7df973eb",
   "metadata": {},
   "outputs": [],
   "source": [
    "import re\n",
    "\n",
    "def remove_numeric_sequences_and_ordinals(text):\n",
    "    # Remove numbers\n",
    "    text = re.sub(r'\\d+', '', text)\n",
    "\n",
    "    # Remove ordinal numbers\n",
    "    text = re.sub(r'\\b\\d+(st|nd|rd|th)\\b', '', text)\n",
    "\n",
    "    return text\n",
    "def remove_puntuations(txt):\n",
    "    punct = set(string.punctuation)\n",
    "    txt = \" \".join(txt.split(\".\"))\n",
    "    txt = \" \".join(txt.split(\"!\"))\n",
    "    txt = \" \".join(txt.split(\"?\"))\n",
    "    txt = \" \".join(txt.split(\":\"))\n",
    "    txt = \" \".join(txt.split(\";\"))\n",
    "    \n",
    "    txt = \"\".join(ch for ch in txt if ch not in punct)\n",
    "    return txt\n",
    "# Function clean text\n",
    "def preprocess_text(text):\n",
    "    # Convert text to lowercase\n",
    "    text = text.lower()\n",
    "    \n",
    "    #remove numeric and ordinals \n",
    "    text = remove_numeric_sequences_and_ordinals(text)\n",
    "\n",
    "    # Remove punctuation\n",
    "    text = remove_puntuations(text)\n",
    "\n",
    "    # Remove extra white spaces\n",
    "    text = ' '.join(text.split())\n",
    "\n",
    "    # Remove stopwords\n",
    "    total_stop_words = stop_words\n",
    "    text = ' '.join([word for word in text.split() if word not in total_stop_words])\n",
    "\n",
    "    return text"
   ]
  },
  {
   "cell_type": "code",
   "execution_count": 23,
   "id": "2c0f34a0",
   "metadata": {},
   "outputs": [
    {
     "data": {
      "text/plain": [
       "'▁kya ▁kya ▁bhar ▁ke ▁rakha ▁hai ▁indravadan ▁n'"
      ]
     },
     "execution_count": 23,
     "metadata": {},
     "output_type": "execute_result"
    }
   ],
   "source": [
    "preprocess_text(\"▁kya ▁kya ▁bhar ▁ke ▁rakha ▁hai ▁indravadan ▁n...\")"
   ]
  },
  {
   "cell_type": "code",
   "execution_count": 24,
   "id": "bebb1815",
   "metadata": {},
   "outputs": [
    {
     "data": {
      "text/plain": [
       "'kya kya bhar rakha indravadan gha'"
      ]
     },
     "execution_count": 24,
     "metadata": {},
     "output_type": "execute_result"
    }
   ],
   "source": [
    "preprocess_text('kya kya bhar ke rakha hai indravadan ne is gha...')"
   ]
  },
  {
   "cell_type": "raw",
   "id": "fb2f84aa",
   "metadata": {},
   "source": [
    "train_df = train_data\n",
    "train_df.head(2)"
   ]
  },
  {
   "cell_type": "code",
   "execution_count": null,
   "id": "5cd9e77b",
   "metadata": {},
   "outputs": [],
   "source": []
  },
  {
   "cell_type": "code",
   "execution_count": 25,
   "id": "3b2061bf",
   "metadata": {},
   "outputs": [
    {
     "data": {
      "text/html": [
       "<div>\n",
       "<style scoped>\n",
       "    .dataframe tbody tr th:only-of-type {\n",
       "        vertical-align: middle;\n",
       "    }\n",
       "\n",
       "    .dataframe tbody tr th {\n",
       "        vertical-align: top;\n",
       "    }\n",
       "\n",
       "    .dataframe thead th {\n",
       "        text-align: right;\n",
       "    }\n",
       "</style>\n",
       "<table border=\"1\" class=\"dataframe\">\n",
       "  <thead>\n",
       "    <tr style=\"text-align: right;\">\n",
       "      <th></th>\n",
       "      <th>Episode</th>\n",
       "      <th>Speakers</th>\n",
       "      <th>Utterances</th>\n",
       "      <th>Emotions</th>\n",
       "      <th>Clean_text</th>\n",
       "    </tr>\n",
       "  </thead>\n",
       "  <tbody>\n",
       "    <tr>\n",
       "      <th>0</th>\n",
       "      <td>roseshantstobeadopted.wmv</td>\n",
       "      <td>maya</td>\n",
       "      <td>kya kya bhar ke rakha hai indravadan ne is gha...</td>\n",
       "      <td>disgust</td>\n",
       "      <td>▁kya ▁kya ▁bhar ▁ke ▁rakha ▁hai ▁indravadan ▁n...</td>\n",
       "    </tr>\n",
       "    <tr>\n",
       "      <th>1</th>\n",
       "      <td>roseshantstobeadopted.wmv</td>\n",
       "      <td>indu</td>\n",
       "      <td>ok, chalo rosesh chalo bahar</td>\n",
       "      <td>contempt</td>\n",
       "      <td>▁ok ▁chalo ▁rosesh ▁chalo ▁bahar</td>\n",
       "    </tr>\n",
       "  </tbody>\n",
       "</table>\n",
       "</div>"
      ],
      "text/plain": [
       "                     Episode Speakers  \\\n",
       "0  roseshantstobeadopted.wmv     maya   \n",
       "1  roseshantstobeadopted.wmv     indu   \n",
       "\n",
       "                                          Utterances  Emotions  \\\n",
       "0  kya kya bhar ke rakha hai indravadan ne is gha...   disgust   \n",
       "1                       ok, chalo rosesh chalo bahar  contempt   \n",
       "\n",
       "                                          Clean_text  \n",
       "0  ▁kya ▁kya ▁bhar ▁ke ▁rakha ▁hai ▁indravadan ▁n...  \n",
       "1                   ▁ok ▁chalo ▁rosesh ▁chalo ▁bahar  "
      ]
     },
     "execution_count": 25,
     "metadata": {},
     "output_type": "execute_result"
    }
   ],
   "source": [
    "# Apply preprocessing to the 'Utterances' column\n",
    "train_df['Clean_text'] = train_df['Clean_text'].apply(preprocess_text)\n",
    "\n",
    "# Print the first few rows of the modified DataFrame\n",
    "train_df.head(2)"
   ]
  },
  {
   "cell_type": "code",
   "execution_count": null,
   "id": "bec24ce7",
   "metadata": {},
   "outputs": [],
   "source": []
  },
  {
   "cell_type": "code",
   "execution_count": 26,
   "id": "1ba9874a",
   "metadata": {},
   "outputs": [
    {
     "data": {
      "text/html": [
       "<div>\n",
       "<style scoped>\n",
       "    .dataframe tbody tr th:only-of-type {\n",
       "        vertical-align: middle;\n",
       "    }\n",
       "\n",
       "    .dataframe tbody tr th {\n",
       "        vertical-align: top;\n",
       "    }\n",
       "\n",
       "    .dataframe thead th {\n",
       "        text-align: right;\n",
       "    }\n",
       "</style>\n",
       "<table border=\"1\" class=\"dataframe\">\n",
       "  <thead>\n",
       "    <tr style=\"text-align: right;\">\n",
       "      <th></th>\n",
       "      <th>Episode</th>\n",
       "      <th>Speakers</th>\n",
       "      <th>Utterances</th>\n",
       "      <th>Emotions</th>\n",
       "    </tr>\n",
       "  </thead>\n",
       "  <tbody>\n",
       "    <tr>\n",
       "      <th>0</th>\n",
       "      <td>roseshantstobeadopted.wmv</td>\n",
       "      <td>good rosesh</td>\n",
       "      <td>ye kya kar raha hai rosesh? bharat tera desh! ...</td>\n",
       "      <td>neutral</td>\n",
       "    </tr>\n",
       "    <tr>\n",
       "      <th>1</th>\n",
       "      <td>roseshantstobeadopted.wmv</td>\n",
       "      <td>bad rosesh</td>\n",
       "      <td>hahaha khat padh le rosesh baby or padhne de h...</td>\n",
       "      <td>neutral</td>\n",
       "    </tr>\n",
       "    <tr>\n",
       "      <th>2</th>\n",
       "      <td>roseshantstobeadopted.wmv</td>\n",
       "      <td>good rosesh</td>\n",
       "      <td>kavita acchi hai lekin khayal achcha nahin hai...</td>\n",
       "      <td>neutral</td>\n",
       "    </tr>\n",
       "    <tr>\n",
       "      <th>3</th>\n",
       "      <td>roseshantstobeadopted.wmv</td>\n",
       "      <td>bad rosesh</td>\n",
       "      <td>galat hai, par momma ne tumse kaha tha ki do b...</td>\n",
       "      <td>contempt</td>\n",
       "    </tr>\n",
       "    <tr>\n",
       "      <th>4</th>\n",
       "      <td>roseshantstobeadopted.wmv</td>\n",
       "      <td>good rosesh</td>\n",
       "      <td>galat tha per</td>\n",
       "      <td>neutral</td>\n",
       "    </tr>\n",
       "  </tbody>\n",
       "</table>\n",
       "</div>"
      ],
      "text/plain": [
       "                     Episode     Speakers  \\\n",
       "0  roseshantstobeadopted.wmv  good rosesh   \n",
       "1  roseshantstobeadopted.wmv   bad rosesh   \n",
       "2  roseshantstobeadopted.wmv  good rosesh   \n",
       "3  roseshantstobeadopted.wmv   bad rosesh   \n",
       "4  roseshantstobeadopted.wmv  good rosesh   \n",
       "\n",
       "                                          Utterances  Emotions  \n",
       "0  ye kya kar raha hai rosesh? bharat tera desh! ...   neutral  \n",
       "1  hahaha khat padh le rosesh baby or padhne de h...   neutral  \n",
       "2  kavita acchi hai lekin khayal achcha nahin hai...   neutral  \n",
       "3  galat hai, par momma ne tumse kaha tha ki do b...  contempt  \n",
       "4                                      galat tha per   neutral  "
      ]
     },
     "execution_count": 26,
     "metadata": {},
     "output_type": "execute_result"
    }
   ],
   "source": [
    "val_data = val_df\n",
    "val_data.head()"
   ]
  },
  {
   "cell_type": "code",
   "execution_count": null,
   "id": "a0979c1a",
   "metadata": {},
   "outputs": [],
   "source": []
  },
  {
   "cell_type": "code",
   "execution_count": 27,
   "id": "8483ad52",
   "metadata": {},
   "outputs": [],
   "source": [
    "# Apply preprocessing to the 'Utterances' column\n",
    "val_data['Clean_text'] = val_data['Utterances'].apply(lambda x: preprocess_text_with_sentencepiece(x, sp))\n",
    "\n",
    "# Display the preprocessed data\n",
    "#print(val_data[['Utterances', 'Clean_text', 'Emotions']])"
   ]
  },
  {
   "cell_type": "code",
   "execution_count": 28,
   "id": "995df35d",
   "metadata": {},
   "outputs": [
    {
     "data": {
      "text/html": [
       "<div>\n",
       "<style scoped>\n",
       "    .dataframe tbody tr th:only-of-type {\n",
       "        vertical-align: middle;\n",
       "    }\n",
       "\n",
       "    .dataframe tbody tr th {\n",
       "        vertical-align: top;\n",
       "    }\n",
       "\n",
       "    .dataframe thead th {\n",
       "        text-align: right;\n",
       "    }\n",
       "</style>\n",
       "<table border=\"1\" class=\"dataframe\">\n",
       "  <thead>\n",
       "    <tr style=\"text-align: right;\">\n",
       "      <th></th>\n",
       "      <th>Episode</th>\n",
       "      <th>Speakers</th>\n",
       "      <th>Utterances</th>\n",
       "      <th>Emotions</th>\n",
       "      <th>Clean_text</th>\n",
       "    </tr>\n",
       "  </thead>\n",
       "  <tbody>\n",
       "    <tr>\n",
       "      <th>0</th>\n",
       "      <td>roseshantstobeadopted.wmv</td>\n",
       "      <td>good rosesh</td>\n",
       "      <td>ye kya kar raha hai rosesh? bharat tera desh! ...</td>\n",
       "      <td>neutral</td>\n",
       "      <td>▁ye ▁kya ▁kar ▁raha ▁hai ▁rosesh ? ▁bharat ▁te...</td>\n",
       "    </tr>\n",
       "    <tr>\n",
       "      <th>1</th>\n",
       "      <td>roseshantstobeadopted.wmv</td>\n",
       "      <td>bad rosesh</td>\n",
       "      <td>hahaha khat padh le rosesh baby or padhne de h...</td>\n",
       "      <td>neutral</td>\n",
       "      <td>▁hahaha ▁khat ▁padh ▁le ▁rosesh ▁baby ▁or ▁pad...</td>\n",
       "    </tr>\n",
       "    <tr>\n",
       "      <th>2</th>\n",
       "      <td>roseshantstobeadopted.wmv</td>\n",
       "      <td>good rosesh</td>\n",
       "      <td>kavita acchi hai lekin khayal achcha nahin hai...</td>\n",
       "      <td>neutral</td>\n",
       "      <td>▁kavita ▁acchi ▁hai ▁lekin ▁khayal ▁achcha ▁na...</td>\n",
       "    </tr>\n",
       "    <tr>\n",
       "      <th>3</th>\n",
       "      <td>roseshantstobeadopted.wmv</td>\n",
       "      <td>bad rosesh</td>\n",
       "      <td>galat hai, par momma ne tumse kaha tha ki do b...</td>\n",
       "      <td>contempt</td>\n",
       "      <td>▁galat ▁hai , ▁par ▁momma ▁ne ▁tumse ▁kaha ▁th...</td>\n",
       "    </tr>\n",
       "    <tr>\n",
       "      <th>4</th>\n",
       "      <td>roseshantstobeadopted.wmv</td>\n",
       "      <td>good rosesh</td>\n",
       "      <td>galat tha per</td>\n",
       "      <td>neutral</td>\n",
       "      <td>▁galat ▁tha ▁per</td>\n",
       "    </tr>\n",
       "  </tbody>\n",
       "</table>\n",
       "</div>"
      ],
      "text/plain": [
       "                     Episode     Speakers  \\\n",
       "0  roseshantstobeadopted.wmv  good rosesh   \n",
       "1  roseshantstobeadopted.wmv   bad rosesh   \n",
       "2  roseshantstobeadopted.wmv  good rosesh   \n",
       "3  roseshantstobeadopted.wmv   bad rosesh   \n",
       "4  roseshantstobeadopted.wmv  good rosesh   \n",
       "\n",
       "                                          Utterances  Emotions  \\\n",
       "0  ye kya kar raha hai rosesh? bharat tera desh! ...   neutral   \n",
       "1  hahaha khat padh le rosesh baby or padhne de h...   neutral   \n",
       "2  kavita acchi hai lekin khayal achcha nahin hai...   neutral   \n",
       "3  galat hai, par momma ne tumse kaha tha ki do b...  contempt   \n",
       "4                                      galat tha per   neutral   \n",
       "\n",
       "                                          Clean_text  \n",
       "0  ▁ye ▁kya ▁kar ▁raha ▁hai ▁rosesh ? ▁bharat ▁te...  \n",
       "1  ▁hahaha ▁khat ▁padh ▁le ▁rosesh ▁baby ▁or ▁pad...  \n",
       "2  ▁kavita ▁acchi ▁hai ▁lekin ▁khayal ▁achcha ▁na...  \n",
       "3  ▁galat ▁hai , ▁par ▁momma ▁ne ▁tumse ▁kaha ▁th...  \n",
       "4                                   ▁galat ▁tha ▁per  "
      ]
     },
     "execution_count": 28,
     "metadata": {},
     "output_type": "execute_result"
    }
   ],
   "source": [
    "val_data.head()"
   ]
  },
  {
   "cell_type": "code",
   "execution_count": null,
   "id": "498d784d",
   "metadata": {},
   "outputs": [],
   "source": []
  },
  {
   "cell_type": "code",
   "execution_count": 29,
   "id": "5c37f78d",
   "metadata": {},
   "outputs": [
    {
     "data": {
      "text/html": [
       "<div>\n",
       "<style scoped>\n",
       "    .dataframe tbody tr th:only-of-type {\n",
       "        vertical-align: middle;\n",
       "    }\n",
       "\n",
       "    .dataframe tbody tr th {\n",
       "        vertical-align: top;\n",
       "    }\n",
       "\n",
       "    .dataframe thead th {\n",
       "        text-align: right;\n",
       "    }\n",
       "</style>\n",
       "<table border=\"1\" class=\"dataframe\">\n",
       "  <thead>\n",
       "    <tr style=\"text-align: right;\">\n",
       "      <th></th>\n",
       "      <th>Episode</th>\n",
       "      <th>Speakers</th>\n",
       "      <th>Utterances</th>\n",
       "      <th>Emotions</th>\n",
       "      <th>Clean_text</th>\n",
       "    </tr>\n",
       "  </thead>\n",
       "  <tbody>\n",
       "    <tr>\n",
       "      <th>0</th>\n",
       "      <td>roseshantstobeadopted.wmv</td>\n",
       "      <td>good rosesh</td>\n",
       "      <td>ye kya kar raha hai rosesh? bharat tera desh! ...</td>\n",
       "      <td>neutral</td>\n",
       "      <td>▁ye ▁kya ▁kar ▁raha ▁hai ▁rosesh ▁bharat ▁tera...</td>\n",
       "    </tr>\n",
       "    <tr>\n",
       "      <th>1</th>\n",
       "      <td>roseshantstobeadopted.wmv</td>\n",
       "      <td>bad rosesh</td>\n",
       "      <td>hahaha khat padh le rosesh baby or padhne de h...</td>\n",
       "      <td>neutral</td>\n",
       "      <td>▁hahaha ▁khat ▁padh ▁le ▁rosesh ▁baby ▁or ▁pad...</td>\n",
       "    </tr>\n",
       "    <tr>\n",
       "      <th>2</th>\n",
       "      <td>roseshantstobeadopted.wmv</td>\n",
       "      <td>good rosesh</td>\n",
       "      <td>kavita acchi hai lekin khayal achcha nahin hai...</td>\n",
       "      <td>neutral</td>\n",
       "      <td>▁kavita ▁acchi ▁hai ▁lekin ▁khayal ▁achcha ▁na...</td>\n",
       "    </tr>\n",
       "    <tr>\n",
       "      <th>3</th>\n",
       "      <td>roseshantstobeadopted.wmv</td>\n",
       "      <td>bad rosesh</td>\n",
       "      <td>galat hai, par momma ne tumse kaha tha ki do b...</td>\n",
       "      <td>contempt</td>\n",
       "      <td>▁galat ▁hai ▁par ▁momma ▁ne ▁tumse ▁kaha ▁tha ...</td>\n",
       "    </tr>\n",
       "    <tr>\n",
       "      <th>4</th>\n",
       "      <td>roseshantstobeadopted.wmv</td>\n",
       "      <td>good rosesh</td>\n",
       "      <td>galat tha per</td>\n",
       "      <td>neutral</td>\n",
       "      <td>▁galat ▁tha ▁per</td>\n",
       "    </tr>\n",
       "    <tr>\n",
       "      <th>...</th>\n",
       "      <td>...</td>\n",
       "      <td>...</td>\n",
       "      <td>...</td>\n",
       "      <td>...</td>\n",
       "      <td>...</td>\n",
       "    </tr>\n",
       "    <tr>\n",
       "      <th>1349</th>\n",
       "      <td>prefinale</td>\n",
       "      <td>monish</td>\n",
       "      <td>sahil sahil sahil. sirf 4 din bache hai or sar...</td>\n",
       "      <td>fear</td>\n",
       "      <td>▁sahil ▁sahil ▁sahil ▁sirf ▁ ▁din ▁bache ▁hai ...</td>\n",
       "    </tr>\n",
       "    <tr>\n",
       "      <th>1350</th>\n",
       "      <td>prefinale</td>\n",
       "      <td>sahil</td>\n",
       "      <td>haan lekin mom unn charo me se kisi ek ko fina...</td>\n",
       "      <td>neutral</td>\n",
       "      <td>▁haan ▁lekin ▁mom ▁un n ▁char ▁me ▁se ▁kisi ▁e...</td>\n",
       "    </tr>\n",
       "    <tr>\n",
       "      <th>1351</th>\n",
       "      <td>prefinale</td>\n",
       "      <td>monish</td>\n",
       "      <td>mummy ji ko to unme se koi pasand nhi hai</td>\n",
       "      <td>sadness</td>\n",
       "      <td>▁mummy ▁ji ▁ko ▁to ▁unme ▁se ▁koi ▁pa sand ▁nh...</td>\n",
       "    </tr>\n",
       "    <tr>\n",
       "      <th>1352</th>\n",
       "      <td>prefinale</td>\n",
       "      <td>sahil</td>\n",
       "      <td>rosesh ko?</td>\n",
       "      <td>neutral</td>\n",
       "      <td>▁rosesh ▁ko</td>\n",
       "    </tr>\n",
       "    <tr>\n",
       "      <th>1353</th>\n",
       "      <td>prefinale</td>\n",
       "      <td>monish</td>\n",
       "      <td>unhe to charo pasand hai. wese sahil, waqt bee...</td>\n",
       "      <td>fear</td>\n",
       "      <td>▁unhe ▁to ▁char ▁pa sand ▁hai ▁we ▁sahil ▁waqt...</td>\n",
       "    </tr>\n",
       "  </tbody>\n",
       "</table>\n",
       "<p>1354 rows × 5 columns</p>\n",
       "</div>"
      ],
      "text/plain": [
       "                        Episode     Speakers  \\\n",
       "0     roseshantstobeadopted.wmv  good rosesh   \n",
       "1     roseshantstobeadopted.wmv   bad rosesh   \n",
       "2     roseshantstobeadopted.wmv  good rosesh   \n",
       "3     roseshantstobeadopted.wmv   bad rosesh   \n",
       "4     roseshantstobeadopted.wmv  good rosesh   \n",
       "...                         ...          ...   \n",
       "1349                  prefinale       monish   \n",
       "1350                  prefinale        sahil   \n",
       "1351                  prefinale       monish   \n",
       "1352                  prefinale        sahil   \n",
       "1353                  prefinale       monish   \n",
       "\n",
       "                                             Utterances  Emotions  \\\n",
       "0     ye kya kar raha hai rosesh? bharat tera desh! ...   neutral   \n",
       "1     hahaha khat padh le rosesh baby or padhne de h...   neutral   \n",
       "2     kavita acchi hai lekin khayal achcha nahin hai...   neutral   \n",
       "3     galat hai, par momma ne tumse kaha tha ki do b...  contempt   \n",
       "4                                         galat tha per   neutral   \n",
       "...                                                 ...       ...   \n",
       "1349  sahil sahil sahil. sirf 4 din bache hai or sar...      fear   \n",
       "1350  haan lekin mom unn charo me se kisi ek ko fina...   neutral   \n",
       "1351          mummy ji ko to unme se koi pasand nhi hai   sadness   \n",
       "1352                                         rosesh ko?   neutral   \n",
       "1353  unhe to charo pasand hai. wese sahil, waqt bee...      fear   \n",
       "\n",
       "                                             Clean_text  \n",
       "0     ▁ye ▁kya ▁kar ▁raha ▁hai ▁rosesh ▁bharat ▁tera...  \n",
       "1     ▁hahaha ▁khat ▁padh ▁le ▁rosesh ▁baby ▁or ▁pad...  \n",
       "2     ▁kavita ▁acchi ▁hai ▁lekin ▁khayal ▁achcha ▁na...  \n",
       "3     ▁galat ▁hai ▁par ▁momma ▁ne ▁tumse ▁kaha ▁tha ...  \n",
       "4                                      ▁galat ▁tha ▁per  \n",
       "...                                                 ...  \n",
       "1349  ▁sahil ▁sahil ▁sahil ▁sirf ▁ ▁din ▁bache ▁hai ...  \n",
       "1350  ▁haan ▁lekin ▁mom ▁un n ▁char ▁me ▁se ▁kisi ▁e...  \n",
       "1351  ▁mummy ▁ji ▁ko ▁to ▁unme ▁se ▁koi ▁pa sand ▁nh...  \n",
       "1352                                        ▁rosesh ▁ko  \n",
       "1353  ▁unhe ▁to ▁char ▁pa sand ▁hai ▁we ▁sahil ▁waqt...  \n",
       "\n",
       "[1354 rows x 5 columns]"
      ]
     },
     "execution_count": 29,
     "metadata": {},
     "output_type": "execute_result"
    }
   ],
   "source": [
    "# Apply preprocessing to the 'Utterances' column\n",
    "val_df['Clean_text'] = val_df['Clean_text'].apply(preprocess_text)\n",
    "\n",
    "# Print the first few rows of the modified DataFrame\n",
    "val_df"
   ]
  },
  {
   "cell_type": "code",
   "execution_count": 30,
   "id": "b10694fe",
   "metadata": {},
   "outputs": [
    {
     "data": {
      "text/html": [
       "<div>\n",
       "<style scoped>\n",
       "    .dataframe tbody tr th:only-of-type {\n",
       "        vertical-align: middle;\n",
       "    }\n",
       "\n",
       "    .dataframe tbody tr th {\n",
       "        vertical-align: top;\n",
       "    }\n",
       "\n",
       "    .dataframe thead th {\n",
       "        text-align: right;\n",
       "    }\n",
       "</style>\n",
       "<table border=\"1\" class=\"dataframe\">\n",
       "  <thead>\n",
       "    <tr style=\"text-align: right;\">\n",
       "      <th></th>\n",
       "      <th>Emotions</th>\n",
       "      <th>Clean_text</th>\n",
       "    </tr>\n",
       "  </thead>\n",
       "  <tbody>\n",
       "    <tr>\n",
       "      <th>0</th>\n",
       "      <td>disgust</td>\n",
       "      <td>▁kya ▁kya ▁bhar ▁ke ▁rakha ▁hai ▁indravadan ▁n...</td>\n",
       "    </tr>\n",
       "    <tr>\n",
       "      <th>1</th>\n",
       "      <td>contempt</td>\n",
       "      <td>▁ok ▁chalo ▁rosesh ▁chalo ▁bahar</td>\n",
       "    </tr>\n",
       "    <tr>\n",
       "      <th>2</th>\n",
       "      <td>anger</td>\n",
       "      <td>▁momma ▁hath ▁chhodiye ▁dad</td>\n",
       "    </tr>\n",
       "    <tr>\n",
       "      <th>3</th>\n",
       "      <td>neutral</td>\n",
       "      <td>▁dekho ▁maya ▁ya ▁na ▁bol ▁raha ▁hai ▁fir ▁tum...</td>\n",
       "    </tr>\n",
       "    <tr>\n",
       "      <th>4</th>\n",
       "      <td>neutral</td>\n",
       "      <td>▁indravadan ▁tum ▁kitne ▁salo ▁se ▁ye ▁joke ▁m...</td>\n",
       "    </tr>\n",
       "    <tr>\n",
       "      <th>...</th>\n",
       "      <td>...</td>\n",
       "      <td>...</td>\n",
       "    </tr>\n",
       "    <tr>\n",
       "      <th>8501</th>\n",
       "      <td>sadness</td>\n",
       "      <td>▁lekin ▁what ▁ab ▁my ▁ghadi ▁ ▁ki ▁ghadi ▁hai ...</td>\n",
       "    </tr>\n",
       "    <tr>\n",
       "      <th>8502</th>\n",
       "      <td>anger</td>\n",
       "      <td>▁nhi ▁nhi ▁mujhe ▁yahan ▁pe ▁kaam ch ▁nhi ▁kar...</td>\n",
       "    </tr>\n",
       "    <tr>\n",
       "      <th>8503</th>\n",
       "      <td>joy</td>\n",
       "      <td>▁ahan</td>\n",
       "    </tr>\n",
       "    <tr>\n",
       "      <th>8504</th>\n",
       "      <td>fear</td>\n",
       "      <td>▁goodbye</td>\n",
       "    </tr>\n",
       "    <tr>\n",
       "      <th>8505</th>\n",
       "      <td>disgust</td>\n",
       "      <td>▁no ▁goodbye ▁nikalo ▁nikalo ▁chorro ▁hath ▁ch...</td>\n",
       "    </tr>\n",
       "  </tbody>\n",
       "</table>\n",
       "<p>8506 rows × 2 columns</p>\n",
       "</div>"
      ],
      "text/plain": [
       "      Emotions                                         Clean_text\n",
       "0      disgust  ▁kya ▁kya ▁bhar ▁ke ▁rakha ▁hai ▁indravadan ▁n...\n",
       "1     contempt                   ▁ok ▁chalo ▁rosesh ▁chalo ▁bahar\n",
       "2        anger                        ▁momma ▁hath ▁chhodiye ▁dad\n",
       "3      neutral  ▁dekho ▁maya ▁ya ▁na ▁bol ▁raha ▁hai ▁fir ▁tum...\n",
       "4      neutral  ▁indravadan ▁tum ▁kitne ▁salo ▁se ▁ye ▁joke ▁m...\n",
       "...        ...                                                ...\n",
       "8501   sadness  ▁lekin ▁what ▁ab ▁my ▁ghadi ▁ ▁ki ▁ghadi ▁hai ...\n",
       "8502     anger  ▁nhi ▁nhi ▁mujhe ▁yahan ▁pe ▁kaam ch ▁nhi ▁kar...\n",
       "8503       joy                                              ▁ahan\n",
       "8504      fear                                           ▁goodbye\n",
       "8505   disgust  ▁no ▁goodbye ▁nikalo ▁nikalo ▁chorro ▁hath ▁ch...\n",
       "\n",
       "[8506 rows x 2 columns]"
      ]
     },
     "execution_count": 30,
     "metadata": {},
     "output_type": "execute_result"
    }
   ],
   "source": [
    "train = train_df[[\"Emotions\",\"Clean_text\"]]\n",
    "train"
   ]
  },
  {
   "cell_type": "code",
   "execution_count": null,
   "id": "4eef43ed",
   "metadata": {},
   "outputs": [],
   "source": []
  },
  {
   "cell_type": "markdown",
   "id": "5e00e3cd",
   "metadata": {},
   "source": [
    "# maximum length length of the utterence"
   ]
  },
  {
   "cell_type": "code",
   "execution_count": 31,
   "id": "cdcc30a3",
   "metadata": {},
   "outputs": [
    {
     "name": "stdout",
     "output_type": "stream",
     "text": [
      "The maximum number of words in an utterance is: 142\n"
     ]
    }
   ],
   "source": [
    "# Assuming train is the DataFrame containing the 'Clean_text' column\n",
    "max_words = train['Clean_text'].apply(lambda x: len(x.split())).max()\n",
    "print(f\"The maximum number of words in an utterance is: {max_words}\")"
   ]
  },
  {
   "cell_type": "code",
   "execution_count": null,
   "id": "81cf7579",
   "metadata": {},
   "outputs": [],
   "source": []
  },
  {
   "cell_type": "code",
   "execution_count": 32,
   "id": "eb276ada",
   "metadata": {},
   "outputs": [
    {
     "name": "stdout",
     "output_type": "stream",
     "text": [
      "The index number of the row with the maximum number of words: 2315\n"
     ]
    }
   ],
   "source": [
    "# Assuming 'train' is the DataFrame containing the 'Clean_text' column\n",
    "max_words_index = train['Clean_text'].apply(lambda x: len(x.split())).idxmax()\n",
    "print(f\"The index number of the row with the maximum number of words: {max_words_index}\")"
   ]
  },
  {
   "cell_type": "code",
   "execution_count": null,
   "id": "b7684835",
   "metadata": {},
   "outputs": [],
   "source": []
  },
  {
   "cell_type": "code",
   "execution_count": 33,
   "id": "46bb049b",
   "metadata": {},
   "outputs": [
    {
     "data": {
      "text/plain": [
       "['▁khar',\n",
       " '▁khar',\n",
       " '▁khar',\n",
       " '▁khar',\n",
       " '▁chale',\n",
       " '▁cinema',\n",
       " '▁ki',\n",
       " '▁re',\n",
       " 'el',\n",
       " '▁cinema',\n",
       " '▁ka',\n",
       " '▁par',\n",
       " 'de',\n",
       " '▁par',\n",
       " '▁aaya',\n",
       " '▁sushil',\n",
       " '▁sushil',\n",
       " '▁ki',\n",
       " '▁acting',\n",
       " '▁uske',\n",
       " '▁muscle',\n",
       " '▁karte',\n",
       " '▁hain',\n",
       " '▁ceher',\n",
       " '▁hain',\n",
       " '▁blank',\n",
       " '▁jaise',\n",
       " '▁mara',\n",
       " '▁ka',\n",
       " 'boot',\n",
       " 'ar',\n",
       " '▁dai',\n",
       " 'lo',\n",
       " 'g',\n",
       " 'ue',\n",
       " '▁aise',\n",
       " '▁bol',\n",
       " 'e',\n",
       " '▁ki',\n",
       " '▁lagta',\n",
       " '▁hain',\n",
       " '▁big',\n",
       " 'da',\n",
       " '▁hain',\n",
       " '▁pa',\n",
       " 'doos',\n",
       " '▁ka',\n",
       " '▁sc',\n",
       " 'oo',\n",
       " 'ter',\n",
       " '▁sushil',\n",
       " '▁ki',\n",
       " '▁hero',\n",
       " '▁sand',\n",
       " 'hya',\n",
       " '▁ke',\n",
       " '▁kapde',\n",
       " '▁jitn',\n",
       " 'e',\n",
       " '▁tak',\n",
       " 'lu',\n",
       " '▁ka',\n",
       " '▁sa',\n",
       " 'ar',\n",
       " '▁par',\n",
       " '▁hoon',\n",
       " '▁baal',\n",
       " 'aage',\n",
       " '▁suniye',\n",
       " 'ga',\n",
       " 'sand',\n",
       " 'hya',\n",
       " '▁se',\n",
       " '▁',\n",
       " 'acche',\n",
       " '▁dete',\n",
       " '▁hain',\n",
       " '▁chipka',\n",
       " 'ali',\n",
       " '▁expression',\n",
       " '▁sand',\n",
       " 'hya',\n",
       " '▁se',\n",
       " '▁',\n",
       " 'acche',\n",
       " '▁deti',\n",
       " '▁hain',\n",
       " '▁chipkali',\n",
       " '▁expression',\n",
       " '▁lekin',\n",
       " '▁phir',\n",
       " '▁sand',\n",
       " 'hya',\n",
       " '▁banega',\n",
       " '▁best',\n",
       " '▁actress',\n",
       " '▁iss',\n",
       " '▁saal',\n",
       " '▁sushil',\n",
       " '▁ki',\n",
       " '▁muscle',\n",
       " '▁ko',\n",
       " '▁milega',\n",
       " '▁award',\n",
       " '▁kyu',\n",
       " '▁uske',\n",
       " '▁papa',\n",
       " '▁hain',\n",
       " '▁jur',\n",
       " '▁par',\n",
       " '▁samjhe',\n",
       " '▁picture',\n",
       " '▁ko',\n",
       " '▁de',\n",
       " 'enge',\n",
       " '▁',\n",
       " 'st',\n",
       " 'ar',\n",
       " '▁c',\n",
       " 'ri',\n",
       " 'ti',\n",
       " 'c',\n",
       " '▁kyu',\n",
       " '▁wo',\n",
       " '▁to',\n",
       " '▁hain',\n",
       " '▁producer',\n",
       " '▁ke',\n",
       " '▁cha',\n",
       " 'che',\n",
       " '▁phir',\n",
       " '▁bhi',\n",
       " '▁main',\n",
       " '▁jaa',\n",
       " '▁kar',\n",
       " '▁dekhte',\n",
       " '▁hoon',\n",
       " '▁kyu',\n",
       " '▁kyu',\n",
       " '▁main',\n",
       " '▁dard',\n",
       " '▁hain']"
      ]
     },
     "execution_count": 33,
     "metadata": {},
     "output_type": "execute_result"
    }
   ],
   "source": [
    "train[\"Clean_text\"][2315].split()"
   ]
  },
  {
   "cell_type": "code",
   "execution_count": null,
   "id": "06b89aaf",
   "metadata": {},
   "outputs": [],
   "source": []
  },
  {
   "cell_type": "code",
   "execution_count": 34,
   "id": "25a398cc",
   "metadata": {},
   "outputs": [],
   "source": [
    "validation = val_df[[\"Emotions\",\"Clean_text\"]]"
   ]
  },
  {
   "cell_type": "code",
   "execution_count": 35,
   "id": "d9eda2f1",
   "metadata": {},
   "outputs": [
    {
     "data": {
      "text/plain": [
       "4810"
      ]
     },
     "execution_count": 35,
     "metadata": {},
     "output_type": "execute_result"
    }
   ],
   "source": [
    "import pandas as pd\n",
    "\n",
    "# Assuming 'df' is your DataFrame containing the 'clean_text' column\n",
    "unique_words = set(' '.join(train['Clean_text']).split())\n",
    "sorted_unique_words = sorted(unique_words)\n",
    "len(sorted_unique_words)"
   ]
  },
  {
   "cell_type": "code",
   "execution_count": 36,
   "id": "a07e1b30",
   "metadata": {},
   "outputs": [
    {
     "data": {
      "text/plain": [
       "['aa', 'aaa', 'aaaa', 'aaaaaa', 'aad', 'aage', 'aah', 'aahhh', 'aaila', 'aaj']"
      ]
     },
     "execution_count": 36,
     "metadata": {},
     "output_type": "execute_result"
    }
   ],
   "source": [
    "sorted_unique_words[0:10]"
   ]
  },
  {
   "cell_type": "code",
   "execution_count": null,
   "id": "ec11d7fe",
   "metadata": {},
   "outputs": [],
   "source": []
  },
  {
   "cell_type": "code",
   "execution_count": 37,
   "id": "0270b194",
   "metadata": {},
   "outputs": [],
   "source": [
    "word_to_index = {word: index for index, word in enumerate(sorted_unique_words)}\n",
    "#word_to_index"
   ]
  },
  {
   "cell_type": "markdown",
   "id": "43412f0e",
   "metadata": {},
   "source": [
    "# Add one words for unknown words"
   ]
  },
  {
   "cell_type": "code",
   "execution_count": 38,
   "id": "3cacc09d",
   "metadata": {},
   "outputs": [],
   "source": [
    "word_to_index['unknown_word'] = len(word_to_index)\n",
    "sorted_unique_words.append('unknown_word')"
   ]
  },
  {
   "cell_type": "code",
   "execution_count": null,
   "id": "847b3e7e",
   "metadata": {},
   "outputs": [],
   "source": []
  },
  {
   "cell_type": "markdown",
   "id": "2cc2508d",
   "metadata": {},
   "source": [
    "# Vectorize the text"
   ]
  },
  {
   "cell_type": "code",
   "execution_count": 39,
   "id": "defe3126",
   "metadata": {},
   "outputs": [],
   "source": [
    "import numpy as np\n",
    "\n",
    "# Function to vectorize the text\n",
    "def vectorize_text(text, unique_words_list):\n",
    "    word_to_index = {word: index for index, word in enumerate(unique_words_list)}\n",
    "    total_length = len(unique_words_list)\n",
    "    sentence_vector = np.zeros(total_length)\n",
    "    \n",
    "    words = text.split()\n",
    "    for word in words:\n",
    "        if word in word_to_index:\n",
    "            word_vector = np.zeros(total_length)\n",
    "            word_vector[word_to_index[word]] = 1\n",
    "            sentence_vector += word_vector \n",
    "        else:\n",
    "            word_vector = np.zeros(total_length)\n",
    "            word_vector[-1] = 1\n",
    "            sentence_vector += word_vector\n",
    "    \n",
    "    return sentence_vector\n",
    "\n",
    "# Creating a dictionary to store the vectors\n",
    "vectors_dict = {}\n",
    "\n",
    "for index, row in train.iterrows():\n",
    "    vectors_dict[index] = vectorize_text(row['Clean_text'], sorted_unique_words)\n"
   ]
  },
  {
   "cell_type": "raw",
   "id": "3ba48997",
   "metadata": {},
   "source": [
    "import numpy as np\n",
    "\n",
    "# Function to vectorize the text\n",
    "def vectorize_text(text, unique_words_list):\n",
    "    word_to_index = {word: index for index, word in enumerate(unique_words_list)}\n",
    "    total_length = len(unique_words_list)\n",
    "    sentence_vector = np.zeros(total_length)\n",
    "    \n",
    "    words = text.split()\n",
    "    for word in words:\n",
    "        if word in word_to_index:\n",
    "            word_vector = np.zeros(total_length)\n",
    "            word_vector[word_to_index[word]] = 1\n",
    "            sentence_vector += word_vector \n",
    "        else:\n",
    "            word_vector = np.zeros(total_length)\n",
    "            word_vector[-1] = 1\n",
    "            sentence_vector += word_vector\n",
    "\n",
    "    # Normalize the sentence vector by dividing by the total length of the sentence\n",
    "    if len(words) > 0:\n",
    "        sentence_vector /= len(words)\n",
    "    \n",
    "    return sentence_vector\n",
    "\n",
    "# Creating a dictionary to store the vectors\n",
    "vectors_dict = {}\n",
    "\n",
    "for index, row in train.iterrows():\n",
    "    vectors_dict[index] = vectorize_text(row['Clean_text'], sorted_unique_words)"
   ]
  },
  {
   "cell_type": "code",
   "execution_count": 40,
   "id": "3987f0ce",
   "metadata": {},
   "outputs": [
    {
     "data": {
      "text/plain": [
       "24.0"
      ]
     },
     "execution_count": 40,
     "metadata": {},
     "output_type": "execute_result"
    }
   ],
   "source": [
    "np.sum(vectors_dict[0])"
   ]
  },
  {
   "cell_type": "code",
   "execution_count": 41,
   "id": "5c1f7cb9",
   "metadata": {},
   "outputs": [],
   "source": [
    "# Creating a dictionary to store the vectors\n",
    "vectors_dict1 = {}\n",
    "\n",
    "for index, row in validation.iterrows():\n",
    "    vectors_dict1[index] = vectorize_text(row['Clean_text'], sorted_unique_words)"
   ]
  },
  {
   "cell_type": "code",
   "execution_count": null,
   "id": "fa1ef3ca",
   "metadata": {},
   "outputs": [],
   "source": []
  },
  {
   "cell_type": "code",
   "execution_count": 42,
   "id": "54f2dcfd",
   "metadata": {},
   "outputs": [
    {
     "data": {
      "text/plain": [
       "23.0"
      ]
     },
     "execution_count": 42,
     "metadata": {},
     "output_type": "execute_result"
    }
   ],
   "source": [
    "np.sum(vectors_dict1[0])"
   ]
  },
  {
   "cell_type": "code",
   "execution_count": 43,
   "id": "bb296b95",
   "metadata": {},
   "outputs": [
    {
     "data": {
      "text/plain": [
       "array([[0., 0., 0., ..., 0., 0., 0.],\n",
       "       [0., 0., 0., ..., 0., 0., 0.],\n",
       "       [0., 0., 0., ..., 0., 0., 0.],\n",
       "       ...,\n",
       "       [0., 0., 0., ..., 0., 0., 0.],\n",
       "       [0., 0., 0., ..., 0., 0., 0.],\n",
       "       [0., 0., 0., ..., 0., 0., 0.]])"
      ]
     },
     "execution_count": 43,
     "metadata": {},
     "output_type": "execute_result"
    }
   ],
   "source": [
    "X_train = np.array(list(vectors_dict.values()))\n",
    "X_train"
   ]
  },
  {
   "cell_type": "code",
   "execution_count": 44,
   "id": "5f112d9f",
   "metadata": {},
   "outputs": [
    {
     "data": {
      "text/plain": [
       "array([[0., 0., 0., ..., 0., 0., 0.],\n",
       "       [0., 0., 0., ..., 0., 0., 0.],\n",
       "       [0., 0., 0., ..., 0., 0., 0.],\n",
       "       ...,\n",
       "       [0., 0., 0., ..., 0., 0., 0.],\n",
       "       [0., 0., 0., ..., 0., 0., 0.],\n",
       "       [0., 0., 0., ..., 0., 0., 0.]])"
      ]
     },
     "execution_count": 44,
     "metadata": {},
     "output_type": "execute_result"
    }
   ],
   "source": [
    "X_validation = np.array(list(vectors_dict1.values()))\n",
    "X_validation"
   ]
  },
  {
   "cell_type": "code",
   "execution_count": null,
   "id": "4406dfe8",
   "metadata": {},
   "outputs": [],
   "source": []
  },
  {
   "cell_type": "code",
   "execution_count": 45,
   "id": "7d0ae4a7",
   "metadata": {},
   "outputs": [
    {
     "data": {
      "text/plain": [
       "0        disgust\n",
       "1       contempt\n",
       "2          anger\n",
       "3        neutral\n",
       "4        neutral\n",
       "          ...   \n",
       "8501     sadness\n",
       "8502       anger\n",
       "8503         joy\n",
       "8504        fear\n",
       "8505     disgust\n",
       "Name: Emotions, Length: 8506, dtype: object"
      ]
     },
     "execution_count": 45,
     "metadata": {},
     "output_type": "execute_result"
    }
   ],
   "source": [
    "y_train = train['Emotions']\n",
    "y_train"
   ]
  },
  {
   "cell_type": "code",
   "execution_count": 46,
   "id": "bffc3fc5",
   "metadata": {},
   "outputs": [
    {
     "data": {
      "text/plain": [
       "0        neutral\n",
       "1        neutral\n",
       "2        neutral\n",
       "3       contempt\n",
       "4        neutral\n",
       "          ...   \n",
       "1349        fear\n",
       "1350     neutral\n",
       "1351     sadness\n",
       "1352     neutral\n",
       "1353        fear\n",
       "Name: Emotions, Length: 1354, dtype: object"
      ]
     },
     "execution_count": 46,
     "metadata": {},
     "output_type": "execute_result"
    }
   ],
   "source": [
    "y_validation = validation[\"Emotions\"]\n",
    "y_validation"
   ]
  },
  {
   "cell_type": "code",
   "execution_count": null,
   "id": "93b0e681",
   "metadata": {},
   "outputs": [],
   "source": []
  },
  {
   "cell_type": "markdown",
   "id": "f4bbff9c",
   "metadata": {},
   "source": [
    "# Fit the KNN model"
   ]
  },
  {
   "cell_type": "code",
   "execution_count": 47,
   "id": "3805c8c6",
   "metadata": {},
   "outputs": [
    {
     "data": {
      "image/png": "[encoded data removed]",
      "text/plain": [
       "<Figure size 1000x600 with 1 Axes>"
      ]
     },
     "metadata": {},
     "output_type": "display_data"
    }
   ],
   "source": [
    "# Define different values of k\n",
    "k_values = [1, 3, 5, 7, 9, 11,13,15,17,19,21]\n",
    "accuracies = []\n",
    "conf_matrices = []\n",
    "\n",
    "for k in k_values:\n",
    "    # Fitting the model\n",
    "    knn_model = KNeighborsClassifier(n_neighbors=k)\n",
    "    knn_model.fit(X_train, y_train)\n",
    "\n",
    "    # Predicting on the validation set\n",
    "    y_pred_knn = knn_model.predict(X_validation)\n",
    "\n",
    "    # Calculate the accuracy\n",
    "    accuracy_knn = accuracy_score(y_validation, y_pred_knn)\n",
    "    accuracies.append(accuracy_knn)\n",
    "\n",
    "    # Calculate the confusion matrix\n",
    "    conf_matrix = confusion_matrix(y_validation, y_pred_knn)\n",
    "    conf_matrices.append(conf_matrix)\n",
    "\n",
    "# Plotting the accuracies\n",
    "plt.figure(figsize=(10, 6))\n",
    "plt.plot(k_values, accuracies, marker='o')\n",
    "plt.title('Accuracy vs. K Value in KNN')\n",
    "plt.xlabel('K Value')\n",
    "plt.ylabel('Accuracy')\n",
    "plt.xticks(k_values)\n",
    "plt.show()"
   ]
  },
  {
   "cell_type": "code",
   "execution_count": 48,
   "id": "a46c8462",
   "metadata": {},
   "outputs": [],
   "source": [
    "#Dataframe for K value and accuracy"
   ]
  },
  {
   "cell_type": "code",
   "execution_count": 49,
   "id": "4066b9c3",
   "metadata": {},
   "outputs": [
    {
     "name": "stdout",
     "output_type": "stream",
     "text": [
      "Accuracy for k=1: 0.3581979320531758\n",
      "Accuracy for k=3: 0.35450516986706054\n",
      "Accuracy for k=5: 0.3906942392909897\n",
      "Accuracy for k=7: 0.4017725258493353\n",
      "Accuracy for k=9: 0.4364844903988183\n",
      "Accuracy for k=11: 0.43500738552437224\n",
      "Accuracy for k=13: 0.46971935007385524\n",
      "Accuracy for k=15: 0.4689807976366322\n",
      "Accuracy for k=17: 0.4771048744460857\n",
      "Accuracy for k=19: 0.48301329394387\n",
      "Accuracy for k=21: 0.4778434268833087\n",
      "    K Value  Accuracy\n",
      "0         1  0.358198\n",
      "1         3  0.354505\n",
      "2         5  0.390694\n",
      "3         7  0.401773\n",
      "4         9  0.436484\n",
      "5        11  0.435007\n",
      "6        13  0.469719\n",
      "7        15  0.468981\n",
      "8        17  0.477105\n",
      "9        19  0.483013\n",
      "10       21  0.477843\n"
     ]
    }
   ],
   "source": [
    "import pandas as pd\n",
    "\n",
    "# Printing accuracies for different k values\n",
    "for i, k in enumerate(k_values):\n",
    "    print(f\"Accuracy for k={k}: {accuracies[i]}\")\n",
    "\n",
    "# Creating a DataFrame for k values and accuracies\n",
    "data = {'K Value': k_values, 'Accuracy': accuracies}\n",
    "df_knn = pd.DataFrame(data)\n",
    "print(df_knn)"
   ]
  },
  {
   "cell_type": "code",
   "execution_count": 50,
   "id": "c422d92a",
   "metadata": {},
   "outputs": [],
   "source": [
    "# Confusion matrix"
   ]
  },
  {
   "cell_type": "code",
   "execution_count": 51,
   "id": "0b997962",
   "metadata": {},
   "outputs": [
    {
     "name": "stdout",
     "output_type": "stream",
     "text": [
      "Confusion Matrix for k = 1:\n",
      "[[ 17   3   2   2  16  66   2  10]\n",
      " [  9   5   0   4  13  36   2   5]\n",
      " [  1   1   1   0   6   9   1   2]\n",
      " [  6   1   0  14  16  36   8   7]\n",
      " [ 10   3   1  22  61 105   5  21]\n",
      " [ 45   9   3  25 116 362  18  55]\n",
      " [  3   2   1   9  24  66   7  14]\n",
      " [  3   0   1   6  13  22   3  18]]\n",
      "Confusion Matrix for k = 3:\n",
      "[[ 22   3   0   5  12  70   0   6]\n",
      " [ 15   4   1   5  14  34   0   1]\n",
      " [  1   1   1   2   6   9   0   1]\n",
      " [ 11   0   0  12  13  45   1   6]\n",
      " [ 20   5   3  24  66 100   0  10]\n",
      " [ 67   9   1  35 131 360  11  19]\n",
      " [ 12   2   2  25  21  59   0   5]\n",
      " [  2   0   1   2  16  30   0  15]]\n",
      "Confusion Matrix for k = 5:\n",
      "[[ 18   1   0   3  12  81   0   3]\n",
      " [ 11   1   0   2  10  48   1   1]\n",
      " [  2   0   1   0   6  11   1   0]\n",
      " [  6   0   0   3  15  57   3   4]\n",
      " [  6   0   1   5  73 130   5   8]\n",
      " [ 38   5   0  23 132 406  21   8]\n",
      " [  6   0   0   6  15  78  16   5]\n",
      " [  2   1   0   1  17  34   0  11]]\n",
      "Confusion Matrix for k = 7:\n",
      "[[ 12   0   0   3  14  83   0   6]\n",
      " [  5   1   0   2  12  53   0   1]\n",
      " [  0   0   0   0   9  12   0   0]\n",
      " [  3   0   0   4  11  63   1   6]\n",
      " [  3   0   0   8  70 137   1   9]\n",
      " [  9   2   0  13 143 443   6  17]\n",
      " [  5   0   0  10  25  83   0   3]\n",
      " [  0   1   0   0  21  30   0  14]]\n",
      "Confusion Matrix for k = 9:\n",
      "[[  9   0   0   1  11  92   0   5]\n",
      " [  6   1   0   1   8  54   1   3]\n",
      " [  1   0   0   0   8  12   0   0]\n",
      " [  4   0   0   2   9  69   0   4]\n",
      " [  3   0   0   4  60 153   0   8]\n",
      " [ 12   1   0  10  91 500   4  15]\n",
      " [  6   0   0   6  20  88   0   6]\n",
      " [  0   0   0   0  12  35   0  19]]\n",
      "Confusion Matrix for k = 11:\n",
      "[[  4   0   0   1  13  93   0   7]\n",
      " [  4   1   0   0   5  59   2   3]\n",
      " [  2   0   0   0   6  10   1   2]\n",
      " [  3   0   0   2   2  71   0  10]\n",
      " [  1   0   0   2  52 154   4  15]\n",
      " [  8   0   0   6  64 493   0  62]\n",
      " [  5   0   0   4  13  91   5   8]\n",
      " [  0   0   0   0   1  33   0  32]]\n",
      "Confusion Matrix for k = 13:\n",
      "[[  4   0   0   1   9  97   0   7]\n",
      " [  1   1   0   0   6  64   0   2]\n",
      " [  0   0   0   0   7  14   0   0]\n",
      " [  0   0   0   1   3  79   0   5]\n",
      " [  0   0   0   2  51 168   0   7]\n",
      " [  2   0   0   3  40 559   1  28]\n",
      " [  4   0   0   2  13  99   3   5]\n",
      " [  0   0   0   0   2  47   0  17]]\n",
      "Confusion Matrix for k = 15:\n",
      "[[  3   0   0   0   6 102   0   7]\n",
      " [  1   1   0   0   7  64   0   1]\n",
      " [  0   0   0   0   6  15   0   0]\n",
      " [  1   0   0   1   1  80   0   5]\n",
      " [  0   0   0   1  49 169   0   9]\n",
      " [  1   0   0   3  39 570   1  19]\n",
      " [  1   0   0   2  15 104   0   4]\n",
      " [  0   0   0   0   1  54   0  11]]\n",
      "Confusion Matrix for k = 17:\n",
      "[[  1   0   0   0   6 107   0   4]\n",
      " [  0   1   0   0   6  66   0   1]\n",
      " [  0   0   0   0   6  15   0   0]\n",
      " [  0   0   0   0   0  82   0   6]\n",
      " [  1   0   0   0  41 179   0   7]\n",
      " [  2   0   0   1  28 591   1  10]\n",
      " [  1   0   0   1  15 106   0   3]\n",
      " [  0   0   0   0   0  54   0  12]]\n",
      "Confusion Matrix for k = 19:\n",
      "[[  0   0   0   0   4 110   0   4]\n",
      " [  0   0   0   0   4  69   0   1]\n",
      " [  0   0   0   0   5  16   0   0]\n",
      " [  0   0   0   0   0  84   0   4]\n",
      " [  1   0   0   0  38 182   0   7]\n",
      " [  0   0   0   1  18 600   0  14]\n",
      " [  0   0   0   1  12 109   0   4]\n",
      " [  0   0   0   0   0  50   0  16]]\n",
      "Confusion Matrix for k = 21:\n",
      "[[  0   0   0   0   5 109   0   4]\n",
      " [  0   0   0   0   5  67   0   2]\n",
      " [  0   0   0   0   5  16   0   0]\n",
      " [  0   0   0   0   1  82   0   5]\n",
      " [  1   0   0   0  33 186   0   8]\n",
      " [  1   0   0   1  20 599   0  12]\n",
      " [  0   0   0   0  11 111   0   4]\n",
      " [  0   0   0   0   0  51   0  15]]\n"
     ]
    }
   ],
   "source": [
    "# Plotting the confusion matrices\n",
    "for i, conf_matrix in enumerate(conf_matrices):\n",
    "    print(f\"Confusion Matrix for k = {k_values[i]}:\")\n",
    "    print(conf_matrix)"
   ]
  },
  {
   "cell_type": "code",
   "execution_count": null,
   "id": "abba7d1e",
   "metadata": {},
   "outputs": [],
   "source": []
  },
  {
   "cell_type": "markdown",
   "id": "3e4d90b4",
   "metadata": {},
   "source": [
    "# Fit SVM model"
   ]
  },
  {
   "cell_type": "code",
   "execution_count": 52,
   "id": "cb65fe4e",
   "metadata": {},
   "outputs": [],
   "source": [
    "#rbf kernal method"
   ]
  },
  {
   "cell_type": "code",
   "execution_count": 53,
   "id": "b8df2f59",
   "metadata": {},
   "outputs": [
    {
     "name": "stdout",
     "output_type": "stream",
     "text": [
      "Confusion Matrix for SVM:\n",
      "[[ 28   9   1   3  29  27   5  16]\n",
      " [ 11  14   0   5  20  15   3   6]\n",
      " [  3   5   3   1   6   1   0   2]\n",
      " [  9   0   2  16  15  17   9  20]\n",
      " [ 17   7   0   9  98  44  11  42]\n",
      " [ 55  30   2  26 139 190  23 168]\n",
      " [ 11   8   0  18  24  24  21  20]\n",
      " [  4   2   1   3   0   7   3  46]]\n"
     ]
    }
   ],
   "source": [
    "# Creating an SVM model\n",
    "svm_model = SVC(kernel='rbf', class_weight='balanced')  # Use 'balanced' class weight for imbalanced datasets\n",
    "svm_model.fit(X_train, y_train)\n",
    "\n",
    "# Making predictions\n",
    "y_pred_svm = svm_model.predict(X_validation)\n",
    "\n",
    "# Calculating the confusion matrix\n",
    "conf_matrix_svm = confusion_matrix(y_validation, y_pred_svm)\n",
    "print(\"Confusion Matrix for SVM:\")\n",
    "print(conf_matrix_svm)"
   ]
  },
  {
   "cell_type": "code",
   "execution_count": 54,
   "id": "5f353b97",
   "metadata": {},
   "outputs": [
    {
     "name": "stdout",
     "output_type": "stream",
     "text": [
      "Accuracy of the SVM model: 0.3072378138847858\n"
     ]
    }
   ],
   "source": [
    "from sklearn.metrics import accuracy_score\n",
    "\n",
    "accuracy_svm = accuracy_score(y_validation, y_pred_svm)\n",
    "print(f\"Accuracy of the SVM model: {accuracy_svm}\")"
   ]
  },
  {
   "cell_type": "code",
   "execution_count": 55,
   "id": "1fa212d1",
   "metadata": {},
   "outputs": [],
   "source": [
    "import seaborn as sns"
   ]
  },
  {
   "cell_type": "code",
   "execution_count": 56,
   "id": "86fc71ec",
   "metadata": {},
   "outputs": [
    {
     "data": {
      "image/png": "[encoded data removed]",
      "text/plain": [
       "<Figure size 500x400 with 2 Axes>"
      ]
     },
     "metadata": {},
     "output_type": "display_data"
    }
   ],
   "source": [
    "cm_df = pd.DataFrame(conf_matrix_svm,\n",
    "                     index = ['anger','contempt','disgust',\"fear\",\"joy\",\"neutral\",\"sadness\",\"surprise\"], \n",
    "                     columns = ['anger','contempt','disgust',\"fear\",\"joy\",\"neutral\",\"sadness\",\"surprise\"])\n",
    "#Plotting the confusion matrix\n",
    "plt.figure(figsize=(5,4))\n",
    "sns.heatmap(cm_df, annot=True,fmt='g')\n",
    "plt.title('Confusion Matrix')\n",
    "plt.ylabel('Actal Values')\n",
    "plt.xlabel('Predicted Values')\n",
    "plt.show()"
   ]
  },
  {
   "cell_type": "raw",
   "id": "6e131b72",
   "metadata": {},
   "source": [
    "linear kernal"
   ]
  },
  {
   "cell_type": "code",
   "execution_count": 57,
   "id": "30998756",
   "metadata": {},
   "outputs": [
    {
     "name": "stdout",
     "output_type": "stream",
     "text": [
      "Confusion Matrix for Linear SVM:\n",
      "[[ 34  11   4   6  10  37   9   7]\n",
      " [  7  14   4   7  12  20   6   4]\n",
      " [  4   4   4   1   5   3   0   0]\n",
      " [  9   5   2  24   5  27   8   8]\n",
      " [ 21  16   4  14  78  71   7  17]\n",
      " [ 72  30  10  38 108 286  32  57]\n",
      " [ 17   8   5  22  15  34  15  10]\n",
      " [  7   4   2   2   1  20   2  28]]\n",
      "Accuracy of the Linear SVM model: 0.3567208271787297\n"
     ]
    }
   ],
   "source": [
    "# Creating a linear SVM model\n",
    "linear_svm_model = SVC(kernel='linear', class_weight='balanced')  # Use 'balanced' class weight for imbalanced datasets\n",
    "linear_svm_model.fit(X_train, y_train)\n",
    "\n",
    "# Making predictions\n",
    "y_pred_linear_svm = linear_svm_model.predict(X_validation)\n",
    "\n",
    "# Calculating the confusion matrix\n",
    "conf_matrix_linear_svm = confusion_matrix(y_validation, y_pred_linear_svm)\n",
    "print(\"Confusion Matrix for Linear SVM:\")\n",
    "print(conf_matrix_linear_svm)\n",
    "\n",
    "# Calculating the accuracy\n",
    "accuracy_linear_svm = accuracy_score(y_validation, y_pred_linear_svm)\n",
    "print(f\"Accuracy of the Linear SVM model: {accuracy_linear_svm}\")"
   ]
  },
  {
   "cell_type": "code",
   "execution_count": 58,
   "id": "c5663331",
   "metadata": {},
   "outputs": [
    {
     "data": {
      "image/png": "[encoded data removed]",
      "text/plain": [
       "<Figure size 500x400 with 2 Axes>"
      ]
     },
     "metadata": {},
     "output_type": "display_data"
    }
   ],
   "source": [
    "cm_df = pd.DataFrame(conf_matrix_linear_svm,\n",
    "                     index = ['anger','contempt','disgust',\"fear\",\"joy\",\"neutral\",\"sadness\",\"surprise\"], \n",
    "                     columns = ['anger','contempt','disgust',\"fear\",\"joy\",\"neutral\",\"sadness\",\"surprise\"])\n",
    "#Plotting the confusion matrix\n",
    "plt.figure(figsize=(5,4))\n",
    "sns.heatmap(cm_df, annot=True,fmt='g')\n",
    "plt.title('Confusion Matrix')\n",
    "plt.ylabel('Actal Values')\n",
    "plt.xlabel('Predicted Values')\n",
    "plt.show()"
   ]
  },
  {
   "cell_type": "raw",
   "id": "1e9815d7",
   "metadata": {},
   "source": [
    "polynomial kernal"
   ]
  },
  {
   "cell_type": "code",
   "execution_count": 59,
   "id": "2225a49e",
   "metadata": {},
   "outputs": [
    {
     "name": "stdout",
     "output_type": "stream",
     "text": [
      "Confusion Matrix for Polynomial SVM (Degree 3):\n",
      "[[  1   3   1   0   0  20   0  93]\n",
      " [  0   5   0   0   0  19   0  50]\n",
      " [  0   2   0   0   0   2   0  17]\n",
      " [  0   2   0   2   0   8   2  74]\n",
      " [  3   0   1   1   7  38   2 176]\n",
      " [  4  18   0   1   2  72   3 533]\n",
      " [  2   4   0   3   1  21   2  93]\n",
      " [  1   0   1   0   0   1   0  63]]\n",
      "Accuracy of the Polynomial SVM (Degree 3) model: 0.11225997045790251\n"
     ]
    }
   ],
   "source": [
    "# Creating a polynomial SVM model with a third-degree polynomial kernel\n",
    "poly_svm_model = SVC(kernel='poly', degree=3, class_weight='balanced')  # Use 'balanced' class weight for imbalanced datasets\n",
    "poly_svm_model.fit(X_train, y_train)\n",
    "\n",
    "# Making predictions\n",
    "y_pred_poly_svm = poly_svm_model.predict(X_validation)\n",
    "\n",
    "# Calculating the confusion matrix\n",
    "conf_matrix_poly_svm = confusion_matrix(y_validation, y_pred_poly_svm)\n",
    "print(\"Confusion Matrix for Polynomial SVM (Degree 3):\")\n",
    "print(conf_matrix_poly_svm)\n",
    "\n",
    "# Calculating the accuracy\n",
    "accuracy_poly_svm = accuracy_score(y_validation, y_pred_poly_svm)\n",
    "print(f\"Accuracy of the Polynomial SVM (Degree 3) model: {accuracy_poly_svm}\")"
   ]
  },
  {
   "cell_type": "code",
   "execution_count": 60,
   "id": "41027a30",
   "metadata": {},
   "outputs": [
    {
     "data": {
      "image/png": "[encoded data removed]",
      "text/plain": [
       "<Figure size 500x400 with 2 Axes>"
      ]
     },
     "metadata": {},
     "output_type": "display_data"
    }
   ],
   "source": [
    "cm_df = pd.DataFrame(conf_matrix_poly_svm,\n",
    "                     index = ['anger','contempt','disgust',\"fear\",\"joy\",\"neutral\",\"sadness\",\"surprise\"], \n",
    "                     columns = ['anger','contempt','disgust',\"fear\",\"joy\",\"neutral\",\"sadness\",\"surprise\"])\n",
    "#Plotting the confusion matrix\n",
    "plt.figure(figsize=(5,4))\n",
    "sns.heatmap(cm_df, annot=True,fmt='g')\n",
    "plt.title('Confusion Matrix')\n",
    "plt.ylabel('Actal Values')\n",
    "plt.xlabel('Predicted Values')\n",
    "plt.show()"
   ]
  },
  {
   "cell_type": "raw",
   "id": "109f5655",
   "metadata": {},
   "source": [
    "intersection kernal"
   ]
  },
  {
   "cell_type": "code",
   "execution_count": 61,
   "id": "8e03a772",
   "metadata": {},
   "outputs": [
    {
     "name": "stdout",
     "output_type": "stream",
     "text": [
      "Confusion Matrix for SVM with Intersection Kernel:\n",
      "[[ 20  14   9   7  11  15  19  23]\n",
      " [  9  14  11   6   5   3  15  11]\n",
      " [  3   2   8   2   1   2   0   3]\n",
      " [  8   5  13  18   0   5  20  19]\n",
      " [ 10  12  15  20  56  18  38  59]\n",
      " [ 49  34  54  50  72  76  85 213]\n",
      " [ 15   5   9  19   8   7  35  28]\n",
      " [  5   2   3   3   1   3   2  47]]\n",
      "Accuracy of the SVM with Intersection Kernel model: 0.20236336779911374\n"
     ]
    }
   ],
   "source": [
    "# Creating an SVM model with an intersection kernel\n",
    "intersection_svm_model = SVC(kernel='sigmoid', class_weight='balanced')  # Use 'balanced' class weight for imbalanced datasets\n",
    "intersection_svm_model.fit(X_train, y_train)\n",
    "\n",
    "# Making predictions\n",
    "y_pred_intersection_svm = intersection_svm_model.predict(X_validation)\n",
    "\n",
    "# Calculating the confusion matrix\n",
    "conf_matrix_intersection_svm = confusion_matrix(y_validation, y_pred_intersection_svm)\n",
    "print(\"Confusion Matrix for SVM with Intersection Kernel:\")\n",
    "print(conf_matrix_intersection_svm)\n",
    "\n",
    "# Calculating the accuracy\n",
    "accuracy_intersection_svm = accuracy_score(y_validation, y_pred_intersection_svm)\n",
    "print(f\"Accuracy of the SVM with Intersection Kernel model: {accuracy_intersection_svm}\")"
   ]
  },
  {
   "cell_type": "code",
   "execution_count": 62,
   "id": "e354dca0",
   "metadata": {},
   "outputs": [
    {
     "data": {
      "image/png": "[encoded data removed]",
      "text/plain": [
       "<Figure size 500x400 with 2 Axes>"
      ]
     },
     "metadata": {},
     "output_type": "display_data"
    }
   ],
   "source": [
    "cm_df = pd.DataFrame(conf_matrix_intersection_svm,\n",
    "                     index = ['anger','contempt','disgust',\"fear\",\"joy\",\"neutral\",\"sadness\",\"surprise\"], \n",
    "                     columns = ['anger','contempt','disgust',\"fear\",\"joy\",\"neutral\",\"sadness\",\"surprise\"])\n",
    "#Plotting the confusion matrix\n",
    "plt.figure(figsize=(5,4))\n",
    "sns.heatmap(cm_df, annot=True,fmt='g')\n",
    "plt.title('Confusion Matrix')\n",
    "plt.ylabel('Actal Values')\n",
    "plt.xlabel('Predicted Values')\n",
    "plt.show()"
   ]
  },
  {
   "cell_type": "raw",
   "id": "b112ae49",
   "metadata": {},
   "source": [
    "Logistic regression"
   ]
  },
  {
   "cell_type": "code",
   "execution_count": 63,
   "id": "a3d92e64",
   "metadata": {},
   "outputs": [
    {
     "name": "stdout",
     "output_type": "stream",
     "text": [
      "Confusion Matrix for Logistic Regression:\n",
      "[[ 27   9   6   9  10  32  14  11]\n",
      " [  5  13   4  11  11  20   4   6]\n",
      " [  6   4   4   1   2   3   1   0]\n",
      " [  7   6   2  21   7  18  15  12]\n",
      " [ 13  16   3  18  78  62  15  23]\n",
      " [ 61  31   7  43 108 245  48  90]\n",
      " [ 10   9   3  21  13  30  24  16]\n",
      " [  7   2   1   3   1  11   4  37]]\n",
      "Accuracy of the Logistic Regression model: 0.3316100443131462\n"
     ]
    }
   ],
   "source": [
    "# Creating a logistic regression model\n",
    "logistic_model = LogisticRegression(class_weight='balanced', max_iter=1000)\n",
    "\n",
    "# Fitting the model\n",
    "logistic_model.fit(X_train, y_train)\n",
    "\n",
    "# Making predictions\n",
    "y_pred_logistic = logistic_model.predict(X_validation)\n",
    "\n",
    "# Calculating the confusion matrix\n",
    "conf_matrix_logistic = confusion_matrix(y_validation, y_pred_logistic)\n",
    "print(\"Confusion Matrix for Logistic Regression:\")\n",
    "print(conf_matrix_logistic)\n",
    "\n",
    "# Calculating the accuracy\n",
    "accuracy_logistic = accuracy_score(y_validation, y_pred_logistic)\n",
    "print(f\"Accuracy of the Logistic Regression model: {accuracy_logistic}\")"
   ]
  },
  {
   "cell_type": "code",
   "execution_count": 64,
   "id": "4f9326cf",
   "metadata": {},
   "outputs": [
    {
     "data": {
      "image/png": "[encoded data removed]",
      "text/plain": [
       "<Figure size 500x400 with 2 Axes>"
      ]
     },
     "metadata": {},
     "output_type": "display_data"
    }
   ],
   "source": [
    "cm_df = pd.DataFrame(conf_matrix_logistic,\n",
    "                     index = ['anger','contempt','disgust',\"fear\",\"joy\",\"neutral\",\"sadness\",\"surprise\"], \n",
    "                     columns = ['anger','contempt','disgust',\"fear\",\"joy\",\"neutral\",\"sadness\",\"surprise\"])\n",
    "#Plotting the confusion matrix\n",
    "plt.figure(figsize=(5,4))\n",
    "sns.heatmap(cm_df, annot=True,fmt='g')\n",
    "plt.title('Confusion Matrix')\n",
    "plt.ylabel('Actal Values')\n",
    "plt.xlabel('Predicted Values')\n",
    "plt.show()"
   ]
  },
  {
   "cell_type": "code",
   "execution_count": null,
   "id": "f8a5969b",
   "metadata": {},
   "outputs": [],
   "source": []
  },
  {
   "cell_type": "markdown",
   "id": "254b266b",
   "metadata": {},
   "source": [
    "# Naive-bayes"
   ]
  },
  {
   "cell_type": "code",
   "execution_count": 65,
   "id": "c266cc1f",
   "metadata": {},
   "outputs": [
    {
     "name": "stdout",
     "output_type": "stream",
     "text": [
      "Confusion Matrix for Naive Bayes:\n",
      "[[ 13   3   0   3  14  84   0   1]\n",
      " [  4   1   0   2  17  48   2   0]\n",
      " [  3   3   1   0   4  10   0   0]\n",
      " [  3   2   0   3   5  71   4   0]\n",
      " [  5   2   0   1  76 141   3   0]\n",
      " [  9  10   0   5  74 524   9   2]\n",
      " [  5   3   0   6  10  93   8   1]\n",
      " [  3   1   0   4   4  51   1   2]]\n",
      "Accuracy of the Naive Bayes model: 0.4638109305760709\n"
     ]
    }
   ],
   "source": [
    "# Creating a Naive Bayes model\n",
    "naive_bayes_model = MultinomialNB()\n",
    "\n",
    "# Fitting the model\n",
    "naive_bayes_model.fit(X_train, y_train)\n",
    "\n",
    "# Making predictions\n",
    "y_pred_naive_bayes = naive_bayes_model.predict(X_validation)\n",
    "\n",
    "# Calculating the confusion matrix\n",
    "conf_matrix_naive_bayes = confusion_matrix(y_validation, y_pred_naive_bayes)\n",
    "print(\"Confusion Matrix for Naive Bayes:\")\n",
    "print(conf_matrix_naive_bayes)\n",
    "\n",
    "# Calculating the accuracy\n",
    "accuracy_naive_bayes = accuracy_score(y_validation, y_pred_naive_bayes)\n",
    "print(f\"Accuracy of the Naive Bayes model: {accuracy_naive_bayes}\")"
   ]
  },
  {
   "cell_type": "code",
   "execution_count": 66,
   "id": "62501e5f",
   "metadata": {},
   "outputs": [
    {
     "data": {
      "image/png": "[encoded data removed]",
      "text/plain": [
       "<Figure size 500x400 with 2 Axes>"
      ]
     },
     "metadata": {},
     "output_type": "display_data"
    }
   ],
   "source": [
    "cm_df = pd.DataFrame(conf_matrix_naive_bayes,\n",
    "                     index = ['anger','contempt','disgust',\"fear\",\"joy\",\"neutral\",\"sadness\",\"surprise\"], \n",
    "                     columns = ['anger','contempt','disgust',\"fear\",\"joy\",\"neutral\",\"sadness\",\"surprise\"])\n",
    "#Plotting the confusion matrix\n",
    "plt.figure(figsize=(5,4))\n",
    "sns.heatmap(cm_df, annot=True,fmt='g')\n",
    "plt.title('Confusion Matrix')\n",
    "plt.ylabel('Actal Values')\n",
    "plt.xlabel('Predicted Values')\n",
    "plt.show()"
   ]
  },
  {
   "cell_type": "markdown",
   "id": "36d82ff3",
   "metadata": {},
   "source": [
    "# Random forest"
   ]
  },
  {
   "cell_type": "code",
   "execution_count": 67,
   "id": "e151fbcc",
   "metadata": {},
   "outputs": [],
   "source": [
    "\n",
    "from sklearn.ensemble import RandomForestClassifier\n",
    "from sklearn.metrics import accuracy_score"
   ]
  },
  {
   "cell_type": "code",
   "execution_count": 68,
   "id": "878e1fa1",
   "metadata": {},
   "outputs": [
    {
     "name": "stdout",
     "output_type": "stream",
     "text": [
      "Accuracy: 0.4963072378138848\n"
     ]
    }
   ],
   "source": [
    "# Create a Random Forest classi\n",
    "rf_classifier = RandomForestClassifier(n_estimators=100, random_state=42)\n",
    "\n",
    "# Train the classifier\n",
    "rf_classifier.fit(X_train, y_train)\n",
    "\n",
    "# Make predictions on the test set\n",
    "y_pred = rf_classifier.predict(X_validation)\n",
    "\n",
    "# Calculate accuracy\n",
    "accuracy = accuracy_score(y_validation, y_pred)\n",
    "print(f\"Accuracy: {accuracy}\")"
   ]
  },
  {
   "cell_type": "code",
   "execution_count": 69,
   "id": "8510badf",
   "metadata": {},
   "outputs": [
    {
     "name": "stdout",
     "output_type": "stream",
     "text": [
      "Confusion Matrix for Random Forest:\n",
      "[[  8   0   0   2   8  96   0   4]\n",
      " [  1   2   0   1   4  64   1   1]\n",
      " [  2   1   2   0   3  12   1   0]\n",
      " [  1   1   0   4   3  74   2   3]\n",
      " [  0   0   0   0  55 165   1   7]\n",
      " [  6   2   0   2  35 571   3  14]\n",
      " [  0   1   0   1   8 100  11   5]\n",
      " [  0   0   0   0   2  44   1  19]]\n"
     ]
    }
   ],
   "source": [
    "# Calculating the confusion matrix\n",
    "conf_matrix_forest = confusion_matrix(y_validation, y_pred)\n",
    "print(\"Confusion Matrix for Random Forest:\")\n",
    "print(conf_matrix_forest)"
   ]
  },
  {
   "cell_type": "code",
   "execution_count": 70,
   "id": "9b0da4ac",
   "metadata": {},
   "outputs": [
    {
     "data": {
      "image/png": "[encoded data removed]",
      "text/plain": [
       "<Figure size 500x400 with 2 Axes>"
      ]
     },
     "metadata": {},
     "output_type": "display_data"
    }
   ],
   "source": [
    "cm_df = pd.DataFrame(conf_matrix_forest,\n",
    "                     index = ['anger','contempt','disgust',\"fear\",\"joy\",\"neutral\",\"sadness\",\"surprise\"], \n",
    "                     columns = ['anger','contempt','disgust',\"fear\",\"joy\",\"neutral\",\"sadness\",\"surprise\"])\n",
    "#Plotting the confusion matrix\n",
    "plt.figure(figsize=(5,4))\n",
    "sns.heatmap(cm_df, annot=True,fmt='g')\n",
    "plt.title('Confusion Matrix')\n",
    "plt.ylabel('Actal Values')\n",
    "plt.xlabel('Predicted Values')\n",
    "plt.show()"
   ]
  },
  {
   "cell_type": "code",
   "execution_count": null,
   "id": "a9d97b8b",
   "metadata": {},
   "outputs": [],
   "source": []
  },
  {
   "cell_type": "code",
   "execution_count": null,
   "id": "d720dc0e",
   "metadata": {},
   "outputs": [],
   "source": []
  },
  {
   "cell_type": "markdown",
   "id": "f1d40ae0",
   "metadata": {},
   "source": [
    "# RNN MODEL"
   ]
  },
  {
   "cell_type": "code",
   "execution_count": 71,
   "id": "f4645bc0",
   "metadata": {},
   "outputs": [],
   "source": [
    "import pandas as pd\n",
    "\n",
    "# Assuming 'df' is your DataFrame containing the 'clean_text' column\n",
    "all_text = ' '.join(train['Clean_text'])\n",
    "# create a list of words\n",
    "words = all_text.split()"
   ]
  },
  {
   "cell_type": "code",
   "execution_count": 72,
   "id": "35e145d4",
   "metadata": {},
   "outputs": [
    {
     "data": {
      "text/plain": [
       "['▁kya',\n",
       " '▁kya',\n",
       " '▁bhar',\n",
       " '▁ke',\n",
       " '▁rakha',\n",
       " '▁hai',\n",
       " '▁indravadan',\n",
       " '▁ne',\n",
       " '▁is',\n",
       " '▁ghar',\n",
       " '▁mein',\n",
       " '▁indravadan',\n",
       " '▁please',\n",
       " '▁tum',\n",
       " '▁sari',\n",
       " '▁be',\n",
       " 'kar',\n",
       " '▁ki',\n",
       " '▁chije',\n",
       " 'n']"
      ]
     },
     "execution_count": 72,
     "metadata": {},
     "output_type": "execute_result"
    }
   ],
   "source": [
    "words[:20]"
   ]
  },
  {
   "cell_type": "code",
   "execution_count": 73,
   "id": "28222245",
   "metadata": {},
   "outputs": [],
   "source": [
    "# feel free to use this import\n",
    "from collections import Counter\n",
    "\n",
    "## Build a dictionary that maps words to integers\n",
    "counts = Counter(words)\n",
    "vocab = sorted(counts, key=counts.get, reverse=True)\n",
    "vocab_to_int = {word: ii for ii, word in enumerate(vocab,1)}"
   ]
  },
  {
   "cell_type": "code",
   "execution_count": 74,
   "id": "14338e75",
   "metadata": {},
   "outputs": [
    {
     "data": {
      "text/plain": [
       "{'▁hai': 1,\n",
       " '▁': 2,\n",
       " '▁ki': 3,\n",
       " '▁to': 4,\n",
       " '▁ke': 5,\n",
       " '▁na': 6,\n",
       " 'e': 7,\n",
       " '▁se': 8,\n",
       " '▁ko': 9,\n",
       " '▁ho': 10,\n",
       " '▁ka': 11,\n",
       " '▁mein': 12,\n",
       " '▁kya': 13,\n",
       " '▁me': 14,\n",
       " '▁hain': 15,\n",
       " '▁aur': 16,\n",
       " '▁bhi': 17,\n",
       " '▁monisha': 18,\n",
       " '▁sahil': 19,\n",
       " '▁kar': 20,\n",
       " '▁wo': 21,\n",
       " '▁hi': 22,\n",
       " '▁ye': 23,\n",
       " '▁nahi': 24,\n",
       " '▁tum': 25,\n",
       " '▁nahin': 26,\n",
       " '▁aap': 27,\n",
       " '▁you': 28,\n",
       " '▁main': 29,\n",
       " '▁i': 30,\n",
       " '▁ek': 31,\n",
       " '▁tha': 32,\n",
       " '▁rosesh': 33,\n",
       " '▁is': 34,\n",
       " '▁toh': 35,\n",
       " '▁mujhe': 36,\n",
       " '▁haan': 37,\n",
       " '▁maya': 38,\n",
       " '▁a': 39,\n",
       " '▁ne': 40,\n",
       " '▁the': 41,\n",
       " '▁ji': 42,\n",
       " 'n': 43,\n",
       " '▁thi': 44,\n",
       " '▁hun': 45,\n",
       " '▁mai': 46,\n",
       " '▁lekin': 47,\n",
       " '▁are': 48,\n",
       " '▁nhi': 49,\n",
       " '▁raha': 50,\n",
       " '▁liye': 51,\n",
       " '▁rahi': 52,\n",
       " '▁ghar': 53,\n",
       " '▁pe': 54,\n",
       " '▁meri': 55,\n",
       " 'ta': 56,\n",
       " '▁mom': 57,\n",
       " '▁dad': 58,\n",
       " '▁baat': 59,\n",
       " '▁yah': 60,\n",
       " 'te': 61,\n",
       " '▁do': 62,\n",
       " '▁kaha': 63,\n",
       " '▁vah': 64,\n",
       " '▁jo': 65,\n",
       " '▁mere': 66,\n",
       " 'ti': 67,\n",
       " '▁ja': 68,\n",
       " '▁ab': 69,\n",
       " '▁aa': 70,\n",
       " '▁le': 71,\n",
       " '▁nehi': 72,\n",
       " '▁so': 73,\n",
       " '▁please': 74,\n",
       " '▁bhai': 75,\n",
       " 'r': 76,\n",
       " '▁hua': 77,\n",
       " '▁sab': 78,\n",
       " '▁or': 79,\n",
       " '▁agar': 80,\n",
       " '▁par': 81,\n",
       " '▁fir': 82,\n",
       " '▁momma': 83,\n",
       " '▁maine': 84,\n",
       " '▁mera': 85,\n",
       " '▁oh': 86,\n",
       " '▁de': 87,\n",
       " '▁and': 88,\n",
       " '▁it': 89,\n",
       " 'ing': 90,\n",
       " '▁pata': 91,\n",
       " '▁ha': 92,\n",
       " '▁rahe': 93,\n",
       " '▁kyun': 94,\n",
       " '▁koi': 95,\n",
       " '▁gaya': 96,\n",
       " '▁kuch': 97,\n",
       " '▁what': 98,\n",
       " 'ar': 99,\n",
       " 'al': 100,\n",
       " '▁hoga': 101,\n",
       " '▁han': 102,\n",
       " '▁kaise': 103,\n",
       " '▁diya': 104,\n",
       " '▁ya': 105,\n",
       " '▁hu': 106,\n",
       " 'h': 107,\n",
       " '▁aaj': 108,\n",
       " '▁tumne': 109,\n",
       " '▁tu': 110,\n",
       " 'l': 111,\n",
       " '▁that': 112,\n",
       " '▁hum': 113,\n",
       " '▁kha': 114,\n",
       " '▁no': 115,\n",
       " '▁abhi': 116,\n",
       " '▁yahan': 117,\n",
       " '▁matlab': 118,\n",
       " '▁mat': 119,\n",
       " '▁mummy': 120,\n",
       " '▁apne': 121,\n",
       " '▁okay': 122,\n",
       " '▁kiya': 123,\n",
       " '▁per': 124,\n",
       " '▁haa': 125,\n",
       " '▁use': 126,\n",
       " '▁kyu': 127,\n",
       " '▁my': 128,\n",
       " '▁kuchh': 129,\n",
       " '▁kisi': 130,\n",
       " '▁in': 131,\n",
       " 'p': 132,\n",
       " '▁karne': 133,\n",
       " '▁kam': 134,\n",
       " '▁vo': 135,\n",
       " '▁baa': 136,\n",
       " '▁tumhe': 137,\n",
       " '▁sa': 138,\n",
       " '▁phone': 139,\n",
       " 'le': 140,\n",
       " '▁on': 141,\n",
       " '▁mean': 142,\n",
       " 'aisa': 143,\n",
       " '▁god': 144,\n",
       " '▁din': 145,\n",
       " '▁bahu': 146,\n",
       " 'u': 147,\n",
       " '▁naam': 148,\n",
       " '▁don': 149,\n",
       " '▁sath': 150,\n",
       " '▁chalo': 151,\n",
       " '▁jab': 152,\n",
       " '▁come': 153,\n",
       " '▁iye': 154,\n",
       " '▁hello': 155,\n",
       " '▁kahan': 156,\n",
       " '▁k': 157,\n",
       " '▁gayi': 158,\n",
       " '▁indu': 159,\n",
       " '▁lo': 160,\n",
       " '▁this': 161,\n",
       " 'ni': 162,\n",
       " '▁dekho': 163,\n",
       " 'k': 164,\n",
       " '▁class': 165,\n",
       " '▁karo': 166,\n",
       " 'ch': 167,\n",
       " '▁tak': 168,\n",
       " '▁chal': 169,\n",
       " 'kar': 170,\n",
       " '▁mei': 171,\n",
       " 'ed': 172,\n",
       " '▁karna': 173,\n",
       " '▁karti': 174,\n",
       " '▁laga': 175,\n",
       " '▁log': 176,\n",
       " '▁kavita': 177,\n",
       " '▁ok': 178,\n",
       " '▁indravardhan': 179,\n",
       " '▁know': 180,\n",
       " '▁just': 181,\n",
       " 'g': 182,\n",
       " '▁be': 183,\n",
       " '▁mar': 184,\n",
       " '▁tumhar': 185,\n",
       " '▁aise': 186,\n",
       " '▁dushyant': 187,\n",
       " '▁tumhari': 188,\n",
       " '▁s': 189,\n",
       " '▁good': 190,\n",
       " '▁kyon': 191,\n",
       " '▁bad': 192,\n",
       " 'b': 193,\n",
       " '▁dekh': 194,\n",
       " '▁arey': 195,\n",
       " '▁indravadan': 196,\n",
       " '▁karte': 197,\n",
       " '▁saath': 198,\n",
       " '▁apn': 199,\n",
       " '▁keya': 200,\n",
       " '▁beta': 201,\n",
       " '▁wale': 202,\n",
       " '▁man': 203,\n",
       " '▁of': 204,\n",
       " '▁acha': 205,\n",
       " '▁minute': 206,\n",
       " '▁jaa': 207,\n",
       " '▁dekha': 208,\n",
       " '▁party': 209,\n",
       " '▁bohot': 210,\n",
       " '▁kaun': 211,\n",
       " '▁wala': 212,\n",
       " '▁gaye': 213,\n",
       " '▁doctor': 214,\n",
       " '▁accha': 215,\n",
       " '▁middle': 216,\n",
       " '▁aapko': 217,\n",
       " '▁uske': 218,\n",
       " '▁bol': 219,\n",
       " '▁wali': 220,\n",
       " '▁ma': 221,\n",
       " '▁sirf': 222,\n",
       " '▁kabhi': 223,\n",
       " '▁jao': 224,\n",
       " '▁bhaiya': 225,\n",
       " '▁us': 226,\n",
       " '▁bar': 227,\n",
       " '▁gai': 228,\n",
       " 'di': 229,\n",
       " '▁sakta': 230,\n",
       " '▁tab': 231,\n",
       " '▁go': 232,\n",
       " '▁pa': 233,\n",
       " '▁am': 234,\n",
       " '▁right': 235,\n",
       " '▁baad': 236,\n",
       " '▁hoon': 237,\n",
       " '▁sorry': 238,\n",
       " '▁daddy': 239,\n",
       " '▁karke': 240,\n",
       " '▁very': 241,\n",
       " '▁hui': 242,\n",
       " '▁thank': 243,\n",
       " '▁di': 244,\n",
       " 'ha': 245,\n",
       " '▁tarah': 246,\n",
       " '▁kal': 247,\n",
       " '▁uska': 248,\n",
       " '▁chala': 249,\n",
       " '▁bata': 250,\n",
       " '▁la': 251,\n",
       " 'ly': 252,\n",
       " '▁lag': 253,\n",
       " '▁hota': 254,\n",
       " '▁hogi': 255,\n",
       " 'li': 256,\n",
       " '▁usne': 257,\n",
       " 'c': 258,\n",
       " '▁jana': 259,\n",
       " 'er': 260,\n",
       " '▁not': 261,\n",
       " '▁problem': 262,\n",
       " '▁bahar': 263,\n",
       " 'raat': 264,\n",
       " '▁hue': 265,\n",
       " '▁rha': 266,\n",
       " '▁re': 267,\n",
       " '▁ni': 268,\n",
       " '▁bana': 269,\n",
       " '▁pi': 270,\n",
       " '▁mil': 271,\n",
       " '▁he': 272,\n",
       " '▁rhi': 273,\n",
       " '▁can': 274,\n",
       " '▁o': 275,\n",
       " 'ri': 276,\n",
       " '▁up': 277,\n",
       " '▁sakti': 278,\n",
       " '▁baba': 279,\n",
       " '▁sarabhai': 280,\n",
       " 'ra': 281,\n",
       " '▁itna': 282,\n",
       " '▁sach': 283,\n",
       " '▁see': 284,\n",
       " '▁suna': 285,\n",
       " '▁saal': 286,\n",
       " '▁for': 287,\n",
       " '▁kab': 288,\n",
       " '▁woh': 289,\n",
       " '▁but': 290,\n",
       " '▁thodi': 291,\n",
       " '▁bhabhi': 292,\n",
       " '▁uski': 293,\n",
       " '▁theek': 294,\n",
       " '▁we': 295,\n",
       " '▁un': 296,\n",
       " '▁pahle': 297,\n",
       " '▁har': 298,\n",
       " '▁bolo': 299,\n",
       " 'ab': 300,\n",
       " '▁darling': 301,\n",
       " '▁ta': 302,\n",
       " '▁sun': 303,\n",
       " '▁ga': 304,\n",
       " '▁tumhen': 305,\n",
       " '▁bilkul': 306,\n",
       " '▁haha': 307,\n",
       " '▁chup': 308,\n",
       " '▁keh': 309,\n",
       " '▁mo': 310,\n",
       " '▁e': 311,\n",
       " 'ee': 312,\n",
       " '▁hath': 313,\n",
       " '▁si': 314,\n",
       " 'la': 315,\n",
       " '▁apna': 316,\n",
       " '▁ladki': 317,\n",
       " '▁rupaye': 318,\n",
       " '▁dinesh': 319,\n",
       " '▁baar': 320,\n",
       " 'th': 321,\n",
       " '▁tumhara': 322,\n",
       " '▁dono': 323,\n",
       " '▁b': 324,\n",
       " '▁hahaha': 325,\n",
       " '▁shaadi': 326,\n",
       " '▁dena': 327,\n",
       " '▁gya': 328,\n",
       " '▁unhe': 329,\n",
       " '▁usse': 330,\n",
       " 'sh': 331,\n",
       " '▁isliye': 332,\n",
       " '▁ise': 333,\n",
       " '▁number': 334,\n",
       " '▁kah': 335,\n",
       " '▁jarur': 336,\n",
       " '▁gadi': 337,\n",
       " '▁jata': 338,\n",
       " '▁all': 339,\n",
       " '▁bai': 340,\n",
       " '▁lekar': 341,\n",
       " '▁batao': 342,\n",
       " '▁rhe': 343,\n",
       " '▁aapne': 344,\n",
       " '▁karta': 345,\n",
       " '▁achcha': 346,\n",
       " '▁likha': 347,\n",
       " '▁kaam': 348,\n",
       " '▁moma': 349,\n",
       " '▁ban': 350,\n",
       " '▁khush': 351,\n",
       " '▁maa': 352,\n",
       " '▁cha': 353,\n",
       " '▁bye': 354,\n",
       " 'ji': 355,\n",
       " '▁uncle': 356,\n",
       " 'ng': 357,\n",
       " '▁paas': 358,\n",
       " '▁honge': 359,\n",
       " 'ane': 360,\n",
       " '▁khana': 361,\n",
       " '▁hone': 362,\n",
       " '▁suno': 363,\n",
       " '▁mujh': 364,\n",
       " '▁sakte': 365,\n",
       " '▁samjha': 366,\n",
       " '▁ra': 367,\n",
       " '▁band': 368,\n",
       " '▁achha': 369,\n",
       " '▁mama': 370,\n",
       " 'ment': 371,\n",
       " '▁maar': 372,\n",
       " '▁aaya': 373,\n",
       " 'j': 374,\n",
       " '▁exc': 375,\n",
       " '▁iska': 376,\n",
       " 'da': 377,\n",
       " 'ter': 378,\n",
       " '▁now': 379,\n",
       " 'enge': 380,\n",
       " '▁pura': 381,\n",
       " '▁soch': 382,\n",
       " '▁dekhiye': 383,\n",
       " '▁tv': 384,\n",
       " 'st': 385,\n",
       " '▁nai': 386,\n",
       " '▁aapki': 387,\n",
       " '▁pehle': 388,\n",
       " '▁humar': 389,\n",
       " '▁nae': 390,\n",
       " '▁how': 391,\n",
       " '▁utha': 392,\n",
       " 'ur': 393,\n",
       " '▁sarita': 394,\n",
       " '▁wahan': 395,\n",
       " '▁dil': 396,\n",
       " '▁rakh': 397,\n",
       " '▁iss': 398,\n",
       " '▁bathroom': 399,\n",
       " '▁chahiye': 400,\n",
       " '▁as': 401,\n",
       " '▁c': 402,\n",
       " '▁jaan': 403,\n",
       " '▁lagta': 404,\n",
       " '▁lijiye': 405,\n",
       " '▁t': 406,\n",
       " '▁puri': 407,\n",
       " '▁natak': 408,\n",
       " '▁mila': 409,\n",
       " '▁your': 410,\n",
       " '▁dudh': 411,\n",
       " '▁yaad': 412,\n",
       " '▁hey': 413,\n",
       " '▁aray': 414,\n",
       " '▁gyi': 415,\n",
       " '▁yeah': 416,\n",
       " '▁thoda': 417,\n",
       " '▁sharma': 418,\n",
       " '▁liya': 419,\n",
       " '▁with': 420,\n",
       " '▁yes': 421,\n",
       " '▁saaf': 422,\n",
       " '▁haina': 423,\n",
       " 'de': 424,\n",
       " '▁pani': 425,\n",
       " '▁nikal': 426,\n",
       " '▁well': 427,\n",
       " 'v': 428,\n",
       " '▁waise': 429,\n",
       " '▁hume': 430,\n",
       " '▁speech': 431,\n",
       " '▁baldev': 432,\n",
       " '▁huh': 433,\n",
       " '▁mara': 434,\n",
       " '▁aaye': 435,\n",
       " '▁p': 436,\n",
       " '▁bas': 437,\n",
       " 'iye': 438,\n",
       " '▁shuru': 439,\n",
       " '▁will': 440,\n",
       " '▁hoti': 441,\n",
       " 'har': 442,\n",
       " '▁sir': 443,\n",
       " '▁daal': 444,\n",
       " '▁samajh': 445,\n",
       " '▁puch': 446,\n",
       " '’': 447,\n",
       " '▁kitne': 448,\n",
       " '▁ham': 449,\n",
       " '▁radha': 450,\n",
       " '▁bada': 451,\n",
       " '▁chuk': 452,\n",
       " '▁ro': 453,\n",
       " '▁acchi': 454,\n",
       " '▁bare': 455,\n",
       " '▁wa': 456,\n",
       " 'sha': 457,\n",
       " '▁gir': 458,\n",
       " '▁da': 459,\n",
       " '▁february': 460,\n",
       " '▁joke': 461,\n",
       " '▁one': 462,\n",
       " 'es': 463,\n",
       " '▁an': 464,\n",
       " 'unga': 465,\n",
       " 'shish': 466,\n",
       " '▁dekhiae': 467,\n",
       " '▁time': 468,\n",
       " '▁kismi': 469,\n",
       " '▁teen': 470,\n",
       " '▁kis': 471,\n",
       " 'ega': 472,\n",
       " '▁really': 473,\n",
       " '▁bhar': 474,\n",
       " '▁jaise': 475,\n",
       " '▁khud': 476,\n",
       " '▁baith': 477,\n",
       " 'ungi': 478,\n",
       " 'wo': 479,\n",
       " '▁night': 480,\n",
       " '▁madhu': 481,\n",
       " '▁tujhe': 482,\n",
       " '▁at': 483,\n",
       " '▁mana': 484,\n",
       " '▁she': 485,\n",
       " '▁divorce': 486,\n",
       " '▁love': 487,\n",
       " '▁mammi': 488,\n",
       " '▁sarupa': 489,\n",
       " '▁deependar': 490,\n",
       " '▁rakha': 491,\n",
       " '▁sari': 492,\n",
       " '▁out': 493,\n",
       " '▁aao': 494,\n",
       " '▁best': 495,\n",
       " '▁sal': 496,\n",
       " '▁zara': 497,\n",
       " 'itni': 498,\n",
       " '▁shak': 499,\n",
       " '▁pati': 500,\n",
       " 'w': 501,\n",
       " 'ga': 502,\n",
       " '▁its': 503,\n",
       " '▁jaega': 504,\n",
       " '▁likh': 505,\n",
       " '▁ohh': 506,\n",
       " '▁twent': 507,\n",
       " '▁hote': 508,\n",
       " '▁baby': 509,\n",
       " '▁aayi': 510,\n",
       " 'si': 511,\n",
       " '▁was': 512,\n",
       " '▁baje': 513,\n",
       " '▁dijiye': 514,\n",
       " '▁aya': 515,\n",
       " '▁fourth': 516,\n",
       " '▁kitn': 517,\n",
       " 'iya': 518,\n",
       " '▁m': 519,\n",
       " '▁diye': 520,\n",
       " '▁deti': 521,\n",
       " '▁gi': 522,\n",
       " '▁pyaar': 523,\n",
       " '▁inspector': 524,\n",
       " '▁ish': 525,\n",
       " '▁lease': 526,\n",
       " '▁has': 527,\n",
       " '▁have': 528,\n",
       " '▁kitni': 529,\n",
       " '▁khoon': 530,\n",
       " '▁uss': 531,\n",
       " '▁waqt': 532,\n",
       " '▁beech': 533,\n",
       " '▁bola': 534,\n",
       " '▁badi': 535,\n",
       " '▁manisha': 536,\n",
       " 'ul': 537,\n",
       " '▁deta': 538,\n",
       " '▁du': 539,\n",
       " '▁phir': 540,\n",
       " '▁kijiye': 541,\n",
       " '▁film': 542,\n",
       " 'haan': 543,\n",
       " 'ana': 544,\n",
       " '▁dete': 545,\n",
       " '▁maiya': 546,\n",
       " '▁say': 547,\n",
       " 'sa': 548,\n",
       " 'han': 549,\n",
       " '▁dene': 550,\n",
       " '▁unke': 551,\n",
       " 'yo': 552,\n",
       " '▁beti': 553,\n",
       " 'z': 554,\n",
       " '▁umm': 555,\n",
       " '▁by': 556,\n",
       " '▁dikha': 557,\n",
       " '▁bura': 558,\n",
       " 'aur': 559,\n",
       " 'mai': 560,\n",
       " 'gi': 561,\n",
       " '▁funny': 562,\n",
       " '▁unhone': 563,\n",
       " '▁chod': 564,\n",
       " '▁get': 565,\n",
       " 'nd': 566,\n",
       " '▁usme': 567,\n",
       " '▁w': 568,\n",
       " '▁char': 569,\n",
       " '▁fridge': 570,\n",
       " 'teri': 571,\n",
       " '▁hmm': 572,\n",
       " '▁saare': 573,\n",
       " '▁look': 574,\n",
       " '▁room': 575,\n",
       " '▁much': 576,\n",
       " '▁jee': 577,\n",
       " '▁sahab': 578,\n",
       " '▁es': 579,\n",
       " '▁chhod': 580,\n",
       " 'kal': 581,\n",
       " '▁itne': 582,\n",
       " 'harab': 583,\n",
       " '▁serial': 584,\n",
       " '▁bhul': 585,\n",
       " '▁idea': 586,\n",
       " '▁khel': 587,\n",
       " '▁bak': 588,\n",
       " '▁biwi': 589,\n",
       " '▁lene': 590,\n",
       " '▁atma': 591,\n",
       " '▁mrs': 592,\n",
       " '▁police': 593,\n",
       " '▁andar': 594,\n",
       " '▁hehe': 595,\n",
       " '▁change': 596,\n",
       " 'ssi': 597,\n",
       " '▁geya': 598,\n",
       " '▁pehen': 599,\n",
       " '▁waah': 600,\n",
       " 'egi': 601,\n",
       " '▁sara': 602,\n",
       " 'dad': 603,\n",
       " 'ce': 604,\n",
       " '▁kapde': 605,\n",
       " '▁pass': 606,\n",
       " '▁far': 607,\n",
       " '▁rah': 608,\n",
       " '▁dusr': 609,\n",
       " '▁subah': 610,\n",
       " '▁bhej': 611,\n",
       " '▁jyada': 612,\n",
       " '▁padega': 613,\n",
       " '▁yamraj': 614,\n",
       " '▁chi': 615,\n",
       " '▁birthday': 616,\n",
       " '▁him': 617,\n",
       " '▁upar': 618,\n",
       " '▁co': 619,\n",
       " '▁dungi': 620,\n",
       " 'tu': 621,\n",
       " 'chi': 622,\n",
       " '▁chahie': 623,\n",
       " '▁logon': 624,\n",
       " '▁samne': 625,\n",
       " '▁vahan': 626,\n",
       " '▁ruk': 627,\n",
       " '▁magar': 628,\n",
       " 'ck': 629,\n",
       " '▁mr': 630,\n",
       " '▁kaka': 631,\n",
       " '▁thik': 632,\n",
       " '▁bag': 633,\n",
       " '▁padh': 634,\n",
       " '▁jail': 635,\n",
       " '▁unk': 636,\n",
       " '▁bula': 637,\n",
       " 'us': 638,\n",
       " '▁like': 639,\n",
       " 'ge': 640,\n",
       " '▁kahin': 641,\n",
       " 'mein': 642,\n",
       " '▁bal': 643,\n",
       " '▁lena': 644,\n",
       " '▁isme': 645,\n",
       " 'acche': 646,\n",
       " '▁ghante': 647,\n",
       " '▁aana': 648,\n",
       " '▁gal': 649,\n",
       " 'bi': 650,\n",
       " '▁kon': 651,\n",
       " '▁sare': 652,\n",
       " '▁free': 653,\n",
       " '▁jaane': 654,\n",
       " '▁chho': 655,\n",
       " 'stop': 656,\n",
       " '▁shu': 657,\n",
       " '▁isse': 658,\n",
       " '▁pyar': 659,\n",
       " '▁bacha': 660,\n",
       " '▁st': 661,\n",
       " 'ba': 662,\n",
       " '▁jaldi': 663,\n",
       " '▁rupay': 664,\n",
       " '▁day': 665,\n",
       " '▁reh': 666,\n",
       " '▁padho': 667,\n",
       " '▁beth': 668,\n",
       " '▁bho': 669,\n",
       " '▁aata': 670,\n",
       " '▁baap': 671,\n",
       " '▁socha': 672,\n",
       " '▁ghadi': 673,\n",
       " '▁fufa': 674,\n",
       " '▁ila': 675,\n",
       " '▁karenge': 676,\n",
       " '▁oo': 677,\n",
       " '▁pur': 678,\n",
       " '▁try': 679,\n",
       " '▁ba': 680,\n",
       " '▁sar': 681,\n",
       " 'oo': 682,\n",
       " 'wa': 683,\n",
       " '▁paper': 684,\n",
       " '▁warna': 685,\n",
       " '▁pad': 686,\n",
       " '▁wrong': 687,\n",
       " '▁sonya': 688,\n",
       " '▁kare': 689,\n",
       " '▁paani': 690,\n",
       " '▁hazar': 691,\n",
       " '▁roshesh': 692,\n",
       " '▁yaha': 693,\n",
       " '▁yahi': 694,\n",
       " '▁bat': 695,\n",
       " '▁shayad': 696,\n",
       " '▁gye': 697,\n",
       " '▁pta': 698,\n",
       " '▁chahti': 699,\n",
       " '▁chali': 700,\n",
       " '▁bhag': 701,\n",
       " '▁aunty': 702,\n",
       " '▁lagi': 703,\n",
       " '▁bus': 704,\n",
       " '▁build': 705,\n",
       " '▁ayi': 706,\n",
       " '▁chai': 707,\n",
       " '▁kahe': 708,\n",
       " '▁dal': 709,\n",
       " '▁down': 710,\n",
       " '▁bha': 711,\n",
       " '▁role': 712,\n",
       " '▁niche': 713,\n",
       " '▁unka': 714,\n",
       " '▁dance': 715,\n",
       " 'ry': 716,\n",
       " '▁lift': 717,\n",
       " '▁likhi': 718,\n",
       " '▁h': 719,\n",
       " 'lo': 720,\n",
       " '▁ap': 721,\n",
       " 'ak': 722,\n",
       " '▁singh': 723,\n",
       " '▁meine': 724,\n",
       " '▁sudhanshu': 725,\n",
       " '▁jaspa': 726,\n",
       " '▁hamar': 727,\n",
       " '▁case': 728,\n",
       " '▁happy': 729,\n",
       " '▁aapka': 730,\n",
       " 'un': 731,\n",
       " '▁khareed': 732,\n",
       " '▁chale': 733,\n",
       " '▁jayega': 734,\n",
       " '▁off': 735,\n",
       " '▁pada': 736,\n",
       " 'war': 737,\n",
       " '▁lagti': 738,\n",
       " '▁actually': 739,\n",
       " '▁jara': 740,\n",
       " '▁club': 741,\n",
       " '▁way': 742,\n",
       " '▁tell': 743,\n",
       " '▁dar': 744,\n",
       " '▁ae': 745,\n",
       " '▁cheez': 746,\n",
       " '▁wah': 747,\n",
       " '▁mummyji': 748,\n",
       " '▁cockroach': 749,\n",
       " '▁papers': 750,\n",
       " 'monisha': 751,\n",
       " '▁muje': 752,\n",
       " '▁donon': 753,\n",
       " 'f': 754,\n",
       " '▁karega': 755,\n",
       " '▁vitthal': 756,\n",
       " '▁tumse': 757,\n",
       " '▁kiye': 758,\n",
       " '▁point': 759,\n",
       " '▁idhar': 760,\n",
       " '▁isiliye': 761,\n",
       " '▁jaati': 762,\n",
       " '▁over': 763,\n",
       " '▁alright': 764,\n",
       " '▁life': 765,\n",
       " '▁isi': 766,\n",
       " '▁wonderful': 767,\n",
       " '▁garam': 768,\n",
       " 'en': 769,\n",
       " '▁usko': 770,\n",
       " '▁badal': 771,\n",
       " '▁aurat': 772,\n",
       " '▁su': 773,\n",
       " '▁husband': 774,\n",
       " 'rif': 775,\n",
       " '▁chat': 776,\n",
       " '▁heart': 777,\n",
       " 'ant': 778,\n",
       " '▁aage': 779,\n",
       " '▁chor': 780,\n",
       " 'sand': 781,\n",
       " '▁aye': 782,\n",
       " '▁sha': 783,\n",
       " '▁waal': 784,\n",
       " '▁shadi': 785,\n",
       " '▁kese': 786,\n",
       " '▁mu': 787,\n",
       " '▁khata': 788,\n",
       " '▁tere': 789,\n",
       " '▁better': 790,\n",
       " '▁naturally': 791,\n",
       " '▁there': 792,\n",
       " '▁pagal': 793,\n",
       " '▁dinner': 794,\n",
       " '▁arre': 795,\n",
       " '▁chalega': 796,\n",
       " '▁jante': 797,\n",
       " '▁gha': 798,\n",
       " '▁sunai': 799,\n",
       " 'pa': 800,\n",
       " '▁naisha': 801,\n",
       " '▁hindi': 802,\n",
       " '▁j': 803,\n",
       " '▁leti': 804,\n",
       " '▁wow': 805,\n",
       " '▁let': 806,\n",
       " '▁maan': 807,\n",
       " '▁pat': 808,\n",
       " '▁floor': 809,\n",
       " '▁think': 810,\n",
       " '▁gas': 811,\n",
       " 'rd': 812,\n",
       " '▁lete': 813,\n",
       " '▁che': 814,\n",
       " 'ek': 815,\n",
       " '▁li': 816,\n",
       " '▁too': 817,\n",
       " '▁haat': 818,\n",
       " '▁trophy': 819,\n",
       " '▁humara': 820,\n",
       " '▁zo': 821,\n",
       " '▁uhh': 822,\n",
       " '▁bete': 823,\n",
       " 'ai': 824,\n",
       " '▁aate': 825,\n",
       " '▁rok': 826,\n",
       " '▁rakhi': 827,\n",
       " 'yi': 828,\n",
       " '▁dibba': 829,\n",
       " '▁wapas': 830,\n",
       " '▁aisi': 831,\n",
       " '▁same': 832,\n",
       " '▁dekhne': 833,\n",
       " '▁paise': 834,\n",
       " '▁bedroom': 835,\n",
       " 'der': 836,\n",
       " '▁jis': 837,\n",
       " '▁madam': 838,\n",
       " '▁banaya': 839,\n",
       " '▁bi': 840,\n",
       " '▁khol': 841,\n",
       " '▁kavi': 842,\n",
       " '▁course': 843,\n",
       " '▁relax': 844,\n",
       " 'man': 845,\n",
       " '▁po': 846,\n",
       " '▁sahi': 847,\n",
       " 'ima': 848,\n",
       " '▁hahahaha': 849,\n",
       " '▁karegi': 850,\n",
       " '▁raj': 851,\n",
       " '▁jelly': 852,\n",
       " 'ein': 853,\n",
       " '▁pair': 854,\n",
       " '▁dekhna': 855,\n",
       " '▁jaisa': 856,\n",
       " 'con': 857,\n",
       " '▁al': 858,\n",
       " '▁blood': 859,\n",
       " 'ue': 860,\n",
       " '▁bhoo': 861,\n",
       " 'ac': 862,\n",
       " '▁jagah': 863,\n",
       " '▁aati': 864,\n",
       " '▁mahine': 865,\n",
       " '▁aaa': 866,\n",
       " 'ent': 867,\n",
       " '▁understand': 868,\n",
       " '▁chahta': 869,\n",
       " 'ro': 870,\n",
       " '▁muh': 871,\n",
       " '▁galat': 872,\n",
       " '▁lovely': 873,\n",
       " 'ation': 874,\n",
       " '▁denge': 875,\n",
       " '▁fa': 876,\n",
       " '▁tune': 877,\n",
       " 'ate': 878,\n",
       " '▁pichl': 879,\n",
       " '▁uha': 880,\n",
       " '▁ti': 881,\n",
       " '▁help': 882,\n",
       " '▁suniye': 883,\n",
       " '▁speci': 884,\n",
       " 'maya': 885,\n",
       " '▁bapuji': 886,\n",
       " '▁bta': 887,\n",
       " '▁jaungi': 888,\n",
       " '▁hehehe': 889,\n",
       " '▁wahi': 890,\n",
       " '▁vahi': 891,\n",
       " '▁paida': 892,\n",
       " '▁bate': 893,\n",
       " 'ance': 894,\n",
       " '▁aaegi': 895,\n",
       " '▁bhagwan': 896,\n",
       " '▁gira': 897,\n",
       " '▁wine': 898,\n",
       " '▁second': 899,\n",
       " '▁worry': 900,\n",
       " '▁high': 901,\n",
       " '▁piche': 902,\n",
       " '▁kho': 903,\n",
       " 'um': 904,\n",
       " 'kh': 905,\n",
       " '▁mang': 906,\n",
       " '▁paresha': 907,\n",
       " '▁dis': 908,\n",
       " '▁app': 909,\n",
       " '▁taraf': 910,\n",
       " 'tum': 911,\n",
       " '▁friend': 912,\n",
       " '▁absolutely': 913,\n",
       " '▁g': 914,\n",
       " '▁society': 915,\n",
       " 'ad': 916,\n",
       " '▁d': 917,\n",
       " '▁naya': 918,\n",
       " 'een': 919,\n",
       " '▁nikaal': 920,\n",
       " 'ao': 921,\n",
       " '▁yaar': 922,\n",
       " '▁mind': 923,\n",
       " '▁explain': 924,\n",
       " 'age': 925,\n",
       " 'fi': 926,\n",
       " '▁bach': 927,\n",
       " '▁sas': 928,\n",
       " '▁photo': 929,\n",
       " '▁surprise': 930,\n",
       " '▁logo': 931,\n",
       " '▁kahi': 932,\n",
       " 'bile': 933,\n",
       " '▁zindagi': 934,\n",
       " '▁rehti': 935,\n",
       " 'oge': 936,\n",
       " '▁chaliye': 937,\n",
       " '▁yad': 938,\n",
       " '▁humne': 939,\n",
       " 'ss': 940,\n",
       " '▁yeh': 941,\n",
       " 'wan': 942,\n",
       " '▁sawal': 943,\n",
       " '▁dun': 944,\n",
       " '▁chot': 945,\n",
       " '▁madhubhai': 946,\n",
       " 'il': 947,\n",
       " '▁chan': 948,\n",
       " '▁exactly': 949,\n",
       " '▁tra': 950,\n",
       " '▁jayegi': 951,\n",
       " '▁door': 952,\n",
       " '▁sweet': 953,\n",
       " '▁karungi': 954,\n",
       " '▁ex': 955,\n",
       " 'ive': 956,\n",
       " '▁make': 957,\n",
       " 'elieve': 958,\n",
       " '▁something': 959,\n",
       " '▁gu': 960,\n",
       " 'ble': 961,\n",
       " '▁ofcourse': 962,\n",
       " '▁papa': 963,\n",
       " '▁hotel': 964,\n",
       " '▁neeche': 965,\n",
       " '▁paris': 966,\n",
       " 'bina': 967,\n",
       " '▁karwa': 968,\n",
       " '▁suru': 969,\n",
       " '▁shirt': 970,\n",
       " '▁pakad': 971,\n",
       " 'ag': 972,\n",
       " '▁kr': 973,\n",
       " 'ote': 974,\n",
       " '▁rita': 975,\n",
       " '▁packet': 976,\n",
       " '▁chehr': 977,\n",
       " '▁jeet': 978,\n",
       " 'aap': 979,\n",
       " '▁neel': 980,\n",
       " '▁machali': 981,\n",
       " '▁lage': 982,\n",
       " '▁janam': 983,\n",
       " '▁gift': 984,\n",
       " '▁plastic': 985,\n",
       " '▁jor': 986,\n",
       " '▁bech': 987,\n",
       " '▁jaenge': 988,\n",
       " '▁colo': 989,\n",
       " '▁dur': 990,\n",
       " '▁ad': 991,\n",
       " '▁rast': 992,\n",
       " '▁jaisi': 993,\n",
       " '▁dunga': 994,\n",
       " '▁parso': 995,\n",
       " '▁aaaa': 996,\n",
       " 'yenge': 997,\n",
       " '▁chhoti': 998,\n",
       " 'kha': 999,\n",
       " '▁thanks': 1000,\n",
       " ...}"
      ]
     },
     "execution_count": 74,
     "metadata": {},
     "output_type": "execute_result"
    }
   ],
   "source": [
    "vocab_to_int"
   ]
  },
  {
   "cell_type": "code",
   "execution_count": 75,
   "id": "723175ef",
   "metadata": {},
   "outputs": [],
   "source": [
    "#vocab_to_int"
   ]
  },
  {
   "cell_type": "code",
   "execution_count": 76,
   "id": "c7d29ff9",
   "metadata": {},
   "outputs": [],
   "source": [
    "vocab_to_int['unknown_word'] = 0"
   ]
  },
  {
   "cell_type": "code",
   "execution_count": 77,
   "id": "7ee0de77",
   "metadata": {},
   "outputs": [],
   "source": [
    "## use the dict to tokenize each review in reviews_split\n",
    "## store the tokenized utterance in utterance_ints\n",
    "utterance_ints = []\n",
    "for utterance in train['Clean_text']:\n",
    "    utterance_ints.append([vocab_to_int[word] for word in utterance.split()])"
   ]
  },
  {
   "cell_type": "code",
   "execution_count": 78,
   "id": "9a0c4e02",
   "metadata": {},
   "outputs": [
    {
     "name": "stdout",
     "output_type": "stream",
     "text": [
      "Unique words:  4811\n",
      "\n",
      "Tokenized utterance: \n",
      " [[13, 13, 474, 5, 491, 1, 196, 40, 34, 53, 12, 196, 74, 25, 492, 183, 170, 3, 2187, 43, 263, 191, 26, 4077]]\n"
     ]
    }
   ],
   "source": [
    "# stats about vocabulary\n",
    "print('Unique words: ', len((vocab_to_int)))  # \n",
    "print()\n",
    "\n",
    "# print tokens in first utterance\n",
    "print('Tokenized utterance: \\n', utterance_ints[:1])"
   ]
  },
  {
   "cell_type": "code",
   "execution_count": null,
   "id": "a29756b8",
   "metadata": {},
   "outputs": [],
   "source": []
  },
  {
   "cell_type": "code",
   "execution_count": 79,
   "id": "451c9b3d",
   "metadata": {},
   "outputs": [
    {
     "name": "stdout",
     "output_type": "stream",
     "text": [
      "Unique words:  4811\n",
      "\n",
      "Tokenized utterance: \n",
      " [[178, 151, 33, 151, 263]]\n"
     ]
    }
   ],
   "source": [
    "# stats about vocabulary\n",
    "print('Unique words: ', len((vocab_to_int)))  # \n",
    "print()\n",
    "\n",
    "# print tokens in second utterance\n",
    "print('Tokenized utterance: \\n', utterance_ints[1:2])"
   ]
  },
  {
   "cell_type": "code",
   "execution_count": null,
   "id": "ef697285",
   "metadata": {},
   "outputs": [],
   "source": []
  },
  {
   "cell_type": "code",
   "execution_count": 80,
   "id": "fa110de4",
   "metadata": {},
   "outputs": [
    {
     "name": "stdout",
     "output_type": "stream",
     "text": [
      "Zero-length utterance: 0\n",
      "Maximum utterance length: 142\n"
     ]
    }
   ],
   "source": [
    "# outlier review stats\n",
    "utterance_lens = Counter([len(x) for x in utterance_ints])\n",
    "print(\"Zero-length utterance: {}\".format(utterance_lens[0]))\n",
    "print(\"Maximum utterance length: {}\".format(max(utterance_lens)))"
   ]
  },
  {
   "cell_type": "code",
   "execution_count": null,
   "id": "fb5422fa",
   "metadata": {},
   "outputs": [],
   "source": []
  },
  {
   "cell_type": "code",
   "execution_count": 81,
   "id": "22fc2120",
   "metadata": {},
   "outputs": [
    {
     "data": {
      "text/plain": [
       "dict_keys(['▁hai', '▁', '▁ki', '▁to', '▁ke', '▁na', 'e', '▁se', '▁ko', '▁ho', '▁ka', '▁mein', '▁kya', '▁me', '▁hain', '▁aur', '▁bhi', '▁monisha', '▁sahil', '▁kar', '▁wo', '▁hi', '▁ye', '▁nahi', '▁tum', '▁nahin', '▁aap', '▁you', '▁main', '▁i', '▁ek', '▁tha', '▁rosesh', '▁is', '▁toh', '▁mujhe', '▁haan', '▁maya', '▁a', '▁ne', '▁the', '▁ji', 'n', '▁thi', '▁hun', '▁mai', '▁lekin', '▁are', '▁nhi', '▁raha', '▁liye', '▁rahi', '▁ghar', '▁pe', '▁meri', 'ta', '▁mom', '▁dad', '▁baat', '▁yah', 'te', '▁do', '▁kaha', '▁vah', '▁jo', '▁mere', 'ti', '▁ja', '▁ab', '▁aa', '▁le', '▁nehi', '▁so', '▁please', '▁bhai', 'r', '▁hua', '▁sab', '▁or', '▁agar', '▁par', '▁fir', '▁momma', '▁maine', '▁mera', '▁oh', '▁de', '▁and', '▁it', 'ing', '▁pata', '▁ha', '▁rahe', '▁kyun', '▁koi', '▁gaya', '▁kuch', '▁what', 'ar', 'al', '▁hoga', '▁han', '▁kaise', '▁diya', '▁ya', '▁hu', 'h', '▁aaj', '▁tumne', '▁tu', 'l', '▁that', '▁hum', '▁kha', '▁no', '▁abhi', '▁yahan', '▁matlab', '▁mat', '▁mummy', '▁apne', '▁okay', '▁kiya', '▁per', '▁haa', '▁use', '▁kyu', '▁my', '▁kuchh', '▁kisi', '▁in', 'p', '▁karne', '▁kam', '▁vo', '▁baa', '▁tumhe', '▁sa', '▁phone', 'le', '▁on', '▁mean', 'aisa', '▁god', '▁din', '▁bahu', 'u', '▁naam', '▁don', '▁sath', '▁chalo', '▁jab', '▁come', '▁iye', '▁hello', '▁kahan', '▁k', '▁gayi', '▁indu', '▁lo', '▁this', 'ni', '▁dekho', 'k', '▁class', '▁karo', 'ch', '▁tak', '▁chal', 'kar', '▁mei', 'ed', '▁karna', '▁karti', '▁laga', '▁log', '▁kavita', '▁ok', '▁indravardhan', '▁know', '▁just', 'g', '▁be', '▁mar', '▁tumhar', '▁aise', '▁dushyant', '▁tumhari', '▁s', '▁good', '▁kyon', '▁bad', 'b', '▁dekh', '▁arey', '▁indravadan', '▁karte', '▁saath', '▁apn', '▁keya', '▁beta', '▁wale', '▁man', '▁of', '▁acha', '▁minute', '▁jaa', '▁dekha', '▁party', '▁bohot', '▁kaun', '▁wala', '▁gaye', '▁doctor', '▁accha', '▁middle', '▁aapko', '▁uske', '▁bol', '▁wali', '▁ma', '▁sirf', '▁kabhi', '▁jao', '▁bhaiya', '▁us', '▁bar', '▁gai', 'di', '▁sakta', '▁tab', '▁go', '▁pa', '▁am', '▁right', '▁baad', '▁hoon', '▁sorry', '▁daddy', '▁karke', '▁very', '▁hui', '▁thank', '▁di', 'ha', '▁tarah', '▁kal', '▁uska', '▁chala', '▁bata', '▁la', 'ly', '▁lag', '▁hota', '▁hogi', 'li', '▁usne', 'c', '▁jana', 'er', '▁not', '▁problem', '▁bahar', 'raat', '▁hue', '▁rha', '▁re', '▁ni', '▁bana', '▁pi', '▁mil', '▁he', '▁rhi', '▁can', '▁o', 'ri', '▁up', '▁sakti', '▁baba', '▁sarabhai', 'ra', '▁itna', '▁sach', '▁see', '▁suna', '▁saal', '▁for', '▁kab', '▁woh', '▁but', '▁thodi', '▁bhabhi', '▁uski', '▁theek', '▁we', '▁un', '▁pahle', '▁har', '▁bolo', 'ab', '▁darling', '▁ta', '▁sun', '▁ga', '▁tumhen', '▁bilkul', '▁haha', '▁chup', '▁keh', '▁mo', '▁e', 'ee', '▁hath', '▁si', 'la', '▁apna', '▁ladki', '▁rupaye', '▁dinesh', '▁baar', 'th', '▁tumhara', '▁dono', '▁b', '▁hahaha', '▁shaadi', '▁dena', '▁gya', '▁unhe', '▁usse', 'sh', '▁isliye', '▁ise', '▁number', '▁kah', '▁jarur', '▁gadi', '▁jata', '▁all', '▁bai', '▁lekar', '▁batao', '▁rhe', '▁aapne', '▁karta', '▁achcha', '▁likha', '▁kaam', '▁moma', '▁ban', '▁khush', '▁maa', '▁cha', '▁bye', 'ji', '▁uncle', 'ng', '▁paas', '▁honge', 'ane', '▁khana', '▁hone', '▁suno', '▁mujh', '▁sakte', '▁samjha', '▁ra', '▁band', '▁achha', '▁mama', 'ment', '▁maar', '▁aaya', 'j', '▁exc', '▁iska', 'da', 'ter', '▁now', 'enge', '▁pura', '▁soch', '▁dekhiye', '▁tv', 'st', '▁nai', '▁aapki', '▁pehle', '▁humar', '▁nae', '▁how', '▁utha', 'ur', '▁sarita', '▁wahan', '▁dil', '▁rakh', '▁iss', '▁bathroom', '▁chahiye', '▁as', '▁c', '▁jaan', '▁lagta', '▁lijiye', '▁t', '▁puri', '▁natak', '▁mila', '▁your', '▁dudh', '▁yaad', '▁hey', '▁aray', '▁gyi', '▁yeah', '▁thoda', '▁sharma', '▁liya', '▁with', '▁yes', '▁saaf', '▁haina', 'de', '▁pani', '▁nikal', '▁well', 'v', '▁waise', '▁hume', '▁speech', '▁baldev', '▁huh', '▁mara', '▁aaye', '▁p', '▁bas', 'iye', '▁shuru', '▁will', '▁hoti', 'har', '▁sir', '▁daal', '▁samajh', '▁puch', '’', '▁kitne', '▁ham', '▁radha', '▁bada', '▁chuk', '▁ro', '▁acchi', '▁bare', '▁wa', 'sha', '▁gir', '▁da', '▁february', '▁joke', '▁one', 'es', '▁an', 'unga', 'shish', '▁dekhiae', '▁time', '▁kismi', '▁teen', '▁kis', 'ega', '▁really', '▁bhar', '▁jaise', '▁khud', '▁baith', 'ungi', 'wo', '▁night', '▁madhu', '▁tujhe', '▁at', '▁mana', '▁she', '▁divorce', '▁love', '▁mammi', '▁sarupa', '▁deependar', '▁rakha', '▁sari', '▁out', '▁aao', '▁best', '▁sal', '▁zara', 'itni', '▁shak', '▁pati', 'w', 'ga', '▁its', '▁jaega', '▁likh', '▁ohh', '▁twent', '▁hote', '▁baby', '▁aayi', 'si', '▁was', '▁baje', '▁dijiye', '▁aya', '▁fourth', '▁kitn', 'iya', '▁m', '▁diye', '▁deti', '▁gi', '▁pyaar', '▁inspector', '▁ish', '▁lease', '▁has', '▁have', '▁kitni', '▁khoon', '▁uss', '▁waqt', '▁beech', '▁bola', '▁badi', '▁manisha', 'ul', '▁deta', '▁du', '▁phir', '▁kijiye', '▁film', 'haan', 'ana', '▁dete', '▁maiya', '▁say', 'sa', 'han', '▁dene', '▁unke', 'yo', '▁beti', 'z', '▁umm', '▁by', '▁dikha', '▁bura', 'aur', 'mai', 'gi', '▁funny', '▁unhone', '▁chod', '▁get', 'nd', '▁usme', '▁w', '▁char', '▁fridge', 'teri', '▁hmm', '▁saare', '▁look', '▁room', '▁much', '▁jee', '▁sahab', '▁es', '▁chhod', 'kal', '▁itne', 'harab', '▁serial', '▁bhul', '▁idea', '▁khel', '▁bak', '▁biwi', '▁lene', '▁atma', '▁mrs', '▁police', '▁andar', '▁hehe', '▁change', 'ssi', '▁geya', '▁pehen', '▁waah', 'egi', '▁sara', 'dad', 'ce', '▁kapde', '▁pass', '▁far', '▁rah', '▁dusr', '▁subah', '▁bhej', '▁jyada', '▁padega', '▁yamraj', '▁chi', '▁birthday', '▁him', '▁upar', '▁co', '▁dungi', 'tu', 'chi', '▁chahie', '▁logon', '▁samne', '▁vahan', '▁ruk', '▁magar', 'ck', '▁mr', '▁kaka', '▁thik', '▁bag', '▁padh', '▁jail', '▁unk', '▁bula', 'us', '▁like', 'ge', '▁kahin', 'mein', '▁bal', '▁lena', '▁isme', 'acche', '▁ghante', '▁aana', '▁gal', 'bi', '▁kon', '▁sare', '▁free', '▁jaane', '▁chho', 'stop', '▁shu', '▁isse', '▁pyar', '▁bacha', '▁st', 'ba', '▁jaldi', '▁rupay', '▁day', '▁reh', '▁padho', '▁beth', '▁bho', '▁aata', '▁baap', '▁socha', '▁ghadi', '▁fufa', '▁ila', '▁karenge', '▁oo', '▁pur', '▁try', '▁ba', '▁sar', 'oo', 'wa', '▁paper', '▁warna', '▁pad', '▁wrong', '▁sonya', '▁kare', '▁paani', '▁hazar', '▁roshesh', '▁yaha', '▁yahi', '▁bat', '▁shayad', '▁gye', '▁pta', '▁chahti', '▁chali', '▁bhag', '▁aunty', '▁lagi', '▁bus', '▁build', '▁ayi', '▁chai', '▁kahe', '▁dal', '▁down', '▁bha', '▁role', '▁niche', '▁unka', '▁dance', 'ry', '▁lift', '▁likhi', '▁h', 'lo', '▁ap', 'ak', '▁singh', '▁meine', '▁sudhanshu', '▁jaspa', '▁hamar', '▁case', '▁happy', '▁aapka', 'un', '▁khareed', '▁chale', '▁jayega', '▁off', '▁pada', 'war', '▁lagti', '▁actually', '▁jara', '▁club', '▁way', '▁tell', '▁dar', '▁ae', '▁cheez', '▁wah', '▁mummyji', '▁cockroach', '▁papers', 'monisha', '▁muje', '▁donon', 'f', '▁karega', '▁vitthal', '▁tumse', '▁kiye', '▁point', '▁idhar', '▁isiliye', '▁jaati', '▁over', '▁alright', '▁life', '▁isi', '▁wonderful', '▁garam', 'en', '▁usko', '▁badal', '▁aurat', '▁su', '▁husband', 'rif', '▁chat', '▁heart', 'ant', '▁aage', '▁chor', 'sand', '▁aye', '▁sha', '▁waal', '▁shadi', '▁kese', '▁mu', '▁khata', '▁tere', '▁better', '▁naturally', '▁there', '▁pagal', '▁dinner', '▁arre', '▁chalega', '▁jante', '▁gha', '▁sunai', 'pa', '▁naisha', '▁hindi', '▁j', '▁leti', '▁wow', '▁let', '▁maan', '▁pat', '▁floor', '▁think', '▁gas', 'rd', '▁lete', '▁che', 'ek', '▁li', '▁too', '▁haat', '▁trophy', '▁humara', '▁zo', '▁uhh', '▁bete', 'ai', '▁aate', '▁rok', '▁rakhi', 'yi', '▁dibba', '▁wapas', '▁aisi', '▁same', '▁dekhne', '▁paise', '▁bedroom', 'der', '▁jis', '▁madam', '▁banaya', '▁bi', '▁khol', '▁kavi', '▁course', '▁relax', 'man', '▁po', '▁sahi', 'ima', '▁hahahaha', '▁karegi', '▁raj', '▁jelly', 'ein', '▁pair', '▁dekhna', '▁jaisa', 'con', '▁al', '▁blood', 'ue', '▁bhoo', 'ac', '▁jagah', '▁aati', '▁mahine', '▁aaa', 'ent', '▁understand', '▁chahta', 'ro', '▁muh', '▁galat', '▁lovely', 'ation', '▁denge', '▁fa', '▁tune', 'ate', '▁pichl', '▁uha', '▁ti', '▁help', '▁suniye', '▁speci', 'maya', '▁bapuji', '▁bta', '▁jaungi', '▁hehehe', '▁wahi', '▁vahi', '▁paida', '▁bate', 'ance', '▁aaegi', '▁bhagwan', '▁gira', '▁wine', '▁second', '▁worry', '▁high', '▁piche', '▁kho', 'um', 'kh', '▁mang', '▁paresha', '▁dis', '▁app', '▁taraf', 'tum', '▁friend', '▁absolutely', '▁g', '▁society', 'ad', '▁d', '▁naya', 'een', '▁nikaal', 'ao', '▁yaar', '▁mind', '▁explain', 'age', 'fi', '▁bach', '▁sas', '▁photo', '▁surprise', '▁logo', '▁kahi', 'bile', '▁zindagi', '▁rehti', 'oge', '▁chaliye', '▁yad', '▁humne', 'ss', '▁yeh', 'wan', '▁sawal', '▁dun', '▁chot', '▁madhubhai', 'il', '▁chan', '▁exactly', '▁tra', '▁jayegi', '▁door', '▁sweet', '▁karungi', '▁ex', 'ive', '▁make', 'elieve', '▁something', '▁gu', 'ble', '▁ofcourse', '▁papa', '▁hotel', '▁neeche', '▁paris', 'bina', '▁karwa', '▁suru', '▁shirt', '▁pakad', 'ag', '▁kr', 'ote', '▁rita', '▁packet', '▁chehr', '▁jeet', 'aap', '▁neel', '▁machali', '▁lage', '▁janam', '▁gift', '▁plastic', '▁jor', '▁bech', '▁jaenge', '▁colo', '▁dur', '▁ad', '▁rast', '▁jaisi', '▁dunga', '▁parso', '▁aaaa', 'yenge', '▁chhoti', 'kha', '▁thanks', '▁call', '▁must', '▁jaate', 'fa', '▁check', 'hat', '▁promise', 'ity', '▁yani', '▁sabji', 'ud', 'gin', '▁chalta', '▁ju', '▁award', 'su', '▁sam', '▁sake', '▁hona', 'gaana', '▁bhee', '▁ah', '▁chaar', '▁jaye', '▁chappal', '▁bataya', '▁sambhal', '▁r', '▁jati', '▁sur', '▁saari', '▁ana', '▁important', '▁pakode', '▁bhabi', '▁pehl', '▁degi', '▁kaho', '▁fenk', '▁lun', '▁banane', '▁sweety', 'ft', '▁chilla', '▁aapane', '▁padi', '▁train', 'waaz', '▁vaise', '▁socho', '▁leta', '▁baja', 'day', '▁va', 'et', 'air', '▁tal', '▁sho', '▁why', '▁tota', '▁taki', '▁juice', '▁lagega', '▁gaa', '▁babu', '▁te', 'ani', '▁zaroor', '▁devi', '▁mam', '▁ca', 'atak', '▁sau', '▁talk', '▁khan', '▁gana', '▁u', '▁here', '▁padegi', '▁jaiye', 'lu', 'aah', '▁rang', '▁show', '▁wait', '▁nice', '▁udh', '▁partner', 'lekin', '▁keep', '▁sm', 'yu', '▁maza', '▁memsahab', '▁sit', '▁dhund', '▁fe', 'nic', '▁naag', '▁waale', '▁bo', 'lum', '▁isne', '▁sign', '▁jag', '▁shart', '▁behen', '▁upset', '▁guys', '▁kachr', '▁haila', 'yan', '▁lad', 'du', '▁pen', '▁bah', 'ayi', '▁serious', 'ap', '▁dant', '▁kumar', '▁ben', '▁ult', '▁non', '▁bolna', 'adami', '▁madhusud', '▁shop', 'body', '▁drink', '▁mili', 'ase', '▁uth', '▁comp', '▁pra', 'lly', '▁sophisticated', '▁murder', '▁correct', '▁cal', 'q', '▁saying', '▁manga', '▁cham', '▁dima', '▁sale', 'bai', '▁pichh', '▁para', 'less', '▁bechari', '▁simple', '▁sound', '▁samaj', '▁ticket', '▁haath', 'ting', 'ake', '▁var', '▁art', '▁saab', '▁india', '▁bottle', '▁car', '▁kutta', '▁iha', '▁cake', '▁kisne', '▁raho', '▁visha', '▁saree', '▁unse', '▁infact', 'ies', '▁waja', '▁kiran', '▁saamne', '▁kilo', '▁chandarani', 'ary', '▁shaam', '▁poetry', '▁ilaben', '▁ata', '▁um', '▁karunga', '▁payal', 'ru', '▁usi', '▁great', '▁line', '▁karun', '▁dr', 'tra', 'chool', 'axi', '▁part', '▁dialog', '▁feel', '▁ladk', '▁jam', '▁baj', '▁alag', '▁mal', 'tiya', '▁mumbai', '▁en', '▁enough', '▁tera', '▁roz', '▁glass', '▁aga', '▁mile', '▁laa', '▁fine', '▁jane', '▁play', '▁jate', '▁rakhna', '▁dara', 'yon', '▁late', '▁shari', '▁dukaan', 'vo', '▁tiffin', '▁af', '▁hame', '▁kanch', 'az', '▁lakh', '▁invitation', '▁card', '▁attack', '▁quiet', 'aan', '▁fla', '▁choti', '▁patient', '▁thor', '▁agl', 'admi', '▁newspaper', '▁family', '▁chuh', '▁padta', '▁ph', '▁doodh', '▁kaan', '▁pre', 'tional', 'ion', '▁indravadhan', '▁kb', 'cent', '▁aaega', '▁acharya', '▁rs', '▁boy', '▁kamini', '▁uh', '▁vote', '▁istema', '▁diwali', '▁cut', '▁baccha', '▁baithi', '▁dino', '▁dekhkar', '▁inhe', '▁aj', 'ty', '▁esa', '▁kh', '▁aankhe', '▁inter', '▁aankh', '▁sure', '▁kaisi', 'awaz', '▁air', '▁champagne', '▁did', '▁dikh', 'id', '▁sham', '▁jaana', '▁dekhi', '▁pahunch', '▁saad', '▁morning', '▁soo', '▁mann', '▁haar', '▁dushman', '▁welcome', '▁dekhte', '▁sweetie', '▁maja', '▁kahani', '▁khul', 'ition', '▁news', '▁ladies', 'dha', '▁ge', '▁dega', '▁dus', '▁utar', 'dh', '▁world', '▁bandh', '▁thode', '▁shi', '▁pro', '▁cool', '▁start', 'erg', '▁ruko', '▁shama', '▁pack', 'ight', '▁banana', 'ess', '▁memsaab', '▁geyi', '▁men', '▁big', '▁want', '▁oye', '▁ten', '▁daad', '▁mard', '▁min', '▁stress', '▁may', '▁patti', 'mi', '▁hara', 'henge', '▁kehe', '▁challeng', '▁dard', '▁magazine', '▁trouble', '▁hand', '▁btao', '▁cook', '▁zarur', 'haha', '▁baniy', '▁book', '▁teesr', 'rs', '▁mithai', 'dak', 'dar', 'lve', '▁acting', '▁nonsense', '▁khat', '▁kurt', 'ok', 'ic', '▁hamari', '▁dadi', 'ogi', '▁sidh', 'osh', '▁banne', '▁namaste', '▁lal', '▁baitho', '▁dhundh', 'pair', '▁yun', '▁side', 'llow', 'cha', '▁thak', 'count', '▁rehna', '▁bhature', '▁gujar', '▁light', '▁poo', '▁sh', '▁kan', '▁bataiye', '▁extra', '▁ch', 'shi', '▁bhindi', '▁gala', '▁dusra', '▁match', '▁chakkar', '▁shor', 'ndo', '▁pak', '▁cheeze', '▁dost', 'ash', 'bha', 'tor', '▁some', '▁boli', '▁word', '▁hata', '▁function', '▁jal', '▁bail', '▁com', '▁bacche', '▁more', '▁safa', '▁german', '▁em', '▁suitcase', '▁menu', '▁nikala', '▁kaal', '▁andha', 'ah', '▁music', 'el', '▁mon', '▁karu', '▁dho', 'aye', '▁eh', '▁sub', 'yega', '▁jayenge', '▁congratulations', '▁guha', '▁kutte', '▁cli', '▁her', '▁example', '▁saas', '▁poor', '▁pehel', '▁humaar', '▁huya', 'main', 'rna', '▁calm', '▁jugalkishore', '▁balti', '▁baal', 'sahil', 'tion', '▁kala', '▁hero', '▁sadi', '▁rem', 'yam', '▁plan', 'ariya', '▁chap', '▁khaane', '▁compl', '▁hawa', 'ries', 'shek', '▁bungalow', '▁tumnei', '▁achi', '▁pch', 'lash', '▁fal', '▁au', 'od', '▁shabd', '▁bahan', '▁jaaiye', '▁favourite', '▁dikhao', '▁lunga', 'ndagi', '▁pee', '▁pahan', '▁khade', 'hool', 'ool', '▁khayal', 'uff', '▁imagine', 'rist', '▁naukar', '▁limit', '▁fi', '▁jai', '▁masala', '▁kareeb', '▁ooo', '▁vas', '▁san', 'wab', 'ooo', '▁minut', '▁novel', '▁samjhe', '▁anniversary', '▁pu', 'kin', '▁khooni', '▁boys', '▁whe', '▁clear', '▁acc', '▁ghus', 'ous', 'stal', '▁sindolin', '▁saans', '▁batana', '▁star', '▁sto', 'wah', '▁uda', '▁bhavishya', '▁lottery', '▁lenge', '▁jaaye', '▁toothpaste', '▁name', '▁hear', '▁miss', '▁marr', '▁sweetheart', 'halat', '▁chah', '▁tumane', 'see', '▁tumhaare', 'hal', '▁fu', '▁khara', '▁anyway', '▁kita', 'board', 'das', '▁saturday', '▁dead', '▁punjabi', '▁shant', 'ory', 'van', '▁mir', '▁dekhe', '▁kapadia', '▁bakwas', 'ency', '▁sabko', '▁aaaaa', '▁romantic', '▁ambulance', '▁list', '▁baithe', '▁bachelor', '▁cup', '▁roti', '▁saga', '▁invite', '▁if', '▁aadh', '▁bartan', '▁kiske', 'tch', '▁dress', '▁chupa', '▁kisse', '▁secretary', '▁bechara', '▁bur', '▁peet', '▁waala', '▁ahh', 'var', '▁v', '▁peech', '▁behave', 'uch', 'ali', 'engi', 'che', '▁jaao', '▁constructi', '▁pain', 'aa', '▁painting', 'ture', '▁aurate', '▁hein', 'ver', '▁biji', '▁roses', '▁chik', '▁lelo', 'hram', '▁chodh', '▁bache', '▁popat', '▁rabha', '▁vithal', '▁chahat', '‘', '▁karan', '▁geeta', '▁mak', '▁nikalo', 'come', '▁hamara', '▁doge', '▁letter', '▁laut', '▁actor', 'eeb', '▁white', '▁f', 'iyat', '▁safe', '▁any', '▁maj', '▁daba', '▁mare', '▁station', 'go', '▁sunke', '▁kud', 'kr', '▁sad', '▁aakar', '▁gun', '▁import', '▁everybody', '▁jale', '▁hash', '▁plate', '▁idiot', '▁silly', '▁dha', 'ju', '▁bacchon', '▁zinda', '▁umar', 'rad', '▁complete', '▁pahl', 'aya', '▁request', '▁mit', 'ident', 'night', '▁only', '▁cancel', '▁again', '▁jhagad', '▁lungi', '▁milega', '▁interest', '▁words', '▁burai', '▁fro', '▁kehna', '▁sans', '▁style', '▁thappa', '▁title', '▁market', '▁dabba', '▁dikhai', '▁bich', 'fair', '▁dekar', '▁pade', '▁puchna', '▁aakh', '▁daant', '▁waste', 'thing', 'ical', 'llu', '▁pakd', '▁plaiasai', '▁jala', 'mom', 'roo', '▁hee', '▁bara', 'pat', '▁maang', '▁jaata', '▁rakho', '▁daddyji', '▁teeno', '▁business', '▁wife', '▁karoge', '▁panch', '▁thing', '▁maha', '▁chut', '▁jaunga', '▁lu', '▁deep', '▁mazak', '▁likhna', 'line', '▁fo', '▁rehne', 'hood', '▁sabzi', 'ign', '▁thand', 'mak', '▁lets', '▁two', '▁chaba', '▁bu', 'ug', '▁chaiye', '▁laal', 'tak', '▁sunda', '▁chu', '▁aah', 'utar', 'vate', '▁crazy', '▁pas', 'par', '▁sandwich', '▁rehta', '▁break', '▁bot', '▁asli', '▁kehet', '▁bhaa', '▁beh', '▁saat', 'hu', '▁mur', 'kya', '▁direct', '▁fil', 'mme', '▁bakura', '▁leave', '▁pila', '▁padhiye', 'zi', '▁puchh', '▁president', 'sion', 'mujhe', '▁rahega', '▁sunna', '▁chhu', '▁supari', '▁alb', 'ence', 'dhak', '▁ajanta', '▁cour', '▁scra', '▁apan', 'lection', '▁deliver', '▁box', '▁baate', '▁chahe', 'ally', 'ara', '▁je', 'gh', 'able', '▁gayab', '▁fail', '▁chaht', '▁smell', '▁fek', '▁jhooth', '▁qu', '▁dhadak', 'pur', '▁khaya', 'dding', '▁tri', '▁paan', '▁discuss', '▁bimar', 'adat', '▁yess', '▁poochh', '▁suni', '▁ud', '▁chalegi', '▁bed', '▁mari', '▁aas', '▁fr', '▁rakhti', 'cate', '▁possible', '▁hah', '▁bichari', 'fir', '▁pan', '▁hamesh', 'roj', '▁chhutti', '▁cheers', '▁ice', '▁sapna', '▁aadha', '▁jinda', 'haram', '▁dam', '▁pav', 'chak', '▁bhaga', '▁watchman', 'bhu', '▁vajah', '▁chata', '▁bulaya', '▁das', '▁shalini', 'ual', '▁intelligent', '▁samos', '▁paanch', '▁dhai', 'pt', '▁pinku', '▁bhaag', '▁jant', '▁aai', '▁going', 'ready', '▁apane', '▁akhabar', 'haa', '▁dum', 'x', '▁karate', 'ber', '▁likho', '▁chhupa', '▁arrange', '▁jin', '▁boliye', '▁grant', '▁general', 'pan', 'mach', 'port', '▁ketchup', 'ish', '▁read', '▁didi', '▁guzar', '▁hat', 'ku', 'bardast', 'ert', '▁tumko', 'ore', '▁back', '▁waha', 'ree', '▁jisme', '▁pahen', '▁mike', '▁honest', 'dher', '▁bane', '▁pet', 'uuuu', '▁mis', '▁sada', '▁radd', '▁mother', 'phone', 'ashi', '▁swa', '▁rul', '▁jitn', '▁janamdin', '▁bik', '▁cahiye', '▁finally', '▁sofa', '▁joking', '▁seedh', '▁raja', 'maan', '▁khaana', 'ati', '▁chawal', '▁hmmm', '▁karein', '▁little', '▁khar', '▁zam', 'bhai', '▁notice', 'way', '▁sunne', '▁agree', '▁rup', '▁bechare', '▁jay', '▁kehti', '▁huaa', '▁bna', 'kaar', '▁mun', '▁dawai', '▁control', 'kuchh', 'maa', 'momma', '▁dhakka', '▁puk', '▁jaegi', '▁honey', '▁beemar', 'biji', '▁tumhein', '▁vidisha', '▁uttar', '▁thike', '▁zyada', '▁shan', '▁kauwa', 'getar', '▁cheeku', '▁fas', '▁hil', '▁verma', '▁ramba', '▁rest', '▁khila', 'ubara', '▁karen', '▁maloom', '▁dry', 'wel', '▁choc', 'olat', '▁za', 'hra', 'wer', '▁ball', 'esh', 'yal', 'weak', '▁bachane', '▁pooch', '▁never', '▁badle', '▁bhains', '▁sonia', 'hahaha', '▁baitha', 'aaa', '▁daud', 'view', '▁handsome', '▁mad', 'za', 'undi', 'tely', 'ated', '▁chalu', 'end', '▁tower', '▁kahate', '▁vak', '▁chori', 'ven', 'dhi', 'chen', '▁punjab', 'ris', '▁isko', '▁banaa', '▁cute', '▁akele', '▁spray', '▁haza', '▁khaunga', '▁house', '▁thought', '▁gadh', '▁pala', 'tron', '▁guess', '▁tel', '▁belt', '▁sp', 'moon', '▁personal', 'rmal', '▁nashta', '▁naha', 'ize', '▁varna', '▁rukiye', '▁hang', '▁samay', '▁roko', '▁listen', '▁mid', '▁champa', 'last', '▁puran', '▁nayi', '▁fra', 'cul', '▁sc', '▁future', '▁cry', 'item', '▁program', 'pad', 'dham', '▁maro', '▁bichar', 'urat', '▁tru', '▁wadiya', '▁fact', '▁goli', '▁akhbar', '▁picture', '▁ri', '▁fat', 'stic', 'bujh', '▁stay', '▁gayee', '▁jaie', 'atee', 'xt', 'zar', '▁drive', 'ako', 'apas', 'ntry', '▁saara', 'gee', '▁tumhaar', '▁banao', '▁suit', 'khaar', '▁daam', 'ram', '▁boo', 'bat', 'ital', '▁adv', '▁shar', '▁aksar', '▁done', '▁end', 'mesh', '▁milne', '▁deewar', 'credi', '▁lao', '▁hahahah', 'af', '▁mum', '▁frame', '▁thali', 'mmy', '▁humlog', '▁khao', '▁rag', '▁pare', '▁th', '▁dash', '▁huy', 'ure', '▁kaunsi', '▁baccho', '▁roy', '▁pri', '▁lega', '▁tele', '▁samjhi', '▁hasa', '▁mary', 'red', 'eez', '▁minutes', '▁achanak', 'mat', '▁yay', '▁musk', 'uuch', 'ach', '▁smile', '▁rehe', '▁baatein', '▁rab', '▁poocha', '▁milegi', '▁cultur', '▁genie', '▁wish', '▁kons', '▁scene', '▁marriage', 'jha', 'bye', '▁yu', '▁haq', '▁dhi', 'meri', '▁bhans', 'please', 'agar', '▁banai', 'mon', 'daar', '▁pari', '▁govern', 'sab', '▁kankan', '▁rakhiye', '▁galati', '▁jalan', '▁sukha', '▁pesh', 'okay', 'aaj', '▁cheej', '▁pehn', '▁makkhi', '▁dedo', '▁chhap', '▁hm', 'ngra', '▁khanna', '▁kharcha', 'law', '▁tau', '▁ghod', '▁kharidn', 'eh', '▁rahungi', '▁laund', '▁dhul', '▁pest', '▁kholo', '▁bistro', '▁gh', '▁lagao', '▁tch', 'row', '▁lagana', '▁kahati', '▁writ', 'friend', '▁care', 'badi', '▁haal', '▁bomba', '▁cru', 'ol', '▁they', 'ange', '▁bhala', '▁chinese', '▁sons', '▁jes', '▁vel', '▁shradhanjali', '▁anath', '▁memsab', '▁chije', '▁jama', '▁bet', '▁bund', '▁dukan', '▁bhav', '▁our', '▁dvd', '▁aakhir', '▁chh', '▁pehna', '▁fashion', '▁question', '▁jald', 'ncha', '▁khushbu', '▁language', 'wala', '▁nau', '▁wahin', '▁sochiye', '▁sharm', '▁mausa', 'shroom', '▁reception', '▁defin', '▁masi', '▁khati', '▁lak', 'ngi', '▁der', '▁hafte', '▁mahang', '▁cho', '▁emba', '▁coffee', '▁sachmuch', '▁inka', '▁khet', '▁table', '▁legi', '▁kaheg', '▁mangi', '▁jake', 'rant', 'ay', '▁pita', '▁mushkil', '▁indra', '▁chole', '▁chill', '▁whiskey', '▁ridiculous', 'class', '▁ghant', '▁board', '▁dharm', '▁sense', 'chine', 'ful', '▁bargain', 'vada', '▁soup', '▁samosa', '▁chand', '▁rosh', '▁sita', 'rava', '▁khabar', '▁vide', 'ling', '▁lamb', '▁cl', 'athe', '▁aan', 'action', '▁rote', 'lue', '▁wad', '▁dava', '▁sikha', '▁fayda', '▁picha', '▁record', '▁bhel', 'anee', '▁doonga', '▁achchha', '▁karana', '▁dai', '▁baaj', '▁chain', 'tair', '▁foot', '▁rakhe', 'yaada', '▁kaid', '▁naye', 'time', 'ayega', '▁bann', '▁eng', 'lish', '▁muse', '▁wai', '▁surge', 'sp', '▁karva', '▁corporat', 'wali', '▁hope', 'bhal', 'zab', '▁milenge', '▁driver', '▁diwaro', '▁darwaj', '▁inko', '▁guss', '▁chupay', '▁bhaji', 'bandh', '▁death', 'apne', '▁alp', 'bet', 'ex', '▁brand', '▁new', '▁office', '▁jha', 'ld', '▁guest', '▁write', 'post', '▁insaan', '▁fun', 'teen', '▁hargi', '▁buraiy', 'male', '▁haram', '▁chuha', '▁badan', '▁dancer', '▁bhat', '▁dhundo', '▁mujse', '▁head', '▁troph', '▁game', '▁age', '▁hongi', '▁shh', '▁laya', '▁akel', '▁pucho', '▁bani', '▁jar', '▁awaj', 'raz', '▁milke', '▁cell', '▁utho', '▁rat', '▁bandar', '▁copy', '▁bhe', 'urv', '▁chura', 'tab', '▁dheere', '▁nag', '▁khareedi', '▁colle', '▁gaal', '▁chaal', 'hate', 'aha', 'shirt', '▁gussa', '▁uspe', '▁crockery', '▁spa', '▁chudail', '▁ready', '▁shakal', '▁experience', '▁dhan', '▁clean', '▁krishna', 'nu', '▁samjh', '▁phenk', '▁kaccha', '▁hiss', '▁saja', 'jali', 'rosesh', 'hall', '▁kavitayein', '▁daala', '▁stree', 'zaad', '▁local', '▁saand', '▁maare', '▁ur', 'hya', '▁actress', 'ears', 'vin', '▁dahi', '▁dhud', '▁bakuda', '▁babla', '▁churida', 'mbu', '▁inam', 'bita', '▁krish', '▁kagaj', '▁ste', 'tho', 'sco', 'icasso', '▁skti', '▁oil', 'aaila', '▁mmm', 'roshesh', '▁vir', 'keen', '▁lga', '▁disturb', 'pal', 'dono', '▁mujhpe', '▁bnaya', '▁bra', '▁mandir', '▁dop', '▁yasodha', '▁bua', '▁yashvant', '▁ponch', '▁davi', 'eet', '▁taste', '▁touch', '▁dog', '▁serv', 'race', '▁ghung', 'lic', 'maine', '▁feb', 'huh', '▁rakshas', '▁khatir', '▁electric', 'nami', 'taq', '▁tabtak', '▁medical', 'chup', '▁bakasur', '▁chashm', '▁bhut', '▁mousi', '▁rom', '▁refri', '▁yeha', '▁hasti', '▁cocktail', '▁reg', '▁article', 'habri', '▁dharam', '▁brilliant', '▁lauta', '▁mistake', '▁whatever', '▁priya', '▁risht', 'hish', '▁putar', 'roll', '▁ganguraam', '▁vamp', '▁bhukh', '▁bhand', '▁amar', 'aint', 'deep', '▁mangti', '▁lijie', '▁favo', '▁sambha', '▁fresh', 'adam', '▁nu', '▁home', 'ration', 'ans', '▁ghutn', '▁uthakar', '▁chun', 'lect', 'ted', '▁quali', '▁bachch', '▁ras', '▁istri', '▁sul', '▁kasam', '▁tayar', 'veg', 'ilway', '▁shhh', '▁nara', '▁comm', '▁nird', '▁pahn', '▁mausi', '▁mi', '▁eas', '▁padhi', 'store', 'cum', '▁ruma', '▁tar', 'rdhan', '▁walk', '▁argument', '▁taiyar', '▁kiski', 'per', '▁should', '▁aag', '▁tr', 'cycle', '▁geh', '▁lot', 'tura', '▁darwaz', 'icated', '▁pant', '▁wash', '▁nasht', '▁muni', '▁hint', '▁cont', '▁pahna', '▁swarg', '▁khatm', 'inder', '▁advan', '▁chint', 'ock', '▁fate', '▁hova', '▁dukh', '▁om', 'hib', 'nish', 'gam', 'bad', '▁mantra', '▁aatma', '▁refu', '▁fair', '▁sudha', '▁nikali', '▁poch', '▁dekhti', 'manjan', '▁chij', '▁food', '▁bir', 'yani', '▁bure', '▁thermo', '▁dekhenge', '▁bacch', '▁bachi', '▁lagati', '▁ring', '▁liv', '▁sings', '▁pappu', 'mbo', '▁lisa', '▁ter', '▁girlfriend', '▁ang', '▁polish', '▁bichara', '▁chuda', '▁alamaaree', 'abhee', '▁watch', '▁whisk', '“', '▁antique', '▁sakate', '▁peechh', '▁yahee', '▁kach', 'hum', 'hyaan', '▁uba', '▁gareeb', '▁z', '▁kahee', '▁drop', 'indu', '▁khub', 'oorat', '▁hind', '▁chhup', '▁sakata', '▁warn', '▁khelo', 'ksha', 'tty', '▁pehan', '▁til', '▁musibat', '▁battery', '▁jija', '▁dafa', '▁tamatar', '▁remember', '▁kapadi', '▁impossible', 'ade', '▁hahah', '▁chanda', '▁fl', 'radha', '▁lana', '▁badh', '▁soniya', '▁poochho', 'und', '▁bin', '▁beca', '▁walon', 'apple', '▁hell', 'teel', 'ium', '▁chip', '▁jage', '▁scotland', '▁mix', '▁cooker', '▁taiyaar', 'udd', 'dan', '▁apama', 'dio', '▁organize', 'uda', 'mous', '▁chipkali', 'sur', '▁macch', '▁settle', '▁tin', '▁spi', '▁mada', 'fra', '▁samhal', '▁hobb', '▁press', '▁nasta', '▁sune', '▁jugal', '▁sand', '▁entertain', '▁angr', '▁fantastic', '▁couple', '▁obviously', 'zaam', '▁tut', '▁coin', '▁blank', '▁condition', '▁gari', 'tograph', 'hir', '▁rece', '▁nikli', '▁pakore', '▁milti', '▁busy', '▁thousand', '▁rupees', '▁pacha', '▁yog', '▁sadh', '▁red', '▁panne', '▁choot', '▁beautiful', '▁iyer', '▁khaas', '▁pao', '▁rese', '▁roo', '▁khilay', '▁jisk', '▁taal', '▁brother', 'smat', '▁mahal', '▁pardon', '▁pouch', 'hooti', '▁dhu', '▁sayad', '▁grou', 'sam', 'mere', 'apko', '▁practice', '▁mahesh', 'ela', 'ph', 'ession', '▁social', 'mera', 'tri', '▁unfortunately', '▁sushil', '▁expression', 'ekhna', '▁lagul', '▁ploop', '▁municipal', 'rty', '▁tees', 'maal', '▁kuy', 'char', '▁fast', '▁maat', '▁shock', '▁black', '▁madh', '▁bau', '▁churay', '▁kahiye', '▁repe', '▁jamai', '▁bhajan', '▁ayegi', '▁every', 'warna', '▁rht', '▁matlb', '▁latka', '▁ungli', '▁straw', 'waise', '▁hmar', '▁skirt', 'ffic', '▁tasveer', '▁sunau', '▁makhi', 'tumne', '▁lg', '▁piyunga', '▁dear', '▁alawa', '▁utaar', 'ahh', '▁liy', '▁btaya', 'aath', '▁decide', '▁payegi', '▁aaiye', 'waah', 'ehar', '▁certifi', '▁lakshmi', '▁crorepati', '▁jeeta', 'cas', '▁ooh', '▁paintain', '▁sukh', '▁bechaare', '▁scheme', '▁pahel', 'ham', 'bhajan', '▁gurminder', 'qui', '▁type', '▁phek', '▁kur', '▁rey', 'arey', '▁barah', '▁uhu', 'aad', '▁quite', '▁konsa', '▁silwa', 'aaaa', '▁vegetables', '▁mangwa', 'lala', '▁sunn', '▁london', '▁celebration', 'qi', '▁ghonsla', '▁pammi', '▁pauna', '▁ohoho', '▁lucky', '▁kamin', 'atti', 'work', '▁sast', 'mla', 'ngu', 'arch', '▁character', 'mrit', '▁fans', '▁chahata', '▁likhe', '▁wal', 'cide', '▁rahegi', '▁hanger', '▁quick', '▁cushion', '▁chad', '▁lada', 'wakai', '▁dug', '▁izzat', '▁smart', '▁ear', 'leef', '▁betha', '▁ismei', '▁bethiye', 'mble', 'hanji', '▁failure', '▁accept', '▁qitab', 'areef', '▁nagar', '▁urgent', '▁support', '▁muze', 'adarsh', '▁candles', '▁hemalata', '▁paint', '▁khilaf', '▁khakhre', '▁bhyi', '▁pohoch', '▁behr', '▁bharat', '▁simon', '▁chorr', '▁esi', '▁shows', '▁baliye', 'strate', 'avas', 'eze', '▁maml', '▁deepu', '▁conte', 'putra', '▁liner', '▁swadamini', '▁bhuptani', '▁chhodiye', '▁manth', '▁beht', '▁bahana', 'chit', 'mari', '▁jaaungi', '▁expir', 'ungal', '▁suha', 'oot', 'nation', '▁poet', '▁swe', 'ker', '▁inn', '▁taklif', '▁vichar', '▁ayy', '▁bhatiji', '▁kunwar', '▁kiss', '▁kno', '▁bill', '▁chalao', '▁khinch', '▁badma', '▁bhale', 'gaira', '▁meeth', '▁henh', '▁kisme', '▁chhoda', '▁jiju', '▁hila', '▁lijiyega', 'neral', '▁zidd', '▁bhol', 'ice', '▁after', '▁planning', '▁dhar', '▁anti', '▁kheer', '▁baithkar', '▁ve', 'ery', '▁lamba', '▁paar', '▁dhone', '▁dali', '▁wall', '▁plane', '▁samjhaun', '▁darr', '▁dikhte', '▁pay', 'scal', 'yl', '▁padosi', '▁final', '▁garma', '▁pattern', '▁chaap', '▁kaash', '▁cookie', '▁watchm', '▁psych', 'sume', 'rah', 'ron', '▁indravard', '▁cheer', '▁sudhamni', '▁saudamini', 'uli', '▁printe', 'part', '▁twist', '▁rait', '▁mooze', '▁cassette', '▁ann', '▁jivan', 'uction', '▁kahega', '▁chauth', '▁bataun', 'meter', '▁tarik', 'apis', '▁real', '▁other', 'pahar', 'dam', '▁crore', 'daughter', '▁del', 'proof', '▁chhi', '▁padma', '▁africa', '▁dogi', '▁aasan', '▁ram', '▁tail', '▁besides', 'galsutra', 'ming', '▁bav', '▁kanga', '▁gon', '▁people', '▁najar', 'dd', 'hmi', '▁dala', '▁janm', 'cht', '▁under', '▁lie', '▁peena', 'doos', '▁zama', '▁kabaa', 'abar', '▁maree', 'akee', '▁leejiye', 'richi', '▁trip', 'iss', 'cting', '▁open', 'appe', 'amat', '▁ij', 'zat', '▁chaahatee', 'iliye', '▁nuksan', '▁everyone', '▁chak', '▁soon', '▁rahenge', '▁scot', 'wale', 'shhhh', 'shh', '▁later', '▁azad', '▁bijwa', '▁murge', '▁sauce', '▁tukde', '▁oho', '▁dikhana', '▁brea', '▁dibb', '▁balki', '▁kaali', '▁zoo', '▁rakhta', '▁inst', '▁khoob', '▁comfort', '▁rubbish', '▁bulao', 'owl', '▁jur', '▁sandal', 'fer', '▁saam', '▁gand', '▁tea', '▁daali', '▁unone', '▁muk', 'jab', '▁animals', 'istan', '▁khelenge', '▁once', '▁fut', '▁kahu', '▁akela', '▁clue', '▁jaha', '▁dhona', '▁pankh', 'saat', 'breakfast', 'jamun', '▁headline', '▁jhut', '▁kapre', '▁trea', 'eureka', '▁iman', '▁kiray', 'uf', '▁cab', 'story', '▁muj', '▁minister', '▁hak', 'rings', '▁anchar', '▁reci', 'jan', '▁tareef', '▁fee', 'crying', '▁dawa', '▁hab', '▁sri', '▁imp', 'act', '▁gula', 'allav', '▁spo', 'liti', '▁cabin', 'bel', '▁padte', '▁utn', 'dress', '▁pane', '▁wasool', '▁bookstore', 'ood', '▁chii', 'puls', '▁lagakar', 'daan', '▁geye', '▁sna', '▁odd', 'prize', 'name', '▁bachat', '▁finger', 'inda', '▁choor', 'raj', '▁banayi', '▁massi', '▁opera', '▁mumma', '▁drug', '▁kapdo', '▁por', '▁peheli', '▁ceher', 'hein', 'aste', '▁manega', '▁perfect', '▁girl', 'yein', '▁masoom', 'oh', 'ousin', '▁muskura', '▁beher', '▁samm', 'bhur', '▁idli', '▁ayenge', '▁chamak', 'tein', 'udge', '▁west', '▁anirudh', '▁kela', '▁wooh', '▁tali', '▁would', '▁self', 'pri', '▁humaari', '▁anu', 'mal', '▁bel', 'achha', '▁cinema', '▁imm', '▁mula', '▁kehena', 'aw', 'gus', 'ard', 'yaad', '▁aab', '▁renew', '▁rosheh', '▁karogi', '▁cover', '▁report', '▁padhe', '▁ku', '▁swarup', 'hello', 'nder', '▁terr', '▁churai', '▁sumit', '▁magi', '▁double', '▁maaf', '▁situation', 'one', 'olog', '▁desai', '▁ahhh', '▁sard', 'tumhari', 'tumhe', '▁gund', '▁ahsaa', '▁paintings', '▁bolega', '▁jhat', '▁lgta', '▁hatt', 'indravardhan', 'rom', 'yess', 'pkin', '▁need', '▁wonder', '▁yourself', 'anti', 'pra', 'nut', 'ainting', '▁vinci', '▁chick', '▁layak', 'mber', '▁dish', 'land', '▁ut', 'adhi', '▁dull', '▁nashik', '▁buddhi', '▁still', '▁naukrani', '▁roka', '▁who', '▁america', '▁pyaa', '▁ranjana', '▁cheque', '▁coc', '▁paw', '▁symbol', '▁tag', '▁vis', 'amin', '▁insist', '▁akhir', 'ten', 'nny', '▁poli', '▁bore', 'well', '▁btaunga', 'wana', 'isk', '▁pehnu', 'uhh', 'umm', '▁acch', 'kitn', 'wati', '▁crea', '▁chalaungi', 'ather', 'graph', 'chhu', '▁loo', '▁stir', '▁brigade', '▁pakdo', 'jeet', '▁inteza', 'get', '▁scare', 'uja', '▁kidn', '▁saag', 'aster', '▁swimm', '▁view', '▁biki', '▁even', '▁khare', 'erator', '▁sui', 'path', '▁kapdon', '▁patak', '▁infect', '▁license', '▁ali', '▁ghee', '▁sahani', '▁monizay', '▁compar', 'ound', '▁photograph', '▁does', '▁respect', '▁sava', '▁chadh', '▁taak', '▁bahadur', '▁hush', '▁fellow', '▁banaaiye', '▁salwaar', '▁patte', '▁utr', '▁mark', '▁tabduk', '▁audience', '▁marble', 'asur', '▁bethi', '▁rajinder', '▁recie', 'urpr', 'ochun', '▁gujarat', '▁tata', 'ugi', '▁page', 'qua', '▁rehat', '▁centr', '▁khareedane', '▁jijaji', '▁kator', '▁feko', 'ssage', '▁fish', '▁mood', '▁aaah', 'king', 'anshan', '▁perform', '▁twanshu', '▁cor', '▁ankhein', 'ranj', '▁betho', '▁chee', '▁btaiye', 'ridor', 'rishna', 'form', '▁foodmart', '▁jod', '▁wade', '▁yuu', '▁sorrow', '▁thapar', 'kuk', '▁artical', '▁kulta', '▁episode', '▁nikamm', 'datun', '▁salo', '▁aau', '▁mitha', '▁fruits', '▁stickers', 'hubh', '▁kharide', '▁zyatti', '▁melodramatic', 'sider', '▁goodbye', 'layak', '▁mod', 'ption', '▁child', 'dka', '▁leak', '▁expla', '▁phat', 'vah', '▁safar', '▁guna', '▁drama', '▁gaur', '▁chhat', '▁dekhega', '▁noch', '▁killer', '▁health', '▁forget', '▁dhoka', '▁jet', '▁sade', '▁belated', '▁gold', 'gadi', 'nik', '▁collection', '▁pukara', 'vali', '▁goodness', 'ush', '▁khich', '▁kaaj', '▁champion', '▁gay', '▁masa', '▁jeth', '▁actual', '▁veg', '▁interv', '▁ramo', '▁drinks', '▁fixed', 'cchi', 'arent', '▁allowed', '▁cos', '▁troo', '▁myst', '▁jung', '▁laao', '▁fad', 'vaja', '▁automatic', '▁insan', '▁desperate', '▁power', '▁headlight', 'hane', '▁farz', '▁queen', '▁tree', '▁cus', '▁ver', '▁diet', 'shak', '▁register', '▁dastakha', '▁chambu', '▁chodo', 'ological', '▁hadsa', '▁jeweller', 'rce', 'haww', '▁gad', 'hange', '▁sikh', '▁piyo', 'mini', 'yant', '▁ichcha', '▁kaatn', '▁wahiya', '▁ghum', '▁rahunga', '▁prati', '▁creat', 'sos', '▁aawaz', '▁praka', '▁charbi', '▁fry', '▁dhandh', '▁hala', 'chhata', 'rwa', 'nde', 'dhu', '▁vishwa', '▁price', '▁had', '▁grand', '▁sing', '▁sens', '▁form', '▁paddy', '▁chhodati', '▁harmonium', '▁stud', '▁mechanic', '▁ilaaj', '▁design', 'puri', '▁dhoond', 'ould', '▁residence', '▁confirm', '▁niklo', 'soor', 'gar', 'lad', '▁fand', 'arasal', 'brush', 'father', 'haz', 'egee', '▁machh', 'ichai', '▁bottlai', 'aiy', '▁khada', 'acting', '▁vaale', 'chh', '▁rakhenge', '▁mug', '▁akhaba', '▁jisake', 'aroo', '▁moneesha', 'mistr', 'alab', '▁mora', 'ussi', '▁shaayad', '▁chhut', '▁bardaash', 'hale', '▁mask', 'ercise', '▁excercise', 'ills', '▁chau', '▁budg', '▁ailai', 'ila', '▁vol', 'agai', '”', '▁circu', '▁close', '▁faayada', '▁rahiye', '▁pah', '▁points', '▁turn', '▁single', '▁petro', 'vati', '▁sug', '▁acid', '▁karwan', '▁ohohoho', '▁anticipat', '▁x', 'mission', '▁happened', '▁gud', '▁evening', '▁jhad', 'ghar', '▁pahunchi', 'cks', '▁chhupay', '▁sentence', 'vision', '▁fix', '▁cricket', '▁freeze', '▁pig', 'uk', 'yunga', '▁aaspa', 'karak', '▁gee', '▁bhikhari', '▁garm', '▁sy', '▁dama', '▁weather', '▁stretcher', 'ff', '▁comeon', 'kungi', '▁baarf', '▁glasses', '▁sansar', '▁pakro', '▁kinch', '▁pick', '▁aaplog', '▁bist', 'ivili', '▁five', '▁stand', '▁rahoge', '▁yipp', '▁asan', '▁cola', '▁ghor', '▁tubelight', '▁ghumt', '▁ayo', '▁kurkur', 'full', '▁eight', '▁bulayenge', 'khun', 'logo', 'ference', '▁shola', 'hip', '▁hurr', '▁maharaj', '▁naukr', '▁jau', 'hihihi', '▁pankha', '▁banaye', '▁lati', '▁surprised', '▁jaoge', '▁dosa', 'aww', '▁excite', 'sutra', '▁kamine', '▁joint', 'dari', '▁paros', '▁fasa', '▁tie', 'ggle', '▁confident', '▁halwa', '▁waiter', '▁gar', '▁khari', '▁kharid', '▁bachpan', '▁pakk', '▁flu', '▁maze', 'ived', 'usla', '▁bewokoof', '▁villain', '▁tiger', 'boo', '▁pya', '▁also', '▁girls', '▁fift', '▁auntie', '▁tara', '▁paregi', '▁mental', '▁gair', '▁pleas', '▁amazing', '▁kahaani', '▁director', '▁hoonge', '▁faas', '▁professor', '▁inspiration', '▁ghaseet', '▁books', '▁chood', 'mare', '▁bicchu', '▁magarmach', '▁dust', '▁prasa', '▁dev', 'swas', '▁cu', '▁chuu', '▁hoote', '▁loog', '▁chaali', '▁saabzi', 'waale', '▁okra', '▁hoogi', 'hussi', '▁singing', 'dict', 'ohhhh', '▁todt', '▁dancing', '▁rani', '▁muuah', 'darani', '▁kissa', '▁likkh', 'wise', '▁nikla', '▁kahungi', '▁figure', 'chal', '▁bitha', '▁aaram', '▁maaru', '▁poem', '▁suunk', '▁picch', 'shma', '▁muskurat', 'bolo', 'elan', 'pu', '▁pardes', 'iska', 'dhanj', '▁flirt', '▁mehta', 'gop', '▁vetha', '▁urf', '▁luk', '▁bit', '▁mah', '▁baithna', '▁rook', 'contin', '▁yaw', '▁brown', 'heli', '▁their', '▁chaand', '▁muscle', 'aage', '▁banega', '▁zar', '▁meetha', '▁aayein', 'mantri', 'olution', '▁dhekn', '▁demo', '▁cheating', '▁jayungi', '▁raakh', '▁zi', 'jori', '▁gur', '▁experi', '▁sanjeev', 'new', '▁success', '▁aunti', '▁piyoge', '▁bhijwa', '▁sif', '▁roop', 'beta', '▁sasuma', 'baat', '▁rukenge', '▁paye', '▁akh', 'mit', '▁fay', 'jor', 'ores', '▁paati', '▁gree', 'mix', '▁jhag', '▁roshes', '▁q', 'good', '▁attract', '▁rangar', 'daddy', 'shari', '▁zin', '▁hawaldar', 'isla', '▁strike', '▁padenge', '▁khun', '▁cheet', 'woww', 'mmmmm', '▁semi', '▁model', '▁chhid', '▁khee', '▁laati', 'ute', 'ardo', '▁bnao', '▁kanjoos', '▁shoot', '▁mand', 'angoor', 'miz', '▁skta', '▁bharos', 'pam', '▁signal', '▁skte', '▁saku', '▁devil', '▁kum', 'bal', 'halanki', '▁confiden', 'ilk', 'six', '▁conf', 'liya', '▁whi', '▁filmstar', '▁vegas', '▁gross', '▁paiso', '▁valentine', 'wed', 'tru', '▁ache', 'elf', '▁dollar', '▁sheet', 'akh', 'anjali', '▁count', 'andar', '▁banoge', '▁members', '▁bhatak', '▁unme', 'dum', '▁racha', 'sarso', '▁katori', '▁textile', 'lal', '▁freshen', '▁graduate', '▁standard', '▁goes', '▁mangway', '▁chaubees', '▁saadh', '▁ahaha', '▁mardon', '▁bevk', '▁old', '▁tareekh', '▁divorcy', '▁celebrat', '▁sinus', 'zer', '▁munna', 'sense', '▁envelope', '▁downmarket', 'chaar', '▁covers', '▁istree', 'pata', '▁carpe', '▁vac', '▁past', '▁bardash', '▁rakhungi', '▁thaila', '▁tissue', 'chabduk', '▁haqla', '▁ever', '▁prepared', '▁details', 'unka', 'sirf', '▁vegetable', 'theek', '▁phen', '▁raas', '▁demon', 'dekho', '▁happening', '▁lassi', 'xer', 'ox', '▁zu', '▁person', '▁achhi', '▁pados', '▁atm', 'osp', '▁mehng', 'aahhh', '▁aalo', 'speak', 'jallaad', '▁padti', 'silence', 'hka', '▁spe', '▁manage', 'gia', 'hole', 'orivali', '▁lip', 'huhuhuhu', '▁humein', '▁strange', 'egar', '▁onions', 'yuck', '▁horribl', 'tv', '▁bless', '▁padhna', '▁potty', '▁wors', '▁expect', '▁dim', '▁pehne', '▁inten', 'ptom', '▁chhori', '▁walter', '▁stru', 'cture', '▁shamp', 'lelo', '▁zeh', '▁farm', 'house', '▁harkat', 'pper', 'ional', '▁premi', '▁balm', '▁ladoo', '▁filmo', '▁ishaar', 'vard', '▁kahun', '▁jaogi', '▁chapway', '▁bachan', 'jay', '▁shivji', '▁lehra', '▁khil', '▁group', '▁ohhh', '▁bewakoof', '▁vais', '▁masal', '▁date', '▁umr', '▁veerbada', 'spens', '▁whoopie', '▁daksesh', '▁loudspeaker', '▁sung', '▁ahhhh', '▁peel', '▁zubaan', '▁sunno', '▁kapd', '▁policy', '▁anyways', '▁padha', 'hnat', '▁kavitaen', '▁susu', '▁technical', '▁shash', '▁shilwa', '▁suction', '▁chapwaa', '▁copies', 'ctiv', '▁bajaie', '▁lasagn', 'mel', '▁marzi', '▁act', '▁dekhlo', '▁sales', '▁bachao', '▁jaanwar', '▁song', '▁lagwa', '▁stylish', '▁facing', '▁supporter', '▁sakega', '▁jalo', '▁moraa', 'babul', '▁auditor', 'aaaaaa', 'hata', '▁jagaha', '▁raheho', 'getti', 'etiquette', '▁ting', 'sound', '▁khau', '▁chatri', '▁khaenge', '▁bigad', 'ves', '▁coming', 'asaan', 'juven', 'ature', '▁loud', '▁nishaan', '▁pappa', '▁bulaiye', '▁lori', '▁woopie', 'kers', '▁south', '▁jesi', 'dhyan', '▁destructi', '▁khaiye', '▁layi', '▁activi', 'ikhat', '▁gunga', '▁marunga', '▁hmmmm', '▁dump', '▁jami', '▁ankh', '▁sarkar', '▁ghuma', '▁meeting', '▁curry', '▁shikayat', '▁jhail', '▁payenge', '▁rajnikant', '▁licen', '▁bano', '▁looking', '▁corrosion', '▁moisture', 'ramham', 'vika', '▁mangavaa', '▁nikalna', 'cess', '▁bitch', 'duce', '▁jhak', '▁barsh', 'ditor', '▁bhabhuti', '▁vegeta', '▁antidote', '▁kisliye', '▁bulana', '▁toothpick', '▁prath', 'radhanjali', '▁samjhaya', '▁prashn', '▁dushasan', '▁thail', '▁blackmail', '▁chintiya', '▁mung', 'eles', 'matar', '▁jhadhu', '▁years', '▁swayamva', '▁ahan', '▁chorro', '▁samb', '▁buttons', '▁istifa', 'esign', '▁apman', '▁fekte', '▁mukh', 'esare', '▁bant', '▁liljiye', 'happy', '▁prayas', '▁draw', 'differen', '▁pathetic', '▁jaaun', '▁aulad', '▁supreme', '▁coincidence', '▁exaggerate', 'jhun', '▁dengi', '▁respons', 'ibility', 'rangi', '▁solid', '▁col', 'ench', '▁mamma', '▁jugalkishor', '▁gaaye', '▁sony', '▁aila', '▁shukr', '▁lapar', '▁powder', '▁pepper', '▁choos', '▁rosew', 'sitar', '▁chivda', '▁swayam', '▁enter', '▁khushboo', '▁mythological', '▁bargaining', '▁dharmraj', '▁avashya', '▁swadis', '▁motor', '▁savit', 'dramatic', '▁rasgulle', '▁tro', 'chori', 'tric', 'securit', '▁jhoot', 'khre', '▁pravesh', '▁budhi', '▁mistic', '▁magarmac', '▁sleeve', '▁blouse', '▁laat', 'uffer', '▁graha', '▁predicti', '▁ghot', '▁navv', '▁malay', '▁sarabai', '▁padmavati', '▁meena', '▁equaliser', 'afat', '▁prove', 'khush', '▁banva', 'avaaz', 'hman', 'haraab', '▁mimic', '▁deeji', '–', '▁tohafa', '▁antiquai', '▁shauk', '▁nicha', '▁kaareegaree', '▁vaala', '▁vaah', '▁sheera', '▁aasaan', 'aree', '▁chaahata', '▁fik', '▁phans', 'rid', '▁achaanak', 'saab', '▁suffocation', '▁ventilation', '▁supp', '▁mouth', '▁happen', '▁mice', 'jood', 'hadkan', '▁chalege', '▁pagli', '▁monish', '▁ravind', '▁blessing', '▁phas', '▁pump', 'andha', '▁thok', '▁attempt', 'icu', '▁assistant', 'chande', 'nsult', '▁engage', '▁dalu', '▁toilet', '▁toothbrush', '▁bhavishy', '▁mungfali', '▁khansiye', '▁superst', '▁sandle', '▁lijeye', '▁jul', '▁mangva', 'stem', '▁pleasure', '▁button', 'tress', '▁fetch', '▁gro', 'empor', '▁collect', '▁fel', '▁roommate', '▁jhanj', 'ozen', '▁chapathi', '▁regula', '▁khicwa', '▁children', '▁hiran', '▁horse', '▁italian', '▁tambola', '▁rupaiya', '▁subha', '▁chow', '▁etc', '▁animal', '▁conc', '▁mangoge', 'lations', '▁sabkuch', '▁mauke', '▁irritat', '▁tendulkar', '▁ganga', '▁pahnu', '▁cricketer', 'khicha', '▁dikhaye', '▁chamche', '▁atakti', '▁bhatakti', '▁bewafayi', '▁history', '▁fruit', 'iccha', 'opp', 'understand', '▁television', 'eating', '▁careful', '▁memsaheb', '▁jasus', 'gress', '▁wafadar', '▁mooti', '▁dedicated', '▁samajdar', '▁chamcha', '▁khus', '▁pakoda', '▁zimmedar', '▁birth', '▁present', '▁rakhegi', '▁janwaron', 'ncy', '▁compet', 'baa', 'luwali', '▁irritating', '▁dominat', 'fully', 'apde', '▁samhaal', 'cup', 'isliye', '▁changa', '▁jayoong', '▁kuc', '▁chamka', 'jhappi', '▁extr', '▁bataiyein', '▁chira', 'suniye', '▁dabaiye', '▁happ', '▁propo', 'inaudible', '▁spot', '▁deekh', '▁usdin', 'ggage', '▁eisa', 'chuk', 'something', 'goongi', 'usse', '▁ugal', '▁ilaka', '▁parhansp', '▁raghuv', 'malani', 'radabad', 'hypocrite', 'infect', 'kavita', '▁almost', '▁indiawali', '▁promo', 'yaay', '▁rehega', 'boot', '▁chipka', '▁producer', '▁batayi', '▁sangeeta', '▁country', '▁pradhan', 'olan', '▁bartama', '▁kholiye', '▁churi', '▁gujr', 'exotic', '▁maz', 'khar', '▁inamdar', '▁wil', '▁lark', '▁illegal', '▁contrary', '▁machay', '▁nikle', '▁dubbing', '▁daura', '▁through', 'pta', '▁banegi', '▁worked', 'adult', 'cus', '▁batayungi', '▁computer', '▁dadagiri', 'chair', 'pears', '▁pank', '▁pinj', 'jag', 'bandar', '▁kahengi', 'knowledge', 'bewkoof', 'ficial', 'great', 'kyu', '▁chhaya', 'zindagi', '▁jhuk', 'anshu', 'kambakh', '▁kkk', '▁artist', '▁strip', '▁nanga', 'peechh', 'sudhanshu', '▁hakla', 'subah', '▁ghanto', '▁passion', 'tumhar', '▁chamgadar', '▁painter', 'siliy', '▁lapt', 'uska', '▁electronic', 'ammer', 'ental', 'iyal', '▁arrived', '▁zindabaad', 'ounce', '▁eve', 'may', 'tlb', '▁bagiche', '▁react', '▁secret', '▁typ', '▁inaug', '▁dhanya', '▁tadap', 'kabhi', '▁aashuo', 'dil', '▁padengi', '▁ldk', 'nhi', '▁casual', '▁low', '▁gown', 'nahi', '▁agr', 'ohh', '▁defect', '▁object', '▁riya', 'uriti', 'adhe', '▁puuran', '▁rude', '▁heir', '▁silent', '▁poss', 'isme', 'beech', '▁saxophone', '▁statu', 'live', 'bhar', '▁tasvi', '▁bakwa', '▁feet', '▁goldchain', '▁likhwa', '▁faci', '▁cornfl', '▁baalo', '▁baandh', '▁rishteda', 'dekha', '▁heaven', '▁laf', '▁vaste', '▁pehno', 'pens', '▁mafat', '▁sangha', 'makha', '▁therap', '▁bechain', 'paya', '▁singhania', '▁four', '▁declare', 'twent', 'accha', 'kon', '▁shaq', '▁sidd', '▁sgai', '▁likhenge', '▁khichadi', '▁bhakt', '▁product', 'shiqayat', '▁chalun', 'tton', '▁generator', '▁connection', '▁puccha', 'control', 'suno', '▁wagera', '▁jaengi', '▁dikhega', 'right', 'love', '▁luck', '▁chheenk', 'think', 'help', 'umh', '▁ginger', '▁conco', 'ction', '▁dhoya', '▁pakane', 'kyun', '▁badlo', 'uski', 'limit', 'hasmukh', 'bohot', '▁murad', 'bufe', 'chhee', '▁place', '▁rakhun', '▁claptomenia', 'chaliye', 'pakdo', '▁suggest', 'pehle', '▁preposterous', 'judwa', 'dheere', '▁center', '▁jacket', 'gree', '▁gentlemen', '▁student', '▁wagerah', 'logon', '▁bor', '▁mush', '▁kidnapper', '▁exact', '▁cutie', '▁anjaan', 'aey', 'oye', '▁kamino', 'chalo', 'ooho', '▁women', '▁swimmim', '▁jealous', '▁plague', '▁bezuba', '▁eyes', '▁sym', '▁practical', '▁diwar', '▁ewwww', 'aga', '▁pun', '▁zid', '▁resident', '▁buddhu', '▁akhbaar', '▁boring', 'essor', '▁chamatkar', '▁exper', 'rabad', '▁hyper', 'bara', 'kareeb', '▁lubhna', '▁subtle', 'dekhiye', 'sarita', 'listen', '▁bss', '▁rashtra', '▁mediocre', 'anyway', '▁kutto', '▁sharp', '▁sajega', '▁davaiy', '▁prescri', '▁behav', 'vir', '▁impress', '▁bhuk', '▁calend', '▁pehchanta', '▁proven', '▁takleef', '▁alava', '▁silver', '▁gre', '▁swit', '▁chitchor', '▁cheen', 'amp', '▁ruda', '▁inauguration', '▁pathar', '▁pr', '▁bhikari', 'plane', 'orrow', '▁khaared', 'alwaar', '▁insurance', '▁chabri', '▁kauw', '▁disappoint', '▁hopefully', '▁hairstyle', '▁ahead', '▁electropathy', '▁bawaju', '▁opposite', '▁guru', '▁twa', '▁disgusting', '▁nutcase', '▁backsta', 'andhe', 'cc', '▁magni', 'agda', '▁faati', '▁seekhe', 'hagun', '▁munch', '▁itself', '▁taufa', '▁jajti', '▁volume', '▁hippo', '▁daandiya', '▁grad', '▁rakhoge', '▁thy', 'iklo', '▁babulaa', '▁bevakoof', '▁favour', 'hmmm', '▁tukad', '▁secondly', '▁official', '▁bajaiye', '▁criticis', '▁aajadi', '▁cater', 'vrat', '▁rice', 'ross', '▁decision', '▁perver', '▁issue', '▁tika', '▁laaparavaah', 'sath', '▁fracture', '▁switche', '▁paav', 'samajhaav', '▁camera', 'jula', '▁dozen', '▁bhijavaoonga', 'free', '▁dantamanjan', '▁danger', '▁imagination', '▁naughty', 'oohhh', '▁khareedana', 'prash', '▁sakat', '▁hukum', '▁paao', '▁ahem', 'fish', '▁pehale', '▁achhcha', '▁auratonk', '▁unopposed', '▁governer', '▁innocent', '▁sleep', '▁dalunga', '▁parkinsons', '▁depend', '▁dikhaunga', '▁script', '▁pnt', '▁level', '▁super', '▁thuk', '▁kabtak', '▁jagirdar', 'ique', '▁jalaye', '▁puchegi', '▁kanp', '▁arrest', '▁chutti', '▁bhens', 'mos', '▁compensation', '▁talati', '▁vakil', '▁sauteli', '▁hoarding', '▁mommma', '▁mujrim', '▁prasad', '▁chetavni', '▁omkarnath', 'bengali', '▁bh', '▁shanika', '▁luku', '▁salsa', '▁bechaar', '▁hilton', '▁doggy', 'grrrr', 'grrrrrr', '▁nakhoon', 'lty', 'kaam', '▁blo', '▁stairs', '▁deepend', 'shmit', '▁excellent', '▁patthe', '▁rhym', '▁intestine', '▁eff', 'ects', '▁dushyan', '▁face', '▁aauuch', '▁micro', '▁chikhate', '▁university', '▁nibandhmala', '▁nibandh', 'alright', 'hut', 'olle', 'inating', 'udhis', '▁dharmputra', 'bharat', '▁trust', 'worthy', '▁bhadka', '▁seatbelt', '▁brownie', '▁mutual', 'raam', '▁rakhdo', '▁dhum', '▁mahin', 'mila', '▁baithega', '▁tanya', '▁suhagrat', '▁shiridoriya', '▁danh', '▁arusha', '▁henchman', '▁mafia', '▁alarm', 'unhone', 'hmm', 'chot', 'ongratulations', 'aid', '▁karvan', 'kuch', 'hahahaha', 'calm', 'é', 'à', 'anirudh', 'hahahah', 'zara', 'correct', 'exc', 'sonya', 'garam', 'thoda', 'jhooth', 'aapka', 'ister', 'chhod', 'bura', 'arre', 'btao', 'hazar', 'joote', 'magar', 'absolutely', 'matlab', 'darling', 'match', 'esse', 'infact', 'agair', 'lovely', 'humar', 'bathroom', 'newspaper', 'doctor', 'jara', 'wonderful', 'bhabhi', 'relax', 'acha', 'old', 'atma', 'baad', 'bakur', 'aoge', 'call', 'dushyant', 'moma', 'heart', 'vitthal', 'unknown_word'])"
      ]
     },
     "execution_count": 81,
     "metadata": {},
     "output_type": "execute_result"
    }
   ],
   "source": [
    "vocab_to_int.keys()"
   ]
  },
  {
   "cell_type": "code",
   "execution_count": null,
   "id": "f19b7064",
   "metadata": {},
   "outputs": [],
   "source": []
  },
  {
   "cell_type": "code",
   "execution_count": 82,
   "id": "fe1dd7f7",
   "metadata": {},
   "outputs": [
    {
     "data": {
      "text/plain": [
       "True"
      ]
     },
     "execution_count": 82,
     "metadata": {},
     "output_type": "execute_result"
    }
   ],
   "source": [
    "'unknown_word' in vocab_to_int.keys()"
   ]
  },
  {
   "cell_type": "code",
   "execution_count": 83,
   "id": "910013cc",
   "metadata": {},
   "outputs": [],
   "source": [
    "key_list = list(vocab_to_int.keys())"
   ]
  },
  {
   "cell_type": "code",
   "execution_count": 84,
   "id": "35ec8354",
   "metadata": {},
   "outputs": [
    {
     "data": {
      "text/plain": [
       "4811"
      ]
     },
     "execution_count": 84,
     "metadata": {},
     "output_type": "execute_result"
    }
   ],
   "source": [
    "len(key_list)"
   ]
  },
  {
   "cell_type": "code",
   "execution_count": null,
   "id": "7c01c720",
   "metadata": {},
   "outputs": [],
   "source": []
  },
  {
   "cell_type": "code",
   "execution_count": 85,
   "id": "ffc3f7e5",
   "metadata": {},
   "outputs": [],
   "source": [
    "# Function to vectorize the text\n",
    "def tokenize_utterance(text, vocab_to_int):\n",
    "    key_list = list(vocab_to_int.keys())\n",
    "    words = text.split()\n",
    "    # tokens\n",
    "    text_ints = []\n",
    "    for word in words:\n",
    "        if word in key_list:\n",
    "            text_ints.append(vocab_to_int[word])\n",
    "        else:\n",
    "            text_ints.append(vocab_to_int['unknown_word'])  # Assign a special value for unknown words\n",
    "            \n",
    "    return text_ints\n"
   ]
  },
  {
   "cell_type": "code",
   "execution_count": 86,
   "id": "47c1ea9f",
   "metadata": {},
   "outputs": [],
   "source": [
    "## store the tokenized utterance in utterance_ints\n",
    "utterance_ints_1 = []\n",
    "for utterance in train['Clean_text']:\n",
    "    utterance_ints_1.append(tokenize_utterance(utterance,vocab_to_int))"
   ]
  },
  {
   "cell_type": "code",
   "execution_count": 87,
   "id": "5ac85d64",
   "metadata": {},
   "outputs": [],
   "source": [
    "#utterance_ints_1"
   ]
  },
  {
   "cell_type": "code",
   "execution_count": 88,
   "id": "57475c20",
   "metadata": {},
   "outputs": [],
   "source": [
    "## store the tokenized utterance in utterance_ints\n",
    "utterance_ints_2 = []\n",
    "for utterance in validation['Clean_text']:\n",
    "    utterance_ints_2.append(tokenize_utterance(utterance,vocab_to_int))"
   ]
  },
  {
   "cell_type": "code",
   "execution_count": null,
   "id": "451478ef",
   "metadata": {},
   "outputs": [],
   "source": []
  },
  {
   "cell_type": "code",
   "execution_count": 89,
   "id": "b10bbf76",
   "metadata": {},
   "outputs": [],
   "source": [
    "# Dictionary to map emotions to labels with different numeric values\n",
    "emotion_to_label = {\n",
    "    'disgust': 0,\n",
    "    'contempt': 1,\n",
    "    'anger': 2,\n",
    "    'neutral': 3,\n",
    "    'joy': 4,\n",
    "    'sadness': 5,\n",
    "    'fear': 6,\n",
    "    'surprise': 7\n",
    "}\n",
    "\n",
    "\n",
    "# Encode the labels for training\n",
    "#train_encoded_labels = np.array([emotion_to_label[label] for label in train[\"Emotions\"]])"
   ]
  },
  {
   "cell_type": "code",
   "execution_count": null,
   "id": "3957ab23",
   "metadata": {},
   "outputs": [],
   "source": []
  },
  {
   "cell_type": "code",
   "execution_count": 90,
   "id": "3e141b3a",
   "metadata": {},
   "outputs": [
    {
     "data": {
      "text/plain": [
       "array([0, 1, 2, ..., 4, 6, 0])"
      ]
     },
     "execution_count": 90,
     "metadata": {},
     "output_type": "execute_result"
    }
   ],
   "source": [
    "train_encoded_labels = np.array([emotion_to_label[label] for label in train[\"Emotions\"]])\n",
    "train_encoded_labels"
   ]
  },
  {
   "cell_type": "code",
   "execution_count": null,
   "id": "dbb4ba9b",
   "metadata": {},
   "outputs": [],
   "source": []
  },
  {
   "cell_type": "code",
   "execution_count": 91,
   "id": "6d0ab88e",
   "metadata": {},
   "outputs": [
    {
     "data": {
      "text/plain": [
       "array([0, 1, 2, 3, 4, 5, 6, 7])"
      ]
     },
     "execution_count": 91,
     "metadata": {},
     "output_type": "execute_result"
    }
   ],
   "source": [
    "np.unique(train_encoded_labels)"
   ]
  },
  {
   "cell_type": "code",
   "execution_count": null,
   "id": "f31a9f46",
   "metadata": {},
   "outputs": [],
   "source": []
  },
  {
   "cell_type": "code",
   "execution_count": 92,
   "id": "f8e168ea",
   "metadata": {},
   "outputs": [],
   "source": [
    "# Encode the labels for validation\n",
    "validation_encoded_labels = np.array([emotion_to_label[label] for label in validation[\"Emotions\"]])"
   ]
  },
  {
   "cell_type": "code",
   "execution_count": null,
   "id": "2552e4cc",
   "metadata": {},
   "outputs": [],
   "source": []
  },
  {
   "cell_type": "code",
   "execution_count": 93,
   "id": "fd2af849",
   "metadata": {},
   "outputs": [
    {
     "name": "stdout",
     "output_type": "stream",
     "text": [
      "Number of utterances before removing outliers:  8506\n",
      "Number of utterances after removing outliers:  8506\n"
     ]
    }
   ],
   "source": [
    "print('Number of utterances before removing outliers: ', len(utterance_ints_1))\n",
    "\n",
    "## remove any utterances/labels with zero length from the utterance_ints list.\n",
    "\n",
    "## get any indices of any utterances with length 0\n",
    "non_zero_idx = [ii for ii, utterance in enumerate(utterance_ints_1) if len(utterance) != 0]\n",
    "\n",
    "# remove 0-length review with their labels\n",
    "ro_utterance_ints_1 = [utterance_ints_1[ii] for ii in non_zero_idx]\n",
    "train_encoded_labels = np.array([train_encoded_labels[ii] for ii in non_zero_idx])\n",
    "\n",
    "print('Number of utterances after removing outliers: ', len(ro_utterance_ints_1))"
   ]
  },
  {
   "cell_type": "code",
   "execution_count": null,
   "id": "f31e3725",
   "metadata": {},
   "outputs": [],
   "source": []
  },
  {
   "cell_type": "code",
   "execution_count": 94,
   "id": "4fa1cb1d",
   "metadata": {},
   "outputs": [
    {
     "name": "stdout",
     "output_type": "stream",
     "text": [
      "Number of utterances before removing outliers:  1354\n",
      "Number of utterances after removing outliers:  1354\n"
     ]
    }
   ],
   "source": [
    "print('Number of utterances before removing outliers: ', len(utterance_ints_2))\n",
    "\n",
    "## remove any utterances/labels with zero length from the utterance_ints list.\n",
    "\n",
    "## get any indices of any utterances with length 0\n",
    "non_zero_idx = [ii for ii, utterance in enumerate(utterance_ints_2) if len(utterance) != 0]\n",
    "\n",
    "# remove 0-length review with their labels\n",
    "ro_utterance_ints_2 = [utterance_ints_2[ii] for ii in non_zero_idx]\n",
    "validation_encoded_labels = np.array([validation_encoded_labels[ii] for ii in non_zero_idx])\n",
    "\n",
    "print('Number of utterances after removing outliers: ', len(ro_utterance_ints_2))"
   ]
  },
  {
   "cell_type": "code",
   "execution_count": null,
   "id": "5931b910",
   "metadata": {},
   "outputs": [],
   "source": []
  },
  {
   "cell_type": "code",
   "execution_count": 95,
   "id": "eb14955b",
   "metadata": {},
   "outputs": [],
   "source": [
    "def padding_(sentences, seq_len):\n",
    "    features = np.zeros((len(sentences), seq_len),dtype=int)\n",
    "    for ii, utterance in enumerate(sentences):\n",
    "        if len(utterance) != 0:\n",
    "            features[ii, -len(utterance):] = np.array(utterance)[:seq_len]\n",
    "    return features\n",
    "\n"
   ]
  },
  {
   "cell_type": "code",
   "execution_count": 96,
   "id": "c83032be",
   "metadata": {},
   "outputs": [],
   "source": [
    "seq_len = 100\n",
    "x_train_pad = padding_(ro_utterance_ints_1,100)\n",
    "x_test_pad = padding_(ro_utterance_ints_2,100)"
   ]
  },
  {
   "cell_type": "code",
   "execution_count": null,
   "id": "22a8294c",
   "metadata": {},
   "outputs": [],
   "source": []
  },
  {
   "cell_type": "code",
   "execution_count": 97,
   "id": "b51981c4",
   "metadata": {},
   "outputs": [
    {
     "data": {
      "text/plain": [
       "array([[   0,    0,    0, ...,  191,   26, 4077],\n",
       "       [   0,    0,    0, ...,   33,  151,  263],\n",
       "       [   0,    0,    0, ...,  313, 2879,   58],\n",
       "       ...,\n",
       "       [   0,    0,    0, ...,    0,    0, 4070],\n",
       "       [   0,    0,    0, ...,    0,    0, 3365],\n",
       "       [   0,    0,    0, ...,  574,  483,  112]])"
      ]
     },
     "execution_count": 97,
     "metadata": {},
     "output_type": "execute_result"
    }
   ],
   "source": [
    "x_train_pad"
   ]
  },
  {
   "cell_type": "code",
   "execution_count": null,
   "id": "2844f9e5",
   "metadata": {},
   "outputs": [],
   "source": []
  },
  {
   "cell_type": "code",
   "execution_count": 98,
   "id": "df687400",
   "metadata": {},
   "outputs": [
    {
     "name": "stdout",
     "output_type": "stream",
     "text": [
      "[[ 492  183  170    3 2187   43  263  191   26 4077]\n",
      " [   0    0    0    0    0  178  151   33  151  263]\n",
      " [   0    0    0    0    0    0   83  313 2879   58]\n",
      " [ 621 2187   43 2188  197   10 4077   26   10  151]\n",
      " [  23  461  372   93   10   95  254    1  108  168]\n",
      " [ 461  184  936    4 2880  281  291    6  527  601]\n",
      " [   0    0    0    0    0    0    0    0  241  562]\n",
      " [ 111  345   45   16  855   64  517  527   61   15]\n",
      " [   0    0    0    0    0    0    0    0   22 1109]\n",
      " [   0    0    0    0    0    0    0    0    0   22]\n",
      " [   0   22  301  346  196   74  105 1110  263 1039]\n",
      " [   0    0  178   38  151   33  305  263 1039 1473]\n",
      " [   0   57 1264   11 1040  167  727    7   53   54]\n",
      " [   0    0    0   16   12  361 2486 1041  220   45]\n",
      " [ 753  433  346   69    4   74 1110  263 1039   62]\n",
      " [   0    0  178   38  151   18  137  263 1039 3356]\n",
      " [   0    0   92   92   92  196   28   48   73  562]\n",
      " [   5  172    7 1612 1474    7   16 4078  518 1947]\n",
      " [  84   18  124  434    4  163  103  527   52    1]\n",
      " [ 433  196   33 1042   25 1613    6  602 1110  263]\n",
      " [ 178  937   58   12  217  263 1039   20  670   45]\n",
      " [  53    4   31 2487   18   11   53  350   96    1]\n",
      " [   0    0    0    0    0    0   33  201  729 1264]\n",
      " [   0    0    0    0    0    0    0   28 2189   83]\n",
      " [   0    0    0   33  823 1264  519 1948  164   10]\n",
      " [   1    2  143    4  130   40   26   63  101    6]\n",
      " [   0    0    0    0  391  274   28  547  112   33]\n",
      " [   6  167  392   32  891 2488 1354   90 2489   12]\n",
      " [  25   17    4  517    6  622   44  938    1  305]\n",
      " [   0    0    0   55  402 4079 1771  242   44  196]]\n"
     ]
    }
   ],
   "source": [
    "# print last 10 values of the first 30 batches\n",
    "print(x_train_pad[:30,90:100])"
   ]
  },
  {
   "cell_type": "code",
   "execution_count": 99,
   "id": "a2b016ac",
   "metadata": {},
   "outputs": [
    {
     "name": "stderr",
     "output_type": "stream",
     "text": [
      "2023-12-01 00:16:23.054088: I tensorflow/tsl/cuda/cudart_stub.cc:28] Could not find cuda drivers on your machine, GPU will not be used.\n",
      "2023-12-01 00:16:23.090051: I tensorflow/core/platform/cpu_feature_guard.cc:182] This TensorFlow binary is optimized to use available CPU instructions in performance-critical operations.\n",
      "To enable the following instructions: AVX2 FMA, in other operations, rebuild TensorFlow with the appropriate compiler flags.\n",
      "2023-12-01 00:16:23.817911: W tensorflow/compiler/tf2tensorrt/utils/py_utils.cc:38] TF-TRT Warning: Could not find TensorRT\n"
     ]
    }
   ],
   "source": [
    "import tensorflow as tf\n",
    "from tensorflow.keras.models import Sequential\n",
    "from tensorflow.keras.layers import Embedding, LSTM, Dense, Dropout\n",
    "from keras.utils import to_categorical\n",
    "import seaborn as sns"
   ]
  },
  {
   "cell_type": "code",
   "execution_count": 100,
   "id": "aa12c3b1",
   "metadata": {},
   "outputs": [
    {
     "data": {
      "text/plain": [
       "array([[1., 0., 0., ..., 0., 0., 0.],\n",
       "       [0., 1., 0., ..., 0., 0., 0.],\n",
       "       [0., 0., 1., ..., 0., 0., 0.],\n",
       "       ...,\n",
       "       [0., 0., 0., ..., 0., 0., 0.],\n",
       "       [0., 0., 0., ..., 0., 1., 0.],\n",
       "       [1., 0., 0., ..., 0., 0., 0.]], dtype=float32)"
      ]
     },
     "execution_count": 100,
     "metadata": {},
     "output_type": "execute_result"
    }
   ],
   "source": [
    "# Assuming train_encoded_labels is your array of labels\n",
    "# Assuming num_classes is the total number of classes (in this case, 8)\n",
    "num_classes = 8\n",
    "\n",
    "# Convert labels to one-hot encoding\n",
    "train_one_hot_labels = to_categorical(train_encoded_labels, num_classes=num_classes)\n",
    "train_one_hot_labels\n"
   ]
  },
  {
   "cell_type": "code",
   "execution_count": null,
   "id": "5eba8c3b",
   "metadata": {},
   "outputs": [],
   "source": []
  },
  {
   "cell_type": "code",
   "execution_count": 101,
   "id": "e94b6ecd",
   "metadata": {},
   "outputs": [
    {
     "data": {
      "text/plain": [
       "array([[0., 0., 0., ..., 0., 0., 0.],\n",
       "       [0., 0., 0., ..., 0., 0., 0.],\n",
       "       [0., 0., 0., ..., 0., 0., 0.],\n",
       "       ...,\n",
       "       [0., 0., 0., ..., 1., 0., 0.],\n",
       "       [0., 0., 0., ..., 0., 0., 0.],\n",
       "       [0., 0., 0., ..., 0., 1., 0.]], dtype=float32)"
      ]
     },
     "execution_count": 101,
     "metadata": {},
     "output_type": "execute_result"
    }
   ],
   "source": [
    "\n",
    "num_classes = 8\n",
    "\n",
    "# Convert labels to one-hot encoding\n",
    "validation_one_hot_labels = to_categorical(validation_encoded_labels, num_classes=num_classes)\n",
    "validation_one_hot_labels\n",
    "\n"
   ]
  },
  {
   "cell_type": "code",
   "execution_count": null,
   "id": "5e68d2a1",
   "metadata": {},
   "outputs": [],
   "source": []
  },
  {
   "cell_type": "code",
   "execution_count": 102,
   "id": "fae50e3b",
   "metadata": {},
   "outputs": [],
   "source": [
    "y_train = train_encoded_labels\n",
    "y_test = validation_encoded_labels"
   ]
  },
  {
   "cell_type": "code",
   "execution_count": 103,
   "id": "f6e93adc",
   "metadata": {},
   "outputs": [],
   "source": [
    "voc_size = 5000"
   ]
  },
  {
   "cell_type": "code",
   "execution_count": null,
   "id": "5f1e7976",
   "metadata": {},
   "outputs": [],
   "source": []
  },
  {
   "cell_type": "code",
   "execution_count": 104,
   "id": "862d518f",
   "metadata": {},
   "outputs": [
    {
     "name": "stderr",
     "output_type": "stream",
     "text": [
      "2023-12-01 00:16:24.967547: I tensorflow/compiler/xla/stream_executor/cuda/cuda_gpu_executor.cc:995] successful NUMA node read from SysFS had negative value (-1), but there must be at least one NUMA node, so returning NUMA node zero. See more at https://github.com/torvalds/linux/blob/v6.0/Documentation/ABI/testing/sysfs-bus-pci#L344-L355\n",
      "2023-12-01 00:16:24.970343: W tensorflow/core/common_runtime/gpu/gpu_device.cc:1960] Cannot dlopen some GPU libraries. Please make sure the missing libraries mentioned above are installed properly if you would like to use GPU. Follow the guide at https://www.tensorflow.org/install/gpu for how to download and setup the required libraries for your platform.\n",
      "Skipping registering GPU devices...\n"
     ]
    },
    {
     "name": "stdout",
     "output_type": "stream",
     "text": [
      "Model: \"sequential\"\n",
      "_________________________________________________________________\n",
      " Layer (type)                Output Shape              Param #   \n",
      "=================================================================\n",
      " embedding (Embedding)       (None, 100, 64)           320000    \n",
      "                                                                 \n",
      " lstm (LSTM)                 (None, 100, 32)           12416     \n",
      "                                                                 \n",
      " lstm_1 (LSTM)               (None, 32)                8320      \n",
      "                                                                 \n",
      " dense (Dense)               (None, 64)                2112      \n",
      "                                                                 \n",
      " dropout (Dropout)           (None, 64)                0         \n",
      "                                                                 \n",
      " dense_1 (Dense)             (None, 8)                 520       \n",
      "                                                                 \n",
      "=================================================================\n",
      "Total params: 343368 (1.31 MB)\n",
      "Trainable params: 343368 (1.31 MB)\n",
      "Non-trainable params: 0 (0.00 Byte)\n",
      "_________________________________________________________________\n"
     ]
    }
   ],
   "source": [
    "from tensorflow.keras.regularizers import l2\n",
    "\n",
    "# build model\n",
    "tf.keras.backend.clear_session()\n",
    "# Define the model\n",
    "model = Sequential()\n",
    "\n",
    "# Add an Embedding layer\n",
    "model.add(Embedding(input_dim=voc_size, output_dim=64, input_length = 100))\n",
    "\n",
    "# Add an LSTM layer\n",
    "model.add(LSTM(32, return_sequences=True))\n",
    "\n",
    "# Add a second LSTM layer\n",
    "model.add(LSTM(32))\n",
    "\n",
    "# Add a Dense layer with ReLU activation and L2 regularization\n",
    "model.add(Dense(64, activation='relu', kernel_regularizer=l2(0.01)))\n",
    "\n",
    "# Add a Dropout layer\n",
    "model.add(Dropout(0.5))\n",
    "\n",
    "# Add the output layer with softmax activation for classification\n",
    "model.add(Dense(8, activation='softmax'))\n",
    "\n",
    "# Compile the model with Adam optimizer and sparse categorical crossentropy loss\n",
    "model.compile(optimizer='adam', loss='sparse_categorical_crossentropy', metrics=['accuracy'])\n",
    "\n",
    "# Print the model summary\n",
    "model.summary()\n"
   ]
  },
  {
   "cell_type": "code",
   "execution_count": null,
   "id": "357147f7",
   "metadata": {},
   "outputs": [],
   "source": []
  },
  {
   "cell_type": "code",
   "execution_count": 105,
   "id": "e200a87e",
   "metadata": {
    "scrolled": false
   },
   "outputs": [
    {
     "name": "stdout",
     "output_type": "stream",
     "text": [
      "Epoch 1/100\n",
      "266/266 [==============================] - 19s 60ms/step - loss: 1.8853 - accuracy: 0.4522 - val_loss: 1.7220 - val_accuracy: 0.4675\n",
      "Epoch 2/100\n",
      "266/266 [==============================] - 15s 58ms/step - loss: 1.6785 - accuracy: 0.4618 - val_loss: 1.6470 - val_accuracy: 0.4645\n",
      "Epoch 3/100\n",
      "266/266 [==============================] - 15s 57ms/step - loss: 1.5655 - accuracy: 0.4715 - val_loss: 1.6313 - val_accuracy: 0.4505\n",
      "Epoch 4/100\n",
      "266/266 [==============================] - 16s 59ms/step - loss: 1.4636 - accuracy: 0.4847 - val_loss: 1.6778 - val_accuracy: 0.4431\n",
      "Epoch 5/100\n",
      "266/266 [==============================] - 15s 58ms/step - loss: 1.3596 - accuracy: 0.5013 - val_loss: 1.7103 - val_accuracy: 0.4291\n",
      "Epoch 6/100\n",
      "266/266 [==============================] - 15s 58ms/step - loss: 1.2450 - accuracy: 0.5209 - val_loss: 1.8331 - val_accuracy: 0.4092\n",
      "Epoch 7/100\n",
      "266/266 [==============================] - 15s 58ms/step - loss: 1.1402 - accuracy: 0.5781 - val_loss: 1.9480 - val_accuracy: 0.4062\n",
      "Epoch 8/100\n",
      "266/266 [==============================] - 15s 57ms/step - loss: 1.0476 - accuracy: 0.6116 - val_loss: 2.0679 - val_accuracy: 0.4003\n",
      "Epoch 9/100\n",
      "266/266 [==============================] - 15s 57ms/step - loss: 0.9772 - accuracy: 0.6533 - val_loss: 2.1692 - val_accuracy: 0.3833\n",
      "Epoch 10/100\n",
      "266/266 [==============================] - 15s 57ms/step - loss: 0.9142 - accuracy: 0.6769 - val_loss: 2.3249 - val_accuracy: 0.3508\n",
      "Epoch 11/100\n",
      "266/266 [==============================] - 15s 58ms/step - loss: 0.8556 - accuracy: 0.7055 - val_loss: 2.5121 - val_accuracy: 0.3789\n",
      "Epoch 12/100\n",
      "266/266 [==============================] - 15s 58ms/step - loss: 0.8233 - accuracy: 0.7210 - val_loss: 2.6082 - val_accuracy: 0.3781\n",
      "Epoch 13/100\n",
      "266/266 [==============================] - 15s 58ms/step - loss: 0.7823 - accuracy: 0.7434 - val_loss: 2.5083 - val_accuracy: 0.3456\n",
      "Epoch 14/100\n",
      "266/266 [==============================] - 15s 58ms/step - loss: 0.7580 - accuracy: 0.7550 - val_loss: 2.8028 - val_accuracy: 0.3737\n",
      "Epoch 15/100\n",
      "266/266 [==============================] - 15s 58ms/step - loss: 0.7155 - accuracy: 0.7732 - val_loss: 2.8565 - val_accuracy: 0.3567\n",
      "Epoch 16/100\n",
      "266/266 [==============================] - 15s 58ms/step - loss: 0.6807 - accuracy: 0.7904 - val_loss: 2.9915 - val_accuracy: 0.3456\n",
      "Epoch 17/100\n",
      "266/266 [==============================] - 15s 58ms/step - loss: 0.6622 - accuracy: 0.7973 - val_loss: 3.2129 - val_accuracy: 0.3641\n",
      "Epoch 18/100\n",
      "266/266 [==============================] - 15s 58ms/step - loss: 0.6468 - accuracy: 0.8039 - val_loss: 3.1851 - val_accuracy: 0.3383\n",
      "Epoch 19/100\n",
      "266/266 [==============================] - 15s 58ms/step - loss: 0.6162 - accuracy: 0.8141 - val_loss: 3.2843 - val_accuracy: 0.3626\n",
      "Epoch 20/100\n",
      "266/266 [==============================] - 15s 58ms/step - loss: 0.6010 - accuracy: 0.8188 - val_loss: 3.3752 - val_accuracy: 0.3464\n",
      "Epoch 21/100\n",
      "266/266 [==============================] - 15s 58ms/step - loss: 0.5828 - accuracy: 0.8311 - val_loss: 3.4775 - val_accuracy: 0.3560\n",
      "Epoch 22/100\n",
      "266/266 [==============================] - 15s 58ms/step - loss: 0.5651 - accuracy: 0.8342 - val_loss: 3.6852 - val_accuracy: 0.3508\n",
      "Epoch 23/100\n",
      "266/266 [==============================] - 15s 58ms/step - loss: 0.5429 - accuracy: 0.8442 - val_loss: 3.5808 - val_accuracy: 0.3456\n",
      "Epoch 24/100\n",
      "266/266 [==============================] - 15s 58ms/step - loss: 0.5404 - accuracy: 0.8455 - val_loss: 3.7839 - val_accuracy: 0.3597\n",
      "Epoch 25/100\n",
      "266/266 [==============================] - 15s 58ms/step - loss: 0.5131 - accuracy: 0.8526 - val_loss: 3.8689 - val_accuracy: 0.3479\n",
      "Epoch 26/100\n",
      "266/266 [==============================] - 15s 58ms/step - loss: 0.4960 - accuracy: 0.8582 - val_loss: 3.9645 - val_accuracy: 0.3375\n",
      "Epoch 27/100\n",
      "266/266 [==============================] - 16s 59ms/step - loss: 0.4839 - accuracy: 0.8627 - val_loss: 4.0575 - val_accuracy: 0.3493\n",
      "Epoch 28/100\n",
      "266/266 [==============================] - 16s 58ms/step - loss: 0.4777 - accuracy: 0.8628 - val_loss: 3.9244 - val_accuracy: 0.3575\n",
      "Epoch 29/100\n",
      "266/266 [==============================] - 16s 59ms/step - loss: 0.4735 - accuracy: 0.8620 - val_loss: 4.2329 - val_accuracy: 0.3567\n",
      "Epoch 30/100\n",
      "266/266 [==============================] - 16s 58ms/step - loss: 0.4698 - accuracy: 0.8612 - val_loss: 4.0707 - val_accuracy: 0.3567\n",
      "Epoch 31/100\n",
      "266/266 [==============================] - 16s 60ms/step - loss: 0.4563 - accuracy: 0.8715 - val_loss: 4.2002 - val_accuracy: 0.3346\n",
      "Epoch 32/100\n",
      "266/266 [==============================] - 16s 59ms/step - loss: 0.4397 - accuracy: 0.8737 - val_loss: 4.2686 - val_accuracy: 0.3479\n",
      "Epoch 33/100\n",
      "266/266 [==============================] - 16s 60ms/step - loss: 0.4189 - accuracy: 0.8821 - val_loss: 4.3434 - val_accuracy: 0.3501\n",
      "Epoch 34/100\n",
      "266/266 [==============================] - 15s 58ms/step - loss: 0.4042 - accuracy: 0.8874 - val_loss: 4.4303 - val_accuracy: 0.3538\n",
      "Epoch 35/100\n",
      "266/266 [==============================] - 16s 59ms/step - loss: 0.3803 - accuracy: 0.8953 - val_loss: 4.5173 - val_accuracy: 0.3479\n",
      "Epoch 36/100\n",
      "266/266 [==============================] - 15s 58ms/step - loss: 0.3836 - accuracy: 0.8967 - val_loss: 4.5405 - val_accuracy: 0.3567\n",
      "Epoch 37/100\n",
      "266/266 [==============================] - 16s 58ms/step - loss: 0.3792 - accuracy: 0.8960 - val_loss: 4.7020 - val_accuracy: 0.3508\n",
      "Epoch 38/100\n",
      "266/266 [==============================] - 15s 58ms/step - loss: 0.3700 - accuracy: 0.8970 - val_loss: 4.5970 - val_accuracy: 0.3516\n",
      "Epoch 39/100\n",
      "266/266 [==============================] - 16s 59ms/step - loss: 0.3747 - accuracy: 0.8953 - val_loss: 4.5258 - val_accuracy: 0.3567\n",
      "Epoch 40/100\n",
      "266/266 [==============================] - 16s 58ms/step - loss: 0.3858 - accuracy: 0.8925 - val_loss: 4.4523 - val_accuracy: 0.3419\n",
      "Epoch 41/100\n",
      "266/266 [==============================] - 16s 59ms/step - loss: 0.3612 - accuracy: 0.8994 - val_loss: 4.7449 - val_accuracy: 0.3508\n",
      "Epoch 42/100\n",
      "266/266 [==============================] - 15s 58ms/step - loss: 0.3525 - accuracy: 0.9024 - val_loss: 4.8478 - val_accuracy: 0.3538\n",
      "Epoch 43/100\n",
      "266/266 [==============================] - 16s 59ms/step - loss: 0.3510 - accuracy: 0.9018 - val_loss: 4.7330 - val_accuracy: 0.3523\n",
      "Epoch 44/100\n",
      "266/266 [==============================] - 15s 57ms/step - loss: 0.3355 - accuracy: 0.9064 - val_loss: 4.9503 - val_accuracy: 0.3516\n",
      "Epoch 45/100\n",
      "266/266 [==============================] - 15s 58ms/step - loss: 0.3300 - accuracy: 0.9098 - val_loss: 5.1442 - val_accuracy: 0.3648\n",
      "Epoch 46/100\n",
      "266/266 [==============================] - 15s 58ms/step - loss: 0.3265 - accuracy: 0.9085 - val_loss: 5.0000 - val_accuracy: 0.3538\n",
      "Epoch 47/100\n",
      "266/266 [==============================] - 15s 58ms/step - loss: 0.3146 - accuracy: 0.9135 - val_loss: 5.1015 - val_accuracy: 0.3523\n",
      "Epoch 48/100\n",
      "266/266 [==============================] - 15s 58ms/step - loss: 0.3225 - accuracy: 0.9126 - val_loss: 5.0936 - val_accuracy: 0.3479\n",
      "Epoch 49/100\n",
      "266/266 [==============================] - 16s 59ms/step - loss: 0.3077 - accuracy: 0.9157 - val_loss: 5.0296 - val_accuracy: 0.3567\n",
      "Epoch 50/100\n",
      "266/266 [==============================] - 15s 58ms/step - loss: 0.2953 - accuracy: 0.9189 - val_loss: 5.4265 - val_accuracy: 0.3626\n",
      "Epoch 51/100\n",
      "266/266 [==============================] - 15s 58ms/step - loss: 0.3058 - accuracy: 0.9152 - val_loss: 5.2265 - val_accuracy: 0.3368\n",
      "Epoch 52/100\n",
      "266/266 [==============================] - 15s 58ms/step - loss: 0.3054 - accuracy: 0.9148 - val_loss: 5.2776 - val_accuracy: 0.3338\n",
      "Epoch 53/100\n",
      "266/266 [==============================] - 15s 58ms/step - loss: 0.2969 - accuracy: 0.9146 - val_loss: 5.2044 - val_accuracy: 0.3508\n",
      "Epoch 54/100\n",
      "266/266 [==============================] - 15s 56ms/step - loss: 0.2856 - accuracy: 0.9206 - val_loss: 5.3746 - val_accuracy: 0.3567\n",
      "Epoch 55/100\n",
      "266/266 [==============================] - 16s 59ms/step - loss: 0.2653 - accuracy: 0.9262 - val_loss: 5.4750 - val_accuracy: 0.3479\n",
      "Epoch 56/100\n",
      "266/266 [==============================] - 19s 72ms/step - loss: 0.2787 - accuracy: 0.9230 - val_loss: 5.3504 - val_accuracy: 0.3656\n",
      "Epoch 57/100\n"
     ]
    },
    {
     "name": "stdout",
     "output_type": "stream",
     "text": [
      "266/266 [==============================] - 15s 58ms/step - loss: 0.2661 - accuracy: 0.9258 - val_loss: 5.4939 - val_accuracy: 0.3309\n",
      "Epoch 58/100\n",
      "266/266 [==============================] - 15s 58ms/step - loss: 0.2558 - accuracy: 0.9293 - val_loss: 5.6366 - val_accuracy: 0.3538\n",
      "Epoch 59/100\n",
      "266/266 [==============================] - 16s 59ms/step - loss: 0.2684 - accuracy: 0.9264 - val_loss: 5.5509 - val_accuracy: 0.3538\n",
      "Epoch 60/100\n",
      "266/266 [==============================] - 16s 59ms/step - loss: 0.2708 - accuracy: 0.9237 - val_loss: 5.2543 - val_accuracy: 0.3405\n",
      "Epoch 61/100\n",
      "266/266 [==============================] - 15s 58ms/step - loss: 0.2747 - accuracy: 0.9216 - val_loss: 5.4043 - val_accuracy: 0.3656\n",
      "Epoch 62/100\n",
      "266/266 [==============================] - 15s 57ms/step - loss: 0.2666 - accuracy: 0.9252 - val_loss: 5.6209 - val_accuracy: 0.3789\n",
      "Epoch 63/100\n",
      "266/266 [==============================] - 16s 58ms/step - loss: 0.2562 - accuracy: 0.9285 - val_loss: 5.5585 - val_accuracy: 0.3582\n",
      "Epoch 64/100\n",
      "266/266 [==============================] - 15s 58ms/step - loss: 0.2660 - accuracy: 0.9250 - val_loss: 5.5092 - val_accuracy: 0.3575\n",
      "Epoch 65/100\n",
      "266/266 [==============================] - 15s 58ms/step - loss: 0.2419 - accuracy: 0.9330 - val_loss: 5.6005 - val_accuracy: 0.3626\n",
      "Epoch 66/100\n",
      "266/266 [==============================] - 16s 61ms/step - loss: 0.2295 - accuracy: 0.9353 - val_loss: 5.8281 - val_accuracy: 0.3575\n",
      "Epoch 67/100\n",
      "266/266 [==============================] - 15s 57ms/step - loss: 0.2262 - accuracy: 0.9382 - val_loss: 6.0444 - val_accuracy: 0.3523\n",
      "Epoch 68/100\n",
      "266/266 [==============================] - 15s 58ms/step - loss: 0.2208 - accuracy: 0.9384 - val_loss: 6.0489 - val_accuracy: 0.3530\n",
      "Epoch 69/100\n",
      "266/266 [==============================] - 15s 57ms/step - loss: 0.2240 - accuracy: 0.9350 - val_loss: 6.2168 - val_accuracy: 0.3471\n",
      "Epoch 70/100\n",
      "266/266 [==============================] - 16s 58ms/step - loss: 0.2443 - accuracy: 0.9324 - val_loss: 5.5886 - val_accuracy: 0.3427\n",
      "Epoch 71/100\n",
      "266/266 [==============================] - 16s 59ms/step - loss: 0.2332 - accuracy: 0.9326 - val_loss: 6.0526 - val_accuracy: 0.3671\n",
      "Epoch 72/100\n",
      "266/266 [==============================] - 15s 58ms/step - loss: 0.2289 - accuracy: 0.9357 - val_loss: 5.8727 - val_accuracy: 0.3663\n",
      "Epoch 73/100\n",
      "266/266 [==============================] - 16s 59ms/step - loss: 0.2222 - accuracy: 0.9372 - val_loss: 5.9439 - val_accuracy: 0.3560\n",
      "Epoch 74/100\n",
      "266/266 [==============================] - 16s 58ms/step - loss: 0.2192 - accuracy: 0.9399 - val_loss: 6.3196 - val_accuracy: 0.3626\n",
      "Epoch 75/100\n",
      "266/266 [==============================] - 15s 58ms/step - loss: 0.2095 - accuracy: 0.9411 - val_loss: 6.0373 - val_accuracy: 0.3560\n",
      "Epoch 76/100\n",
      "266/266 [==============================] - 15s 57ms/step - loss: 0.2032 - accuracy: 0.9438 - val_loss: 6.3464 - val_accuracy: 0.3634\n",
      "Epoch 77/100\n",
      "266/266 [==============================] - 16s 59ms/step - loss: 0.2030 - accuracy: 0.9443 - val_loss: 6.5030 - val_accuracy: 0.3604\n",
      "Epoch 78/100\n",
      "266/266 [==============================] - 15s 58ms/step - loss: 0.2066 - accuracy: 0.9442 - val_loss: 6.6212 - val_accuracy: 0.3582\n",
      "Epoch 79/100\n",
      "266/266 [==============================] - 15s 58ms/step - loss: 0.2056 - accuracy: 0.9429 - val_loss: 6.3897 - val_accuracy: 0.3516\n",
      "Epoch 80/100\n",
      "266/266 [==============================] - 16s 58ms/step - loss: 0.2160 - accuracy: 0.9402 - val_loss: 6.2286 - val_accuracy: 0.3715\n",
      "Epoch 81/100\n",
      "266/266 [==============================] - 15s 58ms/step - loss: 0.2038 - accuracy: 0.9451 - val_loss: 6.3768 - val_accuracy: 0.3530\n",
      "Epoch 82/100\n",
      "266/266 [==============================] - 16s 59ms/step - loss: 0.2129 - accuracy: 0.9372 - val_loss: 6.0912 - val_accuracy: 0.3493\n",
      "Epoch 83/100\n",
      "266/266 [==============================] - 16s 59ms/step - loss: 0.2403 - accuracy: 0.9338 - val_loss: 6.0783 - val_accuracy: 0.3538\n",
      "Epoch 84/100\n",
      "266/266 [==============================] - 15s 57ms/step - loss: 0.2044 - accuracy: 0.9407 - val_loss: 6.2515 - val_accuracy: 0.3427\n",
      "Epoch 85/100\n",
      "266/266 [==============================] - 15s 58ms/step - loss: 0.1936 - accuracy: 0.9456 - val_loss: 6.4217 - val_accuracy: 0.3434\n",
      "Epoch 86/100\n",
      "266/266 [==============================] - 15s 57ms/step - loss: 0.2081 - accuracy: 0.9422 - val_loss: 6.3397 - val_accuracy: 0.3316\n",
      "Epoch 87/100\n",
      "266/266 [==============================] - 16s 59ms/step - loss: 0.2151 - accuracy: 0.9384 - val_loss: 6.3118 - val_accuracy: 0.3501\n",
      "Epoch 88/100\n",
      "266/266 [==============================] - 16s 59ms/step - loss: 0.2004 - accuracy: 0.9443 - val_loss: 6.1558 - val_accuracy: 0.3530\n",
      "Epoch 89/100\n",
      "266/266 [==============================] - 16s 59ms/step - loss: 0.1969 - accuracy: 0.9444 - val_loss: 6.2914 - val_accuracy: 0.3442\n",
      "Epoch 90/100\n",
      "266/266 [==============================] - 16s 59ms/step - loss: 0.1856 - accuracy: 0.9447 - val_loss: 6.5159 - val_accuracy: 0.3493\n",
      "Epoch 91/100\n",
      "266/266 [==============================] - 15s 58ms/step - loss: 0.1769 - accuracy: 0.9504 - val_loss: 6.7649 - val_accuracy: 0.3493\n",
      "Epoch 92/100\n",
      "266/266 [==============================] - 16s 59ms/step - loss: 0.1747 - accuracy: 0.9486 - val_loss: 6.7444 - val_accuracy: 0.3567\n",
      "Epoch 93/100\n",
      "266/266 [==============================] - 15s 58ms/step - loss: 0.1719 - accuracy: 0.9507 - val_loss: 6.8570 - val_accuracy: 0.3575\n",
      "Epoch 94/100\n",
      "266/266 [==============================] - 15s 58ms/step - loss: 0.1698 - accuracy: 0.9523 - val_loss: 6.8866 - val_accuracy: 0.3641\n",
      "Epoch 95/100\n",
      "266/266 [==============================] - 15s 58ms/step - loss: 0.1704 - accuracy: 0.9518 - val_loss: 6.8731 - val_accuracy: 0.3560\n",
      "Epoch 96/100\n",
      "266/266 [==============================] - 16s 59ms/step - loss: 0.1697 - accuracy: 0.9507 - val_loss: 7.0774 - val_accuracy: 0.3663\n",
      "Epoch 97/100\n",
      "266/266 [==============================] - 15s 58ms/step - loss: 0.1735 - accuracy: 0.9511 - val_loss: 7.0508 - val_accuracy: 0.3516\n",
      "Epoch 98/100\n",
      "266/266 [==============================] - 15s 58ms/step - loss: 0.1772 - accuracy: 0.9493 - val_loss: 7.1711 - val_accuracy: 0.3685\n",
      "Epoch 99/100\n",
      "266/266 [==============================] - 15s 58ms/step - loss: 0.1778 - accuracy: 0.9487 - val_loss: 7.0991 - val_accuracy: 0.3619\n",
      "Epoch 100/100\n",
      "266/266 [==============================] - 15s 57ms/step - loss: 0.2057 - accuracy: 0.9430 - val_loss: 6.6025 - val_accuracy: 0.3545\n"
     ]
    }
   ],
   "source": [
    "# Train the model\n",
    "history = model.fit(x_train_pad, y_train, epochs=100, validation_data=(x_test_pad, y_test))"
   ]
  },
  {
   "cell_type": "code",
   "execution_count": null,
   "id": "a6761402",
   "metadata": {},
   "outputs": [],
   "source": []
  },
  {
   "cell_type": "code",
   "execution_count": 106,
   "id": "868fd808",
   "metadata": {},
   "outputs": [],
   "source": [
    "def plot_graphs(history, string):\n",
    "    \"\"\"\n",
    "    Function: Displays changes in monitored loss and metrics during model training\n",
    "    \n",
    "    Arguments: monitoring logs\n",
    "    \n",
    "    Returns: A line graph with changes of loss and metrics over time\n",
    "    \"\"\"\n",
    "    plt.plot(history.history[string])\n",
    "    plt.plot(history.history['val_'+string])\n",
    "    plt.xlabel(\"Epochs\")\n",
    "    plt.ylabel(string)\n",
    "    plt.legend([string, 'val_'+string])\n",
    "    plt.show()"
   ]
  },
  {
   "cell_type": "code",
   "execution_count": 107,
   "id": "be99ed91",
   "metadata": {},
   "outputs": [
    {
     "data": {
      "image/png": "[encoded data removed]",
      "text/plain": [
       "<Figure size 640x480 with 1 Axes>"
      ]
     },
     "metadata": {},
     "output_type": "display_data"
    },
    {
     "data": {
      "image/png": "[encoded data removed]",
      "text/plain": [
       "<Figure size 640x480 with 1 Axes>"
      ]
     },
     "metadata": {},
     "output_type": "display_data"
    }
   ],
   "source": [
    "plot_graphs(history, \"loss\")\n",
    "plot_graphs(history, \"accuracy\")"
   ]
  },
  {
   "cell_type": "code",
   "execution_count": null,
   "id": "82f18dec",
   "metadata": {},
   "outputs": [],
   "source": []
  },
  {
   "cell_type": "code",
   "execution_count": 108,
   "id": "5642e12b",
   "metadata": {},
   "outputs": [
    {
     "name": "stdout",
     "output_type": "stream",
     "text": [
      "43/43 [==============================] - 1s 19ms/step - loss: 6.6025 - accuracy: 0.3545\n",
      "Model accuracy is 35.4505181312561%\n"
     ]
    }
   ],
   "source": [
    "loss, accuracy = model.evaluate(x_test_pad, y_test)\n",
    "print(f\"Model accuracy is {accuracy * 100}%\")"
   ]
  },
  {
   "cell_type": "code",
   "execution_count": 109,
   "id": "6a0e9dbf",
   "metadata": {},
   "outputs": [
    {
     "name": "stdout",
     "output_type": "stream",
     "text": [
      "43/43 [==============================] - 1s 15ms/step\n"
     ]
    },
    {
     "data": {
      "text/plain": [
       "array([2, 4, 3, ..., 6, 3, 5])"
      ]
     },
     "execution_count": 109,
     "metadata": {},
     "output_type": "execute_result"
    }
   ],
   "source": [
    "predicted_proba = np.argmax(model.predict(x_test_pad), axis =-1)\n",
    "predicted_proba"
   ]
  },
  {
   "cell_type": "code",
   "execution_count": 110,
   "id": "01afc361",
   "metadata": {},
   "outputs": [
    {
     "data": {
      "image/png": "[encoded data removed]",
      "text/plain": [
       "<Figure size 600x500 with 2 Axes>"
      ]
     },
     "metadata": {},
     "output_type": "display_data"
    }
   ],
   "source": [
    "confusion_matrix = tf.math.confusion_matrix(y_test, predicted_proba).numpy()\n",
    "cm_df = pd.DataFrame(confusion_matrix,\n",
    "                     index = ['disgust','contempt','anger',\"neutral\",\"joy\",\"sadness\",\"fear\",\"surprise\"], \n",
    "                     columns = ['disgust','contempt','anger',\"neutral\",\"joy\",\"sadness\",\"fear\",\"surprise\"])\n",
    "figure = plt.figure(figsize = (6, 5))\n",
    "sns.heatmap(cm_df, annot=True,fmt='g')\n",
    "plt.tight_layout()\n",
    "plt.ylabel(\"Actual class\")\n",
    "plt.xlabel(\"Predicted class\")\n",
    "plt.title(\"Confusion Matrix of classified emotions\")\n",
    "plt.show()"
   ]
  },
  {
   "cell_type": "code",
   "execution_count": null,
   "id": "490ee408",
   "metadata": {},
   "outputs": [],
   "source": []
  },
  {
   "cell_type": "code",
   "execution_count": null,
   "id": "ecfd8977",
   "metadata": {},
   "outputs": [],
   "source": []
  },
  {
   "cell_type": "code",
   "execution_count": null,
   "id": "07cb72b2",
   "metadata": {},
   "outputs": [],
   "source": []
  },
  {
   "cell_type": "code",
   "execution_count": null,
   "id": "5af3afb4",
   "metadata": {},
   "outputs": [],
   "source": []
  },
  {
   "cell_type": "code",
   "execution_count": null,
   "id": "090b7ef6",
   "metadata": {},
   "outputs": [],
   "source": []
  }
 ],
 "metadata": {
  "kernelspec": {
   "display_name": "Python 3 (ipykernel)",
   "language": "python",
   "name": "python3"
  },
  "language_info": {
   "codemirror_mode": {
    "name": "ipython",
    "version": 3
   },
   "file_extension": ".py",
   "mimetype": "text/x-python",
   "name": "python",
   "nbconvert_exporter": "python",
   "pygments_lexer": "ipython3",
   "version": "3.11.3"
  }
 },
 "nbformat": 4,
 "nbformat_minor": 5
}
