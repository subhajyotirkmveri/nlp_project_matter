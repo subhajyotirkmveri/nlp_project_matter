{
 "cells": [
  {
   "cell_type": "markdown",
   "id": "b095f4ef",
   "metadata": {},
   "source": [
    "# Import Necessary Library"
   ]
  },
  {
   "cell_type": "code",
   "execution_count": 2,
   "id": "559c0d62",
   "metadata": {},
   "outputs": [
    {
     "name": "stdout",
     "output_type": "stream",
     "text": [
      "Defaulting to user installation because normal site-packages is not writeable\n",
      "Requirement already satisfied: nlp_utils in /home/sysadm/.local/lib/python3.10/site-packages (0.6.2)\n",
      "Requirement already satisfied: numpy in /home/sysadm/.local/lib/python3.10/site-packages (from nlp_utils) (1.24.3)\n",
      "Requirement already satisfied: micro-toolkit in /home/sysadm/.local/lib/python3.10/site-packages (from nlp_utils) (0.9.0)\n",
      "Requirement already satisfied: nltk in /home/sysadm/.local/lib/python3.10/site-packages (from nlp_utils) (3.8.1)\n",
      "Requirement already satisfied: joblib in /home/sysadm/.local/lib/python3.10/site-packages (from nltk->nlp_utils) (1.2.0)\n",
      "Requirement already satisfied: tqdm in /home/sysadm/.local/lib/python3.10/site-packages (from nltk->nlp_utils) (4.66.1)\n",
      "Requirement already satisfied: click in /home/sysadm/.local/lib/python3.10/site-packages (from nltk->nlp_utils) (8.1.3)\n",
      "Requirement already satisfied: regex>=2021.8.3 in /home/sysadm/.local/lib/python3.10/site-packages (from nltk->nlp_utils) (2023.8.8)\n",
      "Defaulting to user installation because normal site-packages is not writeable\n",
      "Requirement already satisfied: langid in /home/sysadm/.local/lib/python3.10/site-packages (1.1.6)\n",
      "Requirement already satisfied: numpy in /home/sysadm/.local/lib/python3.10/site-packages (from langid) (1.24.3)\n",
      "Defaulting to user installation because normal site-packages is not writeable\n",
      "Requirement already satisfied: stop-words in /home/sysadm/.local/lib/python3.10/site-packages (2018.7.23)\n",
      "Defaulting to user installation because normal site-packages is not writeable\n",
      "Requirement already satisfied: stop-words in /home/sysadm/.local/lib/python3.10/site-packages (2018.7.23)\n",
      "Defaulting to user installation because normal site-packages is not writeable\n",
      "Requirement already satisfied: indic-transliteration in /home/sysadm/.local/lib/python3.10/site-packages (2.3.52)\n",
      "Requirement already satisfied: backports.functools-lru-cache in /home/sysadm/.local/lib/python3.10/site-packages (from indic-transliteration) (1.6.6)\n",
      "Requirement already satisfied: toml in /home/sysadm/.local/lib/python3.10/site-packages (from indic-transliteration) (0.10.2)\n",
      "Requirement already satisfied: roman in /home/sysadm/.local/lib/python3.10/site-packages (from indic-transliteration) (4.1)\n",
      "Requirement already satisfied: regex in /home/sysadm/.local/lib/python3.10/site-packages (from indic-transliteration) (2023.8.8)\n",
      "Requirement already satisfied: typer in /home/sysadm/.local/lib/python3.10/site-packages (from indic-transliteration) (0.9.0)\n",
      "Requirement already satisfied: click<9.0.0,>=7.1.1 in /home/sysadm/.local/lib/python3.10/site-packages (from typer->indic-transliteration) (8.1.3)\n",
      "Requirement already satisfied: typing-extensions>=3.7.4.3 in /home/sysadm/.local/lib/python3.10/site-packages (from typer->indic-transliteration) (4.8.0)\n"
     ]
    }
   ],
   "source": [
    "import json\n",
    "import nltk\n",
    "\n",
    "!pip install nlp_utils\n",
    "import pandas as pd\n",
    "import numpy as np\n",
    "import torch\n",
    "import pickle\n",
    "import tqdm\n",
    "import random\n",
    "\n",
    "from collections import Counter\n",
    "\n",
    "import string\n",
    "string.punctuation\n",
    "!pip install langid\n",
    "from nltk.tokenize import word_tokenize\n",
    "from nltk.corpus import stopwords\n",
    "import string\n",
    "#nltk.download('punkt')\n",
    "#nltk.download('stopwords')\n",
    "\n",
    "!pip install stop-words\n",
    "!pip install stop-words\n",
    "\n",
    "from stop_words import get_stop_words\n",
    "\n",
    "#!pip install googletrans==4.0.0-rc1\n",
    "!pip install indic-transliteration\n",
    "from indic_transliteration import sanscript\n",
    "\n",
    "# Define the source and target scripts\n",
    "source_script = sanscript.DEVANAGARI\n",
    "target_script = sanscript.ITRANS\n",
    "\n",
    "import pandas as pd\n",
    "from sklearn.feature_extraction.text import CountVectorizer\n",
    "from sklearn.model_selection import train_test_split\n",
    "from sklearn.metrics import classification_report, confusion_matrix\n",
    "import matplotlib.pyplot as plt\n"
   ]
  },
  {
   "cell_type": "code",
   "execution_count": 52,
   "id": "30399147",
   "metadata": {},
   "outputs": [],
   "source": [
    "from sklearn.metrics import confusion_matrix\n",
    "from sklearn.metrics import accuracy_score\n",
    "\n",
    "import matplotlib.pyplot as plt\n",
    "from sklearn.neighbors import KNeighborsClassifier\n",
    "from sklearn.metrics import confusion_matrix\n",
    "\n",
    "import numpy as np\n",
    "import pandas as pd\n",
    "import matplotlib.pyplot as plt\n",
    "from sklearn.svm import SVC\n",
    "\n",
    "from sklearn.utils import resample\n",
    "\n",
    "from sklearn.linear_model import LogisticRegression\n",
    "from sklearn.model_selection import train_test_split\n",
    "from sklearn.metrics import confusion_matrix, accuracy_score\n",
    "\n",
    "from sklearn.naive_bayes import MultinomialNB"
   ]
  },
  {
   "cell_type": "markdown",
   "id": "1c74ef58",
   "metadata": {},
   "source": [
    "# Open the JSON file"
   ]
  },
  {
   "cell_type": "code",
   "execution_count": 53,
   "id": "712d7cf1",
   "metadata": {},
   "outputs": [],
   "source": [
    "# Open and parse the Training JSON file\n",
    "with open('.//MaSaC_train_erc.json', 'r') as json_file:\n",
    "    train_data = json.load(json_file)"
   ]
  },
  {
   "cell_type": "code",
   "execution_count": 54,
   "id": "2a538a99",
   "metadata": {
    "scrolled": true
   },
   "outputs": [
    {
     "data": {
      "text/plain": [
       "{'episode': 'roseshantstobeadopted.wmv',\n",
       " 'speakers': ['maya',\n",
       "  'indu',\n",
       "  'rosesh',\n",
       "  'indu',\n",
       "  'maya',\n",
       "  'indu',\n",
       "  'rosesh',\n",
       "  'indu',\n",
       "  'sahil',\n",
       "  'rosesh',\n",
       "  'maya',\n",
       "  'indu',\n",
       "  'sahil',\n",
       "  'monish',\n",
       "  'maya',\n",
       "  'indu',\n",
       "  'maya',\n",
       "  'indu',\n",
       "  'indu',\n",
       "  'maya',\n",
       "  'rosesh',\n",
       "  'maya'],\n",
       " 'utterances': ['kya kya bhar ke rakha hai indravadan ne is ghar mein indravadan please tum sari bekar ki chijen bahar kyon nahin fekte?',\n",
       "  'ok, chalo rosesh chalo bahar',\n",
       "  'momma! hath chhodiye dad!',\n",
       "  'dekho maya ya na bol raha hai! fir tum hi kahogi faltu chijen jama karte ho fekte nahin ho, chalo',\n",
       "  'indravadan, tum kitne salo se ye joke maar rahe ho. koi hota hai aaj tak?',\n",
       "  'kaikai pe joke maroge to manthra thodi na hasegi',\n",
       "  'very funny',\n",
       "  'maya, monisha aur sahil aa rahe hain, dekhna yahi jo un per istemal karta hun aur dekhna vah kitna haste hain',\n",
       "  'hi guys',\n",
       "  'hi',\n",
       "  'hi darling. achcha indravadan, please ya kachra bahar fenko!',\n",
       "  'ok maya, chalo rosesh tumhen bahar fenk au',\n",
       "  'mom! diwali ka lunch hamare ghar pe',\n",
       "  'aur mein khana fresh banane wali hun',\n",
       "  'i rest my case indravadan. hase donon, huh? achcha ab to please kachra bahar fenk do',\n",
       "  'ok maya, chalo monisha tumhe bahar fenk aau',\n",
       "  'ha ha ha, indravadan you are so funny',\n",
       "  'haila, sahil! tumhare diwali lunch per hai na maiya ko keede, makode aur mukhiya khilana',\n",
       "  'kyunki jab maine wahi joke rosesh pe mara to bilkul nahin hasi lekin vahi joke jab maine monisha per mara to dekho kaise has rahi hai!',\n",
       "  'acha now cut it out huh indravadan. rosesh sweety tumhi nikalo na sara kachra bahar',\n",
       "  'ok chaliye dad, mein aapko bahar fenk kar aata hun!',\n",
       "  'haha, you asked for that one. sahil darling tumhi madad kar do please meri. mera ghar to ekadam monisha ka ghar ban gaya hai!'],\n",
       " 'emotions': ['disgust',\n",
       "  'contempt',\n",
       "  'anger',\n",
       "  'neutral',\n",
       "  'neutral',\n",
       "  'contempt',\n",
       "  'contempt',\n",
       "  'neutral',\n",
       "  'joy',\n",
       "  'joy',\n",
       "  'neutral',\n",
       "  'neutral',\n",
       "  'joy',\n",
       "  'joy',\n",
       "  'neutral',\n",
       "  'neutral',\n",
       "  'joy',\n",
       "  'neutral',\n",
       "  'contempt',\n",
       "  'neutral',\n",
       "  'joy',\n",
       "  'contempt']}"
      ]
     },
     "execution_count": 54,
     "metadata": {},
     "output_type": "execute_result"
    }
   ],
   "source": [
    "train_data[0]"
   ]
  },
  {
   "cell_type": "code",
   "execution_count": null,
   "id": "f9f599fc",
   "metadata": {},
   "outputs": [],
   "source": []
  },
  {
   "cell_type": "code",
   "execution_count": 55,
   "id": "12b9c0bb",
   "metadata": {},
   "outputs": [],
   "source": [
    "# Open and parse the validation JSON file\n",
    "with open('.//MaSaC_val_erc.json', 'r') as json_file:\n",
    "    validation_data = json.load(json_file)"
   ]
  },
  {
   "cell_type": "code",
   "execution_count": 56,
   "id": "f5897476",
   "metadata": {
    "scrolled": true
   },
   "outputs": [
    {
     "data": {
      "text/plain": [
       "{'episode': 'roseshantstobeadopted.wmv',\n",
       " 'speakers': ['good rosesh',\n",
       "  'bad rosesh',\n",
       "  'good rosesh',\n",
       "  'bad rosesh',\n",
       "  'good rosesh',\n",
       "  'bad rosesh',\n",
       "  'good rosesh',\n",
       "  'bad rosesh',\n",
       "  'good rosesh',\n",
       "  'rosesh',\n",
       "  'rosesh',\n",
       "  'maya',\n",
       "  'rosesh'],\n",
       " 'utterances': ['ye kya kar raha hai rosesh? bharat tera desh! bhartiya insan hai saccha. kisi ka khat padhna nahin hai achcha.',\n",
       "  'hahaha khat padh le rosesh baby or padhne de hamen bhi. kitna achcha lagta hai balon mein gel, ding dong bell.',\n",
       "  'kavita acchi hai lekin khayal achcha nahin hai, villain rosesh. momma ne kaha hai kisi aur ka khat padhna galat baat hai',\n",
       "  'galat hai, par momma ne tumse kaha tha ki do bar brush karna aur tumne sirf ek bar kiya tha kya vah galat nahin tha?',\n",
       "  'galat tha per',\n",
       "  'momma ne tumse jab green chatni mangi thi aur tumne red pass ki thi kya vah galat nahin tha?',\n",
       "  'wo to galat tha',\n",
       "  'pichhle sal momma ki nayi hair style ostrich jesi thi aur tumne unhen apsara kaha tha kya vah galat nahin tha?',\n",
       "  'han tha tha tha!',\n",
       "  'please please please, tum log jara sophisticated argument karo na varna momma kahenge ki meri antaratma bahut middle class hai. tum log decide kar lo tab tak main yah lifafa khol ke padh leta hun.',\n",
       "  '\"my darling husband indravadan\" yah to momma ki handwriting hai...',\n",
       "  'darling i know ki ham do hamare do is so middle class. isiliye to humne teesra bachcha plan kiya tha haina? lekin present circumstances ko dekh ke i am not so sure. is topic pe main tumse baat nahin kar sakti isiliye khat likh rahi hun, but kya hamen sachmuch mein yah teesra baccha. i am so confused indravadan',\n",
       "  'momma...'],\n",
       " 'emotions': ['neutral',\n",
       "  'neutral',\n",
       "  'neutral',\n",
       "  'contempt',\n",
       "  'neutral',\n",
       "  'contempt',\n",
       "  'neutral',\n",
       "  'contempt',\n",
       "  'neutral',\n",
       "  'neutral',\n",
       "  'neutral',\n",
       "  'sadness',\n",
       "  'sadness']}"
      ]
     },
     "execution_count": 56,
     "metadata": {},
     "output_type": "execute_result"
    }
   ],
   "source": [
    "validation_data[0]"
   ]
  },
  {
   "cell_type": "code",
   "execution_count": null,
   "id": "d89c29ee",
   "metadata": {},
   "outputs": [],
   "source": []
  },
  {
   "cell_type": "markdown",
   "id": "9f2543ef",
   "metadata": {},
   "source": [
    "# Total number of episode in Training Data"
   ]
  },
  {
   "cell_type": "code",
   "execution_count": 57,
   "id": "eabf6688",
   "metadata": {},
   "outputs": [
    {
     "name": "stdout",
     "output_type": "stream",
     "text": [
      "Total episode topics: 343\n"
     ]
    }
   ],
   "source": [
    "# Create a list to store  episode names\n",
    "total_episodes_1 = []\n",
    "\n",
    "for conversation in train_data:\n",
    "    episode = conversation[\"episode\"]\n",
    "\n",
    "    # Add the episode name to the set of unique episodes\n",
    "    total_episodes_1.append(episode)\n",
    "\n",
    "\n",
    "# Print the total number of  conversation topics or episodes\n",
    "print(\"Total episode topics:\", len(total_episodes_1))"
   ]
  },
  {
   "cell_type": "code",
   "execution_count": null,
   "id": "42de1ae3",
   "metadata": {},
   "outputs": [],
   "source": []
  },
  {
   "cell_type": "raw",
   "id": "64f1adc5-1c05-440c-b1dd-066836d14134",
   "metadata": {},
   "source": [
    "# To view all episode name"
   ]
  },
  {
   "cell_type": "raw",
   "id": "56bfa949-3a04-4152-8125-f78a02c13439",
   "metadata": {},
   "source": [
    "total_episodes_1"
   ]
  },
  {
   "cell_type": "markdown",
   "id": "42fc6dd7",
   "metadata": {},
   "source": [
    "# Distinct Episode name in Training coversation"
   ]
  },
  {
   "cell_type": "code",
   "execution_count": 58,
   "id": "1c77de94",
   "metadata": {
    "scrolled": true
   },
   "outputs": [
    {
     "name": "stdout",
     "output_type": "stream",
     "text": [
      "Unique episode names: {'khilawal.wmv', 'roseshnayadon.wmv', 'monishacomplainsofsahil.wmv', 'husbandsdonotcheat.avi', 'prefinale', 'scrabblecompetition.avi', 'prankonindravadhan', 'doggy', 'patang', 'finale.avi', 'bachelor.wmv', 'playatcharityfunction', 'newcar', 'roseshmarriesrita.wmw', 'jaspal.wmv', 'mayaonacleaningdrive.wmv', 'kavi.wmv', 'election', 'monishasuicideattempt.wmv', 'baldev', 'neelimaverma.wmv', 'jugalkishore.wmv', 'video1.wmv', 'roseshantstobeadopted.wmv', 'mayamonishabday.avi', 'sharman.wmw', 'soniyaprediction.avi', 'mayadoubtsindravardhan.wmv', 'monishaadaptstohighsociety', 'lease2.wmv', 'roseshpoetrypublication.wmv', 'african', 'cricket.wmv', 'introductiontothesarabhaifamily.avi', 'radhabaileaves', 'dushyant', 'bachlorparty', 'mayaleavesindravardhan.wmv', 'mayabetmonisha.wmv', 'sahillovestory.wmv', 'mayaleavesindravardhan(1) (1).wmv', 'mayanighmare', 'lease1.wmv', 'indravadanmissing.avi', 'roseshaccident', 'popatlal', 'sahilmarriesmonisha.wmv', 'yamraj.wmv', 'monishasspeechonmaya.wmv'}\n",
      "Total unique episodes: 49\n"
     ]
    }
   ],
   "source": [
    "# Convert the list of episode names to a set to get unique episodes\n",
    "unique_episodes_1 = set(total_episodes_1)\n",
    "\n",
    "# Print the unique episode names\n",
    "print(\"Unique episode names:\", unique_episodes_1)\n",
    "\n",
    "# Print the total number of unique episodes\n",
    "print(\"Total unique episodes:\", len(unique_episodes_1))"
   ]
  },
  {
   "cell_type": "raw",
   "id": "688c26ff",
   "metadata": {},
   "source": [
    "To find how many times each episode name occurs in conversation"
   ]
  },
  {
   "cell_type": "code",
   "execution_count": 59,
   "id": "a735c727",
   "metadata": {
    "scrolled": true
   },
   "outputs": [
    {
     "name": "stdout",
     "output_type": "stream",
     "text": [
      "roseshantstobeadopted.wmv occurs 5 times\n",
      "video1.wmv occurs 8 times\n",
      "yamraj.wmv occurs 7 times\n",
      "finale.avi occurs 13 times\n",
      "indravadanmissing.avi occurs 7 times\n",
      "sharman.wmw occurs 6 times\n",
      "soniyaprediction.avi occurs 7 times\n",
      "bachelor.wmv occurs 7 times\n",
      "cricket.wmv occurs 8 times\n",
      "husbandsdonotcheat.avi occurs 11 times\n",
      "introductiontothesarabhaifamily.avi occurs 6 times\n",
      "jugalkishore.wmv occurs 8 times\n",
      "kavi.wmv occurs 4 times\n",
      "lease1.wmv occurs 8 times\n",
      "lease2.wmv occurs 7 times\n",
      "mayaleavesindravardhan(1) (1).wmv occurs 6 times\n",
      "mayadoubtsindravardhan.wmv occurs 6 times\n",
      "jaspal.wmv occurs 5 times\n",
      "khilawal.wmv occurs 4 times\n",
      "mayabetmonisha.wmv occurs 10 times\n",
      "mayaleavesindravardhan.wmv occurs 6 times\n",
      "mayamonishabday.avi occurs 6 times\n",
      "mayanighmare occurs 5 times\n",
      "mayaonacleaningdrive.wmv occurs 9 times\n",
      "monishaadaptstohighsociety occurs 6 times\n",
      "roseshnayadon.wmv occurs 5 times\n",
      "roseshmarriesrita.wmw occurs 6 times\n",
      "roseshpoetrypublication.wmv occurs 6 times\n",
      "sahillovestory.wmv occurs 5 times\n",
      "sahilmarriesmonisha.wmv occurs 8 times\n",
      "scrabblecompetition.avi occurs 4 times\n",
      "baldev occurs 8 times\n",
      "dushyant occurs 9 times\n",
      "election occurs 15 times\n",
      "playatcharityfunction occurs 6 times\n",
      "prankonindravadhan occurs 10 times\n",
      "roseshaccident occurs 5 times\n",
      "african occurs 6 times\n",
      "bachlorparty occurs 7 times\n",
      "doggy occurs 11 times\n",
      "monishacomplainsofsahil.wmv occurs 7 times\n",
      "monishasspeechonmaya.wmv occurs 7 times\n",
      "monishasuicideattempt.wmv occurs 4 times\n",
      "neelimaverma.wmv occurs 6 times\n",
      "newcar occurs 8 times\n",
      "patang occurs 6 times\n",
      "popatlal occurs 5 times\n",
      "prefinale occurs 8 times\n",
      "radhabaileaves occurs 6 times\n"
     ]
    }
   ],
   "source": [
    "total_episodes_1\n",
    "\n",
    "episode_counts = {}\n",
    "\n",
    "for episode_title in total_episodes_1:\n",
    "    episode_counts[episode_title] = episode_counts.get(episode_title, 0) + 1\n",
    "\n",
    "for title, count in episode_counts.items():\n",
    "    print(f\"{title} occurs {count} times\")"
   ]
  },
  {
   "cell_type": "raw",
   "id": "7448d71b",
   "metadata": {},
   "source": [
    "Convert all utterance of each episode into a single DataFrame"
   ]
  },
  {
   "cell_type": "code",
   "execution_count": 60,
   "id": "d8fbab51",
   "metadata": {},
   "outputs": [
    {
     "data": {
      "text/html": [
       "<div>\n",
       "<style scoped>\n",
       "    .dataframe tbody tr th:only-of-type {\n",
       "        vertical-align: middle;\n",
       "    }\n",
       "\n",
       "    .dataframe tbody tr th {\n",
       "        vertical-align: top;\n",
       "    }\n",
       "\n",
       "    .dataframe thead th {\n",
       "        text-align: right;\n",
       "    }\n",
       "</style>\n",
       "<table border=\"1\" class=\"dataframe\">\n",
       "  <thead>\n",
       "    <tr style=\"text-align: right;\">\n",
       "      <th></th>\n",
       "      <th>Episode</th>\n",
       "      <th>Speakers</th>\n",
       "      <th>Utterances</th>\n",
       "      <th>Emotions</th>\n",
       "    </tr>\n",
       "  </thead>\n",
       "  <tbody>\n",
       "    <tr>\n",
       "      <th>0</th>\n",
       "      <td>roseshantstobeadopted.wmv</td>\n",
       "      <td>maya</td>\n",
       "      <td>kya kya bhar ke rakha hai indravadan ne is gha...</td>\n",
       "      <td>disgust</td>\n",
       "    </tr>\n",
       "    <tr>\n",
       "      <th>1</th>\n",
       "      <td>roseshantstobeadopted.wmv</td>\n",
       "      <td>indu</td>\n",
       "      <td>ok, chalo rosesh chalo bahar</td>\n",
       "      <td>contempt</td>\n",
       "    </tr>\n",
       "    <tr>\n",
       "      <th>2</th>\n",
       "      <td>roseshantstobeadopted.wmv</td>\n",
       "      <td>rosesh</td>\n",
       "      <td>momma! hath chhodiye dad!</td>\n",
       "      <td>anger</td>\n",
       "    </tr>\n",
       "    <tr>\n",
       "      <th>3</th>\n",
       "      <td>roseshantstobeadopted.wmv</td>\n",
       "      <td>indu</td>\n",
       "      <td>dekho maya ya na bol raha hai! fir tum hi kaho...</td>\n",
       "      <td>neutral</td>\n",
       "    </tr>\n",
       "    <tr>\n",
       "      <th>4</th>\n",
       "      <td>roseshantstobeadopted.wmv</td>\n",
       "      <td>maya</td>\n",
       "      <td>indravadan, tum kitne salo se ye joke maar rah...</td>\n",
       "      <td>neutral</td>\n",
       "    </tr>\n",
       "  </tbody>\n",
       "</table>\n",
       "</div>"
      ],
      "text/plain": [
       "                     Episode Speakers  \\\n",
       "0  roseshantstobeadopted.wmv     maya   \n",
       "1  roseshantstobeadopted.wmv     indu   \n",
       "2  roseshantstobeadopted.wmv   rosesh   \n",
       "3  roseshantstobeadopted.wmv     indu   \n",
       "4  roseshantstobeadopted.wmv     maya   \n",
       "\n",
       "                                          Utterances  Emotions  \n",
       "0  kya kya bhar ke rakha hai indravadan ne is gha...   disgust  \n",
       "1                       ok, chalo rosesh chalo bahar  contempt  \n",
       "2                          momma! hath chhodiye dad!     anger  \n",
       "3  dekho maya ya na bol raha hai! fir tum hi kaho...   neutral  \n",
       "4  indravadan, tum kitne salo se ye joke maar rah...   neutral  "
      ]
     },
     "execution_count": 60,
     "metadata": {},
     "output_type": "execute_result"
    }
   ],
   "source": [
    "import pandas as pd\n",
    "\n",
    "\n",
    "# Create an empty list to store the data for each conversation\n",
    "conversation_data = []\n",
    "\n",
    "# Iterate through the JSON data and construct a DataFrame for each conversation\n",
    "for conversation in train_data:\n",
    "    episode = conversation[\"episode\"]\n",
    "    speakers = conversation[\"speakers\"]\n",
    "    utterances = conversation[\"utterances\"]\n",
    "    emotions = conversation[\"emotions\"]\n",
    "\n",
    "    # Create a DataFrame for the current conversation\n",
    "    df = pd.DataFrame({\n",
    "        \"Episode\": [episode] * len(speakers),\n",
    "        \"Speakers\": speakers,\n",
    "        \"Utterances\": utterances,\n",
    "        \"Emotions\": emotions\n",
    "    })\n",
    "\n",
    "    # Append the DataFrame to the list\n",
    "    conversation_data.append(df)\n",
    "\n",
    "# Concatenate all conversation DataFrames into one DataFrame\n",
    "train_df = pd.concat(conversation_data, ignore_index=True)\n",
    "train_df.head(5)"
   ]
  },
  {
   "cell_type": "code",
   "execution_count": 61,
   "id": "7fa211b3",
   "metadata": {},
   "outputs": [],
   "source": [
    "#validation_data"
   ]
  },
  {
   "cell_type": "code",
   "execution_count": 62,
   "id": "181ba314",
   "metadata": {
    "scrolled": true
   },
   "outputs": [
    {
     "data": {
      "text/html": [
       "<div>\n",
       "<style scoped>\n",
       "    .dataframe tbody tr th:only-of-type {\n",
       "        vertical-align: middle;\n",
       "    }\n",
       "\n",
       "    .dataframe tbody tr th {\n",
       "        vertical-align: top;\n",
       "    }\n",
       "\n",
       "    .dataframe thead th {\n",
       "        text-align: right;\n",
       "    }\n",
       "</style>\n",
       "<table border=\"1\" class=\"dataframe\">\n",
       "  <thead>\n",
       "    <tr style=\"text-align: right;\">\n",
       "      <th></th>\n",
       "      <th>Episode</th>\n",
       "      <th>Speakers</th>\n",
       "      <th>Utterances</th>\n",
       "      <th>Emotions</th>\n",
       "    </tr>\n",
       "  </thead>\n",
       "  <tbody>\n",
       "    <tr>\n",
       "      <th>0</th>\n",
       "      <td>roseshantstobeadopted.wmv</td>\n",
       "      <td>good rosesh</td>\n",
       "      <td>ye kya kar raha hai rosesh? bharat tera desh! ...</td>\n",
       "      <td>neutral</td>\n",
       "    </tr>\n",
       "    <tr>\n",
       "      <th>1</th>\n",
       "      <td>roseshantstobeadopted.wmv</td>\n",
       "      <td>bad rosesh</td>\n",
       "      <td>hahaha khat padh le rosesh baby or padhne de h...</td>\n",
       "      <td>neutral</td>\n",
       "    </tr>\n",
       "    <tr>\n",
       "      <th>2</th>\n",
       "      <td>roseshantstobeadopted.wmv</td>\n",
       "      <td>good rosesh</td>\n",
       "      <td>kavita acchi hai lekin khayal achcha nahin hai...</td>\n",
       "      <td>neutral</td>\n",
       "    </tr>\n",
       "    <tr>\n",
       "      <th>3</th>\n",
       "      <td>roseshantstobeadopted.wmv</td>\n",
       "      <td>bad rosesh</td>\n",
       "      <td>galat hai, par momma ne tumse kaha tha ki do b...</td>\n",
       "      <td>contempt</td>\n",
       "    </tr>\n",
       "    <tr>\n",
       "      <th>4</th>\n",
       "      <td>roseshantstobeadopted.wmv</td>\n",
       "      <td>good rosesh</td>\n",
       "      <td>galat tha per</td>\n",
       "      <td>neutral</td>\n",
       "    </tr>\n",
       "  </tbody>\n",
       "</table>\n",
       "</div>"
      ],
      "text/plain": [
       "                     Episode     Speakers  \\\n",
       "0  roseshantstobeadopted.wmv  good rosesh   \n",
       "1  roseshantstobeadopted.wmv   bad rosesh   \n",
       "2  roseshantstobeadopted.wmv  good rosesh   \n",
       "3  roseshantstobeadopted.wmv   bad rosesh   \n",
       "4  roseshantstobeadopted.wmv  good rosesh   \n",
       "\n",
       "                                          Utterances  Emotions  \n",
       "0  ye kya kar raha hai rosesh? bharat tera desh! ...   neutral  \n",
       "1  hahaha khat padh le rosesh baby or padhne de h...   neutral  \n",
       "2  kavita acchi hai lekin khayal achcha nahin hai...   neutral  \n",
       "3  galat hai, par momma ne tumse kaha tha ki do b...  contempt  \n",
       "4                                      galat tha per   neutral  "
      ]
     },
     "execution_count": 62,
     "metadata": {},
     "output_type": "execute_result"
    }
   ],
   "source": [
    "import pandas as pd\n",
    "\n",
    "\n",
    "# Create an empty list to store the data for each conversation\n",
    "conversation_data = []\n",
    "\n",
    "# Iterate through the JSON data and construct a DataFrame for each conversation\n",
    "for conversation in validation_data:\n",
    "    episode = conversation[\"episode\"]\n",
    "    speakers = conversation[\"speakers\"]\n",
    "    utterances = conversation[\"utterances\"]\n",
    "    emotions = conversation[\"emotions\"]\n",
    "\n",
    "    # Create a DataFrame for the current conversation\n",
    "    df = pd.DataFrame({\n",
    "        \"Episode\": [episode] * len(speakers),\n",
    "        \"Speakers\": speakers,\n",
    "        \"Utterances\": utterances,\n",
    "        \"Emotions\": emotions\n",
    "    })\n",
    "\n",
    "    # Append the DataFrame to the list\n",
    "    conversation_data.append(df)\n",
    "\n",
    "# Concatenate all conversation DataFrames into one DataFrame\n",
    "val_df = pd.concat(conversation_data, ignore_index=True)\n",
    "val_df.head(5)"
   ]
  },
  {
   "cell_type": "raw",
   "id": "9af75358",
   "metadata": {},
   "source": [
    " distinct emotions exist in whole training conversation"
   ]
  },
  {
   "cell_type": "code",
   "execution_count": 63,
   "id": "9a496a5e",
   "metadata": {},
   "outputs": [
    {
     "name": "stdout",
     "output_type": "stream",
     "text": [
      "Distinct Emotions:\n",
      "disgust\n",
      "contempt\n",
      "anger\n",
      "neutral\n",
      "joy\n",
      "sadness\n",
      "fear\n",
      "surprise\n"
     ]
    }
   ],
   "source": [
    "# Find distinct emotions\n",
    "distinct_emotions = train_df['Emotions'].unique()\n",
    "\n",
    "# Print distinct emotions\n",
    "print(\"Distinct Emotions:\")\n",
    "for emotion in distinct_emotions:\n",
    "    print(emotion)"
   ]
  },
  {
   "cell_type": "code",
   "execution_count": 64,
   "id": "d1aadf67",
   "metadata": {},
   "outputs": [
    {
     "name": "stdout",
     "output_type": "stream",
     "text": [
      "Distinct Emotions:\n",
      "neutral\n",
      "contempt\n",
      "sadness\n",
      "fear\n",
      "joy\n",
      "surprise\n",
      "anger\n",
      "disgust\n"
     ]
    }
   ],
   "source": [
    "# Find distinct emotions\n",
    "distinct_emotions = val_df['Emotions'].unique()\n",
    "\n",
    "# Print distinct emotions\n",
    "print(\"Distinct Emotions:\")\n",
    "for emotion in distinct_emotions:\n",
    "    print(emotion)"
   ]
  },
  {
   "cell_type": "raw",
   "id": "345bc1e3",
   "metadata": {},
   "source": [
    "Visualise the emotion status count in training conversation"
   ]
  },
  {
   "cell_type": "code",
   "execution_count": 65,
   "id": "3987d419",
   "metadata": {},
   "outputs": [
    {
     "data": {
      "image/png": "[encoded data removed]",
      "text/plain": [
       "<Figure size 800x500 with 1 Axes>"
      ]
     },
     "metadata": {},
     "output_type": "display_data"
    }
   ],
   "source": [
    "# Count the occurrences of each emotion\n",
    "emotion_counts = train_df['Emotions'].value_counts()\n",
    "\n",
    "# Create a bar plot\n",
    "plt.figure(figsize=(8, 5))\n",
    "emotion_counts.plot(kind='bar', color='skyblue')\n",
    "plt.title('Emotion Occurrences')\n",
    "plt.xlabel('Emotion')\n",
    "plt.ylabel('Count')\n",
    "plt.xticks(rotation=45)\n",
    "plt.tight_layout()\n",
    "plt.grid()\n",
    "# Show the plot\n",
    "plt.show()"
   ]
  },
  {
   "cell_type": "code",
   "execution_count": null,
   "id": "8c8a61a2",
   "metadata": {},
   "outputs": [],
   "source": []
  },
  {
   "cell_type": "raw",
   "id": "c8a3cbfb",
   "metadata": {},
   "source": [
    "Define the Hindi Stopwords"
   ]
  },
  {
   "cell_type": "code",
   "execution_count": 66,
   "id": "edefb044",
   "metadata": {},
   "outputs": [],
   "source": [
    "hindi_stopwords = get_stop_words('hi')  # 'hi' is the ISO 639-1 code for Hindi\n",
    "hindi_stopwords\n",
    "\n",
    "# Transliterate Hindi to Roman script (English characters)\n",
    "transliterated_text = [sanscript.transliterate(word, source_script, target_script) for word in hindi_stopwords]\n",
    "\n",
    "# Convert transliterated words to lowercase\n",
    "lowercase_transliterated_text = [word.lower() for word in transliterated_text]\n"
   ]
  },
  {
   "cell_type": "markdown",
   "id": "ab00e00c",
   "metadata": {},
   "source": [
    "# combined list of stopwords for both English and Hindi"
   ]
  },
  {
   "cell_type": "code",
   "execution_count": 67,
   "id": "92f9ed72",
   "metadata": {},
   "outputs": [],
   "source": [
    "english_stopwords = set(stopwords.words('english'))\n",
    "stop_words = set(english_stopwords)  # English stopwords\n",
    "\n",
    "# Add Hindi stopwords to the set\n",
    "hindi_stop_words = set(lowercase_transliterated_text)  # Add your Hindi stopwords here\n",
    "\n",
    "stop_words.update(hindi_stop_words)\n",
    "#stop_words"
   ]
  },
  {
   "cell_type": "code",
   "execution_count": null,
   "id": "66f6fcbb",
   "metadata": {},
   "outputs": [],
   "source": []
  },
  {
   "cell_type": "markdown",
   "id": "6147fc29",
   "metadata": {},
   "source": [
    "# Preprocessing code for each utterance"
   ]
  },
  {
   "cell_type": "code",
   "execution_count": 68,
   "id": "9db98244-46cb-446e-a951-a59fbd05f9d6",
   "metadata": {},
   "outputs": [
    {
     "data": {
      "text/html": [
       "<div>\n",
       "<style scoped>\n",
       "    .dataframe tbody tr th:only-of-type {\n",
       "        vertical-align: middle;\n",
       "    }\n",
       "\n",
       "    .dataframe tbody tr th {\n",
       "        vertical-align: top;\n",
       "    }\n",
       "\n",
       "    .dataframe thead th {\n",
       "        text-align: right;\n",
       "    }\n",
       "</style>\n",
       "<table border=\"1\" class=\"dataframe\">\n",
       "  <thead>\n",
       "    <tr style=\"text-align: right;\">\n",
       "      <th></th>\n",
       "      <th>Episode</th>\n",
       "      <th>Speakers</th>\n",
       "      <th>Utterances</th>\n",
       "      <th>Emotions</th>\n",
       "    </tr>\n",
       "  </thead>\n",
       "  <tbody>\n",
       "    <tr>\n",
       "      <th>0</th>\n",
       "      <td>roseshantstobeadopted.wmv</td>\n",
       "      <td>maya</td>\n",
       "      <td>kya kya bhar ke rakha hai indravadan ne is gha...</td>\n",
       "      <td>disgust</td>\n",
       "    </tr>\n",
       "    <tr>\n",
       "      <th>1</th>\n",
       "      <td>roseshantstobeadopted.wmv</td>\n",
       "      <td>indu</td>\n",
       "      <td>ok, chalo rosesh chalo bahar</td>\n",
       "      <td>contempt</td>\n",
       "    </tr>\n",
       "  </tbody>\n",
       "</table>\n",
       "</div>"
      ],
      "text/plain": [
       "                     Episode Speakers  \\\n",
       "0  roseshantstobeadopted.wmv     maya   \n",
       "1  roseshantstobeadopted.wmv     indu   \n",
       "\n",
       "                                          Utterances  Emotions  \n",
       "0  kya kya bhar ke rakha hai indravadan ne is gha...   disgust  \n",
       "1                       ok, chalo rosesh chalo bahar  contempt  "
      ]
     },
     "execution_count": 68,
     "metadata": {},
     "output_type": "execute_result"
    }
   ],
   "source": [
    "train_df.head(2)"
   ]
  },
  {
   "cell_type": "code",
   "execution_count": 69,
   "id": "233b0da2-be01-4807-99bf-4d1a841c1611",
   "metadata": {
    "scrolled": true
   },
   "outputs": [
    {
     "name": "stderr",
     "output_type": "stream",
     "text": [
      "sentencepiece_trainer.cc(177) LOG(INFO) Running command: --input=combined_text.txt --model_prefix=mymodel --vocab_size=5000\n",
      "sentencepiece_trainer.cc(77) LOG(INFO) Starts training with : \n",
      "trainer_spec {\n",
      "  input: combined_text.txt\n",
      "  input_format: \n",
      "  model_prefix: mymodel\n",
      "  model_type: UNIGRAM\n",
      "  vocab_size: 5000\n",
      "  self_test_sample_size: 0\n",
      "  character_coverage: 0.9995\n",
      "  input_sentence_size: 0\n",
      "  shuffle_input_sentence: 1\n",
      "  seed_sentencepiece_size: 1000000\n",
      "  shrinking_factor: 0.75\n",
      "  max_sentence_length: 4192\n",
      "  num_threads: 16\n",
      "  num_sub_iterations: 2\n",
      "  max_sentencepiece_length: 16\n",
      "  split_by_unicode_script: 1\n",
      "  split_by_number: 1\n",
      "  split_by_whitespace: 1\n",
      "  split_digits: 0\n",
      "  pretokenization_delimiter: \n",
      "  treat_whitespace_as_suffix: 0\n",
      "  allow_whitespace_only_pieces: 0\n",
      "  required_chars: \n",
      "  byte_fallback: 0\n",
      "  vocabulary_output_piece_score: 1\n",
      "  train_extremely_large_corpus: 0\n",
      "  hard_vocab_limit: 1\n",
      "  use_all_vocab: 0\n",
      "  unk_id: 0\n",
      "  bos_id: 1\n",
      "  eos_id: 2\n",
      "  pad_id: -1\n",
      "  unk_piece: <unk>\n",
      "  bos_piece: <s>\n",
      "  eos_piece: </s>\n",
      "  pad_piece: <pad>\n",
      "  unk_surface:  ⁇ \n",
      "  enable_differential_privacy: 0\n",
      "  differential_privacy_noise_level: 0\n",
      "  differential_privacy_clipping_threshold: 0\n",
      "}\n",
      "normalizer_spec {\n",
      "  name: nmt_nfkc\n",
      "  add_dummy_prefix: 1\n",
      "  remove_extra_whitespaces: 1\n",
      "  escape_whitespaces: 1\n",
      "  normalization_rule_tsv: \n",
      "}\n",
      "denormalizer_spec {}\n",
      "trainer_interface.cc(351) LOG(INFO) SentenceIterator is not specified. Using MultiFileSentenceIterator.\n",
      "trainer_interface.cc(183) LOG(INFO) Loading corpus: combined_text.txt\n",
      "trainer_interface.cc(407) LOG(INFO) Loaded all 8508 sentences\n",
      "trainer_interface.cc(423) LOG(INFO) Adding meta_piece: <unk>\n",
      "trainer_interface.cc(423) LOG(INFO) Adding meta_piece: <s>\n",
      "trainer_interface.cc(423) LOG(INFO) Adding meta_piece: </s>\n",
      "trainer_interface.cc(428) LOG(INFO) Normalizing sentences...\n",
      "trainer_interface.cc(537) LOG(INFO) all chars count=498306\n",
      "trainer_interface.cc(548) LOG(INFO) Done: 99.9504% characters are covered.\n",
      "trainer_interface.cc(558) LOG(INFO) Alphabet size=40\n",
      "trainer_interface.cc(559) LOG(INFO) Final character coverage=0.999504\n",
      "trainer_interface.cc(591) LOG(INFO) Done! preprocessed 8508 sentences.\n",
      "unigram_model_trainer.cc(222) LOG(INFO) Making suffix array...\n",
      "unigram_model_trainer.cc(226) LOG(INFO) Extracting frequent sub strings... node_num=255774\n",
      "unigram_model_trainer.cc(274) LOG(INFO) Initialized 20654 seed sentencepieces\n",
      "trainer_interface.cc(597) LOG(INFO) Tokenizing input sentences with whitespace: 8508\n",
      "trainer_interface.cc(608) LOG(INFO) Done! 16241\n",
      "unigram_model_trainer.cc(564) LOG(INFO) Using 16241 sentences for EM training\n",
      "unigram_model_trainer.cc(580) LOG(INFO) EM sub_iter=0 size=9222 obj=11.0047 num_tokens=33321 num_tokens/piece=3.61321\n",
      "unigram_model_trainer.cc(580) LOG(INFO) EM sub_iter=1 size=8001 obj=9.55452 num_tokens=33509 num_tokens/piece=4.1881\n",
      "unigram_model_trainer.cc(580) LOG(INFO) EM sub_iter=0 size=5998 obj=9.54045 num_tokens=35014 num_tokens/piece=5.83761\n",
      "unigram_model_trainer.cc(580) LOG(INFO) EM sub_iter=1 size=5993 obj=9.49741 num_tokens=35012 num_tokens/piece=5.84215\n",
      "unigram_model_trainer.cc(580) LOG(INFO) EM sub_iter=0 size=5500 o"
     ]
    },
    {
     "data": {
      "text/plain": [
       "True"
      ]
     },
     "execution_count": 69,
     "metadata": {},
     "output_type": "execute_result"
    },
    {
     "name": "stderr",
     "output_type": "stream",
     "text": [
      "bj=9.52673 num_tokens=35675 num_tokens/piece=6.48636\n",
      "unigram_model_trainer.cc(580) LOG(INFO) EM sub_iter=1 size=5498 obj=9.51503 num_tokens=35676 num_tokens/piece=6.48891\n",
      "trainer_interface.cc(686) LOG(INFO) Saving model: mymodel.model\n",
      "trainer_interface.cc(698) LOG(INFO) Saving vocabs: mymodel.vocab\n"
     ]
    }
   ],
   "source": [
    "import sentencepiece as spm\n",
    "\n",
    "# Combine training and test data into a single dataframe\n",
    "combined_df = train_df\n",
    "\n",
    "# Save the combined utterances to a text file\n",
    "combined_df['Utterances'].to_csv('combined_text.txt', index=False, header=False)\n",
    "\n",
    "# Train SentencePiece model\n",
    "spm.SentencePieceTrainer.train('--input=combined_text.txt --model_prefix=mymodel --vocab_size=5000')\n",
    "\n",
    "# Load the trained SentencePiece model\n",
    "sp = spm.SentencePieceProcessor()\n",
    "sp.load('mymodel.model')"
   ]
  },
  {
   "cell_type": "code",
   "execution_count": 70,
   "id": "2c75b811-a31c-41d2-9f47-2bf21e68355d",
   "metadata": {},
   "outputs": [],
   "source": [
    "import sentencepiece as spm\n",
    "import pandas as pd\n",
    "\n",
    "# Load the trained SentencePiece model\n",
    "sp = spm.SentencePieceProcessor()\n",
    "sp.load('mymodel.model')  # Replace 'mymodel.model' with the actual path to your trained SentencePiece model\n",
    "\n",
    "# Load your training data\n",
    "# Replace 'your_training_data.csv' with the actual path to your training data CSV file\n",
    "# Function to preprocess text using SentencePiece\n",
    "def preprocess_text_with_sentencepiece(text, sp_processor):\n",
    "    # Convert text to lowercase\n",
    "    text = text.lower()\n",
    "\n",
    "    # Tokenize using SentencePiece\n",
    "    tokens = sp_processor.encode_as_pieces(text)\n",
    "    text = ' '.join(tokens)\n",
    "\n",
    "    # Remove extra white spaces\n",
    "    text = ' '.join(text.split())\n",
    "\n",
    "    return text"
   ]
  },
  {
   "cell_type": "code",
   "execution_count": 71,
   "id": "b195a1ee-85cc-48ed-ac15-7d93c82f55ed",
   "metadata": {},
   "outputs": [],
   "source": [
    "train_data = train_df\n"
   ]
  },
  {
   "cell_type": "code",
   "execution_count": 72,
   "id": "8f2141bc-e5a5-44f9-9ab8-4438d074667b",
   "metadata": {},
   "outputs": [],
   "source": [
    "train_data = train_df\n"
   ]
  },
  {
   "cell_type": "code",
   "execution_count": 73,
   "id": "761e3a6d-4c47-47d5-8b3a-fa02ae5afa92",
   "metadata": {},
   "outputs": [
    {
     "data": {
      "text/html": [
       "<div>\n",
       "<style scoped>\n",
       "    .dataframe tbody tr th:only-of-type {\n",
       "        vertical-align: middle;\n",
       "    }\n",
       "\n",
       "    .dataframe tbody tr th {\n",
       "        vertical-align: top;\n",
       "    }\n",
       "\n",
       "    .dataframe thead th {\n",
       "        text-align: right;\n",
       "    }\n",
       "</style>\n",
       "<table border=\"1\" class=\"dataframe\">\n",
       "  <thead>\n",
       "    <tr style=\"text-align: right;\">\n",
       "      <th></th>\n",
       "      <th>Episode</th>\n",
       "      <th>Speakers</th>\n",
       "      <th>Utterances</th>\n",
       "      <th>Emotions</th>\n",
       "      <th>Clean_text</th>\n",
       "    </tr>\n",
       "  </thead>\n",
       "  <tbody>\n",
       "    <tr>\n",
       "      <th>0</th>\n",
       "      <td>roseshantstobeadopted.wmv</td>\n",
       "      <td>maya</td>\n",
       "      <td>kya kya bhar ke rakha hai indravadan ne is gha...</td>\n",
       "      <td>disgust</td>\n",
       "      <td>▁kya ▁kya ▁bhar ▁ke ▁rakha ▁hai ▁indravadan ▁n...</td>\n",
       "    </tr>\n",
       "    <tr>\n",
       "      <th>1</th>\n",
       "      <td>roseshantstobeadopted.wmv</td>\n",
       "      <td>indu</td>\n",
       "      <td>ok, chalo rosesh chalo bahar</td>\n",
       "      <td>contempt</td>\n",
       "      <td>▁ok , ▁chalo ▁rosesh ▁chalo ▁bahar</td>\n",
       "    </tr>\n",
       "  </tbody>\n",
       "</table>\n",
       "</div>"
      ],
      "text/plain": [
       "                     Episode Speakers  \\\n",
       "0  roseshantstobeadopted.wmv     maya   \n",
       "1  roseshantstobeadopted.wmv     indu   \n",
       "\n",
       "                                          Utterances  Emotions  \\\n",
       "0  kya kya bhar ke rakha hai indravadan ne is gha...   disgust   \n",
       "1                       ok, chalo rosesh chalo bahar  contempt   \n",
       "\n",
       "                                          Clean_text  \n",
       "0  ▁kya ▁kya ▁bhar ▁ke ▁rakha ▁hai ▁indravadan ▁n...  \n",
       "1                 ▁ok , ▁chalo ▁rosesh ▁chalo ▁bahar  "
      ]
     },
     "execution_count": 73,
     "metadata": {},
     "output_type": "execute_result"
    }
   ],
   "source": [
    "# Apply preprocessing to the 'Utterances' column\n",
    "train_data['Clean_text'] = train_data['Utterances'].apply(lambda x: preprocess_text_with_sentencepiece(x, sp))\n",
    "\n",
    "# Display the preprocessed data\n",
    "#print(train_data[['Utterances', 'Clean_text', 'Emotions']])\n",
    "train_data.head(2)"
   ]
  },
  {
   "cell_type": "code",
   "execution_count": 74,
   "id": "dba132e8",
   "metadata": {},
   "outputs": [],
   "source": [
    "import re\n",
    "\n",
    "def remove_numeric_sequences_and_ordinals(text):\n",
    "    # Remove numbers\n",
    "    text = re.sub(r'\\d+', '', text)\n",
    "\n",
    "    # Remove ordinal numbers\n",
    "    text = re.sub(r'\\b\\d+(st|nd|rd|th)\\b', '', text)\n",
    "\n",
    "    return text"
   ]
  },
  {
   "cell_type": "code",
   "execution_count": 75,
   "id": "f5c261b6",
   "metadata": {},
   "outputs": [],
   "source": [
    "def remove_puntuations(txt):\n",
    "    punct = set(string.punctuation)\n",
    "    txt = \" \".join(txt.split(\".\"))\n",
    "    txt = \" \".join(txt.split(\"!\"))\n",
    "    txt = \" \".join(txt.split(\"?\"))\n",
    "    txt = \" \".join(txt.split(\":\"))\n",
    "    txt = \" \".join(txt.split(\";\"))\n",
    "    \n",
    "    txt = \"\".join(ch for ch in txt if ch not in punct)\n",
    "    return txt"
   ]
  },
  {
   "cell_type": "code",
   "execution_count": 76,
   "id": "ae6cbd95-1b3f-43a0-a589-6d341ee5a1ca",
   "metadata": {},
   "outputs": [],
   "source": [
    "import nltk\n",
    "from nltk.corpus import stopwords\n",
    "from nltk.stem import WordNetLemmatizer\n",
    "import string"
   ]
  },
  {
   "cell_type": "code",
   "execution_count": 77,
   "id": "cacafb19",
   "metadata": {},
   "outputs": [],
   "source": [
    "# Function clean text\n",
    "def preprocess_text(text):\n",
    "    # Convert text to lowercase\n",
    "    text = text.lower()\n",
    "    \n",
    "    #remove numeric and ordinals \n",
    "    text = remove_numeric_sequences_and_ordinals(text)\n",
    "\n",
    "    # Remove punctuation\n",
    "    text = remove_puntuations(text)\n",
    "\n",
    "    # Remove extra white spaces\n",
    "    text = ' '.join(text.split())\n",
    "\n",
    "    # Remove stopwords\n",
    "    total_stop_words = stop_words\n",
    "    text = ' '.join([word for word in text.split() if word not in total_stop_words])\n",
    "    # Lemmatize the text\n",
    "    lemmatizer = WordNetLemmatizer()\n",
    "    text = ' '.join([lemmatizer.lemmatize(word) for word in text.split()])\n",
    "    return text"
   ]
  },
  {
   "cell_type": "code",
   "execution_count": 78,
   "id": "c68abb81",
   "metadata": {},
   "outputs": [
    {
     "data": {
      "text/plain": [
       "'▁kya ▁kya ▁bhar ▁ke ▁rakha ▁hai ▁indravadan ▁n'"
      ]
     },
     "execution_count": 78,
     "metadata": {},
     "output_type": "execute_result"
    }
   ],
   "source": [
    "preprocess_text(\"▁kya ▁kya ▁bhar ▁ke ▁rakha ▁hai ▁indravadan ▁n...\")\n"
   ]
  },
  {
   "cell_type": "code",
   "execution_count": 79,
   "id": "1036e02b-f2ce-4bdb-b02b-63908ab5951e",
   "metadata": {},
   "outputs": [
    {
     "data": {
      "text/html": [
       "<div>\n",
       "<style scoped>\n",
       "    .dataframe tbody tr th:only-of-type {\n",
       "        vertical-align: middle;\n",
       "    }\n",
       "\n",
       "    .dataframe tbody tr th {\n",
       "        vertical-align: top;\n",
       "    }\n",
       "\n",
       "    .dataframe thead th {\n",
       "        text-align: right;\n",
       "    }\n",
       "</style>\n",
       "<table border=\"1\" class=\"dataframe\">\n",
       "  <thead>\n",
       "    <tr style=\"text-align: right;\">\n",
       "      <th></th>\n",
       "      <th>Episode</th>\n",
       "      <th>Speakers</th>\n",
       "      <th>Utterances</th>\n",
       "      <th>Emotions</th>\n",
       "      <th>Clean_text</th>\n",
       "    </tr>\n",
       "  </thead>\n",
       "  <tbody>\n",
       "    <tr>\n",
       "      <th>0</th>\n",
       "      <td>roseshantstobeadopted.wmv</td>\n",
       "      <td>maya</td>\n",
       "      <td>kya kya bhar ke rakha hai indravadan ne is gha...</td>\n",
       "      <td>disgust</td>\n",
       "      <td>▁kya ▁kya ▁bhar ▁ke ▁rakha ▁hai ▁indravadan ▁n...</td>\n",
       "    </tr>\n",
       "    <tr>\n",
       "      <th>1</th>\n",
       "      <td>roseshantstobeadopted.wmv</td>\n",
       "      <td>indu</td>\n",
       "      <td>ok, chalo rosesh chalo bahar</td>\n",
       "      <td>contempt</td>\n",
       "      <td>▁ok , ▁chalo ▁rosesh ▁chalo ▁bahar</td>\n",
       "    </tr>\n",
       "  </tbody>\n",
       "</table>\n",
       "</div>"
      ],
      "text/plain": [
       "                     Episode Speakers  \\\n",
       "0  roseshantstobeadopted.wmv     maya   \n",
       "1  roseshantstobeadopted.wmv     indu   \n",
       "\n",
       "                                          Utterances  Emotions  \\\n",
       "0  kya kya bhar ke rakha hai indravadan ne is gha...   disgust   \n",
       "1                       ok, chalo rosesh chalo bahar  contempt   \n",
       "\n",
       "                                          Clean_text  \n",
       "0  ▁kya ▁kya ▁bhar ▁ke ▁rakha ▁hai ▁indravadan ▁n...  \n",
       "1                 ▁ok , ▁chalo ▁rosesh ▁chalo ▁bahar  "
      ]
     },
     "execution_count": 79,
     "metadata": {},
     "output_type": "execute_result"
    }
   ],
   "source": [
    "train_df = train_data\n",
    "train_df.head(2)"
   ]
  },
  {
   "cell_type": "code",
   "execution_count": 80,
   "id": "eade6644",
   "metadata": {},
   "outputs": [
    {
     "data": {
      "text/plain": [
       "'kya kya bhar rakha indravadan gha'"
      ]
     },
     "execution_count": 80,
     "metadata": {},
     "output_type": "execute_result"
    }
   ],
   "source": [
    "preprocess_text('kya kya bhar ke rakha hai indravadan ne is gha...\t')"
   ]
  },
  {
   "cell_type": "raw",
   "id": "9f7c3efa",
   "metadata": {},
   "source": [
    "Apply preprocessing to the 'Utterances' column\n"
   ]
  },
  {
   "cell_type": "code",
   "execution_count": 81,
   "id": "f767c010",
   "metadata": {},
   "outputs": [
    {
     "data": {
      "text/html": [
       "<div>\n",
       "<style scoped>\n",
       "    .dataframe tbody tr th:only-of-type {\n",
       "        vertical-align: middle;\n",
       "    }\n",
       "\n",
       "    .dataframe tbody tr th {\n",
       "        vertical-align: top;\n",
       "    }\n",
       "\n",
       "    .dataframe thead th {\n",
       "        text-align: right;\n",
       "    }\n",
       "</style>\n",
       "<table border=\"1\" class=\"dataframe\">\n",
       "  <thead>\n",
       "    <tr style=\"text-align: right;\">\n",
       "      <th></th>\n",
       "      <th>Episode</th>\n",
       "      <th>Speakers</th>\n",
       "      <th>Utterances</th>\n",
       "      <th>Emotions</th>\n",
       "      <th>Clean_text</th>\n",
       "    </tr>\n",
       "  </thead>\n",
       "  <tbody>\n",
       "    <tr>\n",
       "      <th>0</th>\n",
       "      <td>roseshantstobeadopted.wmv</td>\n",
       "      <td>maya</td>\n",
       "      <td>kya kya bhar ke rakha hai indravadan ne is gha...</td>\n",
       "      <td>disgust</td>\n",
       "      <td>▁kya ▁kya ▁bhar ▁ke ▁rakha ▁hai ▁indravadan ▁n...</td>\n",
       "    </tr>\n",
       "    <tr>\n",
       "      <th>1</th>\n",
       "      <td>roseshantstobeadopted.wmv</td>\n",
       "      <td>indu</td>\n",
       "      <td>ok, chalo rosesh chalo bahar</td>\n",
       "      <td>contempt</td>\n",
       "      <td>▁ok ▁chalo ▁rosesh ▁chalo ▁bahar</td>\n",
       "    </tr>\n",
       "  </tbody>\n",
       "</table>\n",
       "</div>"
      ],
      "text/plain": [
       "                     Episode Speakers  \\\n",
       "0  roseshantstobeadopted.wmv     maya   \n",
       "1  roseshantstobeadopted.wmv     indu   \n",
       "\n",
       "                                          Utterances  Emotions  \\\n",
       "0  kya kya bhar ke rakha hai indravadan ne is gha...   disgust   \n",
       "1                       ok, chalo rosesh chalo bahar  contempt   \n",
       "\n",
       "                                          Clean_text  \n",
       "0  ▁kya ▁kya ▁bhar ▁ke ▁rakha ▁hai ▁indravadan ▁n...  \n",
       "1                   ▁ok ▁chalo ▁rosesh ▁chalo ▁bahar  "
      ]
     },
     "execution_count": 81,
     "metadata": {},
     "output_type": "execute_result"
    }
   ],
   "source": [
    "# Apply preprocessing to the 'Utterances' column\n",
    "train_df['Clean_text'] = train_df['Clean_text'].apply(preprocess_text)\n",
    "\n",
    "# Print the first few rows of the modified DataFrame\n",
    "train_df.head(2)"
   ]
  },
  {
   "cell_type": "code",
   "execution_count": 83,
   "id": "6a61a3a7-82d4-490c-acc7-acdf80ad9985",
   "metadata": {},
   "outputs": [
    {
     "data": {
      "text/html": [
       "<div>\n",
       "<style scoped>\n",
       "    .dataframe tbody tr th:only-of-type {\n",
       "        vertical-align: middle;\n",
       "    }\n",
       "\n",
       "    .dataframe tbody tr th {\n",
       "        vertical-align: top;\n",
       "    }\n",
       "\n",
       "    .dataframe thead th {\n",
       "        text-align: right;\n",
       "    }\n",
       "</style>\n",
       "<table border=\"1\" class=\"dataframe\">\n",
       "  <thead>\n",
       "    <tr style=\"text-align: right;\">\n",
       "      <th></th>\n",
       "      <th>Episode</th>\n",
       "      <th>Speakers</th>\n",
       "      <th>Utterances</th>\n",
       "      <th>Emotions</th>\n",
       "      <th>Clean_text</th>\n",
       "    </tr>\n",
       "  </thead>\n",
       "  <tbody>\n",
       "    <tr>\n",
       "      <th>0</th>\n",
       "      <td>roseshantstobeadopted.wmv</td>\n",
       "      <td>good rosesh</td>\n",
       "      <td>ye kya kar raha hai rosesh? bharat tera desh! ...</td>\n",
       "      <td>neutral</td>\n",
       "      <td>kya kar rosesh bharat tera desh bhartiya insan...</td>\n",
       "    </tr>\n",
       "    <tr>\n",
       "      <th>1</th>\n",
       "      <td>roseshantstobeadopted.wmv</td>\n",
       "      <td>bad rosesh</td>\n",
       "      <td>hahaha khat padh le rosesh baby or padhne de h...</td>\n",
       "      <td>neutral</td>\n",
       "      <td>hahaha khat padh le rosesh baby padhne de hama...</td>\n",
       "    </tr>\n",
       "    <tr>\n",
       "      <th>2</th>\n",
       "      <td>roseshantstobeadopted.wmv</td>\n",
       "      <td>good rosesh</td>\n",
       "      <td>kavita acchi hai lekin khayal achcha nahin hai...</td>\n",
       "      <td>neutral</td>\n",
       "      <td>kavita acchi lekin khayal achcha nahin villain...</td>\n",
       "    </tr>\n",
       "    <tr>\n",
       "      <th>3</th>\n",
       "      <td>roseshantstobeadopted.wmv</td>\n",
       "      <td>bad rosesh</td>\n",
       "      <td>galat hai, par momma ne tumse kaha tha ki do b...</td>\n",
       "      <td>contempt</td>\n",
       "      <td>galat par momma tumse bar brush karna aur tumn...</td>\n",
       "    </tr>\n",
       "    <tr>\n",
       "      <th>4</th>\n",
       "      <td>roseshantstobeadopted.wmv</td>\n",
       "      <td>good rosesh</td>\n",
       "      <td>galat tha per</td>\n",
       "      <td>neutral</td>\n",
       "      <td>galat per</td>\n",
       "    </tr>\n",
       "  </tbody>\n",
       "</table>\n",
       "</div>"
      ],
      "text/plain": [
       "                     Episode     Speakers  \\\n",
       "0  roseshantstobeadopted.wmv  good rosesh   \n",
       "1  roseshantstobeadopted.wmv   bad rosesh   \n",
       "2  roseshantstobeadopted.wmv  good rosesh   \n",
       "3  roseshantstobeadopted.wmv   bad rosesh   \n",
       "4  roseshantstobeadopted.wmv  good rosesh   \n",
       "\n",
       "                                          Utterances  Emotions  \\\n",
       "0  ye kya kar raha hai rosesh? bharat tera desh! ...   neutral   \n",
       "1  hahaha khat padh le rosesh baby or padhne de h...   neutral   \n",
       "2  kavita acchi hai lekin khayal achcha nahin hai...   neutral   \n",
       "3  galat hai, par momma ne tumse kaha tha ki do b...  contempt   \n",
       "4                                      galat tha per   neutral   \n",
       "\n",
       "                                          Clean_text  \n",
       "0  kya kar rosesh bharat tera desh bhartiya insan...  \n",
       "1  hahaha khat padh le rosesh baby padhne de hama...  \n",
       "2  kavita acchi lekin khayal achcha nahin villain...  \n",
       "3  galat par momma tumse bar brush karna aur tumn...  \n",
       "4                                          galat per  "
      ]
     },
     "execution_count": 83,
     "metadata": {},
     "output_type": "execute_result"
    }
   ],
   "source": [
    "val_data = val_df\n",
    "val_data.head()"
   ]
  },
  {
   "cell_type": "code",
   "execution_count": 84,
   "id": "a4fc8223-b001-4d85-adb8-272cd146877c",
   "metadata": {},
   "outputs": [],
   "source": [
    "# Apply preprocessing to the 'Utterances' column\n",
    "val_data['Clean_text'] = val_data['Utterances'].apply(lambda x: preprocess_text_with_sentencepiece(x, sp))\n",
    "\n",
    "# Display the preprocessed data\n",
    "#print(val_data[['Utte"
   ]
  },
  {
   "cell_type": "code",
   "execution_count": 85,
   "id": "49908368-5316-4afc-ab7a-83e81a41c268",
   "metadata": {},
   "outputs": [],
   "source": [
    "val_df = val_data\n"
   ]
  },
  {
   "cell_type": "code",
   "execution_count": 86,
   "id": "163d8757-5a5c-48db-a2b4-f1aff30f7b6d",
   "metadata": {},
   "outputs": [
    {
     "data": {
      "text/html": [
       "<div>\n",
       "<style scoped>\n",
       "    .dataframe tbody tr th:only-of-type {\n",
       "        vertical-align: middle;\n",
       "    }\n",
       "\n",
       "    .dataframe tbody tr th {\n",
       "        vertical-align: top;\n",
       "    }\n",
       "\n",
       "    .dataframe thead th {\n",
       "        text-align: right;\n",
       "    }\n",
       "</style>\n",
       "<table border=\"1\" class=\"dataframe\">\n",
       "  <thead>\n",
       "    <tr style=\"text-align: right;\">\n",
       "      <th></th>\n",
       "      <th>Episode</th>\n",
       "      <th>Speakers</th>\n",
       "      <th>Utterances</th>\n",
       "      <th>Emotions</th>\n",
       "      <th>Clean_text</th>\n",
       "    </tr>\n",
       "  </thead>\n",
       "  <tbody>\n",
       "    <tr>\n",
       "      <th>0</th>\n",
       "      <td>roseshantstobeadopted.wmv</td>\n",
       "      <td>good rosesh</td>\n",
       "      <td>ye kya kar raha hai rosesh? bharat tera desh! ...</td>\n",
       "      <td>neutral</td>\n",
       "      <td>▁ye ▁kya ▁kar ▁raha ▁hai ▁rosesh ▁bharat ▁tera...</td>\n",
       "    </tr>\n",
       "    <tr>\n",
       "      <th>1</th>\n",
       "      <td>roseshantstobeadopted.wmv</td>\n",
       "      <td>bad rosesh</td>\n",
       "      <td>hahaha khat padh le rosesh baby or padhne de h...</td>\n",
       "      <td>neutral</td>\n",
       "      <td>▁hahaha ▁khat ▁padh ▁le ▁rosesh ▁baby ▁or ▁pad...</td>\n",
       "    </tr>\n",
       "    <tr>\n",
       "      <th>2</th>\n",
       "      <td>roseshantstobeadopted.wmv</td>\n",
       "      <td>good rosesh</td>\n",
       "      <td>kavita acchi hai lekin khayal achcha nahin hai...</td>\n",
       "      <td>neutral</td>\n",
       "      <td>▁kavita ▁acchi ▁hai ▁lekin ▁khayal ▁achcha ▁na...</td>\n",
       "    </tr>\n",
       "    <tr>\n",
       "      <th>3</th>\n",
       "      <td>roseshantstobeadopted.wmv</td>\n",
       "      <td>bad rosesh</td>\n",
       "      <td>galat hai, par momma ne tumse kaha tha ki do b...</td>\n",
       "      <td>contempt</td>\n",
       "      <td>▁galat ▁hai ▁par ▁momma ▁ne ▁tumse ▁kaha ▁tha ...</td>\n",
       "    </tr>\n",
       "    <tr>\n",
       "      <th>4</th>\n",
       "      <td>roseshantstobeadopted.wmv</td>\n",
       "      <td>good rosesh</td>\n",
       "      <td>galat tha per</td>\n",
       "      <td>neutral</td>\n",
       "      <td>▁galat ▁tha ▁per</td>\n",
       "    </tr>\n",
       "    <tr>\n",
       "      <th>...</th>\n",
       "      <td>...</td>\n",
       "      <td>...</td>\n",
       "      <td>...</td>\n",
       "      <td>...</td>\n",
       "      <td>...</td>\n",
       "    </tr>\n",
       "    <tr>\n",
       "      <th>1349</th>\n",
       "      <td>prefinale</td>\n",
       "      <td>monish</td>\n",
       "      <td>sahil sahil sahil. sirf 4 din bache hai or sar...</td>\n",
       "      <td>fear</td>\n",
       "      <td>▁sahil ▁sahil ▁sahil ▁sirf ▁ ▁din ▁bache ▁hai ...</td>\n",
       "    </tr>\n",
       "    <tr>\n",
       "      <th>1350</th>\n",
       "      <td>prefinale</td>\n",
       "      <td>sahil</td>\n",
       "      <td>haan lekin mom unn charo me se kisi ek ko fina...</td>\n",
       "      <td>neutral</td>\n",
       "      <td>▁haan ▁lekin ▁mom ▁un n ▁char ▁me ▁se ▁kisi ▁e...</td>\n",
       "    </tr>\n",
       "    <tr>\n",
       "      <th>1351</th>\n",
       "      <td>prefinale</td>\n",
       "      <td>monish</td>\n",
       "      <td>mummy ji ko to unme se koi pasand nhi hai</td>\n",
       "      <td>sadness</td>\n",
       "      <td>▁mummy ▁ji ▁ko ▁to ▁unme ▁se ▁koi ▁pa sand ▁nh...</td>\n",
       "    </tr>\n",
       "    <tr>\n",
       "      <th>1352</th>\n",
       "      <td>prefinale</td>\n",
       "      <td>sahil</td>\n",
       "      <td>rosesh ko?</td>\n",
       "      <td>neutral</td>\n",
       "      <td>▁rosesh ▁ko</td>\n",
       "    </tr>\n",
       "    <tr>\n",
       "      <th>1353</th>\n",
       "      <td>prefinale</td>\n",
       "      <td>monish</td>\n",
       "      <td>unhe to charo pasand hai. wese sahil, waqt bee...</td>\n",
       "      <td>fear</td>\n",
       "      <td>▁unhe ▁to ▁char ▁pa sand ▁hai ▁we ▁sahil ▁waqt...</td>\n",
       "    </tr>\n",
       "  </tbody>\n",
       "</table>\n",
       "<p>1354 rows × 5 columns</p>\n",
       "</div>"
      ],
      "text/plain": [
       "                        Episode     Speakers  \\\n",
       "0     roseshantstobeadopted.wmv  good rosesh   \n",
       "1     roseshantstobeadopted.wmv   bad rosesh   \n",
       "2     roseshantstobeadopted.wmv  good rosesh   \n",
       "3     roseshantstobeadopted.wmv   bad rosesh   \n",
       "4     roseshantstobeadopted.wmv  good rosesh   \n",
       "...                         ...          ...   \n",
       "1349                  prefinale       monish   \n",
       "1350                  prefinale        sahil   \n",
       "1351                  prefinale       monish   \n",
       "1352                  prefinale        sahil   \n",
       "1353                  prefinale       monish   \n",
       "\n",
       "                                             Utterances  Emotions  \\\n",
       "0     ye kya kar raha hai rosesh? bharat tera desh! ...   neutral   \n",
       "1     hahaha khat padh le rosesh baby or padhne de h...   neutral   \n",
       "2     kavita acchi hai lekin khayal achcha nahin hai...   neutral   \n",
       "3     galat hai, par momma ne tumse kaha tha ki do b...  contempt   \n",
       "4                                         galat tha per   neutral   \n",
       "...                                                 ...       ...   \n",
       "1349  sahil sahil sahil. sirf 4 din bache hai or sar...      fear   \n",
       "1350  haan lekin mom unn charo me se kisi ek ko fina...   neutral   \n",
       "1351          mummy ji ko to unme se koi pasand nhi hai   sadness   \n",
       "1352                                         rosesh ko?   neutral   \n",
       "1353  unhe to charo pasand hai. wese sahil, waqt bee...      fear   \n",
       "\n",
       "                                             Clean_text  \n",
       "0     ▁ye ▁kya ▁kar ▁raha ▁hai ▁rosesh ▁bharat ▁tera...  \n",
       "1     ▁hahaha ▁khat ▁padh ▁le ▁rosesh ▁baby ▁or ▁pad...  \n",
       "2     ▁kavita ▁acchi ▁hai ▁lekin ▁khayal ▁achcha ▁na...  \n",
       "3     ▁galat ▁hai ▁par ▁momma ▁ne ▁tumse ▁kaha ▁tha ...  \n",
       "4                                      ▁galat ▁tha ▁per  \n",
       "...                                                 ...  \n",
       "1349  ▁sahil ▁sahil ▁sahil ▁sirf ▁ ▁din ▁bache ▁hai ...  \n",
       "1350  ▁haan ▁lekin ▁mom ▁un n ▁char ▁me ▁se ▁kisi ▁e...  \n",
       "1351  ▁mummy ▁ji ▁ko ▁to ▁unme ▁se ▁koi ▁pa sand ▁nh...  \n",
       "1352                                        ▁rosesh ▁ko  \n",
       "1353  ▁unhe ▁to ▁char ▁pa sand ▁hai ▁we ▁sahil ▁waqt...  \n",
       "\n",
       "[1354 rows x 5 columns]"
      ]
     },
     "execution_count": 86,
     "metadata": {},
     "output_type": "execute_result"
    }
   ],
   "source": [
    "# Apply preprocessing to the 'Utterances' column\n",
    "val_df['Clean_text'] = val_df['Clean_text'].apply(preprocess_text)\n",
    "\n",
    "# Print the first few rows of the modified DataFrame\n",
    "val_df"
   ]
  },
  {
   "cell_type": "code",
   "execution_count": 87,
   "id": "5e32e468",
   "metadata": {
    "scrolled": true
   },
   "outputs": [
    {
     "data": {
      "text/html": [
       "<div>\n",
       "<style scoped>\n",
       "    .dataframe tbody tr th:only-of-type {\n",
       "        vertical-align: middle;\n",
       "    }\n",
       "\n",
       "    .dataframe tbody tr th {\n",
       "        vertical-align: top;\n",
       "    }\n",
       "\n",
       "    .dataframe thead th {\n",
       "        text-align: right;\n",
       "    }\n",
       "</style>\n",
       "<table border=\"1\" class=\"dataframe\">\n",
       "  <thead>\n",
       "    <tr style=\"text-align: right;\">\n",
       "      <th></th>\n",
       "      <th>Emotions</th>\n",
       "      <th>Clean_text</th>\n",
       "    </tr>\n",
       "  </thead>\n",
       "  <tbody>\n",
       "    <tr>\n",
       "      <th>0</th>\n",
       "      <td>disgust</td>\n",
       "      <td>▁kya ▁kya ▁bhar ▁ke ▁rakha ▁hai ▁indravadan ▁n...</td>\n",
       "    </tr>\n",
       "    <tr>\n",
       "      <th>1</th>\n",
       "      <td>contempt</td>\n",
       "      <td>▁ok ▁chalo ▁rosesh ▁chalo ▁bahar</td>\n",
       "    </tr>\n",
       "    <tr>\n",
       "      <th>2</th>\n",
       "      <td>anger</td>\n",
       "      <td>▁momma ▁hath ▁chhodiye ▁dad</td>\n",
       "    </tr>\n",
       "    <tr>\n",
       "      <th>3</th>\n",
       "      <td>neutral</td>\n",
       "      <td>▁dekho ▁maya ▁ya ▁na ▁bol ▁raha ▁hai ▁fir ▁tum...</td>\n",
       "    </tr>\n",
       "    <tr>\n",
       "      <th>4</th>\n",
       "      <td>neutral</td>\n",
       "      <td>▁indravadan ▁tum ▁kitne ▁salo ▁se ▁ye ▁joke ▁m...</td>\n",
       "    </tr>\n",
       "  </tbody>\n",
       "</table>\n",
       "</div>"
      ],
      "text/plain": [
       "   Emotions                                         Clean_text\n",
       "0   disgust  ▁kya ▁kya ▁bhar ▁ke ▁rakha ▁hai ▁indravadan ▁n...\n",
       "1  contempt                   ▁ok ▁chalo ▁rosesh ▁chalo ▁bahar\n",
       "2     anger                        ▁momma ▁hath ▁chhodiye ▁dad\n",
       "3   neutral  ▁dekho ▁maya ▁ya ▁na ▁bol ▁raha ▁hai ▁fir ▁tum...\n",
       "4   neutral  ▁indravadan ▁tum ▁kitne ▁salo ▁se ▁ye ▁joke ▁m..."
      ]
     },
     "execution_count": 87,
     "metadata": {},
     "output_type": "execute_result"
    }
   ],
   "source": [
    "train = train_df[[\"Emotions\",\"Clean_text\"]]\n",
    "train.head()"
   ]
  },
  {
   "cell_type": "code",
   "execution_count": 88,
   "id": "16a17008-964c-45ce-b195-66ccbd85e36d",
   "metadata": {},
   "outputs": [],
   "source": [
    "validation = val_df[[\"Emotions\",\"Clean_text\"]]"
   ]
  },
  {
   "cell_type": "code",
   "execution_count": 89,
   "id": "b3f46c47-51e3-46d7-88af-c3a07b0b77ef",
   "metadata": {},
   "outputs": [
    {
     "name": "stderr",
     "output_type": "stream",
     "text": [
      "/tmp/ipykernel_50635/1384124703.py:2: SettingWithCopyWarning: \n",
      "A value is trying to be set on a copy of a slice from a DataFrame.\n",
      "Try using .loc[row_indexer,col_indexer] = value instead\n",
      "\n",
      "See the caveats in the documentation: https://pandas.pydata.org/pandas-docs/stable/user_guide/indexing.html#returning-a-view-versus-a-copy\n",
      "  validation['Clean_text'] = validation['Clean_text'].map(lambda x: x.lower())\n"
     ]
    },
    {
     "data": {
      "text/html": [
       "<div>\n",
       "<style scoped>\n",
       "    .dataframe tbody tr th:only-of-type {\n",
       "        vertical-align: middle;\n",
       "    }\n",
       "\n",
       "    .dataframe tbody tr th {\n",
       "        vertical-align: top;\n",
       "    }\n",
       "\n",
       "    .dataframe thead th {\n",
       "        text-align: right;\n",
       "    }\n",
       "</style>\n",
       "<table border=\"1\" class=\"dataframe\">\n",
       "  <thead>\n",
       "    <tr style=\"text-align: right;\">\n",
       "      <th></th>\n",
       "      <th>Emotions</th>\n",
       "      <th>Clean_text</th>\n",
       "    </tr>\n",
       "  </thead>\n",
       "  <tbody>\n",
       "    <tr>\n",
       "      <th>0</th>\n",
       "      <td>neutral</td>\n",
       "      <td>▁ye ▁kya ▁kar ▁raha ▁hai ▁rosesh ▁bharat ▁tera...</td>\n",
       "    </tr>\n",
       "    <tr>\n",
       "      <th>1</th>\n",
       "      <td>neutral</td>\n",
       "      <td>▁hahaha ▁khat ▁padh ▁le ▁rosesh ▁baby ▁or ▁pad...</td>\n",
       "    </tr>\n",
       "    <tr>\n",
       "      <th>2</th>\n",
       "      <td>neutral</td>\n",
       "      <td>▁kavita ▁acchi ▁hai ▁lekin ▁khayal ▁achcha ▁na...</td>\n",
       "    </tr>\n",
       "    <tr>\n",
       "      <th>3</th>\n",
       "      <td>contempt</td>\n",
       "      <td>▁galat ▁hai ▁par ▁momma ▁ne ▁tumse ▁kaha ▁tha ...</td>\n",
       "    </tr>\n",
       "    <tr>\n",
       "      <th>4</th>\n",
       "      <td>neutral</td>\n",
       "      <td>▁galat ▁tha ▁per</td>\n",
       "    </tr>\n",
       "  </tbody>\n",
       "</table>\n",
       "</div>"
      ],
      "text/plain": [
       "   Emotions                                         Clean_text\n",
       "0   neutral  ▁ye ▁kya ▁kar ▁raha ▁hai ▁rosesh ▁bharat ▁tera...\n",
       "1   neutral  ▁hahaha ▁khat ▁padh ▁le ▁rosesh ▁baby ▁or ▁pad...\n",
       "2   neutral  ▁kavita ▁acchi ▁hai ▁lekin ▁khayal ▁achcha ▁na...\n",
       "3  contempt  ▁galat ▁hai ▁par ▁momma ▁ne ▁tumse ▁kaha ▁tha ...\n",
       "4   neutral                                   ▁galat ▁tha ▁per"
      ]
     },
     "execution_count": 89,
     "metadata": {},
     "output_type": "execute_result"
    }
   ],
   "source": [
    "# Convert the titles to lowercase\n",
    "validation['Clean_text'] = validation['Clean_text'].map(lambda x: x.lower())\n",
    "validation.head()"
   ]
  },
  {
   "cell_type": "code",
   "execution_count": 90,
   "id": "5b68df5b-2a6d-4ad6-b69b-17cbb8817e59",
   "metadata": {
    "scrolled": true
   },
   "outputs": [
    {
     "name": "stderr",
     "output_type": "stream",
     "text": [
      "/tmp/ipykernel_50635/2552075389.py:2: SettingWithCopyWarning: \n",
      "A value is trying to be set on a copy of a slice from a DataFrame.\n",
      "Try using .loc[row_indexer,col_indexer] = value instead\n",
      "\n",
      "See the caveats in the documentation: https://pandas.pydata.org/pandas-docs/stable/user_guide/indexing.html#returning-a-view-versus-a-copy\n",
      "  train['Clean_text'] = train['Clean_text'].map(lambda x: x.lower())\n"
     ]
    },
    {
     "data": {
      "text/html": [
       "<div>\n",
       "<style scoped>\n",
       "    .dataframe tbody tr th:only-of-type {\n",
       "        vertical-align: middle;\n",
       "    }\n",
       "\n",
       "    .dataframe tbody tr th {\n",
       "        vertical-align: top;\n",
       "    }\n",
       "\n",
       "    .dataframe thead th {\n",
       "        text-align: right;\n",
       "    }\n",
       "</style>\n",
       "<table border=\"1\" class=\"dataframe\">\n",
       "  <thead>\n",
       "    <tr style=\"text-align: right;\">\n",
       "      <th></th>\n",
       "      <th>Emotions</th>\n",
       "      <th>Clean_text</th>\n",
       "    </tr>\n",
       "  </thead>\n",
       "  <tbody>\n",
       "    <tr>\n",
       "      <th>0</th>\n",
       "      <td>disgust</td>\n",
       "      <td>▁kya ▁kya ▁bhar ▁ke ▁rakha ▁hai ▁indravadan ▁n...</td>\n",
       "    </tr>\n",
       "    <tr>\n",
       "      <th>1</th>\n",
       "      <td>contempt</td>\n",
       "      <td>▁ok ▁chalo ▁rosesh ▁chalo ▁bahar</td>\n",
       "    </tr>\n",
       "    <tr>\n",
       "      <th>2</th>\n",
       "      <td>anger</td>\n",
       "      <td>▁momma ▁hath ▁chhodiye ▁dad</td>\n",
       "    </tr>\n",
       "    <tr>\n",
       "      <th>3</th>\n",
       "      <td>neutral</td>\n",
       "      <td>▁dekho ▁maya ▁ya ▁na ▁bol ▁raha ▁hai ▁fir ▁tum...</td>\n",
       "    </tr>\n",
       "    <tr>\n",
       "      <th>4</th>\n",
       "      <td>neutral</td>\n",
       "      <td>▁indravadan ▁tum ▁kitne ▁salo ▁se ▁ye ▁joke ▁m...</td>\n",
       "    </tr>\n",
       "  </tbody>\n",
       "</table>\n",
       "</div>"
      ],
      "text/plain": [
       "   Emotions                                         Clean_text\n",
       "0   disgust  ▁kya ▁kya ▁bhar ▁ke ▁rakha ▁hai ▁indravadan ▁n...\n",
       "1  contempt                   ▁ok ▁chalo ▁rosesh ▁chalo ▁bahar\n",
       "2     anger                        ▁momma ▁hath ▁chhodiye ▁dad\n",
       "3   neutral  ▁dekho ▁maya ▁ya ▁na ▁bol ▁raha ▁hai ▁fir ▁tum...\n",
       "4   neutral  ▁indravadan ▁tum ▁kitne ▁salo ▁se ▁ye ▁joke ▁m..."
      ]
     },
     "execution_count": 90,
     "metadata": {},
     "output_type": "execute_result"
    }
   ],
   "source": [
    "# Convert the titles to lowercase\n",
    "train['Clean_text'] = train['Clean_text'].map(lambda x: x.lower())\n",
    "train.head()"
   ]
  },
  {
   "cell_type": "markdown",
   "id": "8822b156-b5fe-4656-9f84-9672c4285b56",
   "metadata": {},
   "source": [
    "Tokenization"
   ]
  },
  {
   "cell_type": "code",
   "execution_count": 91,
   "id": "b48b2878-0d80-4380-b73b-599251699f69",
   "metadata": {
    "scrolled": true
   },
   "outputs": [
    {
     "name": "stderr",
     "output_type": "stream",
     "text": [
      "/tmp/ipykernel_50635/2104870369.py:3: SettingWithCopyWarning: \n",
      "A value is trying to be set on a copy of a slice from a DataFrame.\n",
      "Try using .loc[row_indexer,col_indexer] = value instead\n",
      "\n",
      "See the caveats in the documentation: https://pandas.pydata.org/pandas-docs/stable/user_guide/indexing.html#returning-a-view-versus-a-copy\n",
      "  train.loc[:,'text'] =train['Clean_text'].apply(lambda x : word_tokenize(x))\n"
     ]
    },
    {
     "data": {
      "text/html": [
       "<div>\n",
       "<style scoped>\n",
       "    .dataframe tbody tr th:only-of-type {\n",
       "        vertical-align: middle;\n",
       "    }\n",
       "\n",
       "    .dataframe tbody tr th {\n",
       "        vertical-align: top;\n",
       "    }\n",
       "\n",
       "    .dataframe thead th {\n",
       "        text-align: right;\n",
       "    }\n",
       "</style>\n",
       "<table border=\"1\" class=\"dataframe\">\n",
       "  <thead>\n",
       "    <tr style=\"text-align: right;\">\n",
       "      <th></th>\n",
       "      <th>Clean_text</th>\n",
       "      <th>text</th>\n",
       "    </tr>\n",
       "  </thead>\n",
       "  <tbody>\n",
       "    <tr>\n",
       "      <th>0</th>\n",
       "      <td>▁kya ▁kya ▁bhar ▁ke ▁rakha ▁hai ▁indravadan ▁n...</td>\n",
       "      <td>[▁kya, ▁kya, ▁bhar, ▁ke, ▁rakha, ▁hai, ▁indrav...</td>\n",
       "    </tr>\n",
       "    <tr>\n",
       "      <th>1</th>\n",
       "      <td>▁ok ▁chalo ▁rosesh ▁chalo ▁bahar</td>\n",
       "      <td>[▁ok, ▁chalo, ▁rosesh, ▁chalo, ▁bahar]</td>\n",
       "    </tr>\n",
       "    <tr>\n",
       "      <th>2</th>\n",
       "      <td>▁momma ▁hath ▁chhodiye ▁dad</td>\n",
       "      <td>[▁momma, ▁hath, ▁chhodiye, ▁dad]</td>\n",
       "    </tr>\n",
       "    <tr>\n",
       "      <th>3</th>\n",
       "      <td>▁dekho ▁maya ▁ya ▁na ▁bol ▁raha ▁hai ▁fir ▁tum...</td>\n",
       "      <td>[▁dekho, ▁maya, ▁ya, ▁na, ▁bol, ▁raha, ▁hai, ▁...</td>\n",
       "    </tr>\n",
       "    <tr>\n",
       "      <th>4</th>\n",
       "      <td>▁indravadan ▁tum ▁kitne ▁salo ▁se ▁ye ▁joke ▁m...</td>\n",
       "      <td>[▁indravadan, ▁tum, ▁kitne, ▁salo, ▁se, ▁ye, ▁...</td>\n",
       "    </tr>\n",
       "  </tbody>\n",
       "</table>\n",
       "</div>"
      ],
      "text/plain": [
       "                                          Clean_text  \\\n",
       "0  ▁kya ▁kya ▁bhar ▁ke ▁rakha ▁hai ▁indravadan ▁n...   \n",
       "1                   ▁ok ▁chalo ▁rosesh ▁chalo ▁bahar   \n",
       "2                        ▁momma ▁hath ▁chhodiye ▁dad   \n",
       "3  ▁dekho ▁maya ▁ya ▁na ▁bol ▁raha ▁hai ▁fir ▁tum...   \n",
       "4  ▁indravadan ▁tum ▁kitne ▁salo ▁se ▁ye ▁joke ▁m...   \n",
       "\n",
       "                                                text  \n",
       "0  [▁kya, ▁kya, ▁bhar, ▁ke, ▁rakha, ▁hai, ▁indrav...  \n",
       "1             [▁ok, ▁chalo, ▁rosesh, ▁chalo, ▁bahar]  \n",
       "2                   [▁momma, ▁hath, ▁chhodiye, ▁dad]  \n",
       "3  [▁dekho, ▁maya, ▁ya, ▁na, ▁bol, ▁raha, ▁hai, ▁...  \n",
       "4  [▁indravadan, ▁tum, ▁kitne, ▁salo, ▁se, ▁ye, ▁...  "
      ]
     },
     "execution_count": 91,
     "metadata": {},
     "output_type": "execute_result"
    }
   ],
   "source": [
    "from nltk.tokenize import word_tokenize\n",
    "#Word tokenization\n",
    "train.loc[:,'text'] =train['Clean_text'].apply(lambda x : word_tokenize(x))\n",
    "\n",
    "train[['Clean_text','text']].head()"
   ]
  },
  {
   "cell_type": "code",
   "execution_count": 92,
   "id": "8bb7df81-01e1-40cf-a514-6b9c796bd93a",
   "metadata": {},
   "outputs": [
    {
     "data": {
      "text/plain": [
       "8506"
      ]
     },
     "execution_count": 92,
     "metadata": {},
     "output_type": "execute_result"
    }
   ],
   "source": [
    "len(train)"
   ]
  },
  {
   "cell_type": "code",
   "execution_count": 93,
   "id": "4ad3ee9f-dce2-45f0-bc74-16a8a0757a28",
   "metadata": {
    "scrolled": true
   },
   "outputs": [
    {
     "name": "stderr",
     "output_type": "stream",
     "text": [
      "/tmp/ipykernel_50635/4071832904.py:3: SettingWithCopyWarning: \n",
      "A value is trying to be set on a copy of a slice from a DataFrame.\n",
      "Try using .loc[row_indexer,col_indexer] = value instead\n",
      "\n",
      "See the caveats in the documentation: https://pandas.pydata.org/pandas-docs/stable/user_guide/indexing.html#returning-a-view-versus-a-copy\n",
      "  validation.loc[:,'text'] =validation['Clean_text'].apply(lambda x : word_tokenize(x))\n"
     ]
    },
    {
     "data": {
      "text/html": [
       "<div>\n",
       "<style scoped>\n",
       "    .dataframe tbody tr th:only-of-type {\n",
       "        vertical-align: middle;\n",
       "    }\n",
       "\n",
       "    .dataframe tbody tr th {\n",
       "        vertical-align: top;\n",
       "    }\n",
       "\n",
       "    .dataframe thead th {\n",
       "        text-align: right;\n",
       "    }\n",
       "</style>\n",
       "<table border=\"1\" class=\"dataframe\">\n",
       "  <thead>\n",
       "    <tr style=\"text-align: right;\">\n",
       "      <th></th>\n",
       "      <th>Clean_text</th>\n",
       "      <th>text</th>\n",
       "    </tr>\n",
       "  </thead>\n",
       "  <tbody>\n",
       "    <tr>\n",
       "      <th>0</th>\n",
       "      <td>▁ye ▁kya ▁kar ▁raha ▁hai ▁rosesh ▁bharat ▁tera...</td>\n",
       "      <td>[▁ye, ▁kya, ▁kar, ▁raha, ▁hai, ▁rosesh, ▁bhara...</td>\n",
       "    </tr>\n",
       "    <tr>\n",
       "      <th>1</th>\n",
       "      <td>▁hahaha ▁khat ▁padh ▁le ▁rosesh ▁baby ▁or ▁pad...</td>\n",
       "      <td>[▁hahaha, ▁khat, ▁padh, ▁le, ▁rosesh, ▁baby, ▁...</td>\n",
       "    </tr>\n",
       "  </tbody>\n",
       "</table>\n",
       "</div>"
      ],
      "text/plain": [
       "                                          Clean_text  \\\n",
       "0  ▁ye ▁kya ▁kar ▁raha ▁hai ▁rosesh ▁bharat ▁tera...   \n",
       "1  ▁hahaha ▁khat ▁padh ▁le ▁rosesh ▁baby ▁or ▁pad...   \n",
       "\n",
       "                                                text  \n",
       "0  [▁ye, ▁kya, ▁kar, ▁raha, ▁hai, ▁rosesh, ▁bhara...  \n",
       "1  [▁hahaha, ▁khat, ▁padh, ▁le, ▁rosesh, ▁baby, ▁...  "
      ]
     },
     "execution_count": 93,
     "metadata": {},
     "output_type": "execute_result"
    }
   ],
   "source": [
    "from nltk.tokenize import word_tokenize\n",
    "#Word tokenization\n",
    "validation.loc[:,'text'] =validation['Clean_text'].apply(lambda x : word_tokenize(x))\n",
    "\n",
    "validation[['Clean_text','text']].head(2)"
   ]
  },
  {
   "cell_type": "code",
   "execution_count": 94,
   "id": "aadf2435-63ac-4cc7-8a06-a5f66b21c606",
   "metadata": {
    "scrolled": true
   },
   "outputs": [
    {
     "name": "stdout",
     "output_type": "stream",
     "text": [
      "   Emotions                                         Clean_text  \\\n",
      "0   disgust  ▁kya ▁kya ▁bhar ▁ke ▁rakha ▁hai ▁indravadan ▁n...   \n",
      "1  contempt                   ▁ok ▁chalo ▁rosesh ▁chalo ▁bahar   \n",
      "\n",
      "                                                text  \n",
      "0  [▁kya, ▁kya, ▁bhar, ▁ke, ▁rakha, ▁hai, ▁indrav...  \n",
      "1             [▁ok, ▁chalo, ▁rosesh, ▁chalo, ▁bahar]  \n"
     ]
    }
   ],
   "source": [
    "# Concatenating the DataFrames\n",
    "concatenated_df = pd.concat([train, validation], ignore_index=True)\n",
    "\n",
    "# Displaying the concatenated DataFrame\n",
    "print(concatenated_df.head(2))"
   ]
  },
  {
   "cell_type": "code",
   "execution_count": 95,
   "id": "b0389bc6-d54b-4fe4-8d8e-4e052ee65f1c",
   "metadata": {},
   "outputs": [
    {
     "data": {
      "text/plain": [
       "9860"
      ]
     },
     "execution_count": 95,
     "metadata": {},
     "output_type": "execute_result"
    }
   ],
   "source": [
    "len(concatenated_df)"
   ]
  },
  {
   "cell_type": "code",
   "execution_count": 96,
   "id": "cb79b5ee-197b-4ed6-bf77-d0ab4dfc1a71",
   "metadata": {},
   "outputs": [
    {
     "data": {
      "text/html": [
       "<div>\n",
       "<style scoped>\n",
       "    .dataframe tbody tr th:only-of-type {\n",
       "        vertical-align: middle;\n",
       "    }\n",
       "\n",
       "    .dataframe tbody tr th {\n",
       "        vertical-align: top;\n",
       "    }\n",
       "\n",
       "    .dataframe thead th {\n",
       "        text-align: right;\n",
       "    }\n",
       "</style>\n",
       "<table border=\"1\" class=\"dataframe\">\n",
       "  <thead>\n",
       "    <tr style=\"text-align: right;\">\n",
       "      <th></th>\n",
       "      <th>Emotions</th>\n",
       "      <th>Clean_text</th>\n",
       "      <th>text</th>\n",
       "    </tr>\n",
       "  </thead>\n",
       "  <tbody>\n",
       "    <tr>\n",
       "      <th>0</th>\n",
       "      <td>disgust</td>\n",
       "      <td>▁kya ▁kya ▁bhar ▁ke ▁rakha ▁hai ▁indravadan ▁n...</td>\n",
       "      <td>[▁kya, ▁kya, ▁bhar, ▁ke, ▁rakha, ▁hai, ▁indrav...</td>\n",
       "    </tr>\n",
       "    <tr>\n",
       "      <th>1</th>\n",
       "      <td>contempt</td>\n",
       "      <td>▁ok ▁chalo ▁rosesh ▁chalo ▁bahar</td>\n",
       "      <td>[▁ok, ▁chalo, ▁rosesh, ▁chalo, ▁bahar]</td>\n",
       "    </tr>\n",
       "  </tbody>\n",
       "</table>\n",
       "</div>"
      ],
      "text/plain": [
       "   Emotions                                         Clean_text  \\\n",
       "0   disgust  ▁kya ▁kya ▁bhar ▁ke ▁rakha ▁hai ▁indravadan ▁n...   \n",
       "1  contempt                   ▁ok ▁chalo ▁rosesh ▁chalo ▁bahar   \n",
       "\n",
       "                                                text  \n",
       "0  [▁kya, ▁kya, ▁bhar, ▁ke, ▁rakha, ▁hai, ▁indrav...  \n",
       "1             [▁ok, ▁chalo, ▁rosesh, ▁chalo, ▁bahar]  "
      ]
     },
     "execution_count": 96,
     "metadata": {},
     "output_type": "execute_result"
    }
   ],
   "source": [
    "concatenated_df.head(2)"
   ]
  },
  {
   "cell_type": "raw",
   "id": "e5a8f099",
   "metadata": {},
   "source": [
    " maximum length length of the utterence"
   ]
  },
  {
   "cell_type": "code",
   "execution_count": 97,
   "id": "38e9f4bc-fa57-420f-bdb9-f77b55060ebb",
   "metadata": {},
   "outputs": [],
   "source": [
    "X_train =  train[\"text\"]"
   ]
  },
  {
   "cell_type": "code",
   "execution_count": 98,
   "id": "e8d14f3d-b614-4eef-9813-b4d45a059ef6",
   "metadata": {
    "scrolled": true
   },
   "outputs": [
    {
     "data": {
      "text/html": [
       "<div>\n",
       "<style scoped>\n",
       "    .dataframe tbody tr th:only-of-type {\n",
       "        vertical-align: middle;\n",
       "    }\n",
       "\n",
       "    .dataframe tbody tr th {\n",
       "        vertical-align: top;\n",
       "    }\n",
       "\n",
       "    .dataframe thead th {\n",
       "        text-align: right;\n",
       "    }\n",
       "</style>\n",
       "<table border=\"1\" class=\"dataframe\">\n",
       "  <thead>\n",
       "    <tr style=\"text-align: right;\">\n",
       "      <th></th>\n",
       "      <th>Emotions</th>\n",
       "      <th>Clean_text</th>\n",
       "      <th>text</th>\n",
       "    </tr>\n",
       "  </thead>\n",
       "  <tbody>\n",
       "    <tr>\n",
       "      <th>0</th>\n",
       "      <td>disgust</td>\n",
       "      <td>▁kya ▁kya ▁bhar ▁ke ▁rakha ▁hai ▁indravadan ▁n...</td>\n",
       "      <td>[▁kya, ▁kya, ▁bhar, ▁ke, ▁rakha, ▁hai, ▁indrav...</td>\n",
       "    </tr>\n",
       "    <tr>\n",
       "      <th>1</th>\n",
       "      <td>contempt</td>\n",
       "      <td>▁ok ▁chalo ▁rosesh ▁chalo ▁bahar</td>\n",
       "      <td>[▁ok, ▁chalo, ▁rosesh, ▁chalo, ▁bahar]</td>\n",
       "    </tr>\n",
       "  </tbody>\n",
       "</table>\n",
       "</div>"
      ],
      "text/plain": [
       "   Emotions                                         Clean_text  \\\n",
       "0   disgust  ▁kya ▁kya ▁bhar ▁ke ▁rakha ▁hai ▁indravadan ▁n...   \n",
       "1  contempt                   ▁ok ▁chalo ▁rosesh ▁chalo ▁bahar   \n",
       "\n",
       "                                                text  \n",
       "0  [▁kya, ▁kya, ▁bhar, ▁ke, ▁rakha, ▁hai, ▁indrav...  \n",
       "1             [▁ok, ▁chalo, ▁rosesh, ▁chalo, ▁bahar]  "
      ]
     },
     "execution_count": 98,
     "metadata": {},
     "output_type": "execute_result"
    }
   ],
   "source": [
    "train.head(2)"
   ]
  },
  {
   "cell_type": "code",
   "execution_count": 99,
   "id": "30c89ecd-8397-4eeb-b182-8a32e9fcc720",
   "metadata": {},
   "outputs": [],
   "source": [
    "Y_train = train[\"Emotions\"]"
   ]
  },
  {
   "cell_type": "code",
   "execution_count": 100,
   "id": "b1b353c3-bfc5-4c93-96ef-668ac8108814",
   "metadata": {},
   "outputs": [],
   "source": [
    "X_val = validation[\"text\"]"
   ]
  },
  {
   "cell_type": "code",
   "execution_count": 101,
   "id": "2c3d9131-9651-4d21-95db-4e91f1cd0be7",
   "metadata": {},
   "outputs": [],
   "source": [
    "Y_val = validation[\"Emotions\"]"
   ]
  },
  {
   "cell_type": "code",
   "execution_count": 102,
   "id": "4e940def-fc44-4432-8275-7266abbba23f",
   "metadata": {
    "scrolled": true
   },
   "outputs": [],
   "source": [
    "#Y_val"
   ]
  },
  {
   "cell_type": "markdown",
   "id": "9842a504-38ef-4139-8e2f-f0a0551592a2",
   "metadata": {},
   "source": [
    "# Generating Word2Vec Model"
   ]
  },
  {
   "cell_type": "code",
   "execution_count": 103,
   "id": "cef9c86c-953c-45c4-bcca-07dc852c1267",
   "metadata": {},
   "outputs": [],
   "source": [
    "from gensim.models import Word2Vec\n",
    "\n",
    "# Skip-gram model. Below parameters have been selected after doing cross validation \n",
    "size_dim = 100 # Default number of dimensions of the embeddings. So no need to add separatley\n",
    "window = 3 #Maximum distance between a target word and words around the target word\n",
    "min_count = 5 #Minimum count of words considered while training the model, words with lesser occurence will be ignored\n",
    "sg = 1 #for skip gram model = 1 and for  CBOW =0\n",
    "emotion_processed = pd.Series(concatenated_df['text']).values\n",
    "\n",
    "# Train the Word2Vec Model\n",
    "w2v_model = Word2Vec(emotion_processed,vector_size=100, min_count = min_count, workers = 4, window = window, sg = sg)"
   ]
  },
  {
   "cell_type": "code",
   "execution_count": 104,
   "id": "1b7f96d6-45d1-4fda-b75e-b8b9c8a2a649",
   "metadata": {
    "scrolled": true
   },
   "outputs": [],
   "source": [
    "#w2v_model.wv[\"hahaha\"]"
   ]
  },
  {
   "cell_type": "code",
   "execution_count": 105,
   "id": "c83edd49-25a9-456e-af69-fab3d055a4b0",
   "metadata": {
    "scrolled": true
   },
   "outputs": [],
   "source": [
    "#w2v_model.wv['rosesh']"
   ]
  },
  {
   "cell_type": "code",
   "execution_count": 106,
   "id": "397f6fa9-6dc9-40ff-b77c-90a6ee1a0e9f",
   "metadata": {
    "scrolled": true
   },
   "outputs": [],
   "source": [
    "#w2v_model.wv['kya']"
   ]
  },
  {
   "cell_type": "code",
   "execution_count": 107,
   "id": "4df04c79-0a13-4032-ab7a-6ed8ca4eaf0f",
   "metadata": {},
   "outputs": [],
   "source": [
    "#X_train"
   ]
  },
  {
   "cell_type": "code",
   "execution_count": 108,
   "id": "0b359338-78cf-4d32-8d39-92c8c186cb87",
   "metadata": {},
   "outputs": [
    {
     "name": "stderr",
     "output_type": "stream",
     "text": [
      "/home/sysadm/.local/lib/python3.10/site-packages/numpy/core/fromnumeric.py:3464: RuntimeWarning: Mean of empty slice.\n",
      "  return _methods._mean(a, axis=axis, dtype=dtype,\n",
      "/home/sysadm/.local/lib/python3.10/site-packages/numpy/core/_methods.py:192: RuntimeWarning: invalid value encountered in scalar divide\n",
      "  ret = ret.dtype.type(ret / rcount)\n"
     ]
    }
   ],
   "source": [
    "import os\n",
    "import pandas as pd\n",
    "import numpy as np\n",
    "\n",
    "# Define the output folder\n",
    "OUTPUT_FOLDER = \"/home/sysadm/Downloads/\"\n",
    "\n",
    "# Define the filename for the Word2Vec output\n",
    "word2vec_filename = os.path.join(OUTPUT_FOLDER, 'train_emotion_word2vec.csv')\n",
    "\n",
    "# Convert the series to a DataFrame\n",
    "X_train_df = pd.DataFrame(X_train, columns=['text'])\n",
    "\n",
    "# Write the Word2Vec vectors to the CSV file\n",
    "with open(word2vec_filename, 'w+') as word2vec_file:\n",
    "    for index, row in X_train_df.iterrows():\n",
    "        # Taking the average of vectors in a sentence\n",
    "        model_vector = np.mean(\n",
    "            [w2v_model.wv[token] for token in row['text'] if token in w2v_model.wv.key_to_index],\n",
    "            axis=0\n",
    "        ).tolist()\n",
    "\n",
    "        # Write the header for the file if it's the first line\n",
    "        if index == 0:\n",
    "            header = \",\".join(str(ele) for ele in range(100))  # Assuming 100 dimensions\n",
    "            word2vec_file.write(header)\n",
    "            word2vec_file.write(\"\\n\")\n",
    "\n",
    "        # Check if the line exists; otherwise, it's a vector of zeros\n",
    "        if type(model_vector) is list:\n",
    "            line = \",\".join(str(vector_element) for vector_element in model_vector)\n",
    "        else:\n",
    "            line = \",\".join(str(0) for _ in range(100))  # Assuming 100 dimensions\n",
    "        word2vec_file.write(line)\n",
    "        word2vec_file.write('\\n')\n"
   ]
  },
  {
   "cell_type": "markdown",
   "id": "0d367e32-e12e-41ed-8e24-d7867d4edda4",
   "metadata": {},
   "source": [
    "Model Training\n"
   ]
  },
  {
   "cell_type": "code",
   "execution_count": 109,
   "id": "45e5548f-d578-4472-af3d-4c79d51c5e19",
   "metadata": {},
   "outputs": [],
   "source": [
    "# Load file in which features are stored\n",
    "word2vec_df = pd.read_csv(r\"/home/sysadm/Downloads/train_emotion_word2vec.csv\")\n",
    "word2vec_df=word2vec_df.fillna(0)"
   ]
  },
  {
   "cell_type": "code",
   "execution_count": 110,
   "id": "25c1ba00-3212-4724-a412-d1e5e85f7957",
   "metadata": {},
   "outputs": [
    {
     "data": {
      "text/plain": [
       "8506"
      ]
     },
     "execution_count": 110,
     "metadata": {},
     "output_type": "execute_result"
    }
   ],
   "source": [
    "len(word2vec_df)"
   ]
  },
  {
   "cell_type": "code",
   "execution_count": 111,
   "id": "3f4ebb2b-8b2b-4906-8061-fb00563c231c",
   "metadata": {
    "scrolled": true
   },
   "outputs": [
    {
     "data": {
      "text/html": [
       "<div>\n",
       "<style scoped>\n",
       "    .dataframe tbody tr th:only-of-type {\n",
       "        vertical-align: middle;\n",
       "    }\n",
       "\n",
       "    .dataframe tbody tr th {\n",
       "        vertical-align: top;\n",
       "    }\n",
       "\n",
       "    .dataframe thead th {\n",
       "        text-align: right;\n",
       "    }\n",
       "</style>\n",
       "<table border=\"1\" class=\"dataframe\">\n",
       "  <thead>\n",
       "    <tr style=\"text-align: right;\">\n",
       "      <th></th>\n",
       "      <th>0</th>\n",
       "      <th>1</th>\n",
       "      <th>2</th>\n",
       "      <th>3</th>\n",
       "      <th>4</th>\n",
       "      <th>5</th>\n",
       "      <th>6</th>\n",
       "      <th>7</th>\n",
       "      <th>8</th>\n",
       "      <th>9</th>\n",
       "      <th>...</th>\n",
       "      <th>90</th>\n",
       "      <th>91</th>\n",
       "      <th>92</th>\n",
       "      <th>93</th>\n",
       "      <th>94</th>\n",
       "      <th>95</th>\n",
       "      <th>96</th>\n",
       "      <th>97</th>\n",
       "      <th>98</th>\n",
       "      <th>99</th>\n",
       "    </tr>\n",
       "  </thead>\n",
       "  <tbody>\n",
       "    <tr>\n",
       "      <th>0</th>\n",
       "      <td>-0.075433</td>\n",
       "      <td>0.108191</td>\n",
       "      <td>-0.092560</td>\n",
       "      <td>0.040492</td>\n",
       "      <td>0.003268</td>\n",
       "      <td>-0.258610</td>\n",
       "      <td>0.016689</td>\n",
       "      <td>0.451333</td>\n",
       "      <td>-0.097688</td>\n",
       "      <td>-0.026941</td>\n",
       "      <td>...</td>\n",
       "      <td>0.227304</td>\n",
       "      <td>0.058626</td>\n",
       "      <td>0.138928</td>\n",
       "      <td>0.129568</td>\n",
       "      <td>0.305018</td>\n",
       "      <td>0.072766</td>\n",
       "      <td>-0.010248</td>\n",
       "      <td>-0.118895</td>\n",
       "      <td>-0.022385</td>\n",
       "      <td>-0.050178</td>\n",
       "    </tr>\n",
       "    <tr>\n",
       "      <th>1</th>\n",
       "      <td>-0.133549</td>\n",
       "      <td>0.028290</td>\n",
       "      <td>-0.033226</td>\n",
       "      <td>-0.043836</td>\n",
       "      <td>-0.121718</td>\n",
       "      <td>-0.187025</td>\n",
       "      <td>0.027070</td>\n",
       "      <td>0.286467</td>\n",
       "      <td>-0.162144</td>\n",
       "      <td>0.101765</td>\n",
       "      <td>...</td>\n",
       "      <td>0.183369</td>\n",
       "      <td>0.079377</td>\n",
       "      <td>0.180826</td>\n",
       "      <td>0.138956</td>\n",
       "      <td>0.360810</td>\n",
       "      <td>0.196751</td>\n",
       "      <td>0.100994</td>\n",
       "      <td>-0.187438</td>\n",
       "      <td>0.015607</td>\n",
       "      <td>-0.215886</td>\n",
       "    </tr>\n",
       "    <tr>\n",
       "      <th>2</th>\n",
       "      <td>-0.140711</td>\n",
       "      <td>0.142399</td>\n",
       "      <td>-0.064019</td>\n",
       "      <td>0.034644</td>\n",
       "      <td>0.057126</td>\n",
       "      <td>-0.252663</td>\n",
       "      <td>0.059129</td>\n",
       "      <td>0.414617</td>\n",
       "      <td>-0.124974</td>\n",
       "      <td>-0.095060</td>\n",
       "      <td>...</td>\n",
       "      <td>0.239913</td>\n",
       "      <td>0.049656</td>\n",
       "      <td>0.070419</td>\n",
       "      <td>0.082267</td>\n",
       "      <td>0.289875</td>\n",
       "      <td>0.065371</td>\n",
       "      <td>0.013066</td>\n",
       "      <td>-0.190377</td>\n",
       "      <td>0.036406</td>\n",
       "      <td>-0.076972</td>\n",
       "    </tr>\n",
       "  </tbody>\n",
       "</table>\n",
       "<p>3 rows × 100 columns</p>\n",
       "</div>"
      ],
      "text/plain": [
       "          0         1         2         3         4         5         6  \\\n",
       "0 -0.075433  0.108191 -0.092560  0.040492  0.003268 -0.258610  0.016689   \n",
       "1 -0.133549  0.028290 -0.033226 -0.043836 -0.121718 -0.187025  0.027070   \n",
       "2 -0.140711  0.142399 -0.064019  0.034644  0.057126 -0.252663  0.059129   \n",
       "\n",
       "          7         8         9  ...        90        91        92        93  \\\n",
       "0  0.451333 -0.097688 -0.026941  ...  0.227304  0.058626  0.138928  0.129568   \n",
       "1  0.286467 -0.162144  0.101765  ...  0.183369  0.079377  0.180826  0.138956   \n",
       "2  0.414617 -0.124974 -0.095060  ...  0.239913  0.049656  0.070419  0.082267   \n",
       "\n",
       "         94        95        96        97        98        99  \n",
       "0  0.305018  0.072766 -0.010248 -0.118895 -0.022385 -0.050178  \n",
       "1  0.360810  0.196751  0.100994 -0.187438  0.015607 -0.215886  \n",
       "2  0.289875  0.065371  0.013066 -0.190377  0.036406 -0.076972  \n",
       "\n",
       "[3 rows x 100 columns]"
      ]
     },
     "execution_count": 111,
     "metadata": {},
     "output_type": "execute_result"
    }
   ],
   "source": [
    "# This dataframe consist of average of reviews\n",
    "word2vec_df.head(3)"
   ]
  },
  {
   "cell_type": "code",
   "execution_count": 112,
   "id": "d5fb5470-97f3-4702-bfce-a86ae0111a45",
   "metadata": {
    "scrolled": true
   },
   "outputs": [
    {
     "name": "stdout",
     "output_type": "stream",
     "text": [
      "   Emotions\n",
      "0   disgust\n",
      "1  contempt\n"
     ]
    }
   ],
   "source": [
    "# Create a DataFrame from the 'Emotions' data\n",
    "Y_train = pd.DataFrame(Y_train, columns=['Emotions'])\n",
    "\n",
    "# Display the DataFrame\n",
    "print(Y_train.head(2))"
   ]
  },
  {
   "cell_type": "code",
   "execution_count": 113,
   "id": "d88a7b15-87bc-44e1-a331-1ca292908b00",
   "metadata": {},
   "outputs": [
    {
     "name": "stdout",
     "output_type": "stream",
     "text": [
      "  Emotions\n",
      "0  neutral\n",
      "1  neutral\n"
     ]
    }
   ],
   "source": [
    "# Create a DataFrame from the 'Emotions' data\n",
    "Y_val = pd.DataFrame(Y_val, columns=['Emotions'])\n",
    "\n",
    "# Display the DataFrame\n",
    "print(Y_val.head(2))"
   ]
  },
  {
   "cell_type": "markdown",
   "id": "3c1ad78f-8d0f-4f53-a20d-8c7fb5975739",
   "metadata": {},
   "source": [
    "# Fit the random Forest Classifier"
   ]
  },
  {
   "cell_type": "code",
   "execution_count": 114,
   "id": "53adf184-5d23-40d2-aa07-28c1029ac132",
   "metadata": {
    "scrolled": true
   },
   "outputs": [
    {
     "name": "stdout",
     "output_type": "stream",
     "text": [
      "Time taken to fit the model with word2vec vectors: 9.864168643951416\n"
     ]
    }
   ],
   "source": [
    "import time\n",
    "from sklearn.ensemble import RandomForestClassifier\n",
    "\n",
    "# Initialize the model\n",
    "clf_decision_word2vec = RandomForestClassifier(\n",
    "    n_estimators=80,\n",
    "    min_samples_split=2,\n",
    "    min_samples_leaf=2,\n",
    "    max_depth=12,\n",
    "    criterion='entropy',\n",
    "    bootstrap=True,\n",
    "    class_weight='balanced'\n",
    ") \n",
    "\n",
    "start_time = time.time()\n",
    "\n",
    "# Fit the model\n",
    "clf_decision_word2vec.fit(word2vec_df, Y_train['Emotions'])\n",
    "print(\"Time taken to fit the model with word2vec vectors: \" + str(time.time() - start_time))\n"
   ]
  },
  {
   "cell_type": "markdown",
   "id": "54ff5477-b238-4d6a-9b9e-8468e094a6b4",
   "metadata": {},
   "source": [
    "Performance on Train Set\n"
   ]
  },
  {
   "cell_type": "code",
   "execution_count": 115,
   "id": "9da6b0d9-3ad5-44ff-b056-ca1be299f77d",
   "metadata": {},
   "outputs": [],
   "source": [
    "X_train_df = pd.DataFrame(X_train, columns=['text'])\n"
   ]
  },
  {
   "cell_type": "code",
   "execution_count": 116,
   "id": "89ef81da-5495-4104-8dc4-bc8920749f97",
   "metadata": {},
   "outputs": [],
   "source": [
    "X_val_df = pd.DataFrame(X_val, columns=['text'])\n"
   ]
  },
  {
   "cell_type": "code",
   "execution_count": 117,
   "id": "94a8018e-ee17-40fa-b03d-a9ab1b5b4d35",
   "metadata": {},
   "outputs": [
    {
     "data": {
      "text/plain": [
       "<gensim.models.word2vec.Word2Vec at 0x7fa093147160>"
      ]
     },
     "execution_count": 117,
     "metadata": {},
     "output_type": "execute_result"
    }
   ],
   "source": [
    "w2v_model"
   ]
  },
  {
   "cell_type": "code",
   "execution_count": 118,
   "id": "96d40179-32da-4bec-8ce2-e6d0e9ccb58f",
   "metadata": {
    "scrolled": true
   },
   "outputs": [
    {
     "name": "stderr",
     "output_type": "stream",
     "text": [
      "/home/sysadm/.local/lib/python3.10/site-packages/numpy/core/fromnumeric.py:3464: RuntimeWarning: Mean of empty slice.\n",
      "  return _methods._mean(a, axis=axis, dtype=dtype,\n",
      "/home/sysadm/.local/lib/python3.10/site-packages/numpy/core/_methods.py:192: RuntimeWarning: invalid value encountered in scalar divide\n",
      "  ret = ret.dtype.type(ret / rcount)\n",
      "/home/sysadm/.local/lib/python3.10/site-packages/sklearn/base.py:464: UserWarning: X does not have valid feature names, but RandomForestClassifier was fitted with feature names\n",
      "  warnings.warn(\n"
     ]
    },
    {
     "name": "stdout",
     "output_type": "stream",
     "text": [
      "              precision    recall  f1-score   support\n",
      "\n",
      "       anger       0.89      0.96      0.93       819\n",
      "    contempt       0.69      0.98      0.81       542\n",
      "     disgust       0.72      0.98      0.83       127\n",
      "        fear       0.88      0.96      0.92       514\n",
      "         joy       0.91      0.92      0.91      1596\n",
      "     neutral       0.99      0.84      0.91      3909\n",
      "     sadness       0.85      0.96      0.90       558\n",
      "    surprise       0.73      0.94      0.82       441\n",
      "\n",
      "    accuracy                           0.90      8506\n",
      "   macro avg       0.83      0.94      0.88      8506\n",
      "weighted avg       0.91      0.90      0.90      8506\n",
      "\n"
     ]
    }
   ],
   "source": [
    "from sklearn.metrics import classification_report\n",
    "from sklearn.metrics import confusion_matrix\n",
    "\n",
    "train_features = []\n",
    "\n",
    "for index, row in X_train_df.iterrows():\n",
    "    \n",
    "    vector = np.mean([w2v_model.wv[token] for token in row['text'] if token in w2v_model.wv.key_to_index], axis=0)\n",
    "    \n",
    "    if type(vector) is np.ndarray:\n",
    "        train_features.append(vector)\n",
    "    else:\n",
    "        train_features.append(np.array([0 for i in range(100)]))\n",
    "        \n",
    "train_predictions = clf_decision_word2vec.predict(train_features)\n",
    "\n",
    "print(classification_report(Y_train['Emotions'],train_predictions))"
   ]
  },
  {
   "cell_type": "code",
   "execution_count": 119,
   "id": "e44babb2-c5ac-40d3-afeb-b80815de4c2f",
   "metadata": {},
   "outputs": [],
   "source": [
    "import seaborn as sns"
   ]
  },
  {
   "cell_type": "code",
   "execution_count": 120,
   "id": "f9b1e4e7-aed3-495a-b6e3-5975e1366dc6",
   "metadata": {},
   "outputs": [
    {
     "data": {
      "image/png": "[encoded data removed]",
      "text/plain": [
       "<Figure size 500x400 with 2 Axes>"
      ]
     },
     "metadata": {},
     "output_type": "display_data"
    }
   ],
   "source": [
    "cm = confusion_matrix(Y_train['Emotions'],train_predictions)\n",
    "cm_df = pd.DataFrame(cm,\n",
    "                     index = ['anger','contempt','disgust',\"fear\",\"joy\",\"neutral\",\"sadness\",\"surprise\"], \n",
    "                     columns = ['anger','contempt','disgust',\"fear\",\"joy\",\"neutral\",\"sadness\",\"surprise\"])\n",
    "#Plotting the confusion matrix\n",
    "plt.figure(figsize=(5,4))\n",
    "sns.heatmap(cm_df, annot=True,fmt='g')\n",
    "plt.title('Confusion Matrix')\n",
    "plt.ylabel('Actal Values')\n",
    "plt.xlabel('Predicted Values')\n",
    "plt.show()"
   ]
  },
  {
   "cell_type": "markdown",
   "id": "9103d002-b7f6-4c28-bbac-fddccbb599cd",
   "metadata": {},
   "source": [
    "Performance on Validation Set\n"
   ]
  },
  {
   "cell_type": "code",
   "execution_count": 121,
   "id": "a6c1599b-d155-48b5-a677-b59949fbe8db",
   "metadata": {
    "scrolled": true
   },
   "outputs": [
    {
     "name": "stdout",
     "output_type": "stream",
     "text": [
      "              precision    recall  f1-score   support\n",
      "\n",
      "       anger       0.14      0.10      0.12       118\n",
      "    contempt       0.12      0.27      0.17        74\n",
      "     disgust       0.22      0.10      0.13        21\n",
      "        fear       0.13      0.06      0.08        88\n",
      "         joy       0.24      0.23      0.24       228\n",
      "     neutral       0.51      0.55      0.53       633\n",
      "     sadness       0.17      0.13      0.15       126\n",
      "    surprise       0.30      0.26      0.28        66\n",
      "\n",
      "    accuracy                           0.35      1354\n",
      "   macro avg       0.23      0.21      0.21      1354\n",
      "weighted avg       0.34      0.35      0.34      1354\n",
      "\n"
     ]
    },
    {
     "name": "stderr",
     "output_type": "stream",
     "text": [
      "/home/sysadm/.local/lib/python3.10/site-packages/numpy/core/fromnumeric.py:3464: RuntimeWarning: Mean of empty slice.\n",
      "  return _methods._mean(a, axis=axis, dtype=dtype,\n",
      "/home/sysadm/.local/lib/python3.10/site-packages/numpy/core/_methods.py:192: RuntimeWarning: invalid value encountered in scalar divide\n",
      "  ret = ret.dtype.type(ret / rcount)\n",
      "/home/sysadm/.local/lib/python3.10/site-packages/sklearn/base.py:464: UserWarning: X does not have valid feature names, but RandomForestClassifier was fitted with feature names\n",
      "  warnings.warn(\n"
     ]
    }
   ],
   "source": [
    "from sklearn.metrics import classification_report\n",
    "from sklearn.metrics import confusion_matrix\n",
    "\n",
    "val_features = []\n",
    "\n",
    "for index, row in X_val_df.iterrows():\n",
    "    \n",
    "    vector = np.mean([w2v_model.wv[token] for token in row['text'] if token in w2v_model.wv.key_to_index], axis=0)\n",
    "    \n",
    "    if type(vector) is np.ndarray:\n",
    "        val_features.append(vector)\n",
    "    else:\n",
    "        val_features.append(np.array([0 for i in range(100)]))\n",
    "        \n",
    "val_predictions = clf_decision_word2vec.predict(val_features)\n",
    "\n",
    "print(classification_report(Y_val['Emotions'],val_predictions))"
   ]
  },
  {
   "cell_type": "code",
   "execution_count": 122,
   "id": "4ea3905d-3bcf-4c1f-95c1-885bb7a41f29",
   "metadata": {},
   "outputs": [
    {
     "name": "stdout",
     "output_type": "stream",
     "text": [
      "Confusion Matrix:\n",
      "[[ 12  20   0   4  23  50   7   2]\n",
      " [  4  20   2   0  13  28   6   1]\n",
      " [  2   4   2   0   6   5   2   0]\n",
      " [  9   5   0   5   9  52   7   1]\n",
      " [ 11  33   1   6  53  93  20  11]\n",
      " [ 40  68   3  17 101 345  37  22]\n",
      " [  5  14   1   4  11  71  17   3]\n",
      " [  2   2   0   3   5  34   3  17]]\n"
     ]
    }
   ],
   "source": [
    "# Print the confusion matrix\n",
    "print(\"Confusion Matrix:\")\n",
    "print(confusion_matrix(Y_val['Emotions'], val_predictions))"
   ]
  },
  {
   "cell_type": "code",
   "execution_count": 123,
   "id": "1b5b3f2e-b831-49aa-af25-54a8da5248bd",
   "metadata": {},
   "outputs": [
    {
     "data": {
      "image/png": "[encoded data removed]",
      "text/plain": [
       "<Figure size 500x400 with 2 Axes>"
      ]
     },
     "metadata": {},
     "output_type": "display_data"
    }
   ],
   "source": [
    "cm = confusion_matrix(Y_val['Emotions'],val_predictions)\n",
    "cm_df = pd.DataFrame(cm,\n",
    "                     index = ['anger','contempt','disgust',\"fear\",\"joy\",\"neutral\",\"sadness\",\"surprise\"], \n",
    "                     columns = ['anger','contempt','disgust',\"fear\",\"joy\",\"neutral\",\"sadness\",\"surprise\"])\n",
    "#Plotting the confusion matrix\n",
    "plt.figure(figsize=(5,4))\n",
    "sns.heatmap(cm_df, annot=True,fmt='g')\n",
    "plt.title('Confusion Matrix')\n",
    "plt.ylabel('Actal Values')\n",
    "plt.xlabel('Predicted Values')\n",
    "plt.show()"
   ]
  },
  {
   "cell_type": "markdown",
   "id": "e1f48c06-a92f-4cb6-8926-e907388ce516",
   "metadata": {},
   "source": [
    "# KNN Model"
   ]
  },
  {
   "cell_type": "code",
   "execution_count": 124,
   "id": "f206d6ab-2e36-4ad1-b594-dbb3318a9f43",
   "metadata": {},
   "outputs": [],
   "source": [
    "from sklearn.preprocessing import StandardScaler\n"
   ]
  },
  {
   "cell_type": "code",
   "execution_count": 134,
   "id": "375c07a3",
   "metadata": {
    "scrolled": true
   },
   "outputs": [
    {
     "name": "stdout",
     "output_type": "stream",
     "text": [
      "15\n",
      "Time taken to fit the KNN model with word2vec vectors: 0.010610818862915039\n"
     ]
    }
   ],
   "source": [
    "from sklearn.neighbors import KNeighborsClassifier\n",
    "from sklearn.model_selection import cross_val_score\n",
    "\n",
    "# Define the range of k values to try\n",
    "k_values = range(1, 17,2)\n",
    "\n",
    "# Standardize the features\n",
    "scaler = StandardScaler()\n",
    "word2vec_df_scaled = scaler.fit_transform(word2vec_df)\n",
    "\n",
    "# Initialize lists to store mean accuracy for each value of k\n",
    "mean_accuracy_values = []\n",
    "\n",
    "# Iterate over each value of k\n",
    "for k in k_values:\n",
    "    # Initialize the KNN classifier\n",
    "    clf_knn = KNeighborsClassifier(n_neighbors=k)\n",
    "    \n",
    "    # Perform cross-validation and store the mean accuracy\n",
    "    mean_accuracy = cross_val_score(clf_knn, word2vec_df_scaled, Y_train['Emotions'], cv=5, scoring='accuracy').mean()\n",
    "    mean_accuracy_values.append(mean_accuracy)\n",
    "\n",
    "# Identify the best value of k with the highest mean accuracy\n",
    "best_k = k_values[mean_accuracy_values.index(max(mean_accuracy_values))]\n",
    "print(best_k)\n",
    "# Initialize the KNN classifier with the best k\n",
    "clf_knn = KNeighborsClassifier(n_neighbors=best_k)\n",
    "\n",
    "start_time = time.time()\n",
    "\n",
    "# Fit the KNN model with the best k value\n",
    "clf_knn.fit(word2vec_df_scaled, Y_train['Emotions'])\n",
    "print(\"Time taken to fit the KNN model with word2vec vectors: \" + str(time.time() - start_time))"
   ]
  },
  {
   "cell_type": "code",
   "execution_count": 135,
   "id": "fc1937c7-7491-4235-a9c2-9928df7c67cf",
   "metadata": {},
   "outputs": [
    {
     "data": {
      "image/png": "[encoded data removed]",
      "text/plain": [
       "<Figure size 640x480 with 1 Axes>"
      ]
     },
     "metadata": {},
     "output_type": "display_data"
    }
   ],
   "source": [
    "import matplotlib.pyplot as plt\n",
    "\n",
    "# Plot the relationship between k and accuracy\n",
    "plt.plot(k_values, mean_accuracy_values, marker='o')\n",
    "plt.title('K vs. Accuracy')\n",
    "plt.xlabel('Number of Neighbors (K)')\n",
    "plt.ylabel('Accuracy')\n",
    "plt.show()\n"
   ]
  },
  {
   "cell_type": "code",
   "execution_count": 136,
   "id": "1934b5d3-279e-406f-b295-dcb44f7e1677",
   "metadata": {
    "scrolled": true
   },
   "outputs": [
    {
     "name": "stdout",
     "output_type": "stream",
     "text": [
      "Time taken to fit the KNN model with word2vec vectors: 0.011705160140991211\n",
      "              precision    recall  f1-score   support\n",
      "\n",
      "       anger       0.09      0.78      0.16       118\n",
      "    contempt       0.00      0.00      0.00        74\n",
      "     disgust       0.00      0.00      0.00        21\n",
      "        fear       0.00      0.00      0.00        88\n",
      "         joy       0.14      0.07      0.09       228\n",
      "     neutral       0.40      0.12      0.19       633\n",
      "     sadness       0.00      0.00      0.00       126\n",
      "    surprise       0.00      0.00      0.00        66\n",
      "\n",
      "    accuracy                           0.14      1354\n",
      "   macro avg       0.08      0.12      0.06      1354\n",
      "weighted avg       0.22      0.14      0.12      1354\n",
      "\n"
     ]
    },
    {
     "name": "stderr",
     "output_type": "stream",
     "text": [
      "/home/sysadm/.local/lib/python3.10/site-packages/numpy/core/fromnumeric.py:3464: RuntimeWarning: Mean of empty slice.\n",
      "  return _methods._mean(a, axis=axis, dtype=dtype,\n",
      "/home/sysadm/.local/lib/python3.10/site-packages/numpy/core/_methods.py:192: RuntimeWarning: invalid value encountered in scalar divide\n",
      "  ret = ret.dtype.type(ret / rcount)\n",
      "/home/sysadm/.local/lib/python3.10/site-packages/sklearn/metrics/_classification.py:1469: UndefinedMetricWarning: Precision and F-score are ill-defined and being set to 0.0 in labels with no predicted samples. Use `zero_division` parameter to control this behavior.\n",
      "  _warn_prf(average, modifier, msg_start, len(result))\n",
      "/home/sysadm/.local/lib/python3.10/site-packages/sklearn/metrics/_classification.py:1469: UndefinedMetricWarning: Precision and F-score are ill-defined and being set to 0.0 in labels with no predicted samples. Use `zero_division` parameter to control this behavior.\n",
      "  _warn_prf(average, modifier, msg_start, len(result))\n",
      "/home/sysadm/.local/lib/python3.10/site-packages/sklearn/metrics/_classification.py:1469: UndefinedMetricWarning: Precision and F-score are ill-defined and being set to 0.0 in labels with no predicted samples. Use `zero_division` parameter to control this behavior.\n",
      "  _warn_prf(average, modifier, msg_start, len(result))\n"
     ]
    }
   ],
   "source": [
    "from sklearn.neighbors import KNeighborsClassifier\n",
    "from sklearn.preprocessing import StandardScaler\n",
    "\n",
    "# Standardize the features\n",
    "scaler = StandardScaler()\n",
    "word2vec_df_scaled = scaler.fit_transform(word2vec_df)\n",
    "\n",
    "# Initialize the KNN classifier\n",
    "clf_knn = KNeighborsClassifier(n_neighbors=6)  # You can adjust the number of neighbors\n",
    "\n",
    "start_time = time.time()\n",
    "\n",
    "# Fit the KNN model\n",
    "clf_knn.fit(word2vec_df_scaled, Y_train['Emotions'])\n",
    "print(\"Time taken to fit the KNN model with word2vec vectors: \" + str(time.time() - start_time))\n",
    "\n",
    "from sklearn.metrics import classification_report\n",
    "\n",
    "# Calculate the mean of the word2vec vectors for each row in the validation set\n",
    "val_features = []\n",
    "for index, row in X_val_df.iterrows():\n",
    "    vector = np.mean([w2v_model.wv[token] for token in row['text'] if token in w2v_model.wv.key_to_index], axis=0)\n",
    "    if type(vector) is np.ndarray:\n",
    "        val_features.append(vector)\n",
    "    else:\n",
    "        val_features.append(np.array([0 for i in range(100)]))\n",
    "\n",
    "# Make predictions on the validation set\n",
    "val_predictions = clf_knn.predict(val_features)\n",
    "\n",
    "# Print the classification report for the validation set\n",
    "print(classification_report(Y_val['Emotions'], val_predictions))\n"
   ]
  },
  {
   "cell_type": "code",
   "execution_count": 137,
   "id": "aac895fe-b508-4035-8423-425208370b90",
   "metadata": {},
   "outputs": [
    {
     "name": "stdout",
     "output_type": "stream",
     "text": [
      "Confusion Matrix:\n",
      "[[ 92   1   0   0   8  17   0   0]\n",
      " [ 61   0   0   0   2  11   0   0]\n",
      " [ 13   0   0   0   2   6   0   0]\n",
      " [ 66   1   0   0  11  10   0   0]\n",
      " [166   0   0   1  16  45   0   0]\n",
      " [494   1   0   2  57  79   0   0]\n",
      " [ 95   0   0   1  14  16   0   0]\n",
      " [ 46   0   0   1   6  13   0   0]]\n"
     ]
    }
   ],
   "source": [
    "# Print the confusion matrix\n",
    "print(\"Confusion Matrix:\")\n",
    "print(confusion_matrix(Y_val['Emotions'], val_predictions))"
   ]
  },
  {
   "cell_type": "markdown",
   "id": "af8694e0-431f-47b3-90c8-5d5985551259",
   "metadata": {},
   "source": [
    "# Naive bayes"
   ]
  },
  {
   "cell_type": "code",
   "execution_count": 138,
   "id": "a48f9224-12d5-4b1b-999a-9b968fb49b0b",
   "metadata": {
    "scrolled": true
   },
   "outputs": [
    {
     "name": "stdout",
     "output_type": "stream",
     "text": [
      "Time taken to fit the Naive Bayes model with word2vec vectors: 0.014761209487915039\n",
      "              precision    recall  f1-score   support\n",
      "\n",
      "       anger       0.00      0.00      0.00       118\n",
      "    contempt       0.05      1.00      0.10        74\n",
      "     disgust       0.00      0.00      0.00        21\n",
      "        fear       0.00      0.00      0.00        88\n",
      "         joy       0.00      0.00      0.00       228\n",
      "     neutral       0.00      0.00      0.00       633\n",
      "     sadness       0.00      0.00      0.00       126\n",
      "    surprise       0.00      0.00      0.00        66\n",
      "\n",
      "    accuracy                           0.05      1354\n",
      "   macro avg       0.01      0.12      0.01      1354\n",
      "weighted avg       0.00      0.05      0.01      1354\n",
      "\n",
      "Confusion Matrix:\n",
      "[[  0 118   0   0   0   0   0   0]\n",
      " [  0  74   0   0   0   0   0   0]\n",
      " [  0  21   0   0   0   0   0   0]\n",
      " [  0  88   0   0   0   0   0   0]\n",
      " [  0 228   0   0   0   0   0   0]\n",
      " [  0 633   0   0   0   0   0   0]\n",
      " [  0 126   0   0   0   0   0   0]\n",
      " [  0  66   0   0   0   0   0   0]]\n"
     ]
    },
    {
     "name": "stderr",
     "output_type": "stream",
     "text": [
      "/home/sysadm/.local/lib/python3.10/site-packages/numpy/core/fromnumeric.py:3464: RuntimeWarning: Mean of empty slice.\n",
      "  return _methods._mean(a, axis=axis, dtype=dtype,\n",
      "/home/sysadm/.local/lib/python3.10/site-packages/numpy/core/_methods.py:192: RuntimeWarning: invalid value encountered in scalar divide\n",
      "  ret = ret.dtype.type(ret / rcount)\n",
      "/home/sysadm/.local/lib/python3.10/site-packages/sklearn/metrics/_classification.py:1469: UndefinedMetricWarning: Precision and F-score are ill-defined and being set to 0.0 in labels with no predicted samples. Use `zero_division` parameter to control this behavior.\n",
      "  _warn_prf(average, modifier, msg_start, len(result))\n",
      "/home/sysadm/.local/lib/python3.10/site-packages/sklearn/metrics/_classification.py:1469: UndefinedMetricWarning: Precision and F-score are ill-defined and being set to 0.0 in labels with no predicted samples. Use `zero_division` parameter to control this behavior.\n",
      "  _warn_prf(average, modifier, msg_start, len(result))\n",
      "/home/sysadm/.local/lib/python3.10/site-packages/sklearn/metrics/_classification.py:1469: UndefinedMetricWarning: Precision and F-score are ill-defined and being set to 0.0 in labels with no predicted samples. Use `zero_division` parameter to control this behavior.\n",
      "  _warn_prf(average, modifier, msg_start, len(result))\n"
     ]
    }
   ],
   "source": [
    "from sklearn.naive_bayes import GaussianNB\n",
    "from sklearn.preprocessing import StandardScaler\n",
    "\n",
    "# Standardize the features\n",
    "scaler = StandardScaler()\n",
    "word2vec_df_scaled = scaler.fit_transform(word2vec_df)\n",
    "\n",
    "# Initialize the Naive Bayes classifier\n",
    "clf_bayes = GaussianNB()\n",
    "\n",
    "start_time = time.time()\n",
    "\n",
    "# Fit the Naive Bayes model\n",
    "clf_bayes.fit(word2vec_df_scaled, Y_train['Emotions'])\n",
    "print(\"Time taken to fit the Naive Bayes model with word2vec vectors: \" + str(time.time() - start_time))\n",
    "\n",
    "from sklearn.metrics import classification_report\n",
    "\n",
    "# Calculate the mean of the word2vec vectors for each row in the validation set\n",
    "val_features = []\n",
    "for index, row in X_val_df.iterrows():\n",
    "    vector = np.mean([w2v_model.wv[token] for token in row['text'] if token in w2v_model.wv.key_to_index], axis=0)\n",
    "    if type(vector) is np.ndarray:\n",
    "        val_features.append(vector)\n",
    "    else:\n",
    "        val_features.append(np.array([0 for i in range(100)]))\n",
    "\n",
    "# Make predictions on the validation set\n",
    "val_predictions = clf_bayes.predict(val_features)\n",
    "\n",
    "# Print the classification report for the validation set\n",
    "print(classification_report(Y_val['Emotions'], val_predictions))\n",
    "# Print the confusion matrix\n",
    "print(\"Confusion Matrix:\")\n",
    "print(confusion_matrix(Y_val['Emotions'], val_predictions))"
   ]
  },
  {
   "cell_type": "markdown",
   "id": "5ad0d35b-a6d2-4ea0-8148-fafbe212307e",
   "metadata": {},
   "source": [
    "# SVM Kernal"
   ]
  },
  {
   "cell_type": "code",
   "execution_count": 139,
   "id": "9fa9ac28-4fb7-4f0a-befd-f2699d3d37ed",
   "metadata": {
    "scrolled": true
   },
   "outputs": [
    {
     "name": "stdout",
     "output_type": "stream",
     "text": [
      "Time taken to fit the SVM model with a linear kernel: 23.85185480117798\n"
     ]
    },
    {
     "name": "stderr",
     "output_type": "stream",
     "text": [
      "/home/sysadm/.local/lib/python3.10/site-packages/numpy/core/fromnumeric.py:3464: RuntimeWarning: Mean of empty slice.\n",
      "  return _methods._mean(a, axis=axis, dtype=dtype,\n",
      "/home/sysadm/.local/lib/python3.10/site-packages/numpy/core/_methods.py:192: RuntimeWarning: invalid value encountered in scalar divide\n",
      "  ret = ret.dtype.type(ret / rcount)\n"
     ]
    },
    {
     "name": "stdout",
     "output_type": "stream",
     "text": [
      "Classification Report for Linear Kernel SVM:\n",
      "              precision    recall  f1-score   support\n",
      "\n",
      "       anger       0.00      0.00      0.00       118\n",
      "    contempt       0.00      0.00      0.00        74\n",
      "     disgust       0.00      0.00      0.00        21\n",
      "        fear       0.00      0.00      0.00        88\n",
      "         joy       0.00      0.00      0.00       228\n",
      "     neutral       0.47      1.00      0.64       633\n",
      "     sadness       0.00      0.00      0.00       126\n",
      "    surprise       0.00      0.00      0.00        66\n",
      "\n",
      "    accuracy                           0.47      1354\n",
      "   macro avg       0.06      0.12      0.08      1354\n",
      "weighted avg       0.22      0.47      0.30      1354\n",
      "\n",
      "Confusion Matrix for Linear Kernel SVM:\n",
      "[[  0   0   0   0   0 118   0   0]\n",
      " [  0   0   0   0   0  74   0   0]\n",
      " [  0   0   0   0   0  21   0   0]\n",
      " [  0   0   0   0   0  88   0   0]\n",
      " [  0   0   0   0   0 228   0   0]\n",
      " [  0   0   0   0   0 633   0   0]\n",
      " [  0   0   0   0   0 126   0   0]\n",
      " [  0   0   0   0   0  66   0   0]]\n"
     ]
    },
    {
     "name": "stderr",
     "output_type": "stream",
     "text": [
      "/home/sysadm/.local/lib/python3.10/site-packages/sklearn/metrics/_classification.py:1469: UndefinedMetricWarning: Precision and F-score are ill-defined and being set to 0.0 in labels with no predicted samples. Use `zero_division` parameter to control this behavior.\n",
      "  _warn_prf(average, modifier, msg_start, len(result))\n",
      "/home/sysadm/.local/lib/python3.10/site-packages/sklearn/metrics/_classification.py:1469: UndefinedMetricWarning: Precision and F-score are ill-defined and being set to 0.0 in labels with no predicted samples. Use `zero_division` parameter to control this behavior.\n",
      "  _warn_prf(average, modifier, msg_start, len(result))\n",
      "/home/sysadm/.local/lib/python3.10/site-packages/sklearn/metrics/_classification.py:1469: UndefinedMetricWarning: Precision and F-score are ill-defined and being set to 0.0 in labels with no predicted samples. Use `zero_division` parameter to control this behavior.\n",
      "  _warn_prf(average, modifier, msg_start, len(result))\n"
     ]
    }
   ],
   "source": [
    "from sklearn.svm import SVC\n",
    "from sklearn.preprocessing import StandardScaler\n",
    "\n",
    "# Standardize the features\n",
    "scaler = StandardScaler()\n",
    "word2vec_df_scaled = scaler.fit_transform(word2vec_df)\n",
    "\n",
    "# Initialize the SVM classifier with a linear kernel\n",
    "clf_svm_linear = SVC(kernel='linear')\n",
    "\n",
    "start_time = time.time()\n",
    "\n",
    "# Fit the SVM model with a linear kernel\n",
    "clf_svm_linear.fit(word2vec_df_scaled, Y_train['Emotions'])\n",
    "print(\"Time taken to fit the SVM model with a linear kernel: \" + str(time.time() - start_time))\n",
    "\n",
    "# Calculate the mean of the word2vec vectors for each row in the validation set\n",
    "val_features = []\n",
    "for index, row in X_val_df.iterrows():\n",
    "    vector = np.mean([w2v_model.wv[token] for token in row['text'] if token in w2v_model.wv.key_to_index], axis=0)\n",
    "    if type(vector) is np.ndarray:\n",
    "        val_features.append(vector)\n",
    "    else:\n",
    "        val_features.append(np.array([0 for i in range(100)]))\n",
    "\n",
    "# Make predictions on the validation set using the linear kernel SVM model\n",
    "val_predictions_linear = clf_svm_linear.predict(val_features)\n",
    "\n",
    "# Print the classification report for the validation set using the linear kernel SVM model\n",
    "print(\"Classification Report for Linear Kernel SVM:\")\n",
    "print(classification_report(Y_val['Emotions'], val_predictions_linear))\n",
    "# Print the confusion matrix for the linear kernel SVM model\n",
    "print(\"Confusion Matrix for Linear Kernel SVM:\")\n",
    "print(confusion_matrix(Y_val['Emotions'], val_predictions_linear))\n",
    "\n"
   ]
  },
  {
   "cell_type": "code",
   "execution_count": null,
   "id": "12995d39-05e6-4f96-bc66-a63046c7e8ab",
   "metadata": {},
   "outputs": [],
   "source": []
  },
  {
   "cell_type": "code",
   "execution_count": 140,
   "id": "9cf0dded-8649-440f-918a-4f2ea82670f0",
   "metadata": {
    "scrolled": true
   },
   "outputs": [
    {
     "name": "stdout",
     "output_type": "stream",
     "text": [
      "Time taken to fit the SVM model with a polynomial kernel: 5.070507049560547\n",
      "Classification Report for Polynomial Kernel SVM:\n",
      "              precision    recall  f1-score   support\n",
      "\n",
      "       anger       0.00      0.00      0.00       118\n",
      "    contempt       0.00      0.00      0.00        74\n",
      "     disgust       0.00      0.00      0.00        21\n",
      "        fear       0.00      0.00      0.00        88\n",
      "         joy       0.00      0.00      0.00       228\n",
      "     neutral       0.47      1.00      0.64       633\n",
      "     sadness       0.00      0.00      0.00       126\n",
      "    surprise       0.00      0.00      0.00        66\n",
      "\n",
      "    accuracy                           0.47      1354\n",
      "   macro avg       0.06      0.12      0.08      1354\n",
      "weighted avg       0.22      0.47      0.30      1354\n",
      "\n",
      "Confusion Matrix for Polynomial Kernel SVM:\n",
      "[[  0   0   0   0   0 118   0   0]\n",
      " [  0   0   0   0   0  74   0   0]\n",
      " [  0   0   0   0   0  21   0   0]\n",
      " [  0   0   0   0   0  88   0   0]\n",
      " [  0   0   0   0   0 228   0   0]\n",
      " [  0   0   0   0   0 633   0   0]\n",
      " [  0   0   0   0   0 126   0   0]\n",
      " [  0   0   0   0   0  66   0   0]]\n"
     ]
    },
    {
     "name": "stderr",
     "output_type": "stream",
     "text": [
      "/home/sysadm/.local/lib/python3.10/site-packages/sklearn/metrics/_classification.py:1469: UndefinedMetricWarning: Precision and F-score are ill-defined and being set to 0.0 in labels with no predicted samples. Use `zero_division` parameter to control this behavior.\n",
      "  _warn_prf(average, modifier, msg_start, len(result))\n",
      "/home/sysadm/.local/lib/python3.10/site-packages/sklearn/metrics/_classification.py:1469: UndefinedMetricWarning: Precision and F-score are ill-defined and being set to 0.0 in labels with no predicted samples. Use `zero_division` parameter to control this behavior.\n",
      "  _warn_prf(average, modifier, msg_start, len(result))\n",
      "/home/sysadm/.local/lib/python3.10/site-packages/sklearn/metrics/_classification.py:1469: UndefinedMetricWarning: Precision and F-score are ill-defined and being set to 0.0 in labels with no predicted samples. Use `zero_division` parameter to control this behavior.\n",
      "  _warn_prf(average, modifier, msg_start, len(result))\n"
     ]
    }
   ],
   "source": [
    "# Initialize the SVM classifier with a polynomial kernel\n",
    "clf_svm_poly = SVC(kernel='poly')\n",
    "\n",
    "start_time = time.time()\n",
    "\n",
    "# Fit the SVM model with a polynomial kernel\n",
    "clf_svm_poly.fit(word2vec_df_scaled, Y_train['Emotions'])\n",
    "print(\"Time taken to fit the SVM model with a polynomial kernel: \" + str(time.time() - start_time))\n",
    "\n",
    "# Make predictions on the validation set using the polynomial kernel SVM model\n",
    "val_predictions_poly = clf_svm_poly.predict(val_features)\n",
    "\n",
    "# Print the classification report for the validation set using the polynomial kernel SVM model\n",
    "print(\"Classification Report for Polynomial Kernel SVM:\")\n",
    "print(classification_report(Y_val['Emotions'], val_predictions_poly))\n",
    "# Print the confusion matrix for the polynomial kernel SVM model\n",
    "print(\"Confusion Matrix for Polynomial Kernel SVM:\")\n",
    "print(confusion_matrix(Y_val['Emotions'], val_predictions_poly))\n"
   ]
  },
  {
   "cell_type": "code",
   "execution_count": 141,
   "id": "50792cc4-89da-4ae9-a06c-454777bdadae",
   "metadata": {
    "scrolled": true
   },
   "outputs": [
    {
     "name": "stdout",
     "output_type": "stream",
     "text": [
      "Time taken to fit the SVM model with an intersection kernel: 3.5148606300354004\n",
      "Classification Report for Intersection Kernel SVM:\n",
      "              precision    recall  f1-score   support\n",
      "\n",
      "       anger       0.00      0.00      0.00       118\n",
      "    contempt       0.00      0.00      0.00        74\n",
      "     disgust       0.00      0.00      0.00        21\n",
      "        fear       0.00      0.00      0.00        88\n",
      "         joy       0.00      0.00      0.00       228\n",
      "     neutral       0.47      1.00      0.64       633\n",
      "     sadness       0.00      0.00      0.00       126\n",
      "    surprise       0.00      0.00      0.00        66\n",
      "\n",
      "    accuracy                           0.47      1354\n",
      "   macro avg       0.06      0.12      0.08      1354\n",
      "weighted avg       0.22      0.47      0.30      1354\n",
      "\n",
      "Confusion Matrix for Intersection Kernel SVM:\n",
      "[[  0   0   0   0   0 118   0   0]\n",
      " [  0   0   0   0   0  74   0   0]\n",
      " [  0   0   0   0   0  21   0   0]\n",
      " [  0   0   0   0   0  88   0   0]\n",
      " [  0   0   0   0   0 228   0   0]\n",
      " [  0   0   0   0   2 631   0   0]\n",
      " [  0   0   0   0   0 126   0   0]\n",
      " [  0   0   0   0   0  66   0   0]]\n"
     ]
    },
    {
     "name": "stderr",
     "output_type": "stream",
     "text": [
      "/home/sysadm/.local/lib/python3.10/site-packages/sklearn/metrics/_classification.py:1469: UndefinedMetricWarning: Precision and F-score are ill-defined and being set to 0.0 in labels with no predicted samples. Use `zero_division` parameter to control this behavior.\n",
      "  _warn_prf(average, modifier, msg_start, len(result))\n",
      "/home/sysadm/.local/lib/python3.10/site-packages/sklearn/metrics/_classification.py:1469: UndefinedMetricWarning: Precision and F-score are ill-defined and being set to 0.0 in labels with no predicted samples. Use `zero_division` parameter to control this behavior.\n",
      "  _warn_prf(average, modifier, msg_start, len(result))\n",
      "/home/sysadm/.local/lib/python3.10/site-packages/sklearn/metrics/_classification.py:1469: UndefinedMetricWarning: Precision and F-score are ill-defined and being set to 0.0 in labels with no predicted samples. Use `zero_division` parameter to control this behavior.\n",
      "  _warn_prf(average, modifier, msg_start, len(result))\n"
     ]
    }
   ],
   "source": [
    "from sklearn.svm import SVC\n",
    "from sklearn.preprocessing import StandardScaler\n",
    "\n",
    "# Standardize the features\n",
    "scaler = StandardScaler()\n",
    "word2vec_df_scaled = scaler.fit_transform(word2vec_df)\n",
    "\n",
    "# Initialize the SVM classifier with an intersection kernel\n",
    "clf_svm_intersection = SVC(kernel='sigmoid')\n",
    "\n",
    "start_time = time.time()\n",
    "\n",
    "# Fit the SVM model with an intersection kernel\n",
    "clf_svm_intersection.fit(word2vec_df_scaled, Y_train['Emotions'])\n",
    "print(\"Time taken to fit the SVM model with an intersection kernel: \" + str(time.time() - start_time))\n",
    "\n",
    "# Make predictions on the validation set using the intersection kernel SVM model\n",
    "val_predictions_intersection = clf_svm_intersection.predict(val_features)\n",
    "\n",
    "# Print the classification report for the validation set using the intersection kernel SVM model\n",
    "print(\"Classification Report for Intersection Kernel SVM:\")\n",
    "print(classification_report(Y_val['Emotions'], val_predictions_intersection))\n",
    "# Print the confusion matrix for the intersection kernel SVM model\n",
    "print(\"Confusion Matrix for Intersection Kernel SVM:\")\n",
    "print(confusion_matrix(Y_val['Emotions'], val_predictions_intersection))\n"
   ]
  },
  {
   "cell_type": "markdown",
   "id": "8c027e8d-e09a-4445-8ab4-0eafedb810d2",
   "metadata": {},
   "source": [
    "# Logistic regression"
   ]
  },
  {
   "cell_type": "code",
   "execution_count": 142,
   "id": "784a3c8f-56c8-48c5-af9e-7b3314831fc6",
   "metadata": {
    "scrolled": true
   },
   "outputs": [
    {
     "name": "stdout",
     "output_type": "stream",
     "text": [
      "Time taken to fit the Logistic Regression model: 0.43450260162353516\n",
      "Classification Report for Logistic Regression:\n",
      "              precision    recall  f1-score   support\n",
      "\n",
      "       anger       0.00      0.00      0.00       118\n",
      "    contempt       0.00      0.00      0.00        74\n",
      "     disgust       0.00      0.00      0.00        21\n",
      "        fear       0.00      0.00      0.00        88\n",
      "         joy       0.00      0.00      0.00       228\n",
      "     neutral       0.47      1.00      0.64       633\n",
      "     sadness       0.00      0.00      0.00       126\n",
      "    surprise       0.00      0.00      0.00        66\n",
      "\n",
      "    accuracy                           0.47      1354\n",
      "   macro avg       0.06      0.12      0.08      1354\n",
      "weighted avg       0.22      0.47      0.30      1354\n",
      "\n",
      "Confusion Matrix for Logistic Regression:\n",
      "[[  0   0   0   0   0 118   0   0]\n",
      " [  0   0   0   0   0  74   0   0]\n",
      " [  0   0   0   0   0  21   0   0]\n",
      " [  0   0   0   0   0  88   0   0]\n",
      " [  0   0   0   0   0 228   0   0]\n",
      " [  0   0   0   0   0 633   0   0]\n",
      " [  0   0   0   0   0 126   0   0]\n",
      " [  0   0   0   0   0  66   0   0]]\n"
     ]
    },
    {
     "name": "stderr",
     "output_type": "stream",
     "text": [
      "/home/sysadm/.local/lib/python3.10/site-packages/sklearn/linear_model/_logistic.py:460: ConvergenceWarning: lbfgs failed to converge (status=1):\n",
      "STOP: TOTAL NO. of ITERATIONS REACHED LIMIT.\n",
      "\n",
      "Increase the number of iterations (max_iter) or scale the data as shown in:\n",
      "    https://scikit-learn.org/stable/modules/preprocessing.html\n",
      "Please also refer to the documentation for alternative solver options:\n",
      "    https://scikit-learn.org/stable/modules/linear_model.html#logistic-regression\n",
      "  n_iter_i = _check_optimize_result(\n",
      "/home/sysadm/.local/lib/python3.10/site-packages/sklearn/metrics/_classification.py:1469: UndefinedMetricWarning: Precision and F-score are ill-defined and being set to 0.0 in labels with no predicted samples. Use `zero_division` parameter to control this behavior.\n",
      "  _warn_prf(average, modifier, msg_start, len(result))\n",
      "/home/sysadm/.local/lib/python3.10/site-packages/sklearn/metrics/_classification.py:1469: UndefinedMetricWarning: Precision and F-score are ill-defined and being set to 0.0 in labels with no predicted samples. Use `zero_division` parameter to control this behavior.\n",
      "  _warn_prf(average, modifier, msg_start, len(result))\n",
      "/home/sysadm/.local/lib/python3.10/site-packages/sklearn/metrics/_classification.py:1469: UndefinedMetricWarning: Precision and F-score are ill-defined and being set to 0.0 in labels with no predicted samples. Use `zero_division` parameter to control this behavior.\n",
      "  _warn_prf(average, modifier, msg_start, len(result))\n"
     ]
    }
   ],
   "source": [
    "from sklearn.linear_model import LogisticRegression\n",
    "from sklearn.preprocessing import StandardScaler\n",
    "\n",
    "# Standardize the features\n",
    "scaler = StandardScaler()\n",
    "word2vec_df_scaled = scaler.fit_transform(word2vec_df)\n",
    "\n",
    "# Initialize the logistic regression classifier\n",
    "clf_logistic = LogisticRegression()\n",
    "\n",
    "start_time = time.time()\n",
    "\n",
    "# Fit the logistic regression model\n",
    "clf_logistic.fit(word2vec_df_scaled, Y_train['Emotions'])\n",
    "print(\"Time taken to fit the Logistic Regression model: \" + str(time.time() - start_time))\n",
    "\n",
    "# Make predictions on the validation set using the logistic regression model\n",
    "val_predictions_logistic = clf_logistic.predict(val_features)\n",
    "\n",
    "# Print the classification report for the validation set using the logistic regression model\n",
    "print(\"Classification Report for Logistic Regression:\")\n",
    "print(classification_report(Y_val['Emotions'], val_predictions_logistic))\n",
    "# Print the confusion matrix for the logistic regression model\n",
    "print(\"Confusion Matrix for Logistic Regression:\")\n",
    "print(confusion_matrix(Y_val['Emotions'], val_predictions_logistic))\n"
   ]
  },
  {
   "cell_type": "code",
   "execution_count": null,
   "id": "37b3d027-5824-4ac9-967d-ff053710f695",
   "metadata": {},
   "outputs": [],
   "source": []
  },
  {
   "cell_type": "code",
   "execution_count": null,
   "id": "6bb89f27-237f-46b8-86d4-5b6fdf115fda",
   "metadata": {},
   "outputs": [],
   "source": []
  },
  {
   "cell_type": "code",
   "execution_count": null,
   "id": "01580daf-a752-4a65-ac8a-be82d00a5786",
   "metadata": {},
   "outputs": [],
   "source": []
  },
  {
   "cell_type": "code",
   "execution_count": null,
   "id": "5a25898e-a5c6-4d7a-a994-2cd1da6cc4f3",
   "metadata": {},
   "outputs": [],
   "source": []
  },
  {
   "cell_type": "code",
   "execution_count": null,
   "id": "13847b25-35ba-42a5-8465-61a2018c45ab",
   "metadata": {},
   "outputs": [],
   "source": []
  }
 ],
 "metadata": {
  "kernelspec": {
   "display_name": "Python 3 (ipykernel)",
   "language": "python",
   "name": "python3"
  },
  "language_info": {
   "codemirror_mode": {
    "name": "ipython",
    "version": 3
   },
   "file_extension": ".py",
   "mimetype": "text/x-python",
   "name": "python",
   "nbconvert_exporter": "python",
   "pygments_lexer": "ipython3",
   "version": "3.10.12"
  }
 },
 "nbformat": 4,
 "nbformat_minor": 5
}
